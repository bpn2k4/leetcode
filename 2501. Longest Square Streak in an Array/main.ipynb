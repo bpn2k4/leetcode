{
  "cells": [
    {
      "cell_type": "code",
      "execution_count": 1,
      "metadata": {},
      "outputs": [],
      "source": [
        "from typing import List\n",
        "\n",
        "\n",
        "class Solution:\n",
        "  def longestSquareStreak(self, nums: List[int]) -> int:\n",
        "    \n",
        "    squares = set([i**2 for i in range(2, 317)])\n",
        "    nums = set(nums)\n",
        "    longest_streak = -1\n",
        "    for num in range(2, 317):\n",
        "      if num in nums:\n",
        "        length = 1\n",
        "        num = num * num\n",
        "        while num in squares and num in nums:\n",
        "          length += 1\n",
        "          num = num * num\n",
        "\n",
        "        longest_streak = max(longest_streak, length)\n",
        "\n",
        "    return longest_streak if longest_streak != 1 else -1"
      ]
    },
    {
      "cell_type": "code",
      "execution_count": 2,
      "metadata": {},
      "outputs": [
        {
          "data": {
            "text/plain": [
              "3"
            ]
          },
          "execution_count": 2,
          "metadata": {},
          "output_type": "execute_result"
        }
      ],
      "source": [
        "nums = [4, 3, 6, 16, 8, 2]\n",
        "Solution().longestSquareStreak(nums=nums)"
      ]
    },
    {
      "cell_type": "code",
      "execution_count": 3,
      "metadata": {},
      "outputs": [
        {
          "data": {
            "text/plain": [
              "-1"
            ]
          },
          "execution_count": 3,
          "metadata": {},
          "output_type": "execute_result"
        }
      ],
      "source": [
        "nums = [2, 3, 5, 6, 7]\n",
        "Solution().longestSquareStreak(nums=nums)"
      ]
    }
  ],
  "metadata": {
    "kernelspec": {
      "display_name": "base",
      "language": "python",
      "name": "python3"
    },
    "language_info": {
      "codemirror_mode": {
        "name": "ipython",
        "version": 3
      },
      "file_extension": ".py",
      "mimetype": "text/x-python",
      "name": "python",
      "nbconvert_exporter": "python",
      "pygments_lexer": "ipython3",
      "version": "3.11.7"
    }
  },
  "nbformat": 4,
  "nbformat_minor": 2
}
