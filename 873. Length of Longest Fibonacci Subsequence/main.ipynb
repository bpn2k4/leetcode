{
  "cells": [
    {
      "cell_type": "code",
      "execution_count": 1,
      "metadata": {},
      "outputs": [],
      "source": [
        "from typing import List\n",
        "\n",
        "\n",
        "class Solution:\n",
        "  def lenLongestFibSubseq(self, arr: List[int]) -> int:\n",
        "\n",
        "    n = len(arr)\n",
        "    mark = {num: index for index, num in enumerate(arr)}\n",
        "    dp = {}\n",
        "    max_length = 0\n",
        "\n",
        "    for j in range(n):\n",
        "      for i in range(j):\n",
        "        first, second = arr[i], arr[j]\n",
        "        third = first + second\n",
        "\n",
        "        if third in mark:\n",
        "          k = mark[third]\n",
        "          dp[(j, k)] = dp.get((i, j), 2) + 1\n",
        "          max_length = max(max_length, dp[(j, k)])\n",
        "\n",
        "    return max_length if max_length >= 3 else 0"
      ]
    },
    {
      "cell_type": "code",
      "execution_count": 2,
      "metadata": {},
      "outputs": [
        {
          "data": {
            "text/plain": [
              "5"
            ]
          },
          "execution_count": 2,
          "metadata": {},
          "output_type": "execute_result"
        }
      ],
      "source": [
        "arr = [1, 2, 3, 4, 5, 6, 7, 8]\n",
        "Solution().lenLongestFibSubseq(arr=arr)"
      ]
    },
    {
      "cell_type": "code",
      "execution_count": 3,
      "metadata": {},
      "outputs": [
        {
          "data": {
            "text/plain": [
              "3"
            ]
          },
          "execution_count": 3,
          "metadata": {},
          "output_type": "execute_result"
        }
      ],
      "source": [
        "arr = [1, 3, 7, 11, 12, 14, 18]\n",
        "Solution().lenLongestFibSubseq(arr=arr)"
      ]
    }
  ],
  "metadata": {
    "kernelspec": {
      "display_name": "Python 3",
      "language": "python",
      "name": "python3"
    },
    "language_info": {
      "codemirror_mode": {
        "name": "ipython",
        "version": 3
      },
      "file_extension": ".py",
      "mimetype": "text/x-python",
      "name": "python",
      "nbconvert_exporter": "python",
      "pygments_lexer": "ipython3",
      "version": "3.12.1"
    }
  },
  "nbformat": 4,
  "nbformat_minor": 2
}
