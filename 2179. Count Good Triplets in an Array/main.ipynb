{
  "cells": [
    {
      "cell_type": "code",
      "execution_count": 1,
      "metadata": {},
      "outputs": [],
      "source": [
        "from typing import List\n",
        "\n",
        "\n",
        "class FenwickTree:\n",
        "  def __init__(self, size):\n",
        "    self.tree = [0] * (size + 1)\n",
        "\n",
        "  def update(self, i, delta):\n",
        "    i += 1\n",
        "    while i < len(self.tree):\n",
        "      self.tree[i] += delta\n",
        "      i += i & -i\n",
        "\n",
        "  def query(self, i):\n",
        "    i += 1\n",
        "    res = 0\n",
        "    while i > 0:\n",
        "      res += self.tree[i]\n",
        "      i -= i & -i\n",
        "    return res\n",
        "\n",
        "\n",
        "class Solution:\n",
        "  def goodTriplets(self, nums1: List[int], nums2: List[int]) -> int:\n",
        "    n = len(nums1)\n",
        "\n",
        "    pos_in_nums2 = {val: idx for idx, val in enumerate(nums2)}\n",
        "    mapped = [pos_in_nums2[val] for val in nums1]\n",
        "\n",
        "    ft1 = FenwickTree(n)\n",
        "    left_smaller = [0] * n\n",
        "    for i in range(n):\n",
        "      left_smaller[i] = ft1.query(mapped[i] - 1)\n",
        "      ft1.update(mapped[i], 1)\n",
        "\n",
        "    ft2 = FenwickTree(n)\n",
        "    right_larger = [0] * n\n",
        "\n",
        "    for i in range(n - 1, -1, -1):\n",
        "      right_larger[i] = ft2.query(n - 1) - ft2.query(mapped[i])\n",
        "      ft2.update(mapped[i], 1)\n",
        "      \n",
        "    total = 0\n",
        "    for i in range(n):\n",
        "      total += left_smaller[i] * right_larger[i]\n",
        "\n",
        "    return total"
      ]
    },
    {
      "cell_type": "code",
      "execution_count": 2,
      "metadata": {},
      "outputs": [
        {
          "data": {
            "text/plain": [
              "1"
            ]
          },
          "execution_count": 2,
          "metadata": {},
          "output_type": "execute_result"
        }
      ],
      "source": [
        "nums1 = [2, 0, 1, 3]\n",
        "nums2 = [0, 1, 2, 3]\n",
        "Solution().goodTriplets(nums1=nums1, nums2=nums2)"
      ]
    },
    {
      "cell_type": "code",
      "execution_count": 3,
      "metadata": {},
      "outputs": [
        {
          "data": {
            "text/plain": [
              "4"
            ]
          },
          "execution_count": 3,
          "metadata": {},
          "output_type": "execute_result"
        }
      ],
      "source": [
        "nums1 = [4, 0, 1, 3, 2]\n",
        "nums2 = [4, 1, 0, 2, 3]\n",
        "Solution().goodTriplets(nums1=nums1, nums2=nums2)"
      ]
    }
  ],
  "metadata": {
    "kernelspec": {
      "display_name": "Python 3",
      "language": "python",
      "name": "python3"
    },
    "language_info": {
      "codemirror_mode": {
        "name": "ipython",
        "version": 3
      },
      "file_extension": ".py",
      "mimetype": "text/x-python",
      "name": "python",
      "nbconvert_exporter": "python",
      "pygments_lexer": "ipython3",
      "version": "3.12.8"
    }
  },
  "nbformat": 4,
  "nbformat_minor": 2
}
