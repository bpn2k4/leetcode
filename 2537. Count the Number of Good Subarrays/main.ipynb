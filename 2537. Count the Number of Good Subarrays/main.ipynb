{
  "cells": [
    {
      "cell_type": "code",
      "execution_count": null,
      "metadata": {},
      "outputs": [],
      "source": [
        "from typing import List\n",
        "\n",
        "\n",
        "class Solution:\n",
        "  def countGood(self, nums: List[int], k: int) -> int:\n",
        "\n",
        "    n = len(nums)\n",
        "    same, right = 0, -1\n",
        "    num2count = {}\n",
        "    count = 0\n",
        "    for left in range(n):\n",
        "      while same < k and right + 1 < n:\n",
        "        right += 1\n",
        "        same += num2count.get(nums[right], 0)\n",
        "        num2count[nums[right]] = num2count.get(nums[right], 0) + 1\n",
        "      if same >= k:\n",
        "        count += n - right\n",
        "      num2count[nums[left]] -= 1\n",
        "      same -= num2count[nums[left]]\n",
        "      \n",
        "    return count"
      ]
    },
    {
      "cell_type": "code",
      "execution_count": 2,
      "metadata": {},
      "outputs": [
        {
          "data": {
            "text/plain": [
              "1"
            ]
          },
          "execution_count": 2,
          "metadata": {},
          "output_type": "execute_result"
        }
      ],
      "source": [
        "nums = [1, 1, 1, 1, 1]\n",
        "k = 10\n",
        "Solution().countGood(nums=nums, k=k)"
      ]
    },
    {
      "cell_type": "code",
      "execution_count": 3,
      "metadata": {},
      "outputs": [
        {
          "data": {
            "text/plain": [
              "4"
            ]
          },
          "execution_count": 3,
          "metadata": {},
          "output_type": "execute_result"
        }
      ],
      "source": [
        "nums = [3, 1, 4, 3, 2, 2, 4]\n",
        "k = 2\n",
        "Solution().countGood(nums=nums, k=k)"
      ]
    }
  ],
  "metadata": {
    "kernelspec": {
      "display_name": "Python 3",
      "language": "python",
      "name": "python3"
    },
    "language_info": {
      "codemirror_mode": {
        "name": "ipython",
        "version": 3
      },
      "file_extension": ".py",
      "mimetype": "text/x-python",
      "name": "python",
      "nbconvert_exporter": "python",
      "pygments_lexer": "ipython3",
      "version": "3.12.1"
    }
  },
  "nbformat": 4,
  "nbformat_minor": 2
}
