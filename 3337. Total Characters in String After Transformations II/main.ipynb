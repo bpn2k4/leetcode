{
  "cells": [
    {
      "cell_type": "code",
      "execution_count": 1,
      "metadata": {},
      "outputs": [],
      "source": [
        "from typing import List\n",
        "\n",
        "\n",
        "class Solution:\n",
        "  def lengthAfterTransformations(self, s: str, t: int, nums: List[int]) -> int:\n",
        "    \n",
        "    MOD = 10**9 + 7\n",
        "    vector = [[0 for _ in range(26)] for _ in range(26)]\n",
        "    for i in range(26):\n",
        "      for j in range(1, nums[i] + 1):\n",
        "        c = (i + j) % 26\n",
        "        vector[i][c] += 1\n",
        "    \n",
        "    def multi(x, y):\n",
        "      r = [[0 for _ in range(26)] for _ in range(26)]\n",
        "      for i in range(26):\n",
        "        for j in range(26):\n",
        "          if x[i][j]:\n",
        "            for k in range(26):\n",
        "              r[i][k] = (r[i][k] + x[i][j] * y[j][k]) % MOD\n",
        "      return r\n",
        "    \n",
        "    def power(m, n):\n",
        "      r = [[1 if i == j else 0 for j in range(26)] for i in range(26)]\n",
        "      while n:\n",
        "        if n % 2 == 1:\n",
        "          r = multi(r, m)\n",
        "        m = multi(m, m)\n",
        "        n //= 2\n",
        "      return r\n",
        "\n",
        "    c = power(vector, t)\n",
        "    cnt = [0] * 26\n",
        "    for char in s:\n",
        "      cnt[ord(char) - ord('a')] += 1\n",
        "    new_cnt = [0] * 26\n",
        "    for i in range(26):\n",
        "      for j in range(26):\n",
        "        new_cnt[j] = (new_cnt[j] + cnt[i] * c[i][j]) % MOD\n",
        "\n",
        "    return sum(new_cnt) % MOD\n"
      ]
    },
    {
      "cell_type": "code",
      "execution_count": 2,
      "metadata": {},
      "outputs": [
        {
          "data": {
            "text/plain": [
              "7"
            ]
          },
          "execution_count": 2,
          "metadata": {},
          "output_type": "execute_result"
        }
      ],
      "source": [
        "s = \"abcyy\"\n",
        "t = 2\n",
        "nums = [1, 1, 1, 1, 1, 1, 1, 1, 1, 1, 1, 1, 1, 1, 1, 1, 1, 1, 1, 1, 1, 1, 1, 1, 1, 2]\n",
        "Solution().lengthAfterTransformations(s=s, t=t, nums=nums)"
      ]
    },
    {
      "cell_type": "code",
      "execution_count": 3,
      "metadata": {},
      "outputs": [
        {
          "data": {
            "text/plain": [
              "8"
            ]
          },
          "execution_count": 3,
          "metadata": {},
          "output_type": "execute_result"
        }
      ],
      "source": [
        "s = \"azbk\"\n",
        "t = 1\n",
        "nums = [2, 2, 2, 2, 2, 2, 2, 2, 2, 2, 2, 2, 2, 2, 2, 2, 2, 2, 2, 2, 2, 2, 2, 2, 2, 2]\n",
        "Solution().lengthAfterTransformations(s=s, t=t, nums=nums)"
      ]
    }
  ],
  "metadata": {
    "kernelspec": {
      "display_name": "Python 3",
      "language": "python",
      "name": "python3"
    },
    "language_info": {
      "codemirror_mode": {
        "name": "ipython",
        "version": 3
      },
      "file_extension": ".py",
      "mimetype": "text/x-python",
      "name": "python",
      "nbconvert_exporter": "python",
      "pygments_lexer": "ipython3",
      "version": "3.12.8"
    }
  },
  "nbformat": 4,
  "nbformat_minor": 2
}
