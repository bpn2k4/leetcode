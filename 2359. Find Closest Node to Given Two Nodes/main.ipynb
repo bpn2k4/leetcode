{
  "cells": [
    {
      "cell_type": "code",
      "execution_count": 1,
      "metadata": {},
      "outputs": [],
      "source": [
        "from typing import List\n",
        "from collections import deque\n",
        "\n",
        "\n",
        "class Solution:\n",
        "  def closestMeetingNode(self, edges: List[int], node1: int, node2: int) -> int:\n",
        "    \n",
        "    def bfs(start_node: int, edges: List[int], dist: List[int]) -> None:\n",
        "      n = len(edges)\n",
        "      q = deque([start_node])\n",
        "      visited = [False] * n\n",
        "      dist[start_node] = 0\n",
        "      while q:\n",
        "        node = q.popleft()\n",
        "        if visited[node]:\n",
        "          continue\n",
        "        visited[node] = True\n",
        "        neighbor = edges[node]\n",
        "        if neighbor != -1 and not visited[neighbor]:\n",
        "          q.append(neighbor)\n",
        "          dist[neighbor] = dist[node] + 1\n",
        "\n",
        "    n = len(edges)\n",
        "    dist1 = [1000000] * n\n",
        "    bfs(node1, edges, dist1)\n",
        "    dist2 = [1000000] * n\n",
        "    bfs(node2, edges, dist2)\n",
        "    ans = -1\n",
        "    min_distance = 1000000\n",
        "    for i in range(n):\n",
        "      max_distance = max(dist1[i], dist2[i])\n",
        "      if max_distance < min_distance:\n",
        "        min_distance = max_distance\n",
        "        ans = i\n",
        "    \n",
        "    return ans"
      ]
    },
    {
      "cell_type": "code",
      "execution_count": 2,
      "metadata": {},
      "outputs": [
        {
          "data": {
            "text/plain": [
              "2"
            ]
          },
          "execution_count": 2,
          "metadata": {},
          "output_type": "execute_result"
        }
      ],
      "source": [
        "edges = [2, 2, 3, -1]\n",
        "node1 = 0\n",
        "node2 = 1\n",
        "Solution().closestMeetingNode(edges=edges, node1=node1, node2=node2)"
      ]
    },
    {
      "cell_type": "code",
      "execution_count": 3,
      "metadata": {},
      "outputs": [
        {
          "data": {
            "text/plain": [
              "2"
            ]
          },
          "execution_count": 3,
          "metadata": {},
          "output_type": "execute_result"
        }
      ],
      "source": [
        "edges = [1, 2, -1]\n",
        "node1 = 0\n",
        "node2 = 2\n",
        "Solution().closestMeetingNode(edges=edges, node1=node1, node2=node2)"
      ]
    }
  ],
  "metadata": {
    "kernelspec": {
      "display_name": "Python 3",
      "language": "python",
      "name": "python3"
    },
    "language_info": {
      "codemirror_mode": {
        "name": "ipython",
        "version": 3
      },
      "file_extension": ".py",
      "mimetype": "text/x-python",
      "name": "python",
      "nbconvert_exporter": "python",
      "pygments_lexer": "ipython3",
      "version": "3.12.8"
    }
  },
  "nbformat": 4,
  "nbformat_minor": 2
}
