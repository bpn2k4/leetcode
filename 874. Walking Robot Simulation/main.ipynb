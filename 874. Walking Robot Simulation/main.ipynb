{
 "cells": [
  {
   "cell_type": "code",
   "execution_count": 1,
   "metadata": {},
   "outputs": [],
   "source": [
    "from typing import List\n",
    "\n",
    "\n",
    "class Solution:\n",
    "  def robotSim(self, commands: List[int], obstacles: List[List[int]]) -> int:\n",
    "\n",
    "    x, y = 0, 0\n",
    "    directions = [(0, 1), (1, 0), (0, -1), (-1, 0)]\n",
    "    obstacles = {(x, y): 1 for x, y in obstacles}\n",
    "    direction = 0\n",
    "    max_distance = 0\n",
    "    for command in commands:\n",
    "      if command == -1:\n",
    "        direction = (direction + 1) % 4\n",
    "      elif command == - 2:\n",
    "        direction = (direction - 1) % 4\n",
    "      else:\n",
    "        dx, dy = directions[direction]\n",
    "        nx, ny = x + dx * command, y + dy * command\n",
    "        if nx != x:\n",
    "          for mx in range(x + dx, nx + dx, dx):\n",
    "            if (mx, ny) in obstacles:\n",
    "              x, y = mx - dx, ny\n",
    "              break\n",
    "            else:\n",
    "              x, y = mx, ny\n",
    "        else:\n",
    "          for my in range(y + dy, ny + dy, dy):\n",
    "            if (nx, my) in obstacles:\n",
    "              x, y = nx, my - dy\n",
    "              break\n",
    "            else:\n",
    "              x, y = nx, my\n",
    "        \n",
    "        max_distance = max(max_distance, x * x + y * y)\n",
    "    \n",
    "    return max_distance"
   ]
  },
  {
   "cell_type": "code",
   "execution_count": 2,
   "metadata": {},
   "outputs": [
    {
     "data": {
      "text/plain": [
       "25"
      ]
     },
     "execution_count": 2,
     "metadata": {},
     "output_type": "execute_result"
    }
   ],
   "source": [
    "Solution().robotSim(commands=[4, -1, 3], obstacles=[])"
   ]
  },
  {
   "cell_type": "code",
   "execution_count": 3,
   "metadata": {},
   "outputs": [
    {
     "data": {
      "text/plain": [
       "65"
      ]
     },
     "execution_count": 3,
     "metadata": {},
     "output_type": "execute_result"
    }
   ],
   "source": [
    "Solution().robotSim(commands=[4, -1, 4, -2, 4], obstacles=[[2, 4]])"
   ]
  },
  {
   "cell_type": "code",
   "execution_count": 4,
   "metadata": {},
   "outputs": [
    {
     "data": {
      "text/plain": [
       "36"
      ]
     },
     "execution_count": 4,
     "metadata": {},
     "output_type": "execute_result"
    }
   ],
   "source": [
    "Solution().robotSim(commands=[6, -1, -1, 6], obstacles=[])"
   ]
  },
  {
   "cell_type": "code",
   "execution_count": 5,
   "metadata": {},
   "outputs": [
    {
     "data": {
      "text/plain": [
       "0"
      ]
     },
     "execution_count": 5,
     "metadata": {},
     "output_type": "execute_result"
    }
   ],
   "source": [
    "Solution().robotSim(commands=[-2,-1,8,9,6], obstacles=[[-1,3],[0,1],[-1,5],[-2,-4],[5,4],[-2,-3],[5,-1],[1,-1],[5,5],[5,2]])"
   ]
  },
  {
   "cell_type": "code",
   "execution_count": 6,
   "metadata": {},
   "outputs": [
    {
     "data": {
      "text/plain": [
       "100"
      ]
     },
     "execution_count": 6,
     "metadata": {},
     "output_type": "execute_result"
    }
   ],
   "source": [
    "Solution().robotSim(commands=[-2, -1, -2, 3, 7], obstacles=[[1,-3],[2,-3],[4,0],[-2,5],[-5,2],[0,0],[4,-4],[-2,-5],[-1,-2],[0,2]])"
   ]
  }
 ],
 "metadata": {
  "kernelspec": {
   "display_name": "base",
   "language": "python",
   "name": "python3"
  },
  "language_info": {
   "codemirror_mode": {
    "name": "ipython",
    "version": 3
   },
   "file_extension": ".py",
   "mimetype": "text/x-python",
   "name": "python",
   "nbconvert_exporter": "python",
   "pygments_lexer": "ipython3",
   "version": "3.11.7"
  }
 },
 "nbformat": 4,
 "nbformat_minor": 2
}
