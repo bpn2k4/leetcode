{
  "cells": [
    {
      "cell_type": "code",
      "execution_count": 1,
      "metadata": {},
      "outputs": [],
      "source": [
        "class Solution:\n",
        "  def maxUniqueSplit(self, s: str) -> int:\n",
        "\n",
        "    def backtrack(start, seen):\n",
        "      \n",
        "      if start == len(s):\n",
        "        return 0\n",
        "\n",
        "      max_count = 0\n",
        "      for i in range(start + 1, len(s) + 1):\n",
        "        substring = s[start:i]\n",
        "        if substring not in seen:\n",
        "          seen.add(substring)\n",
        "          max_count = max(max_count, 1 + backtrack(i, seen))\n",
        "          seen.remove(substring)\n",
        "\n",
        "      return max_count\n",
        "\n",
        "    return backtrack(0, set())"
      ]
    },
    {
      "cell_type": "code",
      "execution_count": 2,
      "metadata": {},
      "outputs": [
        {
          "data": {
            "text/plain": [
              "5"
            ]
          },
          "execution_count": 2,
          "metadata": {},
          "output_type": "execute_result"
        }
      ],
      "source": [
        "s = \"ababccc\"\n",
        "Solution().maxUniqueSplit(s=s)"
      ]
    },
    {
      "cell_type": "code",
      "execution_count": 3,
      "metadata": {},
      "outputs": [
        {
          "data": {
            "text/plain": [
              "2"
            ]
          },
          "execution_count": 3,
          "metadata": {},
          "output_type": "execute_result"
        }
      ],
      "source": [
        "s = \"aba\"\n",
        "Solution().maxUniqueSplit(s=s)"
      ]
    },
    {
      "cell_type": "code",
      "execution_count": 4,
      "metadata": {},
      "outputs": [
        {
          "data": {
            "text/plain": [
              "1"
            ]
          },
          "execution_count": 4,
          "metadata": {},
          "output_type": "execute_result"
        }
      ],
      "source": [
        "s = \"aa\"\n",
        "Solution().maxUniqueSplit(s=s)"
      ]
    }
  ],
  "metadata": {
    "kernelspec": {
      "display_name": "base",
      "language": "python",
      "name": "python3"
    },
    "language_info": {
      "codemirror_mode": {
        "name": "ipython",
        "version": 3
      },
      "file_extension": ".py",
      "mimetype": "text/x-python",
      "name": "python",
      "nbconvert_exporter": "python",
      "pygments_lexer": "ipython3",
      "version": "3.11.7"
    }
  },
  "nbformat": 4,
  "nbformat_minor": 2
}
