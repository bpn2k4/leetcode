{
  "cells": [
    {
      "cell_type": "code",
      "execution_count": 1,
      "metadata": {},
      "outputs": [],
      "source": [
        "from typing import List\n",
        "import heapq\n",
        "\n",
        "\n",
        "class Solution:\n",
        "  def minimumDifference(self, nums: List[int]) -> int:\n",
        "\n",
        "    n = len(nums) // 3\n",
        "    part1 = [0] * (n + 1)\n",
        "    total = sum(nums[:n])\n",
        "    ql = [-x for x in nums[:n]]\n",
        "    heapq.heapify(ql)\n",
        "    part1[0] = total\n",
        "\n",
        "    for i in range(n, n * 2):\n",
        "      total += nums[i]\n",
        "      heapq.heappush(ql, -nums[i])\n",
        "      total -= -heapq.heappop(ql)\n",
        "      part1[i - (n - 1)] = total\n",
        "\n",
        "    part2 = sum(nums[n * 2:])\n",
        "    qr = nums[n * 2:]\n",
        "    heapq.heapify(qr)\n",
        "    ans = part1[n] - part2\n",
        "\n",
        "    for i in range(n * 2 - 1, n - 1, -1):\n",
        "      part2 += nums[i]\n",
        "      heapq.heappush(qr, nums[i])\n",
        "      part2 -= heapq.heappop(qr)\n",
        "      ans = min(ans, part1[i - n] - part2)\n",
        "\n",
        "    return ans"
      ]
    },
    {
      "cell_type": "code",
      "execution_count": 2,
      "metadata": {},
      "outputs": [
        {
          "data": {
            "text/plain": [
              "-1"
            ]
          },
          "execution_count": 2,
          "metadata": {},
          "output_type": "execute_result"
        }
      ],
      "source": [
        "nums = [3, 1, 2]\n",
        "Solution().minimumDifference(nums=nums)"
      ]
    },
    {
      "cell_type": "code",
      "execution_count": 3,
      "metadata": {},
      "outputs": [
        {
          "data": {
            "text/plain": [
              "1"
            ]
          },
          "execution_count": 3,
          "metadata": {},
          "output_type": "execute_result"
        }
      ],
      "source": [
        "nums = [7, 9, 5, 8, 1, 3]\n",
        "Solution().minimumDifference(nums=nums)"
      ]
    }
  ],
  "metadata": {
    "kernelspec": {
      "display_name": "Python 3",
      "language": "python",
      "name": "python3"
    },
    "language_info": {
      "codemirror_mode": {
        "name": "ipython",
        "version": 3
      },
      "file_extension": ".py",
      "mimetype": "text/x-python",
      "name": "python",
      "nbconvert_exporter": "python",
      "pygments_lexer": "ipython3",
      "version": "3.12.8"
    }
  },
  "nbformat": 4,
  "nbformat_minor": 2
}
