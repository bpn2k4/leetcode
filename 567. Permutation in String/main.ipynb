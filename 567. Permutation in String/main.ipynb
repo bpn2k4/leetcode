{
  "cells": [
    {
      "cell_type": "code",
      "execution_count": 1,
      "metadata": {},
      "outputs": [],
      "source": [
        "class Solution:\n",
        "  def checkInclusion(self, s1: str, s2: str) -> bool:\n",
        "    \n",
        "    s1_length = len(s1)\n",
        "    mark_s1 = {}\n",
        "    for char in s1:\n",
        "      mark_s1[char] = mark_s1.get(char, 0) + 1\n",
        "    sliding = {}\n",
        "    for char in s2[:s1_length]:\n",
        "      if char in mark_s1:\n",
        "        sliding[char] = sliding.get(char, 0) + 1\n",
        "    \n",
        "    mark = False\n",
        "    if len(mark_s1) == len(sliding):\n",
        "      mark = True\n",
        "      for char in mark_s1:\n",
        "        if char not in sliding or mark_s1[char] != sliding[char]:\n",
        "          mark = False\n",
        "          break\n",
        "\n",
        "    if mark:\n",
        "      return True\n",
        "    \n",
        "    for index in range(s1_length, len(s2)):\n",
        "      last_char = s2[index - s1_length]\n",
        "      current_char = s2[index]\n",
        "      if current_char in mark_s1:\n",
        "        sliding[current_char] = sliding.get(current_char, 0) + 1\n",
        "      if last_char in mark_s1:\n",
        "        if last_char in sliding:\n",
        "          if sliding[last_char] == 1:\n",
        "            del sliding[last_char]\n",
        "          else:\n",
        "            sliding[last_char] -= 1\n",
        "      \n",
        "      if len(mark_s1) == len(sliding):\n",
        "        mark = True\n",
        "        for char in mark_s1:\n",
        "          if char not in sliding or mark_s1[char] != sliding[char]:\n",
        "            mark = False\n",
        "            break\n",
        "\n",
        "        if mark:\n",
        "          return True\n",
        "\n",
        "    return False"
      ]
    },
    {
      "cell_type": "code",
      "execution_count": 2,
      "metadata": {},
      "outputs": [
        {
          "data": {
            "text/plain": [
              "True"
            ]
          },
          "execution_count": 2,
          "metadata": {},
          "output_type": "execute_result"
        }
      ],
      "source": [
        "s1 = \"ab\"\n",
        "s2 = \"eidbaooo\"\n",
        "Solution().checkInclusion(s1=s1, s2=s2)"
      ]
    },
    {
      "cell_type": "code",
      "execution_count": 3,
      "metadata": {},
      "outputs": [
        {
          "data": {
            "text/plain": [
              "False"
            ]
          },
          "execution_count": 3,
          "metadata": {},
          "output_type": "execute_result"
        }
      ],
      "source": [
        "s1 = \"ab\"\n",
        "s2 = \"eidboaoo\"\n",
        "Solution().checkInclusion(s1=s1, s2=s2)"
      ]
    },
    {
      "cell_type": "code",
      "execution_count": 4,
      "metadata": {},
      "outputs": [
        {
          "data": {
            "text/plain": [
              "False"
            ]
          },
          "execution_count": 4,
          "metadata": {},
          "output_type": "execute_result"
        }
      ],
      "source": [
        "s1 = \"hello\"\n",
        "s2 = \"ooolleoooleh\"\n",
        "Solution().checkInclusion(s1=s1, s2=s2)"
      ]
    }
  ],
  "metadata": {
    "kernelspec": {
      "display_name": "base",
      "language": "python",
      "name": "python3"
    },
    "language_info": {
      "codemirror_mode": {
        "name": "ipython",
        "version": 3
      },
      "file_extension": ".py",
      "mimetype": "text/x-python",
      "name": "python",
      "nbconvert_exporter": "python",
      "pygments_lexer": "ipython3",
      "version": "3.11.7"
    }
  },
  "nbformat": 4,
  "nbformat_minor": 2
}
