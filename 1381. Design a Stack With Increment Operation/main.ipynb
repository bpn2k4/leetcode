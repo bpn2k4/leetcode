{
 "cells": [
  {
   "cell_type": "code",
   "execution_count": 1,
   "metadata": {},
   "outputs": [],
   "source": [
    "class CustomStack:\n",
    "\n",
    "  def __init__(self, maxSize: int):\n",
    "\n",
    "    self.stack: list[int] = []\n",
    "    self.maxSize = maxSize\n",
    "\n",
    "\n",
    "  def push(self, x: int) -> None:\n",
    "\n",
    "    if len(self.stack) == self.maxSize:\n",
    "      return\n",
    "\n",
    "    self.stack.append(x)\n",
    "\n",
    "\n",
    "  def pop(self) -> int:\n",
    "\n",
    "    if len(self.stack) == 0:\n",
    "      return -1\n",
    "\n",
    "    return self.stack.pop()\n",
    "\n",
    "\n",
    "  def increment(self, k: int, val: int) -> None:\n",
    "\n",
    "    n = len(self.stack)\n",
    "\n",
    "    for i in range(min(k, n)):\n",
    "      self.stack[i] += val"
   ]
  },
  {
   "cell_type": "code",
   "execution_count": 2,
   "metadata": {},
   "outputs": [],
   "source": [
    "class CustomStack:\n",
    "\n",
    "  def __init__(self, maxSize: int):\n",
    "\n",
    "    self.stack: list[int] = []\n",
    "    self.maxSize = maxSize\n",
    "    self.operations = [0] * maxSize\n",
    "\n",
    "\n",
    "  def push(self, x: int) -> None:\n",
    "\n",
    "    if len(self.stack) == self.maxSize:\n",
    "      return\n",
    "\n",
    "    self.stack.append(x)\n",
    "\n",
    "\n",
    "  def pop(self) -> int:\n",
    "\n",
    "    if len(self.stack) == 0:\n",
    "      return -1\n",
    "\n",
    "    index = len(self.stack) - 1\n",
    "    value = self.stack.pop() + self.operations[index]\n",
    "\n",
    "    if index > 0:\n",
    "      self.operations[index - 1] += self.operations[index]\n",
    "\n",
    "    self.operations[index] = 0\n",
    "    \n",
    "    return value\n",
    "\n",
    "\n",
    "  def increment(self, k: int, val: int) -> None:\n",
    "\n",
    "    limit = min(k, len(self.stack)) - 1\n",
    "    if limit >= 0:\n",
    "      self.operations[limit] += val"
   ]
  },
  {
   "cell_type": "code",
   "execution_count": 3,
   "metadata": {},
   "outputs": [
    {
     "data": {
      "text/plain": [
       "(None, None, 2, None, None, None, None, None, 103, 202, 201, -1)"
      ]
     },
     "execution_count": 3,
     "metadata": {},
     "output_type": "execute_result"
    }
   ],
   "source": [
    "stack = CustomStack(3)\n",
    "stack.push(1), \\\n",
    "  stack.push(2), \\\n",
    "  stack.pop(), \\\n",
    "  stack.push(2), \\\n",
    "  stack.push(3), \\\n",
    "  stack.push(4), \\\n",
    "  stack.increment(5, 100), \\\n",
    "  stack.increment(2, 100), \\\n",
    "  stack.pop(), \\\n",
    "  stack.pop(), \\\n",
    "  stack.pop(), \\\n",
    "  stack.pop()"
   ]
  }
 ],
 "metadata": {
  "kernelspec": {
   "display_name": "base",
   "language": "python",
   "name": "python3"
  },
  "language_info": {
   "codemirror_mode": {
    "name": "ipython",
    "version": 3
   },
   "file_extension": ".py",
   "mimetype": "text/x-python",
   "name": "python",
   "nbconvert_exporter": "python",
   "pygments_lexer": "ipython3",
   "version": "3.11.7"
  }
 },
 "nbformat": 4,
 "nbformat_minor": 2
}
