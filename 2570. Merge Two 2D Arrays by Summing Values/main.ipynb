{
  "cells": [
    {
      "cell_type": "code",
      "execution_count": 1,
      "metadata": {},
      "outputs": [],
      "source": [
        "from typing import List\n",
        "\n",
        "\n",
        "class Solution:\n",
        "  def mergeArrays(self, nums1: List[List[int]], nums2: List[List[int]]) -> List[List[int]]:\n",
        "    \n",
        "    m, n = len(nums1), len(nums2)\n",
        "    mark = {}\n",
        "    for id, val in nums1:\n",
        "      mark[id] = val\n",
        "    for id, val in nums2:\n",
        "      mark[id] = mark.get(id, 0) + val\n",
        "\n",
        "    output = []\n",
        "    i, j = 0, 0\n",
        "    while i < m and j < n:\n",
        "      id1, _ = nums1[i]\n",
        "      id2, _ = nums2[j]\n",
        "      if id1 < id2:\n",
        "        output.append([id1, mark[id1]])\n",
        "        i += 1\n",
        "        continue\n",
        "      if id1 > id2:\n",
        "        output.append([id2, mark[id2]])\n",
        "        j += 1\n",
        "        continue\n",
        "      output.append([id1, mark[id1]])\n",
        "      i += 1\n",
        "      j += 1\n",
        "    \n",
        "    while i < m:\n",
        "      id, _ = nums1[i]\n",
        "      output.append([id, mark[id]])\n",
        "      i += 1\n",
        "\n",
        "    while j < n:\n",
        "      id, _ = nums2[j]\n",
        "      output.append([id, mark[id]])\n",
        "      j += 1\n",
        "\n",
        "    return output"
      ]
    },
    {
      "cell_type": "code",
      "execution_count": 2,
      "metadata": {},
      "outputs": [
        {
          "data": {
            "text/plain": [
              "[[1, 6], [2, 3], [3, 2], [4, 6]]"
            ]
          },
          "execution_count": 2,
          "metadata": {},
          "output_type": "execute_result"
        }
      ],
      "source": [
        "nums1 = [[1, 2], [2, 3], [4, 5]]\n",
        "nums2 = [[1, 4], [3, 2], [4, 1]]\n",
        "Solution().mergeArrays(nums1=nums1, nums2=nums2)"
      ]
    },
    {
      "cell_type": "code",
      "execution_count": 3,
      "metadata": {},
      "outputs": [
        {
          "data": {
            "text/plain": [
              "[[1, 3], [2, 4], [3, 6], [4, 3], [5, 5]]"
            ]
          },
          "execution_count": 3,
          "metadata": {},
          "output_type": "execute_result"
        }
      ],
      "source": [
        "nums1 = [[2, 4], [3, 6], [5, 5]]\n",
        "nums2 = [[1, 3], [4, 3]]\n",
        "Solution().mergeArrays(nums1=nums1, nums2=nums2)"
      ]
    }
  ],
  "metadata": {
    "kernelspec": {
      "display_name": "Python 3",
      "language": "python",
      "name": "python3"
    },
    "language_info": {
      "codemirror_mode": {
        "name": "ipython",
        "version": 3
      },
      "file_extension": ".py",
      "mimetype": "text/x-python",
      "name": "python",
      "nbconvert_exporter": "python",
      "pygments_lexer": "ipython3",
      "version": "3.12.1"
    }
  },
  "nbformat": 4,
  "nbformat_minor": 2
}
