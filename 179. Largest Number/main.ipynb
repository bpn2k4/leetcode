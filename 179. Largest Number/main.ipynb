{
  "cells": [
    {
      "cell_type": "code",
      "execution_count": 5,
      "metadata": {},
      "outputs": [],
      "source": [
        "from typing import List\n",
        "\n",
        "class Solution:\n",
        "  def largestNumber(self, nums: List[int]) -> str:\n",
        "    \n",
        "    def compare(x: int, y: int) -> bool:\n",
        "      return str(x) + str(y) > str(y) + str(x)\n",
        "\n",
        "    n = len(nums)\n",
        "    for i in range(n):\n",
        "      for j in range(i + 1, n):\n",
        "        if compare(nums[i], nums[j]):\n",
        "          nums[i], nums[j] = nums[j], nums[i]\n",
        "    \n",
        "    output = ''\n",
        "    for num in nums[::-1]:\n",
        "      output += str(num)\n",
        "    \n",
        "    if output[0] == '0':\n",
        "      return '0'\n",
        "    \n",
        "    return output"
      ]
    },
    {
      "cell_type": "code",
      "execution_count": 6,
      "metadata": {},
      "outputs": [
        {
          "data": {
            "text/plain": [
              "'210'"
            ]
          },
          "execution_count": 6,
          "metadata": {},
          "output_type": "execute_result"
        }
      ],
      "source": [
        "nums = [10, 2]\n",
        "Solution().largestNumber(nums=nums)"
      ]
    },
    {
      "cell_type": "code",
      "execution_count": 7,
      "metadata": {},
      "outputs": [
        {
          "data": {
            "text/plain": [
              "'9534330'"
            ]
          },
          "execution_count": 7,
          "metadata": {},
          "output_type": "execute_result"
        }
      ],
      "source": [
        "nums = [3, 30, 34, 5, 9]\n",
        "Solution().largestNumber(nums=nums)"
      ]
    },
    {
      "cell_type": "code",
      "execution_count": 8,
      "metadata": {},
      "outputs": [
        {
          "data": {
            "text/plain": [
              "'1113111311'"
            ]
          },
          "execution_count": 8,
          "metadata": {},
          "output_type": "execute_result"
        }
      ],
      "source": [
        "nums = [111311, 1113]\n",
        "Solution().largestNumber(nums=nums)"
      ]
    }
  ],
  "metadata": {
    "kernelspec": {
      "display_name": "base",
      "language": "python",
      "name": "python3"
    },
    "language_info": {
      "codemirror_mode": {
        "name": "ipython",
        "version": 3
      },
      "file_extension": ".py",
      "mimetype": "text/x-python",
      "name": "python",
      "nbconvert_exporter": "python",
      "pygments_lexer": "ipython3",
      "version": "3.11.7"
    }
  },
  "nbformat": 4,
  "nbformat_minor": 2
}
