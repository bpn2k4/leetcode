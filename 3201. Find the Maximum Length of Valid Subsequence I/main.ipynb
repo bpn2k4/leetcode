{
  "cells": [
    {
      "cell_type": "code",
      "execution_count": 1,
      "metadata": {},
      "outputs": [],
      "source": [
        "from typing import List\n",
        "\n",
        "\n",
        "class Solution:\n",
        "  def maximumLength(self, nums: List[int]) -> int:\n",
        "    \n",
        "    n = len(nums)\n",
        "    odd_count = sum(num % 2 for num in nums)\n",
        "    even_count = n - odd_count\n",
        "\n",
        "    i = 0\n",
        "    while i < n and nums[i] % 2 == 0:\n",
        "      i += 1\n",
        "    if i < n:\n",
        "      cur = nums[i]\n",
        "      odd_start_count = 1\n",
        "      for i in range(i + 1, n):\n",
        "        if nums[i] % 2 != cur % 2:\n",
        "          odd_start_count += 1\n",
        "          cur = nums[i]\n",
        "    else:\n",
        "      odd_start_count = 0\n",
        "    \n",
        "    i = 0\n",
        "    while i < n and nums[i] % 2 == 1:\n",
        "      i += 1\n",
        "    if i < n:\n",
        "      cur = nums[i]\n",
        "      even_start_count = 1\n",
        "      for i in range(i + 1, n):\n",
        "        if nums[i] % 2 != cur % 2:\n",
        "          even_start_count += 1\n",
        "          cur = nums[i]\n",
        "    else:\n",
        "      even_start_count = 0\n",
        "    \n",
        "    return max(odd_count, even_count, odd_start_count, even_start_count)"
      ]
    },
    {
      "cell_type": "code",
      "execution_count": 2,
      "metadata": {},
      "outputs": [
        {
          "data": {
            "text/plain": [
              "4"
            ]
          },
          "execution_count": 2,
          "metadata": {},
          "output_type": "execute_result"
        }
      ],
      "source": [
        "nums = [1, 2, 3, 4]\n",
        "Solution().maximumLength(nums=nums)"
      ]
    },
    {
      "cell_type": "code",
      "execution_count": 3,
      "metadata": {},
      "outputs": [
        {
          "data": {
            "text/plain": [
              "6"
            ]
          },
          "execution_count": 3,
          "metadata": {},
          "output_type": "execute_result"
        }
      ],
      "source": [
        "nums = [1, 2, 1, 1, 2, 1, 2]\n",
        "Solution().maximumLength(nums=nums)"
      ]
    },
    {
      "cell_type": "code",
      "execution_count": 4,
      "metadata": {},
      "outputs": [
        {
          "data": {
            "text/plain": [
              "2"
            ]
          },
          "execution_count": 4,
          "metadata": {},
          "output_type": "execute_result"
        }
      ],
      "source": [
        "nums = [1, 3]\n",
        "Solution().maximumLength(nums=nums)"
      ]
    }
  ],
  "metadata": {
    "kernelspec": {
      "display_name": "Python 3",
      "language": "python",
      "name": "python3"
    },
    "language_info": {
      "codemirror_mode": {
        "name": "ipython",
        "version": 3
      },
      "file_extension": ".py",
      "mimetype": "text/x-python",
      "name": "python",
      "nbconvert_exporter": "python",
      "pygments_lexer": "ipython3",
      "version": "3.12.8"
    }
  },
  "nbformat": 4,
  "nbformat_minor": 2
}
