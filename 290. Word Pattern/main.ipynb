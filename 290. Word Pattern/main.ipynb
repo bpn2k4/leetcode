{
  "cells": [
    {
      "cell_type": "code",
      "execution_count": 1,
      "metadata": {},
      "outputs": [],
      "source": [
        "class Solution:\n",
        "  def wordPattern(self, pattern: str, s: str) -> bool:\n",
        "    \n",
        "    words = s.split(' ')\n",
        "    if len(pattern) != len(words):\n",
        "      return False\n",
        "    \n",
        "    char2word = {}\n",
        "    word2char = {}\n",
        "    for char, word in zip(pattern, words):\n",
        "      if char in char2word and char2word[char] != word:\n",
        "        return False\n",
        "      \n",
        "      if word in word2char and word2char[word] != char:\n",
        "        return False\n",
        "      \n",
        "      char2word[char] = word\n",
        "      word2char[word] = char\n",
        "    \n",
        "    return len(char2word) == len(word2char)"
      ]
    },
    {
      "cell_type": "code",
      "execution_count": 2,
      "metadata": {},
      "outputs": [
        {
          "data": {
            "text/plain": [
              "True"
            ]
          },
          "execution_count": 2,
          "metadata": {},
          "output_type": "execute_result"
        }
      ],
      "source": [
        "pattern = \"abba\"\n",
        "s = \"dog cat cat dog\"\n",
        "Solution().wordPattern(pattern=pattern, s=s)"
      ]
    },
    {
      "cell_type": "code",
      "execution_count": 3,
      "metadata": {},
      "outputs": [
        {
          "data": {
            "text/plain": [
              "False"
            ]
          },
          "execution_count": 3,
          "metadata": {},
          "output_type": "execute_result"
        }
      ],
      "source": [
        "pattern = \"abba\"\n",
        "s = \"dog cat cat fish\"\n",
        "Solution().wordPattern(pattern=pattern, s=s)"
      ]
    },
    {
      "cell_type": "code",
      "execution_count": 4,
      "metadata": {},
      "outputs": [
        {
          "data": {
            "text/plain": [
              "False"
            ]
          },
          "execution_count": 4,
          "metadata": {},
          "output_type": "execute_result"
        }
      ],
      "source": [
        "pattern = \"aaaa\"\n",
        "s = \"dog cat cat dog\"\n",
        "Solution().wordPattern(pattern=pattern, s=s)"
      ]
    }
  ],
  "metadata": {
    "kernelspec": {
      "display_name": "Python 3",
      "language": "python",
      "name": "python3"
    },
    "language_info": {
      "codemirror_mode": {
        "name": "ipython",
        "version": 3
      },
      "file_extension": ".py",
      "mimetype": "text/x-python",
      "name": "python",
      "nbconvert_exporter": "python",
      "pygments_lexer": "ipython3",
      "version": "3.12.8"
    }
  },
  "nbformat": 4,
  "nbformat_minor": 2
}
