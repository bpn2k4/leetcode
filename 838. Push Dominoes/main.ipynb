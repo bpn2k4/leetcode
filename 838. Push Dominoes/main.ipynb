{
  "cells": [
    {
      "cell_type": "code",
      "execution_count": 1,
      "metadata": {},
      "outputs": [],
      "source": [
        "class Solution:\n",
        "  def pushDominoes(self, dominoes: str) -> str:\n",
        "    \n",
        "    output = []\n",
        "    dominoes = 'L' + dominoes + 'R'\n",
        "    left = 0\n",
        "    for right in range(1, len(dominoes)):\n",
        "      if dominoes[right] == '.':\n",
        "        continue\n",
        "\n",
        "      if left > 0:\n",
        "        output.append(dominoes[left])\n",
        "      \n",
        "      count = right - left - 1\n",
        "      if dominoes[left] == dominoes[right]:\n",
        "        output.append(dominoes[right] * count)\n",
        "\n",
        "      elif dominoes[left] == 'L' and dominoes[right] == 'R':\n",
        "        output.append('.' * count)\n",
        "\n",
        "      else:\n",
        "        half = count // 2\n",
        "        if count % 2 == 0:\n",
        "          output.append('R' * half)\n",
        "          output.append('L' * half)\n",
        "        else:\n",
        "          output.append('R' * half)\n",
        "          output.append('.')\n",
        "          output.append('L' * half)\n",
        "        \n",
        "      left = right\n",
        "\n",
        "    return ''.join(output)"
      ]
    },
    {
      "cell_type": "code",
      "execution_count": 2,
      "metadata": {},
      "outputs": [
        {
          "data": {
            "text/plain": [
              "'RR.L'"
            ]
          },
          "execution_count": 2,
          "metadata": {},
          "output_type": "execute_result"
        }
      ],
      "source": [
        "dominoes = \"RR.L\"\n",
        "Solution().pushDominoes(dominoes=dominoes)"
      ]
    },
    {
      "cell_type": "code",
      "execution_count": 3,
      "metadata": {},
      "outputs": [
        {
          "data": {
            "text/plain": [
              "'LL.RR.LLRRLL..'"
            ]
          },
          "execution_count": 3,
          "metadata": {},
          "output_type": "execute_result"
        }
      ],
      "source": [
        "dominoes = \".L.R...LR..L..\"\n",
        "Solution().pushDominoes(dominoes=dominoes)"
      ]
    }
  ],
  "metadata": {
    "kernelspec": {
      "display_name": "Python 3",
      "language": "python",
      "name": "python3"
    },
    "language_info": {
      "codemirror_mode": {
        "name": "ipython",
        "version": 3
      },
      "file_extension": ".py",
      "mimetype": "text/x-python",
      "name": "python",
      "nbconvert_exporter": "python",
      "pygments_lexer": "ipython3",
      "version": "3.12.8"
    }
  },
  "nbformat": 4,
  "nbformat_minor": 2
}
