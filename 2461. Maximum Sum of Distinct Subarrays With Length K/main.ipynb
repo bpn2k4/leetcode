{
 "cells": [
  {
   "cell_type": "code",
   "execution_count": 1,
   "metadata": {},
   "outputs": [],
   "source": [
    "from typing import List\n",
    "\n",
    "\n",
    "class Solution:\n",
    "  def maximumSubarraySum(self, nums: List[int], k: int) -> int:\n",
    "    \n",
    "    max_sum = 0\n",
    "    sliding = 0\n",
    "    mark = {}\n",
    "    for i in range(k):\n",
    "      mark[nums[i]] = mark.get(nums[i], 0) + 1\n",
    "      sliding += nums[i]\n",
    "\n",
    "    if len(mark) == k:\n",
    "      max_sum = max(max_sum, sliding)\n",
    "    \n",
    "    for i in range(k, len(nums)):\n",
    "      if nums[i - k] in mark:\n",
    "        mark[nums[i - k]] -= 1\n",
    "        if mark[nums[i - k]] == 0:\n",
    "          del mark[nums[i - k]]\n",
    "      sliding += nums[i] - nums[i - k]\n",
    "      mark[nums[i]] = mark.get(nums[i], 0) + 1\n",
    "      if len(mark) == k:\n",
    "        max_sum = max(max_sum, sliding)\n",
    "    \n",
    "    return max_sum"
   ]
  },
  {
   "cell_type": "code",
   "execution_count": 2,
   "metadata": {},
   "outputs": [
    {
     "data": {
      "text/plain": [
       "15"
      ]
     },
     "execution_count": 2,
     "metadata": {},
     "output_type": "execute_result"
    }
   ],
   "source": [
    "nums = [1, 5, 4, 2, 9, 9, 9]\n",
    "k = 3\n",
    "Solution().maximumSubarraySum(nums=nums, k=k)"
   ]
  },
  {
   "cell_type": "code",
   "execution_count": 3,
   "metadata": {},
   "outputs": [
    {
     "data": {
      "text/plain": [
       "0"
      ]
     },
     "execution_count": 3,
     "metadata": {},
     "output_type": "execute_result"
    }
   ],
   "source": [
    "nums = [4, 4, 4]\n",
    "k = 3\n",
    "Solution().maximumSubarraySum(nums=nums, k=k)"
   ]
  },
  {
   "cell_type": "code",
   "execution_count": 4,
   "metadata": {},
   "outputs": [
    {
     "data": {
      "text/plain": [
       "12"
      ]
     },
     "execution_count": 4,
     "metadata": {},
     "output_type": "execute_result"
    }
   ],
   "source": [
    "nums = [9, 9, 9, 1, 2, 3]\n",
    "k = 3\n",
    "Solution().maximumSubarraySum(nums=nums, k=k)"
   ]
  }
 ],
 "metadata": {
  "kernelspec": {
   "display_name": "base",
   "language": "python",
   "name": "python3"
  },
  "language_info": {
   "codemirror_mode": {
    "name": "ipython",
    "version": 3
   },
   "file_extension": ".py",
   "mimetype": "text/x-python",
   "name": "python",
   "nbconvert_exporter": "python",
   "pygments_lexer": "ipython3",
   "version": "3.11.7"
  }
 },
 "nbformat": 4,
 "nbformat_minor": 2
}
