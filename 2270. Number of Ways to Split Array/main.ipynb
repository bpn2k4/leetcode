{
  "cells": [
    {
      "cell_type": "code",
      "execution_count": 1,
      "metadata": {},
      "outputs": [],
      "source": [
        "from typing import List\n",
        "\n",
        "\n",
        "class Solution:\n",
        "  def waysToSplitArray(self, nums: List[int]) -> int:\n",
        "    \n",
        "    n = len(nums)\n",
        "    total = sum(nums)\n",
        "    left_sum = 0\n",
        "    number_of_valid_splits = 0\n",
        "    for i in range(n - 1):\n",
        "      left_sum += nums[i]\n",
        "      right_sum = total - left_sum\n",
        "      if left_sum >= right_sum:\n",
        "        number_of_valid_splits += 1\n",
        "\n",
        "    return number_of_valid_splits"
      ]
    },
    {
      "cell_type": "code",
      "execution_count": 2,
      "metadata": {},
      "outputs": [
        {
          "data": {
            "text/plain": [
              "2"
            ]
          },
          "execution_count": 2,
          "metadata": {},
          "output_type": "execute_result"
        }
      ],
      "source": [
        "nums = [10, 4, -8, 7]\n",
        "Solution().waysToSplitArray(nums=nums)"
      ]
    },
    {
      "cell_type": "code",
      "execution_count": 3,
      "metadata": {},
      "outputs": [
        {
          "data": {
            "text/plain": [
              "2"
            ]
          },
          "execution_count": 3,
          "metadata": {},
          "output_type": "execute_result"
        }
      ],
      "source": [
        "nums = [2, 3, 1, 0]\n",
        "Solution().waysToSplitArray(nums=nums)"
      ]
    }
  ],
  "metadata": {
    "kernelspec": {
      "display_name": "base",
      "language": "python",
      "name": "python3"
    },
    "language_info": {
      "codemirror_mode": {
        "name": "ipython",
        "version": 3
      },
      "file_extension": ".py",
      "mimetype": "text/x-python",
      "name": "python",
      "nbconvert_exporter": "python",
      "pygments_lexer": "ipython3",
      "version": "3.11.7"
    }
  },
  "nbformat": 4,
  "nbformat_minor": 2
}
