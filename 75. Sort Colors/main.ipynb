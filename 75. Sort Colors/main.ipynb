{
  "cells": [
    {
      "cell_type": "code",
      "execution_count": 1,
      "metadata": {},
      "outputs": [],
      "source": [
        "from typing import List\n",
        "\n",
        "\n",
        "class Solution:\n",
        "  def sortColors(self, nums: List[int]) -> None:\n",
        "    \n",
        "    one, two, three = 0, 0, 0\n",
        "    for num in nums:\n",
        "      if num == 0:\n",
        "        one += 1\n",
        "      elif num == 1:\n",
        "        two += 1\n",
        "      else:\n",
        "        three += 1\n",
        "\n",
        "    for i in range(len(nums)):\n",
        "      if i < one:\n",
        "        nums[i] = 0\n",
        "      elif i < one + two:\n",
        "        nums[i] = 1\n",
        "      else:\n",
        "        nums[i] = 2"
      ]
    },
    {
      "cell_type": "code",
      "execution_count": 2,
      "metadata": {},
      "outputs": [
        {
          "data": {
            "text/plain": [
              "[0, 0, 1, 1, 2, 2]"
            ]
          },
          "execution_count": 2,
          "metadata": {},
          "output_type": "execute_result"
        }
      ],
      "source": [
        "nums = [2, 0, 2, 1, 1, 0]\n",
        "Solution().sortColors(nums=nums)\n",
        "nums"
      ]
    },
    {
      "cell_type": "code",
      "execution_count": 3,
      "metadata": {},
      "outputs": [
        {
          "data": {
            "text/plain": [
              "[0, 1, 2]"
            ]
          },
          "execution_count": 3,
          "metadata": {},
          "output_type": "execute_result"
        }
      ],
      "source": [
        "nums = [2, 0, 1]\n",
        "Solution().sortColors(nums=nums)\n",
        "nums"
      ]
    }
  ],
  "metadata": {
    "kernelspec": {
      "display_name": "Python 3",
      "language": "python",
      "name": "python3"
    },
    "language_info": {
      "codemirror_mode": {
        "name": "ipython",
        "version": 3
      },
      "file_extension": ".py",
      "mimetype": "text/x-python",
      "name": "python",
      "nbconvert_exporter": "python",
      "pygments_lexer": "ipython3",
      "version": "3.12.8"
    }
  },
  "nbformat": 4,
  "nbformat_minor": 2
}
