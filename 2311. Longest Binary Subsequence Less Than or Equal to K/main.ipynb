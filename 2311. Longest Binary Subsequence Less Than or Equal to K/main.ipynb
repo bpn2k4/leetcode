{
  "cells": [
    {
      "cell_type": "code",
      "execution_count": 1,
      "metadata": {},
      "outputs": [],
      "source": [
        "class Solution:\n",
        "  def longestSubsequence(self, s: str, k: int) -> int:\n",
        "    \n",
        "    pow2 = [1]\n",
        "    for _ in range(1000):\n",
        "      pow2.append((pow2[-1] * 2))\n",
        "    output = s.count('0')\n",
        "    total = 0\n",
        "    for i in range(len(s) - 1, -1, -1):\n",
        "      if s[i] == '1':\n",
        "        total += pow2[len(s) - 1 - i]\n",
        "        if total > k:\n",
        "          break\n",
        "        output += 1\n",
        "    \n",
        "    return output"
      ]
    },
    {
      "cell_type": "code",
      "execution_count": 2,
      "metadata": {},
      "outputs": [
        {
          "data": {
            "text/plain": [
              "5"
            ]
          },
          "execution_count": 2,
          "metadata": {},
          "output_type": "execute_result"
        }
      ],
      "source": [
        "s = \"1001010\"\n",
        "k = 5\n",
        "Solution().longestSubsequence(s=s, k=k)"
      ]
    },
    {
      "cell_type": "code",
      "execution_count": 3,
      "metadata": {},
      "outputs": [
        {
          "data": {
            "text/plain": [
              "6"
            ]
          },
          "execution_count": 3,
          "metadata": {},
          "output_type": "execute_result"
        }
      ],
      "source": [
        "s = \"00101001\"\n",
        "k = 1\n",
        "Solution().longestSubsequence(s=s, k=k)"
      ]
    }
  ],
  "metadata": {
    "kernelspec": {
      "display_name": "Python 3",
      "language": "python",
      "name": "python3"
    },
    "language_info": {
      "codemirror_mode": {
        "name": "ipython",
        "version": 3
      },
      "file_extension": ".py",
      "mimetype": "text/x-python",
      "name": "python",
      "nbconvert_exporter": "python",
      "pygments_lexer": "ipython3",
      "version": "3.12.8"
    }
  },
  "nbformat": 4,
  "nbformat_minor": 2
}
