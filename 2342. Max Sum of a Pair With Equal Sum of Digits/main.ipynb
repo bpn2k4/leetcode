{
  "cells": [
    {
      "cell_type": "code",
      "execution_count": 1,
      "metadata": {},
      "outputs": [],
      "source": [
        "from typing import List\n",
        "import heapq\n",
        "\n",
        "\n",
        "class Solution:\n",
        "  def maximumSum(self, nums: List[int]) -> int:\n",
        "    \n",
        "    maximum_sum = -1\n",
        "    digit_sum2pair = {}\n",
        "    for num in nums:\n",
        "      digit_sum = sum(int(digit) for digit in str(num))\n",
        "      if digit_sum not in digit_sum2pair:\n",
        "        digit_sum2pair[digit_sum] = (num, 0)\n",
        "        continue\n",
        "\n",
        "      first, second = digit_sum2pair[digit_sum]\n",
        "      if num > first:\n",
        "        digit_sum2pair[digit_sum] = (num, first)\n",
        "        continue\n",
        "\n",
        "      if num > second:\n",
        "        digit_sum2pair[digit_sum] = (first, num)\n",
        "\n",
        "    for first, second in digit_sum2pair.values():\n",
        "      if second != 0:\n",
        "        value = first + second\n",
        "        maximum_sum = max(maximum_sum, value)\n",
        "\n",
        "    return maximum_sum"
      ]
    },
    {
      "cell_type": "code",
      "execution_count": 2,
      "metadata": {},
      "outputs": [
        {
          "data": {
            "text/plain": [
              "54"
            ]
          },
          "execution_count": 2,
          "metadata": {},
          "output_type": "execute_result"
        }
      ],
      "source": [
        "nums = [18, 43, 36, 13, 7]\n",
        "Solution().maximumSum(nums=nums)"
      ]
    },
    {
      "cell_type": "code",
      "execution_count": 3,
      "metadata": {},
      "outputs": [
        {
          "data": {
            "text/plain": [
              "-1"
            ]
          },
          "execution_count": 3,
          "metadata": {},
          "output_type": "execute_result"
        }
      ],
      "source": [
        "nums = [10, 12, 19, 14]\n",
        "Solution().maximumSum(nums=nums)"
      ]
    }
  ],
  "metadata": {
    "kernelspec": {
      "display_name": "Python 3",
      "language": "python",
      "name": "python3"
    },
    "language_info": {
      "codemirror_mode": {
        "name": "ipython",
        "version": 3
      },
      "file_extension": ".py",
      "mimetype": "text/x-python",
      "name": "python",
      "nbconvert_exporter": "python",
      "pygments_lexer": "ipython3",
      "version": "3.12.1"
    }
  },
  "nbformat": 4,
  "nbformat_minor": 2
}
