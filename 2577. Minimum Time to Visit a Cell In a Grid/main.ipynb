{
 "cells": [
  {
   "cell_type": "code",
   "execution_count": 1,
   "metadata": {},
   "outputs": [],
   "source": [
    "from typing import List\n",
    "import heapq\n",
    "\n",
    "\n",
    "class Solution:\n",
    "  def minimumTime(self, grid: List[List[int]]) -> int:\n",
    "\n",
    "    if grid[0][1] > 1 and grid[1][0] > 1:\n",
    "      return -1\n",
    "\n",
    "    m, n = len(grid), len(grid[0])\n",
    "    directions = [(1, 0), (-1, 0), (0, 1), (0, -1)]\n",
    "    visited = [[False] * n for _ in range(m)]\n",
    "    queue = []\n",
    "    queue.append((0, 0, 0))\n",
    "\n",
    "    while queue:\n",
    "      time, x, y = heapq.heappop(queue)\n",
    "\n",
    "      if x == m - 1 and y == n - 1:\n",
    "        return time\n",
    "      \n",
    "      if visited[x][y]:\n",
    "        continue\n",
    "\n",
    "      visited[x][y] = True\n",
    "      \n",
    "      for dx, dy in directions:\n",
    "        nx, ny = x + dx, y + dy\n",
    "        if 0 <= nx < m and 0 <= ny < n:\n",
    "          if grid[nx][ny] <= time + 1:\n",
    "            heapq.heappush(queue, (time + 1, nx, ny))\n",
    "          else:\n",
    "            if (grid[nx][ny] - time) % 2 == 0:\n",
    "              heapq.heappush(queue, (grid[nx][ny] + 1, nx, ny))\n",
    "            else:\n",
    "              heapq.heappush(queue, (grid[nx][ny], nx, ny))\n",
    "\n",
    "    return -1"
   ]
  },
  {
   "cell_type": "code",
   "execution_count": 2,
   "metadata": {},
   "outputs": [
    {
     "data": {
      "text/plain": [
       "7"
      ]
     },
     "execution_count": 2,
     "metadata": {},
     "output_type": "execute_result"
    }
   ],
   "source": [
    "grid = [[0, 1, 3, 2], [5, 1, 2, 5], [4, 3, 8, 6]]\n",
    "Solution().minimumTime(grid=grid)"
   ]
  },
  {
   "cell_type": "code",
   "execution_count": 3,
   "metadata": {},
   "outputs": [
    {
     "data": {
      "text/plain": [
       "-1"
      ]
     },
     "execution_count": 3,
     "metadata": {},
     "output_type": "execute_result"
    }
   ],
   "source": [
    "grid = [[0, 2, 4], [3, 2, 1], [1, 0, 4]]\n",
    "Solution().minimumTime(grid=grid)"
   ]
  }
 ],
 "metadata": {
  "kernelspec": {
   "display_name": "base",
   "language": "python",
   "name": "python3"
  },
  "language_info": {
   "codemirror_mode": {
    "name": "ipython",
    "version": 3
   },
   "file_extension": ".py",
   "mimetype": "text/x-python",
   "name": "python",
   "nbconvert_exporter": "python",
   "pygments_lexer": "ipython3",
   "version": "3.11.7"
  }
 },
 "nbformat": 4,
 "nbformat_minor": 2
}
