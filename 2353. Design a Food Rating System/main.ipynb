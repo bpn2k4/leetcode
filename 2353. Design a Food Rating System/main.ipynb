{
  "cells": [
    {
      "cell_type": "code",
      "execution_count": null,
      "metadata": {},
      "outputs": [],
      "source": [
        "from typing import List\n",
        "import heapq\n",
        "\n",
        "\n",
        "class FoodRatings:\n",
        "  def __init__(self, foods: List[str], cuisines: List[str], ratings: List[int]):\n",
        "    self.food_info = {} \n",
        "    self.cuisine_map = {}\n",
        "\n",
        "    for f, c, r in zip(foods, cuisines, ratings):\n",
        "      self.food_info[f] = [c, r]\n",
        "      if c not in self.cuisine_map:\n",
        "        self.cuisine_map[c] = []\n",
        "      heapq.heappush(self.cuisine_map[c], (-r, f))\n",
        "\n",
        "  def changeRating(self, food, newRating):\n",
        "    cuisine, _ = self.food_info[food]\n",
        "    self.food_info[food][1] = newRating\n",
        "    heapq.heappush(self.cuisine_map[cuisine], (-newRating, food))\n",
        "\n",
        "  def highestRated(self, cuisine):\n",
        "    heap = self.cuisine_map[cuisine]\n",
        "    while heap:\n",
        "      rating, food = heap[0]\n",
        "      if -rating == self.food_info[food][1]:\n",
        "        return food\n",
        "      heapq.heappop(heap)"
      ]
    }
  ],
  "metadata": {
    "kernelspec": {
      "display_name": "Python 3",
      "language": "python",
      "name": "python3"
    },
    "language_info": {
      "codemirror_mode": {
        "name": "ipython",
        "version": 3
      },
      "file_extension": ".py",
      "mimetype": "text/x-python",
      "name": "python",
      "nbconvert_exporter": "python",
      "pygments_lexer": "ipython3",
      "version": "3.12.1"
    }
  },
  "nbformat": 4,
  "nbformat_minor": 2
}
