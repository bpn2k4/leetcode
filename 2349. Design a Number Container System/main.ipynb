{
 "cells": [
  {
   "cell_type": "code",
   "execution_count": 1,
   "metadata": {},
   "outputs": [],
   "source": [
    "import heapq\n",
    "\n",
    "\n",
    "class NumberContainers:\n",
    "  def __init__(self):\n",
    "    self.index2number = {}\n",
    "    self.number2indexes = {}\n",
    "\n",
    "  def change(self, index: int, number: int) -> None:\n",
    "\n",
    "    self.index2number[index] = number\n",
    "    if number not in self.number2indexes:\n",
    "      self.number2indexes[number] = []\n",
    "    heapq.heappush(self.number2indexes[number], index)\n",
    "\n",
    "  def find(self, number: int) -> int:\n",
    "    if number not in self.number2indexes or len(self.number2indexes[number]) == 0:\n",
    "      return -1\n",
    "\n",
    "    while self.number2indexes[number]:\n",
    "      index = self.number2indexes[number][0]\n",
    "\n",
    "      if self.index2number[index] == number:\n",
    "        return index\n",
    "\n",
    "      heapq.heappop(self.number2indexes[number])\n",
    "      \n",
    "    return -1"
   ]
  },
  {
   "cell_type": "code",
   "execution_count": 2,
   "metadata": {},
   "outputs": [
    {
     "name": "stdout",
     "output_type": "stream",
     "text": [
      "-1\n",
      "None\n",
      "None\n",
      "None\n",
      "None\n",
      "1\n",
      "None\n",
      "2\n"
     ]
    }
   ],
   "source": [
    "nc = NumberContainers()\n",
    "print(nc.find(10))\n",
    "print(nc.change(2, 10))\n",
    "print(nc.change(1, 10))\n",
    "print(nc.change(3, 10))\n",
    "print(nc.change(5, 10))\n",
    "print(nc.find(10))\n",
    "print(nc.change(1, 20))\n",
    "print(nc.find(10))"
   ]
  }
 ],
 "metadata": {
  "kernelspec": {
   "display_name": "Python 3",
   "language": "python",
   "name": "python3"
  },
  "language_info": {
   "codemirror_mode": {
    "name": "ipython",
    "version": 3
   },
   "file_extension": ".py",
   "mimetype": "text/x-python",
   "name": "python",
   "nbconvert_exporter": "python",
   "pygments_lexer": "ipython3",
   "version": "3.12.1"
  }
 },
 "nbformat": 4,
 "nbformat_minor": 2
}
