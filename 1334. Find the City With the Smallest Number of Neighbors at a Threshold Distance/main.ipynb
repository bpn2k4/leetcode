{
 "cells": [
  {
   "cell_type": "code",
   "execution_count": 6,
   "metadata": {},
   "outputs": [],
   "source": [
    "from typing import List\n",
    "\n",
    "\n",
    "class Solution:\n",
    "\n",
    "  def findTheCity(self, n: int, edges: List[List[int]], distanceThreshold: int) -> int:\n",
    "    distance = [[99999999 for _ in range(n)] for _ in range(n)]\n",
    "    for i in range(n):\n",
    "      distance[i][i] = 0\n",
    "    for u, v, w in edges:\n",
    "      distance[u][v] = w\n",
    "      distance[v][u] = w\n",
    "    for k in range(n):\n",
    "      for i in range(n):\n",
    "        for j in range(n):\n",
    "          distance[i][j] = min(distance[i][j], distance[i][k] + distance[k][j])\n",
    "    best = 9999999999\n",
    "    best_city = -1\n",
    "    for city in range(n):\n",
    "      number_city = sum(1 for other_city in range(n) if distance[city][other_city] <= distanceThreshold)\n",
    "      if number_city <= best:\n",
    "        best = number_city\n",
    "        best_city = city\n",
    "    return best_city"
   ]
  },
  {
   "cell_type": "code",
   "execution_count": 7,
   "metadata": {},
   "outputs": [
    {
     "data": {
      "text/plain": [
       "3"
      ]
     },
     "execution_count": 7,
     "metadata": {},
     "output_type": "execute_result"
    }
   ],
   "source": [
    "Solution().findTheCity(\n",
    "    n=4,\n",
    "    edges=[\n",
    "        [0, 1, 3],\n",
    "        [1, 2, 1],\n",
    "        [1, 3, 4],\n",
    "        [2, 3, 1]\n",
    "    ],\n",
    "    distanceThreshold=4\n",
    ")"
   ]
  },
  {
   "cell_type": "code",
   "execution_count": 8,
   "metadata": {},
   "outputs": [
    {
     "data": {
      "text/plain": [
       "0"
      ]
     },
     "execution_count": 8,
     "metadata": {},
     "output_type": "execute_result"
    }
   ],
   "source": [
    "Solution().findTheCity(\n",
    "    n=5,\n",
    "    edges=[\n",
    "        [0, 1, 2],\n",
    "        [0, 4, 8],\n",
    "        [1, 2, 3],\n",
    "        [1, 4, 2],\n",
    "        [2, 3, 1],\n",
    "        [3, 4, 1]\n",
    "    ],\n",
    "    distanceThreshold=2)"
   ]
  },
  {
   "cell_type": "code",
   "execution_count": 9,
   "metadata": {},
   "outputs": [
    {
     "data": {
      "text/plain": [
       "5"
      ]
     },
     "execution_count": 9,
     "metadata": {},
     "output_type": "execute_result"
    }
   ],
   "source": [
    "Solution().findTheCity(\n",
    "    n=6,\n",
    "    edges=[\n",
    "        [0, 3, 7],\n",
    "        [2, 4, 1],\n",
    "        [0, 1, 5],\n",
    "        [2, 3, 10],\n",
    "        [1, 3, 6],\n",
    "        [1, 2, 1]\n",
    "    ],\n",
    "    distanceThreshold=417\n",
    ")"
   ]
  },
  {
   "cell_type": "code",
   "execution_count": 10,
   "metadata": {},
   "outputs": [
    {
     "data": {
      "text/plain": [
       "5"
      ]
     },
     "execution_count": 10,
     "metadata": {},
     "output_type": "execute_result"
    }
   ],
   "source": [
    "Solution().findTheCity(\n",
    "    n=6,\n",
    "    edges=[[0,1,10],[0,2,1],[2,3,1],[1,3,1],[1,4,1],[4,5,10]],\n",
    "    distanceThreshold=20\n",
    ")"
   ]
  }
 ],
 "metadata": {
  "kernelspec": {
   "display_name": "base",
   "language": "python",
   "name": "python3"
  },
  "language_info": {
   "codemirror_mode": {
    "name": "ipython",
    "version": 3
   },
   "file_extension": ".py",
   "mimetype": "text/x-python",
   "name": "python",
   "nbconvert_exporter": "python",
   "pygments_lexer": "ipython3",
   "version": "3.11.7"
  }
 },
 "nbformat": 4,
 "nbformat_minor": 2
}
