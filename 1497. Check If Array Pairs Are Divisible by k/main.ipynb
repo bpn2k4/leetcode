{
  "cells": [
    {
      "cell_type": "code",
      "execution_count": 1,
      "metadata": {},
      "outputs": [],
      "source": [
        "from typing import List\n",
        "\n",
        "\n",
        "class Solution:\n",
        "  def canArrange(self, arr: List[int], k: int) -> bool:\n",
        "    \n",
        "    mark = {}\n",
        "    divisible = 0\n",
        "    for num in arr:\n",
        "      remainder = num % k\n",
        "      differ = k - remainder\n",
        "      if remainder == 0:\n",
        "        divisible += 1\n",
        "        continue\n",
        "      if mark.get(differ, 0) > 0:\n",
        "        mark[differ] -= 1\n",
        "      else:\n",
        "        mark[remainder] = mark.get(remainder, 0) + 1\n",
        "\n",
        "    if divisible % 2 != 0:\n",
        "      return False\n",
        "    \n",
        "    for num in mark:\n",
        "      if mark[num] != 0:\n",
        "        return False\n",
        "      \n",
        "    return True\n",
        "  \n",
        "  def canArrange(self, arr: List[int], k: int) -> bool:\n",
        "\n",
        "    remainders = [0] * k\n",
        "\n",
        "    for num in arr:\n",
        "      remainder = num % k\n",
        "      remainders[remainder] += 1\n",
        "\n",
        "    if remainders[0] % 2 != 0:\n",
        "      return False\n",
        "\n",
        "    for i in range(1, k // 2 + 1):\n",
        "      if remainders[i] != remainders[k - i]:\n",
        "        return False\n",
        "\n",
        "    return True"
      ]
    },
    {
      "cell_type": "code",
      "execution_count": 2,
      "metadata": {},
      "outputs": [
        {
          "data": {
            "text/plain": [
              "True"
            ]
          },
          "execution_count": 2,
          "metadata": {},
          "output_type": "execute_result"
        }
      ],
      "source": [
        "arr = [1, 2, 3, 4, 5, 10, 6, 7, 8, 9]\n",
        "k = 5\n",
        "Solution().canArrange(arr=arr, k=k)"
      ]
    },
    {
      "cell_type": "code",
      "execution_count": 3,
      "metadata": {},
      "outputs": [
        {
          "data": {
            "text/plain": [
              "True"
            ]
          },
          "execution_count": 3,
          "metadata": {},
          "output_type": "execute_result"
        }
      ],
      "source": [
        "arr = [1, 2, 3, 4, 5, 6]\n",
        "k = 7\n",
        "Solution().canArrange(arr=arr, k=k)"
      ]
    },
    {
      "cell_type": "code",
      "execution_count": 4,
      "metadata": {},
      "outputs": [
        {
          "data": {
            "text/plain": [
              "False"
            ]
          },
          "execution_count": 4,
          "metadata": {},
          "output_type": "execute_result"
        }
      ],
      "source": [
        "arr = [1, 2, 3, 4, 5, 6]\n",
        "k = 10\n",
        "Solution().canArrange(arr=arr, k=k)"
      ]
    },
    {
      "cell_type": "code",
      "execution_count": 5,
      "metadata": {},
      "outputs": [
        {
          "data": {
            "text/plain": [
              "False"
            ]
          },
          "execution_count": 5,
          "metadata": {},
          "output_type": "execute_result"
        }
      ],
      "source": [
        "arr = [-1, -1, -1, -1, 2, 2, -2, -2]\n",
        "k = 3\n",
        "Solution().canArrange(arr=arr, k=k)"
      ]
    }
  ],
  "metadata": {
    "kernelspec": {
      "display_name": "base",
      "language": "python",
      "name": "python3"
    },
    "language_info": {
      "codemirror_mode": {
        "name": "ipython",
        "version": 3
      },
      "file_extension": ".py",
      "mimetype": "text/x-python",
      "name": "python",
      "nbconvert_exporter": "python",
      "pygments_lexer": "ipython3",
      "version": "3.11.7"
    }
  },
  "nbformat": 4,
  "nbformat_minor": 2
}
