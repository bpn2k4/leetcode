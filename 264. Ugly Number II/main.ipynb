{
 "cells": [
  {
   "cell_type": "code",
   "execution_count": 1,
   "metadata": {},
   "outputs": [],
   "source": [
    "class Solution:\n",
    "\n",
    "  def nthUglyNumber(self, n: int) -> int:\n",
    "    if n == 1:\n",
    "      return 1\n",
    "    dp = [0] * (n)\n",
    "    dp[0] = 1\n",
    "    candidate = set()\n",
    "    for i in range(1, n):\n",
    "      candidate.add(dp[i-1] * 2)\n",
    "      candidate.add(dp[i-1] * 3)\n",
    "      candidate.add(dp[i-1] * 5)\n",
    "      min_value = 99999999999999\n",
    "      for value in candidate:\n",
    "        min_value = min(min_value, value)\n",
    "      candidate.remove(min_value)\n",
    "      dp[i] = min_value\n",
    "    return dp[-1]\n",
    "  \n",
    "  def nthUglyNumber(self, n: int) -> int:\n",
    "    i2 = i3 = i5 = 1\n",
    "    v2 = v3 = v5 = 1\n",
    "    dp = [0] * (n+1)\n",
    "    index = 1\n",
    "    while index <= n:\n",
    "      min_value = min(v2, v3, v5)\n",
    "      dp[index] = min_value\n",
    "      index += 1\n",
    "      if min_value == v2:\n",
    "        v2 = dp[i2] * 2\n",
    "        i2 += 1\n",
    "      if min_value == v3:\n",
    "        v3 = dp[i3] * 3\n",
    "        i3 += 1\n",
    "      if min_value == v5:\n",
    "        v5 = dp[i5] * 5\n",
    "        i5 += 1\n",
    "    return dp[n]"
   ]
  },
  {
   "cell_type": "code",
   "execution_count": 2,
   "metadata": {},
   "outputs": [
    {
     "data": {
      "text/plain": [
       "12"
      ]
     },
     "execution_count": 2,
     "metadata": {},
     "output_type": "execute_result"
    }
   ],
   "source": [
    "Solution().nthUglyNumber(n = 10)"
   ]
  },
  {
   "cell_type": "code",
   "execution_count": 3,
   "metadata": {},
   "outputs": [
    {
     "data": {
      "text/plain": [
       "1"
      ]
     },
     "execution_count": 3,
     "metadata": {},
     "output_type": "execute_result"
    }
   ],
   "source": [
    "Solution().nthUglyNumber(n = 1)"
   ]
  }
 ],
 "metadata": {
  "kernelspec": {
   "display_name": "base",
   "language": "python",
   "name": "python3"
  },
  "language_info": {
   "codemirror_mode": {
    "name": "ipython",
    "version": 3
   },
   "file_extension": ".py",
   "mimetype": "text/x-python",
   "name": "python",
   "nbconvert_exporter": "python",
   "pygments_lexer": "ipython3",
   "version": "3.11.7"
  }
 },
 "nbformat": 4,
 "nbformat_minor": 2
}
