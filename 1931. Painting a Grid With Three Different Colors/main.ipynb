{
  "cells": [
    {
      "cell_type": "code",
      "execution_count": 1,
      "metadata": {},
      "outputs": [],
      "source": [
        "class Solution:\n",
        "  def colorTheGrid(self, m: int, n: int) -> int:\n",
        "    \n",
        "    MOD = 10**9 + 7\n",
        "    states = []\n",
        "    for num in range(3**m):\n",
        "      colors = []\n",
        "      for _ in range(m):\n",
        "        colors.append(num % 3)\n",
        "        num //= 3\n",
        "      valid = True\n",
        "      for i in range(1, m):\n",
        "        if colors[i] == colors[i-1]:\n",
        "          valid = False\n",
        "          break\n",
        "      if valid:\n",
        "        states.append(colors)\n",
        "    \n",
        "    s = len(states)\n",
        "    c = [[] for _ in range(s)]\n",
        "    for i in range(s):\n",
        "      for j in range(s):\n",
        "        if all(states[i][k] != states[j][k] for k in range(m)):\n",
        "          c[i].append(j)\n",
        "    \n",
        "    dp = [1] * s\n",
        "    for _ in range(1, n):\n",
        "      new_dp = [0] * s\n",
        "      for i in range(s):\n",
        "        for j in c[i]:\n",
        "          new_dp[j] = (new_dp[j] + dp[i]) % MOD\n",
        "      dp = new_dp\n",
        "\n",
        "    return sum(dp) % MOD"
      ]
    },
    {
      "cell_type": "code",
      "execution_count": 2,
      "metadata": {},
      "outputs": [
        {
          "data": {
            "text/plain": [
              "3"
            ]
          },
          "execution_count": 2,
          "metadata": {},
          "output_type": "execute_result"
        }
      ],
      "source": [
        "m = 1\n",
        "n = 1\n",
        "Solution().colorTheGrid(m=m, n=n)"
      ]
    },
    {
      "cell_type": "code",
      "execution_count": 3,
      "metadata": {},
      "outputs": [
        {
          "data": {
            "text/plain": [
              "6"
            ]
          },
          "execution_count": 3,
          "metadata": {},
          "output_type": "execute_result"
        }
      ],
      "source": [
        "m = 1\n",
        "n = 2\n",
        "Solution().colorTheGrid(m=m, n=n)"
      ]
    },
    {
      "cell_type": "code",
      "execution_count": 4,
      "metadata": {},
      "outputs": [
        {
          "data": {
            "text/plain": [
              "580986"
            ]
          },
          "execution_count": 4,
          "metadata": {},
          "output_type": "execute_result"
        }
      ],
      "source": [
        "m = 5\n",
        "n = 5\n",
        "Solution().colorTheGrid(m=m, n=n)"
      ]
    }
  ],
  "metadata": {
    "kernelspec": {
      "display_name": "Python 3",
      "language": "python",
      "name": "python3"
    },
    "language_info": {
      "codemirror_mode": {
        "name": "ipython",
        "version": 3
      },
      "file_extension": ".py",
      "mimetype": "text/x-python",
      "name": "python",
      "nbconvert_exporter": "python",
      "pygments_lexer": "ipython3",
      "version": "3.12.8"
    }
  },
  "nbformat": 4,
  "nbformat_minor": 2
}
