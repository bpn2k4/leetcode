{
  "cells": [
    {
      "cell_type": "code",
      "execution_count": 1,
      "metadata": {},
      "outputs": [],
      "source": [
        "class Solution:\n",
        "  def idealArrays(self, n: int, maxValue: int) -> int:\n",
        "\n",
        "    MOD = 10**9 + 7\n",
        "\n",
        "    max_k = n + 1\n",
        "    fact = [1] * max_k\n",
        "    inv_fact = [1] * max_k\n",
        "    for i in range(1, max_k):\n",
        "      fact[i] = fact[i - 1] * i % MOD\n",
        "    inv_fact[max_k - 1] = pow(fact[max_k - 1], MOD - 2, MOD)\n",
        "    for i in range(max_k - 2, -1, -1):\n",
        "      inv_fact[i] = inv_fact[i + 1] * (i + 1) % MOD\n",
        "\n",
        "    def comb(a, b):\n",
        "      if b < 0 or b > a:\n",
        "        return 0\n",
        "      return fact[a] * inv_fact[b] % MOD * inv_fact[a - b] % MOD\n",
        "\n",
        "    memo = {}\n",
        "\n",
        "    def rec(k, value):\n",
        "      if (k, value) in memo:\n",
        "        return memo[(k, value)]\n",
        "\n",
        "      if k == n:\n",
        "        result = comb(n - 1, k - 1)\n",
        "      else:\n",
        "        result = comb(n - 1, k - 1)\n",
        "        for i in range(2, maxValue // value + 1):\n",
        "          result = (result + rec(k + 1, value * i)) % MOD\n",
        "\n",
        "      memo[(k, value)] = result\n",
        "      return result\n",
        "\n",
        "    total = 0\n",
        "    for i in range(1, maxValue + 1):\n",
        "      total = (total + rec(1, i)) % MOD\n",
        "\n",
        "    return total"
      ]
    },
    {
      "cell_type": "code",
      "execution_count": 2,
      "metadata": {},
      "outputs": [
        {
          "data": {
            "text/plain": [
              "10"
            ]
          },
          "execution_count": 2,
          "metadata": {},
          "output_type": "execute_result"
        }
      ],
      "source": [
        "n = 2\n",
        "maxValue = 5\n",
        "Solution().idealArrays(n=n, maxValue=maxValue)"
      ]
    },
    {
      "cell_type": "code",
      "execution_count": 3,
      "metadata": {},
      "outputs": [
        {
          "data": {
            "text/plain": [
              "11"
            ]
          },
          "execution_count": 3,
          "metadata": {},
          "output_type": "execute_result"
        }
      ],
      "source": [
        "n = 5\n",
        "maxValue = 3\n",
        "Solution().idealArrays(n=n, maxValue=maxValue)"
      ]
    }
  ],
  "metadata": {
    "kernelspec": {
      "display_name": "Python 3",
      "language": "python",
      "name": "python3"
    },
    "language_info": {
      "codemirror_mode": {
        "name": "ipython",
        "version": 3
      },
      "file_extension": ".py",
      "mimetype": "text/x-python",
      "name": "python",
      "nbconvert_exporter": "python",
      "pygments_lexer": "ipython3",
      "version": "3.12.8"
    }
  },
  "nbformat": 4,
  "nbformat_minor": 2
}
