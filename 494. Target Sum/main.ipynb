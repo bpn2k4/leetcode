{
  "cells": [
    {
      "cell_type": "code",
      "execution_count": 1,
      "metadata": {},
      "outputs": [],
      "source": [
        "from typing import List\n",
        "\n",
        "\n",
        "class Solution:\n",
        "  def findTargetSumWays(self, nums: List[int], target: int) -> int:\n",
        "\n",
        "    total_sum = sum(nums)\n",
        "\n",
        "    if (target + total_sum) % 2 != 0 or (target + total_sum) < 0:\n",
        "      return 0\n",
        "\n",
        "    subset_sum = (target + total_sum) // 2\n",
        "\n",
        "    dp = [0] * (subset_sum + 1)\n",
        "    dp[0] = 1\n",
        "\n",
        "    for num in nums:\n",
        "      for j in range(subset_sum, num - 1, -1):\n",
        "        dp[j] += dp[j - num]\n",
        "\n",
        "    return dp[subset_sum]"
      ]
    },
    {
      "cell_type": "code",
      "execution_count": 2,
      "metadata": {},
      "outputs": [
        {
          "data": {
            "text/plain": [
              "5"
            ]
          },
          "execution_count": 2,
          "metadata": {},
          "output_type": "execute_result"
        }
      ],
      "source": [
        "nums = [1, 1, 1, 1, 1]\n",
        "target = 3\n",
        "Solution().findTargetSumWays(nums=nums, target=target)"
      ]
    },
    {
      "cell_type": "code",
      "execution_count": 3,
      "metadata": {},
      "outputs": [
        {
          "data": {
            "text/plain": [
              "1"
            ]
          },
          "execution_count": 3,
          "metadata": {},
          "output_type": "execute_result"
        }
      ],
      "source": [
        "nums = [1]\n",
        "target = 1\n",
        "Solution().findTargetSumWays(nums=nums, target=target)"
      ]
    }
  ],
  "metadata": {
    "kernelspec": {
      "display_name": "base",
      "language": "python",
      "name": "python3"
    },
    "language_info": {
      "codemirror_mode": {
        "name": "ipython",
        "version": 3
      },
      "file_extension": ".py",
      "mimetype": "text/x-python",
      "name": "python",
      "nbconvert_exporter": "python",
      "pygments_lexer": "ipython3",
      "version": "3.11.7"
    }
  },
  "nbformat": 4,
  "nbformat_minor": 2
}
