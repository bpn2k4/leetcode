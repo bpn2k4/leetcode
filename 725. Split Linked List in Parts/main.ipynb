{
 "cells": [
  {
   "cell_type": "code",
   "execution_count": 1,
   "metadata": {},
   "outputs": [],
   "source": [
    "from typing import List, Optional\n",
    "\n",
    "\n",
    "class ListNode:\n",
    "  def __init__(self, val=0, next=None):\n",
    "    self.val = val\n",
    "    self.next: Optional[ListNode] = next\n",
    "\n",
    "\n",
    "class Solution:\n",
    "  def splitListToParts(self, head: Optional[ListNode], k: int) -> List[Optional[ListNode]]:\n",
    "\n",
    "    output = []\n",
    "    pointer = head\n",
    "    n = 0\n",
    "\n",
    "    while pointer:\n",
    "      n += 1\n",
    "      pointer = pointer.next\n",
    "\n",
    "    m = n // k\n",
    "    r = n % k\n",
    "    lengths = [m + 1] * r + [m] * (k - r)\n",
    "\n",
    "    pointer = head\n",
    "    for length in lengths:\n",
    "      if length == 0:\n",
    "        output.append(None)\n",
    "      else:\n",
    "        output.append(pointer)\n",
    "        for _ in range(length - 1):\n",
    "          pointer = pointer.next\n",
    "        tmp = pointer.next\n",
    "        pointer.next = None\n",
    "        pointer = tmp\n",
    "\n",
    "    return output"
   ]
  },
  {
   "cell_type": "code",
   "execution_count": 2,
   "metadata": {},
   "outputs": [],
   "source": [
    "def print_list(head: ListNode):\n",
    "  pointer = head\n",
    "  while pointer:\n",
    "    print(pointer.val, end=' -> ' if pointer.next else '')\n",
    "    pointer = pointer.next\n",
    "  print()"
   ]
  },
  {
   "cell_type": "code",
   "execution_count": 3,
   "metadata": {},
   "outputs": [
    {
     "name": "stdout",
     "output_type": "stream",
     "text": [
      "1\n",
      "2\n",
      "3\n",
      "\n",
      "\n"
     ]
    }
   ],
   "source": [
    "head = ListNode(1)\n",
    "head.next = ListNode(2)\n",
    "head.next.next = ListNode(3)\n",
    "for i in Solution().splitListToParts(head=head, k=5):\n",
    "  print_list(i)"
   ]
  },
  {
   "cell_type": "code",
   "execution_count": 4,
   "metadata": {},
   "outputs": [
    {
     "name": "stdout",
     "output_type": "stream",
     "text": [
      "1 -> 2 -> 3 -> 4\n",
      "5 -> 6 -> 7\n",
      "8 -> 9 -> 10\n"
     ]
    }
   ],
   "source": [
    "head = ListNode(1)\n",
    "head.next = ListNode(2)\n",
    "head.next.next = ListNode(3)\n",
    "head.next.next.next = ListNode(4)\n",
    "head.next.next.next.next = ListNode(5)\n",
    "head.next.next.next.next.next = ListNode(6)\n",
    "head.next.next.next.next.next.next = ListNode(7)\n",
    "head.next.next.next.next.next.next.next = ListNode(8)\n",
    "head.next.next.next.next.next.next.next.next = ListNode(9)\n",
    "head.next.next.next.next.next.next.next.next.next = ListNode(10)\n",
    "for i in Solution().splitListToParts(head=head, k=3):\n",
    "  print_list(i)"
   ]
  }
 ],
 "metadata": {
  "kernelspec": {
   "display_name": "base",
   "language": "python",
   "name": "python3"
  },
  "language_info": {
   "codemirror_mode": {
    "name": "ipython",
    "version": 3
   },
   "file_extension": ".py",
   "mimetype": "text/x-python",
   "name": "python",
   "nbconvert_exporter": "python",
   "pygments_lexer": "ipython3",
   "version": "3.11.7"
  }
 },
 "nbformat": 4,
 "nbformat_minor": 2
}
