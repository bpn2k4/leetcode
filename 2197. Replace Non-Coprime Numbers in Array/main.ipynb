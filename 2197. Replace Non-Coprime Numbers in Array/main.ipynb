{
  "cells": [
    {
      "cell_type": "code",
      "execution_count": 1,
      "metadata": {},
      "outputs": [],
      "source": [
        "from typing import List\n",
        "import math\n",
        "\n",
        "\n",
        "class Solution:\n",
        "  def replaceNonCoprimes(self, nums: List[int]) -> List[int]:\n",
        "\n",
        "    stack = []\n",
        "    for num in nums:\n",
        "      while stack:\n",
        "        g = math.gcd(stack[-1], num)\n",
        "        if g == 1:\n",
        "          break\n",
        "        num = (stack.pop() * num) // g\n",
        "      stack.append(num)\n",
        "\n",
        "    return stack"
      ]
    },
    {
      "cell_type": "code",
      "execution_count": 2,
      "metadata": {},
      "outputs": [
        {
          "data": {
            "text/plain": [
              "[12, 7, 6]"
            ]
          },
          "execution_count": 2,
          "metadata": {},
          "output_type": "execute_result"
        }
      ],
      "source": [
        "nums = [6, 4, 3, 2, 7, 6, 2]\n",
        "Solution().replaceNonCoprimes(nums=nums)"
      ]
    },
    {
      "cell_type": "code",
      "execution_count": 3,
      "metadata": {},
      "outputs": [
        {
          "data": {
            "text/plain": [
              "[2, 1, 1, 3]"
            ]
          },
          "execution_count": 3,
          "metadata": {},
          "output_type": "execute_result"
        }
      ],
      "source": [
        "nums = [2, 2, 1, 1, 3, 3, 3]\n",
        "Solution().replaceNonCoprimes(nums=nums)"
      ]
    }
  ],
  "metadata": {
    "kernelspec": {
      "display_name": "Python 3",
      "language": "python",
      "name": "python3"
    },
    "language_info": {
      "codemirror_mode": {
        "name": "ipython",
        "version": 3
      },
      "file_extension": ".py",
      "mimetype": "text/x-python",
      "name": "python",
      "nbconvert_exporter": "python",
      "pygments_lexer": "ipython3",
      "version": "3.12.8"
    }
  },
  "nbformat": 4,
  "nbformat_minor": 2
}
