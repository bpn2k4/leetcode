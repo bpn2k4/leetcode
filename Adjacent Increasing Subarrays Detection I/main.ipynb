{
  "cells": [
    {
      "cell_type": "code",
      "execution_count": 1,
      "metadata": {},
      "outputs": [],
      "source": [
        "from typing import List\n",
        "\n",
        "\n",
        "class Solution:\n",
        "  def hasIncreasingSubarrays(self, nums: List[int], k: int) -> bool:\n",
        "\n",
        "    n = len(nums)\n",
        "    cnt, pre_cnt, ans = 1, 0, 0\n",
        "    for i in range(1, n):\n",
        "      if nums[i] > nums[i - 1]:\n",
        "        cnt += 1\n",
        "      else:\n",
        "        pre_cnt, cnt = cnt, 1\n",
        "      ans = max(ans, min(pre_cnt, cnt))\n",
        "      ans = max(ans, cnt // 2)\n",
        "\n",
        "    return ans >= k"
      ]
    },
    {
      "cell_type": "code",
      "execution_count": 2,
      "metadata": {},
      "outputs": [
        {
          "data": {
            "text/plain": [
              "True"
            ]
          },
          "execution_count": 2,
          "metadata": {},
          "output_type": "execute_result"
        }
      ],
      "source": [
        "nums = [2, 5, 7, 8, 9, 2, 3, 4, 3, 1]\n",
        "k = 3\n",
        "Solution().hasIncreasingSubarrays(nums=nums, k=k)"
      ]
    },
    {
      "cell_type": "code",
      "execution_count": 3,
      "metadata": {},
      "outputs": [
        {
          "data": {
            "text/plain": [
              "False"
            ]
          },
          "execution_count": 3,
          "metadata": {},
          "output_type": "execute_result"
        }
      ],
      "source": [
        "nums = [1, 2, 3, 4, 4, 4, 4, 5, 6, 7]\n",
        "k = 5\n",
        "Solution().hasIncreasingSubarrays(nums=nums, k=k)"
      ]
    }
  ],
  "metadata": {
    "kernelspec": {
      "display_name": "Python 3",
      "language": "python",
      "name": "python3"
    },
    "language_info": {
      "codemirror_mode": {
        "name": "ipython",
        "version": 3
      },
      "file_extension": ".py",
      "mimetype": "text/x-python",
      "name": "python",
      "nbconvert_exporter": "python",
      "pygments_lexer": "ipython3",
      "version": "3.12.8"
    }
  },
  "nbformat": 4,
  "nbformat_minor": 2
}
