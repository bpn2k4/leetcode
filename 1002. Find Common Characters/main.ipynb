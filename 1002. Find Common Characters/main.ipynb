{
 "cells": [
  {
   "cell_type": "code",
   "execution_count": 1,
   "metadata": {},
   "outputs": [],
   "source": [
    "from typing import List\n",
    "\n",
    "\n",
    "class Solution:\n",
    "  def commonChars(self, words: List[str]) -> List[str]:\n",
    "\n",
    "    n = len(words)\n",
    "\n",
    "    char_dict = {}\n",
    "    for index, word in enumerate(words):\n",
    "      for char in word:\n",
    "        if char not in char_dict:\n",
    "          char_dict[char] = [0] * n\n",
    "        char_dict[char][index] += 1\n",
    "\n",
    "    output = []\n",
    "    for char, count_list in char_dict.items():\n",
    "      min_count = min(count_list)\n",
    "      output += [char] * min_count\n",
    "\n",
    "    return output"
   ]
  },
  {
   "cell_type": "code",
   "execution_count": 2,
   "metadata": {},
   "outputs": [
    {
     "data": {
      "text/plain": [
       "['e', 'l', 'l']"
      ]
     },
     "execution_count": 2,
     "metadata": {},
     "output_type": "execute_result"
    }
   ],
   "source": [
    "Solution().commonChars(words=[\"bella\", \"label\", \"roller\"])"
   ]
  },
  {
   "cell_type": "code",
   "execution_count": 3,
   "metadata": {},
   "outputs": [
    {
     "data": {
      "text/plain": [
       "['c', 'o']"
      ]
     },
     "execution_count": 3,
     "metadata": {},
     "output_type": "execute_result"
    }
   ],
   "source": [
    "Solution().commonChars(words=[\"cool\", \"lock\", \"cook\"])"
   ]
  }
 ],
 "metadata": {
  "kernelspec": {
   "display_name": "base",
   "language": "python",
   "name": "python3"
  },
  "language_info": {
   "codemirror_mode": {
    "name": "ipython",
    "version": 3
   },
   "file_extension": ".py",
   "mimetype": "text/x-python",
   "name": "python",
   "nbconvert_exporter": "python",
   "pygments_lexer": "ipython3",
   "version": "3.11.7"
  }
 },
 "nbformat": 4,
 "nbformat_minor": 2
}
