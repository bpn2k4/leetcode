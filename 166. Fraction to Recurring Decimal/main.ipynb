{
  "cells": [
    {
      "cell_type": "code",
      "execution_count": 1,
      "metadata": {},
      "outputs": [],
      "source": [
        "class Solution:\n",
        "  def fractionToDecimal(self, numerator: int, denominator: int) -> str:\n",
        "\n",
        "    if numerator == 0:\n",
        "      return '0'\n",
        "\n",
        "    res = []\n",
        "    if (numerator < 0) ^ (denominator < 0):\n",
        "      res.append('-')\n",
        "\n",
        "    numerator, denominator = abs(numerator), abs(denominator)\n",
        "\n",
        "    res.append(str(numerator // denominator))\n",
        "    remainder = numerator % denominator\n",
        "\n",
        "    if remainder == 0:\n",
        "      return ''.join(res)\n",
        "\n",
        "    res.append('.')\n",
        "    seen = {}\n",
        "\n",
        "    while remainder:\n",
        "      if remainder in seen:\n",
        "        res.insert(seen[remainder], '(')\n",
        "        res.append(')')\n",
        "        break\n",
        "\n",
        "      seen[remainder] = len(res)\n",
        "\n",
        "      remainder *= 10\n",
        "      res.append(str(remainder // denominator))\n",
        "      remainder %= denominator\n",
        "\n",
        "    return ''.join(res)"
      ]
    },
    {
      "cell_type": "code",
      "execution_count": 2,
      "metadata": {},
      "outputs": [
        {
          "data": {
            "text/plain": [
              "'0.5'"
            ]
          },
          "execution_count": 2,
          "metadata": {},
          "output_type": "execute_result"
        }
      ],
      "source": [
        "numerator = 1\n",
        "denominator = 2\n",
        "Solution().fractionToDecimal(numerator=numerator, denominator=denominator)"
      ]
    },
    {
      "cell_type": "code",
      "execution_count": 3,
      "metadata": {},
      "outputs": [
        {
          "data": {
            "text/plain": [
              "'2'"
            ]
          },
          "execution_count": 3,
          "metadata": {},
          "output_type": "execute_result"
        }
      ],
      "source": [
        "numerator = 2\n",
        "denominator = 1\n",
        "Solution().fractionToDecimal(numerator=numerator, denominator=denominator)"
      ]
    },
    {
      "cell_type": "code",
      "execution_count": 4,
      "metadata": {},
      "outputs": [
        {
          "data": {
            "text/plain": [
              "'0.(012)'"
            ]
          },
          "execution_count": 4,
          "metadata": {},
          "output_type": "execute_result"
        }
      ],
      "source": [
        "numerator = 4\n",
        "denominator = 333\n",
        "Solution().fractionToDecimal(numerator=numerator, denominator=denominator)"
      ]
    }
  ],
  "metadata": {
    "kernelspec": {
      "display_name": "Python 3",
      "language": "python",
      "name": "python3"
    },
    "language_info": {
      "codemirror_mode": {
        "name": "ipython",
        "version": 3
      },
      "file_extension": ".py",
      "mimetype": "text/x-python",
      "name": "python",
      "nbconvert_exporter": "python",
      "pygments_lexer": "ipython3",
      "version": "3.12.8"
    }
  },
  "nbformat": 4,
  "nbformat_minor": 2
}
