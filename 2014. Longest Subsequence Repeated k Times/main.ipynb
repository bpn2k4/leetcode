{
  "cells": [
    {
      "cell_type": "code",
      "execution_count": 1,
      "metadata": {},
      "outputs": [],
      "source": [
        "from collections import Counter, deque\n",
        "\n",
        "\n",
        "class Solution:\n",
        "  def longestSubsequenceRepeatedK(self, s: str, k: int) -> str:\n",
        "\n",
        "    output = \"\"\n",
        "    char2count = Counter(s)\n",
        "    candidate = [char for char, count in char2count.items() if count >= k]\n",
        "    candidate.sort(reverse=True)\n",
        "    q = deque(candidate)\n",
        "    while q:\n",
        "      curr = q.popleft()\n",
        "      if len(curr) > len(output):\n",
        "        output = curr\n",
        "\n",
        "      for ch in candidate:\n",
        "        nxt = curr + ch\n",
        "        it = iter(s)\n",
        "        if all(ch in it for ch in nxt * k):\n",
        "          q.append(nxt)\n",
        "          \n",
        "    return output"
      ]
    },
    {
      "cell_type": "code",
      "execution_count": 2,
      "metadata": {},
      "outputs": [
        {
          "data": {
            "text/plain": [
              "'let'"
            ]
          },
          "execution_count": 2,
          "metadata": {},
          "output_type": "execute_result"
        }
      ],
      "source": [
        "s = \"letsleetcode\"\n",
        "k = 2\n",
        "Solution().longestSubsequenceRepeatedK(s=s, k=k)"
      ]
    },
    {
      "cell_type": "code",
      "execution_count": 3,
      "metadata": {},
      "outputs": [
        {
          "data": {
            "text/plain": [
              "'b'"
            ]
          },
          "execution_count": 3,
          "metadata": {},
          "output_type": "execute_result"
        }
      ],
      "source": [
        "s = \"bb\"\n",
        "k = 2\n",
        "Solution().longestSubsequenceRepeatedK(s=s, k=k)"
      ]
    },
    {
      "cell_type": "code",
      "execution_count": 4,
      "metadata": {},
      "outputs": [
        {
          "data": {
            "text/plain": [
              "''"
            ]
          },
          "execution_count": 4,
          "metadata": {},
          "output_type": "execute_result"
        }
      ],
      "source": [
        "s = \"ab\"\n",
        "k = 2\n",
        "Solution().longestSubsequenceRepeatedK(s=s, k=k)"
      ]
    }
  ],
  "metadata": {
    "kernelspec": {
      "display_name": "Python 3",
      "language": "python",
      "name": "python3"
    },
    "language_info": {
      "codemirror_mode": {
        "name": "ipython",
        "version": 3
      },
      "file_extension": ".py",
      "mimetype": "text/x-python",
      "name": "python",
      "nbconvert_exporter": "python",
      "pygments_lexer": "ipython3",
      "version": "3.12.8"
    }
  },
  "nbformat": 4,
  "nbformat_minor": 2
}
