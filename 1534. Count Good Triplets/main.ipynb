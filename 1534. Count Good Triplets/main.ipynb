{
  "cells": [
    {
      "cell_type": "code",
      "execution_count": 1,
      "metadata": {},
      "outputs": [],
      "source": [
        "from typing import List\n",
        "\n",
        "\n",
        "class Solution:\n",
        "  def countGoodTriplets(self, arr: List[int], a: int, b: int, c: int) -> int:\n",
        "    \n",
        "    n = len(arr)\n",
        "    count = 0\n",
        "    for i in range(n - 2):\n",
        "      for j in range(i + 1, n - 1):\n",
        "        for k in range(j + 1, n):\n",
        "          if abs(arr[i] - arr[j]) <= a and abs(arr[j] - arr[k]) <= b and abs(arr[i] - arr[k]) <= c:\n",
        "            count += 1\n",
        "    \n",
        "    return count\n",
        "    "
      ]
    },
    {
      "cell_type": "code",
      "execution_count": 2,
      "metadata": {},
      "outputs": [
        {
          "data": {
            "text/plain": [
              "4"
            ]
          },
          "execution_count": 2,
          "metadata": {},
          "output_type": "execute_result"
        }
      ],
      "source": [
        "arr = [3, 0, 1, 1, 9, 7]\n",
        "a = 7\n",
        "b = 2\n",
        "c = 3\n",
        "Solution().countGoodTriplets(arr=arr, a=a, b=b, c=c)"
      ]
    },
    {
      "cell_type": "code",
      "execution_count": 3,
      "metadata": {},
      "outputs": [
        {
          "data": {
            "text/plain": [
              "0"
            ]
          },
          "execution_count": 3,
          "metadata": {},
          "output_type": "execute_result"
        }
      ],
      "source": [
        "arr = [1, 1, 2, 2, 3]\n",
        "a = 0\n",
        "b = 0\n",
        "c = 1\n",
        "Solution().countGoodTriplets(arr=arr, a=a, b=b, c=c)"
      ]
    }
  ],
  "metadata": {
    "kernelspec": {
      "display_name": "Python 3",
      "language": "python",
      "name": "python3"
    },
    "language_info": {
      "codemirror_mode": {
        "name": "ipython",
        "version": 3
      },
      "file_extension": ".py",
      "mimetype": "text/x-python",
      "name": "python",
      "nbconvert_exporter": "python",
      "pygments_lexer": "ipython3",
      "version": "3.12.8"
    }
  },
  "nbformat": 4,
  "nbformat_minor": 2
}
