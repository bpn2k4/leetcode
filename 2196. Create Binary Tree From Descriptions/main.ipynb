{
 "cells": [
  {
   "cell_type": "code",
   "execution_count": 9,
   "metadata": {},
   "outputs": [],
   "source": [
    "from typing import Dict, List, Optional\n",
    "\n",
    "\n",
    "class TreeNode:\n",
    "  def __init__(self, val=0, left=None, right=None):\n",
    "    self.val: int = val\n",
    "    self.left: TreeNode = left\n",
    "    self.right: TreeNode = right\n",
    "\n",
    "\n",
    "class Solution:\n",
    "\n",
    "  def createBinaryTree(self, descriptions: List[List[int]]) -> Optional[TreeNode]:\n",
    "    mark_dict = {}\n",
    "    child_mark_dict = {}\n",
    "    for parent, child, is_left in descriptions:\n",
    "      if parent not in mark_dict:\n",
    "        mark_dict[parent] = TreeNode(parent)\n",
    "      if child not in mark_dict:\n",
    "        mark_dict[child] = TreeNode(child)\n",
    "      if is_left:\n",
    "        mark_dict[parent].left = mark_dict[child]\n",
    "      else:\n",
    "        mark_dict[parent].right = mark_dict[child]\n",
    "      if child not in child_mark_dict:\n",
    "        child_mark_dict[child] = 1\n",
    "    arr = [mark_dict[i] for i in mark_dict if i not in child_mark_dict]\n",
    "    return arr[0]"
   ]
  },
  {
   "cell_type": "code",
   "execution_count": 10,
   "metadata": {},
   "outputs": [],
   "source": [
    "def print_tree(root: TreeNode):\n",
    "  if not root:\n",
    "    print([])\n",
    "    return \n",
    "  result = []\n",
    "  q = [root]\n",
    "  while q:\n",
    "    node = q.pop(0)\n",
    "    if node:\n",
    "      result.append(node.val)\n",
    "      q.append(node.left)\n",
    "      q.append(node.right)\n",
    "    else:\n",
    "      result.append(None)\n",
    "  while result and result[-1] is None:\n",
    "    result.pop()\n",
    "  print(result)"
   ]
  },
  {
   "cell_type": "code",
   "execution_count": 11,
   "metadata": {},
   "outputs": [
    {
     "name": "stdout",
     "output_type": "stream",
     "text": [
      "[50, 20, 80, 15, 17, 19]\n"
     ]
    }
   ],
   "source": [
    "Solution().createBinaryTree(descriptions = [[20,15,1],[20,17,0],[50,20,1],[50,80,0],[80,19,1]])\n",
    "print_tree(Solution().createBinaryTree(descriptions = [[20,15,1],[20,17,0],[50,20,1],[50,80,0],[80,19,1]]))"
   ]
  },
  {
   "cell_type": "code",
   "execution_count": 12,
   "metadata": {},
   "outputs": [
    {
     "name": "stdout",
     "output_type": "stream",
     "text": [
      "[1, 2, None, None, 3, 4]\n"
     ]
    }
   ],
   "source": [
    "Solution().createBinaryTree(descriptions = [[1,2,1],[2,3,0],[3,4,1]])\n",
    "print_tree(Solution().createBinaryTree(descriptions = [[1,2,1],[2,3,0],[3,4,1]]))"
   ]
  }
 ],
 "metadata": {
  "kernelspec": {
   "display_name": "base",
   "language": "python",
   "name": "python3"
  },
  "language_info": {
   "codemirror_mode": {
    "name": "ipython",
    "version": 3
   },
   "file_extension": ".py",
   "mimetype": "text/x-python",
   "name": "python",
   "nbconvert_exporter": "python",
   "pygments_lexer": "ipython3",
   "version": "3.11.7"
  }
 },
 "nbformat": 4,
 "nbformat_minor": 2
}
