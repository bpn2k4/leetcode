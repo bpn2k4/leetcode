{
  "cells": [
    {
      "cell_type": "code",
      "execution_count": 1,
      "metadata": {},
      "outputs": [],
      "source": [
        "from typing import List\n",
        "\n",
        "\n",
        "class Solution:\n",
        "  def maxWidthRamp(self, nums: List[int]) -> int:\n",
        "\n",
        "    maximum_width_of_ramp = 0\n",
        "    num_to_index = {}\n",
        "    max_value = -1\n",
        "    for index, num in enumerate(nums):\n",
        "      max_value = max(max_value, num)\n",
        "      if num not in num_to_index:\n",
        "        num_to_index[num] = index\n",
        "\n",
        "    min_value = 50001\n",
        "    mark = [0] * (max_value + 1)\n",
        "    for i in range(max_value + 1):\n",
        "      if i not in num_to_index:\n",
        "        continue\n",
        "      min_value = min(min_value, num_to_index[i])\n",
        "      mark[i] = min_value\n",
        "    \n",
        "    for index, num in enumerate(nums):\n",
        "      maximum_width_of_ramp = max(maximum_width_of_ramp, index - mark[num])\n",
        "    \n",
        "    return maximum_width_of_ramp\n",
        "  \n",
        "  def maxWidthRamp(self, nums: List[int]) -> int:\n",
        "\n",
        "    stack = []\n",
        "\n",
        "    for i in range(len(nums)):\n",
        "      if not stack or nums[stack[-1]] > nums[i]:\n",
        "        stack.append(i)\n",
        "\n",
        "    max_width = 0\n",
        "    for j in range(len(nums) - 1, -1, -1):\n",
        "      while stack and nums[stack[-1]] <= nums[j]:\n",
        "        max_width = max(max_width, j - stack.pop())\n",
        "\n",
        "    return max_width"
      ]
    },
    {
      "cell_type": "code",
      "execution_count": 2,
      "metadata": {},
      "outputs": [
        {
          "data": {
            "text/plain": [
              "4"
            ]
          },
          "execution_count": 2,
          "metadata": {},
          "output_type": "execute_result"
        }
      ],
      "source": [
        "nums = [6, 0, 8, 2, 1, 5]\n",
        "Solution().maxWidthRamp(nums=nums)"
      ]
    },
    {
      "cell_type": "code",
      "execution_count": 3,
      "metadata": {},
      "outputs": [
        {
          "data": {
            "text/plain": [
              "7"
            ]
          },
          "execution_count": 3,
          "metadata": {},
          "output_type": "execute_result"
        }
      ],
      "source": [
        "nums = [9, 8, 1, 0, 1, 9, 4, 0, 4, 1]\n",
        "Solution().maxWidthRamp(nums=nums)"
      ]
    }
  ],
  "metadata": {
    "kernelspec": {
      "display_name": "base",
      "language": "python",
      "name": "python3"
    },
    "language_info": {
      "codemirror_mode": {
        "name": "ipython",
        "version": 3
      },
      "file_extension": ".py",
      "mimetype": "text/x-python",
      "name": "python",
      "nbconvert_exporter": "python",
      "pygments_lexer": "ipython3",
      "version": "3.11.7"
    }
  },
  "nbformat": 4,
  "nbformat_minor": 2
}
