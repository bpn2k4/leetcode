{
  "cells": [
    {
      "cell_type": "code",
      "execution_count": 1,
      "metadata": {},
      "outputs": [],
      "source": [
        "class Solution:\n",
        "  def countLargestGroup(self, n: int) -> int:\n",
        "    \n",
        "    def sum_digits(num: int) -> int:\n",
        "      return sum(int(d) for d in str(num))\n",
        "    \n",
        "    sum_digits2count = {}\n",
        "    for i in range(1, n + 1):\n",
        "      digit_sum = sum_digits(i)\n",
        "      sum_digits2count[digit_sum] = sum_digits2count.get(digit_sum, 0) + 1\n",
        "    \n",
        "    arr = [(v, k) for k, v in sum_digits2count.items()]\n",
        "    arr.sort()\n",
        "    count = sum(1 for v, _ in arr if v == arr[-1][0])\n",
        "\n",
        "    return count"
      ]
    },
    {
      "cell_type": "code",
      "execution_count": 2,
      "metadata": {},
      "outputs": [
        {
          "data": {
            "text/plain": [
              "4"
            ]
          },
          "execution_count": 2,
          "metadata": {},
          "output_type": "execute_result"
        }
      ],
      "source": [
        "n = 13\n",
        "Solution().countLargestGroup(n=n)"
      ]
    },
    {
      "cell_type": "code",
      "execution_count": 3,
      "metadata": {},
      "outputs": [
        {
          "data": {
            "text/plain": [
              "2"
            ]
          },
          "execution_count": 3,
          "metadata": {},
          "output_type": "execute_result"
        }
      ],
      "source": [
        "n = 2\n",
        "Solution().countLargestGroup(n=n)"
      ]
    }
  ],
  "metadata": {
    "kernelspec": {
      "display_name": "Python 3",
      "language": "python",
      "name": "python3"
    },
    "language_info": {
      "codemirror_mode": {
        "name": "ipython",
        "version": 3
      },
      "file_extension": ".py",
      "mimetype": "text/x-python",
      "name": "python",
      "nbconvert_exporter": "python",
      "pygments_lexer": "ipython3",
      "version": "3.12.8"
    }
  },
  "nbformat": 4,
  "nbformat_minor": 2
}
