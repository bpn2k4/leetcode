{
  "cells": [
    {
      "cell_type": "code",
      "execution_count": 1,
      "metadata": {},
      "outputs": [],
      "source": [
        "from typing import List\n",
        "\n",
        "\n",
        "class Solution:\n",
        "  def largestTriangleArea(self, points: List[List[int]]) -> float:\n",
        "    \n",
        "    max_area = 0\n",
        "    n = len(points)\n",
        "    for i in range(n):\n",
        "      for j in range(i + 1, n):\n",
        "        for k in range(j + 1, n):\n",
        "          x1, y1 = points[i]\n",
        "          x2, y2 = points[j]\n",
        "          x3, y3 = points[k]\n",
        "          area = 0.5 * abs(x1 * (y2 - y3) + x2 * (y3 - y1) + x3 * (y1 - y2))\n",
        "          max_area = max(max_area, area)\n",
        "    \n",
        "    return max_area"
      ]
    },
    {
      "cell_type": "code",
      "execution_count": 2,
      "metadata": {},
      "outputs": [
        {
          "data": {
            "text/plain": [
              "2.0"
            ]
          },
          "execution_count": 2,
          "metadata": {},
          "output_type": "execute_result"
        }
      ],
      "source": [
        "points = [[0, 0], [0, 1], [1, 0], [0, 2], [2, 0]]\n",
        "Solution().largestTriangleArea(points=points)"
      ]
    },
    {
      "cell_type": "code",
      "execution_count": 3,
      "metadata": {},
      "outputs": [
        {
          "data": {
            "text/plain": [
              "0.5"
            ]
          },
          "execution_count": 3,
          "metadata": {},
          "output_type": "execute_result"
        }
      ],
      "source": [
        "points = [[1, 0], [0, 0], [0, 1]]\n",
        "Solution().largestTriangleArea(points=points)"
      ]
    }
  ],
  "metadata": {
    "kernelspec": {
      "display_name": "Python 3",
      "language": "python",
      "name": "python3"
    },
    "language_info": {
      "codemirror_mode": {
        "name": "ipython",
        "version": 3
      },
      "file_extension": ".py",
      "mimetype": "text/x-python",
      "name": "python",
      "nbconvert_exporter": "python",
      "pygments_lexer": "ipython3",
      "version": "3.12.1"
    }
  },
  "nbformat": 4,
  "nbformat_minor": 2
}
