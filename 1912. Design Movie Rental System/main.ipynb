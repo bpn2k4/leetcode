{
  "cells": [
    {
      "cell_type": "code",
      "execution_count": 1,
      "metadata": {},
      "outputs": [],
      "source": [
        "from typing import List\n",
        "\n",
        "\n",
        "class MovieRentingSystem:\n",
        "  def __init__(self, n: int, entries: List[List[int]]):\n",
        "    self.shop_movie2price: dict[tuple[int, int], int] = {}\n",
        "    self.movie2price_shop: dict[int, List[int]] = {}\n",
        "    self.shop_movie2rented: dict[tuple[int, int], int] = {}\n",
        "    for shop, movie, price in entries:\n",
        "      self.shop_movie2price[(shop, movie)] = price\n",
        "      if movie not in self.movie2price_shop:\n",
        "        self.movie2price_shop[movie] = []\n",
        "      self.movie2price_shop[movie].append((price, shop))\n",
        "\n",
        "    for movie in self.movie2price_shop:\n",
        "      self.movie2price_shop[movie].sort()\n",
        "\n",
        "\n",
        "  def search(self, movie: int) -> List[int]:\n",
        "    top_5 = []\n",
        "    for _, shop in self.movie2price_shop.get(movie, []):\n",
        "      if (shop, movie) not in self.shop_movie2rented:\n",
        "        top_5.append(shop)\n",
        "        if len(top_5) == 5:\n",
        "          break\n",
        "    return top_5\n",
        "\n",
        "\n",
        "  def rent(self, shop: int, movie: int) -> None:\n",
        "    self.shop_movie2rented[(shop, movie)] = 1\n",
        "    \n",
        "\n",
        "  def drop(self, shop: int, movie: int) -> None:\n",
        "    del self.shop_movie2rented[(shop, movie)]\n",
        "    \n",
        "\n",
        "  def report(self) -> List[List[int]]:\n",
        "    rented = []\n",
        "    for shop, movie in self.shop_movie2rented:\n",
        "      price = self.shop_movie2price[(shop, movie)]\n",
        "      rented.append((price, shop, movie))\n",
        "    rented.sort()\n",
        "    return [[shop, movie] for _, shop, movie in rented[:5]]"
      ]
    }
  ],
  "metadata": {
    "kernelspec": {
      "display_name": "Python 3",
      "language": "python",
      "name": "python3"
    },
    "language_info": {
      "codemirror_mode": {
        "name": "ipython",
        "version": 3
      },
      "file_extension": ".py",
      "mimetype": "text/x-python",
      "name": "python",
      "nbconvert_exporter": "python",
      "pygments_lexer": "ipython3",
      "version": "3.12.8"
    }
  },
  "nbformat": 4,
  "nbformat_minor": 2
}
