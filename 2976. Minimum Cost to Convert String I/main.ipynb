{
 "cells": [
  {
   "cell_type": "code",
   "execution_count": 36,
   "metadata": {},
   "outputs": [],
   "source": [
    "from typing import List\n",
    "\n",
    "\n",
    "class Solution:\n",
    "\n",
    "  def minimumCost(self, source: str, target: str, original: List[str], changed: List[str], cost: List[int]) -> int:\n",
    "    distance = {}\n",
    "    set_char = set([*original, *changed])\n",
    "    for i in set_char:\n",
    "      for j in set_char:\n",
    "        distance[i, j] = 99999999999\n",
    "        if i == j:\n",
    "          distance[i, j] = 0\n",
    "    for i, j, z in zip(original, changed, cost):\n",
    "      distance[i, j] = min(distance[i, j], z)\n",
    "    for k in set_char:\n",
    "      for i in set_char:\n",
    "        for j in set_char:\n",
    "          distance[i, j] = min(distance[i, j], distance[i, k] + distance[k, j])\n",
    "    cost = 0\n",
    "    for i, j in zip(source, target):\n",
    "      if i == j:\n",
    "        continue\n",
    "      d = distance.get((i, j), 99999999999)\n",
    "      if d == 99999999999:\n",
    "        return -1\n",
    "      cost += d\n",
    "    return cost\n",
    "      "
   ]
  },
  {
   "cell_type": "code",
   "execution_count": 37,
   "metadata": {},
   "outputs": [
    {
     "data": {
      "text/plain": [
       "28"
      ]
     },
     "execution_count": 37,
     "metadata": {},
     "output_type": "execute_result"
    }
   ],
   "source": [
    "Solution().minimumCost(\n",
    "    source=\"abcd\",\n",
    "    target=\"acbe\",\n",
    "    original=[\"a\", \"b\", \"c\", \"c\", \"e\", \"d\"],\n",
    "    changed=[\"b\", \"c\", \"b\", \"e\", \"b\", \"e\"],\n",
    "    cost=[2, 5, 5, 1, 2, 20]\n",
    ")"
   ]
  },
  {
   "cell_type": "code",
   "execution_count": 38,
   "metadata": {},
   "outputs": [
    {
     "data": {
      "text/plain": [
       "12"
      ]
     },
     "execution_count": 38,
     "metadata": {},
     "output_type": "execute_result"
    }
   ],
   "source": [
    "Solution().minimumCost(\n",
    "    source=\"aaaa\",\n",
    "    target=\"bbbb\",\n",
    "    original=[\"a\", \"c\"],\n",
    "    changed=[\"c\", \"b\"],\n",
    "    cost=[1, 2]\n",
    ")"
   ]
  },
  {
   "cell_type": "code",
   "execution_count": 39,
   "metadata": {},
   "outputs": [
    {
     "data": {
      "text/plain": [
       "-1"
      ]
     },
     "execution_count": 39,
     "metadata": {},
     "output_type": "execute_result"
    }
   ],
   "source": [
    "Solution().minimumCost(\n",
    "    source=\"abcd\",\n",
    "    target=\"abce\",\n",
    "    original=[\"a\"],\n",
    "    changed=[\"e\"],\n",
    "    cost=[10000]\n",
    ")"
   ]
  }
 ],
 "metadata": {
  "kernelspec": {
   "display_name": "base",
   "language": "python",
   "name": "python3"
  },
  "language_info": {
   "codemirror_mode": {
    "name": "ipython",
    "version": 3
   },
   "file_extension": ".py",
   "mimetype": "text/x-python",
   "name": "python",
   "nbconvert_exporter": "python",
   "pygments_lexer": "ipython3",
   "version": "3.11.7"
  }
 },
 "nbformat": 4,
 "nbformat_minor": 2
}
