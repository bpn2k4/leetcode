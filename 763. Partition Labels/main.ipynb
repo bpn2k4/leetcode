{
  "cells": [
    {
      "cell_type": "code",
      "execution_count": 1,
      "metadata": {},
      "outputs": [],
      "source": [
        "from typing import List\n",
        "\n",
        "\n",
        "class Solution:\n",
        "  def partitionLabels(self, s: str) -> List[int]:\n",
        "    \n",
        "    char2last_index = {}\n",
        "    for index, char in enumerate(s):\n",
        "      char2last_index[char] = index\n",
        "    \n",
        "    output = []\n",
        "    start, last_index = 0, 0\n",
        "    for index, char in enumerate(s):\n",
        "      last_index = max(last_index, char2last_index[char])\n",
        "      if index == last_index:\n",
        "        output.append(index - start + 1)\n",
        "        start = index + 1\n",
        "    \n",
        "    return output"
      ]
    },
    {
      "cell_type": "code",
      "execution_count": 2,
      "metadata": {},
      "outputs": [
        {
          "data": {
            "text/plain": [
              "[9, 7, 8]"
            ]
          },
          "execution_count": 2,
          "metadata": {},
          "output_type": "execute_result"
        }
      ],
      "source": [
        "s = \"ababcbacadefegdehijhklij\"\n",
        "Solution().partitionLabels(s=s)"
      ]
    },
    {
      "cell_type": "code",
      "execution_count": 3,
      "metadata": {},
      "outputs": [
        {
          "data": {
            "text/plain": [
              "[10]"
            ]
          },
          "execution_count": 3,
          "metadata": {},
          "output_type": "execute_result"
        }
      ],
      "source": [
        "s = \"eccbbbbdec\"\n",
        "Solution().partitionLabels(s=s)"
      ]
    }
  ],
  "metadata": {
    "kernelspec": {
      "display_name": "Python 3",
      "language": "python",
      "name": "python3"
    },
    "language_info": {
      "codemirror_mode": {
        "name": "ipython",
        "version": 3
      },
      "file_extension": ".py",
      "mimetype": "text/x-python",
      "name": "python",
      "nbconvert_exporter": "python",
      "pygments_lexer": "ipython3",
      "version": "3.12.1"
    }
  },
  "nbformat": 4,
  "nbformat_minor": 2
}
