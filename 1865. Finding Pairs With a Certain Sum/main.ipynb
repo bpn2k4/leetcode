{
 "cells": [
  {
   "cell_type": "code",
   "execution_count": 1,
   "metadata": {},
   "outputs": [],
   "source": [
    "from typing import List\n",
    "\n",
    "\n",
    "class FindSumPairs:\n",
    "  def __init__(self, nums1: List[int], nums2: List[int]):\n",
    "    self.nums1 = {}\n",
    "    for num in nums1:\n",
    "      self.nums1[num] = self.nums1.get(num, 0) + 1\n",
    "    self.num2 = nums2\n",
    "    self.num2count = {}\n",
    "    for num in nums2:\n",
    "      self.num2count[num] = self.num2count.get(num, 0) + 1\n",
    "\n",
    "  def add(self, index: int, val: int) -> None:\n",
    "    current = self.num2[index]\n",
    "    new = current + val\n",
    "    self.num2[index] = new\n",
    "    self.num2count[current] -= 1\n",
    "    self.num2count[new] = self.num2count.get(new, 0) + 1\n",
    "\n",
    "  def count(self, tot: int) -> int:\n",
    "    count = 0\n",
    "    for num in self.nums1:\n",
    "      if tot - num in self.num2count:\n",
    "        count += self.nums1[num] * self.num2count[tot - num]\n",
    "    return count"
   ]
  },
  {
   "cell_type": "code",
   "execution_count": 2,
   "metadata": {},
   "outputs": [
    {
     "name": "stdout",
     "output_type": "stream",
     "text": [
      "8\n",
      "2\n",
      "1\n",
      "11\n"
     ]
    }
   ],
   "source": [
    "nums1 = [1, 1, 2, 2, 2, 3]\n",
    "nums2 = [1, 4, 5, 2, 5, 4]\n",
    "obj = FindSumPairs(nums1=nums1, nums2=nums2)\n",
    "print(obj.count(7))\n",
    "obj.add(3, 2)\n",
    "print(obj.count(8))\n",
    "print(obj.count(4))\n",
    "obj.add(0, 1)\n",
    "obj.add(1, 1)\n",
    "print(obj.count(7))"
   ]
  }
 ],
 "metadata": {
  "kernelspec": {
   "display_name": "Python 3",
   "language": "python",
   "name": "python3"
  },
  "language_info": {
   "codemirror_mode": {
    "name": "ipython",
    "version": 3
   },
   "file_extension": ".py",
   "mimetype": "text/x-python",
   "name": "python",
   "nbconvert_exporter": "python",
   "pygments_lexer": "ipython3",
   "version": "3.12.8"
  }
 },
 "nbformat": 4,
 "nbformat_minor": 2
}
