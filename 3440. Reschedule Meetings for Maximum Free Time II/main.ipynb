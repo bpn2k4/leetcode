{
  "cells": [
    {
      "cell_type": "code",
      "execution_count": 1,
      "metadata": {},
      "outputs": [],
      "source": [
        "from typing import List\n",
        "\n",
        "\n",
        "class Solution:\n",
        "  def maxFreeTime(self, eventTime: int, startTime: List[int], endTime: List[int]) -> int:\n",
        "\n",
        "    n = len(startTime)\n",
        "    q = [False] * n\n",
        "    t1 = 0\n",
        "    t2 = 0\n",
        "    for i in range(n):\n",
        "      if endTime[i] - startTime[i] <= t1:\n",
        "        q[i] = True\n",
        "      t1 = max(t1, startTime[i] - (0 if i == 0 else endTime[i - 1]))\n",
        "\n",
        "      if endTime[n - i - 1] - startTime[n - i - 1] <= t2:\n",
        "        q[n - i - 1] = True\n",
        "      t2 = max(t2, (eventTime if i == 0 else startTime[n - i]) - endTime[n - i - 1])\n",
        "\n",
        "    res = 0\n",
        "    for i in range(n):\n",
        "      left = 0 if i == 0 else endTime[i - 1]\n",
        "      right = eventTime if i == n - 1 else startTime[i + 1]\n",
        "      if q[i]:\n",
        "        res = max(res, right - left)\n",
        "      else:\n",
        "        res = max(res, right - left - (endTime[i] - startTime[i]))\n",
        "        \n",
        "    return res"
      ]
    },
    {
      "cell_type": "code",
      "execution_count": 2,
      "metadata": {},
      "outputs": [
        {
          "data": {
            "text/plain": [
              "2"
            ]
          },
          "execution_count": 2,
          "metadata": {},
          "output_type": "execute_result"
        }
      ],
      "source": [
        "eventTime = 5\n",
        "startTime = [1, 3]\n",
        "endTime = [2, 5]\n",
        "Solution().maxFreeTime(eventTime=eventTime, startTime=startTime, endTime=endTime)"
      ]
    },
    {
      "cell_type": "code",
      "execution_count": 3,
      "metadata": {},
      "outputs": [
        {
          "data": {
            "text/plain": [
              "7"
            ]
          },
          "execution_count": 3,
          "metadata": {},
          "output_type": "execute_result"
        }
      ],
      "source": [
        "eventTime = 10\n",
        "startTime = [0, 7, 9]\n",
        "endTime = [1, 8, 10]\n",
        "Solution().maxFreeTime(eventTime=eventTime, startTime=startTime, endTime=endTime)"
      ]
    },
    {
      "cell_type": "code",
      "execution_count": 4,
      "metadata": {},
      "outputs": [
        {
          "data": {
            "text/plain": [
              "6"
            ]
          },
          "execution_count": 4,
          "metadata": {},
          "output_type": "execute_result"
        }
      ],
      "source": [
        "eventTime = 10\n",
        "startTime = [0, 3, 7, 9]\n",
        "endTime = [1, 4, 8, 10]\n",
        "Solution().maxFreeTime(eventTime=eventTime, startTime=startTime, endTime=endTime)"
      ]
    },
    {
      "cell_type": "code",
      "execution_count": 5,
      "metadata": {},
      "outputs": [
        {
          "data": {
            "text/plain": [
              "0"
            ]
          },
          "execution_count": 5,
          "metadata": {},
          "output_type": "execute_result"
        }
      ],
      "source": [
        "eventTime = 5\n",
        "startTime = [0, 1, 2, 3, 4]\n",
        "endTime = [1, 2, 3, 4, 5]\n",
        "Solution().maxFreeTime(eventTime=eventTime, startTime=startTime, endTime=endTime)"
      ]
    }
  ],
  "metadata": {
    "kernelspec": {
      "display_name": "Python 3",
      "language": "python",
      "name": "python3"
    },
    "language_info": {
      "codemirror_mode": {
        "name": "ipython",
        "version": 3
      },
      "file_extension": ".py",
      "mimetype": "text/x-python",
      "name": "python",
      "nbconvert_exporter": "python",
      "pygments_lexer": "ipython3",
      "version": "3.12.8"
    }
  },
  "nbformat": 4,
  "nbformat_minor": 2
}
