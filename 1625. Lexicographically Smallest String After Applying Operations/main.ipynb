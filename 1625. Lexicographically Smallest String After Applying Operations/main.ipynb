{
  "cells": [
    {
      "cell_type": "code",
      "execution_count": 1,
      "metadata": {},
      "outputs": [],
      "source": [
        "class Solution:\n",
        "  def findLexSmallestString(self, s: str, a: int, b: int) -> str:\n",
        "\n",
        "    length = len(s)\n",
        "    visited = [False] * length\n",
        "    smallest = s\n",
        "    s = s + s\n",
        "    rotation_index = 0\n",
        "    while not visited[rotation_index]:\n",
        "      visited[rotation_index] = True\n",
        "      for odd_add_count in range(10):\n",
        "        even_add_limit = 0 if b % 2 == 0 else 9\n",
        "        for even_add_count in range(even_add_limit + 1):\n",
        "          chars = list(s[rotation_index: rotation_index + length])\n",
        "          for idx in range(1, length, 2):\n",
        "            chars[idx] = str((int(chars[idx]) + odd_add_count * a) % 10)\n",
        "          for idx in range(0, length, 2):\n",
        "            chars[idx] = str((int(chars[idx]) + even_add_count * a) % 10)\n",
        "          candidate = \"\".join(chars)\n",
        "          if candidate < smallest:\n",
        "            smallest = candidate\n",
        "      rotation_index = (rotation_index + b) % length\n",
        "\n",
        "    return smallest"
      ]
    },
    {
      "cell_type": "code",
      "execution_count": 2,
      "metadata": {},
      "outputs": [
        {
          "data": {
            "text/plain": [
              "'2050'"
            ]
          },
          "execution_count": 2,
          "metadata": {},
          "output_type": "execute_result"
        }
      ],
      "source": [
        "s = \"5525\"\n",
        "a = 9\n",
        "b = 2\n",
        "Solution().findLexSmallestString(s=s, a=a, b=b)"
      ]
    },
    {
      "cell_type": "code",
      "execution_count": 3,
      "metadata": {},
      "outputs": [
        {
          "data": {
            "text/plain": [
              "'24'"
            ]
          },
          "execution_count": 3,
          "metadata": {},
          "output_type": "execute_result"
        }
      ],
      "source": [
        "s = \"74\"\n",
        "a = 5\n",
        "b = 1\n",
        "Solution().findLexSmallestString(s=s, a=a, b=b)"
      ]
    },
    {
      "cell_type": "code",
      "execution_count": 4,
      "metadata": {},
      "outputs": [
        {
          "data": {
            "text/plain": [
              "'0011'"
            ]
          },
          "execution_count": 4,
          "metadata": {},
          "output_type": "execute_result"
        }
      ],
      "source": [
        "s = \"0011\"\n",
        "a = 4\n",
        "b = 2\n",
        "Solution().findLexSmallestString(s=s, a=a, b=b)"
      ]
    }
  ],
  "metadata": {
    "kernelspec": {
      "display_name": "Python 3",
      "language": "python",
      "name": "python3"
    },
    "language_info": {
      "codemirror_mode": {
        "name": "ipython",
        "version": 3
      },
      "file_extension": ".py",
      "mimetype": "text/x-python",
      "name": "python",
      "nbconvert_exporter": "python",
      "pygments_lexer": "ipython3",
      "version": "3.12.8"
    }
  },
  "nbformat": 4,
  "nbformat_minor": 2
}
