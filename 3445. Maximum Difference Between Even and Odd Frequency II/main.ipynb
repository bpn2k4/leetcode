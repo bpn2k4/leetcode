{
  "cells": [
    {
      "cell_type": "code",
      "execution_count": 1,
      "metadata": {},
      "outputs": [],
      "source": [
        "class Solution:\n",
        "  def maxDifference(self, s: str, k: int) -> int:\n",
        "\n",
        "    def get_status(count_a, count_b):\n",
        "      return ((count_a & 1) << 1) | (count_b & 1)\n",
        "    \n",
        "    nums = '01234'\n",
        "    n = len(s)\n",
        "    result = float('-inf')\n",
        "    for a in nums:\n",
        "      for b in nums:\n",
        "        if a == b:\n",
        "          continue\n",
        "        \n",
        "        best = [float('inf')] * 4\n",
        "        count_a, count_b = 0, 0\n",
        "        prev_a, prev_b = 0, 0\n",
        "        left = -1\n",
        "        for right in range(n):\n",
        "          count_a += s[right] == a\n",
        "          count_b += s[right] == b\n",
        "          while right - left >= k and count_b - prev_b >= 2:\n",
        "            left_status = get_status(prev_a, prev_b)\n",
        "            best[left_status] = min(best[left_status], prev_a - prev_b)\n",
        "            left += 1\n",
        "            prev_a += s[left] == a\n",
        "            prev_b += s[left] == b\n",
        "          \n",
        "          right_status = get_status(count_a, count_b)\n",
        "          if best[right_status ^ 0b10] != float('inf'):\n",
        "            result = max(result, count_a - count_b - best[right_status ^ 0b10])\n",
        "\n",
        "    return result"
      ]
    },
    {
      "cell_type": "code",
      "execution_count": 2,
      "metadata": {},
      "outputs": [
        {
          "data": {
            "text/plain": [
              "-1"
            ]
          },
          "execution_count": 2,
          "metadata": {},
          "output_type": "execute_result"
        }
      ],
      "source": [
        "s = \"12233\"\n",
        "k = 4\n",
        "Solution().maxDifference(s=s, k=k)"
      ]
    },
    {
      "cell_type": "code",
      "execution_count": 3,
      "metadata": {},
      "outputs": [
        {
          "data": {
            "text/plain": [
              "1"
            ]
          },
          "execution_count": 3,
          "metadata": {},
          "output_type": "execute_result"
        }
      ],
      "source": [
        "s = \"1122211\"\n",
        "k = 3\n",
        "Solution().maxDifference(s=s, k=k)"
      ]
    },
    {
      "cell_type": "code",
      "execution_count": 4,
      "metadata": {},
      "outputs": [
        {
          "data": {
            "text/plain": [
              "-1"
            ]
          },
          "execution_count": 4,
          "metadata": {},
          "output_type": "execute_result"
        }
      ],
      "source": [
        "s = \"110\"\n",
        "k = 3\n",
        "Solution().maxDifference(s=s, k=k)"
      ]
    }
  ],
  "metadata": {
    "kernelspec": {
      "display_name": "Python 3",
      "language": "python",
      "name": "python3"
    },
    "language_info": {
      "codemirror_mode": {
        "name": "ipython",
        "version": 3
      },
      "file_extension": ".py",
      "mimetype": "text/x-python",
      "name": "python",
      "nbconvert_exporter": "python",
      "pygments_lexer": "ipython3",
      "version": "3.12.8"
    }
  },
  "nbformat": 4,
  "nbformat_minor": 2
}
