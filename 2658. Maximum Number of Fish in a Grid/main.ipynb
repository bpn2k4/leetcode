{
  "cells": [
    {
      "cell_type": "code",
      "execution_count": 1,
      "metadata": {},
      "outputs": [],
      "source": [
        "from typing import List\n",
        "from collections import deque\n",
        "\n",
        "\n",
        "class Solution:\n",
        "  def findMaxFish(self, grid: List[List[int]]) -> int:\n",
        "    \n",
        "    max_fish = 0\n",
        "    m, n = len(grid), len(grid[0])\n",
        "    for i in range(m):\n",
        "      for j in range(n):\n",
        "        if grid[i][j] != 0:\n",
        "          total_fish = 0\n",
        "          queue = deque([(i, j)])\n",
        "          while queue:\n",
        "            x, y = queue.popleft()\n",
        "            total_fish += grid[x][y]\n",
        "            grid[x][y] = 0\n",
        "            for dx, dy in [(-1, 0), (1, 0), (0, -1), (0, 1)]:\n",
        "              nx, ny = x + dx, y + dy\n",
        "              if 0 <= nx < m and 0 <= ny < n and grid[nx][ny] != 0:\n",
        "                queue.append((nx, ny))\n",
        "\n",
        "          max_fish = max(max_fish, total_fish)\n",
        "    \n",
        "    return max_fish\n",
        "\n",
        "\n",
        "  def findMaxFish(self, grid: List[List[int]]) -> int:\n",
        "\n",
        "    max_fish = 0\n",
        "    m, n = len(grid), len(grid[0])\n",
        "    total_fish = [0]\n",
        "\n",
        "    def dfs(x, y, total_fish):\n",
        "\n",
        "      total_fish[0] += grid[x][y]\n",
        "      grid[x][y] = 0\n",
        "      for dx, dy in [(-1, 0), (1, 0), (0, -1), (0, 1)]:\n",
        "        nx, ny = x + dx, y + dy\n",
        "        if 0 <= nx < m and 0 <= ny < n and grid[nx][ny] != 0:\n",
        "          dfs(nx, ny, total_fish)\n",
        "    \n",
        "    for i in range(m):\n",
        "      for j in range(n):\n",
        "        if grid[i][j] != 0:\n",
        "          total_fish[0] = 0\n",
        "          dfs(i, j, total_fish)\n",
        "          max_fish = max(max_fish, total_fish[0])\n",
        "\n",
        "    return max_fish"
      ]
    },
    {
      "cell_type": "code",
      "execution_count": 2,
      "metadata": {},
      "outputs": [
        {
          "data": {
            "text/plain": [
              "7"
            ]
          },
          "execution_count": 2,
          "metadata": {},
          "output_type": "execute_result"
        }
      ],
      "source": [
        "grid = [[0, 2, 1, 0], [4, 0, 0, 3], [1, 0, 0, 4], [0, 3, 2, 0]]\n",
        "Solution().findMaxFish(grid=grid)"
      ]
    },
    {
      "cell_type": "code",
      "execution_count": 3,
      "metadata": {},
      "outputs": [
        {
          "data": {
            "text/plain": [
              "1"
            ]
          },
          "execution_count": 3,
          "metadata": {},
          "output_type": "execute_result"
        }
      ],
      "source": [
        "grid = [[1, 0, 0, 0], [0, 0, 0, 0], [0, 0, 0, 0], [0, 0, 0, 1]]\n",
        "Solution().findMaxFish(grid=grid)"
      ]
    }
  ],
  "metadata": {
    "kernelspec": {
      "display_name": "base",
      "language": "python",
      "name": "python3"
    },
    "language_info": {
      "codemirror_mode": {
        "name": "ipython",
        "version": 3
      },
      "file_extension": ".py",
      "mimetype": "text/x-python",
      "name": "python",
      "nbconvert_exporter": "python",
      "pygments_lexer": "ipython3",
      "version": "3.11.7"
    }
  },
  "nbformat": 4,
  "nbformat_minor": 2
}
