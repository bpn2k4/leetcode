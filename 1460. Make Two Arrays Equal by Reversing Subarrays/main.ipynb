{
 "cells": [
  {
   "cell_type": "code",
   "execution_count": 1,
   "metadata": {},
   "outputs": [],
   "source": [
    "from typing import List\n",
    "\n",
    "\n",
    "class Solution:\n",
    "   def canBeEqual(self, target: List[int], arr: List[int]) -> bool:\n",
    "    target_mark = {}\n",
    "    arr_mark = {}\n",
    "    for num in target:\n",
    "      if num not in target_mark:\n",
    "        target_mark[num] = 1\n",
    "      else:\n",
    "        target_mark[num] += 1\n",
    "    for num in arr:\n",
    "      if num not in arr_mark:\n",
    "        arr_mark[num] = 1\n",
    "      else:\n",
    "        arr_mark[num] += 1\n",
    "    for num in target_mark:\n",
    "      if num not in arr_mark or target_mark[num] != arr_mark.get(num, -1):\n",
    "        return False\n",
    "    return True"
   ]
  },
  {
   "cell_type": "code",
   "execution_count": 2,
   "metadata": {},
   "outputs": [
    {
     "data": {
      "text/plain": [
       "True"
      ]
     },
     "execution_count": 2,
     "metadata": {},
     "output_type": "execute_result"
    }
   ],
   "source": [
    "Solution().canBeEqual(target=[1, 2, 3, 4], arr=[2, 4, 1, 3])"
   ]
  },
  {
   "cell_type": "code",
   "execution_count": 3,
   "metadata": {},
   "outputs": [
    {
     "data": {
      "text/plain": [
       "True"
      ]
     },
     "execution_count": 3,
     "metadata": {},
     "output_type": "execute_result"
    }
   ],
   "source": [
    "Solution().canBeEqual(target=[7], arr=[7])"
   ]
  },
  {
   "cell_type": "code",
   "execution_count": 4,
   "metadata": {},
   "outputs": [
    {
     "data": {
      "text/plain": [
       "False"
      ]
     },
     "execution_count": 4,
     "metadata": {},
     "output_type": "execute_result"
    }
   ],
   "source": [
    "Solution().canBeEqual(target=[3, 7, 9], arr=[3, 7, 11])"
   ]
  }
 ],
 "metadata": {
  "kernelspec": {
   "display_name": "base",
   "language": "python",
   "name": "python3"
  },
  "language_info": {
   "codemirror_mode": {
    "name": "ipython",
    "version": 3
   },
   "file_extension": ".py",
   "mimetype": "text/x-python",
   "name": "python",
   "nbconvert_exporter": "python",
   "pygments_lexer": "ipython3",
   "version": "3.11.7"
  }
 },
 "nbformat": 4,
 "nbformat_minor": 2
}
