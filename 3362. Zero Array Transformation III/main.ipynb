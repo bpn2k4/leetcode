{
  "cells": [
    {
      "cell_type": "code",
      "execution_count": 1,
      "metadata": {},
      "outputs": [],
      "source": [
        "from typing import List\n",
        "import heapq\n",
        "\n",
        "\n",
        "class Solution:\n",
        "  def maxRemoval(self, nums: List[int], queries: List[List[int]]) -> int:\n",
        "    \n",
        "    n, m = len(nums), len(queries)\n",
        "    heap = []\n",
        "    lines = [0] * (n + 1)\n",
        "    prefix = 0\n",
        "    i = 0\n",
        "    queries.sort()\n",
        "    for index, num in enumerate(nums):\n",
        "\n",
        "      prefix += lines[index]\n",
        "      while i < m and queries[i][0] == index:\n",
        "        heapq.heappush(heap, -queries[i][1])\n",
        "        i += 1\n",
        "      while prefix < num and heap and -heap[0] >= index:\n",
        "        prefix += 1\n",
        "        lines[-heapq.heappop(heap) + 1] -= 1\n",
        "      \n",
        "      if prefix < num:\n",
        "        return -1\n",
        "    \n",
        "    return len(heap)"
      ]
    },
    {
      "cell_type": "code",
      "execution_count": 2,
      "metadata": {},
      "outputs": [
        {
          "data": {
            "text/plain": [
              "1"
            ]
          },
          "execution_count": 2,
          "metadata": {},
          "output_type": "execute_result"
        }
      ],
      "source": [
        "nums = [2, 0, 2]\n",
        "queries = [[0, 2], [0, 2], [1, 1]]\n",
        "Solution().maxRemoval(nums=nums, queries=queries)"
      ]
    },
    {
      "cell_type": "code",
      "execution_count": 3,
      "metadata": {},
      "outputs": [
        {
          "data": {
            "text/plain": [
              "2"
            ]
          },
          "execution_count": 3,
          "metadata": {},
          "output_type": "execute_result"
        }
      ],
      "source": [
        "nums = [1, 1, 1, 1]\n",
        "queries = [[1, 3], [0, 2], [1, 3], [1, 2]]\n",
        "Solution().maxRemoval(nums=nums, queries=queries)"
      ]
    },
    {
      "cell_type": "code",
      "execution_count": 4,
      "metadata": {},
      "outputs": [
        {
          "data": {
            "text/plain": [
              "-1"
            ]
          },
          "execution_count": 4,
          "metadata": {},
          "output_type": "execute_result"
        }
      ],
      "source": [
        "nums = [1, 2, 3, 4]\n",
        "queries = [[0, 3]]\n",
        "Solution().maxRemoval(nums=nums, queries=queries)"
      ]
    }
  ],
  "metadata": {
    "kernelspec": {
      "display_name": "Python 3",
      "language": "python",
      "name": "python3"
    },
    "language_info": {
      "codemirror_mode": {
        "name": "ipython",
        "version": 3
      },
      "file_extension": ".py",
      "mimetype": "text/x-python",
      "name": "python",
      "nbconvert_exporter": "python",
      "pygments_lexer": "ipython3",
      "version": "3.12.1"
    }
  },
  "nbformat": 4,
  "nbformat_minor": 2
}
