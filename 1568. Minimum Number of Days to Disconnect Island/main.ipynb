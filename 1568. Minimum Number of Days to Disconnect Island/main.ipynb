{
 "cells": [
  {
   "cell_type": "code",
   "execution_count": 4,
   "metadata": {},
   "outputs": [],
   "source": [
    "from typing import List\n",
    "\n",
    "\n",
    "class Solution:\n",
    "\n",
    "  def minDays(self, grid: List[List[int]]) -> int:\n",
    "    def dfs(grid, i, j):\n",
    "      if i < 0 or i >= len(grid) or j < 0 or j >= len(grid[0]) or grid[i][j] == 0:\n",
    "        return\n",
    "      grid[i][j] = 0\n",
    "      dfs(grid, i-1, j)\n",
    "      dfs(grid, i+1, j)\n",
    "      dfs(grid, i, j-1)\n",
    "      dfs(grid, i, j+1)\n",
    "\n",
    "    def count_islands(grid):\n",
    "      temp_grid = [row[:] for row in grid]\n",
    "      count = 0\n",
    "      for i in range(len(temp_grid)):\n",
    "        for j in range(len(temp_grid[0])):\n",
    "          if temp_grid[i][j] == 1:\n",
    "            count += 1\n",
    "            dfs(temp_grid, i, j)\n",
    "      return count\n",
    "\n",
    "    if count_islands(grid) != 1:\n",
    "      return 0\n",
    "\n",
    "    for i in range(len(grid)):\n",
    "      for j in range(len(grid[0])):\n",
    "        if grid[i][j] == 1:\n",
    "          grid[i][j] = 0\n",
    "          if count_islands(grid) != 1:\n",
    "            return 1\n",
    "          grid[i][j] = 1\n",
    "\n",
    "    return 2"
   ]
  },
  {
   "cell_type": "code",
   "execution_count": 5,
   "metadata": {},
   "outputs": [
    {
     "data": {
      "text/plain": [
       "2"
      ]
     },
     "execution_count": 5,
     "metadata": {},
     "output_type": "execute_result"
    }
   ],
   "source": [
    "Solution().minDays(grid=[[0, 1, 1, 0], [0, 1, 1, 0], [0, 0, 0, 0]])"
   ]
  },
  {
   "cell_type": "code",
   "execution_count": 6,
   "metadata": {},
   "outputs": [
    {
     "data": {
      "text/plain": [
       "2"
      ]
     },
     "execution_count": 6,
     "metadata": {},
     "output_type": "execute_result"
    }
   ],
   "source": [
    "Solution().minDays(grid=[[1, 1]])"
   ]
  }
 ],
 "metadata": {
  "kernelspec": {
   "display_name": "base",
   "language": "python",
   "name": "python3"
  },
  "language_info": {
   "codemirror_mode": {
    "name": "ipython",
    "version": 3
   },
   "file_extension": ".py",
   "mimetype": "text/x-python",
   "name": "python",
   "nbconvert_exporter": "python",
   "pygments_lexer": "ipython3",
   "version": "3.11.7"
  }
 },
 "nbformat": 4,
 "nbformat_minor": 2
}
