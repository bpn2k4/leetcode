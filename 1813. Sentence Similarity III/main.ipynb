{
  "cells": [
    {
      "cell_type": "code",
      "execution_count": 1,
      "metadata": {},
      "outputs": [],
      "source": [
        "class Solution:\n",
        "  def areSentencesSimilar(self, sentence1: str, sentence2: str) -> bool:\n",
        "\n",
        "    words1 = sentence1.split()\n",
        "    words2 = sentence2.split()\n",
        "\n",
        "    i, j = 0, 0\n",
        "    s1_length, s2_length = len(words1), len(words2)\n",
        "\n",
        "    while i < s1_length and i < s2_length and words1[i] == words2[i]:\n",
        "      i += 1\n",
        "\n",
        "    while j < s1_length - i and j < s2_length - i and words1[s1_length - j - 1] == words2[s2_length - j - 1]:\n",
        "      j += 1\n",
        "\n",
        "    return i + j >= min(s1_length, s2_length)"
      ]
    },
    {
      "cell_type": "code",
      "execution_count": 2,
      "metadata": {},
      "outputs": [
        {
          "data": {
            "text/plain": [
              "True"
            ]
          },
          "execution_count": 2,
          "metadata": {},
          "output_type": "execute_result"
        }
      ],
      "source": [
        "sentence1 = \"My name is Haley\"\n",
        "sentence2 = \"My Haley\"\n",
        "Solution().areSentencesSimilar(sentence1=sentence1, sentence2=sentence2)"
      ]
    },
    {
      "cell_type": "code",
      "execution_count": 3,
      "metadata": {},
      "outputs": [
        {
          "data": {
            "text/plain": [
              "False"
            ]
          },
          "execution_count": 3,
          "metadata": {},
          "output_type": "execute_result"
        }
      ],
      "source": [
        "sentence1 = \"of\"\n",
        "sentence2 = \"A lot of words\"\n",
        "Solution().areSentencesSimilar(sentence1=sentence1, sentence2=sentence2)"
      ]
    },
    {
      "cell_type": "code",
      "execution_count": 4,
      "metadata": {},
      "outputs": [
        {
          "data": {
            "text/plain": [
              "True"
            ]
          },
          "execution_count": 4,
          "metadata": {},
          "output_type": "execute_result"
        }
      ],
      "source": [
        "sentence1 = \"Eating right now\"\n",
        "sentence2 = \"Eating\"\n",
        "Solution().areSentencesSimilar(sentence1=sentence1, sentence2=sentence2)"
      ]
    },
    {
      "cell_type": "code",
      "execution_count": 5,
      "metadata": {},
      "outputs": [
        {
          "data": {
            "text/plain": [
              "False"
            ]
          },
          "execution_count": 5,
          "metadata": {},
          "output_type": "execute_result"
        }
      ],
      "source": [
        "sentence1 = \"qbaVXO Msgr aEWD v ekcb\"\n",
        "sentence2 = \"Msgr aEWD ekcb\"\n",
        "Solution().areSentencesSimilar(sentence1=sentence1, sentence2=sentence2)"
      ]
    }
  ],
  "metadata": {
    "kernelspec": {
      "display_name": "base",
      "language": "python",
      "name": "python3"
    },
    "language_info": {
      "codemirror_mode": {
        "name": "ipython",
        "version": 3
      },
      "file_extension": ".py",
      "mimetype": "text/x-python",
      "name": "python",
      "nbconvert_exporter": "python",
      "pygments_lexer": "ipython3",
      "version": "3.11.7"
    }
  },
  "nbformat": 4,
  "nbformat_minor": 2
}
