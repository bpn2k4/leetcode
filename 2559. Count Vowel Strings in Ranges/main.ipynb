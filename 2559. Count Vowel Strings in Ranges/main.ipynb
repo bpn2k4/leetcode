{
  "cells": [
    {
      "cell_type": "code",
      "execution_count": 1,
      "metadata": {},
      "outputs": [],
      "source": [
        "from typing import List\n",
        "\n",
        "\n",
        "class Solution:\n",
        "  def vowelStrings(self, words: List[str], queries: List[List[int]]) -> List[int]:\n",
        "    \n",
        "    n = len(words)\n",
        "    vowel_letter = {'a': 1, 'e': 1, 'i': 1, 'o': 1, 'u': 1}\n",
        "    answers = []\n",
        "\n",
        "    prefix = [0]\n",
        "    for i in range(n):\n",
        "      if words[i][0] in vowel_letter and words[i][-1] in vowel_letter:\n",
        "        prefix.append(prefix[i] + 1)\n",
        "      else:\n",
        "        prefix.append(prefix[i])\n",
        "\n",
        "    for l, r in queries:\n",
        "      answers.append(prefix[r + 1] - prefix[l])\n",
        "\n",
        "    return answers"
      ]
    },
    {
      "cell_type": "code",
      "execution_count": 2,
      "metadata": {},
      "outputs": [
        {
          "data": {
            "text/plain": [
              "[2, 3, 0]"
            ]
          },
          "execution_count": 2,
          "metadata": {},
          "output_type": "execute_result"
        }
      ],
      "source": [
        "words = [\"aba\", \"bcb\", \"ece\", \"aa\", \"e\"]\n",
        "queries = [[0, 2], [1, 4], [1, 1]]\n",
        "Solution().vowelStrings(words=words, queries=queries)"
      ]
    },
    {
      "cell_type": "code",
      "execution_count": 3,
      "metadata": {},
      "outputs": [
        {
          "data": {
            "text/plain": [
              "[3, 2, 1]"
            ]
          },
          "execution_count": 3,
          "metadata": {},
          "output_type": "execute_result"
        }
      ],
      "source": [
        "words = [\"a\", \"e\", \"i\"]\n",
        "queries = [[0, 2], [0, 1], [2, 2]]\n",
        "Solution().vowelStrings(words=words, queries=queries)"
      ]
    }
  ],
  "metadata": {
    "kernelspec": {
      "display_name": "base",
      "language": "python",
      "name": "python3"
    },
    "language_info": {
      "codemirror_mode": {
        "name": "ipython",
        "version": 3
      },
      "file_extension": ".py",
      "mimetype": "text/x-python",
      "name": "python",
      "nbconvert_exporter": "python",
      "pygments_lexer": "ipython3",
      "version": "3.11.7"
    }
  },
  "nbformat": 4,
  "nbformat_minor": 2
}
