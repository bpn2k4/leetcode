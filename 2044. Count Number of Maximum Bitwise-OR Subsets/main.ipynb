{
  "cells": [
    {
      "cell_type": "code",
      "execution_count": 1,
      "metadata": {},
      "outputs": [],
      "source": [
        "from typing import List\n",
        "\n",
        "\n",
        "class Solution:\n",
        "  def countMaxOrSubsets(self, nums: List[int]) -> int:\n",
        "\n",
        "    max_or = 0\n",
        "    for num in nums:\n",
        "      max_or |= num\n",
        "\n",
        "    def dfs(i, current_or):\n",
        "\n",
        "      if i == len(nums):\n",
        "        if current_or == max_or:\n",
        "          return 1\n",
        "        else:\n",
        "          return 0\n",
        "\n",
        "      include = dfs(i + 1, current_or | nums[i])\n",
        "      exclude = dfs(i + 1, current_or)\n",
        "\n",
        "      return include + exclude\n",
        "\n",
        "    return dfs(0, 0)"
      ]
    },
    {
      "cell_type": "code",
      "execution_count": 2,
      "metadata": {},
      "outputs": [
        {
          "data": {
            "text/plain": [
              "2"
            ]
          },
          "execution_count": 2,
          "metadata": {},
          "output_type": "execute_result"
        }
      ],
      "source": [
        "nums = [3, 1]\n",
        "Solution().countMaxOrSubsets(nums=nums)"
      ]
    },
    {
      "cell_type": "code",
      "execution_count": 3,
      "metadata": {},
      "outputs": [
        {
          "data": {
            "text/plain": [
              "7"
            ]
          },
          "execution_count": 3,
          "metadata": {},
          "output_type": "execute_result"
        }
      ],
      "source": [
        "nums = [2, 2, 2]\n",
        "Solution().countMaxOrSubsets(nums=nums)"
      ]
    },
    {
      "cell_type": "code",
      "execution_count": 4,
      "metadata": {},
      "outputs": [
        {
          "data": {
            "text/plain": [
              "6"
            ]
          },
          "execution_count": 4,
          "metadata": {},
          "output_type": "execute_result"
        }
      ],
      "source": [
        "nums = [3, 2, 1, 5]\n",
        "Solution().countMaxOrSubsets(nums=nums)"
      ]
    }
  ],
  "metadata": {
    "kernelspec": {
      "display_name": "base",
      "language": "python",
      "name": "python3"
    },
    "language_info": {
      "codemirror_mode": {
        "name": "ipython",
        "version": 3
      },
      "file_extension": ".py",
      "mimetype": "text/x-python",
      "name": "python",
      "nbconvert_exporter": "python",
      "pygments_lexer": "ipython3",
      "version": "3.11.7"
    }
  },
  "nbformat": 4,
  "nbformat_minor": 2
}
