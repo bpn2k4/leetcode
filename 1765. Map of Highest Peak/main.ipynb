{
  "cells": [
    {
      "cell_type": "code",
      "execution_count": 1,
      "metadata": {},
      "outputs": [],
      "source": [
        "from typing import List\n",
        "from collections import deque\n",
        "\n",
        "\n",
        "class Solution:\n",
        "  def highestPeak(self, isWater: List[List[int]]) -> List[List[int]]:\n",
        "\n",
        "    m, n = len(isWater), len(isWater[0])\n",
        "    height = [[-1] * n for _ in range(m)]\n",
        "    queue = deque()\n",
        "\n",
        "    for i in range(m):\n",
        "      for j in range(n):\n",
        "        if isWater[i][j] == 1:\n",
        "          height[i][j] = 0\n",
        "          queue.append((i, j))\n",
        "\n",
        "    directions = [(-1, 0), (1, 0), (0, -1), (0, 1)]\n",
        "    while queue:\n",
        "      x, y = queue.popleft()\n",
        "      for dx, dy in directions:\n",
        "        nx, ny = x + dx, y + dy\n",
        "        if 0 <= nx < m and 0 <= ny < n and height[nx][ny] == -1:\n",
        "          height[nx][ny] = height[x][y] + 1\n",
        "          queue.append((nx, ny))\n",
        "\n",
        "    return height"
      ]
    },
    {
      "cell_type": "code",
      "execution_count": 2,
      "metadata": {},
      "outputs": [
        {
          "data": {
            "text/plain": [
              "[[1, 0], [2, 1]]"
            ]
          },
          "execution_count": 2,
          "metadata": {},
          "output_type": "execute_result"
        }
      ],
      "source": [
        "isWater = [[0, 1], [0, 0]]\n",
        "Solution().highestPeak(isWater=isWater)"
      ]
    },
    {
      "cell_type": "code",
      "execution_count": 3,
      "metadata": {},
      "outputs": [
        {
          "data": {
            "text/plain": [
              "[[1, 1, 0], [0, 1, 1], [1, 2, 2]]"
            ]
          },
          "execution_count": 3,
          "metadata": {},
          "output_type": "execute_result"
        }
      ],
      "source": [
        "isWater = [[0, 0, 1], [1, 0, 0], [0, 0, 0]]\n",
        "Solution().highestPeak(isWater=isWater)"
      ]
    }
  ],
  "metadata": {
    "kernelspec": {
      "display_name": "base",
      "language": "python",
      "name": "python3"
    },
    "language_info": {
      "codemirror_mode": {
        "name": "ipython",
        "version": 3
      },
      "file_extension": ".py",
      "mimetype": "text/x-python",
      "name": "python",
      "nbconvert_exporter": "python",
      "pygments_lexer": "ipython3",
      "version": "3.11.7"
    }
  },
  "nbformat": 4,
  "nbformat_minor": 2
}
