{
 "cells": [
  {
   "cell_type": "code",
   "execution_count": 12,
   "metadata": {},
   "outputs": [],
   "source": [
    "from typing import List\n",
    "\n",
    "\n",
    "class Node:\n",
    "  def __init__(self, val=None, children=None):\n",
    "    self.val: int = val\n",
    "    self.children: List[Node] = children\n",
    "\n",
    "\n",
    "class Solution:\n",
    "  def postorder(self, root: Node) -> List[int]:\n",
    "    output = []\n",
    "\n",
    "    def post(root: Node | None):\n",
    "\n",
    "      if root is None:\n",
    "        return\n",
    "      if root.children is not None:\n",
    "        for child in root.children:\n",
    "          post(child)\n",
    "      output.append(root.val)\n",
    "\n",
    "    post(root)\n",
    "    return output\n",
    "  \n",
    "  def postorder(self, root: Node) -> List[int]:\n",
    "    if root is None:\n",
    "      return []\n",
    "    stack, output = [root], []\n",
    "    while stack:\n",
    "      node = stack.pop()\n",
    "      output.append(node.val)\n",
    "      if node.children:\n",
    "        stack.extend(node.children)\n",
    "    return output[::-1]"
   ]
  },
  {
   "cell_type": "code",
   "execution_count": 13,
   "metadata": {},
   "outputs": [
    {
     "data": {
      "text/plain": [
       "[5, 6, 3, 2, 4, 1]"
      ]
     },
     "execution_count": 13,
     "metadata": {},
     "output_type": "execute_result"
    }
   ],
   "source": [
    "root = Node(1, [\n",
    "    Node(3, [Node(5), Node(6)]),\n",
    "    Node(2),\n",
    "    Node(4)\n",
    "])\n",
    "Solution().postorder(root)"
   ]
  },
  {
   "cell_type": "code",
   "execution_count": 14,
   "metadata": {},
   "outputs": [
    {
     "data": {
      "text/plain": [
       "[2, 6, 14, 11, 7, 3, 12, 8, 4, 13, 9, 10, 5, 1]"
      ]
     },
     "execution_count": 14,
     "metadata": {},
     "output_type": "execute_result"
    }
   ],
   "source": [
    "root = Node(1, [\n",
    "    Node(2),\n",
    "    Node(3, [\n",
    "        Node(6),\n",
    "        Node(7, [\n",
    "            Node(11, [\n",
    "                Node(14)\n",
    "            ])\n",
    "        ])\n",
    "    ]),\n",
    "    Node(4, [\n",
    "        Node(8, [\n",
    "            Node(12)\n",
    "        ])\n",
    "    ]),\n",
    "    Node(5, [\n",
    "        Node(9, [\n",
    "            Node(13)\n",
    "        ]),\n",
    "        Node(10)\n",
    "    ])\n",
    "])\n",
    "Solution().postorder(root)"
   ]
  }
 ],
 "metadata": {
  "kernelspec": {
   "display_name": "base",
   "language": "python",
   "name": "python3"
  },
  "language_info": {
   "codemirror_mode": {
    "name": "ipython",
    "version": 3
   },
   "file_extension": ".py",
   "mimetype": "text/x-python",
   "name": "python",
   "nbconvert_exporter": "python",
   "pygments_lexer": "ipython3",
   "version": "3.11.7"
  }
 },
 "nbformat": 4,
 "nbformat_minor": 2
}
