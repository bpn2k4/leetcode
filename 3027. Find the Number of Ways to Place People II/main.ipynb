{
  "cells": [
    {
      "cell_type": "code",
      "execution_count": 1,
      "metadata": {},
      "outputs": [],
      "source": [
        "from typing import List\n",
        "\n",
        "\n",
        "class Solution:\n",
        "  def numberOfPairs(self, points: List[List[int]]) -> int:\n",
        "\n",
        "    MAX = 10000000000\n",
        "    count = 0\n",
        "    points.sort(key=lambda x: (x[0], -x[1]))\n",
        "\n",
        "    for i in range(len(points) - 1):\n",
        "      point_a = points[i]\n",
        "      x_min = point_a[0] - 1\n",
        "      x_max = MAX\n",
        "      y_min = -MAX\n",
        "      y_max = point_a[1] + 1\n",
        "\n",
        "      for j in range(i + 1, len(points)):\n",
        "        point_b = points[j]\n",
        "        if point_b[0] > x_min and point_b[0] < x_max and point_b[1] > y_min and point_b[1] < y_max:\n",
        "          count += 1\n",
        "          x_min = point_b[0]\n",
        "          y_min = point_b[1]\n",
        "\n",
        "    return count"
      ]
    },
    {
      "cell_type": "code",
      "execution_count": 2,
      "metadata": {},
      "outputs": [
        {
          "data": {
            "text/plain": [
              "0"
            ]
          },
          "execution_count": 2,
          "metadata": {},
          "output_type": "execute_result"
        }
      ],
      "source": [
        "points = [[1, 1], [2, 2], [3, 3]]\n",
        "Solution().numberOfPairs(points=points)"
      ]
    },
    {
      "cell_type": "code",
      "execution_count": 3,
      "metadata": {},
      "outputs": [
        {
          "data": {
            "text/plain": [
              "2"
            ]
          },
          "execution_count": 3,
          "metadata": {},
          "output_type": "execute_result"
        }
      ],
      "source": [
        "points = [[6, 2], [4, 4], [2, 6]]\n",
        "Solution().numberOfPairs(points=points)"
      ]
    },
    {
      "cell_type": "code",
      "execution_count": 4,
      "metadata": {},
      "outputs": [
        {
          "data": {
            "text/plain": [
              "2"
            ]
          },
          "execution_count": 4,
          "metadata": {},
          "output_type": "execute_result"
        }
      ],
      "source": [
        "points = [[3, 1], [1, 3], [1, 1]]\n",
        "Solution().numberOfPairs(points=points)"
      ]
    }
  ],
  "metadata": {
    "kernelspec": {
      "display_name": "Python 3",
      "language": "python",
      "name": "python3"
    },
    "language_info": {
      "codemirror_mode": {
        "name": "ipython",
        "version": 3
      },
      "file_extension": ".py",
      "mimetype": "text/x-python",
      "name": "python",
      "nbconvert_exporter": "python",
      "pygments_lexer": "ipython3",
      "version": "3.12.8"
    }
  },
  "nbformat": 4,
  "nbformat_minor": 2
}
