{
  "cells": [
    {
      "cell_type": "code",
      "execution_count": 1,
      "metadata": {},
      "outputs": [],
      "source": [
        "from typing import List\n",
        "import heapq\n",
        "\n",
        "\n",
        "class Solution:\n",
        "  def getFinalState(self, nums: List[int], k: int, multiplier: int) -> List[int]:\n",
        "    \n",
        "    sorted_nums = []\n",
        "    for index, num in enumerate(nums):\n",
        "      heapq.heappush(sorted_nums, (num, index))\n",
        "\n",
        "    for _ in range(k):\n",
        "      num, index = heapq.heappop(sorted_nums)\n",
        "      heapq.heappush(sorted_nums, (num * multiplier, index))\n",
        "\n",
        "    for num, index in sorted_nums:\n",
        "      nums[index] = num\n",
        "\n",
        "    return nums"
      ]
    },
    {
      "cell_type": "code",
      "execution_count": 2,
      "metadata": {},
      "outputs": [
        {
          "data": {
            "text/plain": [
              "[8, 4, 6, 5, 6]"
            ]
          },
          "execution_count": 2,
          "metadata": {},
          "output_type": "execute_result"
        }
      ],
      "source": [
        "nums = [2, 1, 3, 5, 6]\n",
        "k = 5\n",
        "multiplier = 2\n",
        "Solution().getFinalState(nums=nums, k=k, multiplier=multiplier)"
      ]
    },
    {
      "cell_type": "code",
      "execution_count": 3,
      "metadata": {},
      "outputs": [
        {
          "data": {
            "text/plain": [
              "[16, 8]"
            ]
          },
          "execution_count": 3,
          "metadata": {},
          "output_type": "execute_result"
        }
      ],
      "source": [
        "nums = [1, 2]\n",
        "k = 3\n",
        "multiplier = 4\n",
        "Solution().getFinalState(nums=nums, k=k, multiplier=multiplier)"
      ]
    }
  ],
  "metadata": {
    "kernelspec": {
      "display_name": "base",
      "language": "python",
      "name": "python3"
    },
    "language_info": {
      "codemirror_mode": {
        "name": "ipython",
        "version": 3
      },
      "file_extension": ".py",
      "mimetype": "text/x-python",
      "name": "python",
      "nbconvert_exporter": "python",
      "pygments_lexer": "ipython3",
      "version": "3.11.7"
    }
  },
  "nbformat": 4,
  "nbformat_minor": 2
}
