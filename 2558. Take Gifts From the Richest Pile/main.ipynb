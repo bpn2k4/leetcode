{
 "cells": [
  {
   "cell_type": "code",
   "execution_count": 1,
   "metadata": {},
   "outputs": [],
   "source": [
    "from typing import List\n",
    "import heapq\n",
    "\n",
    "\n",
    "class Solution:\n",
    "  def pickGifts(self, gifts: List[int], k: int) -> int:\n",
    "\n",
    "    gifts = [-gift for gift in gifts]\n",
    "    heapq.heapify(gifts)\n",
    "    for _ in range(k):\n",
    "      gift = heapq.heappop(gifts)\n",
    "      gift = -gift\n",
    "      new_gift = int(gift**0.5)\n",
    "      new_gift = -new_gift\n",
    "      heapq.heappush(gifts, new_gift)\n",
    "    \n",
    "    total_gifts = sum(gifts)\n",
    "    total_gifts = -total_gifts\n",
    "\n",
    "    return total_gifts"
   ]
  },
  {
   "cell_type": "code",
   "execution_count": 2,
   "metadata": {},
   "outputs": [
    {
     "data": {
      "text/plain": [
       "29"
      ]
     },
     "execution_count": 2,
     "metadata": {},
     "output_type": "execute_result"
    }
   ],
   "source": [
    "gifts = [25, 64, 9, 4, 100]\n",
    "k = 4\n",
    "Solution().pickGifts(gifts=gifts, k=k)"
   ]
  },
  {
   "cell_type": "code",
   "execution_count": 3,
   "metadata": {},
   "outputs": [
    {
     "data": {
      "text/plain": [
       "4"
      ]
     },
     "execution_count": 3,
     "metadata": {},
     "output_type": "execute_result"
    }
   ],
   "source": [
    "gifts = [1, 1, 1, 1]\n",
    "k = 4\n",
    "Solution().pickGifts(gifts=gifts, k=k)"
   ]
  }
 ],
 "metadata": {
  "kernelspec": {
   "display_name": "base",
   "language": "python",
   "name": "python3"
  },
  "language_info": {
   "codemirror_mode": {
    "name": "ipython",
    "version": 3
   },
   "file_extension": ".py",
   "mimetype": "text/x-python",
   "name": "python",
   "nbconvert_exporter": "python",
   "pygments_lexer": "ipython3",
   "version": "3.11.7"
  }
 },
 "nbformat": 4,
 "nbformat_minor": 2
}
