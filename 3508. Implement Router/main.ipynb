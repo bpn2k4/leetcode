{
  "cells": [
    {
      "cell_type": "code",
      "execution_count": 1,
      "metadata": {},
      "outputs": [],
      "source": [
        "from typing import List\n",
        "from collections import deque\n",
        "import bisect\n",
        "\n",
        "\n",
        "class Router:\n",
        "  def __init__(self, memoryLimit: int):\n",
        "    self.size = memoryLimit\n",
        "    self.packet2info: dict[int, tuple[int, int, int]] = {}\n",
        "    self.destination2timestamps: dict[int, list[int]] = {}\n",
        "    self.queue: deque = deque()\n",
        "\n",
        "  def addPacket(self, source: int, destination: int, timestamp: int) -> bool:\n",
        "    packet = self._encode_packet(source, destination, timestamp)\n",
        "\n",
        "    if packet in self.packet2info:\n",
        "      return False\n",
        "\n",
        "    if len(self.packet2info) >= self.size:\n",
        "      self.forwardPacket()\n",
        "\n",
        "    self.packet2info[packet] = (source, destination, timestamp)\n",
        "    if destination not in self.destination2timestamps:\n",
        "      self.destination2timestamps[destination] = []\n",
        "    self.destination2timestamps[destination].append(timestamp)\n",
        "    self.queue.append(packet)\n",
        "\n",
        "    return True\n",
        "\n",
        "  def forwardPacket(self) -> List[int]:\n",
        "    if not self.packet2info:\n",
        "      return []\n",
        "\n",
        "    packet = self.queue.popleft()\n",
        "    source, destination, timestamp = self.packet2info.pop(packet)\n",
        "    self.destination2timestamps[destination].pop(0)\n",
        "\n",
        "    return [source, destination, timestamp]\n",
        "\n",
        "  def getCount(self, destination: int, startTime: int, endTime: int) -> int:\n",
        "    timestamps = self.destination2timestamps.get(destination, [])\n",
        "    if not timestamps:\n",
        "      return 0\n",
        "\n",
        "    left = bisect.bisect_left(timestamps, startTime)\n",
        "    right = bisect.bisect_right(timestamps, endTime)\n",
        "    return right - left\n",
        "\n",
        "  def _encode_packet(self, source: int, destination: int, timestamp: int) -> int:\n",
        "    return (source << 40) | (destination << 20) | timestamp"
      ]
    }
  ],
  "metadata": {
    "kernelspec": {
      "display_name": "Python 3",
      "language": "python",
      "name": "python3"
    },
    "language_info": {
      "codemirror_mode": {
        "name": "ipython",
        "version": 3
      },
      "file_extension": ".py",
      "mimetype": "text/x-python",
      "name": "python",
      "nbconvert_exporter": "python",
      "pygments_lexer": "ipython3",
      "version": "3.12.8"
    }
  },
  "nbformat": 4,
  "nbformat_minor": 2
}
