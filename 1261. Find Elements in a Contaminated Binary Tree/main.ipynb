{
 "cells": [
  {
   "cell_type": "code",
   "execution_count": 1,
   "metadata": {},
   "outputs": [],
   "source": [
    "from typing import Optional\n",
    "\n",
    "\n",
    "class TreeNode:\n",
    "  def __init__(self, val=0, left=None, right=None):\n",
    "    self.val = val\n",
    "    self.left: Optional[TreeNode] = left\n",
    "    self.right: Optional[TreeNode] = right\n",
    "\n",
    "\n",
    "class FindElements:\n",
    "  def __init__(self, root: Optional[TreeNode]):\n",
    "    \n",
    "    self.value2existed = {}\n",
    "\n",
    "    def order(node: Optional[TreeNode], value):\n",
    "\n",
    "      if not node:\n",
    "        return\n",
    "      \n",
    "      self.value2existed[value] = True\n",
    "      order(node.left, 2 * value + 1)\n",
    "      order(node.right, 2 * value + 2)\n",
    "\n",
    "    order(root, 0)\n",
    "\n",
    "  def find(self, target: int) -> bool:\n",
    "    \n",
    "    return target in self.value2existed"
   ]
  },
  {
   "cell_type": "code",
   "execution_count": 2,
   "metadata": {},
   "outputs": [
    {
     "data": {
      "text/plain": [
       "(False, True)"
      ]
     },
     "execution_count": 2,
     "metadata": {},
     "output_type": "execute_result"
    }
   ],
   "source": [
    "root = TreeNode(-1)\n",
    "root.right = TreeNode(-1)\n",
    "findElements = FindElements(root)\n",
    "findElements.find(1), findElements.find(2)"
   ]
  },
  {
   "cell_type": "code",
   "execution_count": 3,
   "metadata": {},
   "outputs": [
    {
     "data": {
      "text/plain": [
       "(True, True, False)"
      ]
     },
     "execution_count": 3,
     "metadata": {},
     "output_type": "execute_result"
    }
   ],
   "source": [
    "root = TreeNode(-1)\n",
    "root.left = TreeNode(-1)\n",
    "root.right = TreeNode(-1)\n",
    "root.left.left = TreeNode(-1)\n",
    "root.left.right = TreeNode(-1)\n",
    "findElements = FindElements(root)\n",
    "findElements.find(1), findElements.find(3), findElements.find(5)"
   ]
  },
  {
   "cell_type": "code",
   "execution_count": 4,
   "metadata": {},
   "outputs": [
    {
     "data": {
      "text/plain": [
       "(True, False, False, True)"
      ]
     },
     "execution_count": 4,
     "metadata": {},
     "output_type": "execute_result"
    }
   ],
   "source": [
    "root = TreeNode(-1)\n",
    "root.right = TreeNode(-1)\n",
    "root.right.left = TreeNode(-1)\n",
    "root.right.left.left = TreeNode(-1)\n",
    "findElements = FindElements(root)\n",
    "findElements.find(2), findElements.find(3), findElements.find(4), findElements.find(5)"
   ]
  }
 ],
 "metadata": {
  "kernelspec": {
   "display_name": "Python 3",
   "language": "python",
   "name": "python3"
  },
  "language_info": {
   "codemirror_mode": {
    "name": "ipython",
    "version": 3
   },
   "file_extension": ".py",
   "mimetype": "text/x-python",
   "name": "python",
   "nbconvert_exporter": "python",
   "pygments_lexer": "ipython3",
   "version": "3.12.1"
  }
 },
 "nbformat": 4,
 "nbformat_minor": 2
}
