{
 "cells": [
  {
   "cell_type": "code",
   "execution_count": 1,
   "metadata": {},
   "outputs": [],
   "source": [
    "from typing import List\n",
    "\n",
    "\n",
    "class Solution:\n",
    "\n",
    "  def sortJumbled(self, mapping: List[int], nums: List[int]) -> List[int]:\n",
    "\n",
    "    mapping = {str(index): str(num) for (index, num) in enumerate(mapping)}\n",
    "    arr = []\n",
    "    for num in nums:\n",
    "      str_num = str(num)\n",
    "      s = ''\n",
    "      for char in str_num:\n",
    "        s += mapping[char]\n",
    "      arr.append(int(s))\n",
    "\n",
    "    mark = {i: (j, index) for i, j, index in zip(nums, arr, range(len(arr)))}\n",
    "\n",
    "    def quick_sort(array):\n",
    "      if len(array) <= 1:\n",
    "        return array\n",
    "      pivot = array[len(array) // 2]\n",
    "      left = [\n",
    "          x for x in array\n",
    "          if mark[x][0] < mark[pivot][0] or (mark[x][0] == mark[pivot][0] and mark[x][1] < mark[pivot][1])\n",
    "      ]\n",
    "      middle = [\n",
    "          x for x in array\n",
    "          if mark[x][0] == mark[pivot][0] and mark[x][1] == mark[pivot][1]\n",
    "      ]\n",
    "      right = [\n",
    "          x for x in array\n",
    "          if mark[x][0] > mark[pivot][0] or (mark[x][0] == mark[pivot][0] and mark[x][1] > mark[pivot][1])\n",
    "      ]\n",
    "      return quick_sort(left) + middle + quick_sort(right)\n",
    "\n",
    "    return quick_sort(nums)"
   ]
  },
  {
   "cell_type": "code",
   "execution_count": 2,
   "metadata": {},
   "outputs": [],
   "source": [
    "class Solution:\n",
    "  def sortJumbled(self, mapping: List[int], nums: List[int]) -> List[int]:\n",
    "    trans_rule = str.maketrans({str(i): str(x) for i, x in enumerate(mapping)})\n",
    "    return sorted(nums, key=lambda x: int(str(x).translate(trans_rule)))"
   ]
  },
  {
   "cell_type": "code",
   "execution_count": 3,
   "metadata": {},
   "outputs": [
    {
     "data": {
      "text/plain": [
       "[338, 38, 991]"
      ]
     },
     "execution_count": 3,
     "metadata": {},
     "output_type": "execute_result"
    }
   ],
   "source": [
    "Solution().sortJumbled(\n",
    "    mapping=[8, 9, 4, 0, 2, 1, 3, 5, 7, 6],\n",
    "    nums=[991, 338, 38]\n",
    ")"
   ]
  },
  {
   "cell_type": "code",
   "execution_count": 4,
   "metadata": {},
   "outputs": [
    {
     "data": {
      "text/plain": [
       "[123, 456, 789]"
      ]
     },
     "execution_count": 4,
     "metadata": {},
     "output_type": "execute_result"
    }
   ],
   "source": [
    "Solution().sortJumbled(\n",
    "    mapping=[0, 1, 2, 3, 4, 5, 6, 7, 8, 9],\n",
    "    nums=[789, 456, 123]\n",
    ")"
   ]
  }
 ],
 "metadata": {
  "kernelspec": {
   "display_name": "base",
   "language": "python",
   "name": "python3"
  },
  "language_info": {
   "codemirror_mode": {
    "name": "ipython",
    "version": 3
   },
   "file_extension": ".py",
   "mimetype": "text/x-python",
   "name": "python",
   "nbconvert_exporter": "python",
   "pygments_lexer": "ipython3",
   "version": "3.11.7"
  }
 },
 "nbformat": 4,
 "nbformat_minor": 2
}
