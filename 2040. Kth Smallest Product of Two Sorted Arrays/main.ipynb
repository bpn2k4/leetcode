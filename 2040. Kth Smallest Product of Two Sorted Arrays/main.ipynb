{
  "cells": [
    {
      "cell_type": "code",
      "execution_count": 1,
      "metadata": {},
      "outputs": [],
      "source": [
        "from typing import List\n",
        "from bisect import bisect_left, bisect_right\n",
        "\n",
        "\n",
        "class Solution:\n",
        "  def kthSmallestProduct(self, nums1: List[int], nums2: List[int], k: int) -> int:\n",
        "\n",
        "    def check(nums, num, k):\n",
        "      if num > 0:\n",
        "        return bisect_right(nums, k // num)\n",
        "      elif num < 0:\n",
        "        return len(nums) - bisect_left(nums, -(-k // num))\n",
        "      else:\n",
        "        return len(nums) if k >= 0 else 0\n",
        "\n",
        "    n1 = len(nums1)\n",
        "    left, right = -(10**10), 10**10\n",
        "    while left <= right:\n",
        "      mid = (left + right) // 2\n",
        "      count = 0\n",
        "      for i in range(n1):\n",
        "        count += check(nums2, nums1[i], mid)\n",
        "      if count < k:\n",
        "        left = mid + 1\n",
        "      else:\n",
        "        right = mid - 1\n",
        "        \n",
        "    return left"
      ]
    },
    {
      "cell_type": "code",
      "execution_count": 2,
      "metadata": {},
      "outputs": [
        {
          "data": {
            "text/plain": [
              "8"
            ]
          },
          "execution_count": 2,
          "metadata": {},
          "output_type": "execute_result"
        }
      ],
      "source": [
        "nums1 = [2, 5]\n",
        "nums2 = [3, 4]\n",
        "k = 2\n",
        "Solution().kthSmallestProduct(nums1=nums1, nums2=nums2, k=k)"
      ]
    },
    {
      "cell_type": "code",
      "execution_count": 3,
      "metadata": {},
      "outputs": [
        {
          "data": {
            "text/plain": [
              "0"
            ]
          },
          "execution_count": 3,
          "metadata": {},
          "output_type": "execute_result"
        }
      ],
      "source": [
        "nums1 = [-4, -2, 0, 3]\n",
        "nums2 = [2, 4]\n",
        "k = 6\n",
        "Solution().kthSmallestProduct(nums1=nums1, nums2=nums2, k=k)"
      ]
    },
    {
      "cell_type": "code",
      "execution_count": 4,
      "metadata": {},
      "outputs": [
        {
          "data": {
            "text/plain": [
              "-6"
            ]
          },
          "execution_count": 4,
          "metadata": {},
          "output_type": "execute_result"
        }
      ],
      "source": [
        "nums1 = [-2, -1, 0, 1, 2]\n",
        "nums2 = [-3, -1, 2, 4, 5]\n",
        "k = 3\n",
        "Solution().kthSmallestProduct(nums1=nums1, nums2=nums2, k=k)"
      ]
    }
  ],
  "metadata": {
    "kernelspec": {
      "display_name": "Python 3",
      "language": "python",
      "name": "python3"
    },
    "language_info": {
      "codemirror_mode": {
        "name": "ipython",
        "version": 3
      },
      "file_extension": ".py",
      "mimetype": "text/x-python",
      "name": "python",
      "nbconvert_exporter": "python",
      "pygments_lexer": "ipython3",
      "version": "3.12.8"
    }
  },
  "nbformat": 4,
  "nbformat_minor": 2
}
