{
  "cells": [
    {
      "cell_type": "code",
      "execution_count": 1,
      "metadata": {},
      "outputs": [],
      "source": [
        "class Solution:\n",
        "  def findKthNumber(self, n: int, k: int) -> int:\n",
        "\n",
        "    def count_steps(curr: int, n: int) -> int:\n",
        "      steps = 0\n",
        "      first = curr\n",
        "      last = curr\n",
        "      while first <= n:\n",
        "        steps += min(n + 1, last + 1) - first\n",
        "        first *= 10\n",
        "        last = last * 10 + 9\n",
        "      return steps\n",
        "\n",
        "    curr = 1\n",
        "    k -= 1\n",
        "    while k > 0:\n",
        "      steps = count_steps(curr, n)\n",
        "      if steps <= k:\n",
        "        curr += 1\n",
        "        k -= steps\n",
        "      else:\n",
        "        curr *= 10\n",
        "        k -= 1\n",
        "\n",
        "    return curr"
      ]
    },
    {
      "cell_type": "code",
      "execution_count": 2,
      "metadata": {},
      "outputs": [
        {
          "data": {
            "text/plain": [
              "10"
            ]
          },
          "execution_count": 2,
          "metadata": {},
          "output_type": "execute_result"
        }
      ],
      "source": [
        "n = 13\n",
        "k = 2\n",
        "Solution().findKthNumber(n=n, k=k)"
      ]
    },
    {
      "cell_type": "code",
      "execution_count": 3,
      "metadata": {},
      "outputs": [
        {
          "data": {
            "text/plain": [
              "1"
            ]
          },
          "execution_count": 3,
          "metadata": {},
          "output_type": "execute_result"
        }
      ],
      "source": [
        "n = 1\n",
        "k = 1\n",
        "Solution().findKthNumber(n=n, k=k)"
      ]
    }
  ],
  "metadata": {
    "kernelspec": {
      "display_name": "base",
      "language": "python",
      "name": "python3"
    },
    "language_info": {
      "codemirror_mode": {
        "name": "ipython",
        "version": 3
      },
      "file_extension": ".py",
      "mimetype": "text/x-python",
      "name": "python",
      "nbconvert_exporter": "python",
      "pygments_lexer": "ipython3",
      "version": "3.11.7"
    }
  },
  "nbformat": 4,
  "nbformat_minor": 2
}
