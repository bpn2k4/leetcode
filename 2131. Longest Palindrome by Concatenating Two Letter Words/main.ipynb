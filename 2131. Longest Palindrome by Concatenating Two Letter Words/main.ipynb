{
  "cells": [
    {
      "cell_type": "code",
      "execution_count": 1,
      "metadata": {},
      "outputs": [],
      "source": [
        "from typing import List\n",
        "from collections import Counter\n",
        "\n",
        "\n",
        "class Solution:\n",
        "  def longestPalindrome(self, words: List[str]) -> int:\n",
        "    \n",
        "    word2count = Counter(words)\n",
        "    length = 0\n",
        "    for word in word2count:\n",
        "      if word[0] == word[1]:\n",
        "        length += word2count[word] // 2 * 4\n",
        "        word2count[word] = word2count[word] - word2count[word] // 2 * 2\n",
        "      else:\n",
        "        length += min(word2count[word], word2count[word[::-1]]) * 2\n",
        "    \n",
        "    for word in word2count:\n",
        "      if word[0] == word[1] and word2count[word] > 0:\n",
        "        length += 2\n",
        "        break\n",
        "    \n",
        "    return length"
      ]
    },
    {
      "cell_type": "code",
      "execution_count": 2,
      "metadata": {},
      "outputs": [
        {
          "data": {
            "text/plain": [
              "22"
            ]
          },
          "execution_count": 2,
          "metadata": {},
          "output_type": "execute_result"
        }
      ],
      "source": [
        "words = [\"dd\", \"aa\", \"bb\", \"dd\", \"aa\", \"dd\", \"bb\", \"dd\", \"aa\", \"cc\", \"bb\", \"cc\", \"dd\", \"cc\"]\n",
        "Solution().longestPalindrome(words=words)"
      ]
    },
    {
      "cell_type": "code",
      "execution_count": 3,
      "metadata": {},
      "outputs": [
        {
          "data": {
            "text/plain": [
              "6"
            ]
          },
          "execution_count": 3,
          "metadata": {},
          "output_type": "execute_result"
        }
      ],
      "source": [
        "words = [\"lc\", \"cl\", \"gg\"]\n",
        "Solution().longestPalindrome(words=words)"
      ]
    },
    {
      "cell_type": "code",
      "execution_count": 4,
      "metadata": {},
      "outputs": [
        {
          "data": {
            "text/plain": [
              "8"
            ]
          },
          "execution_count": 4,
          "metadata": {},
          "output_type": "execute_result"
        }
      ],
      "source": [
        "words = [\"ab\", \"ty\", \"yt\", \"lc\", \"cl\", \"ab\"]\n",
        "Solution().longestPalindrome(words=words)"
      ]
    },
    {
      "cell_type": "code",
      "execution_count": 5,
      "metadata": {},
      "outputs": [
        {
          "data": {
            "text/plain": [
              "2"
            ]
          },
          "execution_count": 5,
          "metadata": {},
          "output_type": "execute_result"
        }
      ],
      "source": [
        "words = [\"cc\", \"ll\", \"xx\"]\n",
        "Solution().longestPalindrome(words=words)"
      ]
    }
  ],
  "metadata": {
    "kernelspec": {
      "display_name": "Python 3",
      "language": "python",
      "name": "python3"
    },
    "language_info": {
      "codemirror_mode": {
        "name": "ipython",
        "version": 3
      },
      "file_extension": ".py",
      "mimetype": "text/x-python",
      "name": "python",
      "nbconvert_exporter": "python",
      "pygments_lexer": "ipython3",
      "version": "3.12.8"
    }
  },
  "nbformat": 4,
  "nbformat_minor": 2
}
