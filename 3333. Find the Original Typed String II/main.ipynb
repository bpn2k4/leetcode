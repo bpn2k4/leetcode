{
  "cells": [
    {
      "cell_type": "code",
      "execution_count": 1,
      "metadata": {},
      "outputs": [],
      "source": [
        "class Solution:\n",
        "  def possibleStringCount(self, word: str, k: int) -> int:\n",
        "\n",
        "    MOD = 10**9 + 7\n",
        "    n, cnt = len(word), 1\n",
        "    freq = []\n",
        "\n",
        "    for i in range(1, n):\n",
        "      if word[i] == word[i - 1]:\n",
        "        cnt += 1\n",
        "      else:\n",
        "        freq.append(cnt)\n",
        "        cnt = 1\n",
        "    freq.append(cnt)\n",
        "\n",
        "    output = 1\n",
        "    for num in freq:\n",
        "      output = output * num % MOD\n",
        "\n",
        "    if len(freq) >= k:\n",
        "      return output\n",
        "\n",
        "    g = [1] * k\n",
        "    for i in range(len(freq)):\n",
        "      f = [0] * k\n",
        "      for j in range(1, k):\n",
        "        f[j] = g[j - 1]\n",
        "        if j - freq[i] - 1 >= 0:\n",
        "          f[j] = (f[j] - g[j - freq[i] - 1]) % MOD\n",
        "      g_new = [f[0]] + [0] * (k - 1)\n",
        "      for j in range(1, k):\n",
        "        g_new[j] = (g_new[j - 1] + f[j]) % MOD\n",
        "      g = g_new\n",
        "\n",
        "    return (output - g[k - 1]) % MOD"
      ]
    },
    {
      "cell_type": "code",
      "execution_count": 2,
      "metadata": {},
      "outputs": [
        {
          "data": {
            "text/plain": [
              "5"
            ]
          },
          "execution_count": 2,
          "metadata": {},
          "output_type": "execute_result"
        }
      ],
      "source": [
        "word = \"aabbccdd\"\n",
        "k = 7\n",
        "Solution().possibleStringCount(word=word, k=k)"
      ]
    },
    {
      "cell_type": "code",
      "execution_count": 3,
      "metadata": {},
      "outputs": [
        {
          "data": {
            "text/plain": [
              "1"
            ]
          },
          "execution_count": 3,
          "metadata": {},
          "output_type": "execute_result"
        }
      ],
      "source": [
        "word = \"aabbccdd\"\n",
        "k = 8\n",
        "Solution().possibleStringCount(word=word, k=k)"
      ]
    },
    {
      "cell_type": "code",
      "execution_count": 4,
      "metadata": {},
      "outputs": [
        {
          "data": {
            "text/plain": [
              "8"
            ]
          },
          "execution_count": 4,
          "metadata": {},
          "output_type": "execute_result"
        }
      ],
      "source": [
        "word = \"aaabbb\"\n",
        "k = 3\n",
        "Solution().possibleStringCount(word=word, k=k)"
      ]
    }
  ],
  "metadata": {
    "kernelspec": {
      "display_name": "Python 3",
      "language": "python",
      "name": "python3"
    },
    "language_info": {
      "codemirror_mode": {
        "name": "ipython",
        "version": 3
      },
      "file_extension": ".py",
      "mimetype": "text/x-python",
      "name": "python",
      "nbconvert_exporter": "python",
      "pygments_lexer": "ipython3",
      "version": "3.12.8"
    }
  },
  "nbformat": 4,
  "nbformat_minor": 2
}
