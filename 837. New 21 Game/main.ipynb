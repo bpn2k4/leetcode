{
  "cells": [
    {
      "cell_type": "code",
      "execution_count": 1,
      "metadata": {},
      "outputs": [],
      "source": [
        "class Solution:\n",
        "  def new21Game(self, n: int, k: int, maxPts: int) -> float:\n",
        "\n",
        "    dp = [0] * (n + 1)\n",
        "    dp[0] = 1\n",
        "    s = 1 if k > 0 else 0\n",
        "    for i in range(1, n + 1):\n",
        "      dp[i] = s / maxPts\n",
        "      if i < k:\n",
        "        s += dp[i]\n",
        "      if i - maxPts >= 0 and i - maxPts < k:\n",
        "        s -= dp[i - maxPts]\n",
        "        \n",
        "    return sum(dp[k:])"
      ]
    },
    {
      "cell_type": "code",
      "execution_count": 2,
      "metadata": {},
      "outputs": [
        {
          "data": {
            "text/plain": [
              "1.0"
            ]
          },
          "execution_count": 2,
          "metadata": {},
          "output_type": "execute_result"
        }
      ],
      "source": [
        "n = 10\n",
        "k = 1\n",
        "maxPts = 10\n",
        "Solution().new21Game(n=n, k=k, maxPts=maxPts)"
      ]
    },
    {
      "cell_type": "code",
      "execution_count": 3,
      "metadata": {},
      "outputs": [
        {
          "data": {
            "text/plain": [
              "0.6000000000000001"
            ]
          },
          "execution_count": 3,
          "metadata": {},
          "output_type": "execute_result"
        }
      ],
      "source": [
        "n = 6\n",
        "k = 1\n",
        "maxPts = 10\n",
        "Solution().new21Game(n=n, k=k, maxPts=maxPts)"
      ]
    },
    {
      "cell_type": "code",
      "execution_count": 4,
      "metadata": {},
      "outputs": [
        {
          "data": {
            "text/plain": [
              "0.7327777870686081"
            ]
          },
          "execution_count": 4,
          "metadata": {},
          "output_type": "execute_result"
        }
      ],
      "source": [
        "n = 21\n",
        "k = 17\n",
        "maxPts = 10\n",
        "Solution().new21Game(n=n, k=k, maxPts=maxPts)"
      ]
    }
  ],
  "metadata": {
    "kernelspec": {
      "display_name": "Python 3",
      "language": "python",
      "name": "python3"
    },
    "language_info": {
      "codemirror_mode": {
        "name": "ipython",
        "version": 3
      },
      "file_extension": ".py",
      "mimetype": "text/x-python",
      "name": "python",
      "nbconvert_exporter": "python",
      "pygments_lexer": "ipython3",
      "version": "3.12.8"
    }
  },
  "nbformat": 4,
  "nbformat_minor": 2
}
