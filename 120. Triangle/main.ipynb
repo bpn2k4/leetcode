{
  "cells": [
    {
      "cell_type": "code",
      "execution_count": 1,
      "metadata": {},
      "outputs": [],
      "source": [
        "from typing import List\n",
        "\n",
        "\n",
        "class Solution:\n",
        "  def minimumTotal(self, triangle: List[List[int]]) -> int:\n",
        "    \n",
        "    height = len(triangle)\n",
        "    for i in range(height - 2, -1, -1):\n",
        "      for j in range(len(triangle[i])):\n",
        "        triangle[i][j] += min(triangle[i + 1][j], triangle[i + 1][j + 1])\n",
        "    \n",
        "    return triangle[0][0]"
      ]
    },
    {
      "cell_type": "code",
      "execution_count": 2,
      "metadata": {},
      "outputs": [
        {
          "data": {
            "text/plain": [
              "11"
            ]
          },
          "execution_count": 2,
          "metadata": {},
          "output_type": "execute_result"
        }
      ],
      "source": [
        "triangle = [[2], [3, 4], [6, 5, 7], [4, 1, 8, 3]]\n",
        "Solution().minimumTotal(triangle=triangle)"
      ]
    },
    {
      "cell_type": "code",
      "execution_count": 3,
      "metadata": {},
      "outputs": [
        {
          "data": {
            "text/plain": [
              "-10"
            ]
          },
          "execution_count": 3,
          "metadata": {},
          "output_type": "execute_result"
        }
      ],
      "source": [
        "triangle = [[-10]]\n",
        "Solution().minimumTotal(triangle=triangle)"
      ]
    }
  ],
  "metadata": {
    "kernelspec": {
      "display_name": "Python 3",
      "language": "python",
      "name": "python3"
    },
    "language_info": {
      "codemirror_mode": {
        "name": "ipython",
        "version": 3
      },
      "file_extension": ".py",
      "mimetype": "text/x-python",
      "name": "python",
      "nbconvert_exporter": "python",
      "pygments_lexer": "ipython3",
      "version": "3.12.8"
    }
  },
  "nbformat": 4,
  "nbformat_minor": 2
}
