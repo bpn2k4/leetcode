{
  "cells": [
    {
      "cell_type": "code",
      "execution_count": 1,
      "metadata": {},
      "outputs": [],
      "source": [
        "from typing import List\n",
        "\n",
        "\n",
        "class Solution:\n",
        "  def areaOfMaxDiagonal(self, dimensions: List[List[int]]) -> int:\n",
        "    \n",
        "    max_diagonal = dimensions[0][0] * dimensions[0][0] + dimensions[0][1] * dimensions[0][1]\n",
        "    max_area = dimensions[0][0] * dimensions[0][1]\n",
        "    for i in range(1, len(dimensions)):\n",
        "      diagonal = dimensions[i][0] * dimensions[i][0] + dimensions[i][1] * dimensions[i][1]\n",
        "      if diagonal > max_diagonal:\n",
        "        max_diagonal = diagonal\n",
        "        max_area = dimensions[i][0] * dimensions[i][1]\n",
        "      if diagonal == max_diagonal:\n",
        "        max_area = max(max_area, dimensions[i][0] * dimensions[i][1])\n",
        "\n",
        "    return max_area"
      ]
    },
    {
      "cell_type": "code",
      "execution_count": 2,
      "metadata": {},
      "outputs": [
        {
          "data": {
            "text/plain": [
              "48"
            ]
          },
          "execution_count": 2,
          "metadata": {},
          "output_type": "execute_result"
        }
      ],
      "source": [
        "dimensions = [[9, 3], [8, 6]]\n",
        "Solution().areaOfMaxDiagonal(dimensions=dimensions)"
      ]
    },
    {
      "cell_type": "code",
      "execution_count": 3,
      "metadata": {},
      "outputs": [
        {
          "data": {
            "text/plain": [
              "12"
            ]
          },
          "execution_count": 3,
          "metadata": {},
          "output_type": "execute_result"
        }
      ],
      "source": [
        "dimensions = [[3, 4], [4, 3]]\n",
        "Solution().areaOfMaxDiagonal(dimensions=dimensions)"
      ]
    }
  ],
  "metadata": {
    "kernelspec": {
      "display_name": "Python 3",
      "language": "python",
      "name": "python3"
    },
    "language_info": {
      "codemirror_mode": {
        "name": "ipython",
        "version": 3
      },
      "file_extension": ".py",
      "mimetype": "text/x-python",
      "name": "python",
      "nbconvert_exporter": "python",
      "pygments_lexer": "ipython3",
      "version": "3.12.8"
    }
  },
  "nbformat": 4,
  "nbformat_minor": 2
}
