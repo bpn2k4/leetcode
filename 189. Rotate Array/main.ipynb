{
 "cells": [
  {
   "cell_type": "code",
   "execution_count": 1,
   "metadata": {},
   "outputs": [],
   "source": [
    "from typing import List\n",
    "\n",
    "\n",
    "class Solution:\n",
    "  def rotate(self, nums: List[int], k: int) -> None:\n",
    "    \n",
    "    n = len(nums)\n",
    "    k = k % n\n",
    "    \n",
    "    left = 0\n",
    "    right = n - 1\n",
    "    while left < right:\n",
    "      nums[left], nums[right] = nums[right], nums[left]\n",
    "      left += 1\n",
    "      right -= 1\n",
    "\n",
    "    left = 0\n",
    "    right = k - 1\n",
    "    while left < right:\n",
    "      nums[left], nums[right] = nums[right], nums[left]\n",
    "      left += 1\n",
    "      right -= 1\n",
    "\n",
    "    left = k\n",
    "    right = n - 1\n",
    "    while left < right:\n",
    "      nums[left], nums[right] = nums[right], nums[left]\n",
    "      left += 1\n",
    "      right -= 1"
   ]
  },
  {
   "cell_type": "code",
   "execution_count": 2,
   "metadata": {},
   "outputs": [],
   "source": [
    "nums = [1, 2, 3, 4, 5, 6, 7]\n",
    "k = 3\n",
    "Solution().rotate(nums=nums, k=k)"
   ]
  },
  {
   "cell_type": "code",
   "execution_count": 3,
   "metadata": {},
   "outputs": [],
   "source": [
    "nums = [-1, -100, 3, 99]\n",
    "k = 2\n",
    "Solution().rotate(nums=nums, k=k)"
   ]
  }
 ],
 "metadata": {
  "kernelspec": {
   "display_name": "base",
   "language": "python",
   "name": "python3"
  },
  "language_info": {
   "codemirror_mode": {
    "name": "ipython",
    "version": 3
   },
   "file_extension": ".py",
   "mimetype": "text/x-python",
   "name": "python",
   "nbconvert_exporter": "python",
   "pygments_lexer": "ipython3",
   "version": "3.11.7"
  }
 },
 "nbformat": 4,
 "nbformat_minor": 2
}
