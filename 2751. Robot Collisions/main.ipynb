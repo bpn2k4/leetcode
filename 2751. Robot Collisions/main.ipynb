{
 "cells": [
  {
   "cell_type": "code",
   "execution_count": 43,
   "metadata": {},
   "outputs": [],
   "source": [
    "from typing import List\n",
    "\n",
    "\n",
    "class Solution:\n",
    "  def survivedRobotsHealths(self, positions: List[int], healths: List[int], directions: str) -> List[int]:\n",
    "    robots = sorted(zip(positions, healths, directions, range(len(positions))))\n",
    "    stack = []\n",
    "    for position, health, direction, index in robots:\n",
    "      if direction == 'R':\n",
    "        stack.append({\n",
    "            'position': position,\n",
    "            'health': health,\n",
    "            'direction': direction,\n",
    "            'index': index\n",
    "        })\n",
    "      else:  # direction == 'L'\n",
    "        while stack and stack[-1]['direction'] == 'R':\n",
    "          last = stack[-1]\n",
    "          if last['health'] == health:\n",
    "            stack.pop()\n",
    "            health = -1\n",
    "            break\n",
    "          elif last['health'] > health:\n",
    "            stack[-1]['health'] -= 1\n",
    "            health = -1\n",
    "            break\n",
    "          else:\n",
    "            stack.pop()\n",
    "            health -= 1\n",
    "        if health > 0:\n",
    "          stack.append({\n",
    "              'position': position,\n",
    "              'health': health,\n",
    "              'direction': direction,\n",
    "              'index': index\n",
    "          })\n",
    "    result = [0] * len(positions)\n",
    "    for i in range(len(stack)):\n",
    "      result[stack[i]['index']] = stack[i]['health']\n",
    "    result = [i for i in result if i != 0]\n",
    "    return result"
   ]
  },
  {
   "cell_type": "code",
   "execution_count": 44,
   "metadata": {},
   "outputs": [
    {
     "data": {
      "text/plain": [
       "[2, 17, 9, 15, 10]"
      ]
     },
     "execution_count": 44,
     "metadata": {},
     "output_type": "execute_result"
    }
   ],
   "source": [
    "Solution().survivedRobotsHealths(\n",
    "    positions=[5, 4, 3, 2, 1],\n",
    "    healths=[2, 17, 9, 15, 10],\n",
    "    directions=\"RRRRR\"\n",
    ")"
   ]
  },
  {
   "cell_type": "code",
   "execution_count": 45,
   "metadata": {},
   "outputs": [
    {
     "data": {
      "text/plain": [
       "[14]"
      ]
     },
     "execution_count": 45,
     "metadata": {},
     "output_type": "execute_result"
    }
   ],
   "source": [
    "Solution().survivedRobotsHealths(\n",
    "    positions=[3, 5, 2, 6],\n",
    "    healths=[10, 10, 15, 12],\n",
    "    directions=\"RLRL\"\n",
    ")"
   ]
  },
  {
   "cell_type": "code",
   "execution_count": 46,
   "metadata": {},
   "outputs": [
    {
     "data": {
      "text/plain": [
       "[]"
      ]
     },
     "execution_count": 46,
     "metadata": {},
     "output_type": "execute_result"
    }
   ],
   "source": [
    "Solution().survivedRobotsHealths(\n",
    "    positions=[1, 2, 5, 6],\n",
    "    healths=[10, 10, 11, 11],\n",
    "    directions=\"RLRL\"\n",
    ")"
   ]
  }
 ],
 "metadata": {
  "kernelspec": {
   "display_name": "base",
   "language": "python",
   "name": "python3"
  },
  "language_info": {
   "codemirror_mode": {
    "name": "ipython",
    "version": 3
   },
   "file_extension": ".py",
   "mimetype": "text/x-python",
   "name": "python",
   "nbconvert_exporter": "python",
   "pygments_lexer": "ipython3",
   "version": "3.11.7"
  }
 },
 "nbformat": 4,
 "nbformat_minor": 2
}
