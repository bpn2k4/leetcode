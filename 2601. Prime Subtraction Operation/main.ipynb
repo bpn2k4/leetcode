{
 "cells": [
  {
   "cell_type": "code",
   "execution_count": 1,
   "metadata": {},
   "outputs": [],
   "source": [
    "from typing import List\n",
    "\n",
    "class Solution:\n",
    "  def primeSubOperation(self, nums: List[int]) -> bool:\n",
    "    \n",
    "    prime_numbers = [\n",
    "      0, 2, 3, 5, 7, 11, 13, 17, 19, 23, 29, 31, 37, 41, 43, 47, 53, \n",
    "      59, 61, 67, 71, 73, 79, 83, 89, 97, 101, 103, 107, 109, 113, \n",
    "      127, 131, 137, 139, 149, 151, 157, 163, 167, 173, 179, 181, \n",
    "      191, 193, 197, 199, 211, 223, 227, 229, 233, 239, 241, 251, \n",
    "      257, 263, 269, 271, 277, 281, 283, 293, 307, 311, 313, 317, \n",
    "      331, 337, 347, 349, 353, 359, 367, 373, 379, 383, 389, 397, \n",
    "      401, 409, 419, 421, 431, 433, 439, 443, 449, 457, 461, 463, \n",
    "      467, 479, 487, 491, 499, 503, 509, 521, 523, 541, 547, 557, \n",
    "      563, 569, 571, 577, 587, 593, 599, 601, 607, 613, 617, 619, \n",
    "      631, 641, 643, 647, 653, 659, 661, 673, 677, 683, 691, 701, \n",
    "      709, 719, 727, 733, 739, 743, 751, 757, 761, 769, 773, 787, \n",
    "      797, 809, 811, 821, 823, 827, 829, 839, 853, 857, 859, 863, \n",
    "      877, 881, 883, 887, 907, 911, 919, 929, 937, 941, 947, 953, \n",
    "      967, 971, 977, 983, 991, 997\n",
    "    ]\n",
    "\n",
    "    def binary_search(num: int, target: int):\n",
    "      left = 0\n",
    "      right = 168\n",
    "      while left <= right:\n",
    "        mid = (left + right) // 2\n",
    "        if num - prime_numbers[mid] <= target:\n",
    "          right = mid - 1\n",
    "        else:\n",
    "          left = mid + 1\n",
    "      \n",
    "      return left - 1\n",
    "    \n",
    "    for i in range(len(nums)):\n",
    "      if i == 0:\n",
    "        index = binary_search(nums[i], 0)\n",
    "      else:\n",
    "        index = binary_search(nums[i], nums[i - 1])\n",
    "      nums[i] = nums[i] - prime_numbers[index]\n",
    "      if nums[i] <= 0:\n",
    "        return False\n",
    "    \n",
    "    for i in range(1, len(nums)):\n",
    "      if nums[i] < nums[i - 1]:\n",
    "        return False\n",
    "    \n",
    "    return True"
   ]
  },
  {
   "cell_type": "code",
   "execution_count": 2,
   "metadata": {},
   "outputs": [
    {
     "data": {
      "text/plain": [
       "True"
      ]
     },
     "execution_count": 2,
     "metadata": {},
     "output_type": "execute_result"
    }
   ],
   "source": [
    "nums = [4, 9, 6, 10]\n",
    "Solution().primeSubOperation(nums=nums)"
   ]
  },
  {
   "cell_type": "code",
   "execution_count": 3,
   "metadata": {},
   "outputs": [
    {
     "data": {
      "text/plain": [
       "True"
      ]
     },
     "execution_count": 3,
     "metadata": {},
     "output_type": "execute_result"
    }
   ],
   "source": [
    "nums = [6, 8, 11, 12]\n",
    "Solution().primeSubOperation(nums=nums)"
   ]
  },
  {
   "cell_type": "code",
   "execution_count": 4,
   "metadata": {},
   "outputs": [
    {
     "data": {
      "text/plain": [
       "False"
      ]
     },
     "execution_count": 4,
     "metadata": {},
     "output_type": "execute_result"
    }
   ],
   "source": [
    "nums = [5, 8, 3]\n",
    "Solution().primeSubOperation(nums=nums)"
   ]
  },
  {
   "cell_type": "code",
   "execution_count": 5,
   "metadata": {},
   "outputs": [
    {
     "data": {
      "text/plain": [
       "False"
      ]
     },
     "execution_count": 5,
     "metadata": {},
     "output_type": "execute_result"
    }
   ],
   "source": [
    "nums = [2, 2]\n",
    "Solution().primeSubOperation(nums=nums)"
   ]
  },
  {
   "cell_type": "code",
   "execution_count": 6,
   "metadata": {},
   "outputs": [
    {
     "data": {
      "text/plain": [
       "True"
      ]
     },
     "execution_count": 6,
     "metadata": {},
     "output_type": "execute_result"
    }
   ],
   "source": [
    "nums = [998, 2]\n",
    "Solution().primeSubOperation(nums=nums)"
   ]
  }
 ],
 "metadata": {
  "kernelspec": {
   "display_name": "base",
   "language": "python",
   "name": "python3"
  },
  "language_info": {
   "codemirror_mode": {
    "name": "ipython",
    "version": 3
   },
   "file_extension": ".py",
   "mimetype": "text/x-python",
   "name": "python",
   "nbconvert_exporter": "python",
   "pygments_lexer": "ipython3",
   "version": "3.11.7"
  }
 },
 "nbformat": 4,
 "nbformat_minor": 2
}
