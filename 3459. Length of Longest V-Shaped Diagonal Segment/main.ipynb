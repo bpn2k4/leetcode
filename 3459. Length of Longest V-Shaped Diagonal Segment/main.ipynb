{
  "cells": [
    {
      "cell_type": "code",
      "execution_count": 1,
      "metadata": {},
      "outputs": [],
      "source": [
        "from typing import List\n",
        "from functools import cache\n",
        "\n",
        "\n",
        "class Solution:\n",
        "  def lenOfVDiagonal(self, grid: List[List[int]]) -> int:\n",
        "\n",
        "    directions = [(1, 1), (1, -1), (-1, -1), (-1, 1)]\n",
        "    m, n = len(grid), len(grid[0])\n",
        "\n",
        "    @cache\n",
        "    def dfs(cx, cy, direction, turn, target):\n",
        "      nx, ny = cx + directions[direction][0], cy + directions[direction][1]\n",
        "      if nx < 0 or ny < 0 or nx >= m or ny >= n or grid[nx][ny] != target:\n",
        "        return 0\n",
        "      max_step = dfs(nx, ny, direction, turn, 2 - target)\n",
        "      if turn:\n",
        "        step = dfs(nx, ny, (direction + 1) % 4, False, 2 - target)\n",
        "        max_step = max(max_step, step)\n",
        "      return max_step + 1\n",
        "\n",
        "    res = 0\n",
        "    for i in range(m):\n",
        "      for j in range(n):\n",
        "        if grid[i][j] == 1:\n",
        "          for direction in range(4):\n",
        "            res = max(res, dfs(i, j, direction, True, 2) + 1)\n",
        "\n",
        "    return res"
      ]
    },
    {
      "cell_type": "code",
      "execution_count": 2,
      "metadata": {},
      "outputs": [
        {
          "data": {
            "text/plain": [
              "5"
            ]
          },
          "execution_count": 2,
          "metadata": {},
          "output_type": "execute_result"
        }
      ],
      "source": [
        "grid = [[2, 2, 1, 2, 2], [2, 0, 2, 2, 0], [2, 0, 1, 1, 0], [1, 0, 2, 2, 2], [2, 0, 0, 2, 2]]\n",
        "Solution().lenOfVDiagonal(grid=grid)"
      ]
    },
    {
      "cell_type": "code",
      "execution_count": 3,
      "metadata": {},
      "outputs": [
        {
          "data": {
            "text/plain": [
              "4"
            ]
          },
          "execution_count": 3,
          "metadata": {},
          "output_type": "execute_result"
        }
      ],
      "source": [
        "grid = [[2, 2, 2, 2, 2], [2, 0, 2, 2, 0], [2, 0, 1, 1, 0], [1, 0, 2, 2, 2], [2, 0, 0, 2, 2]]\n",
        "Solution().lenOfVDiagonal(grid=grid)"
      ]
    },
    {
      "cell_type": "code",
      "execution_count": 4,
      "metadata": {},
      "outputs": [
        {
          "data": {
            "text/plain": [
              "5"
            ]
          },
          "execution_count": 4,
          "metadata": {},
          "output_type": "execute_result"
        }
      ],
      "source": [
        "grid = [[1, 2, 2, 2, 2], [2, 2, 2, 2, 0], [2, 0, 0, 0, 0], [0, 0, 2, 2, 2], [2, 0, 0, 2, 0]]\n",
        "Solution().lenOfVDiagonal(grid=grid)"
      ]
    },
    {
      "cell_type": "code",
      "execution_count": 5,
      "metadata": {},
      "outputs": [
        {
          "data": {
            "text/plain": [
              "1"
            ]
          },
          "execution_count": 5,
          "metadata": {},
          "output_type": "execute_result"
        }
      ],
      "source": [
        "grid = [[1]]\n",
        "Solution().lenOfVDiagonal(grid=grid)"
      ]
    }
  ],
  "metadata": {
    "kernelspec": {
      "display_name": "Python 3",
      "language": "python",
      "name": "python3"
    },
    "language_info": {
      "codemirror_mode": {
        "name": "ipython",
        "version": 3
      },
      "file_extension": ".py",
      "mimetype": "text/x-python",
      "name": "python",
      "nbconvert_exporter": "python",
      "pygments_lexer": "ipython3",
      "version": "3.12.8"
    }
  },
  "nbformat": 4,
  "nbformat_minor": 2
}
