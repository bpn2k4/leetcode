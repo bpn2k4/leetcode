{
 "cells": [
  {
   "cell_type": "code",
   "execution_count": 1,
   "metadata": {},
   "outputs": [],
   "source": [
    "from typing import List\n",
    "\n",
    "\n",
    "class Solution:\n",
    "  def countSubIslands(self, grid1: List[List[int]], grid2: List[List[int]]) -> int:\n",
    "\n",
    "    num_of_rows = len(grid2)\n",
    "    num_of_cols = len(grid2[0])\n",
    "\n",
    "    def dfs(row, col):\n",
    "\n",
    "      is_sub_island = [True]\n",
    "\n",
    "      def _dfs(r, c):\n",
    "        grid2[r][c] = 0\n",
    "        if grid1[r][c] == 0:\n",
    "          is_sub_island[0] = False\n",
    "\n",
    "        x1, y1 = r, c - 1\n",
    "        x2, y2 = r, c + 1\n",
    "        x3, y3 = r - 1, c\n",
    "        x4, y4 = r + 1, c\n",
    "\n",
    "        if y1 >= 0 and grid2[x1][y1] == 1:\n",
    "          _dfs(x1, y1)\n",
    "        if y2 < num_of_cols and grid2[x2][y2] == 1:\n",
    "          _dfs(x2, y2)\n",
    "        if x3 >= 0 and grid2[x3][y3] == 1:\n",
    "          _dfs(x3, y3)\n",
    "        if x4 < num_of_rows and grid2[x4][y4] == 1:\n",
    "          _dfs(x4, y4)\n",
    "\n",
    "      _dfs(row, col)\n",
    "\n",
    "      return is_sub_island[0]\n",
    "\n",
    "    count = 0\n",
    "\n",
    "    for i in range(num_of_rows):\n",
    "      for j in range(num_of_cols):\n",
    "        if grid2[i][j] == 1:\n",
    "          if dfs(i, j):\n",
    "            count += 1\n",
    "\n",
    "    return count"
   ]
  },
  {
   "cell_type": "code",
   "execution_count": 2,
   "metadata": {},
   "outputs": [
    {
     "data": {
      "text/plain": [
       "3"
      ]
     },
     "execution_count": 2,
     "metadata": {},
     "output_type": "execute_result"
    }
   ],
   "source": [
    "Solution().countSubIslands(\n",
    "    grid1=[\n",
    "        [1, 1, 1, 0, 0],\n",
    "        [0, 1, 1, 1, 1],\n",
    "        [0, 0, 0, 0, 0],\n",
    "        [1, 0, 0, 0, 0],\n",
    "        [1, 1, 0, 1, 1]\n",
    "    ],\n",
    "    grid2=[\n",
    "        [1, 1, 1, 0, 0],\n",
    "        [0, 0, 1, 1, 1],\n",
    "        [0, 1, 0, 0, 0],\n",
    "        [1, 0, 1, 1, 0],\n",
    "        [0, 1, 0, 1, 0]\n",
    "    ]\n",
    ")"
   ]
  },
  {
   "cell_type": "code",
   "execution_count": 3,
   "metadata": {},
   "outputs": [
    {
     "data": {
      "text/plain": [
       "2"
      ]
     },
     "execution_count": 3,
     "metadata": {},
     "output_type": "execute_result"
    }
   ],
   "source": [
    "Solution().countSubIslands(\n",
    "    grid1=[\n",
    "        [1, 0, 1, 0, 1],\n",
    "        [1, 1, 1, 1, 1],\n",
    "        [0, 0, 0, 0, 0],\n",
    "        [1, 1, 1, 1, 1],\n",
    "        [1, 0, 1, 0, 1]\n",
    "    ],\n",
    "    grid2=[\n",
    "        [0, 0, 0, 0, 0],\n",
    "        [1, 1, 1, 1, 1],\n",
    "        [0, 1, 0, 1, 0],\n",
    "        [0, 1, 0, 1, 0],\n",
    "        [1, 0, 0, 0, 1]\n",
    "    ]\n",
    ")"
   ]
  }
 ],
 "metadata": {
  "kernelspec": {
   "display_name": "base",
   "language": "python",
   "name": "python3"
  },
  "language_info": {
   "codemirror_mode": {
    "name": "ipython",
    "version": 3
   },
   "file_extension": ".py",
   "mimetype": "text/x-python",
   "name": "python",
   "nbconvert_exporter": "python",
   "pygments_lexer": "ipython3",
   "version": "3.11.7"
  }
 },
 "nbformat": 4,
 "nbformat_minor": 2
}
