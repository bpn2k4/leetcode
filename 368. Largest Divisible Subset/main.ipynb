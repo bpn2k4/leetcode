{
  "cells": [
    {
      "cell_type": "code",
      "execution_count": 1,
      "metadata": {},
      "outputs": [],
      "source": [
        "from typing import List\n",
        "\n",
        "\n",
        "class Solution:\n",
        "  def largestDivisibleSubset(self, nums: List[int]) -> List[int]:\n",
        "\n",
        "    nums.sort()\n",
        "    n = len(nums)\n",
        "    dp = [1] * n\n",
        "    prev = [-1] * n\n",
        "\n",
        "    max_len = 1\n",
        "    max_index = 0\n",
        "    for i in range(n):\n",
        "      for j in range(i):\n",
        "        if nums[i] % nums[j] == 0:\n",
        "          if dp[j] + 1 > dp[i]:\n",
        "            dp[i] = dp[j] + 1\n",
        "            prev[i] = j\n",
        "      if dp[i] > max_len:\n",
        "        max_len = dp[i]\n",
        "        max_index = i\n",
        "\n",
        "    result = []\n",
        "    while max_index != -1:\n",
        "      result.append(nums[max_index])\n",
        "      max_index = prev[max_index]\n",
        "\n",
        "    return result[::-1]"
      ]
    },
    {
      "cell_type": "code",
      "execution_count": 2,
      "metadata": {},
      "outputs": [
        {
          "data": {
            "text/plain": [
              "[1, 2]"
            ]
          },
          "execution_count": 2,
          "metadata": {},
          "output_type": "execute_result"
        }
      ],
      "source": [
        "nums = [1, 2, 3]\n",
        "Solution().largestDivisibleSubset(nums=nums)"
      ]
    },
    {
      "cell_type": "code",
      "execution_count": 3,
      "metadata": {},
      "outputs": [
        {
          "data": {
            "text/plain": [
              "[1, 2, 4, 8]"
            ]
          },
          "execution_count": 3,
          "metadata": {},
          "output_type": "execute_result"
        }
      ],
      "source": [
        "nums = [1, 2, 4, 8]\n",
        "Solution().largestDivisibleSubset(nums=nums)"
      ]
    }
  ],
  "metadata": {
    "kernelspec": {
      "display_name": "Python 3",
      "language": "python",
      "name": "python3"
    },
    "language_info": {
      "codemirror_mode": {
        "name": "ipython",
        "version": 3
      },
      "file_extension": ".py",
      "mimetype": "text/x-python",
      "name": "python",
      "nbconvert_exporter": "python",
      "pygments_lexer": "ipython3",
      "version": "3.12.1"
    }
  },
  "nbformat": 4,
  "nbformat_minor": 2
}
