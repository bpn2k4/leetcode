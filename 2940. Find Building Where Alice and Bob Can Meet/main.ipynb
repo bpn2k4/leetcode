{
  "cells": [
    {
      "cell_type": "code",
      "execution_count": 1,
      "metadata": {},
      "outputs": [],
      "source": [
        "from typing import List\n",
        "\n",
        "\n",
        "class Solution:\n",
        "  def leftmostBuildingQueries(self, heights: List[int], queries: List[List[int]]) -> List[int]:\n",
        "\n",
        "    answers = [-1] * len(queries)\n",
        "    pending_queries = [[] for _ in range(len(heights))]\n",
        "    stack = []\n",
        "\n",
        "    for idx, (a, b) in enumerate(queries):\n",
        "      if a > b:\n",
        "        a, b = b, a\n",
        "      if heights[b] > heights[a] or a == b:\n",
        "        answers[idx] = b\n",
        "      else:\n",
        "        pending_queries[b].append((heights[a], idx))\n",
        "\n",
        "    for i in range(len(heights) - 1, -1, -1):\n",
        "      for height_a, query_idx in pending_queries[i]:\n",
        "        position = self.binary_search(height_a, stack)\n",
        "        if position != -1:\n",
        "          answers[query_idx] = stack[position][1]\n",
        "\n",
        "      while stack and stack[-1][0] <= heights[i]:\n",
        "        stack.pop()\n",
        "      stack.append((heights[i], i))\n",
        "\n",
        "    return answers\n",
        "\n",
        "  def binary_search(self, height: int, stack: List[tuple]) -> int:\n",
        "    \n",
        "    left, right = 0, len(stack) - 1\n",
        "    best_position = -1\n",
        "    while left <= right:\n",
        "      mid = (left + right) // 2\n",
        "      if stack[mid][0] > height:\n",
        "        best_position = mid\n",
        "        left = mid + 1\n",
        "      else:\n",
        "        right = mid - 1\n",
        "\n",
        "    return best_position"
      ]
    },
    {
      "cell_type": "code",
      "execution_count": 2,
      "metadata": {},
      "outputs": [
        {
          "data": {
            "text/plain": [
              "[2, 5, -1, 5, 2]"
            ]
          },
          "execution_count": 2,
          "metadata": {},
          "output_type": "execute_result"
        }
      ],
      "source": [
        "heights = [6, 5, 8, 5, 2, 7]\n",
        "queries = [[0, 1], [0, 3], [2, 4], [3, 4], [2, 2]]\n",
        "Solution().leftmostBuildingQueries(heights=heights, queries=queries)"
      ]
    },
    {
      "cell_type": "code",
      "execution_count": 3,
      "metadata": {},
      "outputs": [
        {
          "data": {
            "text/plain": [
              "[7, 6, -1, 4, 6]"
            ]
          },
          "execution_count": 3,
          "metadata": {},
          "output_type": "execute_result"
        }
      ],
      "source": [
        "heights = [5, 3, 8, 2, 6, 1, 4, 6]\n",
        "queries = [[0, 7], [3, 5], [5, 2], [3, 0], [1, 6]]\n",
        "Solution().leftmostBuildingQueries(heights=heights, queries=queries)"
      ]
    }
  ],
  "metadata": {
    "kernelspec": {
      "display_name": "base",
      "language": "python",
      "name": "python3"
    },
    "language_info": {
      "codemirror_mode": {
        "name": "ipython",
        "version": 3
      },
      "file_extension": ".py",
      "mimetype": "text/x-python",
      "name": "python",
      "nbconvert_exporter": "python",
      "pygments_lexer": "ipython3",
      "version": "3.11.7"
    }
  },
  "nbformat": 4,
  "nbformat_minor": 2
}
