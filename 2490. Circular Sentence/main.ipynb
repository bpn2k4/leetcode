{
 "cells": [
  {
   "cell_type": "code",
   "execution_count": 1,
   "metadata": {},
   "outputs": [],
   "source": [
    "class Solution:\n",
    "  def isCircularSentence(self, sentence: str) -> bool:\n",
    "    \n",
    "    if sentence[0] != sentence[-1]:\n",
    "      return False\n",
    "    \n",
    "    last_char = None\n",
    "    is_start_of_word = False\n",
    "\n",
    "    for char in sentence:\n",
    "      if char == ' ':\n",
    "        is_start_of_word = True\n",
    "        continue\n",
    "\n",
    "      if is_start_of_word:\n",
    "        if last_char != char:\n",
    "          return False\n",
    "        is_start_of_word = False\n",
    "      \n",
    "      last_char = char\n",
    "\n",
    "    return True"
   ]
  },
  {
   "cell_type": "code",
   "execution_count": 2,
   "metadata": {},
   "outputs": [
    {
     "data": {
      "text/plain": [
       "True"
      ]
     },
     "execution_count": 2,
     "metadata": {},
     "output_type": "execute_result"
    }
   ],
   "source": [
    "sentence = \"leetcode exercises sound delightful\"\n",
    "Solution().isCircularSentence(sentence=sentence)"
   ]
  },
  {
   "cell_type": "code",
   "execution_count": 3,
   "metadata": {},
   "outputs": [
    {
     "data": {
      "text/plain": [
       "True"
      ]
     },
     "execution_count": 3,
     "metadata": {},
     "output_type": "execute_result"
    }
   ],
   "source": [
    "sentence = \"eetcode\"\n",
    "Solution().isCircularSentence(sentence=sentence)"
   ]
  },
  {
   "cell_type": "code",
   "execution_count": 4,
   "metadata": {},
   "outputs": [
    {
     "data": {
      "text/plain": [
       "False"
      ]
     },
     "execution_count": 4,
     "metadata": {},
     "output_type": "execute_result"
    }
   ],
   "source": [
    "sentence = \"Leetcode is cool\"\n",
    "Solution().isCircularSentence(sentence=sentence)"
   ]
  }
 ],
 "metadata": {
  "kernelspec": {
   "display_name": "base",
   "language": "python",
   "name": "python3"
  },
  "language_info": {
   "codemirror_mode": {
    "name": "ipython",
    "version": 3
   },
   "file_extension": ".py",
   "mimetype": "text/x-python",
   "name": "python",
   "nbconvert_exporter": "python",
   "pygments_lexer": "ipython3",
   "version": "3.11.7"
  }
 },
 "nbformat": 4,
 "nbformat_minor": 2
}
