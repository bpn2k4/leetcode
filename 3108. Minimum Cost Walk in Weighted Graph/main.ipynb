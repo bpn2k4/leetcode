{
  "cells": [
    {
      "cell_type": "code",
      "execution_count": 1,
      "metadata": {},
      "outputs": [],
      "source": [
        "from typing import List\n",
        "from collections import deque, defaultdict\n",
        "\n",
        "\n",
        "class UnionFind:\n",
        "  def __init__(self, n):\n",
        "    self.parent = list(range(n))\n",
        "    self.rank = [0] * n\n",
        "    self.component_cost = [-1] * n\n",
        "\n",
        "  def find(self, u):\n",
        "    if self.parent[u] != u:\n",
        "      self.parent[u] = self.find(self.parent[u])\n",
        "    return self.parent[u]\n",
        "\n",
        "  def union(self, u, v, weight):\n",
        "    root_u = self.find(u)\n",
        "    root_v = self.find(v)\n",
        "\n",
        "    if root_u != root_v:\n",
        "      if self.rank[root_u] > self.rank[root_v]:\n",
        "        self.parent[root_v] = root_u\n",
        "        self.component_cost[root_u] &= self.component_cost[root_v] & weight\n",
        "      elif self.rank[root_u] < self.rank[root_v]:\n",
        "        self.parent[root_u] = root_v\n",
        "        self.component_cost[root_v] &= self.component_cost[root_u] & weight\n",
        "      else:\n",
        "        self.parent[root_v] = root_u\n",
        "        self.rank[root_u] += 1\n",
        "        self.component_cost[root_u] &= self.component_cost[root_v] & weight\n",
        "\n",
        "  def set_component_cost(self, u, cost):\n",
        "    root = self.find(u)\n",
        "    self.component_cost[root] &= cost\n",
        "\n",
        "  def get_component_cost(self, u):\n",
        "    root = self.find(u)\n",
        "    return self.component_cost[root]\n",
        "\n",
        "\n",
        "class Solution:\n",
        "  def minimumCost(self, n: int, edges: List[List[int]], query: List[List[int]]) -> List[int]:\n",
        "\n",
        "    uf = UnionFind(n)\n",
        "    graph = defaultdict(list)\n",
        "    for u, v, w in edges:\n",
        "      graph[u].append((v, w))\n",
        "      graph[v].append((u, w))\n",
        "\n",
        "    visited = [False] * n\n",
        "    for node in range(n):\n",
        "      if not visited[node]:\n",
        "        self.compute_component_cost(node, graph, uf, visited)\n",
        "\n",
        "    result = []\n",
        "    for s, t in query:\n",
        "      if uf.find(s) == uf.find(t):\n",
        "        result.append(uf.get_component_cost(s))\n",
        "      else:\n",
        "        result.append(-1)\n",
        "\n",
        "    return result\n",
        "\n",
        "  def compute_component_cost(self, start, graph, uf, visited):\n",
        "    queue = deque([(start, -1)])\n",
        "    visited[start] = True\n",
        "    uf.set_component_cost(start, -1)\n",
        "\n",
        "    while queue:\n",
        "      node, cost = queue.popleft()\n",
        "      root = uf.find(start)\n",
        "\n",
        "      for neighbor, weight in graph[node]:\n",
        "        new_cost = cost & weight if cost != -1 else weight\n",
        "        uf.set_component_cost(root, new_cost)\n",
        "\n",
        "        if not visited[neighbor]:\n",
        "          visited[neighbor] = True\n",
        "          uf.union(start, neighbor, new_cost)\n",
        "          queue.append((neighbor, new_cost))"
      ]
    },
    {
      "cell_type": "code",
      "execution_count": 2,
      "metadata": {},
      "outputs": [
        {
          "data": {
            "text/plain": [
              "[1, -1]"
            ]
          },
          "execution_count": 2,
          "metadata": {},
          "output_type": "execute_result"
        }
      ],
      "source": [
        "n = 5\n",
        "edges = [[0, 1, 7], [1, 3, 7], [1, 2, 1]]\n",
        "query = [[0, 3], [3, 4]]\n",
        "Solution().minimumCost(n=n, edges=edges, query=query)"
      ]
    },
    {
      "cell_type": "code",
      "execution_count": 3,
      "metadata": {},
      "outputs": [
        {
          "data": {
            "text/plain": [
              "[0]"
            ]
          },
          "execution_count": 3,
          "metadata": {},
          "output_type": "execute_result"
        }
      ],
      "source": [
        "n = 3\n",
        "edges = [[0, 2, 7], [0, 1, 15], [1, 2, 6], [1, 2, 1]]\n",
        "query = [[1, 2]]\n",
        "Solution().minimumCost(n=n, edges=edges, query=query)"
      ]
    }
  ],
  "metadata": {
    "kernelspec": {
      "display_name": "Python 3",
      "language": "python",
      "name": "python3"
    },
    "language_info": {
      "codemirror_mode": {
        "name": "ipython",
        "version": 3
      },
      "file_extension": ".py",
      "mimetype": "text/x-python",
      "name": "python",
      "nbconvert_exporter": "python",
      "pygments_lexer": "ipython3",
      "version": "3.12.1"
    }
  },
  "nbformat": 4,
  "nbformat_minor": 2
}
