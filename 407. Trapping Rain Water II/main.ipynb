{
  "cells": [
    {
      "cell_type": "code",
      "execution_count": null,
      "metadata": {},
      "outputs": [],
      "source": [
        "from typing import List\n",
        "import heapq\n",
        "\n",
        "\n",
        "class Solution:\n",
        "  def trapRainWater(self, heightMap: List[List[int]]) -> int:\n",
        "\n",
        "    if not heightMap or not heightMap[0]:\n",
        "      return 0\n",
        "\n",
        "    m, n = len(heightMap), len(heightMap[0])\n",
        "    visited = [[False] * n for _ in range(m)]\n",
        "    heap = []\n",
        "\n",
        "    for i in range(m):\n",
        "      for j in [0, n - 1]:\n",
        "        heapq.heappush(heap, (heightMap[i][j], i, j))\n",
        "        visited[i][j] = True\n",
        "    for j in range(1, n - 1):\n",
        "      for i in [0, m - 1]:\n",
        "        heapq.heappush(heap, (heightMap[i][j], i, j))\n",
        "        visited[i][j] = True\n",
        "\n",
        "    water_trapped = 0\n",
        "    directions = [(0, 1), (1, 0), (0, -1), (-1, 0)]\n",
        "\n",
        "    while heap:\n",
        "      height, x, y = heapq.heappop(heap)\n",
        "\n",
        "      for dx, dy in directions:\n",
        "        nx, ny = x + dx, y + dy\n",
        "\n",
        "        if 0 <= nx < m and 0 <= ny < n and not visited[nx][ny]:\n",
        "          visited[nx][ny] = True\n",
        "          water_trapped += max(0, height - heightMap[nx][ny])\n",
        "          heapq.heappush(heap, (max(height, heightMap[nx][ny]), nx, ny))\n",
        "\n",
        "    return water_trapped"
      ]
    },
    {
      "cell_type": "code",
      "execution_count": 2,
      "metadata": {},
      "outputs": [
        {
          "data": {
            "text/plain": [
              "4"
            ]
          },
          "execution_count": 2,
          "metadata": {},
          "output_type": "execute_result"
        }
      ],
      "source": [
        "heightMap = [[1, 4, 3, 1, 3, 2], [3, 2, 1, 3, 2, 4], [2, 3, 3, 2, 3, 1]]\n",
        "Solution().trapRainWater(heightMap=heightMap)"
      ]
    },
    {
      "cell_type": "code",
      "execution_count": 3,
      "metadata": {},
      "outputs": [
        {
          "data": {
            "text/plain": [
              "10"
            ]
          },
          "execution_count": 3,
          "metadata": {},
          "output_type": "execute_result"
        }
      ],
      "source": [
        "heightMap = [[3, 3, 3, 3, 3], [3, 2, 2, 2, 3], [3, 2, 1, 2, 3], [3, 2, 2, 2, 3], [3, 3, 3, 3, 3]]\n",
        "Solution().trapRainWater(heightMap=heightMap)"
      ]
    }
  ],
  "metadata": {
    "kernelspec": {
      "display_name": "base",
      "language": "python",
      "name": "python3"
    },
    "language_info": {
      "codemirror_mode": {
        "name": "ipython",
        "version": 3
      },
      "file_extension": ".py",
      "mimetype": "text/x-python",
      "name": "python",
      "nbconvert_exporter": "python",
      "pygments_lexer": "ipython3",
      "version": "3.11.7"
    }
  },
  "nbformat": 4,
  "nbformat_minor": 2
}
