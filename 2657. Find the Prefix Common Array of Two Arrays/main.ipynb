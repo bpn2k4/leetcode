{
  "cells": [
    {
      "cell_type": "code",
      "execution_count": 1,
      "metadata": {},
      "outputs": [],
      "source": [
        "from typing import List\n",
        "\n",
        "\n",
        "class Solution:\n",
        "  def findThePrefixCommonArray(self, A: List[int], B: List[int]) -> List[int]:\n",
        "    \n",
        "    n = len(A)\n",
        "    mark_a = {}\n",
        "    mark_b = {}\n",
        "    output = [0] * n\n",
        "    for i in range(n):\n",
        "      output[i] = output[i - 1]\n",
        "      if A[i] == B[i]:\n",
        "        output[i] += 1\n",
        "      else:\n",
        "        if A[i] in mark_b:\n",
        "          output[i] += 1\n",
        "        if B[i] in mark_a:\n",
        "          output[i] += 1\n",
        "        mark_a[A[i]] = 1\n",
        "        mark_b[B[i]] = 1\n",
        "      \n",
        "    return output"
      ]
    },
    {
      "cell_type": "code",
      "execution_count": 2,
      "metadata": {},
      "outputs": [
        {
          "data": {
            "text/plain": [
              "[0, 2, 3, 4]"
            ]
          },
          "execution_count": 2,
          "metadata": {},
          "output_type": "execute_result"
        }
      ],
      "source": [
        "A = [1, 3, 2, 4]\n",
        "B = [3, 1, 2, 4]\n",
        "Solution().findThePrefixCommonArray(A=A, B=B)"
      ]
    },
    {
      "cell_type": "code",
      "execution_count": 3,
      "metadata": {},
      "outputs": [
        {
          "data": {
            "text/plain": [
              "[0, 1, 3]"
            ]
          },
          "execution_count": 3,
          "metadata": {},
          "output_type": "execute_result"
        }
      ],
      "source": [
        "A = [2, 3, 1]\n",
        "B = [3, 1, 2]\n",
        "Solution().findThePrefixCommonArray(A=A, B=B)"
      ]
    }
  ],
  "metadata": {
    "kernelspec": {
      "display_name": "base",
      "language": "python",
      "name": "python3"
    },
    "language_info": {
      "codemirror_mode": {
        "name": "ipython",
        "version": 3
      },
      "file_extension": ".py",
      "mimetype": "text/x-python",
      "name": "python",
      "nbconvert_exporter": "python",
      "pygments_lexer": "ipython3",
      "version": "3.11.7"
    }
  },
  "nbformat": 4,
  "nbformat_minor": 2
}
