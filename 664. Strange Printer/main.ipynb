{
 "cells": [
  {
   "cell_type": "code",
   "execution_count": 1,
   "metadata": {},
   "outputs": [],
   "source": [
    "class Solution:\n",
    "  def strangePrinter(self, s: str) -> int:\n",
    "    n = len(s)\n",
    "    dp = [[0] * n for _ in range(n)]\n",
    "\n",
    "    for i in range(n):\n",
    "      dp[i][i] = 1\n",
    "\n",
    "    for length in range(2, n+1):\n",
    "      for i in range(n-length+1):\n",
    "        j = i + length - 1\n",
    "        dp[i][j] = dp[i][j-1] + 1\n",
    "        for k in range(i, j):\n",
    "          if s[k] == s[j]:\n",
    "            dp[i][j] = min(dp[i][j], dp[i][k] + dp[k+1][j-1])\n",
    "\n",
    "    return dp[0][n-1]"
   ]
  },
  {
   "cell_type": "code",
   "execution_count": 2,
   "metadata": {},
   "outputs": [
    {
     "data": {
      "text/plain": [
       "2"
      ]
     },
     "execution_count": 2,
     "metadata": {},
     "output_type": "execute_result"
    }
   ],
   "source": [
    "Solution().strangePrinter(s=\"aaabbb\")"
   ]
  },
  {
   "cell_type": "code",
   "execution_count": 3,
   "metadata": {},
   "outputs": [
    {
     "data": {
      "text/plain": [
       "2"
      ]
     },
     "execution_count": 3,
     "metadata": {},
     "output_type": "execute_result"
    }
   ],
   "source": [
    "Solution().strangePrinter(s=\"aba\")"
   ]
  }
 ],
 "metadata": {
  "kernelspec": {
   "display_name": "base",
   "language": "python",
   "name": "python3"
  },
  "language_info": {
   "codemirror_mode": {
    "name": "ipython",
    "version": 3
   },
   "file_extension": ".py",
   "mimetype": "text/x-python",
   "name": "python",
   "nbconvert_exporter": "python",
   "pygments_lexer": "ipython3",
   "version": "3.11.7"
  }
 },
 "nbformat": 4,
 "nbformat_minor": 2
}
