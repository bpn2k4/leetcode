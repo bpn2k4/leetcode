{
  "cells": [
    {
      "cell_type": "code",
      "execution_count": 1,
      "metadata": {},
      "outputs": [],
      "source": [
        "from typing import List\n",
        "\n",
        "\n",
        "class Solution:\n",
        "  def quickmul(self, x: int, y: int, mod: int) -> int:\n",
        "    res, cur = 1, x % mod\n",
        "    while y:\n",
        "      if y & 1:\n",
        "        res = res * cur % mod\n",
        "      y >>= 1\n",
        "      cur = cur * cur % mod\n",
        "    return res\n",
        "\n",
        "  def magicalSum(self, m: int, k: int, nums: List[int]) -> int:\n",
        "    n = len(nums)\n",
        "    mod = 10**9 + 7\n",
        "\n",
        "    fac = [1] * (m + 1)\n",
        "    for i in range(1, m + 1):\n",
        "      fac[i] = fac[i - 1] * i % mod\n",
        "\n",
        "    ifac = [1] * (m + 1)\n",
        "    for i in range(2, m + 1):\n",
        "      ifac[i] = self.quickmul(i, mod - 2, mod)\n",
        "    for i in range(2, m + 1):\n",
        "      ifac[i] = ifac[i - 1] * ifac[i] % mod\n",
        "\n",
        "    numsPower = [[1] * (m + 1) for _ in range(n)]\n",
        "    for i in range(n):\n",
        "      for j in range(1, m + 1):\n",
        "        numsPower[i][j] = numsPower[i][j - 1] * nums[i] % mod\n",
        "\n",
        "    f = [\n",
        "        [[[0] * (k + 1) for _ in range(m * 2 + 1)] for _ in range(m + 1)]\n",
        "        for _ in range(n)\n",
        "    ]\n",
        "\n",
        "    for j in range(m + 1):\n",
        "      f[0][j][j][0] = numsPower[0][j] * ifac[j] % mod\n",
        "\n",
        "    for i in range(n - 1):\n",
        "      for j in range(m + 1):\n",
        "        for p in range(m * 2 + 1):\n",
        "          for q in range(k + 1):\n",
        "            if f[i][j][p][q] == 0:\n",
        "              continue\n",
        "            q2 = (p % 2) + q\n",
        "            if q2 > k:\n",
        "              break\n",
        "            for r in range(m - j + 1):\n",
        "              p2 = (p // 2) + r\n",
        "              if p2 > m * 2:\n",
        "                continue\n",
        "              f[i + 1][j + r][p2][q2] = (\n",
        "                  f[i + 1][j + r][p2][q2]\n",
        "                  + f[i][j][p][q]\n",
        "                  * numsPower[i + 1][r]\n",
        "                  % mod\n",
        "                  * ifac[r]\n",
        "                  % mod\n",
        "              ) % mod\n",
        "\n",
        "    res = 0\n",
        "    for p in range(m * 2 + 1):\n",
        "      for q in range(k + 1):\n",
        "        if bin(p).count(\"1\") + q == k:\n",
        "          res = (res + f[n - 1][m][p][q] * fac[m] % mod) % mod\n",
        "    return res"
      ]
    },
    {
      "cell_type": "code",
      "execution_count": 2,
      "metadata": {},
      "outputs": [
        {
          "data": {
            "text/plain": [
              "991600007"
            ]
          },
          "execution_count": 2,
          "metadata": {},
          "output_type": "execute_result"
        }
      ],
      "source": [
        "m = 5\n",
        "k = 5\n",
        "nums = [1, 10, 100, 10000, 1000000]\n",
        "Solution().magicalSum(m=m, k=k, nums=nums)"
      ]
    },
    {
      "cell_type": "code",
      "execution_count": 3,
      "metadata": {},
      "outputs": [
        {
          "data": {
            "text/plain": [
              "170"
            ]
          },
          "execution_count": 3,
          "metadata": {},
          "output_type": "execute_result"
        }
      ],
      "source": [
        "m = 2\n",
        "k = 2\n",
        "nums = [5, 4, 3, 2, 1]\n",
        "Solution().magicalSum(m=m, k=k, nums=nums)"
      ]
    },
    {
      "cell_type": "code",
      "execution_count": 4,
      "metadata": {},
      "outputs": [
        {
          "data": {
            "text/plain": [
              "28"
            ]
          },
          "execution_count": 4,
          "metadata": {},
          "output_type": "execute_result"
        }
      ],
      "source": [
        "m = 1\n",
        "k = 1\n",
        "nums = [28]\n",
        "Solution().magicalSum(m=m, k=k, nums=nums)"
      ]
    }
  ],
  "metadata": {
    "kernelspec": {
      "display_name": "Python 3",
      "language": "python",
      "name": "python3"
    },
    "language_info": {
      "codemirror_mode": {
        "name": "ipython",
        "version": 3
      },
      "file_extension": ".py",
      "mimetype": "text/x-python",
      "name": "python",
      "nbconvert_exporter": "python",
      "pygments_lexer": "ipython3",
      "version": "3.12.8"
    }
  },
  "nbformat": 4,
  "nbformat_minor": 2
}
