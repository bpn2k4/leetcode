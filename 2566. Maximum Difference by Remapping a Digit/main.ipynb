{
  "cells": [
    {
      "cell_type": "code",
      "execution_count": 1,
      "metadata": {},
      "outputs": [],
      "source": [
        "class Solution:\n",
        "  def minMaxDifference(self, num: int) -> int:\n",
        "    \n",
        "    nums = str(num)\n",
        "    n = len(nums)\n",
        "    i = 0\n",
        "    while i < n - 1 and nums[i] == '9':\n",
        "      i += 1\n",
        "    \n",
        "    max_num = int(nums.replace(nums[i], '9'))\n",
        "    min_num = int(nums.replace(nums[0], '0'))\n",
        "    \n",
        "    return max_num - min_num"
      ]
    },
    {
      "cell_type": "code",
      "execution_count": 2,
      "metadata": {},
      "outputs": [
        {
          "data": {
            "text/plain": [
              "99009"
            ]
          },
          "execution_count": 2,
          "metadata": {},
          "output_type": "execute_result"
        }
      ],
      "source": [
        "num = 11891\n",
        "Solution().minMaxDifference(num=num)"
      ]
    },
    {
      "cell_type": "code",
      "execution_count": 3,
      "metadata": {},
      "outputs": [
        {
          "data": {
            "text/plain": [
              "99"
            ]
          },
          "execution_count": 3,
          "metadata": {},
          "output_type": "execute_result"
        }
      ],
      "source": [
        "num = 90\n",
        "Solution().minMaxDifference(num=num)"
      ]
    }
  ],
  "metadata": {
    "kernelspec": {
      "display_name": "Python 3",
      "language": "python",
      "name": "python3"
    },
    "language_info": {
      "codemirror_mode": {
        "name": "ipython",
        "version": 3
      },
      "file_extension": ".py",
      "mimetype": "text/x-python",
      "name": "python",
      "nbconvert_exporter": "python",
      "pygments_lexer": "ipython3",
      "version": "3.12.8"
    }
  },
  "nbformat": 4,
  "nbformat_minor": 2
}
