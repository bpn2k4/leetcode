{
  "cells": [
    {
      "cell_type": "code",
      "execution_count": 1,
      "metadata": {},
      "outputs": [],
      "source": [
        "from typing import List\n",
        "\n",
        "\n",
        "class Solution:\n",
        "  def numEquivDominoPairs(self, dominoes: List[List[int]]) -> int:\n",
        "    \n",
        "    count = 0\n",
        "    mark = {}\n",
        "    for i, j in dominoes:\n",
        "      if i > j:\n",
        "        i, j = j, i\n",
        "      mark[i, j] = mark.get((i, j), 0) + 1\n",
        "    \n",
        "    for v in mark.values():\n",
        "      count += v * (v - 1) // 2\n",
        "    \n",
        "    return count"
      ]
    },
    {
      "cell_type": "code",
      "execution_count": 2,
      "metadata": {},
      "outputs": [
        {
          "data": {
            "text/plain": [
              "1"
            ]
          },
          "execution_count": 2,
          "metadata": {},
          "output_type": "execute_result"
        }
      ],
      "source": [
        "dominoes = [[1, 2], [2, 1], [3, 4], [5, 6]]\n",
        "Solution().numEquivDominoPairs(dominoes=dominoes)"
      ]
    },
    {
      "cell_type": "code",
      "execution_count": 3,
      "metadata": {},
      "outputs": [
        {
          "data": {
            "text/plain": [
              "3"
            ]
          },
          "execution_count": 3,
          "metadata": {},
          "output_type": "execute_result"
        }
      ],
      "source": [
        "dominoes = [[1, 2], [1, 2], [1, 1], [1, 2], [2, 2]]\n",
        "Solution().numEquivDominoPairs(dominoes=dominoes)"
      ]
    }
  ],
  "metadata": {
    "kernelspec": {
      "display_name": "Python 3",
      "language": "python",
      "name": "python3"
    },
    "language_info": {
      "codemirror_mode": {
        "name": "ipython",
        "version": 3
      },
      "file_extension": ".py",
      "mimetype": "text/x-python",
      "name": "python",
      "nbconvert_exporter": "python",
      "pygments_lexer": "ipython3",
      "version": "3.12.8"
    }
  },
  "nbformat": 4,
  "nbformat_minor": 2
}
