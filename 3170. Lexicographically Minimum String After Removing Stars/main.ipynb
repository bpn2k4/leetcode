{
  "cells": [
    {
      "cell_type": "code",
      "execution_count": 1,
      "metadata": {},
      "outputs": [],
      "source": [
        "class Solution:\n",
        "  def clearStars(self, s: str) -> str:\n",
        "\n",
        "    cnt = [[] for _ in range(26)]\n",
        "    arr = list(s)\n",
        "    for i, c in enumerate(arr):\n",
        "      if c != \"*\":\n",
        "        cnt[ord(c) - ord(\"a\")].append(i)\n",
        "      else:\n",
        "        for j in range(26):\n",
        "          if cnt[j]:\n",
        "            arr[cnt[j].pop()] = \"*\"\n",
        "            break\n",
        "          \n",
        "    return \"\".join(c for c in arr if c != \"*\")"
      ]
    },
    {
      "cell_type": "code",
      "execution_count": 2,
      "metadata": {},
      "outputs": [
        {
          "data": {
            "text/plain": [
              "'aab'"
            ]
          },
          "execution_count": 2,
          "metadata": {},
          "output_type": "execute_result"
        }
      ],
      "source": [
        "s = \"aaba*\"\n",
        "Solution().clearStars(s=s)"
      ]
    },
    {
      "cell_type": "code",
      "execution_count": 3,
      "metadata": {},
      "outputs": [
        {
          "data": {
            "text/plain": [
              "'abc'"
            ]
          },
          "execution_count": 3,
          "metadata": {},
          "output_type": "execute_result"
        }
      ],
      "source": [
        "s = \"abc\"\n",
        "Solution().clearStars(s=s)"
      ]
    }
  ],
  "metadata": {
    "kernelspec": {
      "display_name": "Python 3",
      "language": "python",
      "name": "python3"
    },
    "language_info": {
      "codemirror_mode": {
        "name": "ipython",
        "version": 3
      },
      "file_extension": ".py",
      "mimetype": "text/x-python",
      "name": "python",
      "nbconvert_exporter": "python",
      "pygments_lexer": "ipython3",
      "version": "3.12.1"
    }
  },
  "nbformat": 4,
  "nbformat_minor": 2
}
