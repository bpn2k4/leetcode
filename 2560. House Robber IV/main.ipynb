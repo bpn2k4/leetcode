{
  "cells": [
    {
      "cell_type": "code",
      "execution_count": 1,
      "metadata": {},
      "outputs": [],
      "source": [
        "from typing import List\n",
        "\n",
        "\n",
        "class Solution:\n",
        "  def minCapability(self, nums: List[int], k: int) -> int:\n",
        "    \n",
        "    n = len(nums)\n",
        "    left, right = 0, 10 ** 9\n",
        "    \n",
        "    while left < right:\n",
        "      mid = (left + right) // 2\n",
        "      count = 0\n",
        "      index = 0\n",
        "      while index < n:\n",
        "        if nums[index] <= mid:\n",
        "          count += 1\n",
        "          index += 2\n",
        "        else:\n",
        "          index += 1\n",
        "      \n",
        "      if count >= k:\n",
        "        right = mid\n",
        "      else:\n",
        "        left = mid + 1 \n",
        "\n",
        "    return left"
      ]
    },
    {
      "cell_type": "code",
      "execution_count": 2,
      "metadata": {},
      "outputs": [
        {
          "data": {
            "text/plain": [
              "5"
            ]
          },
          "execution_count": 2,
          "metadata": {},
          "output_type": "execute_result"
        }
      ],
      "source": [
        "nums = [2, 3, 5, 9]\n",
        "k = 2\n",
        "Solution().minCapability(nums=nums, k=k)"
      ]
    },
    {
      "cell_type": "code",
      "execution_count": 3,
      "metadata": {},
      "outputs": [
        {
          "data": {
            "text/plain": [
              "2"
            ]
          },
          "execution_count": 3,
          "metadata": {},
          "output_type": "execute_result"
        }
      ],
      "source": [
        "nums = [2, 7, 9, 3, 1]\n",
        "k = 2\n",
        "Solution().minCapability(nums=nums, k=k)"
      ]
    }
  ],
  "metadata": {
    "kernelspec": {
      "display_name": "Python 3",
      "language": "python",
      "name": "python3"
    },
    "language_info": {
      "codemirror_mode": {
        "name": "ipython",
        "version": 3
      },
      "file_extension": ".py",
      "mimetype": "text/x-python",
      "name": "python",
      "nbconvert_exporter": "python",
      "pygments_lexer": "ipython3",
      "version": "3.12.1"
    }
  },
  "nbformat": 4,
  "nbformat_minor": 2
}
