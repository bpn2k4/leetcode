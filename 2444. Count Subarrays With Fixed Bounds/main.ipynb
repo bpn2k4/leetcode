{
  "cells": [
    {
      "cell_type": "code",
      "execution_count": 1,
      "metadata": {},
      "outputs": [],
      "source": [
        "from typing import List\n",
        "\n",
        "\n",
        "class Solution:\n",
        "  def countSubarrays(self, nums: List[int], minK: int, maxK: int) -> int:\n",
        "\n",
        "    answer = 0\n",
        "    min_position = max_position = bad_position = -1\n",
        "    for i, num in enumerate(nums):\n",
        "      if num < minK or num > maxK:\n",
        "        bad_position = i\n",
        "      if num == minK:\n",
        "        min_position = i\n",
        "      if num == maxK:\n",
        "        max_position = i\n",
        "      answer += max(0, min(min_position, max_position) - bad_position)\n",
        "\n",
        "    return answer"
      ]
    },
    {
      "cell_type": "code",
      "execution_count": 2,
      "metadata": {},
      "outputs": [
        {
          "data": {
            "text/plain": [
              "2"
            ]
          },
          "execution_count": 2,
          "metadata": {},
          "output_type": "execute_result"
        }
      ],
      "source": [
        "nums = [1, 3, 5, 2, 7, 5]\n",
        "minK = 1\n",
        "maxK = 5\n",
        "Solution().countSubarrays(nums=nums, minK=minK, maxK=maxK)"
      ]
    },
    {
      "cell_type": "code",
      "execution_count": 3,
      "metadata": {},
      "outputs": [
        {
          "data": {
            "text/plain": [
              "10"
            ]
          },
          "execution_count": 3,
          "metadata": {},
          "output_type": "execute_result"
        }
      ],
      "source": [
        "nums = [1, 1, 1, 1]\n",
        "minK = 1\n",
        "maxK = 1\n",
        "Solution().countSubarrays(nums=nums, minK=minK, maxK=maxK)"
      ]
    }
  ],
  "metadata": {
    "kernelspec": {
      "display_name": "Python 3",
      "language": "python",
      "name": "python3"
    },
    "language_info": {
      "codemirror_mode": {
        "name": "ipython",
        "version": 3
      },
      "file_extension": ".py",
      "mimetype": "text/x-python",
      "name": "python",
      "nbconvert_exporter": "python",
      "pygments_lexer": "ipython3",
      "version": "3.12.8"
    }
  },
  "nbformat": 4,
  "nbformat_minor": 2
}
