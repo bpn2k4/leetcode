{
  "cells": [
    {
      "cell_type": "code",
      "execution_count": 1,
      "metadata": {},
      "outputs": [],
      "source": [
        "class Solution:\n",
        "  def isSubsequence(self, s: str, t: str) -> bool:\n",
        "\n",
        "    if s == \"\":\n",
        "      return True\n",
        "    \n",
        "    s_length, t_length = len(s), len(t)\n",
        "    i, j = 0, 0\n",
        "    while i < s_length and j < t_length:\n",
        "      if s[i] == t[j]:\n",
        "        i += 1\n",
        "      j += 1\n",
        "    if i == s_length:\n",
        "      return True\n",
        "\n",
        "    return False"
      ]
    },
    {
      "cell_type": "code",
      "execution_count": 2,
      "metadata": {},
      "outputs": [
        {
          "data": {
            "text/plain": [
              "True"
            ]
          },
          "execution_count": 2,
          "metadata": {},
          "output_type": "execute_result"
        }
      ],
      "source": [
        "s = \"abc\"\n",
        "t = \"ahbgdc\"\n",
        "Solution().isSubsequence(s=s, t=t)"
      ]
    },
    {
      "cell_type": "code",
      "execution_count": 3,
      "metadata": {},
      "outputs": [
        {
          "data": {
            "text/plain": [
              "False"
            ]
          },
          "execution_count": 3,
          "metadata": {},
          "output_type": "execute_result"
        }
      ],
      "source": [
        "s = \"axc\"\n",
        "t = \"ahbgdc\"\n",
        "Solution().isSubsequence(s=s, t=t)"
      ]
    }
  ],
  "metadata": {
    "kernelspec": {
      "display_name": "base",
      "language": "python",
      "name": "python3"
    },
    "language_info": {
      "codemirror_mode": {
        "name": "ipython",
        "version": 3
      },
      "file_extension": ".py",
      "mimetype": "text/x-python",
      "name": "python",
      "nbconvert_exporter": "python",
      "pygments_lexer": "ipython3",
      "version": "3.11.7"
    }
  },
  "nbformat": 4,
  "nbformat_minor": 2
}
