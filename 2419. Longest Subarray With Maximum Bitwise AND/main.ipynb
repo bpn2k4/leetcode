{
 "cells": [
  {
   "cell_type": "code",
   "execution_count": 1,
   "metadata": {},
   "outputs": [],
   "source": [
    "from typing import List\n",
    "\n",
    "\n",
    "class Solution:\n",
    "  def longestSubarray(self, nums: List[int]) -> int:\n",
    "    \n",
    "    max_of_nums = max(nums)\n",
    "\n",
    "    output = 1\n",
    "    count = 0\n",
    "    n = len(nums)\n",
    "\n",
    "    for i in range(n):\n",
    "      if i == 0:\n",
    "        if nums[i] == max_of_nums:\n",
    "          count += 1\n",
    "      else:\n",
    "        if nums[i] == max_of_nums:\n",
    "          if nums[i - 1] == max_of_nums:\n",
    "            count += 1\n",
    "          else:\n",
    "            count = 1\n",
    "\n",
    "      output = max(output, count)\n",
    "\n",
    "    return output\n"
   ]
  },
  {
   "cell_type": "code",
   "execution_count": 2,
   "metadata": {},
   "outputs": [
    {
     "data": {
      "text/plain": [
       "2"
      ]
     },
     "execution_count": 2,
     "metadata": {},
     "output_type": "execute_result"
    }
   ],
   "source": [
    "Solution().longestSubarray(nums=[1, 2, 3, 3, 2, 2])"
   ]
  },
  {
   "cell_type": "code",
   "execution_count": 3,
   "metadata": {},
   "outputs": [
    {
     "data": {
      "text/plain": [
       "1"
      ]
     },
     "execution_count": 3,
     "metadata": {},
     "output_type": "execute_result"
    }
   ],
   "source": [
    "Solution().longestSubarray(nums=[1, 2, 3, 4])"
   ]
  }
 ],
 "metadata": {
  "kernelspec": {
   "display_name": "base",
   "language": "python",
   "name": "python3"
  },
  "language_info": {
   "codemirror_mode": {
    "name": "ipython",
    "version": 3
   },
   "file_extension": ".py",
   "mimetype": "text/x-python",
   "name": "python",
   "nbconvert_exporter": "python",
   "pygments_lexer": "ipython3",
   "version": "3.11.7"
  }
 },
 "nbformat": 4,
 "nbformat_minor": 2
}
