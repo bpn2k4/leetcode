{
 "cells": [
  {
   "cell_type": "code",
   "execution_count": 10,
   "metadata": {},
   "outputs": [],
   "source": [
    "class Solution:\n",
    "  def maximumGain(self, s: str, x: int, y: int) -> int:\n",
    "    result = 0\n",
    "    if x > y:\n",
    "      ab, ba = 'ab', 'ba'\n",
    "      x, y = x, y\n",
    "    else:\n",
    "      ab, ba = 'ba', 'ab'\n",
    "      x, y = y, x\n",
    "    new_str = []\n",
    "    for char in s:\n",
    "      if new_str and new_str[-1] == ab[0] and char == ab[1]:\n",
    "        new_str.pop()\n",
    "        result += x\n",
    "      else:\n",
    "        new_str.append(char)\n",
    "    s = ''.join(new_str)\n",
    "    new_str = []\n",
    "    for char in s:\n",
    "      if new_str and new_str[-1] == ba[0] and char == ba[1]:\n",
    "        new_str.pop()\n",
    "        result += y\n",
    "      else:\n",
    "        new_str.append(char)\n",
    "    return result"
   ]
  },
  {
   "cell_type": "code",
   "execution_count": 11,
   "metadata": {},
   "outputs": [
    {
     "data": {
      "text/plain": [
       "19"
      ]
     },
     "execution_count": 11,
     "metadata": {},
     "output_type": "execute_result"
    }
   ],
   "source": [
    "Solution().maximumGain(s=\"cdbcbbaaabab\", x=4, y=5)"
   ]
  },
  {
   "cell_type": "code",
   "execution_count": 12,
   "metadata": {},
   "outputs": [
    {
     "data": {
      "text/plain": [
       "20"
      ]
     },
     "execution_count": 12,
     "metadata": {},
     "output_type": "execute_result"
    }
   ],
   "source": [
    "Solution().maximumGain(s=\"aabbaaxybbaabb\", x=5, y=4)"
   ]
  }
 ],
 "metadata": {
  "kernelspec": {
   "display_name": "base",
   "language": "python",
   "name": "python3"
  },
  "language_info": {
   "codemirror_mode": {
    "name": "ipython",
    "version": 3
   },
   "file_extension": ".py",
   "mimetype": "text/x-python",
   "name": "python",
   "nbconvert_exporter": "python",
   "pygments_lexer": "ipython3",
   "version": "3.11.7"
  }
 },
 "nbformat": 4,
 "nbformat_minor": 2
}
