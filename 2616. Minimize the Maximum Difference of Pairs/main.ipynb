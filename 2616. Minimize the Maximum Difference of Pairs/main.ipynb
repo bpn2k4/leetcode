{
  "cells": [
    {
      "cell_type": "code",
      "execution_count": 1,
      "metadata": {},
      "outputs": [],
      "source": [
        "from typing import List\n",
        "\n",
        "\n",
        "class Solution:\n",
        "  def minimizeMax(self, nums: List[int], p: int) -> int:\n",
        "    \n",
        "    nums.sort()\n",
        "    n = len(nums)\n",
        "    left, right = 0, nums[-1] - nums[0]\n",
        "    while left < right:\n",
        "      mid = (left + right) // 2\n",
        "      index, count = 0, 0\n",
        "      while index < n - 1:\n",
        "        if nums[index + 1] - nums[index] <= mid:\n",
        "          count += 1\n",
        "          index += 1\n",
        "        index += 1\n",
        "      \n",
        "      if count >= p:\n",
        "        right = mid\n",
        "      else:\n",
        "        left = mid + 1\n",
        "\n",
        "    return left\n"
      ]
    },
    {
      "cell_type": "code",
      "execution_count": 2,
      "metadata": {},
      "outputs": [
        {
          "data": {
            "text/plain": [
              "1"
            ]
          },
          "execution_count": 2,
          "metadata": {},
          "output_type": "execute_result"
        }
      ],
      "source": [
        "nums = [10, 1, 2, 7, 1, 3]\n",
        "p = 2\n",
        "Solution().minimizeMax(nums=nums, p=p)"
      ]
    },
    {
      "cell_type": "code",
      "execution_count": 3,
      "metadata": {},
      "outputs": [
        {
          "data": {
            "text/plain": [
              "0"
            ]
          },
          "execution_count": 3,
          "metadata": {},
          "output_type": "execute_result"
        }
      ],
      "source": [
        "nums = [4, 2, 1, 2]\n",
        "p = 1\n",
        "Solution().minimizeMax(nums=nums, p=p)"
      ]
    }
  ],
  "metadata": {
    "kernelspec": {
      "display_name": "Python 3",
      "language": "python",
      "name": "python3"
    },
    "language_info": {
      "codemirror_mode": {
        "name": "ipython",
        "version": 3
      },
      "file_extension": ".py",
      "mimetype": "text/x-python",
      "name": "python",
      "nbconvert_exporter": "python",
      "pygments_lexer": "ipython3",
      "version": "3.12.8"
    }
  },
  "nbformat": 4,
  "nbformat_minor": 2
}
