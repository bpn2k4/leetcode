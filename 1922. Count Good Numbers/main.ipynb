{
  "cells": [
    {
      "cell_type": "code",
      "execution_count": 1,
      "metadata": {},
      "outputs": [],
      "source": [
        "class Solution:\n",
        "  def countGoodNumbers(self, n: int) -> int:\n",
        "\n",
        "    MOD = 10**9 + 7\n",
        "\n",
        "    def mod_exp(x: int, y: int) -> int:\n",
        "      ret, mul = 1, x\n",
        "      while y > 0:\n",
        "        if y % 2 == 1:\n",
        "          ret = ret * mul % MOD\n",
        "        mul = mul * mul % MOD\n",
        "        y //= 2\n",
        "      return ret\n",
        "\n",
        "    return mod_exp(5, (n + 1) // 2) * mod_exp(4, n // 2) % MOD"
      ]
    },
    {
      "cell_type": "code",
      "execution_count": 2,
      "metadata": {},
      "outputs": [
        {
          "data": {
            "text/plain": [
              "5"
            ]
          },
          "execution_count": 2,
          "metadata": {},
          "output_type": "execute_result"
        }
      ],
      "source": [
        "n = 1\n",
        "Solution().countGoodNumbers(n=n)"
      ]
    },
    {
      "cell_type": "code",
      "execution_count": 3,
      "metadata": {},
      "outputs": [
        {
          "data": {
            "text/plain": [
              "400"
            ]
          },
          "execution_count": 3,
          "metadata": {},
          "output_type": "execute_result"
        }
      ],
      "source": [
        "n = 4\n",
        "Solution().countGoodNumbers(n=n)"
      ]
    },
    {
      "cell_type": "code",
      "execution_count": 4,
      "metadata": {},
      "outputs": [
        {
          "data": {
            "text/plain": [
              "564908303"
            ]
          },
          "execution_count": 4,
          "metadata": {},
          "output_type": "execute_result"
        }
      ],
      "source": [
        "n = 50\n",
        "Solution().countGoodNumbers(n=n)"
      ]
    }
  ],
  "metadata": {
    "kernelspec": {
      "display_name": "Python 3",
      "language": "python",
      "name": "python3"
    },
    "language_info": {
      "codemirror_mode": {
        "name": "ipython",
        "version": 3
      },
      "file_extension": ".py",
      "mimetype": "text/x-python",
      "name": "python",
      "nbconvert_exporter": "python",
      "pygments_lexer": "ipython3",
      "version": "3.12.8"
    }
  },
  "nbformat": 4,
  "nbformat_minor": 2
}
