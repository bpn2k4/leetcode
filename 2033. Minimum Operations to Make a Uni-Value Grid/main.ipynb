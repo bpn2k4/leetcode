{
  "cells": [
    {
      "cell_type": "code",
      "execution_count": 1,
      "metadata": {},
      "outputs": [],
      "source": [
        "from typing import List\n",
        "\n",
        "\n",
        "class Solution:\n",
        "  def minOperations(self, grid: List[List[int]], x: int) -> int:\n",
        "    \n",
        "    arr = []\n",
        "    for i in grid:\n",
        "      for j in i:\n",
        "        arr.append(j)\n",
        "    \n",
        "    arr.sort()\n",
        "    median = arr[len(arr) // 2]\n",
        "    count = 0\n",
        "    for num in arr:\n",
        "      if abs(num - median) % x != 0:\n",
        "        return -1\n",
        "      else:\n",
        "        count += abs(num - median) // x\n",
        "\n",
        "    return count "
      ]
    },
    {
      "cell_type": "code",
      "execution_count": 2,
      "metadata": {},
      "outputs": [
        {
          "data": {
            "text/plain": [
              "4"
            ]
          },
          "execution_count": 2,
          "metadata": {},
          "output_type": "execute_result"
        }
      ],
      "source": [
        "grid = [[2, 4], [6, 8]]\n",
        "x = 2\n",
        "Solution().minOperations(grid=grid, x=x)"
      ]
    },
    {
      "cell_type": "code",
      "execution_count": 3,
      "metadata": {},
      "outputs": [
        {
          "data": {
            "text/plain": [
              "5"
            ]
          },
          "execution_count": 3,
          "metadata": {},
          "output_type": "execute_result"
        }
      ],
      "source": [
        "grid = [[1, 5], [2, 3]]\n",
        "x = 1\n",
        "Solution().minOperations(grid=grid, x=x)"
      ]
    },
    {
      "cell_type": "code",
      "execution_count": 4,
      "metadata": {},
      "outputs": [
        {
          "data": {
            "text/plain": [
              "-1"
            ]
          },
          "execution_count": 4,
          "metadata": {},
          "output_type": "execute_result"
        }
      ],
      "source": [
        "grid = [[1, 2], [3, 4]]\n",
        "x = 2\n",
        "Solution().minOperations(grid=grid, x=x)"
      ]
    }
  ],
  "metadata": {
    "kernelspec": {
      "display_name": "Python 3",
      "language": "python",
      "name": "python3"
    },
    "language_info": {
      "codemirror_mode": {
        "name": "ipython",
        "version": 3
      },
      "file_extension": ".py",
      "mimetype": "text/x-python",
      "name": "python",
      "nbconvert_exporter": "python",
      "pygments_lexer": "ipython3",
      "version": "3.12.1"
    }
  },
  "nbformat": 4,
  "nbformat_minor": 2
}
