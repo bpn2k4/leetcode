{
  "cells": [
    {
      "cell_type": "code",
      "execution_count": 1,
      "metadata": {},
      "outputs": [],
      "source": [
        "from typing import List\n",
        "\n",
        "\n",
        "class Solution:\n",
        "  def findMissingAndRepeatedValues(self, grid: List[List[int]]) -> List[int]:\n",
        "    \n",
        "    n = len(grid)\n",
        "    mark = [0] * (n ** 2 + 1)\n",
        "    for i in range(n):\n",
        "      for j in range(n):\n",
        "         mark[grid[i][j]] += 1\n",
        "\n",
        "    output = [0, 0]\n",
        "    for i in range(1, n ** 2 + 1):\n",
        "      if mark[i] == 2:\n",
        "        output[0] = i\n",
        "      if mark[i] == 0:\n",
        "        output[1] = i\n",
        "\n",
        "    return output"
      ]
    },
    {
      "cell_type": "code",
      "execution_count": 2,
      "metadata": {},
      "outputs": [
        {
          "data": {
            "text/plain": [
              "[2, 4]"
            ]
          },
          "execution_count": 2,
          "metadata": {},
          "output_type": "execute_result"
        }
      ],
      "source": [
        "grid = [[1, 3], [2, 2]]\n",
        "Solution().findMissingAndRepeatedValues(grid=grid)"
      ]
    },
    {
      "cell_type": "code",
      "execution_count": 3,
      "metadata": {},
      "outputs": [
        {
          "data": {
            "text/plain": [
              "[9, 5]"
            ]
          },
          "execution_count": 3,
          "metadata": {},
          "output_type": "execute_result"
        }
      ],
      "source": [
        "grid = [[9, 1, 7], [8, 9, 2], [3, 4, 6]]\n",
        "Solution().findMissingAndRepeatedValues(grid=grid)"
      ]
    }
  ],
  "metadata": {
    "kernelspec": {
      "display_name": "Python 3",
      "language": "python",
      "name": "python3"
    },
    "language_info": {
      "codemirror_mode": {
        "name": "ipython",
        "version": 3
      },
      "file_extension": ".py",
      "mimetype": "text/x-python",
      "name": "python",
      "nbconvert_exporter": "python",
      "pygments_lexer": "ipython3",
      "version": "3.12.1"
    }
  },
  "nbformat": 4,
  "nbformat_minor": 2
}
