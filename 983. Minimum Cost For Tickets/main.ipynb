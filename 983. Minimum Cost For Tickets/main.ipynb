{
  "cells": [
    {
      "cell_type": "code",
      "execution_count": 1,
      "metadata": {},
      "outputs": [],
      "source": [
        "from typing import List\n",
        "\n",
        "\n",
        "class Solution:\n",
        "  def mincostTickets(self, days: List[int], costs: List[int]) -> int:\n",
        "\n",
        "    travel_days = {day: True for day in days}\n",
        "    max_days = days[-1]\n",
        "\n",
        "    dp = [0] * (max_days + 1)\n",
        "    for day in range(1, max_days + 1):\n",
        "      if day in travel_days:\n",
        "        dp[day] = min(\n",
        "            dp[day - 1] + costs[0],\n",
        "            dp[max(day - 7, 0)] + costs[1],\n",
        "            dp[max(day - 30, 0)] + costs[2]\n",
        "        )\n",
        "      else:\n",
        "        dp[day] = dp[day - 1]\n",
        "\n",
        "    return dp[-1]"
      ]
    },
    {
      "cell_type": "code",
      "execution_count": 2,
      "metadata": {},
      "outputs": [
        {
          "data": {
            "text/plain": [
              "11"
            ]
          },
          "execution_count": 2,
          "metadata": {},
          "output_type": "execute_result"
        }
      ],
      "source": [
        "days = [1, 4, 6, 7, 8, 20]\n",
        "costs = [2, 7, 15]\n",
        "Solution().mincostTickets(days=days, costs=costs)"
      ]
    },
    {
      "cell_type": "code",
      "execution_count": 3,
      "metadata": {},
      "outputs": [
        {
          "data": {
            "text/plain": [
              "17"
            ]
          },
          "execution_count": 3,
          "metadata": {},
          "output_type": "execute_result"
        }
      ],
      "source": [
        "days = [1, 2, 3, 4, 5, 6, 7, 8, 9, 10, 30, 31]\n",
        "costs = [2, 7, 15]\n",
        "Solution().mincostTickets(days=days, costs=costs)"
      ]
    }
  ],
  "metadata": {
    "kernelspec": {
      "display_name": "base",
      "language": "python",
      "name": "python3"
    },
    "language_info": {
      "codemirror_mode": {
        "name": "ipython",
        "version": 3
      },
      "file_extension": ".py",
      "mimetype": "text/x-python",
      "name": "python",
      "nbconvert_exporter": "python",
      "pygments_lexer": "ipython3",
      "version": "3.11.7"
    }
  },
  "nbformat": 4,
  "nbformat_minor": 2
}
