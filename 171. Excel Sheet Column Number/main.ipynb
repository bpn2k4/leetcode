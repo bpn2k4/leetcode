{
  "cells": [
    {
      "cell_type": "code",
      "execution_count": 1,
      "metadata": {},
      "outputs": [],
      "source": [
        "class Solution:\n",
        "  def titleToNumber(self, columnTitle: str) -> int:\n",
        "    \n",
        "    char2num = {\n",
        "      'A': 0, 'B': 1, 'C': 2, 'D': 3, 'E': 4, 'F': 5, \n",
        "      'G': 6, 'H': 7, 'I': 8, 'J': 9, 'K': 10, 'L': 11, \n",
        "      'M': 12, 'N': 13, 'O': 14, 'P': 15, 'Q': 16, \n",
        "      'R': 17, 'S': 18, 'T': 19, 'U': 20, 'V': 21, \n",
        "      'W': 22, 'X': 23, 'Y': 24, 'Z': 25\n",
        "    }\n",
        "\n",
        "    output = 0\n",
        "    for char in columnTitle:\n",
        "      output = output * 26 + char2num[char] + 1\n",
        "\n",
        "    return output"
      ]
    },
    {
      "cell_type": "code",
      "execution_count": 2,
      "metadata": {},
      "outputs": [
        {
          "data": {
            "text/plain": [
              "1"
            ]
          },
          "execution_count": 2,
          "metadata": {},
          "output_type": "execute_result"
        }
      ],
      "source": [
        "columnTitle = \"A\"\n",
        "Solution().titleToNumber(columnTitle=columnTitle)"
      ]
    },
    {
      "cell_type": "code",
      "execution_count": 3,
      "metadata": {},
      "outputs": [
        {
          "data": {
            "text/plain": [
              "28"
            ]
          },
          "execution_count": 3,
          "metadata": {},
          "output_type": "execute_result"
        }
      ],
      "source": [
        "columnTitle = \"AB\"\n",
        "Solution().titleToNumber(columnTitle=columnTitle)"
      ]
    },
    {
      "cell_type": "code",
      "execution_count": 4,
      "metadata": {},
      "outputs": [
        {
          "data": {
            "text/plain": [
              "701"
            ]
          },
          "execution_count": 4,
          "metadata": {},
          "output_type": "execute_result"
        }
      ],
      "source": [
        "columnTitle = \"ZY\"\n",
        "Solution().titleToNumber(columnTitle=columnTitle)"
      ]
    }
  ],
  "metadata": {
    "kernelspec": {
      "display_name": "Python 3",
      "language": "python",
      "name": "python3"
    },
    "language_info": {
      "codemirror_mode": {
        "name": "ipython",
        "version": 3
      },
      "file_extension": ".py",
      "mimetype": "text/x-python",
      "name": "python",
      "nbconvert_exporter": "python",
      "pygments_lexer": "ipython3",
      "version": "3.12.8"
    }
  },
  "nbformat": 4,
  "nbformat_minor": 2
}
