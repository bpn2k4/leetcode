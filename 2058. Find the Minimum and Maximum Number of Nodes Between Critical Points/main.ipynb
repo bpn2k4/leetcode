{
 "cells": [
  {
   "cell_type": "code",
   "execution_count": 9,
   "metadata": {},
   "outputs": [],
   "source": [
    "from typing import List, Optional\n",
    "\n",
    "\n",
    "class ListNode:\n",
    "    def __init__(self, val=0, next=None):\n",
    "        self.val = val\n",
    "        self.next: ListNode = next\n",
    "\n",
    "class Solution:\n",
    "  def nodesBetweenCriticalPoints(self, head: Optional[ListNode]) -> List[int]:\n",
    "    arr = []\n",
    "    pointer = head\n",
    "    while pointer:\n",
    "      arr.append(pointer.val)\n",
    "      pointer = pointer.next\n",
    "    n = len(arr)\n",
    "    critical_points = []\n",
    "    for i in range(1, n-1):\n",
    "      if arr[i] > arr[i-1] and arr[i] > arr[i+1]:\n",
    "        critical_points.append(i)\n",
    "      if arr[i] < arr[i-1] and arr[i] < arr[i+1]:\n",
    "        critical_points.append(i)\n",
    "    if len(critical_points) < 2:\n",
    "      return [-1, -1]\n",
    "    min_distance = 99999\n",
    "    max_distance = critical_points[-1] - critical_points[0]\n",
    "    for i in range(1, len(critical_points)):\n",
    "      min_distance = min(min_distance, critical_points[i] - critical_points[i-1])\n",
    "    return [min_distance, max_distance]\n",
    "        "
   ]
  },
  {
   "cell_type": "code",
   "execution_count": 10,
   "metadata": {},
   "outputs": [
    {
     "data": {
      "text/plain": [
       "[-1, -1]"
      ]
     },
     "execution_count": 10,
     "metadata": {},
     "output_type": "execute_result"
    }
   ],
   "source": [
    "head = ListNode(5)\n",
    "head.next = ListNode(1)\n",
    "Solution().nodesBetweenCriticalPoints(head)"
   ]
  },
  {
   "cell_type": "code",
   "execution_count": 11,
   "metadata": {},
   "outputs": [
    {
     "data": {
      "text/plain": [
       "[1, 3]"
      ]
     },
     "execution_count": 11,
     "metadata": {},
     "output_type": "execute_result"
    }
   ],
   "source": [
    "head = ListNode(5)\n",
    "head.next = ListNode(3)\n",
    "head.next.next = ListNode(1)\n",
    "head.next.next.next = ListNode(2)\n",
    "head.next.next.next.next = ListNode(5)\n",
    "head.next.next.next.next.next = ListNode(1)\n",
    "head.next.next.next.next.next.next = ListNode(2)\n",
    "Solution().nodesBetweenCriticalPoints(head)"
   ]
  },
  {
   "cell_type": "code",
   "execution_count": 12,
   "metadata": {},
   "outputs": [
    {
     "data": {
      "text/plain": [
       "[3, 3]"
      ]
     },
     "execution_count": 12,
     "metadata": {},
     "output_type": "execute_result"
    }
   ],
   "source": [
    "head = ListNode(1)\n",
    "head.next = ListNode(3)\n",
    "head.next.next = ListNode(2)\n",
    "head.next.next.next = ListNode(2)\n",
    "head.next.next.next.next = ListNode(3)\n",
    "head.next.next.next.next.next = ListNode(2)\n",
    "head.next.next.next.next.next.next = ListNode(2)\n",
    "head.next.next.next.next.next.next.next = ListNode(2)\n",
    "head.next.next.next.next.next.next.next.next = ListNode(7)\n",
    "Solution().nodesBetweenCriticalPoints(head)"
   ]
  }
 ],
 "metadata": {
  "kernelspec": {
   "display_name": "base",
   "language": "python",
   "name": "python3"
  },
  "language_info": {
   "codemirror_mode": {
    "name": "ipython",
    "version": 3
   },
   "file_extension": ".py",
   "mimetype": "text/x-python",
   "name": "python",
   "nbconvert_exporter": "python",
   "pygments_lexer": "ipython3",
   "version": "3.11.7"
  }
 },
 "nbformat": 4,
 "nbformat_minor": 2
}
