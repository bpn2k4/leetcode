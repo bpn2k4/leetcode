{
  "cells": [
    {
      "cell_type": "code",
      "execution_count": 1,
      "metadata": {},
      "outputs": [],
      "source": [
        "from typing import List\n",
        "\n",
        "\n",
        "class Solution:\n",
        "  def countSubarrays(self, nums: List[int], k: int) -> int:\n",
        "    \n",
        "    if k <= 1:\n",
        "      return 0\n",
        "    \n",
        "    score, total, count = 0, 0, 0\n",
        "    left = 0\n",
        "    for i, num in enumerate(nums):\n",
        "      total += num\n",
        "      score = (i - left + 1) * total\n",
        "      while score >= k:\n",
        "        total -= nums[left]\n",
        "        left += 1\n",
        "        score = (i - left + 1) * total\n",
        "      \n",
        "      count += i - left + 1\n",
        "\n",
        "    return count"
      ]
    },
    {
      "cell_type": "code",
      "execution_count": 2,
      "metadata": {},
      "outputs": [
        {
          "data": {
            "text/plain": [
              "6"
            ]
          },
          "execution_count": 2,
          "metadata": {},
          "output_type": "execute_result"
        }
      ],
      "source": [
        "nums = [2, 1, 4, 3, 5]\n",
        "k = 10\n",
        "Solution().countSubarrays(nums=nums, k=k)"
      ]
    },
    {
      "cell_type": "code",
      "execution_count": 3,
      "metadata": {},
      "outputs": [
        {
          "data": {
            "text/plain": [
              "5"
            ]
          },
          "execution_count": 3,
          "metadata": {},
          "output_type": "execute_result"
        }
      ],
      "source": [
        "nums = [1, 1, 1]\n",
        "k = 5\n",
        "Solution().countSubarrays(nums=nums, k=k)"
      ]
    }
  ],
  "metadata": {
    "kernelspec": {
      "display_name": "Python 3",
      "language": "python",
      "name": "python3"
    },
    "language_info": {
      "codemirror_mode": {
        "name": "ipython",
        "version": 3
      },
      "file_extension": ".py",
      "mimetype": "text/x-python",
      "name": "python",
      "nbconvert_exporter": "python",
      "pygments_lexer": "ipython3",
      "version": "3.12.8"
    }
  },
  "nbformat": 4,
  "nbformat_minor": 2
}
