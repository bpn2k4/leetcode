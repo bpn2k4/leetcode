{
  "cells": [
    {
      "cell_type": "code",
      "execution_count": 1,
      "metadata": {},
      "outputs": [],
      "source": [
        "from typing import List\n",
        "\n",
        "\n",
        "class Solution:\n",
        "  def minimumTeachings(self, n: int, languages: List[List[int]], friendships: List[List[int]]) -> int:\n",
        "\n",
        "    users_needing_teach = set()\n",
        "    for user1, user2 in friendships:\n",
        "      user1_langs = set(languages[user1 - 1])\n",
        "      user2_langs = set(languages[user2 - 1])\n",
        "      if user1_langs.isdisjoint(user2_langs):\n",
        "        users_needing_teach.add(user1 - 1)\n",
        "        users_needing_teach.add(user2 - 1)\n",
        "\n",
        "    language_count = [0] * (n + 1)\n",
        "    max_language_users = 0\n",
        "    for user in users_needing_teach:\n",
        "      for lang in languages[user]:\n",
        "        language_count[lang] += 1\n",
        "        max_language_users = max(max_language_users, language_count[lang])\n",
        "\n",
        "    return len(users_needing_teach) - max_language_users"
      ]
    },
    {
      "cell_type": "code",
      "execution_count": 2,
      "metadata": {},
      "outputs": [
        {
          "data": {
            "text/plain": [
              "1"
            ]
          },
          "execution_count": 2,
          "metadata": {},
          "output_type": "execute_result"
        }
      ],
      "source": [
        "n = 2\n",
        "languages = [[1], [2], [1, 2]]\n",
        "friendships = [[1, 2], [1, 3], [2, 3]]\n",
        "Solution().minimumTeachings(n=n, languages=languages, friendships=friendships)"
      ]
    },
    {
      "cell_type": "code",
      "execution_count": 3,
      "metadata": {},
      "outputs": [
        {
          "data": {
            "text/plain": [
              "2"
            ]
          },
          "execution_count": 3,
          "metadata": {},
          "output_type": "execute_result"
        }
      ],
      "source": [
        "n = 3\n",
        "languages = [[2], [1, 3], [1, 2], [3]]\n",
        "friendships = [[1, 4], [1, 2], [3, 4], [2, 3]]\n",
        "Solution().minimumTeachings(n=n, languages=languages, friendships=friendships)"
      ]
    }
  ],
  "metadata": {
    "kernelspec": {
      "display_name": "Python 3",
      "language": "python",
      "name": "python3"
    },
    "language_info": {
      "codemirror_mode": {
        "name": "ipython",
        "version": 3
      },
      "file_extension": ".py",
      "mimetype": "text/x-python",
      "name": "python",
      "nbconvert_exporter": "python",
      "pygments_lexer": "ipython3",
      "version": "3.12.8"
    }
  },
  "nbformat": 4,
  "nbformat_minor": 2
}
