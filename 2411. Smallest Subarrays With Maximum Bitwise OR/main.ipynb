{
  "cells": [
    {
      "cell_type": "code",
      "execution_count": 1,
      "metadata": {},
      "outputs": [],
      "source": [
        "from typing import List\n",
        "\n",
        "\n",
        "class Solution:\n",
        "  def smallestSubarrays(self, nums: List[int]) -> List[int]:\n",
        "\n",
        "    n = len(nums)\n",
        "    answer = [0] * n\n",
        "    max_or = 0\n",
        "    curr_map = {}\n",
        "\n",
        "    for i in range(n - 1, -1, -1):\n",
        "      new_map = {}\n",
        "      curr = nums[i]\n",
        "      new_map[curr] = i\n",
        "\n",
        "      for or_val, j in curr_map.items():\n",
        "        new_or = or_val | nums[i]\n",
        "        if new_or in new_map:\n",
        "          new_map[new_or] = min(new_map[new_or], j)\n",
        "        else:\n",
        "          new_map[new_or] = j\n",
        "\n",
        "      curr_map = new_map\n",
        "      max_or = max(curr_map.keys())\n",
        "      answer[i] = curr_map[max_or] - i + 1\n",
        "\n",
        "    return answer"
      ]
    },
    {
      "cell_type": "code",
      "execution_count": 2,
      "metadata": {},
      "outputs": [
        {
          "data": {
            "text/plain": [
              "[3, 3, 2, 2, 1]"
            ]
          },
          "execution_count": 2,
          "metadata": {},
          "output_type": "execute_result"
        }
      ],
      "source": [
        "nums = [1, 0, 2, 1, 3]\n",
        "Solution().smallestSubarrays(nums=nums)"
      ]
    },
    {
      "cell_type": "code",
      "execution_count": 3,
      "metadata": {},
      "outputs": [
        {
          "data": {
            "text/plain": [
              "[2, 1]"
            ]
          },
          "execution_count": 3,
          "metadata": {},
          "output_type": "execute_result"
        }
      ],
      "source": [
        "nums = [1, 2]\n",
        "Solution().smallestSubarrays(nums=nums)"
      ]
    }
  ],
  "metadata": {
    "kernelspec": {
      "display_name": "Python 3",
      "language": "python",
      "name": "python3"
    },
    "language_info": {
      "codemirror_mode": {
        "name": "ipython",
        "version": 3
      },
      "file_extension": ".py",
      "mimetype": "text/x-python",
      "name": "python",
      "nbconvert_exporter": "python",
      "pygments_lexer": "ipython3",
      "version": "3.12.8"
    }
  },
  "nbformat": 4,
  "nbformat_minor": 2
}
