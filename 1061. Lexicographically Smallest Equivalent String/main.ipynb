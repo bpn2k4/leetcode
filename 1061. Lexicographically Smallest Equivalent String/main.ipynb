{
  "cells": [
    {
      "cell_type": "code",
      "execution_count": 1,
      "metadata": {},
      "outputs": [],
      "source": [
        "class Solution:\n",
        "  def smallestEquivalentString(self, s1: str, s2: str, baseStr: str) -> str:\n",
        "\n",
        "    parent = [i for i in range(26)]\n",
        "\n",
        "    def find(x):\n",
        "      if parent[x] != x:\n",
        "        parent[x] = find(parent[x])\n",
        "      return parent[x]\n",
        "\n",
        "    def union(x, y):\n",
        "      px, py = find(x), find(y)\n",
        "      if px == py:\n",
        "        return\n",
        "      \n",
        "      if px < py:\n",
        "        parent[py] = px\n",
        "      else:\n",
        "        parent[px] = py\n",
        "\n",
        "    for a, b in zip(s1, s2):\n",
        "      union(ord(a) - ord('a'), ord(b) - ord('a'))\n",
        "\n",
        "    result = []\n",
        "    for ch in baseStr:\n",
        "      rep = find(ord(ch) - ord('a'))\n",
        "      result.append(chr(rep + ord('a')))\n",
        "\n",
        "    return ''.join(result)"
      ]
    },
    {
      "cell_type": "code",
      "execution_count": 2,
      "metadata": {},
      "outputs": [
        {
          "data": {
            "text/plain": [
              "'makkek'"
            ]
          },
          "execution_count": 2,
          "metadata": {},
          "output_type": "execute_result"
        }
      ],
      "source": [
        "s1 = \"parker\"\n",
        "s2 = \"morris\"\n",
        "baseStr = \"parser\"\n",
        "Solution().smallestEquivalentString(s1=s1, s2=s2, baseStr=baseStr)"
      ]
    },
    {
      "cell_type": "code",
      "execution_count": 3,
      "metadata": {},
      "outputs": [
        {
          "data": {
            "text/plain": [
              "'hdld'"
            ]
          },
          "execution_count": 3,
          "metadata": {},
          "output_type": "execute_result"
        }
      ],
      "source": [
        "s1 = \"hello\"\n",
        "s2 = \"world\"\n",
        "baseStr = \"hold\"\n",
        "Solution().smallestEquivalentString(s1=s1, s2=s2, baseStr=baseStr)"
      ]
    },
    {
      "cell_type": "code",
      "execution_count": 4,
      "metadata": {},
      "outputs": [
        {
          "data": {
            "text/plain": [
              "'aauaaaaada'"
            ]
          },
          "execution_count": 4,
          "metadata": {},
          "output_type": "execute_result"
        }
      ],
      "source": [
        "s1 = \"leetcode\"\n",
        "s2 = \"programs\"\n",
        "baseStr = \"sourcecode\"\n",
        "Solution().smallestEquivalentString(s1=s1, s2=s2, baseStr=baseStr)"
      ]
    }
  ],
  "metadata": {
    "kernelspec": {
      "display_name": "Python 3",
      "language": "python",
      "name": "python3"
    },
    "language_info": {
      "codemirror_mode": {
        "name": "ipython",
        "version": 3
      },
      "file_extension": ".py",
      "mimetype": "text/x-python",
      "name": "python",
      "nbconvert_exporter": "python",
      "pygments_lexer": "ipython3",
      "version": "3.12.8"
    }
  },
  "nbformat": 4,
  "nbformat_minor": 2
}
