{
  "cells": [
    {
      "cell_type": "code",
      "execution_count": 1,
      "metadata": {},
      "outputs": [],
      "source": [
        "from typing import List\n",
        "import heapq\n",
        "\n",
        "\n",
        "class Solution:\n",
        "  def maxAverageRatio(self, classes: List[List[int]], extraStudents: int) -> float:\n",
        "\n",
        "    number_of_classes = len(classes)\n",
        "    number_of_balance_classes = 0\n",
        "    sorted_classes = []\n",
        "    for pass_student, total_student in classes:\n",
        "      if pass_student == total_student:\n",
        "        number_of_balance_classes += 1\n",
        "      else:\n",
        "        value = (pass_student + 1) / (total_student + 1) - pass_student / total_student\n",
        "        heapq.heappush(sorted_classes, (-value, pass_student + 1, total_student + 1))\n",
        "    \n",
        "    if number_of_balance_classes != number_of_classes:\n",
        "      for _ in range(extraStudents):\n",
        "        _, pass_student, total_student = heapq.heappop(sorted_classes)\n",
        "        value = (pass_student + 1) / (total_student + 1) - pass_student / total_student\n",
        "        heapq.heappush(sorted_classes, (-value, pass_student + 1, total_student + 1))\n",
        "\n",
        "    ratio = number_of_balance_classes\n",
        "    for _, pass_student, total_student in sorted_classes:\n",
        "      ratio += (pass_student - 1) / (total_student - 1)\n",
        "\n",
        "    return ratio / number_of_classes"
      ]
    },
    {
      "cell_type": "code",
      "execution_count": 2,
      "metadata": {},
      "outputs": [
        {
          "data": {
            "text/plain": [
              "0.7833333333333333"
            ]
          },
          "execution_count": 2,
          "metadata": {},
          "output_type": "execute_result"
        }
      ],
      "source": [
        "classes = [[1, 2], [3, 5], [2, 2]]\n",
        "extraStudents = 2\n",
        "Solution().maxAverageRatio(classes=classes, extraStudents=extraStudents)"
      ]
    },
    {
      "cell_type": "code",
      "execution_count": 3,
      "metadata": {},
      "outputs": [
        {
          "data": {
            "text/plain": [
              "0.5348484848484848"
            ]
          },
          "execution_count": 3,
          "metadata": {},
          "output_type": "execute_result"
        }
      ],
      "source": [
        "classes = [[2, 4], [3, 9], [4, 5], [2, 10]]\n",
        "extraStudents = 4\n",
        "Solution().maxAverageRatio(classes=classes, extraStudents=extraStudents)"
      ]
    }
  ],
  "metadata": {
    "kernelspec": {
      "display_name": "base",
      "language": "python",
      "name": "python3"
    },
    "language_info": {
      "codemirror_mode": {
        "name": "ipython",
        "version": 3
      },
      "file_extension": ".py",
      "mimetype": "text/x-python",
      "name": "python",
      "nbconvert_exporter": "python",
      "pygments_lexer": "ipython3",
      "version": "3.11.7"
    }
  },
  "nbformat": 4,
  "nbformat_minor": 2
}
