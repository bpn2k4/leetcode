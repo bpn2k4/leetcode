{
  "cells": [
    {
      "cell_type": "code",
      "execution_count": 1,
      "metadata": {},
      "outputs": [],
      "source": [
        "from typing import List\n",
        "\n",
        "\n",
        "class Solution:\n",
        "  def getLongestSubsequence(self, words: List[str], groups: List[int]) -> List[str]:\n",
        "    \n",
        "    n = len(words)\n",
        "    chars = []\n",
        "    longest = []\n",
        "    i = 0\n",
        "    last = 0\n",
        "    while i < n and groups[i] != last:\n",
        "      i += 1\n",
        "\n",
        "    if i == n:\n",
        "      return [words[0]]\n",
        "    \n",
        "    chars.append(words[i])\n",
        "    for j in range(i + 1, n):\n",
        "      if groups[j] != last:\n",
        "        chars.append(words[j])\n",
        "        last = groups[j]\n",
        "    if len(chars) > len(longest):\n",
        "      longest = chars\n",
        "    chars = []\n",
        "    last = 1\n",
        "    i = 0\n",
        "    while i < n and groups[i] != last:\n",
        "      i += 1\n",
        "\n",
        "    if i == n:\n",
        "      return [words[0]]\n",
        "    \n",
        "    chars.append(words[i])\n",
        "    for j in range(i + 1, n):\n",
        "      if groups[j] != last:\n",
        "        chars.append(words[j])\n",
        "        last = groups[j]\n",
        "    if len(chars) > len(longest):\n",
        "      longest = chars\n",
        "\n",
        "    return longest"
      ]
    },
    {
      "cell_type": "code",
      "execution_count": 2,
      "metadata": {},
      "outputs": [
        {
          "data": {
            "text/plain": [
              "['e', 'b']"
            ]
          },
          "execution_count": 2,
          "metadata": {},
          "output_type": "execute_result"
        }
      ],
      "source": [
        "words = [\"e\", \"a\", \"b\"]\n",
        "groups = [0, 0, 1]\n",
        "Solution().getLongestSubsequence(words=words, groups=groups)"
      ]
    },
    {
      "cell_type": "code",
      "execution_count": 3,
      "metadata": {},
      "outputs": [
        {
          "data": {
            "text/plain": [
              "['a', 'b', 'c']"
            ]
          },
          "execution_count": 3,
          "metadata": {},
          "output_type": "execute_result"
        }
      ],
      "source": [
        "words = [\"a\", \"b\", \"c\", \"d\"]\n",
        "groups = [1, 0, 1, 1]\n",
        "Solution().getLongestSubsequence(words=words, groups=groups)"
      ]
    }
  ],
  "metadata": {
    "kernelspec": {
      "display_name": "Python 3",
      "language": "python",
      "name": "python3"
    },
    "language_info": {
      "codemirror_mode": {
        "name": "ipython",
        "version": 3
      },
      "file_extension": ".py",
      "mimetype": "text/x-python",
      "name": "python",
      "nbconvert_exporter": "python",
      "pygments_lexer": "ipython3",
      "version": "3.12.1"
    }
  },
  "nbformat": 4,
  "nbformat_minor": 2
}
