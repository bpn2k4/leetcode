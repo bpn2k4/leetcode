{
 "cells": [
  {
   "cell_type": "code",
   "execution_count": 1,
   "metadata": {},
   "outputs": [],
   "source": [
    "from typing import List\n",
    "\n",
    "\n",
    "class Solution:\n",
    "  def canSortArray(self, nums: List[int]) -> bool:\n",
    "    \n",
    "    num2bitset = {}\n",
    "    for num in nums:\n",
    "      bit = num.bit_count()\n",
    "      num2bitset[num] = bit\n",
    "    \n",
    "    n = len(nums)\n",
    "    for _ in range(n):\n",
    "      for j in range(n - 1):\n",
    "        if nums[j] > nums[j + 1] and num2bitset[nums[j]] != num2bitset[nums[j + 1]]:\n",
    "          return False\n",
    "        elif nums[j] > nums[j + 1] and num2bitset[nums[j]] == num2bitset[nums[j + 1]]:\n",
    "          nums[j], nums[j + 1] = nums[j + 1], nums[j]\n",
    "\n",
    "    return True\n",
    "\n",
    "\n",
    "  def canSortArray(self, nums: List[int]) -> bool:\n",
    "\n",
    "    groups = []\n",
    "    max_of_group = 0\n",
    "    min_of_group = 257\n",
    "    current_bit = None\n",
    "    for num in nums:\n",
    "      bit = num.bit_count()\n",
    "      if current_bit is None:\n",
    "        current_bit = bit\n",
    "      if bit == current_bit:\n",
    "        max_of_group = max(max_of_group, num)\n",
    "        min_of_group = min(min_of_group, num)\n",
    "      else:\n",
    "        groups.append((min_of_group, max_of_group))\n",
    "        current_bit = bit\n",
    "        max_of_group = num\n",
    "        min_of_group = num\n",
    "\n",
    "    groups.append((min_of_group, max_of_group))\n",
    "\n",
    "    for i in range(len(groups) - 1):\n",
    "      if groups[i][1] > groups[i + 1][0]:\n",
    "        return False\n",
    "\n",
    "    return True"
   ]
  },
  {
   "cell_type": "code",
   "execution_count": 2,
   "metadata": {},
   "outputs": [
    {
     "data": {
      "text/plain": [
       "True"
      ]
     },
     "execution_count": 2,
     "metadata": {},
     "output_type": "execute_result"
    }
   ],
   "source": [
    "nums = [8, 4, 2, 30, 15]\n",
    "Solution().canSortArray(nums=nums)"
   ]
  },
  {
   "cell_type": "code",
   "execution_count": 3,
   "metadata": {},
   "outputs": [
    {
     "data": {
      "text/plain": [
       "True"
      ]
     },
     "execution_count": 3,
     "metadata": {},
     "output_type": "execute_result"
    }
   ],
   "source": [
    "nums = [1, 2, 3, 4, 5]\n",
    "Solution().canSortArray(nums=nums)"
   ]
  },
  {
   "cell_type": "code",
   "execution_count": 4,
   "metadata": {},
   "outputs": [
    {
     "data": {
      "text/plain": [
       "False"
      ]
     },
     "execution_count": 4,
     "metadata": {},
     "output_type": "execute_result"
    }
   ],
   "source": [
    "nums = [3, 16, 8, 4, 2]\n",
    "Solution().canSortArray(nums=nums)"
   ]
  }
 ],
 "metadata": {
  "kernelspec": {
   "display_name": "base",
   "language": "python",
   "name": "python3"
  },
  "language_info": {
   "codemirror_mode": {
    "name": "ipython",
    "version": 3
   },
   "file_extension": ".py",
   "mimetype": "text/x-python",
   "name": "python",
   "nbconvert_exporter": "python",
   "pygments_lexer": "ipython3",
   "version": "3.11.7"
  }
 },
 "nbformat": 4,
 "nbformat_minor": 2
}
