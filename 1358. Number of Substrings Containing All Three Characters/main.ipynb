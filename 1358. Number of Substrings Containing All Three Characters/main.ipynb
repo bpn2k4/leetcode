{
  "cells": [
    {
      "cell_type": "code",
      "execution_count": null,
      "metadata": {},
      "outputs": [],
      "source": [
        "class Solution:\n",
        "  def numberOfSubstrings(self, s: str) -> int:\n",
        "    \n",
        "    n = len(s)\n",
        "    char2count = {'a': 0, 'b': 0, 'c': 0}\n",
        "    count = 0\n",
        "    left = 0\n",
        "    for right in range(n):\n",
        "      char = s[right]\n",
        "      char2count[char] += 1\n",
        "      while char2count['a'] > 0 and char2count['b'] > 0 and char2count['c'] > 0:\n",
        "        count += n - right\n",
        "        left_char = s[left]\n",
        "        char2count[left_char] -= 1\n",
        "        left += 1\n",
        "    \n",
        "    return count"
      ]
    },
    {
      "cell_type": "code",
      "execution_count": 2,
      "metadata": {},
      "outputs": [
        {
          "data": {
            "text/plain": [
              "10"
            ]
          },
          "execution_count": 2,
          "metadata": {},
          "output_type": "execute_result"
        }
      ],
      "source": [
        "s = \"abcabc\"\n",
        "Solution().numberOfSubstrings(s=s)"
      ]
    },
    {
      "cell_type": "code",
      "execution_count": 3,
      "metadata": {},
      "outputs": [
        {
          "data": {
            "text/plain": [
              "3"
            ]
          },
          "execution_count": 3,
          "metadata": {},
          "output_type": "execute_result"
        }
      ],
      "source": [
        "s = \"aaacb\"\n",
        "Solution().numberOfSubstrings(s=s)"
      ]
    },
    {
      "cell_type": "code",
      "execution_count": 4,
      "metadata": {},
      "outputs": [
        {
          "data": {
            "text/plain": [
              "1"
            ]
          },
          "execution_count": 4,
          "metadata": {},
          "output_type": "execute_result"
        }
      ],
      "source": [
        "s = \"abc\"\n",
        "Solution().numberOfSubstrings(s=s)"
      ]
    }
  ],
  "metadata": {
    "kernelspec": {
      "display_name": "Python 3",
      "language": "python",
      "name": "python3"
    },
    "language_info": {
      "codemirror_mode": {
        "name": "ipython",
        "version": 3
      },
      "file_extension": ".py",
      "mimetype": "text/x-python",
      "name": "python",
      "nbconvert_exporter": "python",
      "pygments_lexer": "ipython3",
      "version": "3.12.1"
    }
  },
  "nbformat": 4,
  "nbformat_minor": 2
}
