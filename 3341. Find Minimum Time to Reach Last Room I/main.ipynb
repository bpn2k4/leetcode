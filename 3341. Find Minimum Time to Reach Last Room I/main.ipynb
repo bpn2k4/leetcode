{
  "cells": [
    {
      "cell_type": "code",
      "execution_count": 1,
      "metadata": {},
      "outputs": [],
      "source": [
        "from typing import List\n",
        "import heapq\n",
        "\n",
        "\n",
        "class Solution:\n",
        "  def minTimeToReach(self, moveTime: List[List[int]]) -> int:\n",
        "    \n",
        "    n, m = len(moveTime), len(moveTime[0])\n",
        "    d = [[999999999999 for _ in range(m)] for _ in range(n)]\n",
        "    visited = [[False for _ in range(m)] for _ in range(n)]\n",
        "    directions = [(1, 0), (-1, 0), (0, 1), (0, -1)]\n",
        "    d[0][0] = 0\n",
        "    queue = [(0, 0, 0)]\n",
        "    while queue:\n",
        "      _, x, y = heapq.heappop(queue)\n",
        "      if visited[x][y]:\n",
        "        continue\n",
        "      visited[x][y] = True\n",
        "      for dx, dy in directions:\n",
        "        nx, ny = x + dx, y + dy\n",
        "        if nx < 0 or nx >= n or ny < 0 or ny >= m:\n",
        "          continue\n",
        "        new_distance = max(d[x][y], moveTime[nx][ny]) + 1\n",
        "        if new_distance < d[nx][ny]:\n",
        "          d[nx][ny] = new_distance\n",
        "          heapq.heappush(queue, (new_distance, nx, ny))\n",
        "    \n",
        "    return d[n - 1][m - 1]"
      ]
    },
    {
      "cell_type": "code",
      "execution_count": 2,
      "metadata": {},
      "outputs": [
        {
          "data": {
            "text/plain": [
              "6"
            ]
          },
          "execution_count": 2,
          "metadata": {},
          "output_type": "execute_result"
        }
      ],
      "source": [
        "moveTime = [[0, 4], [4, 4]]\n",
        "Solution().minTimeToReach(moveTime=moveTime)"
      ]
    },
    {
      "cell_type": "code",
      "execution_count": 3,
      "metadata": {},
      "outputs": [
        {
          "data": {
            "text/plain": [
              "3"
            ]
          },
          "execution_count": 3,
          "metadata": {},
          "output_type": "execute_result"
        }
      ],
      "source": [
        "moveTime = [[0, 0, 0], [0, 0, 0]]\n",
        "Solution().minTimeToReach(moveTime=moveTime)"
      ]
    },
    {
      "cell_type": "code",
      "execution_count": 4,
      "metadata": {},
      "outputs": [
        {
          "data": {
            "text/plain": [
              "3"
            ]
          },
          "execution_count": 4,
          "metadata": {},
          "output_type": "execute_result"
        }
      ],
      "source": [
        "moveTime = [[0, 1], [1, 2]]\n",
        "Solution().minTimeToReach(moveTime=moveTime)"
      ]
    }
  ],
  "metadata": {
    "kernelspec": {
      "display_name": "Python 3",
      "language": "python",
      "name": "python3"
    },
    "language_info": {
      "codemirror_mode": {
        "name": "ipython",
        "version": 3
      },
      "file_extension": ".py",
      "mimetype": "text/x-python",
      "name": "python",
      "nbconvert_exporter": "python",
      "pygments_lexer": "ipython3",
      "version": "3.12.8"
    }
  },
  "nbformat": 4,
  "nbformat_minor": 2
}
