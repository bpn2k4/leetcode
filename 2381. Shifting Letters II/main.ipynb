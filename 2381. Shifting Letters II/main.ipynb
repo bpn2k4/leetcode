{
  "cells": [
    {
      "cell_type": "code",
      "execution_count": 1,
      "metadata": {},
      "outputs": [],
      "source": [
        "from typing import List\n",
        "\n",
        "\n",
        "class Solution:\n",
        "  def shiftingLetters(self, s: str, shifts: List[List[int]]) -> str:\n",
        "\n",
        "    s = list(s)\n",
        "    n = len(s)\n",
        "    change = [0] * (n + 1)\n",
        "    for start, end, direction in shifts:\n",
        "      if direction == 1:\n",
        "        change[start] += 1\n",
        "        change[end + 1] -= 1\n",
        "      else:\n",
        "        change[start] -= 1\n",
        "        change[end + 1] += 1\n",
        "\n",
        "    for i in range(1, n):\n",
        "      change[i] += change[i - 1]\n",
        "\n",
        "    for i in range(n):\n",
        "      new_char_index = (ord(s[i]) - ord('a') + change[i]) % 26\n",
        "      s[i] = chr(ord('a') + new_char_index)\n",
        "\n",
        "    return ''.join(s)"
      ]
    },
    {
      "cell_type": "code",
      "execution_count": 2,
      "metadata": {},
      "outputs": [
        {
          "data": {
            "text/plain": [
              "'ace'"
            ]
          },
          "execution_count": 2,
          "metadata": {},
          "output_type": "execute_result"
        }
      ],
      "source": [
        "s = \"abc\"\n",
        "shifts = [[0, 1, 0], [1, 2, 1], [0, 2, 1]]\n",
        "Solution().shiftingLetters(s=s, shifts=shifts)"
      ]
    },
    {
      "cell_type": "code",
      "execution_count": 3,
      "metadata": {},
      "outputs": [
        {
          "data": {
            "text/plain": [
              "'catz'"
            ]
          },
          "execution_count": 3,
          "metadata": {},
          "output_type": "execute_result"
        }
      ],
      "source": [
        "s = \"dztz\"\n",
        "shifts = [[0, 0, 0], [1, 1, 1]]\n",
        "Solution().shiftingLetters(s=s, shifts=shifts)"
      ]
    }
  ],
  "metadata": {
    "kernelspec": {
      "display_name": "base",
      "language": "python",
      "name": "python3"
    },
    "language_info": {
      "codemirror_mode": {
        "name": "ipython",
        "version": 3
      },
      "file_extension": ".py",
      "mimetype": "text/x-python",
      "name": "python",
      "nbconvert_exporter": "python",
      "pygments_lexer": "ipython3",
      "version": "3.11.7"
    }
  },
  "nbformat": 4,
  "nbformat_minor": 2
}
