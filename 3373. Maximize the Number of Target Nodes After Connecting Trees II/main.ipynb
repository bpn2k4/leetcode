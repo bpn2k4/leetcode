{
  "cells": [
    {
      "cell_type": "code",
      "execution_count": 1,
      "metadata": {},
      "outputs": [],
      "source": [
        "from typing import List\n",
        "from collections import deque\n",
        "\n",
        "\n",
        "class Solution:\n",
        "  def maxTargetNodes(self, edges1: List[List[int]], edges2: List[List[int]]) -> List[int]:\n",
        "    \n",
        "    def find_even(edges: List[List[int]], n: int) -> List[int]:\n",
        "      node2neighbors = {i: [] for i in range(n)}\n",
        "      for u, v in edges:\n",
        "        node2neighbors[u].append(v)\n",
        "        node2neighbors[v].append(u)\n",
        "\n",
        "      queue = deque([(0, -1, True)])\n",
        "      evens = [False] * n\n",
        "      while queue:\n",
        "        node, parent, is_even = queue.popleft()\n",
        "        evens[node] = is_even\n",
        "        for neighbor in node2neighbors[node]:\n",
        "          if neighbor != parent:\n",
        "            queue.append((neighbor, node, not is_even))\n",
        "      \n",
        "      return evens\n",
        "    \n",
        "    n, m = len(edges1) + 1, len(edges2) + 1\n",
        "    evens1 = find_even(edges1, n)\n",
        "    evens2 = find_even(edges2, m)\n",
        "    total1 = sum(evens1)\n",
        "    total2 = sum(evens2)\n",
        "    max_value = max(total2, m - total2)\n",
        "\n",
        "    return [max_value + (total1 if even else n - total1) for even in evens1]"
      ]
    },
    {
      "cell_type": "code",
      "execution_count": 2,
      "metadata": {},
      "outputs": [
        {
          "data": {
            "text/plain": [
              "[8, 7, 7, 8, 8]"
            ]
          },
          "execution_count": 2,
          "metadata": {},
          "output_type": "execute_result"
        }
      ],
      "source": [
        "edges1 = [[0, 1], [0, 2], [2, 3], [2, 4]]\n",
        "edges2 = [[0, 1], [0, 2], [0, 3], [2, 7], [1, 4], [4, 5], [4, 6]]\n",
        "Solution().maxTargetNodes(edges1=edges1, edges2=edges2)"
      ]
    },
    {
      "cell_type": "code",
      "execution_count": 3,
      "metadata": {},
      "outputs": [
        {
          "data": {
            "text/plain": [
              "[3, 6, 6, 6, 6]"
            ]
          },
          "execution_count": 3,
          "metadata": {},
          "output_type": "execute_result"
        }
      ],
      "source": [
        "edges1 = [[0, 1], [0, 2], [0, 3], [0, 4]]\n",
        "edges2 = [[0, 1], [1, 2], [2, 3]]\n",
        "Solution().maxTargetNodes(edges1=edges1, edges2=edges2)"
      ]
    }
  ],
  "metadata": {
    "kernelspec": {
      "display_name": "Python 3",
      "language": "python",
      "name": "python3"
    },
    "language_info": {
      "codemirror_mode": {
        "name": "ipython",
        "version": 3
      },
      "file_extension": ".py",
      "mimetype": "text/x-python",
      "name": "python",
      "nbconvert_exporter": "python",
      "pygments_lexer": "ipython3",
      "version": "3.12.8"
    }
  },
  "nbformat": 4,
  "nbformat_minor": 2
}
