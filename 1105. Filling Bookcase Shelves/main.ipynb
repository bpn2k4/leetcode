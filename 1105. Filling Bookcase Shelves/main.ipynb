{
 "cells": [
  {
   "cell_type": "code",
   "execution_count": 1,
   "metadata": {},
   "outputs": [],
   "source": [
    "from typing import List\n",
    "\n",
    "\n",
    "class Solution:\n",
    "\n",
    "  def minHeightShelves(self, books: List[List[int]], shelfWidth: int) -> int:\n",
    "    n = len(books)\n",
    "    dp = [999999999] * (n + 1)\n",
    "    dp[0] = 0\n",
    "\n",
    "    for i in range(1, n + 1):\n",
    "      cur_width = 0\n",
    "      cur_height = 0\n",
    "\n",
    "      for j in range(i, 0, -1):\n",
    "        cur_width += books[j-1][0]\n",
    "        if cur_width > shelfWidth:\n",
    "          break\n",
    "        cur_height = max(cur_height, books[j-1][1])\n",
    "        dp[i] = min(dp[i], dp[j-1] + cur_height)\n",
    "\n",
    "    return dp[n]"
   ]
  },
  {
   "cell_type": "code",
   "execution_count": 2,
   "metadata": {},
   "outputs": [
    {
     "data": {
      "text/plain": [
       "6"
      ]
     },
     "execution_count": 2,
     "metadata": {},
     "output_type": "execute_result"
    }
   ],
   "source": [
    "Solution().minHeightShelves(\n",
    "    books=[\n",
    "        [1, 1],\n",
    "        [2, 3],\n",
    "        [2, 3],\n",
    "        [1, 1],\n",
    "        [1, 1],\n",
    "        [1, 1],\n",
    "        [1, 2]\n",
    "    ],\n",
    "    shelfWidth=4\n",
    ")"
   ]
  },
  {
   "cell_type": "code",
   "execution_count": 3,
   "metadata": {},
   "outputs": [
    {
     "data": {
      "text/plain": [
       "4"
      ]
     },
     "execution_count": 3,
     "metadata": {},
     "output_type": "execute_result"
    }
   ],
   "source": [
    "Solution().minHeightShelves(\n",
    "    books=[\n",
    "        [1, 3],\n",
    "        [2, 4],\n",
    "        [3, 2]\n",
    "    ],\n",
    "    shelfWidth=6\n",
    ")"
   ]
  }
 ],
 "metadata": {
  "kernelspec": {
   "display_name": "base",
   "language": "python",
   "name": "python3"
  },
  "language_info": {
   "codemirror_mode": {
    "name": "ipython",
    "version": 3
   },
   "file_extension": ".py",
   "mimetype": "text/x-python",
   "name": "python",
   "nbconvert_exporter": "python",
   "pygments_lexer": "ipython3",
   "version": "3.11.7"
  }
 },
 "nbformat": 4,
 "nbformat_minor": 2
}
