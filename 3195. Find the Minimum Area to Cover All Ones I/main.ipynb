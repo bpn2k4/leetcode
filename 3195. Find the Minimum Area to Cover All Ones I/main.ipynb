{
  "cells": [
    {
      "cell_type": "code",
      "execution_count": 1,
      "metadata": {},
      "outputs": [],
      "source": [
        "from typing import List\n",
        "\n",
        "\n",
        "class Solution:\n",
        "  def minimumArea(self, grid: List[List[int]]) -> int:\n",
        "    \n",
        "    m, n = len(grid), len(grid[0])\n",
        "    top = left = -1\n",
        "    bottom = m\n",
        "    right = n\n",
        "    for i in range(m):\n",
        "      for j in range(n):\n",
        "        if grid[i][j] == 1:\n",
        "          top = i\n",
        "          break\n",
        "      if top != -1:\n",
        "        break\n",
        "    \n",
        "    for i in range(m - 1, -1, -1):\n",
        "      for j in range(n):\n",
        "        if grid[i][j] == 1:\n",
        "          bottom = i\n",
        "          break\n",
        "      if bottom != m:\n",
        "        break\n",
        "    \n",
        "    for j in range(n):\n",
        "      for i in range(m):\n",
        "        if grid[i][j] == 1:\n",
        "          left = j\n",
        "          break\n",
        "      if left != -1:\n",
        "        break\n",
        "    \n",
        "    for j in range(n - 1, -1, -1):\n",
        "      for i in range(m):\n",
        "        if grid[i][j] == 1:\n",
        "          right = j\n",
        "          break\n",
        "      if right != n:\n",
        "        break\n",
        "    \n",
        "    return (bottom - top + 1) * (right - left + 1) "
      ]
    },
    {
      "cell_type": "code",
      "execution_count": 2,
      "metadata": {},
      "outputs": [
        {
          "data": {
            "text/plain": [
              "6"
            ]
          },
          "execution_count": 2,
          "metadata": {},
          "output_type": "execute_result"
        }
      ],
      "source": [
        "grid = [[0, 1, 0], [1, 0, 1]]\n",
        "Solution().minimumArea(grid=grid)"
      ]
    },
    {
      "cell_type": "code",
      "execution_count": 3,
      "metadata": {},
      "outputs": [
        {
          "data": {
            "text/plain": [
              "1"
            ]
          },
          "execution_count": 3,
          "metadata": {},
          "output_type": "execute_result"
        }
      ],
      "source": [
        "grid = [[1, 0], [0, 0]]\n",
        "Solution().minimumArea(grid=grid)"
      ]
    }
  ],
  "metadata": {
    "kernelspec": {
      "display_name": "Python 3",
      "language": "python",
      "name": "python3"
    },
    "language_info": {
      "codemirror_mode": {
        "name": "ipython",
        "version": 3
      },
      "file_extension": ".py",
      "mimetype": "text/x-python",
      "name": "python",
      "nbconvert_exporter": "python",
      "pygments_lexer": "ipython3",
      "version": "3.12.8"
    }
  },
  "nbformat": 4,
  "nbformat_minor": 2
}
