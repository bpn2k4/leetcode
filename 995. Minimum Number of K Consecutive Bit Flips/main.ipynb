{
 "cells": [
  {
   "cell_type": "code",
   "execution_count": 1,
   "metadata": {},
   "outputs": [],
   "source": [
    "from typing import List\n",
    "\n",
    "\n",
    "class Solution:\n",
    "  def minKBitFlips(self, nums: List[int], k: int) -> int:\n",
    "    n = len(nums)\n",
    "    flips = 0\n",
    "    flip_effect = [0] * n\n",
    "    current_flips = 0\n",
    "    \n",
    "    for i in range(n):\n",
    "      if i >= k:\n",
    "        current_flips ^= flip_effect[i - k]\n",
    "        \n",
    "      if current_flips % 2 == nums[i]:\n",
    "        if i + k > n:\n",
    "          return -1\n",
    "            \n",
    "        flips += 1\n",
    "        current_flips ^= 1\n",
    "        flip_effect[i] = 1\n",
    "    \n",
    "    return flips"
   ]
  },
  {
   "cell_type": "code",
   "execution_count": 2,
   "metadata": {},
   "outputs": [
    {
     "data": {
      "text/plain": [
       "2"
      ]
     },
     "execution_count": 2,
     "metadata": {},
     "output_type": "execute_result"
    }
   ],
   "source": [
    "Solution().minKBitFlips(nums=[0, 1, 0], k=1)"
   ]
  },
  {
   "cell_type": "code",
   "execution_count": 3,
   "metadata": {},
   "outputs": [
    {
     "data": {
      "text/plain": [
       "-1"
      ]
     },
     "execution_count": 3,
     "metadata": {},
     "output_type": "execute_result"
    }
   ],
   "source": [
    "Solution().minKBitFlips(nums=[1, 1, 0], k=2)"
   ]
  },
  {
   "cell_type": "code",
   "execution_count": 4,
   "metadata": {},
   "outputs": [
    {
     "data": {
      "text/plain": [
       "3"
      ]
     },
     "execution_count": 4,
     "metadata": {},
     "output_type": "execute_result"
    }
   ],
   "source": [
    "Solution().minKBitFlips(nums=[0, 0, 0, 1, 0, 1, 1, 0], k=3)"
   ]
  }
 ],
 "metadata": {
  "kernelspec": {
   "display_name": "base",
   "language": "python",
   "name": "python3"
  },
  "language_info": {
   "codemirror_mode": {
    "name": "ipython",
    "version": 3
   },
   "file_extension": ".py",
   "mimetype": "text/x-python",
   "name": "python",
   "nbconvert_exporter": "python",
   "pygments_lexer": "ipython3",
   "version": "3.11.7"
  }
 },
 "nbformat": 4,
 "nbformat_minor": 2
}
