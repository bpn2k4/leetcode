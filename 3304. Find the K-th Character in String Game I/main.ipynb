{
  "cells": [
    {
      "cell_type": "code",
      "execution_count": 1,
      "metadata": {},
      "outputs": [],
      "source": [
        "class Solution:\n",
        "  def kthCharacter(self, k: int) -> str:\n",
        "    return \"\"\"\n",
        "    abbcbccdbccdcddebccdcddecddedeefbccdcddecddedeefcddedeefd\n",
        "    eefeffgbccdcddecddedeefcddedeefdeefeffgcddedeefdeefeffgde\n",
        "    efeffgeffgfgghbccdcddecddedeefcddedeefdeefeffgcddedeefdee\n",
        "    feffgdeefeffgeffgfgghcddedeefdeefeffgdeefeffgeffgfgghdeef\n",
        "    effgeffgfggheffgfgghfgghghhibccdcddecddedeefcddedeefdeefe\n",
        "    ffgcddedeefdeefeffgdeefeffgeffgfgghcddedeefdeefeffgdeefef\n",
        "    fgeffgfgghdeefeffgeffgfggheffgfgghfgghghhicddedeefdeefeff\n",
        "    gdeefeffgeffgfgghdeefeffgeffgfggheffgfgghfgghghhideefeffg\n",
        "    effgfggheffgfgghfgghghhieffgfgghfgghghhifgghghhighhihiij\n",
        "    \"\"\".strip().replace('\\n', '').replace(' ', '')[k - 1]"
      ]
    },
    {
      "cell_type": "code",
      "execution_count": 2,
      "metadata": {},
      "outputs": [
        {
          "data": {
            "text/plain": [
              "'b'"
            ]
          },
          "execution_count": 2,
          "metadata": {},
          "output_type": "execute_result"
        }
      ],
      "source": [
        "k = 5\n",
        "Solution().kthCharacter(k=k)"
      ]
    },
    {
      "cell_type": "code",
      "execution_count": 3,
      "metadata": {},
      "outputs": [
        {
          "data": {
            "text/plain": [
              "'c'"
            ]
          },
          "execution_count": 3,
          "metadata": {},
          "output_type": "execute_result"
        }
      ],
      "source": [
        "k = 10\n",
        "Solution().kthCharacter(k=k)"
      ]
    }
  ],
  "metadata": {
    "kernelspec": {
      "display_name": "Python 3",
      "language": "python",
      "name": "python3"
    },
    "language_info": {
      "codemirror_mode": {
        "name": "ipython",
        "version": 3
      },
      "file_extension": ".py",
      "mimetype": "text/x-python",
      "name": "python",
      "nbconvert_exporter": "python",
      "pygments_lexer": "ipython3",
      "version": "3.12.8"
    }
  },
  "nbformat": 4,
  "nbformat_minor": 2
}
