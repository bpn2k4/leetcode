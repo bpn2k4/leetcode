{
 "cells": [
  {
   "cell_type": "code",
   "execution_count": 5,
   "metadata": {},
   "outputs": [],
   "source": [
    "from typing import List, Optional\n",
    "\n",
    "\n",
    "class TreeNode:\n",
    "  def __init__(self, val=0, left=None, right=None):\n",
    "    self.val: int = val\n",
    "    self.left: TreeNode = left\n",
    "    self.right: TreeNode = right\n",
    "\n",
    "\n",
    "class Solution:\n",
    "  def delNodes(self, root: Optional[TreeNode], to_delete: List[int]) -> List[TreeNode]:\n",
    "    to_delete_set = set(to_delete)\n",
    "    result = []\n",
    "\n",
    "    def dfs(node: TreeNode | None, is_root: bool):\n",
    "      if not node:\n",
    "        return None\n",
    "      root_deleted = node.val in to_delete_set\n",
    "      if is_root and not root_deleted:\n",
    "        result.append(node)\n",
    "      node.left = dfs(node.left, root_deleted)\n",
    "      node.right = dfs(node.right, root_deleted)\n",
    "      return None if root_deleted else node\n",
    "\n",
    "    dfs(root, True)\n",
    "    \n",
    "    return result"
   ]
  },
  {
   "cell_type": "code",
   "execution_count": 6,
   "metadata": {},
   "outputs": [],
   "source": [
    "def print_tree(root: TreeNode):\n",
    "  if not root:\n",
    "    print([])\n",
    "  result = []\n",
    "  q = [root]\n",
    "  while q:\n",
    "    node = q.pop(0)\n",
    "    if node:\n",
    "      result.append(node.val)\n",
    "      q.append(node.left)\n",
    "      q.append(node.right)\n",
    "    else:\n",
    "      result.append(None)\n",
    "  while result and result[-1] is None:\n",
    "    result.pop()\n",
    "  print(result)"
   ]
  },
  {
   "cell_type": "code",
   "execution_count": 7,
   "metadata": {},
   "outputs": [
    {
     "name": "stdout",
     "output_type": "stream",
     "text": [
      "[1, 2, None, 4]\n",
      "[6]\n",
      "[7]\n"
     ]
    }
   ],
   "source": [
    "root = TreeNode(1)\n",
    "root.left = TreeNode(2)\n",
    "root.right = TreeNode(3)\n",
    "root.left.left = TreeNode(4)\n",
    "root.left.right = TreeNode(5)\n",
    "root.right.left = TreeNode(6)\n",
    "root.right.right = TreeNode(7)\n",
    "for node in Solution().delNodes(root, to_delete=[3, 5]):\n",
    "  print_tree(node)"
   ]
  },
  {
   "cell_type": "code",
   "execution_count": 8,
   "metadata": {},
   "outputs": [
    {
     "name": "stdout",
     "output_type": "stream",
     "text": [
      "[1, 2, 4]\n"
     ]
    }
   ],
   "source": [
    "root = TreeNode(1)\n",
    "root.left = TreeNode(2)\n",
    "root.right = TreeNode(4)\n",
    "root.left.right = TreeNode(3)\n",
    "for node in Solution().delNodes(root, [3]):\n",
    "  print_tree(node)"
   ]
  }
 ],
 "metadata": {
  "kernelspec": {
   "display_name": "base",
   "language": "python",
   "name": "python3"
  },
  "language_info": {
   "codemirror_mode": {
    "name": "ipython",
    "version": 3
   },
   "file_extension": ".py",
   "mimetype": "text/x-python",
   "name": "python",
   "nbconvert_exporter": "python",
   "pygments_lexer": "ipython3",
   "version": "3.11.7"
  }
 },
 "nbformat": 4,
 "nbformat_minor": 2
}
