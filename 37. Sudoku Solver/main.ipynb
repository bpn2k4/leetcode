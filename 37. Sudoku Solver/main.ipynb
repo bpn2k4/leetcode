{
 "cells": [
  {
   "cell_type": "code",
   "execution_count": 1,
   "metadata": {},
   "outputs": [],
   "source": [
    "from typing import List\n",
    "\n",
    "\n",
    "class Solution:\n",
    "  def solveSudoku(self, board: List[List[str]]) -> None:\n",
    "\n",
    "    mark_row = [[False for _ in range(10)] for _ in range(10)]\n",
    "    mark_col = [[False for _ in range(10)] for _ in range(10)]\n",
    "    mark_box = [[[False for _ in range(10)] for _ in range(3)] for _ in range(3)]\n",
    "\n",
    "    def is_valid(r: int, c: int, num: int):\n",
    "\n",
    "      if mark_row[r][num] or mark_col[c][num] or mark_box[r // 3][c // 3][num]:\n",
    "        return False\n",
    "\n",
    "      return True\n",
    "\n",
    "    for r in range(9):\n",
    "      for c in range(9):\n",
    "        if board[r][c] != \".\":\n",
    "          num = int(board[r][c])\n",
    "          mark_row[r][num] = True\n",
    "          mark_col[c][num] = True\n",
    "          mark_box[r // 3][c // 3][num] = True\n",
    "\n",
    "    def TRY(r: int, c: int):\n",
    "\n",
    "      if r == 9:\n",
    "        return True\n",
    "      \n",
    "      if c == 9:\n",
    "        return TRY(r + 1, 0)\n",
    "      \n",
    "      if board[r][c] != \".\":\n",
    "        return TRY(r, c + 1)\n",
    "      \n",
    "      for num in range(1, 10):\n",
    "        if is_valid(r, c, num):\n",
    "          board[r][c] = str(num)\n",
    "          mark_row[r][num] = True\n",
    "          mark_col[c][num] = True\n",
    "          mark_box[r // 3][c // 3][num] = True\n",
    "\n",
    "          if TRY(r, c + 1):\n",
    "            return True\n",
    "          \n",
    "          mark_row[r][num] = False\n",
    "          mark_col[c][num] = False\n",
    "          mark_box[r // 3][c // 3][num] = False\n",
    "          board[r][c] = \".\"\n",
    "\n",
    "      return False\n",
    "\n",
    "    TRY(0, 0)"
   ]
  },
  {
   "cell_type": "code",
   "execution_count": 2,
   "metadata": {},
   "outputs": [
    {
     "name": "stdout",
     "output_type": "stream",
     "text": [
      "['5', '3', '4', '6', '7', '8', '9', '1', '2']\n",
      "['6', '7', '2', '1', '9', '5', '3', '4', '8']\n",
      "['1', '9', '8', '3', '4', '2', '5', '6', '7']\n",
      "['8', '5', '9', '7', '6', '1', '4', '2', '3']\n",
      "['4', '2', '6', '8', '5', '3', '7', '9', '1']\n",
      "['7', '1', '3', '9', '2', '4', '8', '5', '6']\n",
      "['9', '6', '1', '5', '3', '7', '2', '8', '4']\n",
      "['2', '8', '7', '4', '1', '9', '6', '3', '5']\n",
      "['3', '4', '5', '2', '8', '6', '1', '7', '9']\n"
     ]
    }
   ],
   "source": [
    "board=[\n",
    "        [\"5\", \"3\", \".\", \".\", \"7\", \".\", \".\", \".\", \".\"],\n",
    "        [\"6\", \".\", \".\", \"1\", \"9\", \"5\", \".\", \".\", \".\"],\n",
    "        [\".\", \"9\", \"8\", \".\", \".\", \".\", \".\", \"6\", \".\"],\n",
    "        [\"8\", \".\", \".\", \".\", \"6\", \".\", \".\", \".\", \"3\"],\n",
    "        [\"4\", \".\", \".\", \"8\", \".\", \"3\", \".\", \".\", \"1\"],\n",
    "        [\"7\", \".\", \".\", \".\", \"2\", \".\", \".\", \".\", \"6\"],\n",
    "        [\".\", \"6\", \".\", \".\", \".\", \".\", \"2\", \"8\", \".\"],\n",
    "        [\".\", \".\", \".\", \"4\", \"1\", \"9\", \".\", \".\", \"5\"],\n",
    "        [\".\", \".\", \".\", \".\", \"8\", \".\", \".\", \"7\", \"9\"]\n",
    "]\n",
    "Solution().solveSudoku(board=board)\n",
    "for i in board:\n",
    "  print(i)"
   ]
  }
 ],
 "metadata": {
  "kernelspec": {
   "display_name": "base",
   "language": "python",
   "name": "python3"
  },
  "language_info": {
   "codemirror_mode": {
    "name": "ipython",
    "version": 3
   },
   "file_extension": ".py",
   "mimetype": "text/x-python",
   "name": "python",
   "nbconvert_exporter": "python",
   "pygments_lexer": "ipython3",
   "version": "3.11.7"
  }
 },
 "nbformat": 4,
 "nbformat_minor": 2
}
