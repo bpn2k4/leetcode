{
  "cells": [
    {
      "cell_type": "code",
      "execution_count": 1,
      "metadata": {},
      "outputs": [],
      "source": [
        "from typing import List\n",
        "\n",
        "\n",
        "class Solution:\n",
        "  def minOperations(self, boxes: str) -> List[int]:\n",
        "\n",
        "    n = len(boxes)\n",
        "    answer = [0] * n\n",
        "    count = 0\n",
        "    steps = 0\n",
        "    for i in range(n):\n",
        "      answer[i] += steps\n",
        "      if boxes[i] == '1':\n",
        "        count += 1\n",
        "      steps += count\n",
        "\n",
        "    count = 0\n",
        "    steps = 0\n",
        "    for i in range(n - 1, -1, -1):\n",
        "      answer[i] += steps\n",
        "      if boxes[i] == '1':\n",
        "        count += 1\n",
        "      steps += count\n",
        "\n",
        "    return answer"
      ]
    },
    {
      "cell_type": "code",
      "execution_count": 2,
      "metadata": {},
      "outputs": [
        {
          "data": {
            "text/plain": [
              "[1, 1, 3]"
            ]
          },
          "execution_count": 2,
          "metadata": {},
          "output_type": "execute_result"
        }
      ],
      "source": [
        "boxes = \"110\"\n",
        "Solution().minOperations(boxes=boxes)"
      ]
    },
    {
      "cell_type": "code",
      "execution_count": 3,
      "metadata": {},
      "outputs": [
        {
          "data": {
            "text/plain": [
              "[11, 8, 5, 4, 3, 4]"
            ]
          },
          "execution_count": 3,
          "metadata": {},
          "output_type": "execute_result"
        }
      ],
      "source": [
        "boxes = \"001011\"\n",
        "Solution().minOperations(boxes=boxes)"
      ]
    }
  ],
  "metadata": {
    "kernelspec": {
      "display_name": "base",
      "language": "python",
      "name": "python3"
    },
    "language_info": {
      "codemirror_mode": {
        "name": "ipython",
        "version": 3
      },
      "file_extension": ".py",
      "mimetype": "text/x-python",
      "name": "python",
      "nbconvert_exporter": "python",
      "pygments_lexer": "ipython3",
      "version": "3.11.7"
    }
  },
  "nbformat": 4,
  "nbformat_minor": 2
}
