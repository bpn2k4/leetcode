{
  "cells": [
    {
      "cell_type": "code",
      "execution_count": 1,
      "metadata": {},
      "outputs": [],
      "source": [
        "from typing import List\n",
        "from collections import Counter\n",
        "\n",
        "\n",
        "class Solution:\n",
        "  def minCost(self, basket1: List[int], basket2: List[int]) -> int:\n",
        "    \n",
        "    total_count = Counter(basket1) + Counter(basket2)\n",
        "\n",
        "    for v in total_count.values():\n",
        "      if v % 2 != 0:\n",
        "        return -1\n",
        "\n",
        "    count1 = Counter(basket1)\n",
        "    count2 = Counter(basket2)\n",
        "\n",
        "    to_move = []\n",
        "\n",
        "    for fruit in total_count:\n",
        "      diff = count1[fruit] - count2[fruit]\n",
        "      if diff > 0:\n",
        "        to_move.extend([fruit] * (diff // 2))\n",
        "      elif diff < 0:\n",
        "        to_move.extend([fruit] * (-diff // 2))\n",
        "\n",
        "    to_move.sort()\n",
        "    min_val = min(basket1 + basket2)\n",
        "\n",
        "    cost = 0\n",
        "    for i in range(len(to_move) // 2):\n",
        "      a = to_move[i]\n",
        "      b = to_move[-(i + 1)]\n",
        "      cost += min(2 * min_val, min(a, b))\n",
        "\n",
        "    return cost"
      ]
    },
    {
      "cell_type": "code",
      "execution_count": 2,
      "metadata": {},
      "outputs": [
        {
          "data": {
            "text/plain": [
              "1"
            ]
          },
          "execution_count": 2,
          "metadata": {},
          "output_type": "execute_result"
        }
      ],
      "source": [
        "basket1 = [4, 2, 2, 2]\n",
        "basket2 = [1, 4, 1, 2]\n",
        "Solution().minCost(basket1=basket1, basket2=basket2)"
      ]
    },
    {
      "cell_type": "code",
      "execution_count": 3,
      "metadata": {},
      "outputs": [
        {
          "data": {
            "text/plain": [
              "-1"
            ]
          },
          "execution_count": 3,
          "metadata": {},
          "output_type": "execute_result"
        }
      ],
      "source": [
        "basket1 = [2, 3, 4, 1]\n",
        "basket2 = [3, 2, 5, 1]\n",
        "Solution().minCost(basket1=basket1, basket2=basket2)"
      ]
    }
  ],
  "metadata": {
    "kernelspec": {
      "display_name": "Python 3",
      "language": "python",
      "name": "python3"
    },
    "language_info": {
      "codemirror_mode": {
        "name": "ipython",
        "version": 3
      },
      "file_extension": ".py",
      "mimetype": "text/x-python",
      "name": "python",
      "nbconvert_exporter": "python",
      "pygments_lexer": "ipython3",
      "version": "3.12.1"
    }
  },
  "nbformat": 4,
  "nbformat_minor": 2
}
