{
  "cells": [
    {
      "cell_type": "code",
      "execution_count": 1,
      "metadata": {},
      "outputs": [],
      "source": [
        "class Solution:\n",
        "  def canBeTypedWords(self, text: str, brokenLetters: str) -> int:\n",
        "    \n",
        "    word_count = 0\n",
        "    broken_letters = set(brokenLetters)\n",
        "    for word in text.split():\n",
        "      for char in word:\n",
        "        if char in broken_letters:\n",
        "          break\n",
        "      else:\n",
        "        word_count += 1\n",
        "    \n",
        "    return word_count"
      ]
    },
    {
      "cell_type": "code",
      "execution_count": 2,
      "metadata": {},
      "outputs": [
        {
          "data": {
            "text/plain": [
              "1"
            ]
          },
          "execution_count": 2,
          "metadata": {},
          "output_type": "execute_result"
        }
      ],
      "source": [
        "text = \"hello world\"\n",
        "brokenLetters = \"ad\"\n",
        "Solution().canBeTypedWords(text=text, brokenLetters=brokenLetters)"
      ]
    },
    {
      "cell_type": "code",
      "execution_count": 3,
      "metadata": {},
      "outputs": [
        {
          "data": {
            "text/plain": [
              "1"
            ]
          },
          "execution_count": 3,
          "metadata": {},
          "output_type": "execute_result"
        }
      ],
      "source": [
        "text = \"leet code\"\n",
        "brokenLetters = \"lt\"\n",
        "Solution().canBeTypedWords(text=text, brokenLetters=brokenLetters)"
      ]
    },
    {
      "cell_type": "code",
      "execution_count": 4,
      "metadata": {},
      "outputs": [
        {
          "data": {
            "text/plain": [
              "0"
            ]
          },
          "execution_count": 4,
          "metadata": {},
          "output_type": "execute_result"
        }
      ],
      "source": [
        "text = \"leet code\"\n",
        "brokenLetters = \"e\"\n",
        "Solution().canBeTypedWords(text=text, brokenLetters=brokenLetters)"
      ]
    }
  ],
  "metadata": {
    "kernelspec": {
      "display_name": "Python 3",
      "language": "python",
      "name": "python3"
    },
    "language_info": {
      "codemirror_mode": {
        "name": "ipython",
        "version": 3
      },
      "file_extension": ".py",
      "mimetype": "text/x-python",
      "name": "python",
      "nbconvert_exporter": "python",
      "pygments_lexer": "ipython3",
      "version": "3.12.8"
    }
  },
  "nbformat": 4,
  "nbformat_minor": 2
}
