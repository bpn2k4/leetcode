{
  "cells": [
    {
      "cell_type": "code",
      "execution_count": 1,
      "metadata": {},
      "outputs": [],
      "source": [
        "from typing import List\n",
        "from collections import deque, defaultdict\n",
        "\n",
        "\n",
        "class Solution:\n",
        "  def eventualSafeNodes(self, graph: List[List[int]]) -> List[int]:\n",
        "\n",
        "    n = len(graph)\n",
        "    reverse_graph = defaultdict(list)\n",
        "    indegree = [0] * n\n",
        "\n",
        "    for u in range(n):\n",
        "      for v in graph[u]:\n",
        "        reverse_graph[v].append(u)\n",
        "      indegree[u] = len(graph[u])\n",
        "\n",
        "    queue = deque()\n",
        "    for i in range(n):\n",
        "      if indegree[i] == 0:\n",
        "        queue.append(i)\n",
        "\n",
        "    safe_nodes = []\n",
        "\n",
        "    while queue:\n",
        "      node = queue.popleft()\n",
        "      safe_nodes.append(node)\n",
        "      for neighbor in reverse_graph[node]:\n",
        "        indegree[neighbor] -= 1\n",
        "        if indegree[neighbor] == 0:\n",
        "          queue.append(neighbor)\n",
        "\n",
        "    return sorted(safe_nodes)"
      ]
    },
    {
      "cell_type": "code",
      "execution_count": 2,
      "metadata": {},
      "outputs": [
        {
          "data": {
            "text/plain": [
              "[2, 4, 5, 6]"
            ]
          },
          "execution_count": 2,
          "metadata": {},
          "output_type": "execute_result"
        }
      ],
      "source": [
        "graph = [[1, 2], [2, 3], [5], [0], [5], [], []]\n",
        "Solution().eventualSafeNodes(graph=graph)"
      ]
    },
    {
      "cell_type": "code",
      "execution_count": 3,
      "metadata": {},
      "outputs": [
        {
          "data": {
            "text/plain": [
              "[4]"
            ]
          },
          "execution_count": 3,
          "metadata": {},
          "output_type": "execute_result"
        }
      ],
      "source": [
        "graph = [[1, 2, 3, 4], [1, 2], [3, 4], [0, 4], []]\n",
        "Solution().eventualSafeNodes(graph=graph)"
      ]
    }
  ],
  "metadata": {
    "kernelspec": {
      "display_name": "base",
      "language": "python",
      "name": "python3"
    },
    "language_info": {
      "codemirror_mode": {
        "name": "ipython",
        "version": 3
      },
      "file_extension": ".py",
      "mimetype": "text/x-python",
      "name": "python",
      "nbconvert_exporter": "python",
      "pygments_lexer": "ipython3",
      "version": "3.11.7"
    }
  },
  "nbformat": 4,
  "nbformat_minor": 2
}
