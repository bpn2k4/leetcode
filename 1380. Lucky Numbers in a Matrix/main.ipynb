{
 "cells": [
  {
   "cell_type": "code",
   "execution_count": 6,
   "metadata": {},
   "outputs": [],
   "source": [
    "from typing import List\n",
    "\n",
    "\n",
    "class Solution:\n",
    "  def luckyNumbers(self, matrix: List[List[int]]) -> List[int]:\n",
    "    min_row = []\n",
    "    for row in matrix:\n",
    "      min_row.append(min(row))\n",
    "    max_col = []\n",
    "    for i in range(len(matrix[0])):\n",
    "      max_col.append(max(matrix[j][i] for j in range(len(matrix))))\n",
    "    result = []\n",
    "    for i in range(len(matrix)):\n",
    "      for j in range(len(matrix[0])):\n",
    "        if matrix[i][j] == min_row[i] and matrix[i][j] == max_col[j]:\n",
    "          result.append(matrix[i][j])\n",
    "    return result\n",
    "      "
   ]
  },
  {
   "cell_type": "code",
   "execution_count": 7,
   "metadata": {},
   "outputs": [
    {
     "data": {
      "text/plain": [
       "[15]"
      ]
     },
     "execution_count": 7,
     "metadata": {},
     "output_type": "execute_result"
    }
   ],
   "source": [
    "Solution().luckyNumbers(matrix=[\n",
    "    [3, 7, 8],\n",
    "    [9, 11, 13],\n",
    "    [15, 16, 17]\n",
    "])"
   ]
  },
  {
   "cell_type": "code",
   "execution_count": 8,
   "metadata": {},
   "outputs": [
    {
     "data": {
      "text/plain": [
       "[12]"
      ]
     },
     "execution_count": 8,
     "metadata": {},
     "output_type": "execute_result"
    }
   ],
   "source": [
    "Solution().luckyNumbers(matrix=[\n",
    "    [1, 10, 4, 2],\n",
    "    [9, 3, 8, 7],\n",
    "    [15, 16, 17, 12]\n",
    "])"
   ]
  },
  {
   "cell_type": "code",
   "execution_count": 9,
   "metadata": {},
   "outputs": [
    {
     "data": {
      "text/plain": [
       "[7]"
      ]
     },
     "execution_count": 9,
     "metadata": {},
     "output_type": "execute_result"
    }
   ],
   "source": [
    "Solution().luckyNumbers(matrix=[\n",
    "    [7, 8],\n",
    "    [1, 2]\n",
    "])"
   ]
  }
 ],
 "metadata": {
  "kernelspec": {
   "display_name": "base",
   "language": "python",
   "name": "python3"
  },
  "language_info": {
   "codemirror_mode": {
    "name": "ipython",
    "version": 3
   },
   "file_extension": ".py",
   "mimetype": "text/x-python",
   "name": "python",
   "nbconvert_exporter": "python",
   "pygments_lexer": "ipython3",
   "version": "3.11.7"
  }
 },
 "nbformat": 4,
 "nbformat_minor": 2
}
