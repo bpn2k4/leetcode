{
 "cells": [
  {
   "cell_type": "code",
   "execution_count": 1,
   "metadata": {},
   "outputs": [],
   "source": [
    "from typing import Optional\n",
    "from collections import deque\n",
    "\n",
    "\n",
    "class TreeNode:\n",
    "  def __init__(self, val=0, left=None, right=None):\n",
    "    self.val = val\n",
    "    self.left: Optional[TreeNode] = left\n",
    "    self.right: Optional[TreeNode] = right\n",
    "\n",
    "\n",
    "class Solution:\n",
    "  def reverseOddLevels(self, root: Optional[TreeNode]) -> Optional[TreeNode]:\n",
    "    if not root:\n",
    "      return root\n",
    "\n",
    "    queue = deque([root])\n",
    "    level = 0\n",
    "\n",
    "    while queue:\n",
    "      level_size = len(queue)\n",
    "      current_level_nodes: list[TreeNode] = []\n",
    "\n",
    "      for _ in range(level_size):\n",
    "        node = queue.popleft()\n",
    "        if level % 2 == 1:\n",
    "          current_level_nodes.append(node)\n",
    "        if node.left:\n",
    "          queue.append(node.left)\n",
    "        if node.right:\n",
    "          queue.append(node.right)\n",
    "\n",
    "      if level % 2 == 1:\n",
    "        values = [node.val for node in current_level_nodes]\n",
    "        values.reverse()\n",
    "        for i, node in enumerate(current_level_nodes):\n",
    "          node.val = values[i]\n",
    "\n",
    "      level += 1\n",
    "\n",
    "    return root"
   ]
  },
  {
   "cell_type": "code",
   "execution_count": 2,
   "metadata": {},
   "outputs": [],
   "source": [
    "def print_tree(root: TreeNode):\n",
    "  if not root:\n",
    "    print([])\n",
    "  result = []\n",
    "  q = [root]\n",
    "  while q:\n",
    "    node = q.pop(0)\n",
    "    if node:\n",
    "      result.append(node.val)\n",
    "      q.append(node.left)\n",
    "      q.append(node.right)\n",
    "    else:\n",
    "      result.append(None)\n",
    "  while result and result[-1] is None:\n",
    "    result.pop()\n",
    "  print(result)"
   ]
  },
  {
   "cell_type": "code",
   "execution_count": 3,
   "metadata": {},
   "outputs": [
    {
     "name": "stdout",
     "output_type": "stream",
     "text": [
      "[2, 3, 5, 8, 13, 21, 34]\n",
      "[2, 5, 3, 8, 13, 21, 34]\n"
     ]
    }
   ],
   "source": [
    "root = TreeNode(2)\n",
    "root.left = TreeNode(3)\n",
    "root.right = TreeNode(5)\n",
    "root.left.left = TreeNode(8)\n",
    "root.left.right = TreeNode(13)\n",
    "root.right.left = TreeNode(21)\n",
    "root.right.right = TreeNode(34)\n",
    "print_tree(root)\n",
    "print_tree(Solution().reverseOddLevels(root))"
   ]
  },
  {
   "cell_type": "code",
   "execution_count": 4,
   "metadata": {},
   "outputs": [
    {
     "name": "stdout",
     "output_type": "stream",
     "text": [
      "[7, 13, 11]\n",
      "[7, 11, 13]\n"
     ]
    }
   ],
   "source": [
    "root = TreeNode(7)\n",
    "root.left = TreeNode(13)\n",
    "root.right = TreeNode(11)\n",
    "print_tree(root)\n",
    "print_tree(Solution().reverseOddLevels(root))"
   ]
  }
 ],
 "metadata": {
  "kernelspec": {
   "display_name": "base",
   "language": "python",
   "name": "python3"
  },
  "language_info": {
   "codemirror_mode": {
    "name": "ipython",
    "version": 3
   },
   "file_extension": ".py",
   "mimetype": "text/x-python",
   "name": "python",
   "nbconvert_exporter": "python",
   "pygments_lexer": "ipython3",
   "version": "3.11.7"
  }
 },
 "nbformat": 4,
 "nbformat_minor": 2
}
