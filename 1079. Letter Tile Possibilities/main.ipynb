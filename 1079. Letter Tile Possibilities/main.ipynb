{
  "cells": [
    {
      "cell_type": "code",
      "execution_count": 1,
      "metadata": {},
      "outputs": [],
      "source": [
        "from collections import Counter\n",
        "\n",
        "class Solution:\n",
        "  def numTilePossibilities(self, tiles: str) -> int:\n",
        "\n",
        "    n = len(tiles)\n",
        "    sequences = []\n",
        "    char2count = {}\n",
        "    for char in tiles:\n",
        "      char2count[char] = char2count.get(char, 0) + 1\n",
        "\n",
        "    arr = [''] * n\n",
        "\n",
        "    def back_tracking(k, n, char2count):\n",
        "      for char, count in char2count.items():\n",
        "        if count > 0:\n",
        "          arr[k] = char\n",
        "          char2count[char] -= 1\n",
        "          if k == n - 1:\n",
        "            sequences.append(''.join(arr[:k+1]))\n",
        "          else:\n",
        "            back_tracking(k + 1, n, char2count)\n",
        "          char2count[char] += 1\n",
        "\n",
        "    for i in range(1, n + 1):\n",
        "      back_tracking(0, i, char2count)\n",
        "\n",
        "    return len(set(sequences))\n",
        "\n",
        "  def numTilePossibilities(self, tiles: str) -> int:\n",
        "    \n",
        "    char2count = {}\n",
        "    for char in tiles:\n",
        "      char2count[char] = char2count.get(char, 0) + 1\n",
        "    sequences = set()\n",
        "\n",
        "    def backtrack(current_sequence):\n",
        "      if current_sequence:\n",
        "        sequences.add(current_sequence)\n",
        "\n",
        "      for char in char2count:\n",
        "        if char2count[char] > 0:\n",
        "          char2count[char] -= 1\n",
        "          backtrack(current_sequence + char)\n",
        "          char2count[char] += 1\n",
        "\n",
        "    backtrack('')\n",
        "\n",
        "    return len(sequences)\n",
        "  \n",
        "  def numTilePossibilities(self, tiles: str) -> int:\n",
        "\n",
        "    char2count = Counter(tiles)\n",
        "    sequences = set()\n",
        "\n",
        "    def backtrack(current_sequence):\n",
        "      if current_sequence:\n",
        "        sequences.add(current_sequence)\n",
        "\n",
        "      for char in char2count:\n",
        "        if char2count[char] > 0:\n",
        "          char2count[char] -= 1\n",
        "          backtrack(current_sequence + char)\n",
        "          char2count[char] += 1\n",
        "\n",
        "    backtrack('')\n",
        "\n",
        "    return len(sequences)"
      ]
    },
    {
      "cell_type": "code",
      "execution_count": 2,
      "metadata": {},
      "outputs": [
        {
          "data": {
            "text/plain": [
              "8"
            ]
          },
          "execution_count": 2,
          "metadata": {},
          "output_type": "execute_result"
        }
      ],
      "source": [
        "tiles = \"AAB\"\n",
        "Solution().numTilePossibilities(tiles=tiles)"
      ]
    },
    {
      "cell_type": "code",
      "execution_count": 3,
      "metadata": {},
      "outputs": [
        {
          "data": {
            "text/plain": [
              "188"
            ]
          },
          "execution_count": 3,
          "metadata": {},
          "output_type": "execute_result"
        }
      ],
      "source": [
        "tiles = \"AAABBC\"\n",
        "Solution().numTilePossibilities(tiles=tiles)"
      ]
    },
    {
      "cell_type": "code",
      "execution_count": 4,
      "metadata": {},
      "outputs": [
        {
          "data": {
            "text/plain": [
              "1"
            ]
          },
          "execution_count": 4,
          "metadata": {},
          "output_type": "execute_result"
        }
      ],
      "source": [
        "tiles = \"V\"\n",
        "Solution().numTilePossibilities(tiles=tiles)"
      ]
    }
  ],
  "metadata": {
    "kernelspec": {
      "display_name": "Python 3",
      "language": "python",
      "name": "python3"
    },
    "language_info": {
      "codemirror_mode": {
        "name": "ipython",
        "version": 3
      },
      "file_extension": ".py",
      "mimetype": "text/x-python",
      "name": "python",
      "nbconvert_exporter": "python",
      "pygments_lexer": "ipython3",
      "version": "3.12.1"
    }
  },
  "nbformat": 4,
  "nbformat_minor": 2
}
