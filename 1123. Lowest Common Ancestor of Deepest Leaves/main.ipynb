{
 "cells": [
  {
   "cell_type": "code",
   "execution_count": 1,
   "metadata": {},
   "outputs": [],
   "source": [
    "from typing import Optional\n",
    "\n",
    "\n",
    "class TreeNode:\n",
    "  def __init__(self, val=0, left=None, right=None):\n",
    "    self.val = val\n",
    "    self.left = left\n",
    "    self.right = right\n",
    "\n",
    "\n",
    "class Solution:\n",
    "  def lcaDeepestLeaves(self, root: Optional[TreeNode]) -> Optional[TreeNode]:\n",
    "\n",
    "    def dfs(node: Optional[TreeNode]):\n",
    "      if not node:\n",
    "        return 0, None\n",
    "\n",
    "      left_depth, left_lca = dfs(node.left)\n",
    "      right_depth, right_lca = dfs(node.right)\n",
    "\n",
    "      if left_depth > right_depth:\n",
    "        return left_depth + 1, left_lca\n",
    "      elif right_depth > left_depth:\n",
    "        return right_depth + 1, right_lca\n",
    "      else:\n",
    "        return left_depth + 1, node\n",
    "\n",
    "    _, lca = dfs(root)\n",
    "    \n",
    "    return lca"
   ]
  },
  {
   "cell_type": "code",
   "execution_count": 2,
   "metadata": {},
   "outputs": [],
   "source": [
    "def print_tree(root: TreeNode):\n",
    "  if not root:\n",
    "    print([])\n",
    "  result = []\n",
    "  q = [root]\n",
    "  while q:\n",
    "    node = q.pop(0)\n",
    "    if node:\n",
    "      result.append(node.val)\n",
    "      q.append(node.left)\n",
    "      q.append(node.right)\n",
    "    else:\n",
    "      result.append(None)\n",
    "  while result and result[-1] is None:\n",
    "    result.pop()\n",
    "  print(result)"
   ]
  },
  {
   "cell_type": "code",
   "execution_count": 3,
   "metadata": {},
   "outputs": [
    {
     "name": "stdout",
     "output_type": "stream",
     "text": [
      "[2, 7, 4]\n"
     ]
    }
   ],
   "source": [
    "root = TreeNode(3)\n",
    "root.left = TreeNode(5)\n",
    "root.right = TreeNode(1)\n",
    "root.left.left = TreeNode(6)\n",
    "root.left.right = TreeNode(2)\n",
    "root.left.right.left = TreeNode(7)\n",
    "root.left.right.right = TreeNode(4)\n",
    "root.right.left = TreeNode(0)\n",
    "root.right.right = TreeNode(8)\n",
    "print_tree(Solution().lcaDeepestLeaves(root=root))"
   ]
  },
  {
   "cell_type": "code",
   "execution_count": 4,
   "metadata": {},
   "outputs": [
    {
     "name": "stdout",
     "output_type": "stream",
     "text": [
      "[1]\n"
     ]
    }
   ],
   "source": [
    "root = TreeNode(1)\n",
    "print_tree(Solution().lcaDeepestLeaves(root=root))"
   ]
  },
  {
   "cell_type": "code",
   "execution_count": 5,
   "metadata": {},
   "outputs": [
    {
     "name": "stdout",
     "output_type": "stream",
     "text": [
      "[2]\n"
     ]
    }
   ],
   "source": [
    "root = TreeNode(0)\n",
    "root.left = TreeNode(1)\n",
    "root.right = TreeNode(3)\n",
    "root.left.right = TreeNode(2)\n",
    "print_tree(Solution().lcaDeepestLeaves(root=root))"
   ]
  }
 ],
 "metadata": {
  "kernelspec": {
   "display_name": "Python 3",
   "language": "python",
   "name": "python3"
  },
  "language_info": {
   "codemirror_mode": {
    "name": "ipython",
    "version": 3
   },
   "file_extension": ".py",
   "mimetype": "text/x-python",
   "name": "python",
   "nbconvert_exporter": "python",
   "pygments_lexer": "ipython3",
   "version": "3.12.1"
  }
 },
 "nbformat": 4,
 "nbformat_minor": 2
}
