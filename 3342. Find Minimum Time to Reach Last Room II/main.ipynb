{
  "cells": [
    {
      "cell_type": "code",
      "execution_count": 1,
      "metadata": {},
      "outputs": [],
      "source": [
        "from typing import List\n",
        "import heapq\n",
        "\n",
        "\n",
        "class Solution:\n",
        "  def minTimeToReach(self, moveTime: List[List[int]]) -> int:\n",
        "    \n",
        "    n, m = len(moveTime), len(moveTime[0])\n",
        "    distances = [[999999999999 for _ in range(m)] for _ in range(n)]\n",
        "    visited = [[False for _ in range(m)] for _ in range(n)]\n",
        "    directions = [(1, 0), (-1, 0), (0, 1), (0, -1)]\n",
        "    distances[0][0] = 0\n",
        "    q = [(0, 0, 0)]\n",
        "    while q:\n",
        "      _, x, y = heapq.heappop(q)\n",
        "      if visited[x][y]:\n",
        "        continue\n",
        "\n",
        "      if x == n - 1 and y == m - 1:\n",
        "        break\n",
        "      \n",
        "      visited[x][y] = True\n",
        "      for dx, dy in directions:\n",
        "        nx, ny = x + dx, y + dy\n",
        "        if nx < 0 or nx >= n or ny < 0 or ny >= m:\n",
        "          continue\n",
        "\n",
        "        new_distance = max(distances[x][y], moveTime[nx][ny]) + (x + y) % 2 + 1\n",
        "        if distances[nx][ny] > new_distance:\n",
        "          distances[nx][ny] = new_distance\n",
        "          heapq.heappush(q, (new_distance, nx, ny))\n",
        "\n",
        "    return distances[n - 1][m - 1]"
      ]
    },
    {
      "cell_type": "code",
      "execution_count": 2,
      "metadata": {},
      "outputs": [
        {
          "data": {
            "text/plain": [
              "7"
            ]
          },
          "execution_count": 2,
          "metadata": {},
          "output_type": "execute_result"
        }
      ],
      "source": [
        "moveTime = [[0, 4], [4, 4]]\n",
        "Solution().minTimeToReach(moveTime=moveTime)"
      ]
    },
    {
      "cell_type": "code",
      "execution_count": 3,
      "metadata": {},
      "outputs": [
        {
          "data": {
            "text/plain": [
              "6"
            ]
          },
          "execution_count": 3,
          "metadata": {},
          "output_type": "execute_result"
        }
      ],
      "source": [
        "moveTime = [[0, 0, 0, 0], [0, 0, 0, 0]]\n",
        "Solution().minTimeToReach(moveTime=moveTime)"
      ]
    },
    {
      "cell_type": "code",
      "execution_count": 4,
      "metadata": {},
      "outputs": [
        {
          "data": {
            "text/plain": [
              "4"
            ]
          },
          "execution_count": 4,
          "metadata": {},
          "output_type": "execute_result"
        }
      ],
      "source": [
        "moveTime = [[0, 1], [1, 2]]\n",
        "Solution().minTimeToReach(moveTime=moveTime)"
      ]
    }
  ],
  "metadata": {
    "kernelspec": {
      "display_name": "Python 3",
      "language": "python",
      "name": "python3"
    },
    "language_info": {
      "codemirror_mode": {
        "name": "ipython",
        "version": 3
      },
      "file_extension": ".py",
      "mimetype": "text/x-python",
      "name": "python",
      "nbconvert_exporter": "python",
      "pygments_lexer": "ipython3",
      "version": "3.12.8"
    }
  },
  "nbformat": 4,
  "nbformat_minor": 2
}
