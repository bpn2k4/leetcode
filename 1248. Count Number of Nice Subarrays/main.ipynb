{
 "cells": [
  {
   "cell_type": "code",
   "execution_count": 41,
   "metadata": {},
   "outputs": [],
   "source": [
    "from typing import List\n",
    "\n",
    "\n",
    "class Solution:\n",
    "  def numberOfSubarrays(self, nums: List[int], k: int) -> int:\n",
    "    n = len(nums)\n",
    "    count = 0\n",
    "    for i in range(n):\n",
    "      for j in range(i, n):\n",
    "        number_of_odd_number = sum(1 for num in nums[i:j+1] if num % 2 == 1)\n",
    "        if number_of_odd_number == k:\n",
    "          count += 1  \n",
    "    return count\n",
    "        "
   ]
  },
  {
   "cell_type": "code",
   "execution_count": 42,
   "metadata": {},
   "outputs": [],
   "source": [
    "from typing import List\n",
    "\n",
    "\n",
    "class Solution:\n",
    "  def numberOfSubarrays(self, nums: List[int], k: int) -> int:\n",
    "    def at_most_k_odd(nums, k):\n",
    "      count = 0\n",
    "      left = 0\n",
    "      odd_count = 0\n",
    "      for right in range(len(nums)):\n",
    "          if nums[right] % 2 == 1:\n",
    "              odd_count += 1\n",
    "          while odd_count > k:\n",
    "              if nums[left] % 2 == 1:\n",
    "                  odd_count -= 1\n",
    "              left += 1\n",
    "          count += right - left + 1\n",
    "      return count\n",
    "\n",
    "    return at_most_k_odd(nums, k) - at_most_k_odd(nums, k - 1)\n",
    "        "
   ]
  },
  {
   "cell_type": "code",
   "execution_count": 43,
   "metadata": {},
   "outputs": [
    {
     "data": {
      "text/plain": [
       "2"
      ]
     },
     "execution_count": 43,
     "metadata": {},
     "output_type": "execute_result"
    }
   ],
   "source": [
    "Solution().numberOfSubarrays(nums=[1, 1, 2, 1, 1], k=3)"
   ]
  },
  {
   "cell_type": "code",
   "execution_count": 44,
   "metadata": {},
   "outputs": [
    {
     "data": {
      "text/plain": [
       "0"
      ]
     },
     "execution_count": 44,
     "metadata": {},
     "output_type": "execute_result"
    }
   ],
   "source": [
    "Solution().numberOfSubarrays(nums=[2, 4, 6], k=1)"
   ]
  },
  {
   "cell_type": "code",
   "execution_count": 45,
   "metadata": {},
   "outputs": [
    {
     "data": {
      "text/plain": [
       "16"
      ]
     },
     "execution_count": 45,
     "metadata": {},
     "output_type": "execute_result"
    }
   ],
   "source": [
    "Solution().numberOfSubarrays(nums=[2, 2, 2, 1, 2, 2, 1, 2, 2, 2], k=2)"
   ]
  },
  {
   "cell_type": "code",
   "execution_count": 46,
   "metadata": {},
   "outputs": [
    {
     "data": {
      "text/plain": [
       "5"
      ]
     },
     "execution_count": 46,
     "metadata": {},
     "output_type": "execute_result"
    }
   ],
   "source": [
    "Solution().numberOfSubarrays(nums=[1, 1, 1, 1, 1], k=1)"
   ]
  }
 ],
 "metadata": {
  "kernelspec": {
   "display_name": "base",
   "language": "python",
   "name": "python3"
  },
  "language_info": {
   "codemirror_mode": {
    "name": "ipython",
    "version": 3
   },
   "file_extension": ".py",
   "mimetype": "text/x-python",
   "name": "python",
   "nbconvert_exporter": "python",
   "pygments_lexer": "ipython3",
   "version": "3.11.7"
  }
 },
 "nbformat": 4,
 "nbformat_minor": 2
}
