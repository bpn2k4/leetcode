{
 "cells": [
  {
   "cell_type": "code",
   "execution_count": 1,
   "metadata": {},
   "outputs": [],
   "source": [
    "from typing import Optional\n",
    "\n",
    "\n",
    "class ListNode:\n",
    "  def __init__(self, val=0, next=None):\n",
    "    self.val = val\n",
    "    self.next: Optional[ListNode] = next\n",
    "\n",
    "\n",
    "class TreeNode:\n",
    "  def __init__(self, val=0, left=None, right=None):\n",
    "    self.val = val\n",
    "    self.left: Optional[TreeNode] = left\n",
    "    self.right: Optional[TreeNode] = right\n",
    "\n",
    "\n",
    "class Solution:\n",
    "  def isSubPath(self, head: Optional[ListNode], root: Optional[TreeNode]) -> bool:\n",
    "\n",
    "    def check_path(head: Optional[ListNode], root: Optional[TreeNode]) -> bool:\n",
    "\n",
    "      if not head:\n",
    "        return True\n",
    "      \n",
    "      if not root:\n",
    "        return False\n",
    "      \n",
    "      if root.val == head.val:\n",
    "        return check_path(head.next, root.left) or check_path(head.next, root.right)\n",
    "      \n",
    "      return False\n",
    "\n",
    "    if not head:\n",
    "      return True\n",
    "    \n",
    "    if not root:\n",
    "      return False\n",
    "\n",
    "    return check_path(head, root) or self.isSubPath(head, root.left) or self.isSubPath(head, root.right)"
   ]
  },
  {
   "cell_type": "code",
   "execution_count": 2,
   "metadata": {},
   "outputs": [
    {
     "data": {
      "text/plain": [
       "True"
      ]
     },
     "execution_count": 2,
     "metadata": {},
     "output_type": "execute_result"
    }
   ],
   "source": [
    "head = ListNode(4)\n",
    "head.next = ListNode(2)\n",
    "head.next.next = ListNode(8)\n",
    "root = TreeNode(1)\n",
    "root.left = TreeNode(4)\n",
    "root.left.right = TreeNode(2)\n",
    "root.left.right.left = TreeNode(1)\n",
    "root.right = TreeNode(4)\n",
    "root.right.left = TreeNode(2)\n",
    "root.right.left.left = TreeNode(6)\n",
    "root.right.left.right = TreeNode(8)\n",
    "root.right.left.right.left = TreeNode(1)\n",
    "root.right.left.right.right = TreeNode(3)\n",
    "Solution().isSubPath(head=head, root=root)"
   ]
  },
  {
   "cell_type": "code",
   "execution_count": 3,
   "metadata": {},
   "outputs": [
    {
     "data": {
      "text/plain": [
       "True"
      ]
     },
     "execution_count": 3,
     "metadata": {},
     "output_type": "execute_result"
    }
   ],
   "source": [
    "head = ListNode(1)\n",
    "head.next = ListNode(4)\n",
    "head.next.next = ListNode(2)\n",
    "head.next.next.next = ListNode(6)\n",
    "root = TreeNode(1)\n",
    "root.left = TreeNode(4)\n",
    "root.left.right = TreeNode(2)\n",
    "root.left.right.left = TreeNode(1)\n",
    "root.right = TreeNode(4)\n",
    "root.right.left = TreeNode(2)\n",
    "root.right.left.left = TreeNode(6)\n",
    "root.right.left.right = TreeNode(8)\n",
    "root.right.left.right.left = TreeNode(1)\n",
    "root.right.left.right.right = TreeNode(3)\n",
    "Solution().isSubPath(head=head, root=root)"
   ]
  },
  {
   "cell_type": "code",
   "execution_count": 4,
   "metadata": {},
   "outputs": [
    {
     "data": {
      "text/plain": [
       "False"
      ]
     },
     "execution_count": 4,
     "metadata": {},
     "output_type": "execute_result"
    }
   ],
   "source": [
    "head = ListNode(1)\n",
    "head.next = ListNode(4)\n",
    "head.next.next = ListNode(2)\n",
    "head.next.next.next = ListNode(6)\n",
    "head.next.next.next.next = ListNode(8)\n",
    "root = TreeNode(1)\n",
    "root.left = TreeNode(4)\n",
    "root.left.right = TreeNode(2)\n",
    "root.left.right.left = TreeNode(1)\n",
    "root.right = TreeNode(4)\n",
    "root.right.left = TreeNode(2)\n",
    "root.right.left.left = TreeNode(6)\n",
    "root.right.left.right = TreeNode(8)\n",
    "root.right.left.right.left = TreeNode(1)\n",
    "root.right.left.right.right = TreeNode(3)\n",
    "Solution().isSubPath(head=head, root=root)"
   ]
  }
 ],
 "metadata": {
  "kernelspec": {
   "display_name": "base",
   "language": "python",
   "name": "python3"
  },
  "language_info": {
   "codemirror_mode": {
    "name": "ipython",
    "version": 3
   },
   "file_extension": ".py",
   "mimetype": "text/x-python",
   "name": "python",
   "nbconvert_exporter": "python",
   "pygments_lexer": "ipython3",
   "version": "3.11.7"
  }
 },
 "nbformat": 4,
 "nbformat_minor": 2
}
