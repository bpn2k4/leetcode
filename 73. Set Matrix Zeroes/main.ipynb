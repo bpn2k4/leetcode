{
  "cells": [
    {
      "cell_type": "code",
      "execution_count": 1,
      "metadata": {},
      "outputs": [],
      "source": [
        "from typing import List\n",
        "\n",
        "\n",
        "class Solution:\n",
        "  def setZeroes(self, matrix: List[List[int]]) -> None:\n",
        "    \n",
        "    m, n = len(matrix), len(matrix[0])\n",
        "    r = [0] * m\n",
        "    c = [0]* n\n",
        "    for i in range(m):\n",
        "      for j in range(n):\n",
        "        if matrix[i][j] == 0:\n",
        "          r[i] += 1\n",
        "          c[j] += 1\n",
        "    \n",
        "    for i in range(m):\n",
        "      for j in range(n):\n",
        "        if r[i] != 0 or c[j] != 0:\n",
        "          matrix[i][j] = 0"
      ]
    },
    {
      "cell_type": "code",
      "execution_count": 2,
      "metadata": {},
      "outputs": [
        {
          "name": "stdout",
          "output_type": "stream",
          "text": [
            "[1, 0, 1]\n",
            "[0, 0, 0]\n",
            "[1, 0, 1]\n"
          ]
        }
      ],
      "source": [
        "matrix = [[1, 1, 1], [1, 0, 1], [1, 1, 1]]\n",
        "Solution().setZeroes(matrix=matrix)\n",
        "for i in matrix:\n",
        "  print(i)"
      ]
    },
    {
      "cell_type": "code",
      "execution_count": 3,
      "metadata": {},
      "outputs": [
        {
          "name": "stdout",
          "output_type": "stream",
          "text": [
            "[0, 0, 0, 0]\n",
            "[0, 4, 5, 0]\n",
            "[0, 3, 1, 0]\n"
          ]
        }
      ],
      "source": [
        "matrix = [[0, 1, 2, 0], [3, 4, 5, 2], [1, 3, 1, 5]]\n",
        "Solution().setZeroes(matrix=matrix)\n",
        "for i in matrix:\n",
        "  print(i)"
      ]
    }
  ],
  "metadata": {
    "kernelspec": {
      "display_name": "Python 3",
      "language": "python",
      "name": "python3"
    },
    "language_info": {
      "codemirror_mode": {
        "name": "ipython",
        "version": 3
      },
      "file_extension": ".py",
      "mimetype": "text/x-python",
      "name": "python",
      "nbconvert_exporter": "python",
      "pygments_lexer": "ipython3",
      "version": "3.12.1"
    }
  },
  "nbformat": 4,
  "nbformat_minor": 2
}
