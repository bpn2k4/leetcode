{
 "cells": [
  {
   "cell_type": "code",
   "execution_count": 1,
   "metadata": {},
   "outputs": [],
   "source": [
    "from typing import Optional\n",
    "\n",
    "\n",
    "class TreeNode:\n",
    "  def __init__(self, val=0, left=None, right=None):\n",
    "    self.val: int = val\n",
    "    self.left:TreeNode  = left\n",
    "    self.right: TreeNode = right\n",
    "\n",
    "\n",
    "class Solution:\n",
    "  def flipEquiv(self, root1: Optional[TreeNode], root2: Optional[TreeNode]) -> bool:\n",
    "    \n",
    "    if not root1 and not root2:\n",
    "      return True\n",
    "    \n",
    "    if not root1 or not root2:\n",
    "      return False\n",
    "    \n",
    "    if root1.val != root2.val:\n",
    "      return False\n",
    "    \n",
    "    return (self.flipEquiv(root1.left, root2.left) and self.flipEquiv(root1.right, root2.right)) or \\\n",
    "      (self.flipEquiv(root1.left, root2.right) and self.flipEquiv(root1.right, root2.left))"
   ]
  },
  {
   "cell_type": "code",
   "execution_count": 2,
   "metadata": {},
   "outputs": [],
   "source": [
    "def print_tree(root: TreeNode):\n",
    "\n",
    "  result = []\n",
    "\n",
    "  q = [root]\n",
    "  while q:\n",
    "    node = q.pop(0)\n",
    "    if node:\n",
    "      result.append(node.val)\n",
    "      q.append(node.left)\n",
    "      q.append(node.right)\n",
    "    else:\n",
    "      result.append(None)\n",
    "\n",
    "  while result and result[-1] is None:\n",
    "    result.pop()\n",
    "\n",
    "  print(result)"
   ]
  },
  {
   "cell_type": "code",
   "execution_count": 3,
   "metadata": {},
   "outputs": [
    {
     "name": "stdout",
     "output_type": "stream",
     "text": [
      "[1, 2, 3, 4, 5, 6, None, None, None, 7, 8]\n",
      "[1, 3, 2, None, 6, 4, 5, None, None, None, None, 8, 7]\n"
     ]
    },
    {
     "data": {
      "text/plain": [
       "True"
      ]
     },
     "execution_count": 3,
     "metadata": {},
     "output_type": "execute_result"
    }
   ],
   "source": [
    "root1 = TreeNode(1)\n",
    "root1.left = TreeNode(2)\n",
    "root1.right = TreeNode(3)\n",
    "root1.left.left = TreeNode(4)\n",
    "root1.left.right = TreeNode(5)\n",
    "root1.right.left = TreeNode(6)\n",
    "root1.left.right.left = TreeNode(7)\n",
    "root1.left.right.right = TreeNode(8)\n",
    "root2 = TreeNode(1)\n",
    "root2.left = TreeNode(3)\n",
    "root2.right = TreeNode(2)\n",
    "root2.left.right = TreeNode(6)\n",
    "root2.right.left = TreeNode(4)\n",
    "root2.right.right = TreeNode(5)\n",
    "root2.right.right.left = TreeNode(8)\n",
    "root2.right.right.right = TreeNode(7)\n",
    "print_tree(root1)\n",
    "print_tree(root2)\n",
    "Solution().flipEquiv(root1, root2)"
   ]
  },
  {
   "cell_type": "code",
   "execution_count": 4,
   "metadata": {},
   "outputs": [
    {
     "name": "stdout",
     "output_type": "stream",
     "text": [
      "[]\n",
      "[]\n"
     ]
    },
    {
     "data": {
      "text/plain": [
       "True"
      ]
     },
     "execution_count": 4,
     "metadata": {},
     "output_type": "execute_result"
    }
   ],
   "source": [
    "root1 = None\n",
    "root2 = None\n",
    "print_tree(root1)\n",
    "print_tree(root2)\n",
    "Solution().flipEquiv(root1, root2)"
   ]
  },
  {
   "cell_type": "code",
   "execution_count": 5,
   "metadata": {},
   "outputs": [
    {
     "name": "stdout",
     "output_type": "stream",
     "text": [
      "[]\n",
      "[1]\n"
     ]
    },
    {
     "data": {
      "text/plain": [
       "False"
      ]
     },
     "execution_count": 5,
     "metadata": {},
     "output_type": "execute_result"
    }
   ],
   "source": [
    "root1 = None\n",
    "root2 = TreeNode(1)\n",
    "print_tree(root1)\n",
    "print_tree(root2)\n",
    "Solution().flipEquiv(root1, root2)"
   ]
  }
 ],
 "metadata": {
  "kernelspec": {
   "display_name": "base",
   "language": "python",
   "name": "python3"
  },
  "language_info": {
   "codemirror_mode": {
    "name": "ipython",
    "version": 3
   },
   "file_extension": ".py",
   "mimetype": "text/x-python",
   "name": "python",
   "nbconvert_exporter": "python",
   "pygments_lexer": "ipython3",
   "version": "3.11.7"
  }
 },
 "nbformat": 4,
 "nbformat_minor": 2
}
