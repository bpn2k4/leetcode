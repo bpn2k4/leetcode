{
  "cells": [
    {
      "cell_type": "code",
      "execution_count": 1,
      "metadata": {},
      "outputs": [],
      "source": [
        "from typing import List\n",
        "\n",
        "\n",
        "class Solution:\n",
        "  def minimumMountainRemovals(self, nums: List[int]) -> int:\n",
        "\n",
        "    n = len(nums)\n",
        "    left = [1] * n\n",
        "    right = [1] * n\n",
        "\n",
        "    for i in range(n):\n",
        "      for j in range(i):\n",
        "        if nums[j] < nums[i]:\n",
        "          left[i] = max(left[i], left[j] + 1)\n",
        "\n",
        "    for i in range(n - 1, -1, -1):\n",
        "      for j in range(i + 1, n):\n",
        "        if nums[j] < nums[i]:\n",
        "          right[i] = max(right[i], right[j] + 1)\n",
        "\n",
        "    max_mountain = 0\n",
        "    for i in range(1, n - 1):\n",
        "      if left[i] > 1 and right[i] > 1:\n",
        "        max_mountain = max(max_mountain, left[i] + right[i] - 1)\n",
        "\n",
        "    return n - max_mountain"
      ]
    },
    {
      "cell_type": "code",
      "execution_count": 2,
      "metadata": {},
      "outputs": [
        {
          "data": {
            "text/plain": [
              "0"
            ]
          },
          "execution_count": 2,
          "metadata": {},
          "output_type": "execute_result"
        }
      ],
      "source": [
        "nums = [1, 3, 1]\n",
        "Solution().minimumMountainRemovals(nums=nums)"
      ]
    },
    {
      "cell_type": "code",
      "execution_count": 3,
      "metadata": {},
      "outputs": [
        {
          "data": {
            "text/plain": [
              "3"
            ]
          },
          "execution_count": 3,
          "metadata": {},
          "output_type": "execute_result"
        }
      ],
      "source": [
        "nums = [2, 1, 1, 5, 6, 2, 3, 1]\n",
        "Solution().minimumMountainRemovals(nums=nums)"
      ]
    }
  ],
  "metadata": {
    "kernelspec": {
      "display_name": "base",
      "language": "python",
      "name": "python3"
    },
    "language_info": {
      "codemirror_mode": {
        "name": "ipython",
        "version": 3
      },
      "file_extension": ".py",
      "mimetype": "text/x-python",
      "name": "python",
      "nbconvert_exporter": "python",
      "pygments_lexer": "ipython3",
      "version": "3.11.7"
    }
  },
  "nbformat": 4,
  "nbformat_minor": 2
}
