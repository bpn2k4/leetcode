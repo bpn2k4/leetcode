{
 "cells": [
  {
   "cell_type": "code",
   "execution_count": 34,
   "metadata": {},
   "outputs": [],
   "source": [
    "from typing import Optional\n",
    "\n",
    "\n",
    "class ListNode:\n",
    "  def __init__(self, val=0, next=None):\n",
    "    self.val = val\n",
    "    self.next: ListNode = next\n",
    "\n",
    "\n",
    "def print_list(head: ListNode):\n",
    "  while head:\n",
    "    print(head.val, end=' -> ' if head.next else '')\n",
    "    head = head.next\n",
    "  print()\n",
    "\n",
    "\n",
    "class Solution:\n",
    "  def mergeNodes(self, head: Optional[ListNode]) -> Optional[ListNode]:\n",
    "    result = ListNode(0)\n",
    "    global_cursor = result\n",
    "    cursor = head.next\n",
    "    sum_of_nodes = 0\n",
    "    while cursor:\n",
    "      if cursor.val != 0:\n",
    "        sum_of_nodes += cursor.val\n",
    "      else:\n",
    "        global_cursor.next = ListNode(sum_of_nodes)\n",
    "        global_cursor = global_cursor.next\n",
    "        sum_of_nodes = 0\n",
    "      cursor = cursor.next\n",
    "    result = result.next\n",
    "    return result"
   ]
  },
  {
   "cell_type": "code",
   "execution_count": 35,
   "metadata": {},
   "outputs": [
    {
     "name": "stdout",
     "output_type": "stream",
     "text": [
      "0 -> 3 -> 1 -> 0 -> 4 -> 5 -> 2 -> 0\n",
      "4 -> 11\n"
     ]
    }
   ],
   "source": [
    "head = ListNode(0)\n",
    "head.next = ListNode(3)\n",
    "head.next.next = ListNode(1)\n",
    "head.next.next.next = ListNode(0)\n",
    "head.next.next.next.next = ListNode(4)\n",
    "head.next.next.next.next.next = ListNode(5)\n",
    "head.next.next.next.next.next.next = ListNode(2)\n",
    "head.next.next.next.next.next.next.next = ListNode(0)\n",
    "print_list(head)\n",
    "print_list(Solution().mergeNodes(head))"
   ]
  },
  {
   "cell_type": "code",
   "execution_count": 36,
   "metadata": {},
   "outputs": [
    {
     "name": "stdout",
     "output_type": "stream",
     "text": [
      "0 -> 1 -> 0 -> 3 -> 0 -> 2 -> 2 -> 0\n",
      "1 -> 3 -> 4\n"
     ]
    }
   ],
   "source": [
    "head = ListNode(0)\n",
    "head.next = ListNode(1)\n",
    "head.next.next = ListNode(0)\n",
    "head.next.next.next = ListNode(3)\n",
    "head.next.next.next.next = ListNode(0)\n",
    "head.next.next.next.next.next = ListNode(2)\n",
    "head.next.next.next.next.next.next = ListNode(2)\n",
    "head.next.next.next.next.next.next.next = ListNode(0)\n",
    "print_list(head)\n",
    "print_list(Solution().mergeNodes(head))"
   ]
  }
 ],
 "metadata": {
  "kernelspec": {
   "display_name": "base",
   "language": "python",
   "name": "python3"
  },
  "language_info": {
   "codemirror_mode": {
    "name": "ipython",
    "version": 3
   },
   "file_extension": ".py",
   "mimetype": "text/x-python",
   "name": "python",
   "nbconvert_exporter": "python",
   "pygments_lexer": "ipython3",
   "version": "3.11.7"
  }
 },
 "nbformat": 4,
 "nbformat_minor": 2
}
