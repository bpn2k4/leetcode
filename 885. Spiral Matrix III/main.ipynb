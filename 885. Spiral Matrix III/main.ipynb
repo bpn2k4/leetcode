{
 "cells": [
  {
   "cell_type": "code",
   "execution_count": 1,
   "metadata": {},
   "outputs": [],
   "source": [
    "from typing import List\n",
    "\n",
    "\n",
    "class Solution:\n",
    "\n",
    "  def spiralMatrixIII(self, rows: int, cols: int, rStart: int, cStart: int) -> List[List[int]]:\n",
    "\n",
    "    directions = [(0, 1), (1, 0), (0, -1), (-1, 0)]\n",
    "    result = []\n",
    "    visited = set()\n",
    "\n",
    "    r, c = rStart, cStart\n",
    "    result.append([r, c])\n",
    "    visited.add((r, c))\n",
    "\n",
    "    dir_idx = 0 \n",
    "    step = 1\n",
    "\n",
    "    while len(result) < rows * cols:\n",
    "      for _ in range(2):\n",
    "        for _ in range(step):\n",
    "          r += directions[dir_idx][0]\n",
    "          c += directions[dir_idx][1]\n",
    "\n",
    "          if 0 <= r < rows and 0 <= c < cols and (r, c) not in visited:\n",
    "            result.append([r, c])\n",
    "            visited.add((r, c))\n",
    "\n",
    "        dir_idx = (dir_idx + 1) % 4\n",
    "\n",
    "      step += 1\n",
    "\n",
    "    return result"
   ]
  },
  {
   "cell_type": "code",
   "execution_count": 2,
   "metadata": {},
   "outputs": [
    {
     "data": {
      "text/plain": [
       "[[0, 0], [0, 1], [0, 2], [0, 3]]"
      ]
     },
     "execution_count": 2,
     "metadata": {},
     "output_type": "execute_result"
    }
   ],
   "source": [
    "Solution().spiralMatrixIII(rows=1, cols=4, rStart=0, cStart=0)"
   ]
  },
  {
   "cell_type": "code",
   "execution_count": 3,
   "metadata": {},
   "outputs": [
    {
     "data": {
      "text/plain": [
       "[[1, 4],\n",
       " [1, 5],\n",
       " [2, 5],\n",
       " [2, 4],\n",
       " [2, 3],\n",
       " [1, 3],\n",
       " [0, 3],\n",
       " [0, 4],\n",
       " [0, 5],\n",
       " [3, 5],\n",
       " [3, 4],\n",
       " [3, 3],\n",
       " [3, 2],\n",
       " [2, 2],\n",
       " [1, 2],\n",
       " [0, 2],\n",
       " [4, 5],\n",
       " [4, 4],\n",
       " [4, 3],\n",
       " [4, 2],\n",
       " [4, 1],\n",
       " [3, 1],\n",
       " [2, 1],\n",
       " [1, 1],\n",
       " [0, 1],\n",
       " [4, 0],\n",
       " [3, 0],\n",
       " [2, 0],\n",
       " [1, 0],\n",
       " [0, 0]]"
      ]
     },
     "execution_count": 3,
     "metadata": {},
     "output_type": "execute_result"
    }
   ],
   "source": [
    "Solution().spiralMatrixIII(rows=5, cols=6, rStart=1, cStart=4)"
   ]
  }
 ],
 "metadata": {
  "kernelspec": {
   "display_name": "base",
   "language": "python",
   "name": "python3"
  },
  "language_info": {
   "codemirror_mode": {
    "name": "ipython",
    "version": 3
   },
   "file_extension": ".py",
   "mimetype": "text/x-python",
   "name": "python",
   "nbconvert_exporter": "python",
   "pygments_lexer": "ipython3",
   "version": "3.11.7"
  }
 },
 "nbformat": 4,
 "nbformat_minor": 2
}
