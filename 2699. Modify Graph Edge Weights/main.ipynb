{
 "cells": [
  {
   "cell_type": "code",
   "execution_count": 13,
   "metadata": {},
   "outputs": [],
   "source": [
    "from typing import List\n",
    "\n",
    "import heapq\n",
    "\n",
    "\n",
    "class Solution:\n",
    "\n",
    "  def modifiedGraphEdges(self, n: int, edges: List[List[int]], source: int, destination: int, target: int) -> List[List[int]]:\n",
    "    graph = [[0]*n for _ in range(n)]\n",
    "    for u, v, w in edges:\n",
    "      graph[u][v] = graph[v][u] = w\n",
    "    orig = [999999999] * n\n",
    "    orig[source] = 0\n",
    "    pq = [(0, source)]\n",
    "    while pq:\n",
    "      d, u = heapq.heappop(pq)\n",
    "      if d == orig[u]:\n",
    "        for v, w in enumerate(graph[u]):\n",
    "          if w and w != -1 and d+w < orig[v]:\n",
    "            orig[v] = d+w\n",
    "            heapq.heappush(pq, (orig[v], v))\n",
    "    if orig[destination] < target:\n",
    "      return []\n",
    "    if orig[destination] == target:\n",
    "      ans = []\n",
    "      for u, v, w in edges:\n",
    "        if w == -1:\n",
    "          w = 1000000000\n",
    "        ans.append([u, v, w])\n",
    "      return ans\n",
    "    dist = [999999999] * n\n",
    "    dist[source] = 0\n",
    "    parent = [-1] * n\n",
    "    pq = [(0, source)]\n",
    "    while pq:\n",
    "      d, u = heapq.heappop(pq)\n",
    "      if u == destination:\n",
    "        break\n",
    "      if d == dist[u]:\n",
    "        for v, w in enumerate(graph[u]):\n",
    "          if w:\n",
    "            if w == -1:\n",
    "              dd = d+1\n",
    "            else:\n",
    "              dd = d+w\n",
    "            if dd < dist[v]:\n",
    "              dist[v] = dd\n",
    "              parent[v] = u\n",
    "              heapq.heappush(pq, (dd, v))\n",
    "    if d > target:\n",
    "      return []\n",
    "    while u >= 0:\n",
    "      p = parent[u]\n",
    "      if p >= 0:\n",
    "        if graph[p][u] == -1:\n",
    "          if orig[p] < target:\n",
    "            graph[p][u] = graph[u][p] = target - orig[p]\n",
    "            break\n",
    "          graph[p][u] = graph[u][p] = 1\n",
    "        target -= graph[u][p]\n",
    "      u = p\n",
    "    ans = []\n",
    "    for u, v, w in edges:\n",
    "      if graph[u][v] == -1:\n",
    "        graph[u][v] = 1000000000\n",
    "      ans.append([u, v, graph[u][v]])\n",
    "    return ans"
   ]
  },
  {
   "cell_type": "code",
   "execution_count": 14,
   "metadata": {},
   "outputs": [
    {
     "data": {
      "text/plain": [
       "[[4, 1, 1], [2, 0, 1000000000], [0, 3, 3], [4, 3, 1]]"
      ]
     },
     "execution_count": 14,
     "metadata": {},
     "output_type": "execute_result"
    }
   ],
   "source": [
    "Solution().modifiedGraphEdges(\n",
    "    n=5,\n",
    "    edges=[[4, 1, -1], [2, 0, -1], [0, 3, -1], [4, 3, -1]],\n",
    "    source=0,\n",
    "    destination=1,\n",
    "    target=5\n",
    ")"
   ]
  },
  {
   "cell_type": "code",
   "execution_count": 15,
   "metadata": {},
   "outputs": [
    {
     "data": {
      "text/plain": [
       "[]"
      ]
     },
     "execution_count": 15,
     "metadata": {},
     "output_type": "execute_result"
    }
   ],
   "source": [
    "Solution().modifiedGraphEdges(\n",
    "    n=3,\n",
    "    edges=[[0, 1, -1], [0, 2, 5]],\n",
    "    source=0,\n",
    "    destination=2,\n",
    "    target=6\n",
    ")"
   ]
  },
  {
   "cell_type": "code",
   "execution_count": 16,
   "metadata": {},
   "outputs": [
    {
     "data": {
      "text/plain": [
       "[[1, 0, 4], [1, 2, 3], [2, 3, 5], [0, 3, 1]]"
      ]
     },
     "execution_count": 16,
     "metadata": {},
     "output_type": "execute_result"
    }
   ],
   "source": [
    "Solution().modifiedGraphEdges(\n",
    "    n=4,\n",
    "    edges=[[1, 0, 4], [1, 2, 3], [2, 3, 5], [0, 3, -1]],\n",
    "    source=0,\n",
    "    destination=2,\n",
    "    target=6\n",
    ")"
   ]
  }
 ],
 "metadata": {
  "kernelspec": {
   "display_name": "base",
   "language": "python",
   "name": "python3"
  },
  "language_info": {
   "codemirror_mode": {
    "name": "ipython",
    "version": 3
   },
   "file_extension": ".py",
   "mimetype": "text/x-python",
   "name": "python",
   "nbconvert_exporter": "python",
   "pygments_lexer": "ipython3",
   "version": "3.11.7"
  }
 },
 "nbformat": 4,
 "nbformat_minor": 2
}
