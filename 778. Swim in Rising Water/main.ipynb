{
  "cells": [
    {
      "cell_type": "code",
      "execution_count": 1,
      "metadata": {},
      "outputs": [],
      "source": [
        "from typing import List\n",
        "import heapq\n",
        "\n",
        "\n",
        "class Solution:\n",
        "  def swimInWater(self, grid: List[List[int]]) -> int:\n",
        "\n",
        "    n = len(grid)\n",
        "    visited = [[False] * n for _ in range(n)]\n",
        "    heap = [(grid[0][0], 0, 0)]\n",
        "    directions = [(1, 0), (-1, 0), (0, 1), (0, -1)]\n",
        "\n",
        "    while heap:\n",
        "      time, r, c = heapq.heappop(heap)\n",
        "      if r == n - 1 and c == n - 1:\n",
        "        return time\n",
        "\n",
        "      if visited[r][c]:\n",
        "        continue\n",
        "      visited[r][c] = True\n",
        "\n",
        "      for dr, dc in directions:\n",
        "        nr, nc = r + dr, c + dc\n",
        "        if 0 <= nr < n and 0 <= nc < n and not visited[nr][nc]:\n",
        "          new_time = max(time, grid[nr][nc])\n",
        "          heapq.heappush(heap, (new_time, nr, nc))\n",
        "\n",
        "    raise Exception(\"Destination not reachable\")"
      ]
    },
    {
      "cell_type": "code",
      "execution_count": 2,
      "metadata": {},
      "outputs": [
        {
          "data": {
            "text/plain": [
              "3"
            ]
          },
          "execution_count": 2,
          "metadata": {},
          "output_type": "execute_result"
        }
      ],
      "source": [
        "grid = [[0, 2], [1, 3]]\n",
        "Solution().swimInWater(grid=grid)"
      ]
    },
    {
      "cell_type": "code",
      "execution_count": 3,
      "metadata": {},
      "outputs": [
        {
          "data": {
            "text/plain": [
              "16"
            ]
          },
          "execution_count": 3,
          "metadata": {},
          "output_type": "execute_result"
        }
      ],
      "source": [
        "grid = [[0, 1, 2, 3, 4], [24, 23, 22, 21, 5], [12, 13, 14, 15, 16], [11, 17, 18, 19, 20], [10, 9, 8, 7, 6]]\n",
        "Solution().swimInWater(grid=grid)"
      ]
    }
  ],
  "metadata": {
    "kernelspec": {
      "display_name": "Python 3",
      "language": "python",
      "name": "python3"
    },
    "language_info": {
      "codemirror_mode": {
        "name": "ipython",
        "version": 3
      },
      "file_extension": ".py",
      "mimetype": "text/x-python",
      "name": "python",
      "nbconvert_exporter": "python",
      "pygments_lexer": "ipython3",
      "version": "3.12.8"
    }
  },
  "nbformat": 4,
  "nbformat_minor": 2
}
