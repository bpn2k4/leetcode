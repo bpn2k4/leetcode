{
  "cells": [
    {
      "cell_type": "code",
      "execution_count": 1,
      "metadata": {},
      "outputs": [],
      "source": [
        "import math\n",
        "\n",
        "\n",
        "class Solution:\n",
        "\n",
        "  PERFECT_NUMBERS = {6, 28, 496, 8128, 33550336}\n",
        "\n",
        "  def checkPerfectNumber(self, num: int) -> bool:\n",
        "    \n",
        "    if num == 1:\n",
        "      return False\n",
        "    \n",
        "    total = 1\n",
        "    for i in range(2, int(math.sqrt(num)) + 1):\n",
        "      if num % i == 0:\n",
        "        total += i\n",
        "        total += num // i\n",
        "\n",
        "    return total == num\n",
        "  \n",
        "  def checkPerfectNumber(self, num: int) -> bool:\n",
        "    return num in self.PERFECT_NUMBERS"
      ]
    },
    {
      "cell_type": "code",
      "execution_count": 2,
      "metadata": {},
      "outputs": [
        {
          "data": {
            "text/plain": [
              "True"
            ]
          },
          "execution_count": 2,
          "metadata": {},
          "output_type": "execute_result"
        }
      ],
      "source": [
        "num = 28\n",
        "Solution().checkPerfectNumber(num=num)"
      ]
    },
    {
      "cell_type": "code",
      "execution_count": 3,
      "metadata": {},
      "outputs": [
        {
          "data": {
            "text/plain": [
              "False"
            ]
          },
          "execution_count": 3,
          "metadata": {},
          "output_type": "execute_result"
        }
      ],
      "source": [
        "num = 7\n",
        "Solution().checkPerfectNumber(num=num)"
      ]
    }
  ],
  "metadata": {
    "kernelspec": {
      "display_name": "Python 3",
      "language": "python",
      "name": "python3"
    },
    "language_info": {
      "codemirror_mode": {
        "name": "ipython",
        "version": 3
      },
      "file_extension": ".py",
      "mimetype": "text/x-python",
      "name": "python",
      "nbconvert_exporter": "python",
      "pygments_lexer": "ipython3",
      "version": "3.12.8"
    }
  },
  "nbformat": 4,
  "nbformat_minor": 2
}
