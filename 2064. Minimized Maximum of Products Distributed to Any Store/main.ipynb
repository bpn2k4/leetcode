{
 "cells": [
  {
   "cell_type": "code",
   "execution_count": 1,
   "metadata": {},
   "outputs": [],
   "source": [
    "from typing import List\n",
    "\n",
    "\n",
    "class Solution:\n",
    "  def minimizedMaximum(self, n: int, quantities: List[int]) -> int:\n",
    "    \n",
    "    left = 1\n",
    "    right = 100000\n",
    "    \n",
    "    while left < right:\n",
    "      mean_quantity_per_store = (left + right) // 2\n",
    "      number_store = 0\n",
    "      for quantity in quantities:\n",
    "        if quantity % mean_quantity_per_store == 0:\n",
    "          number_store += quantity // mean_quantity_per_store\n",
    "        else:\n",
    "          number_store += quantity // mean_quantity_per_store + 1\n",
    "        \n",
    "      if number_store > n:\n",
    "        left = mean_quantity_per_store + 1\n",
    "      else:\n",
    "        right = mean_quantity_per_store\n",
    "\n",
    "    return left"
   ]
  },
  {
   "cell_type": "code",
   "execution_count": 2,
   "metadata": {},
   "outputs": [
    {
     "data": {
      "text/plain": [
       "3"
      ]
     },
     "execution_count": 2,
     "metadata": {},
     "output_type": "execute_result"
    }
   ],
   "source": [
    "n = 6\n",
    "quantities = [11, 6]\n",
    "Solution().minimizedMaximum(n=n, quantities=quantities)"
   ]
  },
  {
   "cell_type": "code",
   "execution_count": 3,
   "metadata": {},
   "outputs": [
    {
     "data": {
      "text/plain": [
       "5"
      ]
     },
     "execution_count": 3,
     "metadata": {},
     "output_type": "execute_result"
    }
   ],
   "source": [
    "n = 7\n",
    "quantities = [15, 10, 10]\n",
    "Solution().minimizedMaximum(n=n, quantities=quantities)"
   ]
  },
  {
   "cell_type": "code",
   "execution_count": 4,
   "metadata": {},
   "outputs": [
    {
     "data": {
      "text/plain": [
       "100000"
      ]
     },
     "execution_count": 4,
     "metadata": {},
     "output_type": "execute_result"
    }
   ],
   "source": [
    "n = 1\n",
    "quantities = [100000]\n",
    "Solution().minimizedMaximum(n=n, quantities=quantities)"
   ]
  }
 ],
 "metadata": {
  "kernelspec": {
   "display_name": "base",
   "language": "python",
   "name": "python3"
  },
  "language_info": {
   "codemirror_mode": {
    "name": "ipython",
    "version": 3
   },
   "file_extension": ".py",
   "mimetype": "text/x-python",
   "name": "python",
   "nbconvert_exporter": "python",
   "pygments_lexer": "ipython3",
   "version": "3.11.7"
  }
 },
 "nbformat": 4,
 "nbformat_minor": 2
}
