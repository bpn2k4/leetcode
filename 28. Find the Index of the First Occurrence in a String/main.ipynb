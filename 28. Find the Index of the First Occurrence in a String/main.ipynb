{
  "cells": [
    {
      "cell_type": "code",
      "execution_count": 1,
      "metadata": {},
      "outputs": [],
      "source": [
        "class Solution:\n",
        "  def strStr(self, haystack: str, needle: str) -> int:\n",
        "\n",
        "    haystack_length, needle_length = len(haystack), len(needle)\n",
        "    for i in range(haystack_length):\n",
        "      if haystack[i] == needle[0]:\n",
        "        j = 1\n",
        "        k = i + 1\n",
        "        while j < needle_length and k < haystack_length and haystack[k] == needle[j]:\n",
        "          j += 1\n",
        "          k += 1\n",
        "        if j == needle_length:\n",
        "          return i\n",
        "\n",
        "    return -1"
      ]
    },
    {
      "cell_type": "code",
      "execution_count": 2,
      "metadata": {},
      "outputs": [
        {
          "data": {
            "text/plain": [
              "0"
            ]
          },
          "execution_count": 2,
          "metadata": {},
          "output_type": "execute_result"
        }
      ],
      "source": [
        "haystack = \"sadbutsad\"\n",
        "needle = \"sad\"\n",
        "Solution().strStr(haystack=haystack, needle=needle)"
      ]
    },
    {
      "cell_type": "code",
      "execution_count": 3,
      "metadata": {},
      "outputs": [
        {
          "data": {
            "text/plain": [
              "-1"
            ]
          },
          "execution_count": 3,
          "metadata": {},
          "output_type": "execute_result"
        }
      ],
      "source": [
        "haystack = \"leetcode\"\n",
        "needle = \"leeto\"\n",
        "Solution().strStr(haystack=haystack, needle=needle)"
      ]
    }
  ],
  "metadata": {
    "kernelspec": {
      "display_name": "base",
      "language": "python",
      "name": "python3"
    },
    "language_info": {
      "codemirror_mode": {
        "name": "ipython",
        "version": 3
      },
      "file_extension": ".py",
      "mimetype": "text/x-python",
      "name": "python",
      "nbconvert_exporter": "python",
      "pygments_lexer": "ipython3",
      "version": "3.11.7"
    }
  },
  "nbformat": 4,
  "nbformat_minor": 2
}
