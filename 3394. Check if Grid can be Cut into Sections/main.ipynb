{
  "cells": [
    {
      "cell_type": "code",
      "execution_count": 1,
      "metadata": {},
      "outputs": [],
      "source": [
        "from typing import List\n",
        "\n",
        "\n",
        "class Solution:\n",
        "  def checkValidCuts(self, n: int, rectangles: List[List[int]]) -> bool:\n",
        "\n",
        "    def _check_cuts(rectangles: list[list[int]], dim: int) -> bool:\n",
        "      \n",
        "      sorted_rects = sorted(rectangles, key=lambda rect: rect[dim])\n",
        "\n",
        "      gap_count = 0\n",
        "      max_end = sorted_rects[0][dim + 2]\n",
        "      for rect in sorted_rects[1:]:\n",
        "        if max_end <= rect[dim]:\n",
        "          gap_count += 1\n",
        "        max_end = max(max_end, rect[dim + 2])\n",
        "\n",
        "      return gap_count >= 2\n",
        "\n",
        "    return _check_cuts(rectangles, 0) or _check_cuts(rectangles, 1)"
      ]
    },
    {
      "cell_type": "code",
      "execution_count": 2,
      "metadata": {},
      "outputs": [
        {
          "data": {
            "text/plain": [
              "True"
            ]
          },
          "execution_count": 2,
          "metadata": {},
          "output_type": "execute_result"
        }
      ],
      "source": [
        "n = 5\n",
        "rectangles = [[1, 0, 5, 2], [0, 2, 2, 4], [3, 2, 5, 3], [0, 4, 4, 5]]\n",
        "Solution().checkValidCuts(n=n, rectangles=rectangles)"
      ]
    },
    {
      "cell_type": "code",
      "execution_count": 3,
      "metadata": {},
      "outputs": [
        {
          "data": {
            "text/plain": [
              "True"
            ]
          },
          "execution_count": 3,
          "metadata": {},
          "output_type": "execute_result"
        }
      ],
      "source": [
        "n = 4\n",
        "rectangles = [[0, 0, 1, 1], [2, 0, 3, 4], [0, 2, 2, 3], [3, 0, 4, 3]]\n",
        "Solution().checkValidCuts(n=n, rectangles=rectangles)"
      ]
    },
    {
      "cell_type": "code",
      "execution_count": 4,
      "metadata": {},
      "outputs": [
        {
          "data": {
            "text/plain": [
              "False"
            ]
          },
          "execution_count": 4,
          "metadata": {},
          "output_type": "execute_result"
        }
      ],
      "source": [
        "n = 4\n",
        "rectangles = [[0, 2, 2, 4], [1, 0, 3, 2], [2, 2, 3, 4], [3, 0, 4, 2], [3, 2, 4, 4]]\n",
        "Solution().checkValidCuts(n=n, rectangles=rectangles)"
      ]
    }
  ],
  "metadata": {
    "kernelspec": {
      "display_name": "Python 3",
      "language": "python",
      "name": "python3"
    },
    "language_info": {
      "codemirror_mode": {
        "name": "ipython",
        "version": 3
      },
      "file_extension": ".py",
      "mimetype": "text/x-python",
      "name": "python",
      "nbconvert_exporter": "python",
      "pygments_lexer": "ipython3",
      "version": "3.12.1"
    }
  },
  "nbformat": 4,
  "nbformat_minor": 2
}
