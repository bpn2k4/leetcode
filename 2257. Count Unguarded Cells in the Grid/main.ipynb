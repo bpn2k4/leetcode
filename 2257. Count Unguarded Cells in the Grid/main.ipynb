{
 "cells": [
  {
   "cell_type": "code",
   "execution_count": 1,
   "metadata": {},
   "outputs": [],
   "source": [
    "from typing import List\n",
    "\n",
    "class Solution:\n",
    "  def countUnguarded(self, m: int, n: int, guards: List[List[int]], walls: List[List[int]]) -> int:\n",
    "    \n",
    "    GUARD = 2\n",
    "    WALL = 3\n",
    "    GUARDED = 1\n",
    "    UN_GUARDED = 0\n",
    "    total = 0\n",
    "    grid = [[UN_GUARDED for _ in range(n)] for _ in range(m)]\n",
    "    for x, y in walls:\n",
    "      grid[x][y] = WALL\n",
    "      total += 1\n",
    "    \n",
    "    for x, y in guards:\n",
    "      grid[x][y] = GUARD\n",
    "      total += 1\n",
    "\n",
    "    for x, y in guards:\n",
    "      for i in range(x + 1, m):\n",
    "        if grid[i][y] == GUARD or grid[i][y] == WALL:\n",
    "          break\n",
    "        else:\n",
    "          if grid[i][y] == UN_GUARDED:\n",
    "            grid[i][y] = GUARDED\n",
    "            total += 1\n",
    "\n",
    "      for i in range(x - 1, -1, -1):\n",
    "        if grid[i][y] == GUARD or grid[i][y] == WALL:\n",
    "          break\n",
    "        else:\n",
    "          if grid[i][y] == UN_GUARDED:\n",
    "            grid[i][y] = GUARDED\n",
    "            total += 1\n",
    "\n",
    "      for i in range(y + 1, n):\n",
    "        if grid[x][i] == GUARD or grid[x][i] == WALL:\n",
    "          break\n",
    "        else:\n",
    "          if grid[x][i] == UN_GUARDED:\n",
    "            grid[x][i] = GUARDED\n",
    "            total += 1\n",
    "\n",
    "      for i in range(y - 1, -1, -1):\n",
    "        if grid[x][i] == GUARD or grid[x][i] == WALL:\n",
    "          break\n",
    "        else:\n",
    "          if grid[x][i] == UN_GUARDED:\n",
    "            grid[x][i] = GUARDED\n",
    "            total += 1\n",
    "\n",
    "    return m * n - total"
   ]
  },
  {
   "cell_type": "code",
   "execution_count": 2,
   "metadata": {},
   "outputs": [
    {
     "data": {
      "text/plain": [
       "7"
      ]
     },
     "execution_count": 2,
     "metadata": {},
     "output_type": "execute_result"
    }
   ],
   "source": [
    "m = 4\n",
    "n = 6\n",
    "guards = [[0, 0], [1, 1], [2, 3]]\n",
    "walls = [[0, 1], [2, 2], [1, 4]]\n",
    "Solution().countUnguarded(m=m, n=n, guards=guards, walls=walls)"
   ]
  },
  {
   "cell_type": "code",
   "execution_count": 3,
   "metadata": {},
   "outputs": [
    {
     "data": {
      "text/plain": [
       "4"
      ]
     },
     "execution_count": 3,
     "metadata": {},
     "output_type": "execute_result"
    }
   ],
   "source": [
    "m = 3\n",
    "n = 3\n",
    "guards = [[1, 1]]\n",
    "walls = [[0, 1], [1, 0], [2, 1], [1, 2]]\n",
    "Solution().countUnguarded(m=m, n=n, guards=guards, walls=walls)"
   ]
  }
 ],
 "metadata": {
  "kernelspec": {
   "display_name": "base",
   "language": "python",
   "name": "python3"
  },
  "language_info": {
   "codemirror_mode": {
    "name": "ipython",
    "version": 3
   },
   "file_extension": ".py",
   "mimetype": "text/x-python",
   "name": "python",
   "nbconvert_exporter": "python",
   "pygments_lexer": "ipython3",
   "version": "3.11.7"
  }
 },
 "nbformat": 4,
 "nbformat_minor": 2
}
