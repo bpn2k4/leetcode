{
  "cells": [
    {
      "cell_type": "code",
      "execution_count": 1,
      "metadata": {},
      "outputs": [],
      "source": [
        "from typing import List\n",
        "\n",
        "\n",
        "class Solution:\n",
        "  def lexicographicallySmallestArray(self, nums: List[int], limit: int) -> List[int]:\n",
        "\n",
        "    size = len(nums)\n",
        "    value_index_pairs = [(value, index) for index, value in enumerate(nums)]\n",
        "    value_index_pairs.sort()\n",
        "    grouped_pairs = [[value_index_pairs[0]]]\n",
        "    for i in range(1, size):\n",
        "      if value_index_pairs[i][0] - value_index_pairs[i - 1][0] <= limit:\n",
        "        grouped_pairs[-1].append(value_index_pairs[i])\n",
        "      else:\n",
        "        grouped_pairs.append([value_index_pairs[i]])\n",
        "\n",
        "    for group in grouped_pairs:\n",
        "      indices = [index for _, index in group]\n",
        "      indices.sort()\n",
        "      group_values = [value for value, _ in group]\n",
        "\n",
        "      for i, index in enumerate(indices):\n",
        "        nums[index] = group_values[i]\n",
        "\n",
        "    return nums"
      ]
    },
    {
      "cell_type": "code",
      "execution_count": 2,
      "metadata": {},
      "outputs": [
        {
          "data": {
            "text/plain": [
              "[1, 3, 5, 8, 9]"
            ]
          },
          "execution_count": 2,
          "metadata": {},
          "output_type": "execute_result"
        }
      ],
      "source": [
        "nums = [1, 5, 3, 9, 8]\n",
        "limit = 2\n",
        "Solution().lexicographicallySmallestArray(nums=nums, limit=limit)"
      ]
    },
    {
      "cell_type": "code",
      "execution_count": 3,
      "metadata": {},
      "outputs": [
        {
          "data": {
            "text/plain": [
              "[1, 6, 7, 18, 1, 2]"
            ]
          },
          "execution_count": 3,
          "metadata": {},
          "output_type": "execute_result"
        }
      ],
      "source": [
        "nums = [1, 7, 6, 18, 2, 1]\n",
        "limit = 3\n",
        "Solution().lexicographicallySmallestArray(nums=nums, limit=limit)"
      ]
    },
    {
      "cell_type": "code",
      "execution_count": 4,
      "metadata": {},
      "outputs": [
        {
          "data": {
            "text/plain": [
              "[1, 7, 28, 19, 10]"
            ]
          },
          "execution_count": 4,
          "metadata": {},
          "output_type": "execute_result"
        }
      ],
      "source": [
        "nums = [1, 7, 28, 19, 10]\n",
        "limit = 3\n",
        "Solution().lexicographicallySmallestArray(nums=nums, limit=limit)"
      ]
    }
  ],
  "metadata": {
    "kernelspec": {
      "display_name": "base",
      "language": "python",
      "name": "python3"
    },
    "language_info": {
      "codemirror_mode": {
        "name": "ipython",
        "version": 3
      },
      "file_extension": ".py",
      "mimetype": "text/x-python",
      "name": "python",
      "nbconvert_exporter": "python",
      "pygments_lexer": "ipython3",
      "version": "3.11.7"
    }
  },
  "nbformat": 4,
  "nbformat_minor": 2
}
