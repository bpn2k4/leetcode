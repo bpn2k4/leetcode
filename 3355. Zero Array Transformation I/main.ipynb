{
  "cells": [
    {
      "cell_type": "code",
      "execution_count": 1,
      "metadata": {},
      "outputs": [],
      "source": [
        "from typing import List\n",
        "\n",
        "\n",
        "class Solution:\n",
        "  def isZeroArray(self, nums: List[int], queries: List[List[int]]) -> bool:\n",
        "    \n",
        "    n = len(nums)\n",
        "    events = [0] * (n + 1)\n",
        "    for l, r in queries:\n",
        "      events[l] += 1\n",
        "      events[r + 1] -= 1\n",
        "    prefix = 0\n",
        "    for i in range(n):\n",
        "      prefix += events[i]\n",
        "      if nums[i] > prefix:\n",
        "        return False\n",
        "\n",
        "    return True\n"
      ]
    },
    {
      "cell_type": "code",
      "execution_count": 2,
      "metadata": {},
      "outputs": [
        {
          "data": {
            "text/plain": [
              "True"
            ]
          },
          "execution_count": 2,
          "metadata": {},
          "output_type": "execute_result"
        }
      ],
      "source": [
        "nums = [1, 0, 1]\n",
        "queries = [[0, 2]]\n",
        "Solution().isZeroArray(nums=nums, queries=queries)"
      ]
    },
    {
      "cell_type": "code",
      "execution_count": 3,
      "metadata": {},
      "outputs": [
        {
          "data": {
            "text/plain": [
              "False"
            ]
          },
          "execution_count": 3,
          "metadata": {},
          "output_type": "execute_result"
        }
      ],
      "source": [
        "nums = [4, 3, 2, 1]\n",
        "queries = [[1, 3], [0, 2]]\n",
        "Solution().isZeroArray(nums=nums, queries=queries)"
      ]
    },
    {
      "cell_type": "code",
      "execution_count": 4,
      "metadata": {},
      "outputs": [
        {
          "data": {
            "text/plain": [
              "True"
            ]
          },
          "execution_count": 4,
          "metadata": {},
          "output_type": "execute_result"
        }
      ],
      "source": [
        "nums = [2]\n",
        "queries = [[0, 0], [0, 0]]\n",
        "Solution().isZeroArray(nums=nums, queries=queries)"
      ]
    },
    {
      "cell_type": "code",
      "execution_count": 5,
      "metadata": {},
      "outputs": [
        {
          "data": {
            "text/plain": [
              "False"
            ]
          },
          "execution_count": 5,
          "metadata": {},
          "output_type": "execute_result"
        }
      ],
      "source": [
        "nums = [1, 2, 1, 0, 0, 0]\n",
        "queries = [[0, 3], [2, 4]]\n",
        "Solution().isZeroArray(nums=nums, queries=queries)"
      ]
    },
    {
      "cell_type": "code",
      "execution_count": 6,
      "metadata": {},
      "outputs": [
        {
          "data": {
            "text/plain": [
              "False"
            ]
          },
          "execution_count": 6,
          "metadata": {},
          "output_type": "execute_result"
        }
      ],
      "source": [
        "nums = [3, 7]\n",
        "queries = [[0, 0], [1, 1], [0, 1], [1, 1], [0, 1]]\n",
        "Solution().isZeroArray(nums=nums, queries=queries)"
      ]
    }
  ],
  "metadata": {
    "kernelspec": {
      "display_name": "Python 3",
      "language": "python",
      "name": "python3"
    },
    "language_info": {
      "codemirror_mode": {
        "name": "ipython",
        "version": 3
      },
      "file_extension": ".py",
      "mimetype": "text/x-python",
      "name": "python",
      "nbconvert_exporter": "python",
      "pygments_lexer": "ipython3",
      "version": "3.12.1"
    }
  },
  "nbformat": 4,
  "nbformat_minor": 2
}
