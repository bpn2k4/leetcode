{
 "cells": [
  {
   "cell_type": "code",
   "execution_count": 1,
   "metadata": {},
   "outputs": [],
   "source": [
    "from typing import List\n",
    "\n",
    "\n",
    "class Solution:\n",
    "  def largeGroupPositions(self, s: str) -> List[List[int]]:\n",
    "    \n",
    "    groups = []\n",
    "    current_char = ''\n",
    "    length = 1\n",
    "    start_index = 0\n",
    "    for index, char in enumerate(s):\n",
    "      if index == 0:\n",
    "        current_char = char\n",
    "        continue\n",
    "      if char == current_char:\n",
    "        length += 1\n",
    "      else:\n",
    "        if length >= 3:\n",
    "          groups.append([start_index, index - 1])\n",
    "        current_char = char\n",
    "        length = 1\n",
    "        start_index = index\n",
    "    \n",
    "    if length >= 3:\n",
    "      groups.append([start_index, len(s) - 1])\n",
    "\n",
    "    return groups"
   ]
  },
  {
   "cell_type": "code",
   "execution_count": 2,
   "metadata": {},
   "outputs": [
    {
     "data": {
      "text/plain": [
       "[[3, 6]]"
      ]
     },
     "execution_count": 2,
     "metadata": {},
     "output_type": "execute_result"
    }
   ],
   "source": [
    "Solution().largeGroupPositions(s=\"abbxxxxzzy\")"
   ]
  },
  {
   "cell_type": "code",
   "execution_count": 3,
   "metadata": {},
   "outputs": [
    {
     "data": {
      "text/plain": [
       "[]"
      ]
     },
     "execution_count": 3,
     "metadata": {},
     "output_type": "execute_result"
    }
   ],
   "source": [
    "Solution().largeGroupPositions(s=\"abc\")"
   ]
  },
  {
   "cell_type": "code",
   "execution_count": 4,
   "metadata": {},
   "outputs": [
    {
     "data": {
      "text/plain": [
       "[[3, 5], [6, 9], [12, 14]]"
      ]
     },
     "execution_count": 4,
     "metadata": {},
     "output_type": "execute_result"
    }
   ],
   "source": [
    "Solution().largeGroupPositions(s=\"abcdddeeeeaabbbcd\")"
   ]
  }
 ],
 "metadata": {
  "kernelspec": {
   "display_name": "base",
   "language": "python",
   "name": "python3"
  },
  "language_info": {
   "codemirror_mode": {
    "name": "ipython",
    "version": 3
   },
   "file_extension": ".py",
   "mimetype": "text/x-python",
   "name": "python",
   "nbconvert_exporter": "python",
   "pygments_lexer": "ipython3",
   "version": "3.11.7"
  }
 },
 "nbformat": 4,
 "nbformat_minor": 2
}
