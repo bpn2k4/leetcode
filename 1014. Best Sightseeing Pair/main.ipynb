{
  "cells": [
    {
      "cell_type": "code",
      "execution_count": 1,
      "metadata": {},
      "outputs": [],
      "source": [
        "from typing import List\n",
        "\n",
        "\n",
        "class Solution:\n",
        "  def maxScoreSightseeingPair(self, values: List[int]) -> int:\n",
        "\n",
        "    max_i = values[0]\n",
        "    max_score = -100000\n",
        "\n",
        "    for j in range(1, len(values)):\n",
        "      max_score = max(max_score, max_i + values[j] - j)\n",
        "      max_i = max(max_i, values[j] + j)\n",
        "\n",
        "    return max_score"
      ]
    },
    {
      "cell_type": "code",
      "execution_count": 2,
      "metadata": {},
      "outputs": [
        {
          "data": {
            "text/plain": [
              "11"
            ]
          },
          "execution_count": 2,
          "metadata": {},
          "output_type": "execute_result"
        }
      ],
      "source": [
        "values = [8, 1, 5, 2, 6]\n",
        "Solution().maxScoreSightseeingPair(values=values)"
      ]
    },
    {
      "cell_type": "code",
      "execution_count": 3,
      "metadata": {},
      "outputs": [
        {
          "data": {
            "text/plain": [
              "2"
            ]
          },
          "execution_count": 3,
          "metadata": {},
          "output_type": "execute_result"
        }
      ],
      "source": [
        "values = [1, 2]\n",
        "Solution().maxScoreSightseeingPair(values=values)"
      ]
    }
  ],
  "metadata": {
    "kernelspec": {
      "display_name": "base",
      "language": "python",
      "name": "python3"
    },
    "language_info": {
      "codemirror_mode": {
        "name": "ipython",
        "version": 3
      },
      "file_extension": ".py",
      "mimetype": "text/x-python",
      "name": "python",
      "nbconvert_exporter": "python",
      "pygments_lexer": "ipython3",
      "version": "3.11.7"
    }
  },
  "nbformat": 4,
  "nbformat_minor": 2
}
