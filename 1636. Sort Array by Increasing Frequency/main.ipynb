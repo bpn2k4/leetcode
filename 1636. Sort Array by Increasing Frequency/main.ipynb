{
 "cells": [
  {
   "cell_type": "code",
   "execution_count": 37,
   "metadata": {},
   "outputs": [],
   "source": [
    "from typing import List\n",
    "\n",
    "\n",
    "class Solution:\n",
    "\n",
    "\n",
    "  def frequencySort(self, nums: List[int]) -> List[int]:\n",
    "\n",
    "    mark = [0] * 201\n",
    "    for num in nums:\n",
    "      mark[num+100] += 1\n",
    "\n",
    "    def quick_sort(arr: list[int]) -> List[int]:\n",
    "      if len(arr) <= 1:\n",
    "        return arr\n",
    "\n",
    "      pivot = arr[len(arr) // 2]\n",
    "      left = [\n",
    "          x for x in arr\n",
    "          if mark[x+100] < mark[pivot+100] or (mark[x + 100] == mark[pivot + 100] and x > pivot)\n",
    "      ]\n",
    "      middle = [\n",
    "          x for x in arr\n",
    "          if mark[x + 100] == mark[pivot + 100] and x == pivot\n",
    "      ]\n",
    "      right = [\n",
    "          x for x in arr\n",
    "          if mark[x+100] > mark[pivot+100] or (mark[x + 100] == mark[pivot + 100] and x < pivot)\n",
    "      ]\n",
    "\n",
    "      return quick_sort(left) + middle + quick_sort(right)\n",
    "\n",
    "    return quick_sort(nums)"
   ]
  },
  {
   "cell_type": "code",
   "execution_count": 38,
   "metadata": {},
   "outputs": [],
   "source": [
    "class Solution:\n",
    "\n",
    "\n",
    "  def frequencySort(self, nums: List[int]) -> List[int]:\n",
    "\n",
    "    mark = [0] * 201\n",
    "    for num in nums:\n",
    "      mark[num+100] += 1\n",
    "      \n",
    "    nums.sort(key=lambda x: (mark[x+100], -x))\n",
    "\n",
    "    return nums"
   ]
  },
  {
   "cell_type": "code",
   "execution_count": 39,
   "metadata": {},
   "outputs": [
    {
     "data": {
      "text/plain": [
       "[3, 1, 1, 2, 2, 2]"
      ]
     },
     "execution_count": 39,
     "metadata": {},
     "output_type": "execute_result"
    }
   ],
   "source": [
    "Solution().frequencySort(nums=[1, 1, 2, 2, 2, 3])"
   ]
  },
  {
   "cell_type": "code",
   "execution_count": 40,
   "metadata": {},
   "outputs": [
    {
     "data": {
      "text/plain": [
       "[1, 3, 3, 2, 2]"
      ]
     },
     "execution_count": 40,
     "metadata": {},
     "output_type": "execute_result"
    }
   ],
   "source": [
    "Solution().frequencySort(nums=[2, 3, 1, 3, 2])"
   ]
  },
  {
   "cell_type": "code",
   "execution_count": 41,
   "metadata": {},
   "outputs": [
    {
     "data": {
      "text/plain": [
       "[5, -1, 4, 4, -6, -6, 1, 1, 1]"
      ]
     },
     "execution_count": 41,
     "metadata": {},
     "output_type": "execute_result"
    }
   ],
   "source": [
    "Solution().frequencySort(nums=[-1, 1, -6, 4, 5, -6, 1, 4, 1])"
   ]
  }
 ],
 "metadata": {
  "kernelspec": {
   "display_name": "base",
   "language": "python",
   "name": "python3"
  },
  "language_info": {
   "codemirror_mode": {
    "name": "ipython",
    "version": 3
   },
   "file_extension": ".py",
   "mimetype": "text/x-python",
   "name": "python",
   "nbconvert_exporter": "python",
   "pygments_lexer": "ipython3",
   "version": "3.11.7"
  }
 },
 "nbformat": 4,
 "nbformat_minor": 2
}
