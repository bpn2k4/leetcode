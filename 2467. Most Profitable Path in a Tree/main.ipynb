{
  "cells": [
    {
      "cell_type": "code",
      "execution_count": 1,
      "metadata": {},
      "outputs": [],
      "source": [
        "from typing import List\n",
        "\n",
        "\n",
        "class Solution:\n",
        "  def mostProfitablePath(self, edges: List[List[int]], bob: int, amount: List[int]) -> int:\n",
        "    n = len(amount)\n",
        "    tree = {i: [] for i in range(n)}\n",
        "    for a, b in edges:\n",
        "      tree[a].append(b)\n",
        "      tree[b].append(a)\n",
        "\n",
        "    bob_path = {}\n",
        "\n",
        "    def dfs_bob(node, parent, depth):\n",
        "      if node == 0:\n",
        "        return True\n",
        "      for neighbor in tree[node]:\n",
        "        if neighbor != parent and dfs_bob(neighbor, node, depth + 1):\n",
        "          bob_path[node] = depth\n",
        "          return True\n",
        "      return False\n",
        "    \n",
        "    dfs_bob(bob, -1, 0)\n",
        "\n",
        "    max_profit = [-9999999999]\n",
        "\n",
        "    def dfs_alice(node, parent, depth, income):\n",
        "\n",
        "      if node in bob_path:\n",
        "        if bob_path[node] == depth:\n",
        "          income += amount[node] // 2\n",
        "        elif bob_path[node] > depth:\n",
        "          income += amount[node]\n",
        "      else:\n",
        "        income += amount[node]\n",
        "\n",
        "      if len(tree[node]) == 1 and node != 0:\n",
        "        max_profit[0] = max(max_profit[0], income)\n",
        "        return\n",
        "\n",
        "      for neighbor in tree[node]:\n",
        "        if neighbor != parent:\n",
        "          dfs_alice(neighbor, node, depth + 1, income)\n",
        "\n",
        "    dfs_alice(0, -1, 0, 0)\n",
        "\n",
        "    return max_profit[0]"
      ]
    },
    {
      "cell_type": "code",
      "execution_count": 2,
      "metadata": {},
      "outputs": [
        {
          "data": {
            "text/plain": [
              "6"
            ]
          },
          "execution_count": 2,
          "metadata": {},
          "output_type": "execute_result"
        }
      ],
      "source": [
        "edges = [[0, 1], [1, 2], [1, 3], [3, 4]]\n",
        "bob = 3\n",
        "amount = [-2, 4, 2, -4, 6]\n",
        "Solution().mostProfitablePath(edges=edges, bob=bob, amount=amount)"
      ]
    },
    {
      "cell_type": "code",
      "execution_count": 3,
      "metadata": {},
      "outputs": [
        {
          "data": {
            "text/plain": [
              "-7280"
            ]
          },
          "execution_count": 3,
          "metadata": {},
          "output_type": "execute_result"
        }
      ],
      "source": [
        "edges = [[0, 1]]\n",
        "bob = 1\n",
        "amount = [-7280, 2350]\n",
        "Solution().mostProfitablePath(edges=edges, bob=bob, amount=amount)"
      ]
    }
  ],
  "metadata": {
    "kernelspec": {
      "display_name": "Python 3",
      "language": "python",
      "name": "python3"
    },
    "language_info": {
      "codemirror_mode": {
        "name": "ipython",
        "version": 3
      },
      "file_extension": ".py",
      "mimetype": "text/x-python",
      "name": "python",
      "nbconvert_exporter": "python",
      "pygments_lexer": "ipython3",
      "version": "3.12.1"
    }
  },
  "nbformat": 4,
  "nbformat_minor": 2
}
