{
  "cells": [
    {
      "cell_type": "code",
      "execution_count": 1,
      "metadata": {},
      "outputs": [],
      "source": [
        "class Solution:\n",
        "  def canBeValid(self, s: str, locked: str) -> bool:\n",
        "\n",
        "    n = len(s)\n",
        "    if n % 2 == 1:\n",
        "      return False\n",
        "\n",
        "    open_possible, close_possible = 0, 0\n",
        "\n",
        "    for i in range(n):\n",
        "      if locked[i] == '0':\n",
        "        open_possible += 1\n",
        "      elif s[i] == '(':\n",
        "        open_possible += 1\n",
        "      else:\n",
        "        open_possible -= 1\n",
        "\n",
        "      if open_possible < 0:\n",
        "        return False\n",
        "\n",
        "    open_possible = 0\n",
        "\n",
        "    for i in range(n - 1, -1, -1):\n",
        "      if locked[i] == '0':\n",
        "        close_possible += 1\n",
        "      elif s[i] == ')':\n",
        "        close_possible += 1\n",
        "      else:\n",
        "        close_possible -= 1\n",
        "\n",
        "      if close_possible < 0:\n",
        "        return False\n",
        "\n",
        "    return True"
      ]
    },
    {
      "cell_type": "code",
      "execution_count": 2,
      "metadata": {},
      "outputs": [
        {
          "data": {
            "text/plain": [
              "True"
            ]
          },
          "execution_count": 2,
          "metadata": {},
          "output_type": "execute_result"
        }
      ],
      "source": [
        "s = \"))()))\"\n",
        "locked = \"010100\"\n",
        "Solution().canBeValid(s=s, locked=locked)"
      ]
    },
    {
      "cell_type": "code",
      "execution_count": 3,
      "metadata": {},
      "outputs": [
        {
          "data": {
            "text/plain": [
              "True"
            ]
          },
          "execution_count": 3,
          "metadata": {},
          "output_type": "execute_result"
        }
      ],
      "source": [
        "s = \"()()\"\n",
        "locked = \"0000\"\n",
        "Solution().canBeValid(s=s, locked=locked)"
      ]
    },
    {
      "cell_type": "code",
      "execution_count": 4,
      "metadata": {},
      "outputs": [
        {
          "data": {
            "text/plain": [
              "False"
            ]
          },
          "execution_count": 4,
          "metadata": {},
          "output_type": "execute_result"
        }
      ],
      "source": [
        "s = \")\"\n",
        "locked = \"0\"\n",
        "Solution().canBeValid(s=s, locked=locked)"
      ]
    }
  ],
  "metadata": {
    "kernelspec": {
      "display_name": "base",
      "language": "python",
      "name": "python3"
    },
    "language_info": {
      "codemirror_mode": {
        "name": "ipython",
        "version": 3
      },
      "file_extension": ".py",
      "mimetype": "text/x-python",
      "name": "python",
      "nbconvert_exporter": "python",
      "pygments_lexer": "ipython3",
      "version": "3.11.7"
    }
  },
  "nbformat": 4,
  "nbformat_minor": 2
}
