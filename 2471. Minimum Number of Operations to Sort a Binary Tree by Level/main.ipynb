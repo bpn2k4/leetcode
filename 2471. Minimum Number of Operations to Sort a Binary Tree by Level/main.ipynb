{
 "cells": [
  {
   "cell_type": "code",
   "execution_count": 1,
   "metadata": {},
   "outputs": [],
   "source": [
    "from typing import Optional\n",
    "\n",
    "\n",
    "class TreeNode:\n",
    "  def __init__(self, val=0, left=None, right=None):\n",
    "    self.val = val\n",
    "    self.left: Optional[TreeNode] = left\n",
    "    self.right: Optional[TreeNode] = right\n",
    "\n",
    "\n",
    "class Solution:\n",
    "  def minimumOperations(self, root: Optional[TreeNode]) -> int:\n",
    "\n",
    "    level2nodes = {}\n",
    "\n",
    "    def order(node: TreeNode, level: int):\n",
    "\n",
    "      if node is None:\n",
    "        return\n",
    "\n",
    "      if level not in level2nodes:\n",
    "        level2nodes[level] = [node.val]\n",
    "      else:\n",
    "        level2nodes[level].append(node.val)\n",
    "\n",
    "      order(node.left, level + 1)\n",
    "      order(node.right, level + 1)\n",
    "\n",
    "    def min_swap(nums: list[int]):\n",
    "\n",
    "      indexed_nums = [(num, i) for i, num in enumerate(nums)]\n",
    "      indexed_nums.sort(key=lambda x: x[0])\n",
    "\n",
    "      visited = [False] * len(nums)\n",
    "      swaps = 0\n",
    "\n",
    "      for i in range(len(nums)):\n",
    "        if visited[i] or indexed_nums[i][1] == i:\n",
    "          continue\n",
    "\n",
    "        cycle_size = 0\n",
    "        j = i\n",
    "        while not visited[j]:\n",
    "          visited[j] = True\n",
    "          j = indexed_nums[j][1]\n",
    "          cycle_size += 1\n",
    "\n",
    "        if cycle_size > 1:\n",
    "          swaps += cycle_size - 1\n",
    "\n",
    "      return swaps\n",
    "\n",
    "    order(root, 0)\n",
    "\n",
    "    total_swaps = 0\n",
    "    for nums in level2nodes.values():\n",
    "      total_swaps += min_swap(nums)\n",
    "\n",
    "    return total_swaps"
   ]
  },
  {
   "cell_type": "code",
   "execution_count": 2,
   "metadata": {},
   "outputs": [
    {
     "data": {
      "text/plain": [
       "3"
      ]
     },
     "execution_count": 2,
     "metadata": {},
     "output_type": "execute_result"
    }
   ],
   "source": [
    "root = TreeNode(1)\n",
    "root.left = TreeNode(4)\n",
    "root.right = TreeNode(3)\n",
    "root.left.left = TreeNode(7)\n",
    "root.left.right = TreeNode(6)\n",
    "root.right.left = TreeNode(8)\n",
    "root.right.right = TreeNode(5)\n",
    "root.right.left.left = TreeNode(9)\n",
    "root.right.left = TreeNode(10)\n",
    "Solution().minimumOperations(root)"
   ]
  },
  {
   "cell_type": "code",
   "execution_count": 3,
   "metadata": {},
   "outputs": [
    {
     "data": {
      "text/plain": [
       "3"
      ]
     },
     "execution_count": 3,
     "metadata": {},
     "output_type": "execute_result"
    }
   ],
   "source": [
    "root = TreeNode(1)\n",
    "root.left = TreeNode(3)\n",
    "root.right = TreeNode(2)\n",
    "root.left.left = TreeNode(7)\n",
    "root.left.right = TreeNode(6)\n",
    "root.right.left = TreeNode(5)\n",
    "root.right.right = TreeNode(4)\n",
    "Solution().minimumOperations(root)"
   ]
  },
  {
   "cell_type": "code",
   "execution_count": 4,
   "metadata": {},
   "outputs": [
    {
     "data": {
      "text/plain": [
       "0"
      ]
     },
     "execution_count": 4,
     "metadata": {},
     "output_type": "execute_result"
    }
   ],
   "source": [
    "root = TreeNode(1)\n",
    "root.left = TreeNode(2)\n",
    "root.right = TreeNode(3)\n",
    "root.left.left = TreeNode(4)\n",
    "root.left.right = TreeNode(5)\n",
    "root.right.left = TreeNode(6)\n",
    "Solution().minimumOperations(root)"
   ]
  }
 ],
 "metadata": {
  "kernelspec": {
   "display_name": "base",
   "language": "python",
   "name": "python3"
  },
  "language_info": {
   "codemirror_mode": {
    "name": "ipython",
    "version": 3
   },
   "file_extension": ".py",
   "mimetype": "text/x-python",
   "name": "python",
   "nbconvert_exporter": "python",
   "pygments_lexer": "ipython3",
   "version": "3.11.7"
  }
 },
 "nbformat": 4,
 "nbformat_minor": 2
}
