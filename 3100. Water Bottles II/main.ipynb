{
  "cells": [
    {
      "cell_type": "code",
      "execution_count": 1,
      "metadata": {},
      "outputs": [],
      "source": [
        "class Solution:\n",
        "  def maxBottlesDrunk(self, numBottles: int, numExchange: int) -> int:\n",
        "\n",
        "    ans = numBottles\n",
        "    empty = numBottles\n",
        "    while empty >= numExchange:\n",
        "      ans += 1\n",
        "      empty -= numExchange - 1\n",
        "      numExchange += 1\n",
        "      \n",
        "    return ans"
      ]
    },
    {
      "cell_type": "code",
      "execution_count": 2,
      "metadata": {},
      "outputs": [
        {
          "data": {
            "text/plain": [
              "15"
            ]
          },
          "execution_count": 2,
          "metadata": {},
          "output_type": "execute_result"
        }
      ],
      "source": [
        "numBottles = 13\n",
        "numExchange = 6\n",
        "Solution().maxBottlesDrunk(numBottles=numBottles, numExchange=numExchange)"
      ]
    },
    {
      "cell_type": "code",
      "execution_count": 3,
      "metadata": {},
      "outputs": [
        {
          "data": {
            "text/plain": [
              "13"
            ]
          },
          "execution_count": 3,
          "metadata": {},
          "output_type": "execute_result"
        }
      ],
      "source": [
        "numBottles = 10\n",
        "numExchange = 3\n",
        "Solution().maxBottlesDrunk(numBottles=numBottles, numExchange=numExchange)"
      ]
    }
  ],
  "metadata": {
    "kernelspec": {
      "display_name": "Python 3",
      "language": "python",
      "name": "python3"
    },
    "language_info": {
      "codemirror_mode": {
        "name": "ipython",
        "version": 3
      },
      "file_extension": ".py",
      "mimetype": "text/x-python",
      "name": "python",
      "nbconvert_exporter": "python",
      "pygments_lexer": "ipython3",
      "version": "3.12.1"
    }
  },
  "nbformat": 4,
  "nbformat_minor": 2
}
