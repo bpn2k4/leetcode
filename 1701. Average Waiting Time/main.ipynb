{
 "cells": [
  {
   "cell_type": "code",
   "execution_count": 46,
   "metadata": {},
   "outputs": [],
   "source": [
    "from typing import List\n",
    "\n",
    "\n",
    "class Solution:\n",
    "  def averageWaitingTime(self, customers: List[List[int]]) -> float:\n",
    "    total_wait_time = 0\n",
    "    finish_time = 0\n",
    "    for customer in customers:\n",
    "      arrival_time, require_time = customer\n",
    "      start_time = max(finish_time, arrival_time)\n",
    "      finish_time = start_time + require_time\n",
    "      wait_time = (finish_time - arrival_time)\n",
    "      total_wait_time += wait_time\n",
    "    return total_wait_time / len(customers)"
   ]
  },
  {
   "cell_type": "code",
   "execution_count": 47,
   "metadata": {},
   "outputs": [
    {
     "data": {
      "text/plain": [
       "5.0"
      ]
     },
     "execution_count": 47,
     "metadata": {},
     "output_type": "execute_result"
    }
   ],
   "source": [
    "Solution().averageWaitingTime([[1,2],[2,5],[4,3]])"
   ]
  },
  {
   "cell_type": "code",
   "execution_count": 48,
   "metadata": {},
   "outputs": [
    {
     "data": {
      "text/plain": [
       "3.25"
      ]
     },
     "execution_count": 48,
     "metadata": {},
     "output_type": "execute_result"
    }
   ],
   "source": [
    "Solution().averageWaitingTime([[5,2],[5,4],[10,3],[20,1]])"
   ]
  }
 ],
 "metadata": {
  "kernelspec": {
   "display_name": "base",
   "language": "python",
   "name": "python3"
  },
  "language_info": {
   "codemirror_mode": {
    "name": "ipython",
    "version": 3
   },
   "file_extension": ".py",
   "mimetype": "text/x-python",
   "name": "python",
   "nbconvert_exporter": "python",
   "pygments_lexer": "ipython3",
   "version": "3.11.7"
  }
 },
 "nbformat": 4,
 "nbformat_minor": 2
}
