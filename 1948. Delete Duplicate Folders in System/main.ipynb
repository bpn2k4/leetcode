{
  "cells": [
    {
      "cell_type": "code",
      "execution_count": 1,
      "metadata": {},
      "outputs": [],
      "source": [
        "from typing import List\n",
        "\n",
        "from typing import List\n",
        "\n",
        "\n",
        "class TrieNode:\n",
        "  def __init__(self):\n",
        "    self.children: dict[str, TrieNode] = {}\n",
        "    self.is_deleted = False\n",
        "\n",
        "\n",
        "\n",
        "class Solution:\n",
        "\n",
        "  def deleteDuplicateFolder(self, paths: List[List[str]]) -> List[List[str]]:\n",
        "\n",
        "    root = TrieNode()\n",
        "\n",
        "    for path in paths:\n",
        "      curr = root\n",
        "      for folder in path:\n",
        "        if folder not in curr.children:\n",
        "          curr.children[folder] = TrieNode()\n",
        "        curr = curr.children[folder]\n",
        "\n",
        "    subtree_map: dict[str, List[TrieNode]] = {}\n",
        "\n",
        "    def serialize(node: TrieNode) -> str:\n",
        "      if not node.children:\n",
        "        return \"\"\n",
        "      serial = []\n",
        "      for name in sorted(node.children):\n",
        "        child_serial = serialize(node.children[name])\n",
        "        serial.append(f\"{name}({child_serial})\")\n",
        "      serial_str = \"\".join(serial)\n",
        "      if serial_str not in subtree_map:\n",
        "        subtree_map[serial_str] = []\n",
        "      subtree_map[serial_str].append(node)\n",
        "      return serial_str\n",
        "\n",
        "    serialize(root)\n",
        "\n",
        "    for nodes in subtree_map.values():\n",
        "      if len(nodes) > 1:\n",
        "        for node in nodes:\n",
        "          node.is_deleted = True\n",
        "\n",
        "    result = []\n",
        "\n",
        "    def dfs(node: TrieNode, path: List[str]):\n",
        "      for name, child in node.children.items():\n",
        "        if not child.is_deleted:\n",
        "          result.append(path + [name])\n",
        "          dfs(child, path + [name])\n",
        "\n",
        "    dfs(root, [])\n",
        "\n",
        "    return result"
      ]
    },
    {
      "cell_type": "code",
      "execution_count": 2,
      "metadata": {},
      "outputs": [
        {
          "data": {
            "text/plain": [
              "[['d'], ['d', 'a']]"
            ]
          },
          "execution_count": 2,
          "metadata": {},
          "output_type": "execute_result"
        }
      ],
      "source": [
        "paths = [[\"a\"], [\"c\"], [\"d\"], [\"a\", \"b\"], [\"c\", \"b\"], [\"d\", \"a\"]]\n",
        "Solution().deleteDuplicateFolder(paths=paths)"
      ]
    },
    {
      "cell_type": "code",
      "execution_count": 3,
      "metadata": {},
      "outputs": [
        {
          "data": {
            "text/plain": [
              "[['a'], ['a', 'b'], ['c'], ['c', 'b']]"
            ]
          },
          "execution_count": 3,
          "metadata": {},
          "output_type": "execute_result"
        }
      ],
      "source": [
        "paths = [[\"a\"], [\"c\"], [\"a\", \"b\"], [\"c\", \"b\"], [\"a\", \"b\", \"x\"], [\"a\", \"b\", \"x\", \"y\"], [\"w\"], [\"w\", \"y\"]]\n",
        "Solution().deleteDuplicateFolder(paths=paths)"
      ]
    },
    {
      "cell_type": "code",
      "execution_count": 4,
      "metadata": {},
      "outputs": [
        {
          "data": {
            "text/plain": [
              "[['a'], ['a', 'b'], ['c'], ['c', 'd']]"
            ]
          },
          "execution_count": 4,
          "metadata": {},
          "output_type": "execute_result"
        }
      ],
      "source": [
        "paths = [[\"a\", \"b\"], [\"c\", \"d\"], [\"c\"], [\"a\"]]\n",
        "Solution().deleteDuplicateFolder(paths=paths)"
      ]
    }
  ],
  "metadata": {
    "kernelspec": {
      "display_name": "Python 3",
      "language": "python",
      "name": "python3"
    },
    "language_info": {
      "codemirror_mode": {
        "name": "ipython",
        "version": 3
      },
      "file_extension": ".py",
      "mimetype": "text/x-python",
      "name": "python",
      "nbconvert_exporter": "python",
      "pygments_lexer": "ipython3",
      "version": "3.12.8"
    }
  },
  "nbformat": 4,
  "nbformat_minor": 2
}
