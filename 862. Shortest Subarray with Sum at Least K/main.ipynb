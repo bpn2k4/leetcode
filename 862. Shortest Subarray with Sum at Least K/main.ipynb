{
 "cells": [
  {
   "cell_type": "code",
   "execution_count": 1,
   "metadata": {},
   "outputs": [],
   "source": [
    "from typing import List\n",
    "from collections import deque\n",
    "\n",
    "\n",
    "class Solution:\n",
    "  def shortestSubarray(self, nums: List[int], k: int) -> int:\n",
    "    \n",
    "    n = len(nums)\n",
    "    min_length = 100001\n",
    "    prefix_sum = [0]\n",
    "    for num in nums:\n",
    "      prefix_sum.append(prefix_sum[-1] + num)\n",
    "\n",
    "    queue = deque()\n",
    "    for i in range(n + 1):\n",
    "      while queue and prefix_sum[i] - prefix_sum[queue[0]] >= k:\n",
    "        min_length = min(min_length, i - queue.popleft())\n",
    "\n",
    "      while queue and prefix_sum[i] <= prefix_sum[queue[-1]]:\n",
    "        queue.pop()\n",
    "\n",
    "      queue.append(i)\n",
    "\n",
    "    if min_length == 100001:\n",
    "      return -1\n",
    "    \n",
    "    return min_length"
   ]
  },
  {
   "cell_type": "code",
   "execution_count": 2,
   "metadata": {},
   "outputs": [
    {
     "data": {
      "text/plain": [
       "1"
      ]
     },
     "execution_count": 2,
     "metadata": {},
     "output_type": "execute_result"
    }
   ],
   "source": [
    "nums = [1]\n",
    "k = 1\n",
    "Solution().shortestSubarray(nums=nums, k=k)"
   ]
  },
  {
   "cell_type": "code",
   "execution_count": 3,
   "metadata": {},
   "outputs": [
    {
     "data": {
      "text/plain": [
       "-1"
      ]
     },
     "execution_count": 3,
     "metadata": {},
     "output_type": "execute_result"
    }
   ],
   "source": [
    "nums = [1, 2]\n",
    "k = 4\n",
    "Solution().shortestSubarray(nums=nums, k=k)"
   ]
  },
  {
   "cell_type": "code",
   "execution_count": 4,
   "metadata": {},
   "outputs": [
    {
     "data": {
      "text/plain": [
       "3"
      ]
     },
     "execution_count": 4,
     "metadata": {},
     "output_type": "execute_result"
    }
   ],
   "source": [
    "nums = [2, -1, 2]\n",
    "k = 3\n",
    "Solution().shortestSubarray(nums=nums, k=k)"
   ]
  },
  {
   "cell_type": "code",
   "execution_count": 5,
   "metadata": {},
   "outputs": [
    {
     "data": {
      "text/plain": [
       "2"
      ]
     },
     "execution_count": 5,
     "metadata": {},
     "output_type": "execute_result"
    }
   ],
   "source": [
    "nums = [17, 85, 93, -45, -21]\n",
    "k = 150\n",
    "Solution().shortestSubarray(nums=nums, k=k)"
   ]
  }
 ],
 "metadata": {
  "kernelspec": {
   "display_name": "base",
   "language": "python",
   "name": "python3"
  },
  "language_info": {
   "codemirror_mode": {
    "name": "ipython",
    "version": 3
   },
   "file_extension": ".py",
   "mimetype": "text/x-python",
   "name": "python",
   "nbconvert_exporter": "python",
   "pygments_lexer": "ipython3",
   "version": "3.11.7"
  }
 },
 "nbformat": 4,
 "nbformat_minor": 2
}
