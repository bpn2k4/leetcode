{
  "cells": [
    {
      "cell_type": "code",
      "execution_count": 1,
      "metadata": {},
      "outputs": [],
      "source": [
        "from typing import List\n",
        "\n",
        "\n",
        "class Solution:\n",
        "  def findNumbers(self, nums: List[int]) -> int:\n",
        "    \n",
        "    def is_even_number_of_digits(num: int) -> bool:\n",
        "      if num < 10:\n",
        "        return False\n",
        "      if num < 100:\n",
        "        return True\n",
        "      if num < 1000:\n",
        "        return False\n",
        "      if num < 10000:\n",
        "        return True\n",
        "      if num < 100000:\n",
        "        return False\n",
        "      return True\n",
        "    \n",
        "    return sum(is_even_number_of_digits(num) for num in nums)"
      ]
    },
    {
      "cell_type": "code",
      "execution_count": 2,
      "metadata": {},
      "outputs": [
        {
          "data": {
            "text/plain": [
              "2"
            ]
          },
          "execution_count": 2,
          "metadata": {},
          "output_type": "execute_result"
        }
      ],
      "source": [
        "nums = [12, 345, 2, 6, 7896]\n",
        "Solution().findNumbers(nums=nums)"
      ]
    },
    {
      "cell_type": "code",
      "execution_count": 3,
      "metadata": {},
      "outputs": [
        {
          "data": {
            "text/plain": [
              "1"
            ]
          },
          "execution_count": 3,
          "metadata": {},
          "output_type": "execute_result"
        }
      ],
      "source": [
        "nums = [555, 901, 482, 1771]\n",
        "Solution().findNumbers(nums=nums)"
      ]
    }
  ],
  "metadata": {
    "kernelspec": {
      "display_name": "Python 3",
      "language": "python",
      "name": "python3"
    },
    "language_info": {
      "codemirror_mode": {
        "name": "ipython",
        "version": 3
      },
      "file_extension": ".py",
      "mimetype": "text/x-python",
      "name": "python",
      "nbconvert_exporter": "python",
      "pygments_lexer": "ipython3",
      "version": "3.12.8"
    }
  },
  "nbformat": 4,
  "nbformat_minor": 2
}
