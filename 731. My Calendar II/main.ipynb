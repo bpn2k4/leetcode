{
 "cells": [
  {
   "cell_type": "code",
   "execution_count": 1,
   "metadata": {},
   "outputs": [],
   "source": [
    "class MyCalendarTwo:\n",
    "\n",
    "  def __init__(self):\n",
    "    self.booked = []\n",
    "    self.overlap = []\n",
    "\n",
    "  def book(self, start: int, end: int) -> bool:\n",
    "    \n",
    "    for begin, finish in self.overlap:\n",
    "      if start < finish and end > begin:\n",
    "        return False\n",
    "      \n",
    "    for begin, finish in self.booked:\n",
    "      if start < finish and end > begin:\n",
    "        self.overlap.append((max(begin, start), min(finish, end)))\n",
    "\n",
    "    self.booked.append((start, end))\n",
    "\n",
    "    return True"
   ]
  },
  {
   "cell_type": "code",
   "execution_count": 2,
   "metadata": {},
   "outputs": [
    {
     "data": {
      "text/plain": [
       "(True, True, True, False, True, True)"
      ]
     },
     "execution_count": 2,
     "metadata": {},
     "output_type": "execute_result"
    }
   ],
   "source": [
    "calendar = MyCalendarTwo()\n",
    "calendar.book(10, 20), \\\n",
    "    calendar.book(50, 60), \\\n",
    "    calendar.book(10, 40), \\\n",
    "    calendar.book(5, 15), \\\n",
    "    calendar.book(5, 10), \\\n",
    "    calendar.book(25, 55)"
   ]
  }
 ],
 "metadata": {
  "kernelspec": {
   "display_name": "base",
   "language": "python",
   "name": "python3"
  },
  "language_info": {
   "codemirror_mode": {
    "name": "ipython",
    "version": 3
   },
   "file_extension": ".py",
   "mimetype": "text/x-python",
   "name": "python",
   "nbconvert_exporter": "python",
   "pygments_lexer": "ipython3",
   "version": "3.11.7"
  }
 },
 "nbformat": 4,
 "nbformat_minor": 2
}
