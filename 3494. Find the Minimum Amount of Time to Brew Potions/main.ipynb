{
  "cells": [
    {
      "cell_type": "code",
      "execution_count": 1,
      "metadata": {},
      "outputs": [],
      "source": [
        "from typing import List\n",
        "\n",
        "\n",
        "class Solution:\n",
        "  def minTime(self, skill: List[int], mana: List[int]) -> int:\n",
        "\n",
        "    n, m = len(skill), len(mana)\n",
        "    times = [0] * n\n",
        "    for j in range(m):\n",
        "      cur_time = 0\n",
        "      for i in range(n):\n",
        "        cur_time = max(cur_time, times[i]) + skill[i] * mana[j]\n",
        "      times[n - 1] = cur_time\n",
        "      for i in range(n - 2, -1, -1):\n",
        "        times[i] = times[i + 1] - skill[i + 1] * mana[j]\n",
        "        \n",
        "    return times[n - 1]"
      ]
    },
    {
      "cell_type": "code",
      "execution_count": 2,
      "metadata": {},
      "outputs": [
        {
          "data": {
            "text/plain": [
              "110"
            ]
          },
          "execution_count": 2,
          "metadata": {},
          "output_type": "execute_result"
        }
      ],
      "source": [
        "skill = [1, 5, 2, 4]\n",
        "mana = [5, 1, 4, 2]\n",
        "Solution().minTime(skill=skill, mana=mana)"
      ]
    },
    {
      "cell_type": "code",
      "execution_count": 3,
      "metadata": {},
      "outputs": [
        {
          "data": {
            "text/plain": [
              "5"
            ]
          },
          "execution_count": 3,
          "metadata": {},
          "output_type": "execute_result"
        }
      ],
      "source": [
        "skill = [1, 1, 1]\n",
        "mana = [1, 1, 1]\n",
        "Solution().minTime(skill=skill, mana=mana)"
      ]
    },
    {
      "cell_type": "code",
      "execution_count": 4,
      "metadata": {},
      "outputs": [
        {
          "data": {
            "text/plain": [
              "21"
            ]
          },
          "execution_count": 4,
          "metadata": {},
          "output_type": "execute_result"
        }
      ],
      "source": [
        "skill = [1, 2, 3, 4]\n",
        "mana = [1, 2]\n",
        "Solution().minTime(skill=skill, mana=mana)"
      ]
    }
  ],
  "metadata": {
    "kernelspec": {
      "display_name": "Python 3",
      "language": "python",
      "name": "python3"
    },
    "language_info": {
      "codemirror_mode": {
        "name": "ipython",
        "version": 3
      },
      "file_extension": ".py",
      "mimetype": "text/x-python",
      "name": "python",
      "nbconvert_exporter": "python",
      "pygments_lexer": "ipython3",
      "version": "3.12.8"
    }
  },
  "nbformat": 4,
  "nbformat_minor": 2
}
