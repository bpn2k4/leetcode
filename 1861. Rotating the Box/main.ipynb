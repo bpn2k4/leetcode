{
 "cells": [
  {
   "cell_type": "code",
   "execution_count": 1,
   "metadata": {},
   "outputs": [],
   "source": [
    "from typing import List\n",
    "\n",
    "\n",
    "class Solution:\n",
    "  def rotateTheBox(self, box: List[List[str]]) -> List[List[str]]:\n",
    "    \n",
    "    m, n = len(box), len(box[0])\n",
    "    for r in range(m):\n",
    "      for c in range(n - 1, -1, -1):\n",
    "        if box[r][c] == '#':\n",
    "          i = c\n",
    "          while i + 1 < n and box[r][i + 1] == '.':\n",
    "            i += 1\n",
    "          if i != c:\n",
    "            box[r][i], box[r][c] = box[r][c], box[r][i]\n",
    "\n",
    "    matrix = [[0 for _ in range(m)] for _ in range(n)]\n",
    "    for r in range(m):\n",
    "      for c in range(n):\n",
    "        matrix[c][m - 1 - r] = box[r][c]\n",
    "\n",
    "    return matrix\n",
    "  \n",
    "  def rotateTheBox(self, box: List[List[str]]) -> List[List[str]]:\n",
    "\n",
    "    m, n = len(box), len(box[0])\n",
    "    new_box = []\n",
    "    for r in range(m):\n",
    "      row = []\n",
    "      stones = 0\n",
    "      for c in range(n):\n",
    "        if box[r][c] == '#':\n",
    "          stones += 1\n",
    "        elif box[r][c] == '*':\n",
    "          if stones > 0:\n",
    "            row += ['#'] * stones\n",
    "            stones = 0\n",
    "          row.append('*')\n",
    "        else:\n",
    "          row.append('.')\n",
    "      if stones > 0:\n",
    "        row += ['#'] * stones\n",
    "\n",
    "      new_box.append(row)\n",
    "\n",
    "    matrix = [[0 for _ in range(m)] for _ in range(n)]\n",
    "    for r in range(m):\n",
    "      for c in range(n):\n",
    "        matrix[c][m - 1 - r] = new_box[r][c]\n",
    "\n",
    "    return matrix"
   ]
  },
  {
   "cell_type": "code",
   "execution_count": 2,
   "metadata": {},
   "outputs": [
    {
     "data": {
      "text/plain": [
       "[['.'], ['#'], ['#']]"
      ]
     },
     "execution_count": 2,
     "metadata": {},
     "output_type": "execute_result"
    }
   ],
   "source": [
    "box = [[\"#\", \".\", \"#\"]]\n",
    "Solution().rotateTheBox(box=box)"
   ]
  },
  {
   "cell_type": "code",
   "execution_count": 3,
   "metadata": {},
   "outputs": [
    {
     "data": {
      "text/plain": [
       "[['#', '.'], ['#', '#'], ['*', '*'], ['.', '.']]"
      ]
     },
     "execution_count": 3,
     "metadata": {},
     "output_type": "execute_result"
    }
   ],
   "source": [
    "box = [\n",
    "    [\"#\", \".\", \"*\", \".\"],\n",
    "    [\"#\", \"#\", \"*\", \".\"]\n",
    "]\n",
    "Solution().rotateTheBox(box=box)"
   ]
  },
  {
   "cell_type": "code",
   "execution_count": 4,
   "metadata": {},
   "outputs": [
    {
     "data": {
      "text/plain": [
       "[['.', '#', '#'],\n",
       " ['.', '#', '#'],\n",
       " ['#', '#', '*'],\n",
       " ['#', '*', '.'],\n",
       " ['#', '.', '*'],\n",
       " ['#', '.', '.']]"
      ]
     },
     "execution_count": 4,
     "metadata": {},
     "output_type": "execute_result"
    }
   ],
   "source": [
    "box = [\n",
    "    [\"#\", \"#\", \"*\", \".\", \"*\", \".\"],\n",
    "    [\"#\", \"#\", \"#\", \"*\", \".\", \".\"],\n",
    "    [\"#\", \"#\", \"#\", \".\", \"#\", \".\"]\n",
    "]\n",
    "Solution().rotateTheBox(box=box)"
   ]
  }
 ],
 "metadata": {
  "kernelspec": {
   "display_name": "base",
   "language": "python",
   "name": "python3"
  },
  "language_info": {
   "codemirror_mode": {
    "name": "ipython",
    "version": 3
   },
   "file_extension": ".py",
   "mimetype": "text/x-python",
   "name": "python",
   "nbconvert_exporter": "python",
   "pygments_lexer": "ipython3",
   "version": "3.11.7"
  }
 },
 "nbformat": 4,
 "nbformat_minor": 2
}
