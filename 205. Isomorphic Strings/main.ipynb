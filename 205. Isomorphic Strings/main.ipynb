{
  "cells": [
    {
      "cell_type": "code",
      "execution_count": 1,
      "metadata": {},
      "outputs": [],
      "source": [
        "class Solution:\n",
        "  def isIsomorphic(self, s: str, t: str) -> bool:\n",
        "    \n",
        "    char2char = {}\n",
        "    for char1, char2 in zip(s, t):\n",
        "      if char1 not in char2char:\n",
        "        if char2 not in char2char.values():\n",
        "          char2char[char1] = char2\n",
        "        else:\n",
        "          return False\n",
        "      else:\n",
        "        if char2char[char1] != char2:\n",
        "          return False\n",
        "      \n",
        "    return True"
      ]
    },
    {
      "cell_type": "code",
      "execution_count": 2,
      "metadata": {},
      "outputs": [
        {
          "data": {
            "text/plain": [
              "False"
            ]
          },
          "execution_count": 2,
          "metadata": {},
          "output_type": "execute_result"
        }
      ],
      "source": [
        "s = \"badc\"\n",
        "t = \"baba\"\n",
        "Solution().isIsomorphic(s=s, t=t)"
      ]
    },
    {
      "cell_type": "code",
      "execution_count": 3,
      "metadata": {},
      "outputs": [
        {
          "data": {
            "text/plain": [
              "True"
            ]
          },
          "execution_count": 3,
          "metadata": {},
          "output_type": "execute_result"
        }
      ],
      "source": [
        "s = \"egg\"\n",
        "t = \"add\"\n",
        "Solution().isIsomorphic(s=s, t=t)"
      ]
    },
    {
      "cell_type": "code",
      "execution_count": 4,
      "metadata": {},
      "outputs": [
        {
          "data": {
            "text/plain": [
              "False"
            ]
          },
          "execution_count": 4,
          "metadata": {},
          "output_type": "execute_result"
        }
      ],
      "source": [
        "s = \"foo\"\n",
        "t = \"bar\"\n",
        "Solution().isIsomorphic(s=s, t=t)"
      ]
    },
    {
      "cell_type": "code",
      "execution_count": 5,
      "metadata": {},
      "outputs": [
        {
          "data": {
            "text/plain": [
              "True"
            ]
          },
          "execution_count": 5,
          "metadata": {},
          "output_type": "execute_result"
        }
      ],
      "source": [
        "s = \"paper\"\n",
        "t = \"title\"\n",
        "Solution().isIsomorphic(s=s, t=t)"
      ]
    }
  ],
  "metadata": {
    "kernelspec": {
      "display_name": "Python 3",
      "language": "python",
      "name": "python3"
    },
    "language_info": {
      "codemirror_mode": {
        "name": "ipython",
        "version": 3
      },
      "file_extension": ".py",
      "mimetype": "text/x-python",
      "name": "python",
      "nbconvert_exporter": "python",
      "pygments_lexer": "ipython3",
      "version": "3.12.8"
    }
  },
  "nbformat": 4,
  "nbformat_minor": 2
}
