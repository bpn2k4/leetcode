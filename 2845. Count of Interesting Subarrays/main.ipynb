{
  "cells": [
    {
      "cell_type": "code",
      "execution_count": 1,
      "metadata": {},
      "outputs": [],
      "source": [
        "from typing import List\n",
        "\n",
        "\n",
        "class Solution:\n",
        "  def countInterestingSubarrays(self, nums: List[int], modulo: int, k: int) -> int:\n",
        "    \n",
        "    n = len(nums)\n",
        "    count = 0\n",
        "    num2count = {0: 1}\n",
        "    prefix = 0\n",
        "    for i in range(n):\n",
        "      if nums[i] % modulo == k:\n",
        "        prefix += 1\n",
        "      count += num2count.get((prefix - k + modulo) % modulo, 0)\n",
        "      num2count[prefix % modulo] = num2count.get(prefix % modulo, 0) + 1\n",
        "\n",
        "    return count"
      ]
    },
    {
      "cell_type": "code",
      "execution_count": 2,
      "metadata": {},
      "outputs": [
        {
          "data": {
            "text/plain": [
              "3"
            ]
          },
          "execution_count": 2,
          "metadata": {},
          "output_type": "execute_result"
        }
      ],
      "source": [
        "nums = [3, 2, 4]\n",
        "modulo = 2\n",
        "k = 1\n",
        "Solution().countInterestingSubarrays(nums=nums, modulo=modulo, k=k)"
      ]
    },
    {
      "cell_type": "code",
      "execution_count": 3,
      "metadata": {},
      "outputs": [
        {
          "data": {
            "text/plain": [
              "2"
            ]
          },
          "execution_count": 3,
          "metadata": {},
          "output_type": "execute_result"
        }
      ],
      "source": [
        "nums = [3, 1, 9, 6]\n",
        "modulo = 3\n",
        "k = 0\n",
        "Solution().countInterestingSubarrays(nums=nums, modulo=modulo, k=k)"
      ]
    }
  ],
  "metadata": {
    "kernelspec": {
      "display_name": "Python 3",
      "language": "python",
      "name": "python3"
    },
    "language_info": {
      "codemirror_mode": {
        "name": "ipython",
        "version": 3
      },
      "file_extension": ".py",
      "mimetype": "text/x-python",
      "name": "python",
      "nbconvert_exporter": "python",
      "pygments_lexer": "ipython3",
      "version": "3.12.8"
    }
  },
  "nbformat": 4,
  "nbformat_minor": 2
}
