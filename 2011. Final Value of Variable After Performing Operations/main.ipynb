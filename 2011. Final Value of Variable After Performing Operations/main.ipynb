{
  "cells": [
    {
      "cell_type": "code",
      "execution_count": 1,
      "metadata": {},
      "outputs": [],
      "source": [
        "from typing import List\n",
        "\n",
        "\n",
        "class Solution:\n",
        "  def finalValueAfterOperations(self, operations: List[str]) -> int:\n",
        "    \n",
        "    value = 0\n",
        "    for operation in operations:\n",
        "      if operation[0] == '-':\n",
        "        value -= 1\n",
        "      if operation[0] == '+':\n",
        "        value += 1\n",
        "      if operation[2] == '-':\n",
        "        value -= 1\n",
        "      if operation[2] == '+':\n",
        "        value += 1\n",
        "    \n",
        "    return value"
      ]
    },
    {
      "cell_type": "code",
      "execution_count": 2,
      "metadata": {},
      "outputs": [
        {
          "data": {
            "text/plain": [
              "1"
            ]
          },
          "execution_count": 2,
          "metadata": {},
          "output_type": "execute_result"
        }
      ],
      "source": [
        "operations = [\"--X\", \"X++\", \"X++\"]\n",
        "Solution().finalValueAfterOperations(operations=operations)"
      ]
    },
    {
      "cell_type": "code",
      "execution_count": 3,
      "metadata": {},
      "outputs": [
        {
          "data": {
            "text/plain": [
              "3"
            ]
          },
          "execution_count": 3,
          "metadata": {},
          "output_type": "execute_result"
        }
      ],
      "source": [
        "operations = [\"++X\", \"++X\", \"X++\"]\n",
        "Solution().finalValueAfterOperations(operations=operations)"
      ]
    },
    {
      "cell_type": "code",
      "execution_count": 4,
      "metadata": {},
      "outputs": [
        {
          "data": {
            "text/plain": [
              "0"
            ]
          },
          "execution_count": 4,
          "metadata": {},
          "output_type": "execute_result"
        }
      ],
      "source": [
        "operations = [\"X++\", \"++X\", \"--X\", \"X--\"]\n",
        "Solution().finalValueAfterOperations(operations=operations)"
      ]
    }
  ],
  "metadata": {
    "kernelspec": {
      "display_name": "Python 3",
      "language": "python",
      "name": "python3"
    },
    "language_info": {
      "codemirror_mode": {
        "name": "ipython",
        "version": 3
      },
      "file_extension": ".py",
      "mimetype": "text/x-python",
      "name": "python",
      "nbconvert_exporter": "python",
      "pygments_lexer": "ipython3",
      "version": "3.12.8"
    }
  },
  "nbformat": 4,
  "nbformat_minor": 2
}
