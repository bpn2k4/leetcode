{
  "cells": [
    {
      "cell_type": "code",
      "execution_count": 1,
      "metadata": {},
      "outputs": [],
      "source": [
        "class Solution:\n",
        "  POWER_OF_THREE = {\n",
        "      1, 3, 9, 27, 81, 243, 729, 2187, 6561, 19683,\n",
        "      59049, 177147, 531441, 1594323, 4782969, 14348907,\n",
        "      43046721, 129140163, 387420489, 1162261467\n",
        "  }\n",
        "\n",
        "  def isPowerOfThree(self, n: int) -> bool:\n",
        "\n",
        "    if n <= 0:\n",
        "      return False\n",
        "\n",
        "    while n % 3 == 0:\n",
        "      n //= 3\n",
        "\n",
        "    return n == 1\n",
        "\n",
        "  def isPowerOfThree(self, n: int) -> bool:\n",
        "\n",
        "    return n in self.POWER_OF_THREE"
      ]
    },
    {
      "cell_type": "code",
      "execution_count": 2,
      "metadata": {},
      "outputs": [
        {
          "data": {
            "text/plain": [
              "True"
            ]
          },
          "execution_count": 2,
          "metadata": {},
          "output_type": "execute_result"
        }
      ],
      "source": [
        "n = 27\n",
        "Solution().isPowerOfThree(n=n)"
      ]
    },
    {
      "cell_type": "code",
      "execution_count": 3,
      "metadata": {},
      "outputs": [
        {
          "data": {
            "text/plain": [
              "False"
            ]
          },
          "execution_count": 3,
          "metadata": {},
          "output_type": "execute_result"
        }
      ],
      "source": [
        "n = 0\n",
        "Solution().isPowerOfThree(n=n)"
      ]
    },
    {
      "cell_type": "code",
      "execution_count": 4,
      "metadata": {},
      "outputs": [
        {
          "data": {
            "text/plain": [
              "False"
            ]
          },
          "execution_count": 4,
          "metadata": {},
          "output_type": "execute_result"
        }
      ],
      "source": [
        "n = -1\n",
        "Solution().isPowerOfThree(n=n)"
      ]
    }
  ],
  "metadata": {
    "kernelspec": {
      "display_name": "Python 3",
      "language": "python",
      "name": "python3"
    },
    "language_info": {
      "codemirror_mode": {
        "name": "ipython",
        "version": 3
      },
      "file_extension": ".py",
      "mimetype": "text/x-python",
      "name": "python",
      "nbconvert_exporter": "python",
      "pygments_lexer": "ipython3",
      "version": "3.12.8"
    }
  },
  "nbformat": 4,
  "nbformat_minor": 2
}
