{
 "cells": [
  {
   "cell_type": "code",
   "execution_count": 6,
   "metadata": {},
   "outputs": [],
   "source": [
    "class Solution:\n",
    "  def countOfAtoms(self, formula: str) -> str:\n",
    "    stack = [{}]\n",
    "    n = len(formula)\n",
    "    i = 0\n",
    "    while i < n:\n",
    "      if formula[i] == '(':\n",
    "        stack.append({})\n",
    "        i += 1\n",
    "      elif formula[i] == ')':\n",
    "        i += 1\n",
    "        i_start = i\n",
    "        while i < n and formula[i].isdigit():\n",
    "          i += 1\n",
    "        multiplicity = int(formula[i_start:i] or 1)\n",
    "        top = stack.pop()\n",
    "        for element, count in top.items():\n",
    "          if element in stack[-1]:\n",
    "            stack[-1][element] += count * multiplicity\n",
    "          else:\n",
    "            stack[-1][element] = count * multiplicity\n",
    "      else:\n",
    "        i_start = i\n",
    "        i += 1\n",
    "        while i < n and formula[i].islower():\n",
    "          i += 1\n",
    "        name = formula[i_start:i]\n",
    "        i_start = i\n",
    "        while i < n and formula[i].isdigit():\n",
    "          i += 1\n",
    "        multiplicity = int(formula[i_start:i] or 1)\n",
    "        if name in stack[-1]:\n",
    "          stack[-1][name] += multiplicity\n",
    "        else:\n",
    "          stack[-1][name] = multiplicity\n",
    "    mark_dict = stack[0]\n",
    "    arr = [[i, mark_dict[i]] for i in mark_dict]\n",
    "    arr.sort(key=lambda x: x[0])\n",
    "    result = ''\n",
    "    for i in arr:\n",
    "      result += i[0] + (str(i[1]) if i[1] > 1 else '')\n",
    "    return result"
   ]
  },
  {
   "cell_type": "code",
   "execution_count": 7,
   "metadata": {},
   "outputs": [
    {
     "data": {
      "text/plain": [
       "'H2O1'"
      ]
     },
     "execution_count": 7,
     "metadata": {},
     "output_type": "execute_result"
    }
   ],
   "source": [
    "Solution().countOfAtoms(formula=\"H2O\")"
   ]
  },
  {
   "cell_type": "code",
   "execution_count": 8,
   "metadata": {},
   "outputs": [
    {
     "data": {
      "text/plain": [
       "'H2Mg1O2'"
      ]
     },
     "execution_count": 8,
     "metadata": {},
     "output_type": "execute_result"
    }
   ],
   "source": [
    "Solution().countOfAtoms(formula=\"Mg(OH)2\")"
   ]
  },
  {
   "cell_type": "code",
   "execution_count": 9,
   "metadata": {},
   "outputs": [
    {
     "data": {
      "text/plain": [
       "'K4N2O14S4'"
      ]
     },
     "execution_count": 9,
     "metadata": {},
     "output_type": "execute_result"
    }
   ],
   "source": [
    "Solution().countOfAtoms(formula=\"K4(ON(SO3)2)2\")"
   ]
  }
 ],
 "metadata": {
  "kernelspec": {
   "display_name": "base",
   "language": "python",
   "name": "python3"
  },
  "language_info": {
   "codemirror_mode": {
    "name": "ipython",
    "version": 3
   },
   "file_extension": ".py",
   "mimetype": "text/x-python",
   "name": "python",
   "nbconvert_exporter": "python",
   "pygments_lexer": "ipython3",
   "version": "3.11.7"
  }
 },
 "nbformat": 4,
 "nbformat_minor": 2
}
