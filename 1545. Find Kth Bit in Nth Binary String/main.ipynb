{
  "cells": [
    {
      "cell_type": "code",
      "execution_count": 1,
      "metadata": {},
      "outputs": [],
      "source": [
        "class Solution:\n",
        "  def findKthBit(self, n: int, k: int) -> str:\n",
        "    \n",
        "    if n == 1:\n",
        "      return '0'\n",
        "    \n",
        "    length = 2 ** n - 1\n",
        "    mid = length // 2 + 1\n",
        "\n",
        "    if k == mid:\n",
        "      return '1'\n",
        "    elif k < mid:\n",
        "      return self.findKthBit(n-1, k)\n",
        "    else:\n",
        "      return '0' if self.findKthBit(n - 1, length - k + 1) == '1' else '1'"
      ]
    },
    {
      "cell_type": "code",
      "execution_count": 2,
      "metadata": {},
      "outputs": [
        {
          "data": {
            "text/plain": [
              "'0'"
            ]
          },
          "execution_count": 2,
          "metadata": {},
          "output_type": "execute_result"
        }
      ],
      "source": [
        "n = 3\n",
        "k = 1\n",
        "Solution().findKthBit(n=n, k=k)"
      ]
    },
    {
      "cell_type": "code",
      "execution_count": 3,
      "metadata": {},
      "outputs": [
        {
          "data": {
            "text/plain": [
              "'1'"
            ]
          },
          "execution_count": 3,
          "metadata": {},
          "output_type": "execute_result"
        }
      ],
      "source": [
        "n = 4\n",
        "k = 11\n",
        "Solution().findKthBit(n=n, k=k)"
      ]
    }
  ],
  "metadata": {
    "kernelspec": {
      "display_name": "base",
      "language": "python",
      "name": "python3"
    },
    "language_info": {
      "codemirror_mode": {
        "name": "ipython",
        "version": 3
      },
      "file_extension": ".py",
      "mimetype": "text/x-python",
      "name": "python",
      "nbconvert_exporter": "python",
      "pygments_lexer": "ipython3",
      "version": "3.11.7"
    }
  },
  "nbformat": 4,
  "nbformat_minor": 2
}
