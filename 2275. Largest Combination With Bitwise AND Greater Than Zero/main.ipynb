{
 "cells": [
  {
   "cell_type": "code",
   "execution_count": 1,
   "metadata": {},
   "outputs": [],
   "source": [
    "from typing import List\n",
    "\n",
    "\n",
    "class Solution:\n",
    "  def largestCombination(self, candidates: List[int]) -> int:\n",
    "    \n",
    "    bits = []\n",
    "    max_length = 0\n",
    "    for num in candidates:\n",
    "      bit = bin(num)[2:]\n",
    "      max_length = max(max_length, len(bit))\n",
    "      bits.append(bit)\n",
    "\n",
    "    max_size = 0\n",
    "    for i in range(max_length):\n",
    "      count = 0\n",
    "      for bit in bits:\n",
    "        if i < len(bit) and bit[-(i + 1)] == '1':\n",
    "          count += 1\n",
    "      max_size = max(max_size, count)\n",
    "\n",
    "    return max_size"
   ]
  },
  {
   "cell_type": "code",
   "execution_count": 2,
   "metadata": {},
   "outputs": [
    {
     "data": {
      "text/plain": [
       "4"
      ]
     },
     "execution_count": 2,
     "metadata": {},
     "output_type": "execute_result"
    }
   ],
   "source": [
    "candidates = [16, 17, 71, 62, 12, 24, 14]\n",
    "Solution().largestCombination(candidates=candidates)"
   ]
  },
  {
   "cell_type": "code",
   "execution_count": 3,
   "metadata": {},
   "outputs": [
    {
     "data": {
      "text/plain": [
       "2"
      ]
     },
     "execution_count": 3,
     "metadata": {},
     "output_type": "execute_result"
    }
   ],
   "source": [
    "candidates = [8, 8]\n",
    "Solution().largestCombination(candidates=candidates)"
   ]
  }
 ],
 "metadata": {
  "kernelspec": {
   "display_name": "base",
   "language": "python",
   "name": "python3"
  },
  "language_info": {
   "codemirror_mode": {
    "name": "ipython",
    "version": 3
   },
   "file_extension": ".py",
   "mimetype": "text/x-python",
   "name": "python",
   "nbconvert_exporter": "python",
   "pygments_lexer": "ipython3",
   "version": "3.11.7"
  }
 },
 "nbformat": 4,
 "nbformat_minor": 2
}
