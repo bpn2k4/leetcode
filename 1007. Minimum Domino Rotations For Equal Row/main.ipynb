{
  "cells": [
    {
      "cell_type": "code",
      "execution_count": 1,
      "metadata": {},
      "outputs": [],
      "source": [
        "from typing import List\n",
        "\n",
        "\n",
        "class Solution:\n",
        "  def minDominoRotations(self, tops: List[int], bottoms: List[int]) -> int:\n",
        "    \n",
        "    n = len(tops)\n",
        "    min_swaps = n\n",
        "    for i in range(1, 7):\n",
        "      is_valid = True\n",
        "      top = 0\n",
        "      bottom = 0\n",
        "      for j in range(n):\n",
        "        if tops[j] != i and bottoms[j] != i:\n",
        "          is_valid = False\n",
        "          break\n",
        "          \n",
        "        if tops[j] == i:\n",
        "          top += 1\n",
        "        if bottoms[j] == i:\n",
        "          bottom += 1\n",
        "          \n",
        "      if is_valid:\n",
        "        min_swaps = min(min_swaps, n - top, n - bottom)\n",
        "\n",
        "    if min_swaps == n:\n",
        "      return -1\n",
        "    \n",
        "    return min_swaps"
      ]
    },
    {
      "cell_type": "code",
      "execution_count": 2,
      "metadata": {},
      "outputs": [
        {
          "data": {
            "text/plain": [
              "2"
            ]
          },
          "execution_count": 2,
          "metadata": {},
          "output_type": "execute_result"
        }
      ],
      "source": [
        "tops = [2, 1, 2, 4, 2, 2]\n",
        "bottoms = [5, 2, 6, 2, 3, 2]\n",
        "Solution().minDominoRotations(tops=tops, bottoms=bottoms)"
      ]
    },
    {
      "cell_type": "code",
      "execution_count": 3,
      "metadata": {},
      "outputs": [
        {
          "data": {
            "text/plain": [
              "-1"
            ]
          },
          "execution_count": 3,
          "metadata": {},
          "output_type": "execute_result"
        }
      ],
      "source": [
        "tops = [3, 5, 1, 2, 3]\n",
        "bottoms = [3, 6, 3, 3, 4]\n",
        "Solution().minDominoRotations(tops=tops, bottoms=bottoms)"
      ]
    }
  ],
  "metadata": {
    "kernelspec": {
      "display_name": "Python 3",
      "language": "python",
      "name": "python3"
    },
    "language_info": {
      "codemirror_mode": {
        "name": "ipython",
        "version": 3
      },
      "file_extension": ".py",
      "mimetype": "text/x-python",
      "name": "python",
      "nbconvert_exporter": "python",
      "pygments_lexer": "ipython3",
      "version": "3.12.8"
    }
  },
  "nbformat": 4,
  "nbformat_minor": 2
}
