{
 "cells": [
  {
   "cell_type": "code",
   "execution_count": 1,
   "metadata": {},
   "outputs": [],
   "source": [
    "from typing import List\n",
    "\n",
    "\n",
    "class Solution:\n",
    "  def slidingPuzzle(self, board: List[List[int]]) -> int:\n",
    "    \n",
    "    position2new_position = {\n",
    "      0: [1, 3],\n",
    "      1: [0, 2, 4],\n",
    "      2: [1, 5],\n",
    "      3: [0, 4],\n",
    "      4: [1, 3, 5],\n",
    "      5: [2, 4]\n",
    "    }\n",
    "\n",
    "    goal = (1, 2, 3, 4, 5, 0)\n",
    "    board = tuple(board[i][j] for i in range(2) for j in range(3))\n",
    "    state2number_of_moves = {\n",
    "      board: 0\n",
    "    }\n",
    "    queue = [board]\n",
    "    while queue:\n",
    "      state = queue.pop(0)\n",
    "      number_of_moves = state2number_of_moves[state]\n",
    "\n",
    "      if state == goal:\n",
    "        return number_of_moves\n",
    "\n",
    "      zeros_index = state.index(0)\n",
    "      for position in position2new_position[zeros_index]:\n",
    "        new_state = list(state)\n",
    "        new_state[zeros_index], new_state[position] = new_state[position], new_state[zeros_index]\n",
    "        new_state = tuple(new_state)\n",
    "        if new_state not in state2number_of_moves:\n",
    "          state2number_of_moves[new_state] = number_of_moves + 1\n",
    "          queue.append(new_state)\n",
    "\n",
    "    return -1"
   ]
  },
  {
   "cell_type": "code",
   "execution_count": 2,
   "metadata": {},
   "outputs": [
    {
     "data": {
      "text/plain": [
       "1"
      ]
     },
     "execution_count": 2,
     "metadata": {},
     "output_type": "execute_result"
    }
   ],
   "source": [
    "board = [[1, 2, 3], [4, 0, 5]]\n",
    "Solution().slidingPuzzle(board=board)"
   ]
  },
  {
   "cell_type": "code",
   "execution_count": 3,
   "metadata": {},
   "outputs": [
    {
     "data": {
      "text/plain": [
       "-1"
      ]
     },
     "execution_count": 3,
     "metadata": {},
     "output_type": "execute_result"
    }
   ],
   "source": [
    "board = [[1, 2, 3], [5, 4, 0]]\n",
    "Solution().slidingPuzzle(board=board)"
   ]
  },
  {
   "cell_type": "code",
   "execution_count": 4,
   "metadata": {},
   "outputs": [
    {
     "data": {
      "text/plain": [
       "5"
      ]
     },
     "execution_count": 4,
     "metadata": {},
     "output_type": "execute_result"
    }
   ],
   "source": [
    "board = [[4, 1, 2], [5, 0, 3]]\n",
    "Solution().slidingPuzzle(board=board)"
   ]
  }
 ],
 "metadata": {
  "kernelspec": {
   "display_name": "base",
   "language": "python",
   "name": "python3"
  },
  "language_info": {
   "codemirror_mode": {
    "name": "ipython",
    "version": 3
   },
   "file_extension": ".py",
   "mimetype": "text/x-python",
   "name": "python",
   "nbconvert_exporter": "python",
   "pygments_lexer": "ipython3",
   "version": "3.11.7"
  }
 },
 "nbformat": 4,
 "nbformat_minor": 2
}
