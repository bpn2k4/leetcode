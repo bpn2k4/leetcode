{
 "cells": [
  {
   "cell_type": "code",
   "execution_count": 1,
   "metadata": {},
   "outputs": [],
   "source": [
    "from typing import List\n",
    "from collections import deque\n",
    "\n",
    "class Solution:\n",
    "  def validArrangement(self, pairs: List[List[int]]) -> List[List[int]]:\n",
    "  \n",
    "    graph = {}\n",
    "    in_degree = {}\n",
    "    out_degree = {}\n",
    "\n",
    "    for start, end in pairs:\n",
    "      if start not in graph:\n",
    "        graph[start] = deque()\n",
    "      if end not in graph:\n",
    "        graph[end] = deque()\n",
    "      graph[start].append(end)\n",
    "      in_degree[end] = in_degree.get(end, 0) + 1\n",
    "      out_degree[start] = out_degree.get(start, 0) + 1\n",
    "\n",
    "    start_node = pairs[0][0]\n",
    "    for node in graph:\n",
    "      if in_degree.get(node, 0) < out_degree.get(node, 0):\n",
    "        start_node = node\n",
    "        break\n",
    "\n",
    "    result = []\n",
    "    stack = [start_node]\n",
    "    while stack:\n",
    "      node = stack[-1]\n",
    "      while graph[node]:\n",
    "        node = graph[node].popleft()\n",
    "        stack.append(node)\n",
    "      node = stack.pop()\n",
    "      result.append(node)\n",
    "\n",
    "    result = result[::-1]\n",
    "    result = [[result[i], result[i + 1]] for i in range(len(result) - 1)]\n",
    "\n",
    "    return result"
   ]
  },
  {
   "cell_type": "code",
   "execution_count": 2,
   "metadata": {},
   "outputs": [
    {
     "data": {
      "text/plain": [
       "[[11, 9], [9, 4], [4, 5], [5, 1]]"
      ]
     },
     "execution_count": 2,
     "metadata": {},
     "output_type": "execute_result"
    }
   ],
   "source": [
    "pairs = [[5, 1], [4, 5], [11, 9], [9, 4]]\n",
    "Solution().validArrangement(pairs=pairs)"
   ]
  },
  {
   "cell_type": "code",
   "execution_count": 3,
   "metadata": {},
   "outputs": [
    {
     "data": {
      "text/plain": [
       "[[1, 3], [3, 2], [2, 1]]"
      ]
     },
     "execution_count": 3,
     "metadata": {},
     "output_type": "execute_result"
    }
   ],
   "source": [
    "pairs = [[1, 3], [3, 2], [2, 1]]\n",
    "Solution().validArrangement(pairs=pairs)"
   ]
  },
  {
   "cell_type": "code",
   "execution_count": 4,
   "metadata": {},
   "outputs": [
    {
     "data": {
      "text/plain": [
       "[[1, 2], [2, 1], [1, 3]]"
      ]
     },
     "execution_count": 4,
     "metadata": {},
     "output_type": "execute_result"
    }
   ],
   "source": [
    "pairs = [[1, 2], [1, 3], [2, 1]]\n",
    "Solution().validArrangement(pairs=pairs)"
   ]
  }
 ],
 "metadata": {
  "kernelspec": {
   "display_name": "base",
   "language": "python",
   "name": "python3"
  },
  "language_info": {
   "codemirror_mode": {
    "name": "ipython",
    "version": 3
   },
   "file_extension": ".py",
   "mimetype": "text/x-python",
   "name": "python",
   "nbconvert_exporter": "python",
   "pygments_lexer": "ipython3",
   "version": "3.11.7"
  }
 },
 "nbformat": 4,
 "nbformat_minor": 2
}
