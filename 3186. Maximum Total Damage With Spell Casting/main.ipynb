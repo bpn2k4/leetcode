{
  "cells": [
    {
      "cell_type": "code",
      "execution_count": 1,
      "metadata": {},
      "outputs": [],
      "source": [
        "from typing import List\n",
        "from collections import Counter\n",
        "\n",
        "\n",
        "class Solution:\n",
        "  def maximumTotalDamage(self, power: List[int]) -> int:\n",
        "\n",
        "    power_count = Counter(power)\n",
        "    power_list = [(-(10**9), 0)]\n",
        "    for p in sorted(power_count.keys()):\n",
        "      power_list.append((p, power_count[p]))\n",
        "\n",
        "    n = len(power_list)\n",
        "    dp = [0] * n\n",
        "    max_so_far = 0\n",
        "    left = 1\n",
        "    max_damage = 0\n",
        "    for i in range(1, n):\n",
        "      while left < i and power_list[left][0] < power_list[i][0] - 2:\n",
        "        max_so_far = max(max_so_far, dp[left])\n",
        "        left += 1\n",
        "      dp[i] = max_so_far + power_list[i][0] * power_list[i][1]\n",
        "      max_damage = max(max_damage, dp[i])\n",
        "\n",
        "    return max_damage"
      ]
    },
    {
      "cell_type": "code",
      "execution_count": 2,
      "metadata": {},
      "outputs": [
        {
          "data": {
            "text/plain": [
              "6"
            ]
          },
          "execution_count": 2,
          "metadata": {},
          "output_type": "execute_result"
        }
      ],
      "source": [
        "power = [1, 1, 3, 4]\n",
        "Solution().maximumTotalDamage(power=power)"
      ]
    },
    {
      "cell_type": "code",
      "execution_count": 3,
      "metadata": {},
      "outputs": [
        {
          "data": {
            "text/plain": [
              "13"
            ]
          },
          "execution_count": 3,
          "metadata": {},
          "output_type": "execute_result"
        }
      ],
      "source": [
        "power = [7, 1, 6, 6]\n",
        "Solution().maximumTotalDamage(power=power)"
      ]
    }
  ],
  "metadata": {
    "kernelspec": {
      "display_name": "Python 3",
      "language": "python",
      "name": "python3"
    },
    "language_info": {
      "codemirror_mode": {
        "name": "ipython",
        "version": 3
      },
      "file_extension": ".py",
      "mimetype": "text/x-python",
      "name": "python",
      "nbconvert_exporter": "python",
      "pygments_lexer": "ipython3",
      "version": "3.12.8"
    }
  },
  "nbformat": 4,
  "nbformat_minor": 2
}
