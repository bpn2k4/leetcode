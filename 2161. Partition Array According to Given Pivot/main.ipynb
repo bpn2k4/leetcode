{
  "cells": [
    {
      "cell_type": "code",
      "execution_count": 1,
      "metadata": {},
      "outputs": [],
      "source": [
        "from typing import List\n",
        "\n",
        "\n",
        "class Solution:\n",
        "  def pivotArray(self, nums: List[int], pivot: int) -> List[int]:\n",
        "    \n",
        "    less = []\n",
        "    equal = []\n",
        "    greater = []\n",
        "    for num in nums:\n",
        "      if num > pivot:\n",
        "        greater.append(num)\n",
        "      elif num < pivot:\n",
        "        less.append(num)\n",
        "      else:\n",
        "        equal.append(num)\n",
        "    \n",
        "    return less + equal + greater"
      ]
    },
    {
      "cell_type": "code",
      "execution_count": 2,
      "metadata": {},
      "outputs": [
        {
          "data": {
            "text/plain": [
              "[9, 5, 3, 10, 10, 12, 14]"
            ]
          },
          "execution_count": 2,
          "metadata": {},
          "output_type": "execute_result"
        }
      ],
      "source": [
        "nums = [9, 12, 5, 10, 14, 3, 10]\n",
        "pivot = 10\n",
        "Solution().pivotArray(nums=nums, pivot=pivot)"
      ]
    },
    {
      "cell_type": "code",
      "execution_count": 3,
      "metadata": {},
      "outputs": [
        {
          "data": {
            "text/plain": [
              "[-3, 2, 4, 3]"
            ]
          },
          "execution_count": 3,
          "metadata": {},
          "output_type": "execute_result"
        }
      ],
      "source": [
        "nums = [-3, 4, 3, 2]\n",
        "pivot = 2\n",
        "Solution().pivotArray(nums=nums, pivot=pivot)"
      ]
    }
  ],
  "metadata": {
    "kernelspec": {
      "display_name": "Python 3",
      "language": "python",
      "name": "python3"
    },
    "language_info": {
      "codemirror_mode": {
        "name": "ipython",
        "version": 3
      },
      "file_extension": ".py",
      "mimetype": "text/x-python",
      "name": "python",
      "nbconvert_exporter": "python",
      "pygments_lexer": "ipython3",
      "version": "3.12.1"
    }
  },
  "nbformat": 4,
  "nbformat_minor": 2
}
