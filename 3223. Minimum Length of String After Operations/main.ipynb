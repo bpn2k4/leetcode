{
  "cells": [
    {
      "cell_type": "code",
      "execution_count": 1,
      "metadata": {},
      "outputs": [],
      "source": [
        "class Solution:\n",
        "  def minimumLength(self, s: str) -> int:\n",
        "    \n",
        "    min_length = 0\n",
        "    char2count = {char: 0 for char in 'abcdefghijklmnopqrstuvwxyz'}\n",
        "    for char in s:\n",
        "      count = char2count[char]\n",
        "      if count == 2:\n",
        "        char2count[char] = 1\n",
        "        min_length -= 1\n",
        "      else:\n",
        "        char2count[char] = count + 1\n",
        "        min_length += 1\n",
        "\n",
        "    return min_length"
      ]
    },
    {
      "cell_type": "code",
      "execution_count": 2,
      "metadata": {},
      "outputs": [
        {
          "data": {
            "text/plain": [
              "5"
            ]
          },
          "execution_count": 2,
          "metadata": {},
          "output_type": "execute_result"
        }
      ],
      "source": [
        "s = \"abaacbcbb\"\n",
        "Solution().minimumLength(s=s)"
      ]
    },
    {
      "cell_type": "code",
      "execution_count": 3,
      "metadata": {},
      "outputs": [
        {
          "data": {
            "text/plain": [
              "2"
            ]
          },
          "execution_count": 3,
          "metadata": {},
          "output_type": "execute_result"
        }
      ],
      "source": [
        "s = \"aa\"\n",
        "Solution().minimumLength(s=s)"
      ]
    }
  ],
  "metadata": {
    "kernelspec": {
      "display_name": "base",
      "language": "python",
      "name": "python3"
    },
    "language_info": {
      "codemirror_mode": {
        "name": "ipython",
        "version": 3
      },
      "file_extension": ".py",
      "mimetype": "text/x-python",
      "name": "python",
      "nbconvert_exporter": "python",
      "pygments_lexer": "ipython3",
      "version": "3.11.7"
    }
  },
  "nbformat": 4,
  "nbformat_minor": 2
}
