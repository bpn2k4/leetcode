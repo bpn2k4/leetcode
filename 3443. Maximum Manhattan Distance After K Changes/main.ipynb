{
  "cells": [
    {
      "cell_type": "code",
      "execution_count": null,
      "metadata": {},
      "outputs": [],
      "source": [
        "class Solution:\n",
        "  def maxDistance(self, s: str, k: int) -> int:\n",
        "    \n",
        "    def count(d1: int, d2: int, times: int) -> int:\n",
        "      return abs(d1 - d2) + times * 2\n",
        "    \n",
        "    answer = 0\n",
        "    north = south = east = west = 0\n",
        "    for it in s:\n",
        "      if it == 'N':\n",
        "        north += 1\n",
        "      elif it == 'S':\n",
        "        south += 1\n",
        "      elif it == 'E':\n",
        "        east += 1\n",
        "      elif it == 'W':\n",
        "        west += 1\n",
        "      times1 = min(north, south, k)\n",
        "      times2 = min(east, west, k - times1)\n",
        "      c1 = count(north, south, times1)\n",
        "      c2 = count(east, west, times2)\n",
        "      answer = max(answer, c1 + c2)\n",
        "\n",
        "    return answer"
      ]
    },
    {
      "cell_type": "code",
      "execution_count": 2,
      "metadata": {},
      "outputs": [
        {
          "data": {
            "text/plain": [
              "3"
            ]
          },
          "execution_count": 2,
          "metadata": {},
          "output_type": "execute_result"
        }
      ],
      "source": [
        "s = \"NWSE\"\n",
        "k = 1\n",
        "Solution().maxDistance(s=s, k=k)"
      ]
    },
    {
      "cell_type": "code",
      "execution_count": 3,
      "metadata": {},
      "outputs": [
        {
          "data": {
            "text/plain": [
              "6"
            ]
          },
          "execution_count": 3,
          "metadata": {},
          "output_type": "execute_result"
        }
      ],
      "source": [
        "s = \"NSWWEW\"\n",
        "k = 3\n",
        "Solution().maxDistance(s=s, k=k)"
      ]
    }
  ],
  "metadata": {
    "kernelspec": {
      "display_name": "Python 3",
      "language": "python",
      "name": "python3"
    },
    "language_info": {
      "codemirror_mode": {
        "name": "ipython",
        "version": 3
      },
      "file_extension": ".py",
      "mimetype": "text/x-python",
      "name": "python",
      "nbconvert_exporter": "python",
      "pygments_lexer": "ipython3",
      "version": "3.12.1"
    }
  },
  "nbformat": 4,
  "nbformat_minor": 2
}
