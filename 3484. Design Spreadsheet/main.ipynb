{
  "cells": [
    {
      "cell_type": "code",
      "execution_count": null,
      "metadata": {},
      "outputs": [],
      "source": [
        "class Spreadsheet:\n",
        "  def __init__(self, rows: int):\n",
        "    self.cell2value = {}\n",
        "\n",
        "  def setCell(self, cell: str, value: int) -> None:\n",
        "    self.cell2value[cell] = value\n",
        "\n",
        "  def resetCell(self, cell: str) -> None:\n",
        "    self.cell2value[cell] = 0\n",
        "\n",
        "  def getValue(self, formula) -> int:\n",
        "    formula = formula[1:]\n",
        "    for i in range(len(formula)):\n",
        "      if formula[i] == '+':\n",
        "        s1, s2 = formula[:i], formula[i+1:]\n",
        "        left = self.cell2value.get(s1, 0) if s1[0].isupper() else int(s1)\n",
        "        right = self.cell2value.get(s2, 0) if s2[0].isupper() else int(s2)\n",
        "        return left + right\n",
        "    return 0"
      ]
    }
  ],
  "metadata": {
    "kernelspec": {
      "display_name": "Python 3",
      "language": "python",
      "name": "python3"
    },
    "language_info": {
      "codemirror_mode": {
        "name": "ipython",
        "version": 3
      },
      "file_extension": ".py",
      "mimetype": "text/x-python",
      "name": "python",
      "nbconvert_exporter": "python",
      "pygments_lexer": "ipython3",
      "version": "3.12.8"
    }
  },
  "nbformat": 4,
  "nbformat_minor": 2
}
