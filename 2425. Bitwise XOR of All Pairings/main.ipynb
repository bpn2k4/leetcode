{
  "cells": [
    {
      "cell_type": "code",
      "execution_count": 1,
      "metadata": {},
      "outputs": [],
      "source": [
        "from typing import List\n",
        "\n",
        "\n",
        "class Solution:\n",
        "  def xorAllNums(self, nums1: List[int], nums2: List[int]) -> int:\n",
        "    \n",
        "    m = len(nums1)\n",
        "    n = len(nums2)\n",
        "  \n",
        "    if n % 2 == 0:\n",
        "      if m % 2 == 0:\n",
        "        return 0\n",
        "      else:\n",
        "        output = 0\n",
        "        for num in nums2:\n",
        "          output ^= num\n",
        "        return output\n",
        "    else:\n",
        "      if m % 2 == 0:\n",
        "        output = 0\n",
        "        for num in nums1:\n",
        "          output ^= num\n",
        "        return output\n",
        "      else:\n",
        "        output = 0\n",
        "        for num in nums1:\n",
        "          output ^= num\n",
        "        for num in nums2:\n",
        "          output ^= num\n",
        "        return output\n",
        "      "
      ]
    },
    {
      "cell_type": "code",
      "execution_count": 2,
      "metadata": {},
      "outputs": [
        {
          "data": {
            "text/plain": [
              "13"
            ]
          },
          "execution_count": 2,
          "metadata": {},
          "output_type": "execute_result"
        }
      ],
      "source": [
        "nums1 = [2, 1, 3]\n",
        "nums2 = [10, 2, 5, 0]\n",
        "Solution().xorAllNums(nums1=nums1, nums2=nums2)"
      ]
    },
    {
      "cell_type": "code",
      "execution_count": 3,
      "metadata": {},
      "outputs": [
        {
          "data": {
            "text/plain": [
              "0"
            ]
          },
          "execution_count": 3,
          "metadata": {},
          "output_type": "execute_result"
        }
      ],
      "source": [
        "nums1 = [1, 2]\n",
        "nums2 = [3, 4]\n",
        "Solution().xorAllNums(nums1=nums1, nums2=nums2)"
      ]
    }
  ],
  "metadata": {
    "kernelspec": {
      "display_name": "base",
      "language": "python",
      "name": "python3"
    },
    "language_info": {
      "codemirror_mode": {
        "name": "ipython",
        "version": 3
      },
      "file_extension": ".py",
      "mimetype": "text/x-python",
      "name": "python",
      "nbconvert_exporter": "python",
      "pygments_lexer": "ipython3",
      "version": "3.11.7"
    }
  },
  "nbformat": 4,
  "nbformat_minor": 2
}
