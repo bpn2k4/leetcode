{
  "cells": [
    {
      "cell_type": "code",
      "execution_count": 1,
      "metadata": {},
      "outputs": [],
      "source": [
        "from typing import List\n",
        "\n",
        "class Solution:\n",
        "  def longestCommonPrefix(self, arr1: List[int], arr2: List[int]) -> int:\n",
        "    \n",
        "    mark = {}\n",
        "    for num in arr1:\n",
        "      num = str(num)\n",
        "      for i in range(1, len(num) + 1):\n",
        "        prefix = num[:i]\n",
        "        mark[prefix] = 1\n",
        "    \n",
        "    output = 0\n",
        "    for num in arr2:\n",
        "      num = str(num)\n",
        "      for i in range(1, len(num) + 1):\n",
        "        prefix = num[:i]\n",
        "        if prefix in mark:\n",
        "          output = max(output, i)\n",
        "\n",
        "    return output"
      ]
    },
    {
      "cell_type": "code",
      "execution_count": 2,
      "metadata": {},
      "outputs": [
        {
          "data": {
            "text/plain": [
              "3"
            ]
          },
          "execution_count": 2,
          "metadata": {},
          "output_type": "execute_result"
        }
      ],
      "source": [
        "arr1 = [1, 10, 100]\n",
        "arr2 = [1000]\n",
        "Solution().longestCommonPrefix(arr1=arr1, arr2=arr2)"
      ]
    },
    {
      "cell_type": "code",
      "execution_count": 3,
      "metadata": {},
      "outputs": [
        {
          "data": {
            "text/plain": [
              "0"
            ]
          },
          "execution_count": 3,
          "metadata": {},
          "output_type": "execute_result"
        }
      ],
      "source": [
        "arr1 = [1, 2, 3]\n",
        "arr2 = [4, 4, 4]\n",
        "Solution().longestCommonPrefix(arr1=arr1, arr2=arr2)"
      ]
    }
  ],
  "metadata": {
    "kernelspec": {
      "display_name": "base",
      "language": "python",
      "name": "python3"
    },
    "language_info": {
      "codemirror_mode": {
        "name": "ipython",
        "version": 3
      },
      "file_extension": ".py",
      "mimetype": "text/x-python",
      "name": "python",
      "nbconvert_exporter": "python",
      "pygments_lexer": "ipython3",
      "version": "3.11.7"
    }
  },
  "nbformat": 4,
  "nbformat_minor": 2
}
