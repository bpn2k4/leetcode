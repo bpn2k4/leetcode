{
 "cells": [
  {
   "cell_type": "code",
   "execution_count": 1,
   "metadata": {},
   "outputs": [],
   "source": [
    "from typing import List\n",
    "\n",
    "\n",
    "class Solution:\n",
    "  def maxDistance(self, arrays: List[List[int]]) -> int:\n",
    "    n = len(arrays)\t\n",
    "    min_value, min_index = arrays[0][0], 0\n",
    "    for i in range(1, n):\n",
    "      if arrays[i][0] < min_value:\n",
    "        min_value = arrays[i][0]\n",
    "        min_index = i\n",
    "    max_value, max_index = arrays[0][-1], 0\n",
    "    for i in range(1, n):\n",
    "      if arrays[i][-1] > max_value:\n",
    "        max_value = arrays[i][-1]\n",
    "        max_index = i\n",
    "    result = -999999999\n",
    "    for index, array in enumerate(arrays):\n",
    "      if index != min_index:\n",
    "        result = max(result, array[-1] - min_value)\n",
    "      if index != max_index:\n",
    "        result = max(result, max_value - array[0])\n",
    "    return result\n",
    "    \n",
    "      "
   ]
  },
  {
   "cell_type": "code",
   "execution_count": 2,
   "metadata": {},
   "outputs": [
    {
     "data": {
      "text/plain": [
       "4"
      ]
     },
     "execution_count": 2,
     "metadata": {},
     "output_type": "execute_result"
    }
   ],
   "source": [
    "Solution().maxDistance(arrays=[[1, 2, 3], [4, 5], [1, 2, 3]])"
   ]
  },
  {
   "cell_type": "code",
   "execution_count": 3,
   "metadata": {},
   "outputs": [
    {
     "data": {
      "text/plain": [
       "0"
      ]
     },
     "execution_count": 3,
     "metadata": {},
     "output_type": "execute_result"
    }
   ],
   "source": [
    "Solution().maxDistance(arrays=[[1], [1]])"
   ]
  },
  {
   "cell_type": "code",
   "execution_count": 4,
   "metadata": {},
   "outputs": [
    {
     "data": {
      "text/plain": [
       "2"
      ]
     },
     "execution_count": 4,
     "metadata": {},
     "output_type": "execute_result"
    }
   ],
   "source": [
    "Solution().maxDistance(arrays=[[-3,-3,-1,-1],[-3,-2]])"
   ]
  }
 ],
 "metadata": {
  "kernelspec": {
   "display_name": "base",
   "language": "python",
   "name": "python3"
  },
  "language_info": {
   "codemirror_mode": {
    "name": "ipython",
    "version": 3
   },
   "file_extension": ".py",
   "mimetype": "text/x-python",
   "name": "python",
   "nbconvert_exporter": "python",
   "pygments_lexer": "ipython3",
   "version": "3.11.7"
  }
 },
 "nbformat": 4,
 "nbformat_minor": 2
}
