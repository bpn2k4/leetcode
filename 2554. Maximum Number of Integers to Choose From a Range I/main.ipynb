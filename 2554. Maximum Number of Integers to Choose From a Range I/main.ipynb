{
 "cells": [
  {
   "cell_type": "code",
   "execution_count": 1,
   "metadata": {},
   "outputs": [],
   "source": [
    "from typing import List\n",
    "\n",
    "\n",
    "class Solution:\n",
    "  def maxCount(self, banned: List[int], n: int, maxSum: int) -> int:\n",
    "    \n",
    "    banned = {num: 1 for num in banned}\n",
    "\n",
    "    sum_of_chosen_numbers = 0\n",
    "    number_of_chosen_numbers = 0\n",
    "    \n",
    "    for num in range(1, n + 1):\n",
    "      if num not in banned:\n",
    "        sum_of_chosen_numbers += num\n",
    "        if sum_of_chosen_numbers > maxSum:\n",
    "          break\n",
    "        number_of_chosen_numbers += 1\n",
    "\n",
    "    return number_of_chosen_numbers"
   ]
  },
  {
   "cell_type": "code",
   "execution_count": 2,
   "metadata": {},
   "outputs": [
    {
     "data": {
      "text/plain": [
       "2"
      ]
     },
     "execution_count": 2,
     "metadata": {},
     "output_type": "execute_result"
    }
   ],
   "source": [
    "banned = [1, 6, 5]\n",
    "n = 5\n",
    "maxSum = 6\n",
    "Solution().maxCount(banned=banned, n=n, maxSum=maxSum)"
   ]
  },
  {
   "cell_type": "code",
   "execution_count": 3,
   "metadata": {},
   "outputs": [
    {
     "data": {
      "text/plain": [
       "0"
      ]
     },
     "execution_count": 3,
     "metadata": {},
     "output_type": "execute_result"
    }
   ],
   "source": [
    "banned = [1, 2, 3, 4, 5, 6, 7]\n",
    "n = 8\n",
    "maxSum = 1\n",
    "Solution().maxCount(banned=banned, n=n, maxSum=maxSum)"
   ]
  },
  {
   "cell_type": "code",
   "execution_count": 4,
   "metadata": {},
   "outputs": [
    {
     "data": {
      "text/plain": [
       "7"
      ]
     },
     "execution_count": 4,
     "metadata": {},
     "output_type": "execute_result"
    }
   ],
   "source": [
    "banned = [11]\n",
    "n = 7\n",
    "maxSum = 50\n",
    "Solution().maxCount(banned=banned, n=n, maxSum=maxSum)"
   ]
  }
 ],
 "metadata": {
  "kernelspec": {
   "display_name": "base",
   "language": "python",
   "name": "python3"
  },
  "language_info": {
   "codemirror_mode": {
    "name": "ipython",
    "version": 3
   },
   "file_extension": ".py",
   "mimetype": "text/x-python",
   "name": "python",
   "nbconvert_exporter": "python",
   "pygments_lexer": "ipython3",
   "version": "3.11.7"
  }
 },
 "nbformat": 4,
 "nbformat_minor": 2
}
