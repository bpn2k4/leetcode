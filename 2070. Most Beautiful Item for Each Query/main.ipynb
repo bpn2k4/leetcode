{
 "cells": [
  {
   "cell_type": "code",
   "execution_count": null,
   "metadata": {},
   "outputs": [],
   "source": [
    "from typing import List\n",
    "\n",
    "\n",
    "class Solution:\n",
    "  def maximumBeauty(self, items: List[List[int]], queries: List[int]) -> List[int]:\n",
    "    \n",
    "    answer = []\n",
    "    price2beauty = {}\n",
    "\n",
    "    for price, beauty in items:\n",
    "      price2beauty[price] = max(price2beauty.get(price, 0), beauty)\n",
    "\n",
    "    items = [[price, beauty] for price, beauty in sorted(price2beauty.items())]\n",
    "    for i in range(1, len(items)):\n",
    "      items[i][1] = max(items[i][1], items[i - 1][1])\n",
    "\n",
    "    def binary_search(target):\n",
    "      left, right = 0, len(items) - 1\n",
    "      while left <= right:\n",
    "        mid = (left + right) // 2\n",
    "        if items[mid][0] == target:\n",
    "          return items[mid][1]\n",
    "        elif items[mid][0] < target:\n",
    "          left = mid + 1\n",
    "        else:\n",
    "          right = mid - 1\n",
    "      return items[left - 1][1] if left > 0 else 0\n",
    "\n",
    "    for query in queries:\n",
    "      answer.append(binary_search(query))\n",
    "\n",
    "    return answer"
   ]
  },
  {
   "cell_type": "code",
   "execution_count": 2,
   "metadata": {},
   "outputs": [
    {
     "data": {
      "text/plain": [
       "[2, 4, 5, 5, 6, 6]"
      ]
     },
     "execution_count": 2,
     "metadata": {},
     "output_type": "execute_result"
    }
   ],
   "source": [
    "items = [[1, 2], [3, 2], [2, 4], [5, 6], [3, 5]]\n",
    "queries = [1, 2, 3, 4, 5, 6]\n",
    "Solution().maximumBeauty(items=items, queries=queries)"
   ]
  },
  {
   "cell_type": "code",
   "execution_count": 3,
   "metadata": {},
   "outputs": [
    {
     "data": {
      "text/plain": [
       "[4]"
      ]
     },
     "execution_count": 3,
     "metadata": {},
     "output_type": "execute_result"
    }
   ],
   "source": [
    "items = [[1, 2], [1, 2], [1, 3], [1, 4]]\n",
    "queries = [1]\n",
    "Solution().maximumBeauty(items=items, queries=queries)"
   ]
  },
  {
   "cell_type": "code",
   "execution_count": 4,
   "metadata": {},
   "outputs": [
    {
     "data": {
      "text/plain": [
       "[0]"
      ]
     },
     "execution_count": 4,
     "metadata": {},
     "output_type": "execute_result"
    }
   ],
   "source": [
    "items = [[10, 1000]]\n",
    "queries = [5]\n",
    "Solution().maximumBeauty(items=items, queries=queries)"
   ]
  }
 ],
 "metadata": {
  "kernelspec": {
   "display_name": "base",
   "language": "python",
   "name": "python3"
  },
  "language_info": {
   "codemirror_mode": {
    "name": "ipython",
    "version": 3
   },
   "file_extension": ".py",
   "mimetype": "text/x-python",
   "name": "python",
   "nbconvert_exporter": "python",
   "pygments_lexer": "ipython3",
   "version": "3.11.7"
  }
 },
 "nbformat": 4,
 "nbformat_minor": 2
}
