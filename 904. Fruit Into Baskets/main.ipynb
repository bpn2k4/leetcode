{
  "cells": [
    {
      "cell_type": "code",
      "execution_count": 1,
      "metadata": {},
      "outputs": [],
      "source": [
        "from typing import List\n",
        "\n",
        "\n",
        "class Solution:\n",
        "  def totalFruit(self, fruits: List[int]) -> int:\n",
        "\n",
        "    basket = {}\n",
        "    left = 0\n",
        "    max_fruits = 0\n",
        "\n",
        "    for right in range(len(fruits)):\n",
        "      basket[fruits[right]] = basket.get(fruits[right], 0) + 1\n",
        "\n",
        "      while len(basket) > 2:\n",
        "        basket[fruits[left]] = basket.get(fruits[left], 0) - 1\n",
        "        if basket[fruits[left]] == 0:\n",
        "          del basket[fruits[left]]\n",
        "        left += 1\n",
        "\n",
        "      max_fruits = max(max_fruits, right - left + 1)\n",
        "\n",
        "    return max_fruits"
      ]
    },
    {
      "cell_type": "code",
      "execution_count": 2,
      "metadata": {},
      "outputs": [
        {
          "data": {
            "text/plain": [
              "3"
            ]
          },
          "execution_count": 2,
          "metadata": {},
          "output_type": "execute_result"
        }
      ],
      "source": [
        "fruits = [1, 2, 1]\n",
        "Solution().totalFruit(fruits=fruits)"
      ]
    },
    {
      "cell_type": "code",
      "execution_count": 3,
      "metadata": {},
      "outputs": [
        {
          "data": {
            "text/plain": [
              "3"
            ]
          },
          "execution_count": 3,
          "metadata": {},
          "output_type": "execute_result"
        }
      ],
      "source": [
        "fruits = [0, 1, 2, 2]\n",
        "Solution().totalFruit(fruits=fruits)"
      ]
    },
    {
      "cell_type": "code",
      "execution_count": 4,
      "metadata": {},
      "outputs": [
        {
          "data": {
            "text/plain": [
              "4"
            ]
          },
          "execution_count": 4,
          "metadata": {},
          "output_type": "execute_result"
        }
      ],
      "source": [
        "fruits = [1, 2, 3, 2, 2]\n",
        "Solution().totalFruit(fruits=fruits)"
      ]
    }
  ],
  "metadata": {
    "kernelspec": {
      "display_name": "Python 3",
      "language": "python",
      "name": "python3"
    },
    "language_info": {
      "codemirror_mode": {
        "name": "ipython",
        "version": 3
      },
      "file_extension": ".py",
      "mimetype": "text/x-python",
      "name": "python",
      "nbconvert_exporter": "python",
      "pygments_lexer": "ipython3",
      "version": "3.12.8"
    }
  },
  "nbformat": 4,
  "nbformat_minor": 2
}
