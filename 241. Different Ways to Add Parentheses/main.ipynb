{
  "cells": [
    {
      "cell_type": "code",
      "execution_count": 1,
      "metadata": {},
      "outputs": [],
      "source": [
        "from typing import List\n",
        "\n",
        "\n",
        "class Solution:\n",
        "  def diffWaysToCompute(self, expression: str) -> List[int]:\n",
        "\n",
        "    expressions = []\n",
        "    current = ''\n",
        "    for char in expression:\n",
        "      if char == '+' or char == '-' or char == '*':\n",
        "        expressions.append(int(current))\n",
        "        expressions.append(char)\n",
        "        current = ''\n",
        "      else:\n",
        "        current += char\n",
        "    expressions.append(int(current))\n",
        "\n",
        "    def dfs(expressions: List[int]) -> List[int]:\n",
        "\n",
        "      if len(expressions) == 1:\n",
        "        return expressions\n",
        "\n",
        "      output = []\n",
        "      for index, char in enumerate(expressions):\n",
        "        if char == '+' or char == '-' or char == '*':\n",
        "          left = dfs(expressions[:index])\n",
        "          right = dfs(expressions[index + 1:])\n",
        "\n",
        "          for l in left:\n",
        "            for r in right:\n",
        "              if char == '+':\n",
        "                output.append(l + r)\n",
        "              elif char == '-':\n",
        "                output.append(l - r)\n",
        "              else:\n",
        "                output.append(l * r)\n",
        "\n",
        "      return output\n",
        "\n",
        "    return dfs(expressions)"
      ]
    },
    {
      "cell_type": "code",
      "execution_count": 2,
      "metadata": {},
      "outputs": [
        {
          "data": {
            "text/plain": [
              "[2, 0]"
            ]
          },
          "execution_count": 2,
          "metadata": {},
          "output_type": "execute_result"
        }
      ],
      "source": [
        "expression = \"2-1-1\"\n",
        "Solution().diffWaysToCompute(expression=expression)"
      ]
    },
    {
      "cell_type": "code",
      "execution_count": 3,
      "metadata": {},
      "outputs": [
        {
          "data": {
            "text/plain": [
              "[-34, -10, -14, -10, 10]"
            ]
          },
          "execution_count": 3,
          "metadata": {},
          "output_type": "execute_result"
        }
      ],
      "source": [
        "expression = \"2*3-4*5\"\n",
        "Solution().diffWaysToCompute(expression=expression)"
      ]
    }
  ],
  "metadata": {
    "kernelspec": {
      "display_name": "base",
      "language": "python",
      "name": "python3"
    },
    "language_info": {
      "codemirror_mode": {
        "name": "ipython",
        "version": 3
      },
      "file_extension": ".py",
      "mimetype": "text/x-python",
      "name": "python",
      "nbconvert_exporter": "python",
      "pygments_lexer": "ipython3",
      "version": "3.11.7"
    }
  },
  "nbformat": 4,
  "nbformat_minor": 2
}
