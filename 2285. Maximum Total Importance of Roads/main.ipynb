{
 "cells": [
  {
   "cell_type": "code",
   "execution_count": 1,
   "metadata": {},
   "outputs": [],
   "source": [
    "from typing import List\n",
    "\n",
    "\n",
    "class Solution:\n",
    "  def maximumImportance(self, n: int, roads: List[List[int]]) -> int:\n",
    "    degree = [0] * n\n",
    "    for road in roads:\n",
    "      degree[road[0]] += 1\n",
    "      degree[road[1]] += 1\n",
    "    cities = sorted(range(n), key=lambda x: -degree[x])\n",
    "    values = [0] * n\n",
    "    for i, city in enumerate(cities):\n",
    "      values[city] = n - i\n",
    "    total_importance = 0\n",
    "    for road in roads:\n",
    "      total_importance += values[road[0]] + values[road[1]]\n",
    "    return total_importance"
   ]
  },
  {
   "cell_type": "code",
   "execution_count": 2,
   "metadata": {},
   "outputs": [
    {
     "data": {
      "text/plain": [
       "43"
      ]
     },
     "execution_count": 2,
     "metadata": {},
     "output_type": "execute_result"
    }
   ],
   "source": [
    "Solution().maximumImportance(\n",
    "    n=5,\n",
    "    roads=[[0, 1], [1, 2], [2, 3], [0, 2], [1, 3], [2, 4]]\n",
    ")"
   ]
  },
  {
   "cell_type": "code",
   "execution_count": 3,
   "metadata": {},
   "outputs": [
    {
     "data": {
      "text/plain": [
       "20"
      ]
     },
     "execution_count": 3,
     "metadata": {},
     "output_type": "execute_result"
    }
   ],
   "source": [
    "Solution().maximumImportance(\n",
    "    n=5,\n",
    "    roads=[[0, 3], [2, 4], [1, 3]]\n",
    ")"
   ]
  }
 ],
 "metadata": {
  "kernelspec": {
   "display_name": "base",
   "language": "python",
   "name": "python3"
  },
  "language_info": {
   "codemirror_mode": {
    "name": "ipython",
    "version": 3
   },
   "file_extension": ".py",
   "mimetype": "text/x-python",
   "name": "python",
   "nbconvert_exporter": "python",
   "pygments_lexer": "ipython3",
   "version": "3.11.7"
  }
 },
 "nbformat": 4,
 "nbformat_minor": 2
}
