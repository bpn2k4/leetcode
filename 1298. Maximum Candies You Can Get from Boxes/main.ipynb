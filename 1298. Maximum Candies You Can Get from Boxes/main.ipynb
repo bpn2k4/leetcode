{
  "cells": [
    {
      "cell_type": "code",
      "execution_count": 1,
      "metadata": {},
      "outputs": [],
      "source": [
        "from typing import List\n",
        "from collections import deque\n",
        "\n",
        "\n",
        "class Solution:\n",
        "  def maxCandies(self, status: List[int], candies: List[int], keys: List[List[int]], containedBoxes: List[List[int]], initialBoxes: List[int]) -> int:\n",
        "\n",
        "    queue = deque()\n",
        "    have_key = set()\n",
        "    have_box = set(initialBoxes)\n",
        "    opened = set()\n",
        "    total_candies = 0\n",
        "\n",
        "    for box in initialBoxes:\n",
        "      if status[box] == 1:\n",
        "        queue.append(box)\n",
        "\n",
        "    while queue:\n",
        "      box = queue.popleft()\n",
        "      if box in opened:\n",
        "        continue\n",
        "\n",
        "      total_candies += candies[box]\n",
        "      opened.add(box)\n",
        "\n",
        "      for k in keys[box]:\n",
        "        if k not in have_key:\n",
        "          have_key.add(k)\n",
        "          if k in have_box and k not in opened:\n",
        "            queue.append(k)\n",
        "\n",
        "      for b in containedBoxes[box]:\n",
        "        if b not in have_box:\n",
        "          have_box.add(b)\n",
        "        if status[b] == 1 or b in have_key:\n",
        "          queue.append(b)\n",
        "\n",
        "    return total_candies"
      ]
    },
    {
      "cell_type": "code",
      "execution_count": 2,
      "metadata": {},
      "outputs": [
        {
          "data": {
            "text/plain": [
              "16"
            ]
          },
          "execution_count": 2,
          "metadata": {},
          "output_type": "execute_result"
        }
      ],
      "source": [
        "status = [1, 0, 1, 0]\n",
        "candies = [7, 5, 4, 100]\n",
        "keys = [[], [], [1], []]\n",
        "containedBoxes = [[1, 2], [3], [], []]\n",
        "initialBoxes = [0]\n",
        "Solution().maxCandies(status=status, candies=candies, keys=keys, containedBoxes=containedBoxes, initialBoxes=initialBoxes)"
      ]
    },
    {
      "cell_type": "code",
      "execution_count": 3,
      "metadata": {},
      "outputs": [
        {
          "data": {
            "text/plain": [
              "6"
            ]
          },
          "execution_count": 3,
          "metadata": {},
          "output_type": "execute_result"
        }
      ],
      "source": [
        "status = [1, 0, 0, 0, 0, 0]\n",
        "candies = [1, 1, 1, 1, 1, 1]\n",
        "keys = [[1, 2, 3, 4, 5], [], [], [], [], []]\n",
        "containedBoxes = [[1, 2, 3, 4, 5], [], [], [], [], []]\n",
        "initialBoxes = [0]\n",
        "Solution().maxCandies(status=status, candies=candies, keys=keys, containedBoxes=containedBoxes, initialBoxes=initialBoxes)"
      ]
    }
  ],
  "metadata": {
    "kernelspec": {
      "display_name": "Python 3",
      "language": "python",
      "name": "python3"
    },
    "language_info": {
      "codemirror_mode": {
        "name": "ipython",
        "version": 3
      },
      "file_extension": ".py",
      "mimetype": "text/x-python",
      "name": "python",
      "nbconvert_exporter": "python",
      "pygments_lexer": "ipython3",
      "version": "3.12.8"
    }
  },
  "nbformat": 4,
  "nbformat_minor": 2
}
