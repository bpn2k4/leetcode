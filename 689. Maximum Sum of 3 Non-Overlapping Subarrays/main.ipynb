{
  "cells": [
    {
      "cell_type": "code",
      "execution_count": 1,
      "metadata": {},
      "outputs": [],
      "source": [
        "from typing import List\n",
        "\n",
        "\n",
        "class Solution:\n",
        "  def maxSumOfThreeSubarrays(self, nums: List[int], k: int) -> List[int]:\n",
        "\n",
        "    n = len(nums)\n",
        "    sum_k = [0] * (n - k + 1)\n",
        "    current_sum = sum(nums[:k])\n",
        "    sum_k[0] = current_sum\n",
        "    for i in range(1, n - k + 1):\n",
        "      current_sum += nums[i + k - 1] - nums[i - 1]\n",
        "      sum_k[i] = current_sum\n",
        "\n",
        "    left = [0] * len(sum_k)\n",
        "    max_index = 0\n",
        "    for i in range(len(sum_k)):\n",
        "      if sum_k[i] > sum_k[max_index]:\n",
        "        max_index = i\n",
        "      left[i] = max_index\n",
        "\n",
        "    right = [0] * len(sum_k)\n",
        "    max_index = len(sum_k) - 1\n",
        "    for i in range(len(sum_k) - 1, -1, -1):\n",
        "      if sum_k[i] >= sum_k[max_index]:\n",
        "        max_index = i\n",
        "      right[i] = max_index\n",
        "\n",
        "    max_sum = 0\n",
        "    result = []\n",
        "    for i in range(k, len(sum_k) - k):\n",
        "      l, r = left[i - k], right[i + k]\n",
        "      total = sum_k[l] + sum_k[i] + sum_k[r]\n",
        "      if total > max_sum:\n",
        "        max_sum = total\n",
        "        result = [l, i, r]\n",
        "\n",
        "    return result"
      ]
    },
    {
      "cell_type": "code",
      "execution_count": 2,
      "metadata": {},
      "outputs": [
        {
          "data": {
            "text/plain": [
              "[0, 3, 5]"
            ]
          },
          "execution_count": 2,
          "metadata": {},
          "output_type": "execute_result"
        }
      ],
      "source": [
        "nums = [1, 2, 1, 2, 6, 7, 5, 1]\n",
        "k = 2\n",
        "Solution().maxSumOfThreeSubarrays(nums=nums, k=k)"
      ]
    },
    {
      "cell_type": "code",
      "execution_count": 3,
      "metadata": {},
      "outputs": [
        {
          "data": {
            "text/plain": [
              "[0, 2, 4]"
            ]
          },
          "execution_count": 3,
          "metadata": {},
          "output_type": "execute_result"
        }
      ],
      "source": [
        "nums = [1, 2, 1, 2, 1, 2, 1, 2, 1]\n",
        "k = 2\n",
        "Solution().maxSumOfThreeSubarrays(nums=nums, k=k)"
      ]
    }
  ],
  "metadata": {
    "kernelspec": {
      "display_name": "base",
      "language": "python",
      "name": "python3"
    },
    "language_info": {
      "codemirror_mode": {
        "name": "ipython",
        "version": 3
      },
      "file_extension": ".py",
      "mimetype": "text/x-python",
      "name": "python",
      "nbconvert_exporter": "python",
      "pygments_lexer": "ipython3",
      "version": "3.11.7"
    }
  },
  "nbformat": 4,
  "nbformat_minor": 2
}
