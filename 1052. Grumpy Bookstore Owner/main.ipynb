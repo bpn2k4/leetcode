{
 "cells": [
  {
   "cell_type": "code",
   "execution_count": 1,
   "metadata": {},
   "outputs": [],
   "source": [
    "from typing import List\n",
    "\n",
    "\n",
    "class Solution:\n",
    "  def maxSatisfied(self, customers: List[int], grumpy: List[int], minutes: int) -> int:\n",
    "\n",
    "    n = len(customers)\n",
    "    sliding = 0\n",
    "    for i in range(minutes):\n",
    "      sliding += customers[i]\n",
    "    for i in range(minutes, n):\n",
    "      sliding += customers[i] * (1 - grumpy[i])\n",
    "\n",
    "    output = sliding\n",
    "\n",
    "    for i in range(1, n):\n",
    "      sliding = sliding - customers[i - 1]\n",
    "      sliding = sliding + customers[i - 1] * (1 - grumpy[i - 1])\n",
    "      if i + minutes - 1 < n:\n",
    "        sliding = sliding + customers[i + minutes - 1]\n",
    "        sliding = sliding - customers[i + minutes - 1] * (1 - grumpy[i + minutes - 1])\n",
    "      output = max(output, sliding)\n",
    "\n",
    "    return output"
   ]
  },
  {
   "cell_type": "code",
   "execution_count": 2,
   "metadata": {},
   "outputs": [
    {
     "data": {
      "text/plain": [
       "16"
      ]
     },
     "execution_count": 2,
     "metadata": {},
     "output_type": "execute_result"
    }
   ],
   "source": [
    "Solution().maxSatisfied(customers=[1, 0, 1, 2, 1, 1, 7, 5], grumpy=[0, 1, 0, 1, 0, 1, 0, 1], minutes=3)"
   ]
  },
  {
   "cell_type": "code",
   "execution_count": 3,
   "metadata": {},
   "outputs": [
    {
     "data": {
      "text/plain": [
       "1"
      ]
     },
     "execution_count": 3,
     "metadata": {},
     "output_type": "execute_result"
    }
   ],
   "source": [
    "Solution().maxSatisfied(customers=[1], grumpy=[0], minutes=1)"
   ]
  }
 ],
 "metadata": {
  "kernelspec": {
   "display_name": "base",
   "language": "python",
   "name": "python3"
  },
  "language_info": {
   "codemirror_mode": {
    "name": "ipython",
    "version": 3
   },
   "file_extension": ".py",
   "mimetype": "text/x-python",
   "name": "python",
   "nbconvert_exporter": "python",
   "pygments_lexer": "ipython3",
   "version": "3.11.7"
  }
 },
 "nbformat": 4,
 "nbformat_minor": 2
}
