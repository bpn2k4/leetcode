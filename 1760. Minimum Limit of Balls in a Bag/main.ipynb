{
 "cells": [
  {
   "cell_type": "code",
   "execution_count": null,
   "metadata": {},
   "outputs": [],
   "source": [
    "from typing import List\n",
    "\n",
    "\n",
    "class Solution:\n",
    "  def minimumSize(self, nums: List[int], maxOperations: int) -> int:\n",
    "    \n",
    "    low, high = 1, 1000000000\n",
    "    while low < high:\n",
    "      mid = (low + high) // 2\n",
    "\n",
    "      operations = 0\n",
    "      for num in nums:\n",
    "        if num > mid:\n",
    "          operations += (num - 1) // mid\n",
    "      \n",
    "      if operations > maxOperations:\n",
    "        low = mid + 1\n",
    "      else:\n",
    "        high = mid\n",
    "\n",
    "    return low"
   ]
  },
  {
   "cell_type": "code",
   "execution_count": 2,
   "metadata": {},
   "outputs": [
    {
     "data": {
      "text/plain": [
       "3"
      ]
     },
     "execution_count": 2,
     "metadata": {},
     "output_type": "execute_result"
    }
   ],
   "source": [
    "nums = [9]\n",
    "maxOperations = 2\n",
    "Solution().minimumSize(nums=nums, maxOperations=maxOperations)"
   ]
  },
  {
   "cell_type": "code",
   "execution_count": 3,
   "metadata": {},
   "outputs": [
    {
     "data": {
      "text/plain": [
       "2"
      ]
     },
     "execution_count": 3,
     "metadata": {},
     "output_type": "execute_result"
    }
   ],
   "source": [
    "nums = [2, 4, 8, 2]\n",
    "maxOperations = 4\n",
    "Solution().minimumSize(nums=nums, maxOperations=maxOperations)"
   ]
  }
 ],
 "metadata": {
  "kernelspec": {
   "display_name": "base",
   "language": "python",
   "name": "python3"
  },
  "language_info": {
   "codemirror_mode": {
    "name": "ipython",
    "version": 3
   },
   "file_extension": ".py",
   "mimetype": "text/x-python",
   "name": "python",
   "nbconvert_exporter": "python",
   "pygments_lexer": "ipython3",
   "version": "3.11.7"
  }
 },
 "nbformat": 4,
 "nbformat_minor": 2
}
