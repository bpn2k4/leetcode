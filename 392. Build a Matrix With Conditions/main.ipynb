{
 "cells": [
  {
   "cell_type": "code",
   "execution_count": 31,
   "metadata": {},
   "outputs": [],
   "source": [
    "from typing import List\n",
    "\n",
    "\n",
    "class Solution:\n",
    "\n",
    "  def buildMatrix(self, k: int, rowConditions: List[List[int]], colConditions: List[List[int]]) -> List[List[int]]:\n",
    "\n",
    "\n",
    "    def topological_sort(k: int, conditions: List[List[int]]) -> List[int]:\n",
    "      graph = {}\n",
    "      in_degree = [0] * (k + 1)\n",
    "\n",
    "      for u, v in conditions:\n",
    "        if u not in graph:\n",
    "          graph[u] = [v]\n",
    "        else:\n",
    "          graph[u].append(v)\n",
    "        in_degree[v] += 1\n",
    "\n",
    "      queue = [i for i in range(1, k + 1) if in_degree[i] == 0]\n",
    "      topo_order = []\n",
    "\n",
    "      while queue:\n",
    "        node = queue.pop(0)\n",
    "        topo_order.append(node)\n",
    "\n",
    "        for neighbor in graph.get(node, []):\n",
    "          in_degree[neighbor] -= 1\n",
    "          if in_degree[neighbor] == 0:\n",
    "            queue.append(neighbor)\n",
    "\n",
    "      if len(topo_order) == k:\n",
    "        return topo_order\n",
    "      return []\n",
    "\n",
    "    row_order = topological_sort(k, rowConditions)\n",
    "    col_order = topological_sort(k, colConditions)\n",
    "\n",
    "    if not row_order or not col_order:\n",
    "      return []\n",
    "\n",
    "    row_pos = {num: i for i, num in enumerate(row_order)}\n",
    "    col_pos = {num: i for i, num in enumerate(col_order)}\n",
    "\n",
    "    matrix = [[0] * k for _ in range(k)]\n",
    "\n",
    "    for num in range(1, k + 1):\n",
    "      matrix[row_pos[num]][col_pos[num]] = num\n",
    "\n",
    "    return matrix"
   ]
  },
  {
   "cell_type": "code",
   "execution_count": 32,
   "metadata": {},
   "outputs": [
    {
     "data": {
      "text/plain": [
       "[[0, 0, 1], [3, 0, 0], [0, 2, 0]]"
      ]
     },
     "execution_count": 32,
     "metadata": {},
     "output_type": "execute_result"
    }
   ],
   "source": [
    "Solution().buildMatrix(\n",
    "    k=3,\n",
    "    rowConditions=[[1, 2], [3, 2]],\n",
    "    colConditions=[[2, 1], [3, 2]]\n",
    ")"
   ]
  },
  {
   "cell_type": "code",
   "execution_count": 33,
   "metadata": {},
   "outputs": [
    {
     "data": {
      "text/plain": [
       "[]"
      ]
     },
     "execution_count": 33,
     "metadata": {},
     "output_type": "execute_result"
    }
   ],
   "source": [
    "Solution().buildMatrix(\n",
    "    k=3,\n",
    "    rowConditions=[[1, 2], [2, 3], [3, 1], [2, 3]],\n",
    "    colConditions=[[2, 1]]\n",
    ")"
   ]
  }
 ],
 "metadata": {
  "kernelspec": {
   "display_name": "base",
   "language": "python",
   "name": "python3"
  },
  "language_info": {
   "codemirror_mode": {
    "name": "ipython",
    "version": 3
   },
   "file_extension": ".py",
   "mimetype": "text/x-python",
   "name": "python",
   "nbconvert_exporter": "python",
   "pygments_lexer": "ipython3",
   "version": "3.11.7"
  }
 },
 "nbformat": 4,
 "nbformat_minor": 2
}
