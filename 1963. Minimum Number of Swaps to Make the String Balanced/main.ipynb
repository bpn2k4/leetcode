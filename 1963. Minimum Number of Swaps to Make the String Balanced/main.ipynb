{
  "cells": [
    {
      "cell_type": "code",
      "execution_count": 5,
      "metadata": {},
      "outputs": [],
      "source": [
        "class Solution:\n",
        "  def minSwaps(self, s: str) -> int:\n",
        "    \n",
        "    stack = []\n",
        "\n",
        "    for char in s:\n",
        "      if char == '[':\n",
        "        stack.append(char)\n",
        "      else:\n",
        "        if stack and stack[-1] == '[':\n",
        "          stack.pop()\n",
        "        else:\n",
        "          stack.append(char)\n",
        "    \n",
        "    imbalance = len(stack) // 2\n",
        "\n",
        "    return (imbalance + 1) // 2"
      ]
    },
    {
      "cell_type": "code",
      "execution_count": 6,
      "metadata": {},
      "outputs": [
        {
          "data": {
            "text/plain": [
              "1"
            ]
          },
          "execution_count": 6,
          "metadata": {},
          "output_type": "execute_result"
        }
      ],
      "source": [
        "s = \"][][\"\n",
        "Solution().minSwaps(s=s)"
      ]
    },
    {
      "cell_type": "code",
      "execution_count": 7,
      "metadata": {},
      "outputs": [
        {
          "data": {
            "text/plain": [
              "2"
            ]
          },
          "execution_count": 7,
          "metadata": {},
          "output_type": "execute_result"
        }
      ],
      "source": [
        "s = \"]]][[[\"\n",
        "Solution().minSwaps(s=s)"
      ]
    },
    {
      "cell_type": "code",
      "execution_count": 8,
      "metadata": {},
      "outputs": [
        {
          "data": {
            "text/plain": [
              "0"
            ]
          },
          "execution_count": 8,
          "metadata": {},
          "output_type": "execute_result"
        }
      ],
      "source": [
        "s = \"[]\"\n",
        "Solution().minSwaps(s=s)"
      ]
    }
  ],
  "metadata": {
    "kernelspec": {
      "display_name": "base",
      "language": "python",
      "name": "python3"
    },
    "language_info": {
      "codemirror_mode": {
        "name": "ipython",
        "version": 3
      },
      "file_extension": ".py",
      "mimetype": "text/x-python",
      "name": "python",
      "nbconvert_exporter": "python",
      "pygments_lexer": "ipython3",
      "version": "3.11.7"
    }
  },
  "nbformat": 4,
  "nbformat_minor": 2
}
