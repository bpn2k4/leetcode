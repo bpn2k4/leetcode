{
 "cells": [
  {
   "cell_type": "code",
   "execution_count": 1,
   "metadata": {},
   "outputs": [],
   "source": [
    "class RecentCounter:\n",
    "\n",
    "  def __init__(self):\n",
    "    self.pings = []\n",
    "        \n",
    "\n",
    "  def ping(self, t: int) -> int:\n",
    "\n",
    "    self.pings.append(t)\n",
    "\n",
    "    low, high = 0, len(self.pings)\n",
    "    while low < high:\n",
    "      mid = (low + high) // 2\n",
    "      if self.pings[mid] >= t - 3000:\n",
    "        high = mid\n",
    "      else:\n",
    "        low = mid + 1\n",
    "    \n",
    "    return len(self.pings) - low\n",
    "    "
   ]
  },
  {
   "cell_type": "code",
   "execution_count": 2,
   "metadata": {},
   "outputs": [
    {
     "data": {
      "text/plain": [
       "(1, 2, 3, 3)"
      ]
     },
     "execution_count": 2,
     "metadata": {},
     "output_type": "execute_result"
    }
   ],
   "source": [
    "obj = RecentCounter()\n",
    "obj.ping(1), obj.ping(100), obj.ping(3001), obj.ping(3002)"
   ]
  }
 ],
 "metadata": {
  "kernelspec": {
   "display_name": "base",
   "language": "python",
   "name": "python3"
  },
  "language_info": {
   "codemirror_mode": {
    "name": "ipython",
    "version": 3
   },
   "file_extension": ".py",
   "mimetype": "text/x-python",
   "name": "python",
   "nbconvert_exporter": "python",
   "pygments_lexer": "ipython3",
   "version": "3.11.7"
  }
 },
 "nbformat": 4,
 "nbformat_minor": 2
}
