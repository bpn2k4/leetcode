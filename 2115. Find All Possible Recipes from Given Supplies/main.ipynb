{
  "cells": [
    {
      "cell_type": "code",
      "execution_count": 1,
      "metadata": {},
      "outputs": [],
      "source": [
        "from typing import List\n",
        "from collections import defaultdict, deque\n",
        "\n",
        "\n",
        "class Solution:\n",
        "  def findAllRecipes(self, recipes: List[str], ingredients: List[List[str]], supplies: List[str]) -> List[str]:\n",
        "\n",
        "    available_supplies = set(supplies)\n",
        "    recipe_index_map = {recipe: idx for idx, recipe in enumerate(recipes)}\n",
        "    dependency_graph = defaultdict(list)\n",
        "    in_degree = [0] * len(recipes)\n",
        "\n",
        "    for idx, ingredient_list in enumerate(ingredients):\n",
        "      for ingredient in ingredient_list:\n",
        "        if ingredient not in available_supplies:\n",
        "          dependency_graph[ingredient].append(recipes[idx])\n",
        "          in_degree[idx] += 1\n",
        "\n",
        "    process_queue = deque(idx for idx, count in enumerate(in_degree) if count == 0)\n",
        "    possible_recipes = []\n",
        "\n",
        "    while process_queue:\n",
        "      recipe_idx = process_queue.popleft()\n",
        "      recipe = recipes[recipe_idx]\n",
        "      possible_recipes.append(recipe)\n",
        "\n",
        "      for dependent_recipe in dependency_graph[recipe]:\n",
        "        dependent_idx = recipe_index_map[dependent_recipe]\n",
        "        in_degree[dependent_idx] -= 1\n",
        "        if in_degree[dependent_idx] == 0:\n",
        "          process_queue.append(dependent_idx)\n",
        "\n",
        "    return possible_recipes"
      ]
    },
    {
      "cell_type": "code",
      "execution_count": 2,
      "metadata": {},
      "outputs": [
        {
          "data": {
            "text/plain": [
              "['bread']"
            ]
          },
          "execution_count": 2,
          "metadata": {},
          "output_type": "execute_result"
        }
      ],
      "source": [
        "recipes = [\"bread\"]\n",
        "ingredients = [[\"yeast\", \"flour\"]]\n",
        "supplies = [\"yeast\", \"flour\", \"corn\"]\n",
        "Solution().findAllRecipes(recipes=recipes, ingredients=ingredients, supplies=supplies)"
      ]
    },
    {
      "cell_type": "code",
      "execution_count": 3,
      "metadata": {},
      "outputs": [
        {
          "data": {
            "text/plain": [
              "['bread', 'sandwich']"
            ]
          },
          "execution_count": 3,
          "metadata": {},
          "output_type": "execute_result"
        }
      ],
      "source": [
        "recipes = [\"bread\", \"sandwich\"]\n",
        "ingredients = [[\"yeast\", \"flour\"], [\"bread\", \"meat\"]]\n",
        "supplies = [\"yeast\", \"flour\", \"meat\"]\n",
        "Solution().findAllRecipes(recipes=recipes, ingredients=ingredients, supplies=supplies)"
      ]
    },
    {
      "cell_type": "code",
      "execution_count": 4,
      "metadata": {},
      "outputs": [
        {
          "data": {
            "text/plain": [
              "['bread', 'sandwich', 'burger']"
            ]
          },
          "execution_count": 4,
          "metadata": {},
          "output_type": "execute_result"
        }
      ],
      "source": [
        "recipes = [\"bread\", \"sandwich\", \"burger\"]\n",
        "ingredients = [[\"yeast\", \"flour\"], [\"bread\", \"meat\"], [\"sandwich\", \"meat\", \"bread\"]]\n",
        "supplies = [\"yeast\", \"flour\", \"meat\"]\n",
        "Solution().findAllRecipes(recipes=recipes, ingredients=ingredients, supplies=supplies)"
      ]
    }
  ],
  "metadata": {
    "kernelspec": {
      "display_name": "Python 3",
      "language": "python",
      "name": "python3"
    },
    "language_info": {
      "codemirror_mode": {
        "name": "ipython",
        "version": 3
      },
      "file_extension": ".py",
      "mimetype": "text/x-python",
      "name": "python",
      "nbconvert_exporter": "python",
      "pygments_lexer": "ipython3",
      "version": "3.12.1"
    }
  },
  "nbformat": 4,
  "nbformat_minor": 2
}
