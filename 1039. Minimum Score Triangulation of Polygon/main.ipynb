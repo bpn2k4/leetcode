{
  "cells": [
    {
      "cell_type": "code",
      "execution_count": 1,
      "metadata": {},
      "outputs": [],
      "source": [
        "from typing import List\n",
        "from functools import lru_cache\n",
        "\n",
        "\n",
        "class Solution:\n",
        "  def minScoreTriangulation(self, values: List[int]) -> int:\n",
        "    \n",
        "    @lru_cache(None)\n",
        "    def dp(i, j):\n",
        "      if i + 2 > j:\n",
        "        return 0\n",
        "      if i + 2 == j:\n",
        "        return values[i] * values[i + 1] * values[j]\n",
        "      return min(\n",
        "          (values[i] * values[k] * values[j] + dp(i, k) + dp(k, j))\n",
        "          for k in range(i + 1, j)\n",
        "      )\n",
        "\n",
        "    return dp(0, len(values) - 1)"
      ]
    },
    {
      "cell_type": "code",
      "execution_count": 2,
      "metadata": {},
      "outputs": [
        {
          "data": {
            "text/plain": [
              "6"
            ]
          },
          "execution_count": 2,
          "metadata": {},
          "output_type": "execute_result"
        }
      ],
      "source": [
        "values = [1, 2, 3]\n",
        "Solution().minScoreTriangulation(values=values)"
      ]
    },
    {
      "cell_type": "code",
      "execution_count": 3,
      "metadata": {},
      "outputs": [
        {
          "data": {
            "text/plain": [
              "144"
            ]
          },
          "execution_count": 3,
          "metadata": {},
          "output_type": "execute_result"
        }
      ],
      "source": [
        "values = [3, 7, 4, 5]\n",
        "Solution().minScoreTriangulation(values=values)"
      ]
    },
    {
      "cell_type": "code",
      "execution_count": 4,
      "metadata": {},
      "outputs": [
        {
          "data": {
            "text/plain": [
              "13"
            ]
          },
          "execution_count": 4,
          "metadata": {},
          "output_type": "execute_result"
        }
      ],
      "source": [
        "values = [1, 3, 1, 4, 1, 5]\n",
        "Solution().minScoreTriangulation(values=values)"
      ]
    }
  ],
  "metadata": {
    "kernelspec": {
      "display_name": "Python 3",
      "language": "python",
      "name": "python3"
    },
    "language_info": {
      "codemirror_mode": {
        "name": "ipython",
        "version": 3
      },
      "file_extension": ".py",
      "mimetype": "text/x-python",
      "name": "python",
      "nbconvert_exporter": "python",
      "pygments_lexer": "ipython3",
      "version": "3.12.1"
    }
  },
  "nbformat": 4,
  "nbformat_minor": 2
}
