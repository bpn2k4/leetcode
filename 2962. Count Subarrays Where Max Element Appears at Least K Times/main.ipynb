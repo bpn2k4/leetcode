{
  "cells": [
    {
      "cell_type": "code",
      "execution_count": 1,
      "metadata": {},
      "outputs": [],
      "source": [
        "from typing import List\n",
        "\n",
        "\n",
        "class Solution:\n",
        "  def countSubarrays(self, nums: List[int], k: int) -> int:\n",
        "    \n",
        "    max_num = max(nums)\n",
        "    n = len(nums)\n",
        "    l, r = 0, 0\n",
        "    answer, count = 0, 0\n",
        "    while r < n:\n",
        "      if nums[r] == max_num:\n",
        "        count += 1\n",
        "      while count >= k:\n",
        "        answer += (n - r)\n",
        "        if nums[l] == max_num:\n",
        "          count -= 1\n",
        "        l += 1\n",
        "      r += 1\n",
        "    \n",
        "    return answer"
      ]
    },
    {
      "cell_type": "code",
      "execution_count": 2,
      "metadata": {},
      "outputs": [
        {
          "data": {
            "text/plain": [
              "6"
            ]
          },
          "execution_count": 2,
          "metadata": {},
          "output_type": "execute_result"
        }
      ],
      "source": [
        "nums = [1, 3, 2, 3, 3]\n",
        "k = 2\n",
        "Solution().countSubarrays(nums=nums, k=k)"
      ]
    },
    {
      "cell_type": "code",
      "execution_count": 3,
      "metadata": {},
      "outputs": [
        {
          "data": {
            "text/plain": [
              "0"
            ]
          },
          "execution_count": 3,
          "metadata": {},
          "output_type": "execute_result"
        }
      ],
      "source": [
        "nums = [1, 4, 2, 1]\n",
        "k = 3\n",
        "Solution().countSubarrays(nums=nums, k=k)"
      ]
    }
  ],
  "metadata": {
    "kernelspec": {
      "display_name": "Python 3",
      "language": "python",
      "name": "python3"
    },
    "language_info": {
      "codemirror_mode": {
        "name": "ipython",
        "version": 3
      },
      "file_extension": ".py",
      "mimetype": "text/x-python",
      "name": "python",
      "nbconvert_exporter": "python",
      "pygments_lexer": "ipython3",
      "version": "3.12.8"
    }
  },
  "nbformat": 4,
  "nbformat_minor": 2
}
