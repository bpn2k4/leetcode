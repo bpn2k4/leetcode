{
  "cells": [
    {
      "cell_type": "code",
      "execution_count": null,
      "metadata": {},
      "outputs": [],
      "source": [
        "class Solution:\n",
        "  def getHappyString(self, n: int, k: int) -> str:\n",
        "    \n",
        "    letters = ['a', 'b', 'c']\n",
        "    state = [''] * (n + 1)\n",
        "    index = [0]\n",
        "    result = ['']\n",
        "\n",
        "    def back_track(i):\n",
        "      for char in letters:\n",
        "        if state[i - 1] != char:\n",
        "          state[i] = char\n",
        "          if i == n:\n",
        "            index[0] += 1\n",
        "            if index[0] == k:\n",
        "              result[0] = ''.join(state)\n",
        "              return\n",
        "          else:\n",
        "            back_track(i + 1)\n",
        "    \n",
        "    back_track(1)\n",
        "\n",
        "    return result[0]"
      ]
    },
    {
      "cell_type": "code",
      "execution_count": 2,
      "metadata": {},
      "outputs": [
        {
          "data": {
            "text/plain": [
              "'c'"
            ]
          },
          "execution_count": 2,
          "metadata": {},
          "output_type": "execute_result"
        }
      ],
      "source": [
        "n = 1\n",
        "k = 3\n",
        "Solution().getHappyString(n=n, k=k)"
      ]
    },
    {
      "cell_type": "code",
      "execution_count": 3,
      "metadata": {},
      "outputs": [
        {
          "data": {
            "text/plain": [
              "''"
            ]
          },
          "execution_count": 3,
          "metadata": {},
          "output_type": "execute_result"
        }
      ],
      "source": [
        "n = 1\n",
        "k = 4\n",
        "Solution().getHappyString(n=n, k=k)"
      ]
    },
    {
      "cell_type": "code",
      "execution_count": 4,
      "metadata": {},
      "outputs": [
        {
          "data": {
            "text/plain": [
              "'cab'"
            ]
          },
          "execution_count": 4,
          "metadata": {},
          "output_type": "execute_result"
        }
      ],
      "source": [
        "n = 3\n",
        "k = 9\n",
        "Solution().getHappyString(n=n, k=k)"
      ]
    }
  ],
  "metadata": {
    "kernelspec": {
      "display_name": "Python 3",
      "language": "python",
      "name": "python3"
    },
    "language_info": {
      "codemirror_mode": {
        "name": "ipython",
        "version": 3
      },
      "file_extension": ".py",
      "mimetype": "text/x-python",
      "name": "python",
      "nbconvert_exporter": "python",
      "pygments_lexer": "ipython3",
      "version": "3.12.1"
    }
  },
  "nbformat": 4,
  "nbformat_minor": 2
}
