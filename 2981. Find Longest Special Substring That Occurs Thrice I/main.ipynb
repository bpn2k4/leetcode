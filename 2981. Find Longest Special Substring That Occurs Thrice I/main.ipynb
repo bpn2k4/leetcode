{
 "cells": [
  {
   "cell_type": "code",
   "execution_count": 1,
   "metadata": {},
   "outputs": [],
   "source": [
    "class Solution:\n",
    "  def maximumLength(self, s: str) -> int:\n",
    "    \n",
    "    n = len(s)\n",
    "    longest_special_substring = -1\n",
    "    substrings2count = {}\n",
    "    for i in range(n):\n",
    "      j = i + 1\n",
    "      substring = s[i]\n",
    "      substrings2count[substring] = substrings2count.get(substring, 0) + 1\n",
    "      while j < n and s[i] == s[j]:\n",
    "        substring += s[j]\n",
    "        j += 1\n",
    "        substrings2count[substring] = substrings2count.get(substring, 0) + 1\n",
    "    \n",
    "    for substring, count in substrings2count.items():\n",
    "      if count >= 3:\n",
    "        longest_special_substring = max(longest_special_substring, len(substring))\n",
    "      \n",
    "    return longest_special_substring"
   ]
  },
  {
   "cell_type": "code",
   "execution_count": 2,
   "metadata": {},
   "outputs": [
    {
     "data": {
      "text/plain": [
       "2"
      ]
     },
     "execution_count": 2,
     "metadata": {},
     "output_type": "execute_result"
    }
   ],
   "source": [
    "s = \"aaaa\"\n",
    "Solution().maximumLength(s=s)"
   ]
  },
  {
   "cell_type": "code",
   "execution_count": 3,
   "metadata": {},
   "outputs": [
    {
     "data": {
      "text/plain": [
       "-1"
      ]
     },
     "execution_count": 3,
     "metadata": {},
     "output_type": "execute_result"
    }
   ],
   "source": [
    "s = \"abcdef\"\n",
    "Solution().maximumLength(s=s)"
   ]
  },
  {
   "cell_type": "code",
   "execution_count": 4,
   "metadata": {},
   "outputs": [
    {
     "data": {
      "text/plain": [
       "1"
      ]
     },
     "execution_count": 4,
     "metadata": {},
     "output_type": "execute_result"
    }
   ],
   "source": [
    "s = \"abcaba\"\n",
    "Solution().maximumLength(s=s)"
   ]
  }
 ],
 "metadata": {
  "kernelspec": {
   "display_name": "base",
   "language": "python",
   "name": "python3"
  },
  "language_info": {
   "codemirror_mode": {
    "name": "ipython",
    "version": 3
   },
   "file_extension": ".py",
   "mimetype": "text/x-python",
   "name": "python",
   "nbconvert_exporter": "python",
   "pygments_lexer": "ipython3",
   "version": "3.11.7"
  }
 },
 "nbformat": 4,
 "nbformat_minor": 2
}
