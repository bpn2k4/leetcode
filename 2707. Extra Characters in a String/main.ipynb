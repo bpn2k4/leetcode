{
  "cells": [
    {
      "cell_type": "code",
      "execution_count": 1,
      "metadata": {},
      "outputs": [],
      "source": [
        "from typing import List\n",
        "\n",
        "\n",
        "class Solution:\n",
        "  def minExtraChar(self, s: str, dictionary: List[str]) -> int:\n",
        "\n",
        "    dictionary = {word: 1 for word in dictionary}\n",
        "    n = len(s)\n",
        "    dp = [9999999] * (n + 1)\n",
        "    dp[0] = 0\n",
        "\n",
        "    for i in range(1, n + 1):\n",
        "      dp[i] = dp[i - 1] + 1\n",
        "      for j in range(i):\n",
        "        word = s[j:i]\n",
        "        if word in dictionary:\n",
        "          dp[i] = min(dp[i], dp[j])\n",
        "    \n",
        "    return dp[n]"
      ]
    },
    {
      "cell_type": "code",
      "execution_count": 2,
      "metadata": {},
      "outputs": [
        {
          "data": {
            "text/plain": [
              "1"
            ]
          },
          "execution_count": 2,
          "metadata": {},
          "output_type": "execute_result"
        }
      ],
      "source": [
        "s = \"leetscode\"\n",
        "dictionary = [\"leet\", \"code\", \"leetcode\"]\n",
        "Solution().minExtraChar(s=s, dictionary=dictionary)"
      ]
    },
    {
      "cell_type": "code",
      "execution_count": 3,
      "metadata": {},
      "outputs": [
        {
          "data": {
            "text/plain": [
              "3"
            ]
          },
          "execution_count": 3,
          "metadata": {},
          "output_type": "execute_result"
        }
      ],
      "source": [
        "s = \"sayhelloworld\"\n",
        "dictionary = [\"hello\", \"world\"]\n",
        "Solution().minExtraChar(s=s, dictionary=dictionary)"
      ]
    }
  ],
  "metadata": {
    "kernelspec": {
      "display_name": "base",
      "language": "python",
      "name": "python3"
    },
    "language_info": {
      "codemirror_mode": {
        "name": "ipython",
        "version": 3
      },
      "file_extension": ".py",
      "mimetype": "text/x-python",
      "name": "python",
      "nbconvert_exporter": "python",
      "pygments_lexer": "ipython3",
      "version": "3.11.7"
    }
  },
  "nbformat": 4,
  "nbformat_minor": 2
}
