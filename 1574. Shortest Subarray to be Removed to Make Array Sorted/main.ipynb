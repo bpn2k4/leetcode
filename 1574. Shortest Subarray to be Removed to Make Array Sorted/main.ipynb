{
 "cells": [
  {
   "cell_type": "code",
   "execution_count": 1,
   "metadata": {},
   "outputs": [],
   "source": [
    "from typing import List\n",
    "\n",
    "\n",
    "class Solution:\n",
    "  def findLengthOfShortestSubarray(self, arr: List[int]) -> int:\n",
    "    \n",
    "    n = len(arr)\n",
    "    right = n - 1\n",
    "    while right > 0 and arr[right] >= arr[right - 1]:\n",
    "      right -= 1\n",
    "\n",
    "    if right == 0:\n",
    "      return 0\n",
    "    \n",
    "    min_length = right\n",
    "    for left in range(n):\n",
    "\n",
    "      if left > 0 and arr[left] < arr[left - 1]:\n",
    "        break\n",
    "\n",
    "      while right < n and arr[left] > arr[right]:\n",
    "        right += 1\n",
    "      min_length = min(min_length, right - left - 1)\n",
    "\n",
    "    return min_length "
   ]
  },
  {
   "cell_type": "code",
   "execution_count": 2,
   "metadata": {},
   "outputs": [
    {
     "data": {
      "text/plain": [
       "3"
      ]
     },
     "execution_count": 2,
     "metadata": {},
     "output_type": "execute_result"
    }
   ],
   "source": [
    "arr = [1, 2, 3, 10, 4, 2, 3, 5]\n",
    "Solution().findLengthOfShortestSubarray(arr=arr)"
   ]
  },
  {
   "cell_type": "code",
   "execution_count": 3,
   "metadata": {},
   "outputs": [
    {
     "data": {
      "text/plain": [
       "4"
      ]
     },
     "execution_count": 3,
     "metadata": {},
     "output_type": "execute_result"
    }
   ],
   "source": [
    "arr = [5, 4, 3, 2, 1]\n",
    "Solution().findLengthOfShortestSubarray(arr=arr)"
   ]
  },
  {
   "cell_type": "code",
   "execution_count": 4,
   "metadata": {},
   "outputs": [
    {
     "data": {
      "text/plain": [
       "0"
      ]
     },
     "execution_count": 4,
     "metadata": {},
     "output_type": "execute_result"
    }
   ],
   "source": [
    "arr = [1, 2, 3]\n",
    "Solution().findLengthOfShortestSubarray(arr=arr)"
   ]
  }
 ],
 "metadata": {
  "kernelspec": {
   "display_name": "base",
   "language": "python",
   "name": "python3"
  },
  "language_info": {
   "codemirror_mode": {
    "name": "ipython",
    "version": 3
   },
   "file_extension": ".py",
   "mimetype": "text/x-python",
   "name": "python",
   "nbconvert_exporter": "python",
   "pygments_lexer": "ipython3",
   "version": "3.11.7"
  }
 },
 "nbformat": 4,
 "nbformat_minor": 2
}
