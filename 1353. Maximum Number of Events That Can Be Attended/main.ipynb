{
  "cells": [
    {
      "cell_type": "code",
      "execution_count": 1,
      "metadata": {},
      "outputs": [],
      "source": [
        "from typing import List\n",
        "import heapq\n",
        "\n",
        "\n",
        "class Solution:\n",
        "  def maxEvents(self, events: List[List[int]]) -> int:\n",
        "\n",
        "    n = len(events)\n",
        "    max_day = max(event[1] for event in events)\n",
        "    events.sort()\n",
        "    pq = []\n",
        "    output, j = 0, 0\n",
        "    for i in range(1, max_day + 1):\n",
        "      while j < n and events[j][0] <= i:\n",
        "        heapq.heappush(pq, events[j][1])\n",
        "        j += 1\n",
        "      while pq and pq[0] < i:\n",
        "        heapq.heappop(pq)\n",
        "      if pq:\n",
        "        heapq.heappop(pq)\n",
        "        output += 1\n",
        "\n",
        "    return output"
      ]
    },
    {
      "cell_type": "code",
      "execution_count": 2,
      "metadata": {},
      "outputs": [
        {
          "data": {
            "text/plain": [
              "3"
            ]
          },
          "execution_count": 2,
          "metadata": {},
          "output_type": "execute_result"
        }
      ],
      "source": [
        "events = [[1, 2], [2, 3], [3, 4]]\n",
        "Solution().maxEvents(events=events)"
      ]
    },
    {
      "cell_type": "code",
      "execution_count": 3,
      "metadata": {},
      "outputs": [
        {
          "data": {
            "text/plain": [
              "4"
            ]
          },
          "execution_count": 3,
          "metadata": {},
          "output_type": "execute_result"
        }
      ],
      "source": [
        "events= [[1, 2], [2, 3], [3, 4], [1, 2]]\n",
        "Solution().maxEvents(events=events)"
      ]
    }
  ],
  "metadata": {
    "kernelspec": {
      "display_name": "Python 3",
      "language": "python",
      "name": "python3"
    },
    "language_info": {
      "codemirror_mode": {
        "name": "ipython",
        "version": 3
      },
      "file_extension": ".py",
      "mimetype": "text/x-python",
      "name": "python",
      "nbconvert_exporter": "python",
      "pygments_lexer": "ipython3",
      "version": "3.12.8"
    }
  },
  "nbformat": 4,
  "nbformat_minor": 2
}
