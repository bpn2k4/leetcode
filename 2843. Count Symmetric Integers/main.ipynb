{
  "cells": [
    {
      "cell_type": "code",
      "execution_count": 1,
      "metadata": {},
      "outputs": [],
      "source": [
        "class Solution:\n",
        "  def countSymmetricIntegers(self, low: int, high: int) -> int:\n",
        "    \n",
        "    def is_symmetric(num: int):\n",
        "\n",
        "      digists = []\n",
        "      while num > 0:\n",
        "        digists.append(num % 10)\n",
        "        num //= 10\n",
        "        \n",
        "      length = len(digists)\n",
        "      if length % 2 != 0:\n",
        "        return False\n",
        "      \n",
        "      return sum(digists[:length // 2]) == sum(digists[length // 2:])\n",
        "    \n",
        "    return sum(is_symmetric(num) for num in range(low, high + 1))"
      ]
    },
    {
      "cell_type": "code",
      "execution_count": 2,
      "metadata": {},
      "outputs": [
        {
          "data": {
            "text/plain": [
              "9"
            ]
          },
          "execution_count": 2,
          "metadata": {},
          "output_type": "execute_result"
        }
      ],
      "source": [
        "low = 1\n",
        "high = 100\n",
        "Solution().countSymmetricIntegers(low=low, high=high)"
      ]
    },
    {
      "cell_type": "code",
      "execution_count": 3,
      "metadata": {},
      "outputs": [
        {
          "data": {
            "text/plain": [
              "4"
            ]
          },
          "execution_count": 3,
          "metadata": {},
          "output_type": "execute_result"
        }
      ],
      "source": [
        "low = 1200\n",
        "high = 1230\n",
        "Solution().countSymmetricIntegers(low=low, high=high)"
      ]
    }
  ],
  "metadata": {
    "kernelspec": {
      "display_name": "Python 3",
      "language": "python",
      "name": "python3"
    },
    "language_info": {
      "codemirror_mode": {
        "name": "ipython",
        "version": 3
      },
      "file_extension": ".py",
      "mimetype": "text/x-python",
      "name": "python",
      "nbconvert_exporter": "python",
      "pygments_lexer": "ipython3",
      "version": "3.12.1"
    }
  },
  "nbformat": 4,
  "nbformat_minor": 2
}
