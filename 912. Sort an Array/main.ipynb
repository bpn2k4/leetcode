{
 "cells": [
  {
   "cell_type": "code",
   "execution_count": 21,
   "metadata": {},
   "outputs": [],
   "source": [
    "from typing import List\n",
    "\n",
    "\n",
    "class Solution:\n",
    "\n",
    "\n",
    "  def sortArray(self, nums: List[int]) -> List[int]:\n",
    "\n",
    "    def quick_sort(arr: List[int]) -> List[int]:\n",
    "      if len(arr) <= 1:\n",
    "        return arr\n",
    "\n",
    "      pivot = arr[len(arr) // 2]\n",
    "      left = [x for x in arr if x < pivot]\n",
    "      middle = [x for x in arr if x == pivot]\n",
    "      right = [x for x in arr if x > pivot]\n",
    "\n",
    "      return quick_sort(left) + middle + quick_sort(right)\n",
    "\n",
    "    arr = quick_sort(nums)\n",
    "    for i in range(len(arr)):\n",
    "      nums[i] = arr[i]\n",
    "    return nums\n",
    "\n",
    "  def sortArray(self, nums: List[int]) -> List[int]:\n",
    "    \n",
    "    def merge_sort(arr: List[int]):\n",
    "      if len(arr) > 1:\n",
    "        mid = len(arr) // 2\n",
    "\n",
    "        left = arr[:mid]\n",
    "        right = arr[mid:]\n",
    "\n",
    "        merge_sort(left)\n",
    "        merge_sort(right)\n",
    "\n",
    "        i = j = k = 0\n",
    "\n",
    "        while i < len(left) and j < len(right):\n",
    "          if left[i] < right[j]:\n",
    "            arr[k] = left[i]\n",
    "            i += 1\n",
    "          else:\n",
    "            arr[k] = right[j]\n",
    "            j += 1\n",
    "          k += 1\n",
    "\n",
    "        while i < len(left):\n",
    "          arr[k] = left[i]\n",
    "          i += 1\n",
    "          k += 1\n",
    "\n",
    "        while j < len(right):\n",
    "          arr[k] = right[j]\n",
    "          j += 1\n",
    "          k += 1\n",
    "\n",
    "    merge_sort(nums)\n",
    "    return nums\n",
    "  \n",
    "  def sortArray(self, nums: List[int]) -> List[int]:\n",
    "    mark = [0] * 100001\n",
    "    min_val = 1000000\n",
    "    max_val = 0\n",
    "    for num in nums:\n",
    "      num += 50000\n",
    "      mark[num] += 1\n",
    "      min_val = min(min_val, num)\n",
    "      max_val = max(max_val, num)\n",
    "    n = 0\n",
    "    for i in range(min_val, max_val + 1):\n",
    "      num = mark[i]\n",
    "      if num == 0:\n",
    "        continue\n",
    "      while num > 0:\n",
    "        nums[n] = i - 50000\n",
    "        n += 1\n",
    "        num -= 1\n",
    "        \n",
    "    return nums\n",
    "    "
   ]
  },
  {
   "cell_type": "code",
   "execution_count": 22,
   "metadata": {},
   "outputs": [
    {
     "data": {
      "text/plain": [
       "[1, 2, 3, 5]"
      ]
     },
     "execution_count": 22,
     "metadata": {},
     "output_type": "execute_result"
    }
   ],
   "source": [
    "Solution().sortArray(nums=[5,2,3,1])"
   ]
  },
  {
   "cell_type": "code",
   "execution_count": 23,
   "metadata": {},
   "outputs": [
    {
     "data": {
      "text/plain": [
       "[0, 0, 1, 1, 2, 5]"
      ]
     },
     "execution_count": 23,
     "metadata": {},
     "output_type": "execute_result"
    }
   ],
   "source": [
    "Solution().sortArray(nums=[5,1,1,2,0,0])"
   ]
  }
 ],
 "metadata": {
  "kernelspec": {
   "display_name": "base",
   "language": "python",
   "name": "python3"
  },
  "language_info": {
   "codemirror_mode": {
    "name": "ipython",
    "version": 3
   },
   "file_extension": ".py",
   "mimetype": "text/x-python",
   "name": "python",
   "nbconvert_exporter": "python",
   "pygments_lexer": "ipython3",
   "version": "3.11.7"
  }
 },
 "nbformat": 4,
 "nbformat_minor": 2
}
