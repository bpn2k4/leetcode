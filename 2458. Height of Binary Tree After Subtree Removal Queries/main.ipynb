{
 "cells": [
  {
   "cell_type": "code",
   "execution_count": 1,
   "metadata": {},
   "outputs": [],
   "source": [
    "from typing import List, Optional\n",
    "\n",
    "class TreeNode:\n",
    "  def __init__(self, val=0, left=None, right=None):\n",
    "    self.val = val\n",
    "    self.left: TreeNode = left\n",
    "    self.right: TreeNode = right\n",
    "\n",
    "\n",
    "class Solution:\n",
    "  def treeQueries(self, root: Optional[TreeNode], queries: List[int]) -> List[int]:\n",
    "\n",
    "    node2height = {}\n",
    "    node2level = {}\n",
    "    level_max = {}\n",
    "\n",
    "    def height(node: TreeNode) -> int:\n",
    "\n",
    "      if not node:\n",
    "        return -1\n",
    "      \n",
    "      if node.val in node2height:\n",
    "        return node2height[node.val]\n",
    "\n",
    "      left = height(node.left)\n",
    "      right = height(node.right)\n",
    "      \n",
    "      h = max(left, right) + 1\n",
    "      node2height[node.val] = h\n",
    "      \n",
    "      return h\n",
    "    \n",
    "    def order(node: TreeNode, level: int):\n",
    "\n",
    "      if not node:\n",
    "        return\n",
    "      \n",
    "      value = node.val\n",
    "      node_height = height(node)\n",
    "      node2level[value] = level\n",
    "      if level not in level_max:\n",
    "        level_max[level] = []\n",
    "      if len(level_max[level]) == 0:\n",
    "        level_max[level].append((value, node_height))\n",
    "      elif len(level_max[level]) == 1:\n",
    "        best_value, best_height = level_max[level][0]\n",
    "        if node_height >= best_height:\n",
    "          level_max[level] = [(value, node_height), (best_value, best_height)]\n",
    "        else:\n",
    "          level_max[level] = [(best_value, best_height), (value, node_height)]\n",
    "      else:\n",
    "        best_value, best_height = level_max[level][0]\n",
    "        _, second_best_height = level_max[level][1]\n",
    "        if node_height >= best_height:\n",
    "          level_max[level] = [(value, node_height), (best_value, best_height)]\n",
    "        elif node_height >= second_best_height:\n",
    "          level_max[level] = [(best_value, best_height), (value, node_height)]\n",
    "\n",
    "      print(value, node_height)\n",
    "      order(node.left, level + 1)\n",
    "      order(node.right, level + 1)\n",
    "      \n",
    "    order(root, 0)\n",
    "\n",
    "    output = []\n",
    "    for q in queries:\n",
    "      level = node2level[q]\n",
    "      if len(level_max[level]) == 1:\n",
    "        first_value, first_height = level_max[level][0]\n",
    "        if first_value != q:\n",
    "          output.append(level + first_height)\n",
    "          continue\n",
    "      elif len(level_max[level]) == 2:\n",
    "        first_value, first_height = level_max[level][0]\n",
    "        _, second_height = level_max[level][1]\n",
    "        if first_value != q:\n",
    "          output.append(level + first_height)\n",
    "          continue\n",
    "        else:\n",
    "          output.append(level + second_height)\n",
    "          continue\n",
    "      output.append(level - 1)\n",
    "\n",
    "    return output\n",
    "      "
   ]
  },
  {
   "cell_type": "code",
   "execution_count": 2,
   "metadata": {},
   "outputs": [
    {
     "name": "stdout",
     "output_type": "stream",
     "text": [
      "1 3\n",
      "3 1\n",
      "2 0\n",
      "4 2\n",
      "6 0\n",
      "5 1\n",
      "7 0\n"
     ]
    },
    {
     "data": {
      "text/plain": [
       "[2]"
      ]
     },
     "execution_count": 2,
     "metadata": {},
     "output_type": "execute_result"
    }
   ],
   "source": [
    "root = TreeNode(1)\n",
    "root.left = TreeNode(3)\n",
    "root.right = TreeNode(4)\n",
    "root.left.left = TreeNode(2)\n",
    "root.right.left = TreeNode(6)\n",
    "root.right.right = TreeNode(5)\n",
    "root.right.right.right = TreeNode(7)\n",
    "queries = [4]\n",
    "Solution().treeQueries(root, queries)"
   ]
  },
  {
   "cell_type": "code",
   "execution_count": 3,
   "metadata": {},
   "outputs": [
    {
     "name": "stdout",
     "output_type": "stream",
     "text": [
      "5 3\n",
      "8 2\n",
      "2 1\n",
      "4 0\n",
      "6 0\n",
      "1 0\n",
      "9 1\n",
      "3 0\n",
      "7 0\n"
     ]
    },
    {
     "data": {
      "text/plain": [
       "[3, 2, 3, 2]"
      ]
     },
     "execution_count": 3,
     "metadata": {},
     "output_type": "execute_result"
    }
   ],
   "source": [
    "root = TreeNode(5)\n",
    "root.left = TreeNode(8)\n",
    "root.right = TreeNode(9)\n",
    "root.left.left = TreeNode(2)\n",
    "root.left.right = TreeNode(1)\n",
    "root.right.left = TreeNode(3)\n",
    "root.right.right = TreeNode(7)\n",
    "root.left.left.left = TreeNode(4)\n",
    "root.left.left.right = TreeNode(6)\n",
    "queries = [3, 2, 4, 8]\n",
    "Solution().treeQueries(root, queries)\n"
   ]
  },
  {
   "cell_type": "code",
   "execution_count": 4,
   "metadata": {},
   "outputs": [
    {
     "name": "stdout",
     "output_type": "stream",
     "text": [
      "1 4\n",
      "2 3\n",
      "3 2\n",
      "4 1\n",
      "5 0\n"
     ]
    },
    {
     "data": {
      "text/plain": [
       "[2]"
      ]
     },
     "execution_count": 4,
     "metadata": {},
     "output_type": "execute_result"
    }
   ],
   "source": [
    "root = TreeNode(1)\n",
    "root.left = TreeNode(2)\n",
    "root.left.left = TreeNode(3)\n",
    "root.left.left.left = TreeNode(4)\n",
    "root.left.left.left.left = TreeNode(5)\n",
    "queries = [4]\n",
    "Solution().treeQueries(root, queries)"
   ]
  }
 ],
 "metadata": {
  "kernelspec": {
   "display_name": "base",
   "language": "python",
   "name": "python3"
  },
  "language_info": {
   "codemirror_mode": {
    "name": "ipython",
    "version": 3
   },
   "file_extension": ".py",
   "mimetype": "text/x-python",
   "name": "python",
   "nbconvert_exporter": "python",
   "pygments_lexer": "ipython3",
   "version": "3.11.7"
  }
 },
 "nbformat": 4,
 "nbformat_minor": 2
}
