{
  "cells": [
    {
      "cell_type": "code",
      "execution_count": 1,
      "metadata": {},
      "outputs": [],
      "source": [
        "from typing import List\n",
        "\n",
        "\n",
        "class Solution:\n",
        "  def findRedundantConnection(self, edges: List[List[int]]) -> List[int]:\n",
        "\n",
        "    class UnionFind:\n",
        "      def __init__(self, n):\n",
        "        self.parent = list(range(n + 1))\n",
        "        self.rank = [0] * (n + 1)\n",
        "\n",
        "      def find(self, x):\n",
        "        if self.parent[x] != x:\n",
        "          self.parent[x] = self.find(self.parent[x])\n",
        "        return self.parent[x]\n",
        "\n",
        "      def union(self, x, y):\n",
        "        rootX = self.find(x)\n",
        "        rootY = self.find(y)\n",
        "\n",
        "        if rootX == rootY:\n",
        "          return False\n",
        "\n",
        "        if self.rank[rootX] > self.rank[rootY]:\n",
        "          self.parent[rootY] = rootX\n",
        "        elif self.rank[rootX] < self.rank[rootY]:\n",
        "          self.parent[rootX] = rootY\n",
        "        else:\n",
        "          self.parent[rootY] = rootX\n",
        "          self.rank[rootX] += 1\n",
        "\n",
        "        return True\n",
        "\n",
        "    n = len(edges)\n",
        "    uf = UnionFind(n)\n",
        "\n",
        "    for edge in edges:\n",
        "      if not uf.union(edge[0], edge[1]):\n",
        "        return edge\n",
        "\n",
        "    return []"
      ]
    },
    {
      "cell_type": "code",
      "execution_count": 2,
      "metadata": {},
      "outputs": [
        {
          "data": {
            "text/plain": [
              "[2, 3]"
            ]
          },
          "execution_count": 2,
          "metadata": {},
          "output_type": "execute_result"
        }
      ],
      "source": [
        "edges = [[1, 2], [1, 3], [2, 3]]\n",
        "Solution().findRedundantConnection(edges=edges)"
      ]
    },
    {
      "cell_type": "code",
      "execution_count": 3,
      "metadata": {},
      "outputs": [
        {
          "data": {
            "text/plain": [
              "[1, 4]"
            ]
          },
          "execution_count": 3,
          "metadata": {},
          "output_type": "execute_result"
        }
      ],
      "source": [
        "edges = [[1, 2], [2, 3], [3, 4], [1, 4], [1, 5]]\n",
        "Solution().findRedundantConnection(edges=edges)"
      ]
    }
  ],
  "metadata": {
    "kernelspec": {
      "display_name": "Python 3",
      "language": "python",
      "name": "python3"
    },
    "language_info": {
      "codemirror_mode": {
        "name": "ipython",
        "version": 3
      },
      "file_extension": ".py",
      "mimetype": "text/x-python",
      "name": "python",
      "nbconvert_exporter": "python",
      "pygments_lexer": "ipython3",
      "version": "3.12.1"
    }
  },
  "nbformat": 4,
  "nbformat_minor": 2
}
