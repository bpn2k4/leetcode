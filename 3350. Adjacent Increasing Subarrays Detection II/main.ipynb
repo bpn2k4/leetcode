{
  "cells": [
    {
      "cell_type": "code",
      "execution_count": 1,
      "metadata": {},
      "outputs": [],
      "source": [
        "from typing import List\n",
        "\n",
        "\n",
        "class Solution:\n",
        "  def maxIncreasingSubarrays(self, nums: List[int]) -> int:\n",
        "\n",
        "    n = len(nums)\n",
        "    cnt, pre_count, ans = 1, 0, 0\n",
        "    for i in range(1, n):\n",
        "      if nums[i] > nums[i - 1]:\n",
        "        cnt += 1\n",
        "      else:\n",
        "        pre_count, cnt = cnt, 1\n",
        "      ans = max(ans, min(pre_count, cnt))\n",
        "      ans = max(ans, cnt // 2)\n",
        "\n",
        "    return ans"
      ]
    },
    {
      "cell_type": "code",
      "execution_count": 2,
      "metadata": {},
      "outputs": [
        {
          "data": {
            "text/plain": [
              "3"
            ]
          },
          "execution_count": 2,
          "metadata": {},
          "output_type": "execute_result"
        }
      ],
      "source": [
        "nums = [2, 5, 7, 8, 9, 2, 3, 4, 3, 1]\n",
        "Solution().maxIncreasingSubarrays(nums=nums)"
      ]
    },
    {
      "cell_type": "code",
      "execution_count": 3,
      "metadata": {},
      "outputs": [
        {
          "data": {
            "text/plain": [
              "2"
            ]
          },
          "execution_count": 3,
          "metadata": {},
          "output_type": "execute_result"
        }
      ],
      "source": [
        "nums = [1, 2, 3, 4, 4, 4, 4, 5, 6, 7]\n",
        "Solution().maxIncreasingSubarrays(nums=nums)"
      ]
    }
  ],
  "metadata": {
    "kernelspec": {
      "display_name": "Python 3",
      "language": "python",
      "name": "python3"
    },
    "language_info": {
      "codemirror_mode": {
        "name": "ipython",
        "version": 3
      },
      "file_extension": ".py",
      "mimetype": "text/x-python",
      "name": "python",
      "nbconvert_exporter": "python",
      "pygments_lexer": "ipython3",
      "version": "3.12.8"
    }
  },
  "nbformat": 4,
  "nbformat_minor": 2
}
