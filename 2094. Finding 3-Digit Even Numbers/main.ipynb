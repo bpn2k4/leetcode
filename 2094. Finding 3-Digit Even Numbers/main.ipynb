{
  "cells": [
    {
      "cell_type": "code",
      "execution_count": 1,
      "metadata": {},
      "outputs": [],
      "source": [
        "from typing import List\n",
        "from collections import Counter\n",
        "\n",
        "\n",
        "class Solution:\n",
        "  def findEvenNumbers(self, digits: List[int]) -> List[int]:\n",
        "    \n",
        "    digit2count = Counter(digits)\n",
        "    result = []\n",
        "    for num in range(100, 1000):\n",
        "      x, y, z = num // 100, num // 10 % 10, num % 10\n",
        "      c = {}\n",
        "      c[x] = c.get(x, 0) + 1\n",
        "      c[y] = c.get(y, 0) + 1\n",
        "      c[z] = c.get(z, 0) + 1\n",
        "      if c[x] <= digit2count[x] and c[y] <= digit2count[y] and c[z] <= digit2count[z] and z % 2 == 0:\n",
        "        result.append(num)\n",
        "\n",
        "    result.sort()\n",
        "\n",
        "    return result"
      ]
    },
    {
      "cell_type": "code",
      "execution_count": 2,
      "metadata": {},
      "outputs": [
        {
          "data": {
            "text/plain": [
              "[102, 120, 130, 132, 210, 230, 302, 310, 312, 320]"
            ]
          },
          "execution_count": 2,
          "metadata": {},
          "output_type": "execute_result"
        }
      ],
      "source": [
        "digits = [2, 1, 3, 0]\n",
        "Solution().findEvenNumbers(digits=digits)"
      ]
    },
    {
      "cell_type": "code",
      "execution_count": 3,
      "metadata": {},
      "outputs": [
        {
          "data": {
            "text/plain": [
              "[222, 228, 282, 288, 822, 828, 882]"
            ]
          },
          "execution_count": 3,
          "metadata": {},
          "output_type": "execute_result"
        }
      ],
      "source": [
        "digits = [2, 2, 8, 8, 2]\n",
        "Solution().findEvenNumbers(digits=digits)"
      ]
    },
    {
      "cell_type": "code",
      "execution_count": 4,
      "metadata": {},
      "outputs": [
        {
          "data": {
            "text/plain": [
              "[]"
            ]
          },
          "execution_count": 4,
          "metadata": {},
          "output_type": "execute_result"
        }
      ],
      "source": [
        "digits = [3, 7, 5]\n",
        "Solution().findEvenNumbers(digits=digits)"
      ]
    }
  ],
  "metadata": {
    "kernelspec": {
      "display_name": "Python 3",
      "language": "python",
      "name": "python3"
    },
    "language_info": {
      "codemirror_mode": {
        "name": "ipython",
        "version": 3
      },
      "file_extension": ".py",
      "mimetype": "text/x-python",
      "name": "python",
      "nbconvert_exporter": "python",
      "pygments_lexer": "ipython3",
      "version": "3.12.8"
    }
  },
  "nbformat": 4,
  "nbformat_minor": 2
}
