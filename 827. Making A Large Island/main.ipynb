{
  "cells": [
    {
      "cell_type": "code",
      "execution_count": 1,
      "metadata": {},
      "outputs": [],
      "source": [
        "from typing import List\n",
        "from collections import deque\n",
        "\n",
        "\n",
        "class Solution:\n",
        "  def largestIsland(self, grid: List[List[int]]) -> int:\n",
        "\n",
        "    n = len(grid)\n",
        "    n2 = n * n\n",
        "    current_index = 2\n",
        "    index2size = {}\n",
        "    for i in range(n):\n",
        "      for j in range(n):\n",
        "        if grid[i][j] == 1:\n",
        "          size = 0\n",
        "          queue = deque([(i, j)])\n",
        "          grid[i][j] = current_index\n",
        "          while queue:\n",
        "            x, y = queue.popleft()\n",
        "            size += 1\n",
        "            for dx, dy in [(0, 1), (1, 0), (0, -1), (-1, 0)]:\n",
        "              nx, ny = x + dx, y + dy\n",
        "              if 0 <= nx < n and 0 <= ny < n and grid[nx][ny] == 1:\n",
        "                queue.append((nx, ny))\n",
        "                grid[nx][ny] = current_index\n",
        "          index2size[current_index] = size\n",
        "          current_index += 1\n",
        "\n",
        "    if len(index2size) == 0:\n",
        "      return 1\n",
        "\n",
        "    if len(index2size) == 1:\n",
        "      if index2size[2] == n2:\n",
        "        return n2\n",
        "      else:\n",
        "        return index2size[2] + 1\n",
        "      \n",
        "    largest_island = 0\n",
        "    for i in range(n):\n",
        "      for j in range(n):\n",
        "        if grid[i][j] == 0:\n",
        "          candidates = set()\n",
        "          for di, dj in [(0, 1), (1, 0), (0, -1), (-1, 0)]:\n",
        "            ni, nj = i + di, j + dj\n",
        "            if 0 <= ni < n and 0 <= nj < n and grid[ni][nj] != 0:\n",
        "              candidates.add(grid[ni][nj])\n",
        "          largest_island = max(largest_island, 1 + sum(index2size[index] for index in candidates))\n",
        "\n",
        "    return largest_island"
      ]
    },
    {
      "cell_type": "code",
      "execution_count": 2,
      "metadata": {},
      "outputs": [
        {
          "data": {
            "text/plain": [
              "3"
            ]
          },
          "execution_count": 2,
          "metadata": {},
          "output_type": "execute_result"
        }
      ],
      "source": [
        "grid = [[1, 0], [0, 1]]\n",
        "Solution().largestIsland(grid=grid)"
      ]
    },
    {
      "cell_type": "code",
      "execution_count": 3,
      "metadata": {},
      "outputs": [
        {
          "data": {
            "text/plain": [
              "4"
            ]
          },
          "execution_count": 3,
          "metadata": {},
          "output_type": "execute_result"
        }
      ],
      "source": [
        "grid = [[1, 1], [1, 0]]\n",
        "Solution().largestIsland(grid=grid)"
      ]
    },
    {
      "cell_type": "code",
      "execution_count": 4,
      "metadata": {},
      "outputs": [
        {
          "data": {
            "text/plain": [
              "4"
            ]
          },
          "execution_count": 4,
          "metadata": {},
          "output_type": "execute_result"
        }
      ],
      "source": [
        "grid = [[1, 1], [1, 1]]\n",
        "Solution().largestIsland(grid=grid)"
      ]
    }
  ],
  "metadata": {
    "kernelspec": {
      "display_name": "Python 3",
      "language": "python",
      "name": "python3"
    },
    "language_info": {
      "codemirror_mode": {
        "name": "ipython",
        "version": 3
      },
      "file_extension": ".py",
      "mimetype": "text/x-python",
      "name": "python",
      "nbconvert_exporter": "python",
      "pygments_lexer": "ipython3",
      "version": "3.12.8"
    }
  },
  "nbformat": 4,
  "nbformat_minor": 2
}
