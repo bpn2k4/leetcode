{
 "cells": [
  {
   "cell_type": "code",
   "execution_count": 1,
   "metadata": {},
   "outputs": [],
   "source": [
    "class ProductOfNumbers:\n",
    "\n",
    "  def __init__(self):\n",
    "\n",
    "    self.products = [1]\n",
    "\n",
    "  def add(self, num: int) -> None:\n",
    "    if num == 0:\n",
    "      self.products = [1]\n",
    "    else:\n",
    "      self.products.append(self.products[-1] * num)\n",
    "\n",
    "  def getProduct(self, k: int) -> int:\n",
    "    if k >= len(self.products):\n",
    "      return 0\n",
    "    return self.products[-1] // self.products[-1 - k]"
   ]
  },
  {
   "cell_type": "code",
   "execution_count": 2,
   "metadata": {},
   "outputs": [
    {
     "data": {
      "text/plain": [
       "(None, None, None, None, None, 20, 40, 0, None, 32)"
      ]
     },
     "execution_count": 2,
     "metadata": {},
     "output_type": "execute_result"
    }
   ],
   "source": [
    "obj = ProductOfNumbers()\n",
    "obj.add(3), obj.add(0), obj.add(2), obj.add(5) \\\n",
    "  ,obj.add(4), obj.getProduct(2), obj.getProduct(3) \\\n",
    "  ,obj.getProduct(4), obj.add(8), obj.getProduct(2)"
   ]
  }
 ],
 "metadata": {
  "kernelspec": {
   "display_name": "base",
   "language": "python",
   "name": "python3"
  },
  "language_info": {
   "codemirror_mode": {
    "name": "ipython",
    "version": 3
   },
   "file_extension": ".py",
   "mimetype": "text/x-python",
   "name": "python",
   "nbconvert_exporter": "python",
   "pygments_lexer": "ipython3",
   "version": "3.11.7"
  }
 },
 "nbformat": 4,
 "nbformat_minor": 2
}
