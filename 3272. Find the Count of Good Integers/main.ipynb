{
  "cells": [
    {
      "cell_type": "code",
      "execution_count": 1,
      "metadata": {},
      "outputs": [],
      "source": [
        "import math\n",
        "\n",
        "class Solution:\n",
        "  def countGoodIntegers(self, n: int, k: int) -> int:\n",
        "    def generate_palindromes(n: int, k: int) -> set[str]:\n",
        "      half_length = (n + 1) // 2\n",
        "      start = 10 ** (half_length - 1)\n",
        "      end = 10 ** half_length\n",
        "      palindromes = set()\n",
        "\n",
        "      for i in range(start, end):\n",
        "        s = str(i)\n",
        "        mirror = s[:-1] if n % 2 else s\n",
        "        palindrome = int(s + mirror[::-1])\n",
        "        if palindrome % k == 0:\n",
        "          palindromes.add(''.join(sorted(str(palindrome))))\n",
        "\n",
        "      return palindromes\n",
        "\n",
        "    def count_unique_permutations(s: str, n: int) -> int:\n",
        "      digit_count = [0] * 10\n",
        "      for ch in s:\n",
        "        digit_count[int(ch)] += 1\n",
        "\n",
        "      if digit_count[0] == n:\n",
        "        return 0\n",
        "\n",
        "      total = (n - digit_count[0]) * math.factorial(n - 1)\n",
        "      for count in digit_count:\n",
        "        total //= math.factorial(count)\n",
        "      return total\n",
        "\n",
        "    palindromes = generate_palindromes(n, k)\n",
        "    \n",
        "    return sum(count_unique_permutations(s, n) for s in palindromes)"
      ]
    },
    {
      "cell_type": "code",
      "execution_count": 2,
      "metadata": {},
      "outputs": [
        {
          "data": {
            "text/plain": [
              "27"
            ]
          },
          "execution_count": 2,
          "metadata": {},
          "output_type": "execute_result"
        }
      ],
      "source": [
        "n = 3\n",
        "k = 5\n",
        "Solution().countGoodIntegers(n=n, k=k)"
      ]
    },
    {
      "cell_type": "code",
      "execution_count": 3,
      "metadata": {},
      "outputs": [
        {
          "data": {
            "text/plain": [
              "2"
            ]
          },
          "execution_count": 3,
          "metadata": {},
          "output_type": "execute_result"
        }
      ],
      "source": [
        "n = 1\n",
        "k = 4\n",
        "Solution().countGoodIntegers(n=n, k=k)"
      ]
    },
    {
      "cell_type": "code",
      "execution_count": 4,
      "metadata": {},
      "outputs": [
        {
          "data": {
            "text/plain": [
              "2468"
            ]
          },
          "execution_count": 4,
          "metadata": {},
          "output_type": "execute_result"
        }
      ],
      "source": [
        "n = 5\n",
        "k = 6\n",
        "Solution().countGoodIntegers(n=n, k=k)"
      ]
    }
  ],
  "metadata": {
    "kernelspec": {
      "display_name": "Python 3",
      "language": "python",
      "name": "python3"
    },
    "language_info": {
      "codemirror_mode": {
        "name": "ipython",
        "version": 3
      },
      "file_extension": ".py",
      "mimetype": "text/x-python",
      "name": "python",
      "nbconvert_exporter": "python",
      "pygments_lexer": "ipython3",
      "version": "3.12.8"
    }
  },
  "nbformat": 4,
  "nbformat_minor": 2
}
