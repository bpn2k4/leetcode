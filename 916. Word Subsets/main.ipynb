{
  "cells": [
    {
      "cell_type": "code",
      "execution_count": 1,
      "metadata": {},
      "outputs": [],
      "source": [
        "from typing import List\n",
        "\n",
        "\n",
        "class Solution:\n",
        "  def wordSubsets(self, words1: List[str], words2: List[str]) -> List[str]:\n",
        "    \n",
        "    char2count = {}\n",
        "    for word in words2:\n",
        "      char2count_of_word = {}\n",
        "      for char in word:\n",
        "        char2count_of_word[char] = char2count_of_word.get(char, 0) + 1\n",
        "\n",
        "      for char, count in char2count_of_word.items():\n",
        "        char2count[char] = max(char2count.get(char, 0), count)\n",
        "\n",
        "    output= []\n",
        "    for word in words1:\n",
        "      char2count_of_word = {}\n",
        "      for char in word:\n",
        "        char2count_of_word[char] = char2count_of_word.get(char, 0) + 1\n",
        "\n",
        "      mark = True\n",
        "      for char, count in char2count.items():\n",
        "        if char not in char2count_of_word or char2count_of_word[char] < count:\n",
        "          mark = False\n",
        "          break\n",
        "\n",
        "      if mark:\n",
        "        output.append(word)\n",
        "\n",
        "    return output"
      ]
    },
    {
      "cell_type": "code",
      "execution_count": 2,
      "metadata": {},
      "outputs": [
        {
          "data": {
            "text/plain": [
              "['facebook', 'google', 'leetcode']"
            ]
          },
          "execution_count": 2,
          "metadata": {},
          "output_type": "execute_result"
        }
      ],
      "source": [
        "words1 = [\"amazon\", \"apple\", \"facebook\", \"google\", \"leetcode\"]\n",
        "words2 = [\"e\", \"o\"]\n",
        "Solution().wordSubsets(words1=words1, words2=words2)"
      ]
    },
    {
      "cell_type": "code",
      "execution_count": 3,
      "metadata": {},
      "outputs": [
        {
          "data": {
            "text/plain": [
              "['apple', 'google', 'leetcode']"
            ]
          },
          "execution_count": 3,
          "metadata": {},
          "output_type": "execute_result"
        }
      ],
      "source": [
        "words1 = [\"amazon\", \"apple\", \"facebook\", \"google\", \"leetcode\"]\n",
        "words2 = [\"l\", \"e\"]\n",
        "Solution().wordSubsets(words1=words1, words2=words2)"
      ]
    }
  ],
  "metadata": {
    "kernelspec": {
      "display_name": "base",
      "language": "python",
      "name": "python3"
    },
    "language_info": {
      "codemirror_mode": {
        "name": "ipython",
        "version": 3
      },
      "file_extension": ".py",
      "mimetype": "text/x-python",
      "name": "python",
      "nbconvert_exporter": "python",
      "pygments_lexer": "ipython3",
      "version": "3.11.7"
    }
  },
  "nbformat": 4,
  "nbformat_minor": 2
}
