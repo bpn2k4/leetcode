{
 "cells": [
  {
   "cell_type": "code",
   "execution_count": 11,
   "metadata": {},
   "outputs": [],
   "source": [
    "from typing import Optional\n",
    "\n",
    "\n",
    "class ListNode:\n",
    "  def __init__(self, val=0, next=None):\n",
    "    self.val: int = val\n",
    "    self.next: ListNode = next\n",
    "\n",
    "\n",
    "class Solution:\n",
    "\n",
    "  def addTwoNumbers(self, l1: Optional[ListNode], l2: Optional[ListNode]) -> Optional[ListNode]:\n",
    "    r = 0\n",
    "    pointer_one = l1\n",
    "    pointer_two = l2\n",
    "    while pointer_one and pointer_two:\n",
    "      value = pointer_one.val + pointer_two.val + r\n",
    "      if value >= 10:\n",
    "        pointer_one.val = value - 10\n",
    "        pointer_two.val = value - 10\n",
    "        r = 1\n",
    "      else:\n",
    "        pointer_one.val = value\n",
    "        pointer_two.val = value\n",
    "        r = 0\n",
    "      if pointer_one.next is None and pointer_two.next is None:\n",
    "        if r:\n",
    "          pointer_one.next = ListNode(1)\n",
    "          return l1\n",
    "      pointer_one = pointer_one.next\n",
    "      pointer_two = pointer_two.next\n",
    "    if pointer_one:\n",
    "      while pointer_one:\n",
    "        value = pointer_one.val + r\n",
    "        if value >= 10:\n",
    "          pointer_one.val = value - 10\n",
    "          r = 1\n",
    "        else:\n",
    "          pointer_one.val = value\n",
    "          r = 0\n",
    "        if pointer_one.next is None:\n",
    "          if r:\n",
    "            pointer_one.next = ListNode(1)\n",
    "            return l1\n",
    "        pointer_one = pointer_one.next\n",
    "      return l1\n",
    "    if pointer_two:\n",
    "      while pointer_two:\n",
    "        value = pointer_two.val + r\n",
    "        if value >= 10:\n",
    "          pointer_two.val = value - 10\n",
    "          r = 1\n",
    "        else:\n",
    "          pointer_two.val = value\n",
    "          r = 0\n",
    "        if pointer_two.next is None:\n",
    "          if r:\n",
    "            pointer_two.next = ListNode(1)\n",
    "            return l2\n",
    "        pointer_two = pointer_two.next\n",
    "      return l2\n",
    "      \n",
    "    return l1"
   ]
  },
  {
   "cell_type": "code",
   "execution_count": 12,
   "metadata": {},
   "outputs": [],
   "source": [
    "def print_list(head: ListNode):\n",
    "  node = head\n",
    "  arr = []\n",
    "  while node:\n",
    "    arr.append(str(node.val))\n",
    "    node = node.next\n",
    "  print(' -> '.join(arr))"
   ]
  },
  {
   "cell_type": "code",
   "execution_count": 13,
   "metadata": {},
   "outputs": [
    {
     "name": "stdout",
     "output_type": "stream",
     "text": [
      "2 -> 4 -> 3\n",
      "5 -> 6 -> 4\n",
      "7 -> 0 -> 8\n"
     ]
    }
   ],
   "source": [
    "l1 = ListNode(2)\n",
    "l1.next = ListNode(4)\n",
    "l1.next.next = ListNode(3)\n",
    "l2 = ListNode(5)\n",
    "l2.next = ListNode(6)\n",
    "l2.next.next = ListNode(4)\n",
    "print_list(l1)\n",
    "print_list(l2)\n",
    "print_list(Solution().addTwoNumbers(l1, l2))"
   ]
  },
  {
   "cell_type": "code",
   "execution_count": 14,
   "metadata": {},
   "outputs": [
    {
     "name": "stdout",
     "output_type": "stream",
     "text": [
      "0\n",
      "0\n",
      "0\n"
     ]
    }
   ],
   "source": [
    "l1 = ListNode(0)\n",
    "l2 = ListNode(0)\n",
    "print_list(l1)\n",
    "print_list(l2)\n",
    "print_list(Solution().addTwoNumbers(l1, l2))"
   ]
  },
  {
   "cell_type": "code",
   "execution_count": 15,
   "metadata": {},
   "outputs": [
    {
     "name": "stdout",
     "output_type": "stream",
     "text": [
      "9 -> 9 -> 9 -> 9 -> 9 -> 9 -> 9\n",
      "9 -> 9 -> 9 -> 9\n",
      "8 -> 9 -> 9 -> 9 -> 0 -> 0 -> 0 -> 1\n"
     ]
    }
   ],
   "source": [
    "l1 = ListNode(9)\n",
    "l1.next = ListNode(9)\n",
    "l1.next.next = ListNode(9)\n",
    "l1.next.next.next = ListNode(9)\n",
    "l1.next.next.next.next = ListNode(9)\n",
    "l1.next.next.next.next.next = ListNode(9)\n",
    "l1.next.next.next.next.next.next = ListNode(9)\n",
    "l2 = ListNode(9)\n",
    "l2.next = ListNode(9)\n",
    "l2.next.next = ListNode(9)\n",
    "l2.next.next.next = ListNode(9)\n",
    "print_list(l1)\n",
    "print_list(l2)\n",
    "print_list(Solution().addTwoNumbers(l1, l2))"
   ]
  }
 ],
 "metadata": {
  "kernelspec": {
   "display_name": "base",
   "language": "python",
   "name": "python3"
  },
  "language_info": {
   "codemirror_mode": {
    "name": "ipython",
    "version": 3
   },
   "file_extension": ".py",
   "mimetype": "text/x-python",
   "name": "python",
   "nbconvert_exporter": "python",
   "pygments_lexer": "ipython3",
   "version": "3.11.7"
  }
 },
 "nbformat": 4,
 "nbformat_minor": 2
}
