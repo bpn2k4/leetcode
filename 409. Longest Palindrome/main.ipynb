{
  "cells": [
    {
      "cell_type": "code",
      "execution_count": 1,
      "metadata": {},
      "outputs": [],
      "source": [
        "from collections import Counter\n",
        "\n",
        "\n",
        "class Solution:\n",
        "  def longestPalindrome(self, s: str) -> int:\n",
        "    \n",
        "    char2count = Counter(s)\n",
        "    longest = 0\n",
        "    odd_found = False\n",
        "    for char in list(char2count.keys()):\n",
        "      count = char2count[char]\n",
        "      if count % 2 == 0:\n",
        "        longest += count\n",
        "      else:\n",
        "        longest += count // 2 * 2\n",
        "        odd_found = True\n",
        "    \n",
        "    if odd_found:\n",
        "      longest += 1\n",
        "    \n",
        "    return longest"
      ]
    },
    {
      "cell_type": "code",
      "execution_count": 2,
      "metadata": {},
      "outputs": [
        {
          "data": {
            "text/plain": [
              "7"
            ]
          },
          "execution_count": 2,
          "metadata": {},
          "output_type": "execute_result"
        }
      ],
      "source": [
        "s = \"abccccdd\"\n",
        "Solution().longestPalindrome(s=s)"
      ]
    },
    {
      "cell_type": "code",
      "execution_count": 3,
      "metadata": {},
      "outputs": [
        {
          "data": {
            "text/plain": [
              "1"
            ]
          },
          "execution_count": 3,
          "metadata": {},
          "output_type": "execute_result"
        }
      ],
      "source": [
        "s = \"a\"\n",
        "Solution().longestPalindrome(s=s)"
      ]
    }
  ],
  "metadata": {
    "kernelspec": {
      "display_name": "Python 3",
      "language": "python",
      "name": "python3"
    },
    "language_info": {
      "codemirror_mode": {
        "name": "ipython",
        "version": 3
      },
      "file_extension": ".py",
      "mimetype": "text/x-python",
      "name": "python",
      "nbconvert_exporter": "python",
      "pygments_lexer": "ipython3",
      "version": "3.12.8"
    }
  },
  "nbformat": 4,
  "nbformat_minor": 2
}
