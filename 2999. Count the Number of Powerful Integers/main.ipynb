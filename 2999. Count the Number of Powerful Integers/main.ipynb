{
  "cells": [
    {
      "cell_type": "code",
      "execution_count": 1,
      "metadata": {},
      "outputs": [],
      "source": [
        "class Solution:\n",
        "  def numberOfPowerfulInt(self, start: int, finish: int, limit: int, s: str) -> int:\n",
        "\n",
        "    start_str = str(start - 1)\n",
        "    finish_str = str(finish)\n",
        "    \n",
        "    return self.calculate(finish_str, s, limit) - self.calculate(start_str, s, limit)\n",
        "\n",
        "  def calculate(self, x: str, s: str, limit: int) -> int:\n",
        "\n",
        "    if len(x) < len(s):\n",
        "      return 0\n",
        "    \n",
        "    if len(x) == len(s):\n",
        "      return 1 if x >= s else 0\n",
        "\n",
        "    suffix = x[-len(s):]\n",
        "    count = 0\n",
        "    pre_len = len(x) - len(s)\n",
        "\n",
        "    for i in range(pre_len):\n",
        "      if int(x[i]) > limit:\n",
        "        count += (limit + 1) ** (pre_len - i)\n",
        "        return count\n",
        "      \n",
        "      count += int(x[i]) * ((limit + 1) ** (pre_len - 1 - i))\n",
        "\n",
        "    if suffix >= s:\n",
        "      count += 1\n",
        "\n",
        "    return count"
      ]
    },
    {
      "cell_type": "code",
      "execution_count": 2,
      "metadata": {},
      "outputs": [
        {
          "data": {
            "text/plain": [
              "5"
            ]
          },
          "execution_count": 2,
          "metadata": {},
          "output_type": "execute_result"
        }
      ],
      "source": [
        "start = 1\n",
        "finish = 6000\n",
        "limit = 4\n",
        "s = \"124\"\n",
        "Solution().numberOfPowerfulInt(start=start, finish=finish, limit=limit, s=s)"
      ]
    },
    {
      "cell_type": "code",
      "execution_count": 3,
      "metadata": {},
      "outputs": [
        {
          "data": {
            "text/plain": [
              "2"
            ]
          },
          "execution_count": 3,
          "metadata": {},
          "output_type": "execute_result"
        }
      ],
      "source": [
        "start = 15\n",
        "finish = 215\n",
        "limit = 6\n",
        "s = \"10\"\n",
        "Solution().numberOfPowerfulInt(start=start, finish=finish, limit=limit, s=s)"
      ]
    },
    {
      "cell_type": "code",
      "execution_count": 4,
      "metadata": {},
      "outputs": [
        {
          "data": {
            "text/plain": [
              "0"
            ]
          },
          "execution_count": 4,
          "metadata": {},
          "output_type": "execute_result"
        }
      ],
      "source": [
        "start = 1000\n",
        "finish = 2000\n",
        "limit = 4\n",
        "s = \"3000\"\n",
        "Solution().numberOfPowerfulInt(start=start, finish=finish, limit=limit, s=s)"
      ]
    }
  ],
  "metadata": {
    "kernelspec": {
      "display_name": "Python 3",
      "language": "python",
      "name": "python3"
    },
    "language_info": {
      "codemirror_mode": {
        "name": "ipython",
        "version": 3
      },
      "file_extension": ".py",
      "mimetype": "text/x-python",
      "name": "python",
      "nbconvert_exporter": "python",
      "pygments_lexer": "ipython3",
      "version": "3.12.8"
    }
  },
  "nbformat": 4,
  "nbformat_minor": 2
}
