{
 "cells": [
  {
   "cell_type": "code",
   "execution_count": 33,
   "metadata": {},
   "outputs": [],
   "source": [
    "from typing import List\n",
    "\n",
    "\n",
    "class Solution:\n",
    "  def numTeams(self, rating: List[int]) -> int:\n",
    "    n = len(rating)\n",
    "    count = 0\n",
    "    for i in range(1, n - 1):\n",
    "      left_less = left_greater = right_less = right_greater = 0\n",
    "      for j in range(0, i):\n",
    "        if rating[j] < rating[i]:\n",
    "          left_less += 1\n",
    "        else:\n",
    "          left_greater += 1\n",
    "      for j in range(i+1, n):\n",
    "        if rating[j] < rating[i]:\n",
    "          right_less += 1\n",
    "        else:\n",
    "          right_greater += 1\n",
    "      count += left_less * right_greater + right_less * left_greater\n",
    "    return count"
   ]
  },
  {
   "cell_type": "code",
   "execution_count": 34,
   "metadata": {},
   "outputs": [],
   "source": [
    "class Solution:\n",
    "  def numTeams(self, rating: List[int]) -> int:\n",
    "\n",
    "    class FenwickTree:\n",
    "      def __init__(self, size):\n",
    "        self.size = size\n",
    "        self.tree = [0] * (size + 1)\n",
    "\n",
    "      def update(self, index, value):\n",
    "        while index <= self.size:\n",
    "          self.tree[index] += value\n",
    "          index += index & -index\n",
    "\n",
    "      def query(self, index):\n",
    "        sum = 0\n",
    "        while index > 0:\n",
    "          sum += self.tree[index]\n",
    "          index -= index & -index\n",
    "        return sum\n",
    "\n",
    "    n = len(rating)\n",
    "    if n < 3:\n",
    "      return 0\n",
    "\n",
    "    max_rating = max(rating)\n",
    "    fenwick_left = FenwickTree(max_rating)\n",
    "    fenwick_right = FenwickTree(max_rating)\n",
    "    for r in rating:\n",
    "      fenwick_right.update(r, 1)\n",
    "    count = 0\n",
    "    for r in rating:\n",
    "      fenwick_right.update(r, -1)\n",
    "      left_smaller = fenwick_left.query(r - 1)\n",
    "      left_greater = fenwick_left.query(max_rating) - fenwick_left.query(r)\n",
    "      right_smaller = fenwick_right.query(r - 1)\n",
    "      right_greater = fenwick_right.query(max_rating) - fenwick_right.query(r)\n",
    "      count += left_smaller * right_greater + left_greater * right_smaller\n",
    "      fenwick_left.update(r, 1)\n",
    "    return count"
   ]
  },
  {
   "cell_type": "code",
   "execution_count": 35,
   "metadata": {},
   "outputs": [
    {
     "data": {
      "text/plain": [
       "3"
      ]
     },
     "execution_count": 35,
     "metadata": {},
     "output_type": "execute_result"
    }
   ],
   "source": [
    "Solution().numTeams(rating=[2, 5, 3, 4, 1])"
   ]
  },
  {
   "cell_type": "code",
   "execution_count": 36,
   "metadata": {},
   "outputs": [
    {
     "data": {
      "text/plain": [
       "0"
      ]
     },
     "execution_count": 36,
     "metadata": {},
     "output_type": "execute_result"
    }
   ],
   "source": [
    "Solution().numTeams(rating=[2, 1, 3])"
   ]
  },
  {
   "cell_type": "code",
   "execution_count": 37,
   "metadata": {},
   "outputs": [
    {
     "data": {
      "text/plain": [
       "4"
      ]
     },
     "execution_count": 37,
     "metadata": {},
     "output_type": "execute_result"
    }
   ],
   "source": [
    "Solution().numTeams(rating=[1, 2, 3, 4])"
   ]
  }
 ],
 "metadata": {
  "kernelspec": {
   "display_name": "base",
   "language": "python",
   "name": "python3"
  },
  "language_info": {
   "codemirror_mode": {
    "name": "ipython",
    "version": 3
   },
   "file_extension": ".py",
   "mimetype": "text/x-python",
   "name": "python",
   "nbconvert_exporter": "python",
   "pygments_lexer": "ipython3",
   "version": "3.11.7"
  }
 },
 "nbformat": 4,
 "nbformat_minor": 2
}
