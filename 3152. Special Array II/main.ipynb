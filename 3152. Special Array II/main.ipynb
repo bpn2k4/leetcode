{
 "cells": [
  {
   "cell_type": "code",
   "execution_count": 1,
   "metadata": {},
   "outputs": [],
   "source": [
    "from typing import List\n",
    "\n",
    "\n",
    "class Solution:\n",
    "  def isArraySpecial(self, nums: List[int], queries: List[List[int]]) -> List[bool]:\n",
    "    \n",
    "    n = len(nums)\n",
    "    nums.append(nums[-1])\n",
    "    start = 0\n",
    "    special_ranges = []\n",
    "    for i in range(n):\n",
    "      if nums[i] % 2 == nums[i + 1] % 2:\n",
    "        special_ranges.append((start, i))\n",
    "        start = i + 1\n",
    "        \n",
    "    start_index2end_index_of_valid_range = [0] * n\n",
    "    for start, end in special_ranges:\n",
    "      for i in range(start, end + 1):\n",
    "        start_index2end_index_of_valid_range[i] = end\n",
    "\n",
    "    output = []\n",
    "    for start, end in queries:\n",
    "      if end <= start_index2end_index_of_valid_range[start]:\n",
    "        output.append(True)\n",
    "      else:\n",
    "        output.append(False)\n",
    "\n",
    "    return output"
   ]
  },
  {
   "cell_type": "code",
   "execution_count": 2,
   "metadata": {},
   "outputs": [
    {
     "data": {
      "text/plain": [
       "[False]"
      ]
     },
     "execution_count": 2,
     "metadata": {},
     "output_type": "execute_result"
    }
   ],
   "source": [
    "nums = [3, 4, 1, 2, 6]\n",
    "queries = [[0, 4]]\n",
    "Solution().isArraySpecial(nums=nums, queries=queries)"
   ]
  },
  {
   "cell_type": "code",
   "execution_count": 3,
   "metadata": {},
   "outputs": [
    {
     "data": {
      "text/plain": [
       "[False, True]"
      ]
     },
     "execution_count": 3,
     "metadata": {},
     "output_type": "execute_result"
    }
   ],
   "source": [
    "nums = [4, 3, 1, 6]\n",
    "queries = [[0, 2], [2, 3]]\n",
    "Solution().isArraySpecial(nums=nums, queries=queries)"
   ]
  },
  {
   "cell_type": "code",
   "execution_count": 4,
   "metadata": {},
   "outputs": [
    {
     "data": {
      "text/plain": [
       "[True]"
      ]
     },
     "execution_count": 4,
     "metadata": {},
     "output_type": "execute_result"
    }
   ],
   "source": [
    "nums = [1]\n",
    "queries = [[0, 0]]\n",
    "Solution().isArraySpecial(nums=nums, queries=queries)"
   ]
  }
 ],
 "metadata": {
  "kernelspec": {
   "display_name": "base",
   "language": "python",
   "name": "python3"
  },
  "language_info": {
   "codemirror_mode": {
    "name": "ipython",
    "version": 3
   },
   "file_extension": ".py",
   "mimetype": "text/x-python",
   "name": "python",
   "nbconvert_exporter": "python",
   "pygments_lexer": "ipython3",
   "version": "3.11.7"
  }
 },
 "nbformat": 4,
 "nbformat_minor": 2
}
