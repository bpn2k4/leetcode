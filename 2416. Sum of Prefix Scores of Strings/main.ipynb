{
  "cells": [
    {
      "cell_type": "code",
      "execution_count": 1,
      "metadata": {},
      "outputs": [],
      "source": [
        "from typing import Dict, List\n",
        "\n",
        "class Solution:\n",
        "  def sumPrefixScores(self, words: List[str]) -> List[int]:\n",
        "\n",
        "    mark_prefix = {}\n",
        "    mark_word = {}\n",
        "    for word in words:\n",
        "      mark_word[word] = []\n",
        "      for i in range(1, len(word) + 1):\n",
        "        prefix = word[:i]\n",
        "        mark_word[word].append(prefix)\n",
        "        if prefix not in mark_prefix:\n",
        "          mark_prefix[prefix] = 1\n",
        "        else:\n",
        "          mark_prefix[prefix] += 1\n",
        "\n",
        "    output = []\n",
        "    for word in words:\n",
        "      total = 0\n",
        "      for prefix in mark_word[word]:\n",
        "        total += mark_prefix[prefix]\n",
        "      output.append(total)\n",
        "\n",
        "    return output\n",
        "  \n",
        "  def sumPrefixScores(self, words: List[str]) -> List[int]:\n",
        "\n",
        "    class TrieNode:\n",
        "      def __init__(self) -> None:\n",
        "        self.children: Dict[str, TrieNode] = {}\n",
        "        self.count = 0\n",
        "\n",
        "  \n",
        "    class Trie:\n",
        "      def __init__(self) -> None:\n",
        "        self.root = TrieNode()\n",
        "\n",
        "\n",
        "      def insert(self, word: str) -> None:\n",
        "\n",
        "        node = self.root\n",
        "        for char in word:\n",
        "          if char not in node.children:\n",
        "            node.children[char] = TrieNode()\n",
        "          node = node.children[char]\n",
        "          node.count += 1\n",
        "\n",
        "      def get_score(self, word: str) -> int:\n",
        "\n",
        "        node = self.root\n",
        "        score = 0\n",
        "        for char in word:\n",
        "          if char not in node.children:\n",
        "            break\n",
        "          node = node.children[char]\n",
        "          score += node.count\n",
        "\n",
        "        return score\n",
        "      \n",
        "\n",
        "    trie = Trie()\n",
        "    for word in words:\n",
        "      trie.insert(word)\n",
        "    \n",
        "    output = []\n",
        "    for word in words:\n",
        "      score = trie.get_score(word)\n",
        "      output.append(score)\n",
        "    \n",
        "    return output"
      ]
    },
    {
      "cell_type": "code",
      "execution_count": 2,
      "metadata": {},
      "outputs": [
        {
          "data": {
            "text/plain": [
              "[5, 4, 3, 2]"
            ]
          },
          "execution_count": 2,
          "metadata": {},
          "output_type": "execute_result"
        }
      ],
      "source": [
        "words = [\"abc\", \"ab\", \"bc\", \"b\"]\n",
        "Solution().sumPrefixScores(words=words)"
      ]
    },
    {
      "cell_type": "code",
      "execution_count": 3,
      "metadata": {},
      "outputs": [
        {
          "data": {
            "text/plain": [
              "[4]"
            ]
          },
          "execution_count": 3,
          "metadata": {},
          "output_type": "execute_result"
        }
      ],
      "source": [
        "words = [\"abcd\"]\n",
        "Solution().sumPrefixScores(words=words)"
      ]
    }
  ],
  "metadata": {
    "kernelspec": {
      "display_name": "base",
      "language": "python",
      "name": "python3"
    },
    "language_info": {
      "codemirror_mode": {
        "name": "ipython",
        "version": 3
      },
      "file_extension": ".py",
      "mimetype": "text/x-python",
      "name": "python",
      "nbconvert_exporter": "python",
      "pygments_lexer": "ipython3",
      "version": "3.11.7"
    }
  },
  "nbformat": 4,
  "nbformat_minor": 2
}
