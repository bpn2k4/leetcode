{
  "cells": [
    {
      "cell_type": "code",
      "execution_count": 1,
      "metadata": {},
      "outputs": [],
      "source": [
        "from typing import List\n",
        "import heapq\n",
        "\n",
        "\n",
        "class Solution:\n",
        "  def mostBooked(self, n: int, meetings: List[List[int]]) -> int:\n",
        "\n",
        "    unused_rooms, used_rooms = list(range(n)), []\n",
        "    heapq.heapify(unused_rooms)\n",
        "    meeting_count = [0] * n\n",
        "    for start, end in sorted(meetings):\n",
        "      while used_rooms and used_rooms[0][0] <= start:\n",
        "        _, room = heapq.heappop(used_rooms)\n",
        "        heapq.heappush(unused_rooms, room)\n",
        "      if unused_rooms:\n",
        "        room = heapq.heappop(unused_rooms)\n",
        "        heapq.heappush(used_rooms, [end, room])\n",
        "      else:\n",
        "        room_availability_time, room = heapq.heappop(used_rooms)\n",
        "        heapq.heappush(\n",
        "            used_rooms,\n",
        "            [room_availability_time + end - start, room]\n",
        "        )\n",
        "      meeting_count[room] += 1\n",
        "\n",
        "    return meeting_count.index(max(meeting_count))"
      ]
    },
    {
      "cell_type": "code",
      "execution_count": 2,
      "metadata": {},
      "outputs": [
        {
          "data": {
            "text/plain": [
              "0"
            ]
          },
          "execution_count": 2,
          "metadata": {},
          "output_type": "execute_result"
        }
      ],
      "source": [
        "n = 2\n",
        "meetings = [[0, 10], [1, 5], [2, 7], [3, 4]]\n",
        "Solution().mostBooked(n=n, meetings=meetings)"
      ]
    },
    {
      "cell_type": "code",
      "execution_count": 3,
      "metadata": {},
      "outputs": [
        {
          "data": {
            "text/plain": [
              "1"
            ]
          },
          "execution_count": 3,
          "metadata": {},
          "output_type": "execute_result"
        }
      ],
      "source": [
        "n = 3\n",
        "meetings = [[1, 20], [2, 10], [3, 5], [4, 9], [6, 8]]\n",
        "Solution().mostBooked(n=n, meetings=meetings)"
      ]
    }
  ],
  "metadata": {
    "kernelspec": {
      "display_name": "Python 3",
      "language": "python",
      "name": "python3"
    },
    "language_info": {
      "codemirror_mode": {
        "name": "ipython",
        "version": 3
      },
      "file_extension": ".py",
      "mimetype": "text/x-python",
      "name": "python",
      "nbconvert_exporter": "python",
      "pygments_lexer": "ipython3",
      "version": "3.12.8"
    }
  },
  "nbformat": 4,
  "nbformat_minor": 2
}
