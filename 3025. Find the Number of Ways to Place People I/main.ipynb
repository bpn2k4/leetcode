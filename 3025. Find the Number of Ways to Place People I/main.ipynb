{
  "cells": [
    {
      "cell_type": "code",
      "execution_count": 1,
      "metadata": {},
      "outputs": [],
      "source": [
        "from typing import List\n",
        "\n",
        "\n",
        "class Solution:\n",
        "  def numberOfPairs(self, points: List[List[int]]) -> int:\n",
        "    \n",
        "    n = len(points)\n",
        "    count = 0\n",
        "    for i in range(n):\n",
        "      for j in range(n):\n",
        "        if i == j:\n",
        "          continue\n",
        "        if points[i][0] <= points[j][0] and points[i][1] >= points[j][1]:\n",
        "          for k in range(n):\n",
        "            if k == i or k == j:\n",
        "              continue\n",
        "            if points[i][0] <= points[k][0] <= points[j][0] and points[i][1] >= points[k][1] >= points[j][1]:\n",
        "              break\n",
        "          else:\n",
        "            count += 1\n",
        "    \n",
        "    return count"
      ]
    },
    {
      "cell_type": "code",
      "execution_count": 2,
      "metadata": {},
      "outputs": [
        {
          "data": {
            "text/plain": [
              "0"
            ]
          },
          "execution_count": 2,
          "metadata": {},
          "output_type": "execute_result"
        }
      ],
      "source": [
        "points = [[1, 1], [2, 2], [3, 3]]\n",
        "Solution().numberOfPairs(points=points)"
      ]
    },
    {
      "cell_type": "code",
      "execution_count": 3,
      "metadata": {},
      "outputs": [
        {
          "data": {
            "text/plain": [
              "2"
            ]
          },
          "execution_count": 3,
          "metadata": {},
          "output_type": "execute_result"
        }
      ],
      "source": [
        "points = [[6, 2], [4, 4], [2, 6]]\n",
        "Solution().numberOfPairs(points=points)"
      ]
    },
    {
      "cell_type": "code",
      "execution_count": 4,
      "metadata": {},
      "outputs": [
        {
          "data": {
            "text/plain": [
              "2"
            ]
          },
          "execution_count": 4,
          "metadata": {},
          "output_type": "execute_result"
        }
      ],
      "source": [
        "points = [[3, 1], [1, 3], [1, 1]]\n",
        "Solution().numberOfPairs(points=points)"
      ]
    }
  ],
  "metadata": {
    "kernelspec": {
      "display_name": "Python 3",
      "language": "python",
      "name": "python3"
    },
    "language_info": {
      "codemirror_mode": {
        "name": "ipython",
        "version": 3
      },
      "file_extension": ".py",
      "mimetype": "text/x-python",
      "name": "python",
      "nbconvert_exporter": "python",
      "pygments_lexer": "ipython3",
      "version": "3.12.8"
    }
  },
  "nbformat": 4,
  "nbformat_minor": 2
}
