{
 "cells": [
  {
   "cell_type": "code",
   "execution_count": 1,
   "metadata": {},
   "outputs": [],
   "source": [
    "class Solution:\n",
    "  def compressedString(self, word: str) -> str:\n",
    "    \n",
    "    comp = ''\n",
    "    current_char = word[0]\n",
    "    nums_of_char = 1\n",
    "\n",
    "    for i in range(1, len(word)):\n",
    "      char = word[i]\n",
    "      if char == current_char:\n",
    "        nums_of_char += 1\n",
    "        if nums_of_char == 10:\n",
    "          comp += '9' + current_char\n",
    "          nums_of_char = 1\n",
    "      else:\n",
    "        comp += str(nums_of_char) + current_char\n",
    "        current_char = char\n",
    "        nums_of_char = 1\n",
    "\n",
    "    comp += str(nums_of_char) + current_char\n",
    "\n",
    "    return comp"
   ]
  },
  {
   "cell_type": "code",
   "execution_count": 2,
   "metadata": {},
   "outputs": [
    {
     "data": {
      "text/plain": [
       "'1a1b1c1d1e'"
      ]
     },
     "execution_count": 2,
     "metadata": {},
     "output_type": "execute_result"
    }
   ],
   "source": [
    "word = \"abcde\"\n",
    "Solution().compressedString(word=word)"
   ]
  },
  {
   "cell_type": "code",
   "execution_count": 3,
   "metadata": {},
   "outputs": [
    {
     "data": {
      "text/plain": [
       "'9a5a2b'"
      ]
     },
     "execution_count": 3,
     "metadata": {},
     "output_type": "execute_result"
    }
   ],
   "source": [
    "word = \"aaaaaaaaaaaaaabb\"\n",
    "Solution().compressedString(word=word)"
   ]
  }
 ],
 "metadata": {
  "kernelspec": {
   "display_name": "base",
   "language": "python",
   "name": "python3"
  },
  "language_info": {
   "codemirror_mode": {
    "name": "ipython",
    "version": 3
   },
   "file_extension": ".py",
   "mimetype": "text/x-python",
   "name": "python",
   "nbconvert_exporter": "python",
   "pygments_lexer": "ipython3",
   "version": "3.11.7"
  }
 },
 "nbformat": 4,
 "nbformat_minor": 2
}
