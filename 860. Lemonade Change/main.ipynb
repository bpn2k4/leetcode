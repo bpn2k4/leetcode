{
 "cells": [
  {
   "cell_type": "code",
   "execution_count": 1,
   "metadata": {},
   "outputs": [],
   "source": [
    "from typing import List\n",
    "\n",
    "\n",
    "class Solution:\n",
    "  def lemonadeChange(self, bills: List[int]) -> bool:\n",
    "    five_bill = ten_bill = 0\n",
    "    for bill in bills:\n",
    "      if bill == 5:\n",
    "        five_bill += 1\n",
    "      elif bill == 10:\n",
    "        if five_bill == 0:\n",
    "          return False\n",
    "        else:\n",
    "          five_bill -= 1\n",
    "          ten_bill += 1\n",
    "      else:\n",
    "        if five_bill >= 1 and ten_bill >= 1:\n",
    "          five_bill -= 1\n",
    "          ten_bill -= 1\n",
    "        elif five_bill >= 3:\n",
    "          five_bill -= 3\n",
    "        else:\n",
    "          return False\n",
    "    return True"
   ]
  },
  {
   "cell_type": "code",
   "execution_count": 2,
   "metadata": {},
   "outputs": [
    {
     "data": {
      "text/plain": [
       "True"
      ]
     },
     "execution_count": 2,
     "metadata": {},
     "output_type": "execute_result"
    }
   ],
   "source": [
    "Solution().lemonadeChange(bills=[5, 5, 5, 10, 20])"
   ]
  },
  {
   "cell_type": "code",
   "execution_count": 3,
   "metadata": {},
   "outputs": [
    {
     "data": {
      "text/plain": [
       "False"
      ]
     },
     "execution_count": 3,
     "metadata": {},
     "output_type": "execute_result"
    }
   ],
   "source": [
    "Solution().lemonadeChange(bills=[5,5,10,10,20])"
   ]
  }
 ],
 "metadata": {
  "kernelspec": {
   "display_name": "base",
   "language": "python",
   "name": "python3"
  },
  "language_info": {
   "codemirror_mode": {
    "name": "ipython",
    "version": 3
   },
   "file_extension": ".py",
   "mimetype": "text/x-python",
   "name": "python",
   "nbconvert_exporter": "python",
   "pygments_lexer": "ipython3",
   "version": "3.11.7"
  }
 },
 "nbformat": 4,
 "nbformat_minor": 2
}
