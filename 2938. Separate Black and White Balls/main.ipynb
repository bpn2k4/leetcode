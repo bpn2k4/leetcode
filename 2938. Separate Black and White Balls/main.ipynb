{
 "cells": [
  {
   "cell_type": "code",
   "execution_count": 1,
   "metadata": {},
   "outputs": [],
   "source": [
    "class Solution:\n",
    "  def minimumSteps(self, s: str) -> int:\n",
    "\n",
    "    total_steps = 0\n",
    "    left = 0\n",
    "    right = len(s) - 1\n",
    "\n",
    "    while left < right:\n",
    "      if s[left] == '1' and s[right] == '0':\n",
    "        total_steps += (right - left)\n",
    "        left += 1\n",
    "        right -= 1\n",
    "        continue\n",
    "\n",
    "      if s[left] == '0':\n",
    "        left += 1\n",
    "      if s[right] == '1':\n",
    "        right -= 1\n",
    "\n",
    "    return total_steps\n",
    "\n",
    "  def minimumSteps(self, s: str) -> int:\n",
    "    \n",
    "    total_white = 0\n",
    "    total_steps = 0\n",
    "\n",
    "    for char in s:\n",
    "      if char == '0':\n",
    "        total_steps += total_white\n",
    "      if char == '1':\n",
    "        total_white += 1\n",
    "\n",
    "    return total_steps"
   ]
  },
  {
   "cell_type": "code",
   "execution_count": 2,
   "metadata": {},
   "outputs": [
    {
     "data": {
      "text/plain": [
       "1"
      ]
     },
     "execution_count": 2,
     "metadata": {},
     "output_type": "execute_result"
    }
   ],
   "source": [
    "s=\"101\"\n",
    "Solution().minimumSteps(s=s)"
   ]
  },
  {
   "cell_type": "code",
   "execution_count": 3,
   "metadata": {},
   "outputs": [
    {
     "data": {
      "text/plain": [
       "2"
      ]
     },
     "execution_count": 3,
     "metadata": {},
     "output_type": "execute_result"
    }
   ],
   "source": [
    "s=\"100\"\n",
    "Solution().minimumSteps(s=s)"
   ]
  },
  {
   "cell_type": "code",
   "execution_count": 4,
   "metadata": {},
   "outputs": [
    {
     "data": {
      "text/plain": [
       "0"
      ]
     },
     "execution_count": 4,
     "metadata": {},
     "output_type": "execute_result"
    }
   ],
   "source": [
    "s=\"0111\"\n",
    "Solution().minimumSteps(s=s)"
   ]
  },
  {
   "cell_type": "code",
   "execution_count": 5,
   "metadata": {},
   "outputs": [
    {
     "data": {
      "text/plain": [
       "0"
      ]
     },
     "execution_count": 5,
     "metadata": {},
     "output_type": "execute_result"
    }
   ],
   "source": [
    "\"11000111\"\n",
    "Solution().minimumSteps(s=s)"
   ]
  }
 ],
 "metadata": {
  "kernelspec": {
   "display_name": "base",
   "language": "python",
   "name": "python3"
  },
  "language_info": {
   "codemirror_mode": {
    "name": "ipython",
    "version": 3
   },
   "file_extension": ".py",
   "mimetype": "text/x-python",
   "name": "python",
   "nbconvert_exporter": "python",
   "pygments_lexer": "ipython3",
   "version": "3.11.7"
  }
 },
 "nbformat": 4,
 "nbformat_minor": 2
}
