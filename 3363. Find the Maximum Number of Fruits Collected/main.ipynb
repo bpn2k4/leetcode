{
  "cells": [
    {
      "cell_type": "code",
      "execution_count": 1,
      "metadata": {},
      "outputs": [],
      "source": [
        "from typing import List\n",
        "\n",
        "\n",
        "class Solution:\n",
        "  def maxCollectedFruits(self, fruits: List[List[int]]) -> int:\n",
        "\n",
        "    n = len(fruits)\n",
        "    ans = sum(fruits[i][i] for i in range(n))\n",
        "\n",
        "    def dp():\n",
        "      prev = [float(\"-inf\")] * n\n",
        "      curr = [float(\"-inf\")] * n\n",
        "      prev[n - 1] = fruits[0][n - 1]\n",
        "      for i in range(1, n - 1):\n",
        "        for j in range(max(n - 1 - i, i + 1), n):\n",
        "          best = prev[j]\n",
        "          if j - 1 >= 0:\n",
        "            best = max(best, prev[j - 1])\n",
        "          if j + 1 < n:\n",
        "            best = max(best, prev[j + 1])\n",
        "          curr[j] = best + fruits[i][j]\n",
        "        prev, curr = curr, prev\n",
        "      return prev[n - 1]\n",
        "\n",
        "    ans += dp()\n",
        "\n",
        "    for i in range(n):\n",
        "      for j in range(i):\n",
        "        fruits[i][j], fruits[j][i] = fruits[j][i], fruits[i][j]\n",
        "\n",
        "    ans += dp()\n",
        "    \n",
        "    return ans"
      ]
    },
    {
      "cell_type": "code",
      "execution_count": 2,
      "metadata": {},
      "outputs": [
        {
          "data": {
            "text/plain": [
              "100"
            ]
          },
          "execution_count": 2,
          "metadata": {},
          "output_type": "execute_result"
        }
      ],
      "source": [
        "fruits = [[1, 2, 3, 4], [5, 6, 8, 7], [9, 10, 11, 12], [13, 14, 15, 16]]\n",
        "Solution().maxCollectedFruits(fruits=fruits)"
      ]
    },
    {
      "cell_type": "code",
      "execution_count": 3,
      "metadata": {},
      "outputs": [
        {
          "data": {
            "text/plain": [
              "4"
            ]
          },
          "execution_count": 3,
          "metadata": {},
          "output_type": "execute_result"
        }
      ],
      "source": [
        "fruits = [[1, 1], [1, 1]]\n",
        "Solution().maxCollectedFruits(fruits=fruits)"
      ]
    }
  ],
  "metadata": {
    "kernelspec": {
      "display_name": "Python 3",
      "language": "python",
      "name": "python3"
    },
    "language_info": {
      "codemirror_mode": {
        "name": "ipython",
        "version": 3
      },
      "file_extension": ".py",
      "mimetype": "text/x-python",
      "name": "python",
      "nbconvert_exporter": "python",
      "pygments_lexer": "ipython3",
      "version": "3.12.8"
    }
  },
  "nbformat": 4,
  "nbformat_minor": 2
}
