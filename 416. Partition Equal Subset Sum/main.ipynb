{
  "cells": [
    {
      "cell_type": "code",
      "execution_count": null,
      "metadata": {},
      "outputs": [],
      "source": [
        "from typing import List\n",
        "\n",
        "\n",
        "class Solution:\n",
        "  def canPartition(self, nums: List[int]) -> bool:\n",
        "    \n",
        "    sum_of_nums = sum(nums)\n",
        "    if sum_of_nums % 2 != 0:\n",
        "      return False\n",
        "    \n",
        "    k = sum_of_nums // 2\n",
        "    dp = [False] * (k + 1)\n",
        "    dp[0] = True\n",
        "\n",
        "    for num in nums:\n",
        "      for j in range(k, num - 1, -1):\n",
        "        dp[j] = dp[j] or dp[j - num]\n",
        "    \n",
        "    return dp[k]"
      ]
    },
    {
      "cell_type": "code",
      "execution_count": 2,
      "metadata": {},
      "outputs": [
        {
          "data": {
            "text/plain": [
              "True"
            ]
          },
          "execution_count": 2,
          "metadata": {},
          "output_type": "execute_result"
        }
      ],
      "source": [
        "nums = [1, 5, 11, 5]\n",
        "Solution().canPartition(nums=nums)"
      ]
    },
    {
      "cell_type": "code",
      "execution_count": 3,
      "metadata": {},
      "outputs": [
        {
          "data": {
            "text/plain": [
              "False"
            ]
          },
          "execution_count": 3,
          "metadata": {},
          "output_type": "execute_result"
        }
      ],
      "source": [
        "nums = [1, 2, 3, 5]\n",
        "Solution().canPartition(nums=nums)"
      ]
    }
  ],
  "metadata": {
    "kernelspec": {
      "display_name": "Python 3",
      "language": "python",
      "name": "python3"
    },
    "language_info": {
      "codemirror_mode": {
        "name": "ipython",
        "version": 3
      },
      "file_extension": ".py",
      "mimetype": "text/x-python",
      "name": "python",
      "nbconvert_exporter": "python",
      "pygments_lexer": "ipython3",
      "version": "3.12.1"
    }
  },
  "nbformat": 4,
  "nbformat_minor": 2
}
