{
 "cells": [
  {
   "cell_type": "code",
   "execution_count": 7,
   "metadata": {},
   "outputs": [],
   "source": [
    "from typing import List\n",
    "\n",
    "\n",
    "class Solution:\n",
    "  def kWeakestRows(self, mat: List[List[int]], k: int) -> List[int]:\n",
    "    \n",
    "    soldiers = []\n",
    "    for index, row in enumerate(mat):\n",
    "      total = sum(row)\n",
    "      soldiers.append((total + 0.001 * index, index))\n",
    "\n",
    "    soldiers.sort()\n",
    "\n",
    "    return [soldier[1] for soldier in soldiers[:k]]"
   ]
  },
  {
   "cell_type": "code",
   "execution_count": 8,
   "metadata": {},
   "outputs": [
    {
     "data": {
      "text/plain": [
       "[2, 0, 3]"
      ]
     },
     "execution_count": 8,
     "metadata": {},
     "output_type": "execute_result"
    }
   ],
   "source": [
    "Solution().kWeakestRows(\n",
    "    mat=[\n",
    "        [1, 1, 0, 0, 0],\n",
    "        [1, 1, 1, 1, 0],\n",
    "        [1, 0, 0, 0, 0],\n",
    "        [1, 1, 0, 0, 0],\n",
    "        [1, 1, 1, 1, 1]\n",
    "    ],\n",
    "    k=3\n",
    ")"
   ]
  },
  {
   "cell_type": "code",
   "execution_count": 9,
   "metadata": {},
   "outputs": [
    {
     "data": {
      "text/plain": [
       "[0, 2]"
      ]
     },
     "execution_count": 9,
     "metadata": {},
     "output_type": "execute_result"
    }
   ],
   "source": [
    "Solution().kWeakestRows(\n",
    "    mat=[\n",
    "        [1, 0, 0, 0],\n",
    "        [1, 1, 1, 1],\n",
    "        [1, 0, 0, 0],\n",
    "        [1, 0, 0, 0]\n",
    "    ],\n",
    "    k=2\n",
    ")"
   ]
  }
 ],
 "metadata": {
  "kernelspec": {
   "display_name": "base",
   "language": "python",
   "name": "python3"
  },
  "language_info": {
   "codemirror_mode": {
    "name": "ipython",
    "version": 3
   },
   "file_extension": ".py",
   "mimetype": "text/x-python",
   "name": "python",
   "nbconvert_exporter": "python",
   "pygments_lexer": "ipython3",
   "version": "3.11.7"
  }
 },
 "nbformat": 4,
 "nbformat_minor": 2
}
