{
  "cells": [
    {
      "cell_type": "code",
      "execution_count": 1,
      "metadata": {},
      "outputs": [],
      "source": [
        "class Solution:\n",
        "  def convertToTitle(self, columnNumber: int) -> str:\n",
        "\n",
        "    num2char = {\n",
        "        0: 'A', 1: 'B', 2: 'C', 3: 'D', 4: 'E',\n",
        "        5: 'F', 6: 'G', 7: 'H', 8: 'I', 9: 'J',\n",
        "        10: 'K', 11: 'L', 12: 'M', 13: 'N', 14: 'O',\n",
        "        15: 'P', 16: 'Q', 17: 'R', 18: 'S', 19: 'T',\n",
        "        20: 'U', 21: 'V', 22: 'W', 23: 'X', 24: 'Y',\n",
        "        25: 'Z',\n",
        "    }\n",
        "\n",
        "    output = ''\n",
        "    while columnNumber > 0:\n",
        "      columnNumber -= 1\n",
        "      output = num2char[columnNumber % 26] + output\n",
        "      columnNumber = columnNumber // 26\n",
        "\n",
        "    return output"
      ]
    },
    {
      "cell_type": "code",
      "execution_count": 2,
      "metadata": {},
      "outputs": [
        {
          "data": {
            "text/plain": [
              "'A'"
            ]
          },
          "execution_count": 2,
          "metadata": {},
          "output_type": "execute_result"
        }
      ],
      "source": [
        "columnNumber = 1\n",
        "Solution().convertToTitle(columnNumber=columnNumber)"
      ]
    },
    {
      "cell_type": "code",
      "execution_count": 3,
      "metadata": {},
      "outputs": [
        {
          "data": {
            "text/plain": [
              "'AB'"
            ]
          },
          "execution_count": 3,
          "metadata": {},
          "output_type": "execute_result"
        }
      ],
      "source": [
        "columnNumber = 28\n",
        "Solution().convertToTitle(columnNumber=columnNumber)"
      ]
    },
    {
      "cell_type": "code",
      "execution_count": 4,
      "metadata": {},
      "outputs": [
        {
          "data": {
            "text/plain": [
              "'ZY'"
            ]
          },
          "execution_count": 4,
          "metadata": {},
          "output_type": "execute_result"
        }
      ],
      "source": [
        "columnNumber = 701\n",
        "Solution().convertToTitle(columnNumber=columnNumber)"
      ]
    }
  ],
  "metadata": {
    "kernelspec": {
      "display_name": "Python 3",
      "language": "python",
      "name": "python3"
    },
    "language_info": {
      "codemirror_mode": {
        "name": "ipython",
        "version": 3
      },
      "file_extension": ".py",
      "mimetype": "text/x-python",
      "name": "python",
      "nbconvert_exporter": "python",
      "pygments_lexer": "ipython3",
      "version": "3.12.8"
    }
  },
  "nbformat": 4,
  "nbformat_minor": 2
}
