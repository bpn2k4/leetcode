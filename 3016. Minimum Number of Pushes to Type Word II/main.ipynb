{
 "cells": [
  {
   "cell_type": "code",
   "execution_count": 21,
   "metadata": {},
   "outputs": [],
   "source": [
    "class Solution:\n",
    "  def minimumPushes(self, word: str) -> int:\n",
    "    word = list(word)\n",
    "    mark = {}\n",
    "    for char in word:\n",
    "      if char not in mark:\n",
    "        mark[char] = 1\n",
    "      else:\n",
    "        mark[char] += 1\n",
    "    word = [(char, mark[char]) for char in mark]\n",
    "    word.sort(key=lambda x: x[1], reverse=True)\n",
    "    result = 0\n",
    "    for index, (char, count) in enumerate(word):\n",
    "      position = index // 8 + 1\n",
    "      result += position * count\n",
    "    return result\n",
    "      "
   ]
  },
  {
   "cell_type": "code",
   "execution_count": 22,
   "metadata": {},
   "outputs": [
    {
     "data": {
      "text/plain": [
       "5"
      ]
     },
     "execution_count": 22,
     "metadata": {},
     "output_type": "execute_result"
    }
   ],
   "source": [
    "Solution().minimumPushes(word=\"abcde\")"
   ]
  },
  {
   "cell_type": "code",
   "execution_count": 23,
   "metadata": {},
   "outputs": [
    {
     "data": {
      "text/plain": [
       "12"
      ]
     },
     "execution_count": 23,
     "metadata": {},
     "output_type": "execute_result"
    }
   ],
   "source": [
    "Solution().minimumPushes(word=\"xyzxyzxyzxyz\")"
   ]
  },
  {
   "cell_type": "code",
   "execution_count": 24,
   "metadata": {},
   "outputs": [
    {
     "data": {
      "text/plain": [
       "24"
      ]
     },
     "execution_count": 24,
     "metadata": {},
     "output_type": "execute_result"
    }
   ],
   "source": [
    "Solution().minimumPushes(word=\"aabbccddeeffgghhiiiiii\")"
   ]
  }
 ],
 "metadata": {
  "kernelspec": {
   "display_name": "base",
   "language": "python",
   "name": "python3"
  },
  "language_info": {
   "codemirror_mode": {
    "name": "ipython",
    "version": 3
   },
   "file_extension": ".py",
   "mimetype": "text/x-python",
   "name": "python",
   "nbconvert_exporter": "python",
   "pygments_lexer": "ipython3",
   "version": "3.11.7"
  }
 },
 "nbformat": 4,
 "nbformat_minor": 2
}
