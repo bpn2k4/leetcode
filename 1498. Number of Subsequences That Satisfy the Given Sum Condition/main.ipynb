{
  "cells": [
    {
      "cell_type": "code",
      "execution_count": 1,
      "metadata": {},
      "outputs": [],
      "source": [
        "from typing import List\n",
        "\n",
        "\n",
        "class Solution:\n",
        "  def numSubseq(self, nums: List[int], target: int) -> int:\n",
        "    \n",
        "    MOD = 10**9 + 7\n",
        "    n = len(nums)\n",
        "    pow2 = [1]\n",
        "    for _ in range(n):\n",
        "      pow2.append(pow2[-1] * 2 % MOD)\n",
        "      \n",
        "    nums.sort()\n",
        "    left, right = 0, len(nums) - 1\n",
        "    count = 0\n",
        "    while left <= right:\n",
        "      if nums[left] + nums[right] > target:\n",
        "        right -= 1\n",
        "      else:\n",
        "        count = (count + pow2[right - left]) % MOD\n",
        "        left += 1\n",
        "\n",
        "    return count"
      ]
    },
    {
      "cell_type": "code",
      "execution_count": 2,
      "metadata": {},
      "outputs": [
        {
          "data": {
            "text/plain": [
              "4"
            ]
          },
          "execution_count": 2,
          "metadata": {},
          "output_type": "execute_result"
        }
      ],
      "source": [
        "nums = [3, 5, 6, 7]\n",
        "target = 9\n",
        "Solution().numSubseq(nums=nums, target=target)"
      ]
    },
    {
      "cell_type": "code",
      "execution_count": 3,
      "metadata": {},
      "outputs": [
        {
          "data": {
            "text/plain": [
              "6"
            ]
          },
          "execution_count": 3,
          "metadata": {},
          "output_type": "execute_result"
        }
      ],
      "source": [
        "nums = [3, 3, 6, 8]\n",
        "target = 10\n",
        "Solution().numSubseq(nums=nums, target=target)"
      ]
    },
    {
      "cell_type": "code",
      "execution_count": 4,
      "metadata": {},
      "outputs": [
        {
          "data": {
            "text/plain": [
              "61"
            ]
          },
          "execution_count": 4,
          "metadata": {},
          "output_type": "execute_result"
        }
      ],
      "source": [
        "nums = [2, 3, 3, 4, 6, 7]\n",
        "target = 12\n",
        "Solution().numSubseq(nums=nums, target=target)"
      ]
    }
  ],
  "metadata": {
    "kernelspec": {
      "display_name": "Python 3",
      "language": "python",
      "name": "python3"
    },
    "language_info": {
      "codemirror_mode": {
        "name": "ipython",
        "version": 3
      },
      "file_extension": ".py",
      "mimetype": "text/x-python",
      "name": "python",
      "nbconvert_exporter": "python",
      "pygments_lexer": "ipython3",
      "version": "3.12.8"
    }
  },
  "nbformat": 4,
  "nbformat_minor": 2
}
