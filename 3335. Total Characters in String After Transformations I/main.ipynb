{
  "cells": [
    {
      "cell_type": "code",
      "execution_count": 1,
      "metadata": {},
      "outputs": [],
      "source": [
        "class Solution:\n",
        "  def lengthAfterTransformations(self, s: str, t: int) -> int:\n",
        "    \n",
        "    MOD = 10**9 + 7\n",
        "    c = [0] * 26\n",
        "    for char in s:\n",
        "      c[ord(char) - ord('a')] += 1\n",
        "    \n",
        "    for _ in range(t):\n",
        "      n = [0] * 26\n",
        "      n[0] = c[25]\n",
        "      n[1] = (c[25] + c[0]) % MOD\n",
        "      for j in range(2, 26):\n",
        "        n[j] = c[j - 1]\n",
        "      c = n\n",
        "    \n",
        "    return sum(c) % MOD\n"
      ]
    },
    {
      "cell_type": "code",
      "execution_count": 2,
      "metadata": {},
      "outputs": [
        {
          "data": {
            "text/plain": [
              "7"
            ]
          },
          "execution_count": 2,
          "metadata": {},
          "output_type": "execute_result"
        }
      ],
      "source": [
        "s = \"abcyy\"\n",
        "t = 2\n",
        "Solution().lengthAfterTransformations(s=s, t=t)"
      ]
    },
    {
      "cell_type": "code",
      "execution_count": 3,
      "metadata": {},
      "outputs": [
        {
          "data": {
            "text/plain": [
              "5"
            ]
          },
          "execution_count": 3,
          "metadata": {},
          "output_type": "execute_result"
        }
      ],
      "source": [
        "s = \"azbk\"\n",
        "t = 1\n",
        "Solution().lengthAfterTransformations(s=s, t=t)"
      ]
    }
  ],
  "metadata": {
    "kernelspec": {
      "display_name": "Python 3",
      "language": "python",
      "name": "python3"
    },
    "language_info": {
      "codemirror_mode": {
        "name": "ipython",
        "version": 3
      },
      "file_extension": ".py",
      "mimetype": "text/x-python",
      "name": "python",
      "nbconvert_exporter": "python",
      "pygments_lexer": "ipython3",
      "version": "3.12.8"
    }
  },
  "nbformat": 4,
  "nbformat_minor": 2
}
