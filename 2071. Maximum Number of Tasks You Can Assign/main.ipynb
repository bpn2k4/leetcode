{
  "cells": [
    {
      "cell_type": "code",
      "execution_count": 1,
      "metadata": {},
      "outputs": [],
      "source": [
        "from typing import List\n",
        "from collections import deque\n",
        "\n",
        "\n",
        "class Solution:\n",
        "  def maxTaskAssign(self, tasks: List[int], workers: List[int], pills: int, strength: int) -> int:\n",
        "    n, m = len(tasks), len(workers)\n",
        "    tasks.sort()\n",
        "    workers.sort()\n",
        "\n",
        "    def check(k: int) -> bool:\n",
        "      p = pills\n",
        "      q = deque()\n",
        "      j = m - 1\n",
        "      for i in range(k - 1, -1, -1):\n",
        "        while j >= m - k and workers[j] + strength >= tasks[i]:\n",
        "          q.appendleft(workers[j])\n",
        "          j -= 1\n",
        "        if not q:\n",
        "          return False\n",
        "        \n",
        "        elif q[-1] >= tasks[i]:\n",
        "          q.pop()\n",
        "        else:\n",
        "          if p == 0:\n",
        "            return False\n",
        "          p -= 1\n",
        "          q.popleft()\n",
        "\n",
        "      return True\n",
        "\n",
        "    left, right, ans = 1, min(m, n), 0\n",
        "    while left <= right:\n",
        "      mid = (left + right) // 2\n",
        "      if check(mid):\n",
        "        ans = mid\n",
        "        left = mid + 1\n",
        "      else:\n",
        "        right = mid - 1\n",
        "\n",
        "    return ans"
      ]
    },
    {
      "cell_type": "code",
      "execution_count": 2,
      "metadata": {},
      "outputs": [
        {
          "data": {
            "text/plain": [
              "3"
            ]
          },
          "execution_count": 2,
          "metadata": {},
          "output_type": "execute_result"
        }
      ],
      "source": [
        "tasks = [5, 9, 8, 5, 9]\n",
        "workers = [1, 6, 4, 2, 6]\n",
        "pills = 1\n",
        "strength = 5\n",
        "Solution().maxTaskAssign(tasks=tasks, workers=workers, pills=pills, strength=strength)"
      ]
    },
    {
      "cell_type": "code",
      "execution_count": 3,
      "metadata": {},
      "outputs": [
        {
          "data": {
            "text/plain": [
              "3"
            ]
          },
          "execution_count": 3,
          "metadata": {},
          "output_type": "execute_result"
        }
      ],
      "source": [
        "tasks = [3, 2, 1]\n",
        "workers = [0, 3, 3]\n",
        "pills = 1\n",
        "strength = 1\n",
        "Solution().maxTaskAssign(tasks=tasks, workers=workers, pills=pills, strength=strength)"
      ]
    },
    {
      "cell_type": "code",
      "execution_count": 4,
      "metadata": {},
      "outputs": [
        {
          "data": {
            "text/plain": [
              "1"
            ]
          },
          "execution_count": 4,
          "metadata": {},
          "output_type": "execute_result"
        }
      ],
      "source": [
        "tasks = [5, 4]\n",
        "workers = [0, 0, 0]\n",
        "pills = 1\n",
        "strength = 5\n",
        "Solution().maxTaskAssign(tasks=tasks, workers=workers, pills=pills, strength=strength)"
      ]
    },
    {
      "cell_type": "code",
      "execution_count": 5,
      "metadata": {},
      "outputs": [
        {
          "data": {
            "text/plain": [
              "2"
            ]
          },
          "execution_count": 5,
          "metadata": {},
          "output_type": "execute_result"
        }
      ],
      "source": [
        "tasks = [10, 15, 30]\n",
        "workers = [0, 10, 10, 10, 10]\n",
        "pills = 3\n",
        "strength = 10\n",
        "Solution().maxTaskAssign(tasks=tasks, workers=workers, pills=pills, strength=strength)"
      ]
    }
  ],
  "metadata": {
    "kernelspec": {
      "display_name": "Python 3",
      "language": "python",
      "name": "python3"
    },
    "language_info": {
      "codemirror_mode": {
        "name": "ipython",
        "version": 3
      },
      "file_extension": ".py",
      "mimetype": "text/x-python",
      "name": "python",
      "nbconvert_exporter": "python",
      "pygments_lexer": "ipython3",
      "version": "3.12.8"
    }
  },
  "nbformat": 4,
  "nbformat_minor": 2
}
