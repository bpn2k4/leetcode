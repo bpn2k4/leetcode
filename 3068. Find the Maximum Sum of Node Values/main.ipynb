{
  "cells": [
    {
      "cell_type": "code",
      "execution_count": 1,
      "metadata": {},
      "outputs": [],
      "source": [
        "from typing import List\n",
        "\n",
        "\n",
        "class Solution:\n",
        "  def maximumValueSum(self, nums: List[int], k: int, edges: List[List[int]]) -> int:\n",
        "    \n",
        "    n = len(nums)\n",
        "    total = 0\n",
        "    arr = []\n",
        "    for num in nums:\n",
        "      total += num\n",
        "      arr.append((num ^ k) - num)\n",
        "    \n",
        "    arr.sort(reverse=True)\n",
        "    for i in range(0, n - 1, 2):\n",
        "      if arr[i] + arr[i + 1] <= 0:\n",
        "        break\n",
        "      total += arr[i] + arr[i + 1]\n",
        "    \n",
        "    return total"
      ]
    },
    {
      "cell_type": "code",
      "execution_count": 2,
      "metadata": {},
      "outputs": [
        {
          "data": {
            "text/plain": [
              "6"
            ]
          },
          "execution_count": 2,
          "metadata": {},
          "output_type": "execute_result"
        }
      ],
      "source": [
        "nums = [1, 2, 1]\n",
        "k = 3\n",
        "edges = [[0, 1], [0, 2]]\n",
        "Solution().maximumValueSum(nums=nums, k=k, edges=edges)"
      ]
    },
    {
      "cell_type": "code",
      "execution_count": 3,
      "metadata": {},
      "outputs": [
        {
          "data": {
            "text/plain": [
              "9"
            ]
          },
          "execution_count": 3,
          "metadata": {},
          "output_type": "execute_result"
        }
      ],
      "source": [
        "nums = [2, 3]\n",
        "k = 7\n",
        "edges = [[0, 1]]\n",
        "Solution().maximumValueSum(nums=nums, k=k, edges=edges)"
      ]
    },
    {
      "cell_type": "code",
      "execution_count": 4,
      "metadata": {},
      "outputs": [
        {
          "data": {
            "text/plain": [
              "42"
            ]
          },
          "execution_count": 4,
          "metadata": {},
          "output_type": "execute_result"
        }
      ],
      "source": [
        "nums = [7, 7, 7, 7, 7, 7]\n",
        "k = 3\n",
        "edges = [[0, 1], [0, 2], [0, 3], [0, 4], [0, 5]]\n",
        "Solution().maximumValueSum(nums=nums, k=k, edges=edges)"
      ]
    }
  ],
  "metadata": {
    "kernelspec": {
      "display_name": "Python 3",
      "language": "python",
      "name": "python3"
    },
    "language_info": {
      "codemirror_mode": {
        "name": "ipython",
        "version": 3
      },
      "file_extension": ".py",
      "mimetype": "text/x-python",
      "name": "python",
      "nbconvert_exporter": "python",
      "pygments_lexer": "ipython3",
      "version": "3.12.8"
    }
  },
  "nbformat": 4,
  "nbformat_minor": 2
}
