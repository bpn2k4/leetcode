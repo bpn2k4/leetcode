{
  "cells": [
    {
      "cell_type": "code",
      "execution_count": 1,
      "metadata": {},
      "outputs": [],
      "source": [
        "from typing import List\n",
        "\n",
        "\n",
        "class Solution:\n",
        "  def judgePoint24(self, cards: List[int]) -> bool:\n",
        "\n",
        "    EPSILON = 1e-6\n",
        "    TARGET = 24\n",
        "\n",
        "    def dfs(nums):\n",
        "      if len(nums) == 1:\n",
        "        return abs(nums[0] - TARGET) < EPSILON\n",
        "\n",
        "      n = len(nums)\n",
        "      for i in range(n):\n",
        "        for j in range(i + 1, n):\n",
        "          a, b = nums[i], nums[j]\n",
        "          next_nums = [nums[k] for k in range(n) if k != i and k != j]\n",
        "\n",
        "          candidates = [a + b, a - b, b - a, a * b]\n",
        "          if abs(b) > EPSILON:\n",
        "            candidates.append(a / b)\n",
        "          if abs(a) > EPSILON:\n",
        "            candidates.append(b / a)\n",
        "\n",
        "          for val in candidates:\n",
        "            if dfs(next_nums + [val]):\n",
        "              return True\n",
        "            \n",
        "      return False\n",
        "\n",
        "    return dfs([float(x) for x in cards])"
      ]
    },
    {
      "cell_type": "code",
      "execution_count": 2,
      "metadata": {},
      "outputs": [
        {
          "data": {
            "text/plain": [
              "True"
            ]
          },
          "execution_count": 2,
          "metadata": {},
          "output_type": "execute_result"
        }
      ],
      "source": [
        "cards = [4, 1, 8, 7]\n",
        "Solution().judgePoint24(cards=cards)"
      ]
    },
    {
      "cell_type": "code",
      "execution_count": 3,
      "metadata": {},
      "outputs": [
        {
          "data": {
            "text/plain": [
              "False"
            ]
          },
          "execution_count": 3,
          "metadata": {},
          "output_type": "execute_result"
        }
      ],
      "source": [
        "cards = [1, 2, 1, 2]\n",
        "Solution().judgePoint24(cards=cards)"
      ]
    }
  ],
  "metadata": {
    "kernelspec": {
      "display_name": "Python 3",
      "language": "python",
      "name": "python3"
    },
    "language_info": {
      "codemirror_mode": {
        "name": "ipython",
        "version": 3
      },
      "file_extension": ".py",
      "mimetype": "text/x-python",
      "name": "python",
      "nbconvert_exporter": "python",
      "pygments_lexer": "ipython3",
      "version": "3.12.8"
    }
  },
  "nbformat": 4,
  "nbformat_minor": 2
}
