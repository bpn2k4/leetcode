{
 "cells": [
  {
   "cell_type": "code",
   "execution_count": 33,
   "metadata": {},
   "outputs": [],
   "source": [
    "from typing import List\n",
    "\n",
    "\n",
    "class Solution:\n",
    "\n",
    "  def secondMinimum(self, n: int, edges: List[List[int]], time: int, change: int) -> int:\n",
    "    graph = {i: [] for i in range(1, n+1)}\n",
    "    for u, v in edges:\n",
    "      graph[u].append(v)\n",
    "      graph[v].append(u)\n",
    "    q = [(1, 1)]\n",
    "    dist1 = [-1] * (n + 1)\n",
    "    dist2 = [-1] * (n + 1)\n",
    "    dist1[1] = 0\n",
    "    while q:\n",
    "      node, current_time = q.pop(0)\n",
    "      t = dist1[node] if current_time == 1 else dist2[node]\n",
    "      if (t // change) % 2:\n",
    "        t = change * (t // change + 1) + time\n",
    "      else:\n",
    "        t += time\n",
    "      for neighbor in graph[node]:\n",
    "        if dist1[neighbor] == -1:\n",
    "          dist1[neighbor] = t\n",
    "          q.append((neighbor, 1))\n",
    "        elif dist2[neighbor] == -1 and dist1[neighbor] != t:\n",
    "          if neighbor == n:\n",
    "            return t\n",
    "          dist2[neighbor] = t\n",
    "          q.append((neighbor, 2))"
   ]
  },
  {
   "cell_type": "code",
   "execution_count": 34,
   "metadata": {},
   "outputs": [
    {
     "data": {
      "text/plain": [
       "13"
      ]
     },
     "execution_count": 34,
     "metadata": {},
     "output_type": "execute_result"
    }
   ],
   "source": [
    "Solution().secondMinimum(\n",
    "    n=5,\n",
    "    edges=[[1, 2], [1, 3], [1, 4], [3, 4], [4, 5]],\n",
    "    time=3,\n",
    "    change=5\n",
    ")"
   ]
  },
  {
   "cell_type": "code",
   "execution_count": 35,
   "metadata": {},
   "outputs": [
    {
     "data": {
      "text/plain": [
       "11"
      ]
     },
     "execution_count": 35,
     "metadata": {},
     "output_type": "execute_result"
    }
   ],
   "source": [
    "Solution().secondMinimum(\n",
    "    n=2,\n",
    "    edges=[[1, 2]],\n",
    "    time=3,\n",
    "    change=2\n",
    ")"
   ]
  }
 ],
 "metadata": {
  "kernelspec": {
   "display_name": "base",
   "language": "python",
   "name": "python3"
  },
  "language_info": {
   "codemirror_mode": {
    "name": "ipython",
    "version": 3
   },
   "file_extension": ".py",
   "mimetype": "text/x-python",
   "name": "python",
   "nbconvert_exporter": "python",
   "pygments_lexer": "ipython3",
   "version": "3.11.7"
  }
 },
 "nbformat": 4,
 "nbformat_minor": 2
}
