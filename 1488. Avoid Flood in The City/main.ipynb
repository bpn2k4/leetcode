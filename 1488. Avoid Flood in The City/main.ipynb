{
  "cells": [
    {
      "cell_type": "code",
      "execution_count": null,
      "metadata": {},
      "outputs": [],
      "source": [
        "from typing import List\n",
        "import bisect\n",
        "\n",
        "\n",
        "class Solution:\n",
        "  def avoidFlood(self, rains: List[int]) -> List[int]:\n",
        "\n",
        "    n = len(rains)\n",
        "    ans = [-1] * n\n",
        "    full_lakes = {}\n",
        "    dry_days = []\n",
        "\n",
        "    for i, lake in enumerate(rains):\n",
        "      if lake == 0:\n",
        "        dry_days.append(i)\n",
        "        ans[i] = 1  # tạm thời gán\n",
        "      else:\n",
        "        if lake in full_lakes:\n",
        "          prev_rain = full_lakes[lake]\n",
        "          pos = bisect.bisect_right(dry_days, prev_rain)\n",
        "          if pos == len(dry_days):\n",
        "            return []\n",
        "          dry_day = dry_days.pop(pos)\n",
        "          ans[dry_day] = lake\n",
        "        full_lakes[lake] = i\n",
        "        ans[i] = -1\n",
        "\n",
        "    return ans"
      ]
    },
    {
      "cell_type": "code",
      "execution_count": null,
      "metadata": {},
      "outputs": [],
      "source": [
        "rains = [1, 2, 3, 4]\n",
        "Solution().avoidFlood(rains=rains)"
      ]
    },
    {
      "cell_type": "code",
      "execution_count": null,
      "metadata": {},
      "outputs": [],
      "source": [
        "rains = [1, 2, 0, 0, 2, 1]\n",
        "Solution().avoidFlood(rains=rains)"
      ]
    },
    {
      "cell_type": "code",
      "execution_count": null,
      "metadata": {},
      "outputs": [],
      "source": [
        "rains = [1, 2, 0, 1, 2]\n",
        "Solution().avoidFlood(rains=rains)"
      ]
    }
  ],
  "metadata": {
    "kernelspec": {
      "display_name": "Python 3",
      "language": "python",
      "name": "python3"
    },
    "language_info": {
      "codemirror_mode": {
        "name": "ipython",
        "version": 3
      },
      "file_extension": ".py",
      "mimetype": "text/x-python",
      "name": "python",
      "nbconvert_exporter": "python",
      "pygments_lexer": "ipython3",
      "version": "3.12.8"
    }
  },
  "nbformat": 4,
  "nbformat_minor": 2
}
