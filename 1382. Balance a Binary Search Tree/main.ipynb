{
 "cells": [
  {
   "cell_type": "code",
   "execution_count": 5,
   "metadata": {},
   "outputs": [],
   "source": [
    "class TreeNode:\n",
    "  def __init__(self, val=0, left=None, right=None):\n",
    "    self.val = val\n",
    "    self.left = left\n",
    "    self.right = right"
   ]
  },
  {
   "cell_type": "code",
   "execution_count": 6,
   "metadata": {},
   "outputs": [],
   "source": [
    "def print_tree(root: TreeNode):\n",
    "  if not root:\n",
    "    print([])\n",
    "  result = []\n",
    "  q = [root]\n",
    "  while q:\n",
    "    node = q.pop(0)\n",
    "    if node:\n",
    "      result.append(node.val)\n",
    "      q.append(node.left)\n",
    "      q.append(node.right)\n",
    "    else:\n",
    "      result.append(None)\n",
    "  while result and result[-1] is None:\n",
    "    result.pop()\n",
    "  print(result)"
   ]
  },
  {
   "cell_type": "code",
   "execution_count": 7,
   "metadata": {},
   "outputs": [],
   "source": [
    "\n",
    "class Solution:\n",
    "  def balanceBST(self, root: TreeNode) -> TreeNode:\n",
    "    def in_order_traversal(root: TreeNode):\n",
    "      return in_order_traversal(root.left) + [root.val] + in_order_traversal(root.right) if root else []\n",
    "\n",
    "    def sorted_list_to_bst(nums):\n",
    "      if not nums:\n",
    "        return None\n",
    "      mid = len(nums) // 2\n",
    "      root = TreeNode(nums[mid])\n",
    "      root.left = sorted_list_to_bst(nums[:mid])\n",
    "      root.right = sorted_list_to_bst(nums[mid + 1:])\n",
    "      return root\n",
    "    \n",
    "    sorted_vals = in_order_traversal(root)\n",
    "    return sorted_list_to_bst(sorted_vals)"
   ]
  },
  {
   "cell_type": "code",
   "execution_count": 8,
   "metadata": {},
   "outputs": [
    {
     "name": "stdout",
     "output_type": "stream",
     "text": [
      "[1, None, 2, None, 3, None, 4]\n",
      "[3, 2, 4, 1]\n"
     ]
    }
   ],
   "source": [
    "root = TreeNode(1)\n",
    "root.right = TreeNode(2)\n",
    "root.right.right = TreeNode(3)\n",
    "root.right.right.right = TreeNode(4)\n",
    "print_tree(root)\n",
    "print_tree(Solution().balanceBST(root))"
   ]
  },
  {
   "cell_type": "code",
   "execution_count": 9,
   "metadata": {},
   "outputs": [
    {
     "name": "stdout",
     "output_type": "stream",
     "text": [
      "[2, 1, 3]\n",
      "[2, 1, 3]\n"
     ]
    }
   ],
   "source": [
    "root = TreeNode(2)\n",
    "root.left = TreeNode(1)\n",
    "root.right = TreeNode(3)\n",
    "print_tree(root)\n",
    "print_tree(Solution().balanceBST(root))"
   ]
  }
 ],
 "metadata": {
  "kernelspec": {
   "display_name": "base",
   "language": "python",
   "name": "python3"
  },
  "language_info": {
   "codemirror_mode": {
    "name": "ipython",
    "version": 3
   },
   "file_extension": ".py",
   "mimetype": "text/x-python",
   "name": "python",
   "nbconvert_exporter": "python",
   "pygments_lexer": "ipython3",
   "version": "3.11.7"
  }
 },
 "nbformat": 4,
 "nbformat_minor": 2
}
