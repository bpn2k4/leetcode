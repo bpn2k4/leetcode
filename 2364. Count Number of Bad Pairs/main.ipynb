{
 "cells": [
  {
   "cell_type": "code",
   "execution_count": 1,
   "metadata": {},
   "outputs": [],
   "source": [
    "from typing import List\n",
    "\n",
    "\n",
    "class Solution:\n",
    "  def countBadPairs(self, nums: List[int]) -> int:\n",
    "    \n",
    "    n = len(nums)\n",
    "    total_pairs = n * (n - 1) / 2\n",
    "\n",
    "    mark = {}\n",
    "    for index, num in enumerate(nums):\n",
    "      key = num - index\n",
    "      mark[key] = mark.get(key, 0) + 1\n",
    "\n",
    "    good_pairs = 0\n",
    "    for value in mark.values():\n",
    "      good_pairs += value * (value - 1) / 2\n",
    "\n",
    "    return int(total_pairs - good_pairs)\n",
    "  \n",
    "  def countBadPairs(self, nums: List[int]) -> int:\n",
    "    \n",
    "    n = len(nums)\n",
    "    total_pairs = int(n * (n - 1) / 2)\n",
    "    good_pairs = 0\n",
    "\n",
    "    mark = {}\n",
    "    for index, num in enumerate(nums):\n",
    "      key = num - index\n",
    "      number_pairs = mark.get(key, 0)\n",
    "      good_pairs += number_pairs\n",
    "      mark[key] = number_pairs + 1\n",
    "\n",
    "    return total_pairs - good_pairs"
   ]
  },
  {
   "cell_type": "code",
   "execution_count": 2,
   "metadata": {},
   "outputs": [
    {
     "data": {
      "text/plain": [
       "5"
      ]
     },
     "execution_count": 2,
     "metadata": {},
     "output_type": "execute_result"
    }
   ],
   "source": [
    "nums = [4, 1, 3, 3]\n",
    "Solution().countBadPairs(nums=nums)"
   ]
  },
  {
   "cell_type": "code",
   "execution_count": 3,
   "metadata": {},
   "outputs": [
    {
     "data": {
      "text/plain": [
       "0"
      ]
     },
     "execution_count": 3,
     "metadata": {},
     "output_type": "execute_result"
    }
   ],
   "source": [
    "nums = [1, 2, 3, 4, 5]\n",
    "Solution().countBadPairs(nums=nums)"
   ]
  }
 ],
 "metadata": {
  "kernelspec": {
   "display_name": "Python 3",
   "language": "python",
   "name": "python3"
  },
  "language_info": {
   "codemirror_mode": {
    "name": "ipython",
    "version": 3
   },
   "file_extension": ".py",
   "mimetype": "text/x-python",
   "name": "python",
   "nbconvert_exporter": "python",
   "pygments_lexer": "ipython3",
   "version": "3.12.1"
  }
 },
 "nbformat": 4,
 "nbformat_minor": 2
}
