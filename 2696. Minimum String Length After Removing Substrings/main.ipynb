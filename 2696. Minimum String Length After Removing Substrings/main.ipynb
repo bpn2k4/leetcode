{
  "cells": [
    {
      "cell_type": "code",
      "execution_count": 1,
      "metadata": {},
      "outputs": [],
      "source": [
        "class Solution:\n",
        "  def minLength(self, s: str) -> int:\n",
        "    \n",
        "    while True:\n",
        "      if 'AB' in s:\n",
        "        s = s.replace('AB', '')\n",
        "      elif 'CD' in s:\n",
        "        s = s.replace('CD', '')\n",
        "      else:\n",
        "        break\n",
        "\n",
        "    return len(s)\n",
        "  \n",
        "  def minLength(self, s: str) -> int:\n",
        "\n",
        "    stack = []\n",
        "\n",
        "    for char in s:\n",
        "      if stack:\n",
        "        if stack[-1] == 'A' and char == 'B':\n",
        "          stack.pop()\n",
        "          continue\n",
        "        if stack[-1] == 'C' and char == 'D':\n",
        "          stack.pop()\n",
        "          continue\n",
        "      stack.append(char)\n",
        "\n",
        "    return len(stack)\n",
        "      "
      ]
    },
    {
      "cell_type": "code",
      "execution_count": 2,
      "metadata": {},
      "outputs": [
        {
          "data": {
            "text/plain": [
              "2"
            ]
          },
          "execution_count": 2,
          "metadata": {},
          "output_type": "execute_result"
        }
      ],
      "source": [
        "s = \"ABFCACDB\"\n",
        "Solution().minLength(s=s)"
      ]
    },
    {
      "cell_type": "code",
      "execution_count": 3,
      "metadata": {},
      "outputs": [
        {
          "data": {
            "text/plain": [
              "5"
            ]
          },
          "execution_count": 3,
          "metadata": {},
          "output_type": "execute_result"
        }
      ],
      "source": [
        "s = \"ACBBD\"\n",
        "Solution().minLength(s=s)"
      ]
    }
  ],
  "metadata": {
    "kernelspec": {
      "display_name": "base",
      "language": "python",
      "name": "python3"
    },
    "language_info": {
      "codemirror_mode": {
        "name": "ipython",
        "version": 3
      },
      "file_extension": ".py",
      "mimetype": "text/x-python",
      "name": "python",
      "nbconvert_exporter": "python",
      "pygments_lexer": "ipython3",
      "version": "3.11.7"
    }
  },
  "nbformat": 4,
  "nbformat_minor": 2
}
