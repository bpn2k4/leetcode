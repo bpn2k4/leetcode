{
  "cells": [
    {
      "cell_type": "code",
      "execution_count": 1,
      "metadata": {},
      "outputs": [],
      "source": [
        "from typing import List\n",
        "import bisect\n",
        "\n",
        "\n",
        "class Solution:\n",
        "  def maxFrequency(self, nums: List[int], k: int, numOperations: int) -> int:\n",
        "\n",
        "    nums.sort()\n",
        "    ans = 0\n",
        "    num_count = {}\n",
        "    last_num_index = 0\n",
        "    for i in range(len(nums)):\n",
        "      if nums[i] != nums[last_num_index]:\n",
        "        num_count[nums[last_num_index]] = i - last_num_index\n",
        "        ans = max(ans, i - last_num_index)\n",
        "        last_num_index = i\n",
        "\n",
        "    num_count[nums[last_num_index]] = len(nums) - last_num_index\n",
        "    ans = max(ans, len(nums) - last_num_index)\n",
        "\n",
        "    for i in range(nums[0], nums[-1] + 1):\n",
        "      l = bisect.bisect_left(nums, i - k)\n",
        "      r = bisect.bisect_right(nums, i + k) - 1\n",
        "      if i in num_count:\n",
        "        temp_ans = min(r - l + 1, num_count[i] + numOperations)\n",
        "      else:\n",
        "        temp_ans = min(r - l + 1, numOperations)\n",
        "      ans = max(ans, temp_ans)\n",
        "\n",
        "    return ans"
      ]
    },
    {
      "cell_type": "code",
      "execution_count": 2,
      "metadata": {},
      "outputs": [
        {
          "data": {
            "text/plain": [
              "2"
            ]
          },
          "execution_count": 2,
          "metadata": {},
          "output_type": "execute_result"
        }
      ],
      "source": [
        "nums = [1, 4, 5]\n",
        "k = 1\n",
        "numOperations = 2\n",
        "Solution().maxFrequency(nums=nums, k=k, numOperations=numOperations)"
      ]
    },
    {
      "cell_type": "code",
      "execution_count": 3,
      "metadata": {},
      "outputs": [
        {
          "data": {
            "text/plain": [
              "2"
            ]
          },
          "execution_count": 3,
          "metadata": {},
          "output_type": "execute_result"
        }
      ],
      "source": [
        "nums = [5, 11, 20, 20]\n",
        "k = 5\n",
        "numOperations = 1\n",
        "Solution().maxFrequency(nums=nums, k=k, numOperations=numOperations)"
      ]
    }
  ],
  "metadata": {
    "kernelspec": {
      "display_name": "Python 3",
      "language": "python",
      "name": "python3"
    },
    "language_info": {
      "codemirror_mode": {
        "name": "ipython",
        "version": 3
      },
      "file_extension": ".py",
      "mimetype": "text/x-python",
      "name": "python",
      "nbconvert_exporter": "python",
      "pygments_lexer": "ipython3",
      "version": "3.12.8"
    }
  },
  "nbformat": 4,
  "nbformat_minor": 2
}
