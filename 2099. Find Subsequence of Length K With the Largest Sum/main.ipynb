{
  "cells": [
    {
      "cell_type": "code",
      "execution_count": 1,
      "metadata": {},
      "outputs": [],
      "source": [
        "from typing import List\n",
        "\n",
        "\n",
        "class Solution:\n",
        "  def maxSubsequence(self, nums: List[int], k: int) -> List[int]:\n",
        "    \n",
        "    sorted_nums = sorted(nums)\n",
        "    output = []\n",
        "    mark = {}\n",
        "    for num in sorted_nums[-k:]:\n",
        "      mark[num] = mark.get(num, 0) + 1\n",
        "    \n",
        "    for num in nums:\n",
        "      if mark.get(num, 0) > 0:\n",
        "        mark[num] -= 1\n",
        "        output.append(num)\n",
        "    \n",
        "    return output"
      ]
    },
    {
      "cell_type": "code",
      "execution_count": 2,
      "metadata": {},
      "outputs": [
        {
          "data": {
            "text/plain": [
              "[3, 3]"
            ]
          },
          "execution_count": 2,
          "metadata": {},
          "output_type": "execute_result"
        }
      ],
      "source": [
        "nums = [2, 1, 3, 3]\n",
        "k = 2\n",
        "Solution().maxSubsequence(nums=nums, k=k)"
      ]
    },
    {
      "cell_type": "code",
      "execution_count": 3,
      "metadata": {},
      "outputs": [
        {
          "data": {
            "text/plain": [
              "[-1, 3, 4]"
            ]
          },
          "execution_count": 3,
          "metadata": {},
          "output_type": "execute_result"
        }
      ],
      "source": [
        "nums = [-1, -2, 3, 4]\n",
        "k = 3\n",
        "Solution().maxSubsequence(nums=nums, k=k)"
      ]
    },
    {
      "cell_type": "code",
      "execution_count": 4,
      "metadata": {},
      "outputs": [
        {
          "data": {
            "text/plain": [
              "[3, 4]"
            ]
          },
          "execution_count": 4,
          "metadata": {},
          "output_type": "execute_result"
        }
      ],
      "source": [
        "nums = [3, 4, 3, 3]\n",
        "k = 2\n",
        "Solution().maxSubsequence(nums=nums, k=k)"
      ]
    }
  ],
  "metadata": {
    "kernelspec": {
      "display_name": "Python 3",
      "language": "python",
      "name": "python3"
    },
    "language_info": {
      "codemirror_mode": {
        "name": "ipython",
        "version": 3
      },
      "file_extension": ".py",
      "mimetype": "text/x-python",
      "name": "python",
      "nbconvert_exporter": "python",
      "pygments_lexer": "ipython3",
      "version": "3.12.8"
    }
  },
  "nbformat": 4,
  "nbformat_minor": 2
}
