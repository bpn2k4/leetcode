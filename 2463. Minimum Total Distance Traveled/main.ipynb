{
 "cells": [
  {
   "cell_type": "code",
   "execution_count": null,
   "metadata": {},
   "outputs": [],
   "source": [
    "from typing import List\n",
    "\n",
    "class Solution:\n",
    "  def minimumTotalDistance(self, robot: List[int], factory: List[List[int]]) -> int:\n",
    "    \n",
    "    robot.sort()\n",
    "    factory.sort()\n",
    "    nums_of_robot = len(robot)\n",
    "    nums_of_factory = len(factory)\n",
    "\n",
    "    dp = [[200000000000 for _ in range(nums_of_factory + 1)] for _ in range(nums_of_robot + 1)]\n",
    "    dp[0][0] = 0\n",
    "\n",
    "    for j in range(1, nums_of_factory + 1):\n",
    "\n",
    "      position, limit = factory[j - 1]\n",
    "      dp[0][j] = 0\n",
    "\n",
    "      for i in range(1, nums_of_robot + 1):\n",
    "        dp[i][j] = dp[i][j - 1]\n",
    "        distance = 0\n",
    "        for k in range(1, min(limit, i) + 1):\n",
    "          distance += abs(robot[i - k] - position)\n",
    "          dp[i][j] = min(dp[i][j], dp[i - k][j - 1] + distance)\n",
    "\n",
    "    return dp[nums_of_robot][nums_of_factory]"
   ]
  },
  {
   "cell_type": "code",
   "execution_count": 2,
   "metadata": {},
   "outputs": [
    {
     "data": {
      "text/plain": [
       "4"
      ]
     },
     "execution_count": 2,
     "metadata": {},
     "output_type": "execute_result"
    }
   ],
   "source": [
    "robot = [0, 4, 6]\n",
    "factory = [[2, 2], [6, 2]]\n",
    "Solution().minimumTotalDistance(robot=robot, factory=factory)"
   ]
  },
  {
   "cell_type": "code",
   "execution_count": 3,
   "metadata": {},
   "outputs": [
    {
     "data": {
      "text/plain": [
       "2"
      ]
     },
     "execution_count": 3,
     "metadata": {},
     "output_type": "execute_result"
    }
   ],
   "source": [
    "robot = [1, -1]\n",
    "factory = [[-2, 1], [2, 1]]\n",
    "Solution().minimumTotalDistance(robot=robot, factory=factory)"
   ]
  },
  {
   "cell_type": "code",
   "execution_count": 4,
   "metadata": {},
   "outputs": [
    {
     "data": {
      "text/plain": [
       "6"
      ]
     },
     "execution_count": 4,
     "metadata": {},
     "output_type": "execute_result"
    }
   ],
   "source": [
    "robot = [9,11,99,101]\n",
    "factory = [[10,1],[7,1],[14,1],[100,1],[96,1],[103,1]]\n",
    "Solution().minimumTotalDistance(robot=robot, factory=factory)"
   ]
  }
 ],
 "metadata": {
  "kernelspec": {
   "display_name": "base",
   "language": "python",
   "name": "python3"
  },
  "language_info": {
   "codemirror_mode": {
    "name": "ipython",
    "version": 3
   },
   "file_extension": ".py",
   "mimetype": "text/x-python",
   "name": "python",
   "nbconvert_exporter": "python",
   "pygments_lexer": "ipython3",
   "version": "3.11.7"
  }
 },
 "nbformat": 4,
 "nbformat_minor": 2
}
