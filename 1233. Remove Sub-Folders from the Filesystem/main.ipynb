{
  "cells": [
    {
      "cell_type": "code",
      "execution_count": 1,
      "metadata": {},
      "outputs": [],
      "source": [
        "from typing import List\n",
        "\n",
        "\n",
        "class Solution:\n",
        "  def removeSubfolders(self, folder: List[str]) -> List[str]:\n",
        "    \n",
        "    folder.sort()\n",
        "    \n",
        "    stack = [folder[0]]\n",
        "\n",
        "    for folder_name in folder[1:]:\n",
        "      parent = stack[-1] + '/'\n",
        "      path = folder_name + '/'\n",
        "      if path.startswith(parent):\n",
        "        continue\n",
        "      else:\n",
        "        stack.append(folder_name)\n",
        "    \n",
        "    return stack\n",
        "\n"
      ]
    },
    {
      "cell_type": "code",
      "execution_count": 2,
      "metadata": {},
      "outputs": [
        {
          "data": {
            "text/plain": [
              "['/a', '/c/d', '/c/f']"
            ]
          },
          "execution_count": 2,
          "metadata": {},
          "output_type": "execute_result"
        }
      ],
      "source": [
        "folder = [\"/a\", \"/a/b\", \"/c/d\", \"/c/d/e\", \"/c/f\"]\n",
        "Solution().removeSubfolders(folder=folder)"
      ]
    },
    {
      "cell_type": "code",
      "execution_count": 3,
      "metadata": {},
      "outputs": [
        {
          "data": {
            "text/plain": [
              "['/a']"
            ]
          },
          "execution_count": 3,
          "metadata": {},
          "output_type": "execute_result"
        }
      ],
      "source": [
        "folder = [\"/a\", \"/a/b/c\", \"/a/b/d\"]\n",
        "Solution().removeSubfolders(folder=folder)"
      ]
    },
    {
      "cell_type": "code",
      "execution_count": 4,
      "metadata": {},
      "outputs": [
        {
          "data": {
            "text/plain": [
              "['/a/b/c', '/a/b/ca', '/a/b/d']"
            ]
          },
          "execution_count": 4,
          "metadata": {},
          "output_type": "execute_result"
        }
      ],
      "source": [
        "folder = [\"/a/b/c\", \"/a/b/ca\", \"/a/b/d\"]\n",
        "Solution().removeSubfolders(folder=folder)"
      ]
    }
  ],
  "metadata": {
    "kernelspec": {
      "display_name": "base",
      "language": "python",
      "name": "python3"
    },
    "language_info": {
      "codemirror_mode": {
        "name": "ipython",
        "version": 3
      },
      "file_extension": ".py",
      "mimetype": "text/x-python",
      "name": "python",
      "nbconvert_exporter": "python",
      "pygments_lexer": "ipython3",
      "version": "3.11.7"
    }
  },
  "nbformat": 4,
  "nbformat_minor": 2
}
