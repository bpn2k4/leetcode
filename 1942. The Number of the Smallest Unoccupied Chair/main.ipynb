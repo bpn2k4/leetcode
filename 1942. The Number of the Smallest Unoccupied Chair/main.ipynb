{
  "cells": [
    {
      "cell_type": "code",
      "execution_count": 1,
      "metadata": {},
      "outputs": [],
      "source": [
        "from typing import List\n",
        "\n",
        "\n",
        "class Solution:\n",
        "  def smallestChair(self, times: List[List[int]], targetFriend: int) -> int:\n",
        "    \n",
        "    friends = [(index, arrival, leaving) for index, (arrival, leaving) in enumerate(times)]\n",
        "    friends.sort(key=lambda x: x[1])\n",
        "\n",
        "    chars = []\n",
        "    timestamp = 0\n",
        "    for index, arrival, leaving in friends:\n",
        "      timestamp = arrival\n",
        "      i = -1\n",
        "      for j in range(len(chars)):\n",
        "        if chars[j] is not None:\n",
        "          if chars[j] <= timestamp:\n",
        "            chars[j] = None\n",
        "      for j in range(len(chars)):\n",
        "        if chars[j] is None:\n",
        "          i = j\n",
        "          break\n",
        "      \n",
        "      if index == targetFriend:\n",
        "        return i if i != -1 else len(chars)\n",
        "      \n",
        "      if i == -1:\n",
        "        chars.append(leaving)\n",
        "      else:\n",
        "        chars[i] = leaving"
      ]
    },
    {
      "cell_type": "code",
      "execution_count": 2,
      "metadata": {},
      "outputs": [
        {
          "data": {
            "text/plain": [
              "1"
            ]
          },
          "execution_count": 2,
          "metadata": {},
          "output_type": "execute_result"
        }
      ],
      "source": [
        "times = [[1, 4], [2, 3], [4, 6]]\n",
        "targetFriend = 1\n",
        "Solution().smallestChair(times=times, targetFriend=targetFriend)"
      ]
    },
    {
      "cell_type": "code",
      "execution_count": 3,
      "metadata": {},
      "outputs": [
        {
          "data": {
            "text/plain": [
              "2"
            ]
          },
          "execution_count": 3,
          "metadata": {},
          "output_type": "execute_result"
        }
      ],
      "source": [
        "times = [[3, 10], [1, 5], [2, 6]]\n",
        "targetFriend = 0\n",
        "Solution().smallestChair(times=times, targetFriend=targetFriend)"
      ]
    },
    {
      "cell_type": "code",
      "execution_count": 4,
      "metadata": {},
      "outputs": [
        {
          "data": {
            "text/plain": [
              "2"
            ]
          },
          "execution_count": 4,
          "metadata": {},
          "output_type": "execute_result"
        }
      ],
      "source": [
        "times = [[33889,98676],[80071,89737],[44118,52565],[52992,84310],[78492,88209],[21695,67063],[84622,95452],[98048,98856],[98411,99433],[55333,56548],[65375,88566],[55011,62821],[48548,48656],[87396,94825],[55273,81868],[75629,91467]]\n",
        "targetFriend = 6\n",
        "Solution().smallestChair(times=times, targetFriend=targetFriend)"
      ]
    }
  ],
  "metadata": {
    "kernelspec": {
      "display_name": "base",
      "language": "python",
      "name": "python3"
    },
    "language_info": {
      "codemirror_mode": {
        "name": "ipython",
        "version": 3
      },
      "file_extension": ".py",
      "mimetype": "text/x-python",
      "name": "python",
      "nbconvert_exporter": "python",
      "pygments_lexer": "ipython3",
      "version": "3.11.7"
    }
  },
  "nbformat": 4,
  "nbformat_minor": 2
}
