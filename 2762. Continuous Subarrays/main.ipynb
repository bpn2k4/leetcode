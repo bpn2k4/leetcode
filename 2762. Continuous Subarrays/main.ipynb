{
  "cells": [
    {
      "cell_type": "code",
      "execution_count": 1,
      "metadata": {},
      "outputs": [],
      "source": [
        "from typing import List\n",
        "from collections import deque\n",
        "\n",
        "\n",
        "class Solution:\n",
        "  def continuousSubarrays(self, nums: List[int]) -> int:\n",
        "\n",
        "    n = len(nums)\n",
        "    left = 0\n",
        "    total = 0\n",
        "    min_deque, max_deque = deque(), deque()\n",
        "\n",
        "    for right in range(n):\n",
        "      while min_deque and nums[min_deque[-1]] > nums[right]:\n",
        "        min_deque.pop()\n",
        "      min_deque.append(right)\n",
        "\n",
        "      while max_deque and nums[max_deque[-1]] < nums[right]:\n",
        "        max_deque.pop()\n",
        "      max_deque.append(right)\n",
        "\n",
        "      while nums[max_deque[0]] - nums[min_deque[0]] > 2:\n",
        "        left += 1\n",
        "        if min_deque[0] < left:\n",
        "          min_deque.popleft()\n",
        "        if max_deque[0] < left:\n",
        "          max_deque.popleft()\n",
        "\n",
        "      total += (right - left + 1)\n",
        "\n",
        "    return total\n",
        "\n",
        "  def continuousSubarrays(self, nums: List[int]) -> int:\n",
        "\n",
        "    n = len(nums)\n",
        "    total = 0\n",
        "    left = 0\n",
        "    num2index = {}\n",
        "    for i in range(n):\n",
        "      tmp = num2index.copy()\n",
        "      for num, index in tmp.items():\n",
        "        if abs(num - nums[i]) > 2:\n",
        "          left = max(left, index + 1)\n",
        "          num2index.pop(num)\n",
        "\n",
        "      num2index[nums[i]] = i\n",
        "      total += i - left + 1\n",
        "\n",
        "    return total\n"
      ]
    },
    {
      "cell_type": "code",
      "execution_count": 2,
      "metadata": {},
      "outputs": [
        {
          "data": {
            "text/plain": [
              "8"
            ]
          },
          "execution_count": 2,
          "metadata": {},
          "output_type": "execute_result"
        }
      ],
      "source": [
        "nums = [5, 4, 2, 4]\n",
        "Solution().continuousSubarrays(nums=nums)"
      ]
    },
    {
      "cell_type": "code",
      "execution_count": 3,
      "metadata": {},
      "outputs": [
        {
          "data": {
            "text/plain": [
              "6"
            ]
          },
          "execution_count": 3,
          "metadata": {},
          "output_type": "execute_result"
        }
      ],
      "source": [
        "nums = [1, 2, 3]\n",
        "Solution().continuousSubarrays(nums=nums)"
      ]
    }
  ],
  "metadata": {
    "kernelspec": {
      "display_name": "base",
      "language": "python",
      "name": "python3"
    },
    "language_info": {
      "codemirror_mode": {
        "name": "ipython",
        "version": 3
      },
      "file_extension": ".py",
      "mimetype": "text/x-python",
      "name": "python",
      "nbconvert_exporter": "python",
      "pygments_lexer": "ipython3",
      "version": "3.11.7"
    }
  },
  "nbformat": 4,
  "nbformat_minor": 2
}
