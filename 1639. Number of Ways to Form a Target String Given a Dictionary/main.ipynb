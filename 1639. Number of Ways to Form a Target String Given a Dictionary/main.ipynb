{
  "cells": [
    {
      "cell_type": "code",
      "execution_count": 1,
      "metadata": {},
      "outputs": [],
      "source": [
        "from typing import List\n",
        "\n",
        "\n",
        "class Solution:\n",
        "  def numWays(self, words: List[str], target: str) -> int:\n",
        "\n",
        "    MOD = 10**9 + 7\n",
        "    m, n = len(target), len(words[0])\n",
        "    count = [[0] * 26 for _ in range(n)]\n",
        "    for word in words:\n",
        "      for j, c in enumerate(word):\n",
        "        count[j][ord(c) - ord('a')] += 1\n",
        "\n",
        "    dp = [[0] * (n + 1) for _ in range(m + 1)]\n",
        "    dp[0][0] = 1\n",
        "\n",
        "    for j in range(n + 1):\n",
        "      dp[0][j] = 1\n",
        "\n",
        "    for i in range(1, m + 1):\n",
        "      for j in range(1, n + 1):\n",
        "        dp[i][j] = dp[i][j-1]\n",
        "        target_char = target[i-1]\n",
        "        count_char = count[j-1][ord(target_char) - ord('a')]\n",
        "        dp[i][j] = (dp[i][j] + dp[i-1][j-1] * count_char) % MOD\n",
        "\n",
        "    return dp[m][n]"
      ]
    },
    {
      "cell_type": "code",
      "execution_count": 2,
      "metadata": {},
      "outputs": [
        {
          "data": {
            "text/plain": [
              "6"
            ]
          },
          "execution_count": 2,
          "metadata": {},
          "output_type": "execute_result"
        }
      ],
      "source": [
        "words = [\"acca\", \"bbbb\", \"caca\"]\n",
        "target = \"aba\"\n",
        "Solution().numWays(words=words, target=target)"
      ]
    },
    {
      "cell_type": "code",
      "execution_count": 3,
      "metadata": {},
      "outputs": [
        {
          "data": {
            "text/plain": [
              "4"
            ]
          },
          "execution_count": 3,
          "metadata": {},
          "output_type": "execute_result"
        }
      ],
      "source": [
        "words = [\"abba\", \"baab\"]\n",
        "target = \"bab\"\n",
        "Solution().numWays(words=words, target=target)"
      ]
    },
    {
      "cell_type": "code",
      "execution_count": 4,
      "metadata": {},
      "outputs": [
        {
          "name": "stdout",
          "output_type": "stream",
          "text": [
            "0\n",
            "0\n"
          ]
        }
      ],
      "source": [
        "def numWays(words, target):\n",
        "    MOD = 10**9 + 7\n",
        "    m, n = len(words), len(words[0])  # số chuỗi và độ dài chuỗi\n",
        "    t_len = len(target)\n",
        "\n",
        "    # Bước 1: Tính tần suất ký tự tại mỗi cột\n",
        "    freq = [[0] * 26 for _ in range(n)]\n",
        "    for word in words:\n",
        "        for i, char in enumerate(word):\n",
        "            freq[i][ord(char) - ord('a')] += 1\n",
        "\n",
        "    # Bước 2: Quy hoạch động\n",
        "    dp = [0] * (n + 1)\n",
        "    dp[n] = 1  # dp[n] = 1 nghĩa là không cần ký tự nào từ `target` có 1 cách (trường hợp cơ bản)\n",
        "\n",
        "    for t in range(t_len - 1, -1, -1):\n",
        "        new_dp = [0] * (n + 1)\n",
        "        for i in range(n - 1, -1, -1):\n",
        "            # Không chọn ký tự tại cột `i`\n",
        "            new_dp[i] = dp[i + 1]\n",
        "            # Chọn ký tự tại cột `i`\n",
        "            char_index = ord(target[t]) - ord('a')\n",
        "            if freq[i][char_index] > 0:\n",
        "                new_dp[i] += freq[i][char_index] * dp[i + 1]\n",
        "                new_dp[i] %= MOD\n",
        "        dp = new_dp\n",
        "\n",
        "    return dp[0]\n",
        "\n",
        "# Test\n",
        "print(numWays([\"acca\", \"bbbb\", \"caca\"], \"aba\"))  # Output: 6\n",
        "print(numWays([\"abba\", \"baab\"], \"bab\"))          # Output: 4\n"
      ]
    }
  ],
  "metadata": {
    "kernelspec": {
      "display_name": "base",
      "language": "python",
      "name": "python3"
    },
    "language_info": {
      "codemirror_mode": {
        "name": "ipython",
        "version": 3
      },
      "file_extension": ".py",
      "mimetype": "text/x-python",
      "name": "python",
      "nbconvert_exporter": "python",
      "pygments_lexer": "ipython3",
      "version": "3.11.7"
    }
  },
  "nbformat": 4,
  "nbformat_minor": 2
}
