{
 "cells": [
  {
   "cell_type": "code",
   "execution_count": 1,
   "metadata": {},
   "outputs": [],
   "source": [
    "from typing import List\n",
    "from collections import deque\n",
    "\n",
    "class Solution:\n",
    "  def shortestDistanceAfterQueries(self, n: int, queries: List[List[int]]) -> List[int]:\n",
    "    \n",
    "    node2neighbors = {i: [i + 1] for i in range(n - 1)}\n",
    "\n",
    "    def bfs(node: int) -> int:\n",
    "      queue = deque()\n",
    "      queue.append((node, 0))\n",
    "      visited = {}\n",
    "      while queue:\n",
    "        node, path_length = queue.popleft()\n",
    "        visited[node] = 1\n",
    "        if node == n - 1:\n",
    "          return path_length\n",
    "   \n",
    "        for neighbor in node2neighbors[node]:\n",
    "          if neighbor not in visited:\n",
    "            queue.append((neighbor, path_length + 1))\n",
    "\n",
    "    answers = []\n",
    "\n",
    "    for u, v in queries:\n",
    "      node2neighbors[u].append(v)\n",
    "      shortest_path_length = bfs(0)\n",
    "      answers.append(shortest_path_length)\n",
    "\n",
    "    return answers"
   ]
  },
  {
   "cell_type": "code",
   "execution_count": 2,
   "metadata": {},
   "outputs": [
    {
     "data": {
      "text/plain": [
       "[3, 2, 1]"
      ]
     },
     "execution_count": 2,
     "metadata": {},
     "output_type": "execute_result"
    }
   ],
   "source": [
    "n = 5\n",
    "queries = [[2, 4], [0, 2], [0, 4]]\n",
    "Solution().shortestDistanceAfterQueries(n=n, queries=queries)"
   ]
  },
  {
   "cell_type": "code",
   "execution_count": 3,
   "metadata": {},
   "outputs": [
    {
     "data": {
      "text/plain": [
       "[1, 1]"
      ]
     },
     "execution_count": 3,
     "metadata": {},
     "output_type": "execute_result"
    }
   ],
   "source": [
    "n = 4\n",
    "queries = [[0, 3], [0, 2]]\n",
    "Solution().shortestDistanceAfterQueries(n=n, queries=queries)"
   ]
  },
  {
   "cell_type": "code",
   "execution_count": 4,
   "metadata": {},
   "outputs": [
    {
     "data": {
      "text/plain": [
       "[3, 1]"
      ]
     },
     "execution_count": 4,
     "metadata": {},
     "output_type": "execute_result"
    }
   ],
   "source": [
    "n = 5\n",
    "queries = [[0, 2], [0, 4]]\n",
    "Solution().shortestDistanceAfterQueries(n=n, queries=queries)"
   ]
  },
  {
   "cell_type": "code",
   "execution_count": 5,
   "metadata": {},
   "outputs": [
    {
     "data": {
      "text/plain": [
       "[3, 2]"
      ]
     },
     "execution_count": 5,
     "metadata": {},
     "output_type": "execute_result"
    }
   ],
   "source": [
    "n = 5\n",
    "queries = [[1,3],[0,3]]\n",
    "Solution().shortestDistanceAfterQueries(n=n, queries=queries)"
   ]
  }
 ],
 "metadata": {
  "kernelspec": {
   "display_name": "base",
   "language": "python",
   "name": "python3"
  },
  "language_info": {
   "codemirror_mode": {
    "name": "ipython",
    "version": 3
   },
   "file_extension": ".py",
   "mimetype": "text/x-python",
   "name": "python",
   "nbconvert_exporter": "python",
   "pygments_lexer": "ipython3",
   "version": "3.11.7"
  }
 },
 "nbformat": 4,
 "nbformat_minor": 2
}
