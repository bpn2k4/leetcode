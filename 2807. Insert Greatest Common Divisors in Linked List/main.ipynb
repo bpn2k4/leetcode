{
 "cells": [
  {
   "cell_type": "code",
   "execution_count": 1,
   "metadata": {},
   "outputs": [],
   "source": [
    "from typing import Optional\n",
    "\n",
    "\n",
    "class ListNode:\n",
    "  def __init__(self, val=0, next=None):\n",
    "    self.val = val\n",
    "    self.next: Optional[ListNode] = next\n",
    "\n",
    "\n",
    "class Solution:\n",
    "  def insertGreatestCommonDivisors(self, head: Optional[ListNode]) -> Optional[ListNode]:\n",
    "\n",
    "    def gcd(a: int, b: int) -> int:\n",
    "      if b == 0:\n",
    "        return a\n",
    "      return gcd(b, a % b)\n",
    "\n",
    "    pointer = head\n",
    "    first = head.val\n",
    "    while pointer:\n",
    "      if pointer.next is not None:\n",
    "        second = pointer.next.val\n",
    "        value = gcd(first, second)\n",
    "        tmp = pointer.next\n",
    "        pointer.next = ListNode(value)\n",
    "        pointer.next.next = tmp\n",
    "        first = tmp.val\n",
    "        pointer = pointer.next.next\n",
    "      else:\n",
    "        break\n",
    "      \n",
    "    return head"
   ]
  },
  {
   "cell_type": "code",
   "execution_count": 2,
   "metadata": {},
   "outputs": [],
   "source": [
    "def print_list(head: ListNode):\n",
    "  node = head\n",
    "  while node:\n",
    "    print(node.val, end=' -> ' if node.next else '')\n",
    "    node = node.next\n",
    "  print()"
   ]
  },
  {
   "cell_type": "code",
   "execution_count": 3,
   "metadata": {},
   "outputs": [
    {
     "name": "stdout",
     "output_type": "stream",
     "text": [
      "18 -> 6 -> 6 -> 2 -> 10 -> 1 -> 3\n"
     ]
    }
   ],
   "source": [
    "head = ListNode(18)\n",
    "head.next = ListNode(6)\n",
    "head.next.next = ListNode(10)\n",
    "head.next.next.next = ListNode(3)\n",
    "print_list(Solution().insertGreatestCommonDivisors(head=head))"
   ]
  },
  {
   "cell_type": "code",
   "execution_count": 4,
   "metadata": {},
   "outputs": [
    {
     "name": "stdout",
     "output_type": "stream",
     "text": [
      "7\n"
     ]
    }
   ],
   "source": [
    "head = ListNode(7)\n",
    "print_list(Solution().insertGreatestCommonDivisors(head=head))"
   ]
  }
 ],
 "metadata": {
  "kernelspec": {
   "display_name": "base",
   "language": "python",
   "name": "python3"
  },
  "language_info": {
   "codemirror_mode": {
    "name": "ipython",
    "version": 3
   },
   "file_extension": ".py",
   "mimetype": "text/x-python",
   "name": "python",
   "nbconvert_exporter": "python",
   "pygments_lexer": "ipython3",
   "version": "3.11.7"
  }
 },
 "nbformat": 4,
 "nbformat_minor": 2
}
