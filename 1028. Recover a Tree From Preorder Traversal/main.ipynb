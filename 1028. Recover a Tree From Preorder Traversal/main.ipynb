{
 "cells": [
  {
   "cell_type": "code",
   "execution_count": null,
   "metadata": {},
   "outputs": [],
   "source": [
    "from typing import Optional\n",
    "\n",
    "\n",
    "class TreeNode:\n",
    "  def __init__(self, val=0, left=None, right=None):\n",
    "    self.val = val\n",
    "    self.left: Optional[TreeNode] = left\n",
    "    self.right: Optional[TreeNode] = right\n",
    "\n",
    "\n",
    "class Solution:\n",
    "  def recoverFromPreorder(self, traversal: str) -> Optional[TreeNode]:\n",
    "    \n",
    "    self.index = 0\n",
    "\n",
    "    return self.build_tree(traversal, 0)\n",
    "\n",
    "  def build_tree(self, traversal, depth) -> Optional[TreeNode]:\n",
    "    if self.index >= len(traversal):\n",
    "      return None\n",
    "\n",
    "    dash_count = 0\n",
    "    while self.index + dash_count < len(traversal)and traversal[self.index + dash_count] == \"-\":\n",
    "      dash_count += 1\n",
    "\n",
    "    if dash_count != depth:\n",
    "      return None\n",
    "\n",
    "    self.index += dash_count\n",
    "\n",
    "    value = 0\n",
    "    while self.index < len(traversal) and traversal[self.index].isdigit():\n",
    "      value = value * 10 + int(traversal[self.index])\n",
    "      self.index += 1\n",
    "\n",
    "    node = TreeNode(value)\n",
    "    node.left = self.build_tree(traversal, depth + 1)\n",
    "    node.right = self.build_tree(traversal, depth + 1)\n",
    "\n",
    "    return node"
   ]
  },
  {
   "cell_type": "code",
   "execution_count": 2,
   "metadata": {},
   "outputs": [],
   "source": [
    "def print_tree(root: TreeNode):\n",
    "  if not root:\n",
    "    print([])\n",
    "  result = []\n",
    "  q = [root]\n",
    "  while q:\n",
    "    node = q.pop(0)\n",
    "    if node:\n",
    "      result.append(node.val)\n",
    "      q.append(node.left)\n",
    "      q.append(node.right)\n",
    "    else:\n",
    "      result.append(None)\n",
    "  while result and result[-1] is None:\n",
    "    result.pop()\n",
    "  print(result)"
   ]
  },
  {
   "cell_type": "code",
   "execution_count": 3,
   "metadata": {},
   "outputs": [
    {
     "name": "stdout",
     "output_type": "stream",
     "text": [
      "[1, 2, 5, 3, 4, 6, 7]\n"
     ]
    }
   ],
   "source": [
    "traversal = \"1-2--3--4-5--6--7\"\n",
    "print_tree(Solution().recoverFromPreorder(traversal=traversal))"
   ]
  },
  {
   "cell_type": "code",
   "execution_count": 4,
   "metadata": {},
   "outputs": [
    {
     "name": "stdout",
     "output_type": "stream",
     "text": [
      "[1, 2, 5, 3, None, 6, None, 4, None, 7]\n"
     ]
    }
   ],
   "source": [
    "traversal = \"1-2--3---4-5--6---7\"\n",
    "print_tree(Solution().recoverFromPreorder(traversal=traversal))"
   ]
  },
  {
   "cell_type": "code",
   "execution_count": 5,
   "metadata": {},
   "outputs": [
    {
     "name": "stdout",
     "output_type": "stream",
     "text": [
      "[1, 401, None, 349, 88, 90]\n"
     ]
    }
   ],
   "source": [
    "traversal = traversal = \"1-401--349---90--88\"\n",
    "print_tree(Solution().recoverFromPreorder(traversal=traversal))"
   ]
  }
 ],
 "metadata": {
  "kernelspec": {
   "display_name": "Python 3",
   "language": "python",
   "name": "python3"
  },
  "language_info": {
   "codemirror_mode": {
    "name": "ipython",
    "version": 3
   },
   "file_extension": ".py",
   "mimetype": "text/x-python",
   "name": "python",
   "nbconvert_exporter": "python",
   "pygments_lexer": "ipython3",
   "version": "3.12.1"
  }
 },
 "nbformat": 4,
 "nbformat_minor": 2
}
