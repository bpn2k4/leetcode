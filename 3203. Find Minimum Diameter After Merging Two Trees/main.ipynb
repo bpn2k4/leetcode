{
  "cells": [
    {
      "cell_type": "code",
      "execution_count": 1,
      "metadata": {},
      "outputs": [],
      "source": [
        "from collections import deque\n",
        "from typing import List\n",
        "\n",
        "\n",
        "class Solution:\n",
        "  def minimumDiameterAfterMerge(self, edges1: List[List[int]], edges2: List[List[int]]) -> int:\n",
        "\n",
        "    n = len(edges1) + 1\n",
        "    m = len(edges2) + 1\n",
        "    graph1 = {i: [] for i in range(n)}\n",
        "    graph2 = {i: [] for i in range(m)}\n",
        "\n",
        "    for u, v in edges1:\n",
        "      graph1[u].append(v)\n",
        "      graph1[v].append(u)\n",
        "\n",
        "    for u, v in edges2:\n",
        "      graph2[u].append(v)\n",
        "      graph2[v].append(u)\n",
        "\n",
        "    def bfs(start_node, graph, n):\n",
        "      visited = [-1] * n\n",
        "      queue = deque([start_node])\n",
        "      visited[start_node] = 0\n",
        "      farthest_node = start_node\n",
        "\n",
        "      while queue:\n",
        "        node = queue.popleft()\n",
        "        for neighbor in graph[node]:\n",
        "          if visited[neighbor] == -1:\n",
        "            visited[neighbor] = visited[node] + 1\n",
        "            queue.append(neighbor)\n",
        "            farthest_node = neighbor\n",
        "\n",
        "      return farthest_node, visited[farthest_node]\n",
        "\n",
        "    farthest1, _ = bfs(0, graph1, n)\n",
        "    _, longest_path_length1 = bfs(farthest1, graph1, n)\n",
        "\n",
        "    farthest2, _ = bfs(0, graph2, m)\n",
        "    _, longest_path_length2 = bfs(farthest2, graph2, m)\n",
        "\n",
        "    return max((longest_path_length1+1)//2 + (longest_path_length2+1)//2 + 1, longest_path_length1, longest_path_length2)"
      ]
    },
    {
      "cell_type": "code",
      "execution_count": 2,
      "metadata": {},
      "outputs": [
        {
          "data": {
            "text/plain": [
              "3"
            ]
          },
          "execution_count": 2,
          "metadata": {},
          "output_type": "execute_result"
        }
      ],
      "source": [
        "edges1 = [[0, 1], [0, 2], [0, 3]]\n",
        "edges2 = [[0, 1]]\n",
        "Solution().minimumDiameterAfterMerge(edges1=edges1, edges2=edges2)"
      ]
    },
    {
      "cell_type": "code",
      "execution_count": 3,
      "metadata": {},
      "outputs": [
        {
          "data": {
            "text/plain": [
              "5"
            ]
          },
          "execution_count": 3,
          "metadata": {},
          "output_type": "execute_result"
        }
      ],
      "source": [
        "edges1 = [[0, 1], [0, 2], [0, 3], [2, 4], [2, 5], [3, 6], [2, 7]]\n",
        "edges2 = [[0, 1], [0, 2], [0, 3], [2, 4], [2, 5], [3, 6], [2, 7]]\n",
        "Solution().minimumDiameterAfterMerge(edges1=edges1, edges2=edges2)"
      ]
    }
  ],
  "metadata": {
    "kernelspec": {
      "display_name": "base",
      "language": "python",
      "name": "python3"
    },
    "language_info": {
      "codemirror_mode": {
        "name": "ipython",
        "version": 3
      },
      "file_extension": ".py",
      "mimetype": "text/x-python",
      "name": "python",
      "nbconvert_exporter": "python",
      "pygments_lexer": "ipython3",
      "version": "3.11.7"
    }
  },
  "nbformat": 4,
  "nbformat_minor": 2
}
