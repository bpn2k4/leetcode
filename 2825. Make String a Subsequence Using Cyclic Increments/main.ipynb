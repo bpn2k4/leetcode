{
 "cells": [
  {
   "cell_type": "code",
   "execution_count": null,
   "metadata": {},
   "outputs": [],
   "source": [
    "class Solution:\n",
    "  def canMakeSubsequence(self, str1: str, str2: str) -> bool:\n",
    "\n",
    "    char2prev_char = {\n",
    "        'a': 'z', 'b': 'a', 'c': 'b', 'd': 'c',\n",
    "        'e': 'd', 'f': 'e', 'g': 'f', 'h': 'g',\n",
    "        'i': 'h', 'j': 'i', 'k': 'j', 'l': 'k',\n",
    "        'm': 'l', 'n': 'm', 'o': 'n', 'p': 'o',\n",
    "        'q': 'p', 'r': 'q', 's': 'r', 't': 's',\n",
    "        'u': 't', 'v': 'u', 'w': 'v', 'x': 'w',\n",
    "        'y': 'x', 'z': 'y',\n",
    "    }\n",
    "\n",
    "    s1_length, s2_length = len(str1), len(str2)\n",
    "    i, j = 0, 0\n",
    "    while i < s1_length and j < s2_length:\n",
    "      s1_char = str1[i]\n",
    "      s2_char = str2[j]\n",
    "      if s1_char == s2_char or s1_char == char2prev_char[s2_char]:\n",
    "        i += 1\n",
    "        j += 1\n",
    "      else:\n",
    "        i += 1\n",
    "\n",
    "    return j == s2_length  "
   ]
  },
  {
   "cell_type": "code",
   "execution_count": 2,
   "metadata": {},
   "outputs": [
    {
     "data": {
      "text/plain": [
       "True"
      ]
     },
     "execution_count": 2,
     "metadata": {},
     "output_type": "execute_result"
    }
   ],
   "source": [
    "str1 = \"abc\"\n",
    "str2 = \"ad\"\n",
    "Solution().canMakeSubsequence(str1=str1, str2=str2)"
   ]
  },
  {
   "cell_type": "code",
   "execution_count": 3,
   "metadata": {},
   "outputs": [
    {
     "data": {
      "text/plain": [
       "True"
      ]
     },
     "execution_count": 3,
     "metadata": {},
     "output_type": "execute_result"
    }
   ],
   "source": [
    "str1 = \"zc\"\n",
    "str2 = \"ad\"\n",
    "Solution().canMakeSubsequence(str1=str1, str2=str2)"
   ]
  },
  {
   "cell_type": "code",
   "execution_count": 4,
   "metadata": {},
   "outputs": [
    {
     "data": {
      "text/plain": [
       "False"
      ]
     },
     "execution_count": 4,
     "metadata": {},
     "output_type": "execute_result"
    }
   ],
   "source": [
    "str1 = \"ab\"\n",
    "str2 = \"d\"\n",
    "Solution().canMakeSubsequence(str1=str1, str2=str2)"
   ]
  }
 ],
 "metadata": {
  "kernelspec": {
   "display_name": "base",
   "language": "python",
   "name": "python3"
  },
  "language_info": {
   "codemirror_mode": {
    "name": "ipython",
    "version": 3
   },
   "file_extension": ".py",
   "mimetype": "text/x-python",
   "name": "python",
   "nbconvert_exporter": "python",
   "pygments_lexer": "ipython3",
   "version": "3.11.7"
  }
 },
 "nbformat": 4,
 "nbformat_minor": 2
}
