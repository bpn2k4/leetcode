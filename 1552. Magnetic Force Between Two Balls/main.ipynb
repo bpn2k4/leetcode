{
 "cells": [
  {
   "cell_type": "code",
   "execution_count": 1,
   "metadata": {},
   "outputs": [],
   "source": [
    "from typing import List\n",
    "\n",
    "\n",
    "class Solution:\n",
    "  def maxDistance(self, position: List[int], m: int) -> int:\n",
    "\n",
    "    n = len(position)\n",
    "    position.sort()\n",
    "\n",
    "    low, high = 1, position[-1] - position[0]\n",
    "    while low <= high:\n",
    "      mid = (low + high) // 2\n",
    "      count = 1\n",
    "      last = position[0]\n",
    "      for i in range(1, n):\n",
    "        if position[i] - last >= mid:\n",
    "          count += 1\n",
    "          last = position[i]\n",
    "      if count >= m:\n",
    "        low = mid + 1\n",
    "      else:\n",
    "        high = mid - 1\n",
    " \n",
    "    return high"
   ]
  },
  {
   "cell_type": "code",
   "execution_count": 2,
   "metadata": {},
   "outputs": [
    {
     "data": {
      "text/plain": [
       "3"
      ]
     },
     "execution_count": 2,
     "metadata": {},
     "output_type": "execute_result"
    }
   ],
   "source": [
    "Solution().maxDistance(position=[1, 2, 3, 4, 7], m=3)"
   ]
  },
  {
   "cell_type": "code",
   "execution_count": 3,
   "metadata": {},
   "outputs": [
    {
     "data": {
      "text/plain": [
       "999999999"
      ]
     },
     "execution_count": 3,
     "metadata": {},
     "output_type": "execute_result"
    }
   ],
   "source": [
    "Solution().maxDistance(position=[5, 4, 3, 2, 1, 1000000000], m=2)"
   ]
  },
  {
   "cell_type": "code",
   "execution_count": 4,
   "metadata": {},
   "outputs": [
    {
     "data": {
      "text/plain": [
       "3"
      ]
     },
     "execution_count": 4,
     "metadata": {},
     "output_type": "execute_result"
    }
   ],
   "source": [
    "Solution().maxDistance(position=[1, 2, 3, 4, 5, 6, 7, 8, 9, 10], m=4)"
   ]
  }
 ],
 "metadata": {
  "kernelspec": {
   "display_name": "base",
   "language": "python",
   "name": "python3"
  },
  "language_info": {
   "codemirror_mode": {
    "name": "ipython",
    "version": 3
   },
   "file_extension": ".py",
   "mimetype": "text/x-python",
   "name": "python",
   "nbconvert_exporter": "python",
   "pygments_lexer": "ipython3",
   "version": "3.11.7"
  }
 },
 "nbformat": 4,
 "nbformat_minor": 2
}
