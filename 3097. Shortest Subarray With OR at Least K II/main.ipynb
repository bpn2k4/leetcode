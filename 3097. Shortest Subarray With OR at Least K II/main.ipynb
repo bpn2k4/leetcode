{
 "cells": [
  {
   "cell_type": "code",
   "execution_count": null,
   "metadata": {},
   "outputs": [],
   "source": [
    "from typing import List\n",
    "\n",
    "\n",
    "class Solution:\n",
    "  def minimumSubarrayLength(self, nums: List[int], k: int) -> int:\n",
    "    \n",
    "    if k == 0:\n",
    "      return 1\n",
    "\n",
    "    n = len(nums)\n",
    "    bit_count = [0] * 32\n",
    "    left = 0\n",
    "    min_len = float('inf')\n",
    "    curr_or = 0\n",
    "\n",
    "    for right in range(n):\n",
    "      num = nums[right]\n",
    "      curr_or |= num\n",
    "      for bit in range(32):\n",
    "        if num & (1 << bit):\n",
    "          bit_count[bit] += 1\n",
    "\n",
    "      while left <= right and curr_or >= k:\n",
    "        min_len = min(min_len, right - left + 1)\n",
    "\n",
    "        num = nums[left]\n",
    "        temp_or = 0\n",
    "        for bit in range(32):\n",
    "          if num & (1 << bit):\n",
    "            bit_count[bit] -= 1\n",
    "          if bit_count[bit] > 0:\n",
    "            temp_or |= (1 << bit)\n",
    "        curr_or = temp_or\n",
    "        left += 1\n",
    "\n",
    "      if curr_or < k and left > 0:\n",
    "        left -= 1\n",
    "        num = nums[left]\n",
    "        for bit in range(32):\n",
    "          if num & (1 << bit):\n",
    "            bit_count[bit] += 1\n",
    "        curr_or |= num\n",
    "\n",
    "    return min_len if min_len != float('inf') else -1\n",
    "\n",
    "  def minimumSubarrayLength(self, nums: List[int], k: int) -> int:\n",
    "\n",
    "    min_length = 200001\n",
    "    prefix2start_index = {}\n",
    "    for index, num in enumerate(nums):\n",
    "      prefix2start_index = {\n",
    "          (prefix | num): start_index\n",
    "          for prefix, start_index in prefix2start_index.items()\n",
    "      }\n",
    "      prefix2start_index[num] = index\n",
    "      for prefix, start_index in prefix2start_index.items():\n",
    "        if prefix >= k:\n",
    "          min_length = min(min_length, index - start_index + 1)\n",
    "\n",
    "    return min_length if min_length < 200001 else -1"
   ]
  },
  {
   "cell_type": "code",
   "execution_count": 2,
   "metadata": {},
   "outputs": [
    {
     "data": {
      "text/plain": [
       "1"
      ]
     },
     "execution_count": 2,
     "metadata": {},
     "output_type": "execute_result"
    }
   ],
   "source": [
    "nums = [1, 2, 3]\n",
    "k = 2\n",
    "Solution().minimumSubarrayLength(nums=nums, k=k)"
   ]
  },
  {
   "cell_type": "code",
   "execution_count": 3,
   "metadata": {},
   "outputs": [
    {
     "data": {
      "text/plain": [
       "3"
      ]
     },
     "execution_count": 3,
     "metadata": {},
     "output_type": "execute_result"
    }
   ],
   "source": [
    "nums = [2, 1, 8]\n",
    "k = 10\n",
    "Solution().minimumSubarrayLength(nums=nums, k=k)"
   ]
  },
  {
   "cell_type": "code",
   "execution_count": 4,
   "metadata": {},
   "outputs": [
    {
     "data": {
      "text/plain": [
       "1"
      ]
     },
     "execution_count": 4,
     "metadata": {},
     "output_type": "execute_result"
    }
   ],
   "source": [
    "nums = [1, 2]\n",
    "k = 0\n",
    "Solution().minimumSubarrayLength(nums=nums, k=k)"
   ]
  },
  {
   "cell_type": "code",
   "execution_count": 5,
   "metadata": {},
   "outputs": [
    {
     "data": {
      "text/plain": [
       "3"
      ]
     },
     "execution_count": 5,
     "metadata": {},
     "output_type": "execute_result"
    }
   ],
   "source": [
    "nums = [1, 2, 32, 21]\n",
    "k = 55\n",
    "Solution().minimumSubarrayLength(nums=nums, k=k)"
   ]
  }
 ],
 "metadata": {
  "kernelspec": {
   "display_name": "base",
   "language": "python",
   "name": "python3"
  },
  "language_info": {
   "codemirror_mode": {
    "name": "ipython",
    "version": 3
   },
   "file_extension": ".py",
   "mimetype": "text/x-python",
   "name": "python",
   "nbconvert_exporter": "python",
   "pygments_lexer": "ipython3",
   "version": "3.11.7"
  }
 },
 "nbformat": 4,
 "nbformat_minor": 2
}
