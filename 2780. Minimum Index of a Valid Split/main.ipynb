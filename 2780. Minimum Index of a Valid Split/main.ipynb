{
  "cells": [
    {
      "cell_type": "code",
      "execution_count": 1,
      "metadata": {},
      "outputs": [],
      "source": [
        "from typing import List\n",
        "from collections import Counter\n",
        "\n",
        "\n",
        "class Solution:\n",
        "  def minimumIndex(self, nums: List[int]) -> int:\n",
        "    \n",
        "    n = len(nums)\n",
        "    counter = Counter(nums)\n",
        "    num, count = max(counter.items(), key=lambda x: (x[1], x[0]))\n",
        "    total = 0\n",
        "    for i in range(n):\n",
        "      if nums[i] == num:\n",
        "        total += 1\n",
        "      remain = count - total\n",
        "      if total > i - total + 1 and remain > (n - i - 1 - remain):\n",
        "        return i\n",
        "      \n",
        "    return -1"
      ]
    },
    {
      "cell_type": "code",
      "execution_count": 2,
      "metadata": {},
      "outputs": [
        {
          "data": {
            "text/plain": [
              "2"
            ]
          },
          "execution_count": 2,
          "metadata": {},
          "output_type": "execute_result"
        }
      ],
      "source": [
        "nums = [1, 2, 2, 2]\n",
        "Solution().minimumIndex(nums=nums)"
      ]
    },
    {
      "cell_type": "code",
      "execution_count": 3,
      "metadata": {},
      "outputs": [
        {
          "data": {
            "text/plain": [
              "4"
            ]
          },
          "execution_count": 3,
          "metadata": {},
          "output_type": "execute_result"
        }
      ],
      "source": [
        "nums = [2, 1, 3, 1, 1, 1, 7, 1, 2, 1]\n",
        "Solution().minimumIndex(nums=nums)"
      ]
    },
    {
      "cell_type": "code",
      "execution_count": 4,
      "metadata": {},
      "outputs": [
        {
          "data": {
            "text/plain": [
              "-1"
            ]
          },
          "execution_count": 4,
          "metadata": {},
          "output_type": "execute_result"
        }
      ],
      "source": [
        "nums = [3, 3, 3, 3, 7, 2, 2]\n",
        "Solution().minimumIndex(nums=nums)"
      ]
    }
  ],
  "metadata": {
    "kernelspec": {
      "display_name": "Python 3",
      "language": "python",
      "name": "python3"
    },
    "language_info": {
      "codemirror_mode": {
        "name": "ipython",
        "version": 3
      },
      "file_extension": ".py",
      "mimetype": "text/x-python",
      "name": "python",
      "nbconvert_exporter": "python",
      "pygments_lexer": "ipython3",
      "version": "3.12.1"
    }
  },
  "nbformat": 4,
  "nbformat_minor": 2
}
