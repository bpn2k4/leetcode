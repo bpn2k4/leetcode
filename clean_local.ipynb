{
  "cells": [
    {
      "cell_type": "code",
      "metadata": {},
      "outputs": [],
      "source": [
        "import os"
      ]
    },
    {
      "cell_type": "code",
      "metadata": {},
      "outputs": [],
      "source": [
        "for dir in os.listdir('.'):\n",
        "  if os.path.isdir(dir) and dir != '.git' and dir != '000. DSA' and dir != '_template':\n",
        "    try:\n",
        "      os.remove(os.path.join(dir, '_input.txt'))\n",
        "      os.remove(os.path.join(dir, '_make_question.ipynb'))\n",
        "    except:\n",
        "      pass\n",
        "  else:\n",
        "    pass"
      ]
    }
  ],
  "metadata": {
    "kernelspec": {
      "display_name": "base",
      "language": "python",
      "name": "python3"
    },
    "language_info": {
      "codemirror_mode": {
        "name": "ipython",
        "version": 3
      },
      "file_extension": ".py",
      "mimetype": "text/x-python",
      "name": "python",
      "nbconvert_exporter": "python",
      "pygments_lexer": "ipython3",
      "version": "3.11.7"
    }
  },
  "nbformat": 4,
  "nbformat_minor": 2
}