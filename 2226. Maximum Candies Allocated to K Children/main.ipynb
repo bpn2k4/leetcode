{
  "cells": [
    {
      "cell_type": "code",
      "execution_count": 1,
      "metadata": {},
      "outputs": [],
      "source": [
        "from typing import List\n",
        "\n",
        "\n",
        "class Solution:\n",
        "  def maximumCandies(self, candies: List[int], k: int) -> int:\n",
        "    \n",
        "    def is_valid(candies_per_child: int):\n",
        "      \n",
        "      if candies_per_child == 0:\n",
        "        return False\n",
        "      \n",
        "      children = 0\n",
        "      for candy in candies:\n",
        "        children += candy // candies_per_child\n",
        "      \n",
        "      return children >= k\n",
        "\n",
        "    result = 0\n",
        "    left = 0\n",
        "    right = 10**7\n",
        "    while left <= right:\n",
        "      mid = (left + right) // 2\n",
        "      if is_valid(mid):\n",
        "        result = mid\n",
        "        left = mid + 1\n",
        "      else:\n",
        "        right = mid - 1\n",
        "\n",
        "    return result"
      ]
    },
    {
      "cell_type": "code",
      "execution_count": 2,
      "metadata": {},
      "outputs": [
        {
          "data": {
            "text/plain": [
              "5"
            ]
          },
          "execution_count": 2,
          "metadata": {},
          "output_type": "execute_result"
        }
      ],
      "source": [
        "candies = [5, 8, 6]\n",
        "k = 3\n",
        "Solution().maximumCandies(candies=candies, k=k)"
      ]
    },
    {
      "cell_type": "code",
      "execution_count": 3,
      "metadata": {},
      "outputs": [
        {
          "data": {
            "text/plain": [
              "0"
            ]
          },
          "execution_count": 3,
          "metadata": {},
          "output_type": "execute_result"
        }
      ],
      "source": [
        "candies = [2, 5]\n",
        "k = 11\n",
        "Solution().maximumCandies(candies=candies, k=k)"
      ]
    }
  ],
  "metadata": {
    "kernelspec": {
      "display_name": "Python 3",
      "language": "python",
      "name": "python3"
    },
    "language_info": {
      "codemirror_mode": {
        "name": "ipython",
        "version": 3
      },
      "file_extension": ".py",
      "mimetype": "text/x-python",
      "name": "python",
      "nbconvert_exporter": "python",
      "pygments_lexer": "ipython3",
      "version": "3.12.1"
    }
  },
  "nbformat": 4,
  "nbformat_minor": 2
}
