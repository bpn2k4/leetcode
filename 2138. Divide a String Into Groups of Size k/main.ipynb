{
  "cells": [
    {
      "cell_type": "code",
      "execution_count": null,
      "metadata": {},
      "outputs": [],
      "source": [
        "from typing import List\n",
        "\n",
        "\n",
        "class Solution:\n",
        "  def divideString(self, s: str, k: int, fill: str) -> List[str]:\n",
        "    \n",
        "    output = []\n",
        "    n = len(s)\n",
        "    s += (k - n % k) * fill\n",
        "    for i in range(0, n, k):\n",
        "      output.append(s[i:i + k])\n",
        "      \n",
        "    return output"
      ]
    },
    {
      "cell_type": "code",
      "execution_count": 2,
      "metadata": {},
      "outputs": [
        {
          "data": {
            "text/plain": [
              "['abc', 'def', 'ghi']"
            ]
          },
          "execution_count": 2,
          "metadata": {},
          "output_type": "execute_result"
        }
      ],
      "source": [
        "s = \"abcdefghi\"\n",
        "k = 3\n",
        "fill = \"x\"\n",
        "Solution().divideString(s=s, k=k, fill=fill)"
      ]
    },
    {
      "cell_type": "code",
      "execution_count": 3,
      "metadata": {},
      "outputs": [
        {
          "data": {
            "text/plain": [
              "['abc', 'def', 'ghi', 'jxx']"
            ]
          },
          "execution_count": 3,
          "metadata": {},
          "output_type": "execute_result"
        }
      ],
      "source": [
        "s = \"abcdefghij\"\n",
        "k = 3\n",
        "fill = \"x\"\n",
        "Solution().divideString(s=s, k=k, fill=fill)"
      ]
    }
  ],
  "metadata": {
    "kernelspec": {
      "display_name": "Python 3",
      "language": "python",
      "name": "python3"
    },
    "language_info": {
      "codemirror_mode": {
        "name": "ipython",
        "version": 3
      },
      "file_extension": ".py",
      "mimetype": "text/x-python",
      "name": "python",
      "nbconvert_exporter": "python",
      "pygments_lexer": "ipython3",
      "version": "3.12.1"
    }
  },
  "nbformat": 4,
  "nbformat_minor": 2
}
