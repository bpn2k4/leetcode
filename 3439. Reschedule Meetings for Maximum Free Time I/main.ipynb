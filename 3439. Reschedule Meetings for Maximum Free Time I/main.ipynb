{
  "cells": [
    {
      "cell_type": "code",
      "execution_count": 1,
      "metadata": {},
      "outputs": [],
      "source": [
        "from typing import List\n",
        "\n",
        "\n",
        "class Solution:\n",
        "  def maxFreeTime(self, eventTime: int, k: int, startTime: List[int], endTime: List[int]) -> int:\n",
        "\n",
        "    n = len(startTime)\n",
        "    res = 0\n",
        "    total = [0] * (n + 1)\n",
        "    for i in range(n):\n",
        "      total[i + 1] = total[i] + endTime[i] - startTime[i]\n",
        "    for i in range(k - 1, n):\n",
        "      right = eventTime if i == n - 1 else startTime[i + 1]\n",
        "      left = 0 if i == k - 1 else endTime[i - k]\n",
        "      res = max(res, right - left - (total[i + 1] - total[i - k + 1]))\n",
        "      \n",
        "    return res"
      ]
    },
    {
      "cell_type": "code",
      "execution_count": 2,
      "metadata": {},
      "outputs": [
        {
          "data": {
            "text/plain": [
              "2"
            ]
          },
          "execution_count": 2,
          "metadata": {},
          "output_type": "execute_result"
        }
      ],
      "source": [
        "eventTime = 5\n",
        "k = 1\n",
        "startTime = [1, 3]\n",
        "endTime = [2, 5]\n",
        "Solution().maxFreeTime(eventTime=eventTime, k=k, startTime=startTime, endTime=endTime)"
      ]
    },
    {
      "cell_type": "code",
      "execution_count": 3,
      "metadata": {},
      "outputs": [
        {
          "data": {
            "text/plain": [
              "6"
            ]
          },
          "execution_count": 3,
          "metadata": {},
          "output_type": "execute_result"
        }
      ],
      "source": [
        "eventTime = 10\n",
        "k = 1\n",
        "startTime = [0, 2, 9]\n",
        "endTime = [1, 4, 10]\n",
        "Solution().maxFreeTime(eventTime=eventTime, k=k, startTime=startTime, endTime=endTime)"
      ]
    },
    {
      "cell_type": "code",
      "execution_count": 4,
      "metadata": {},
      "outputs": [
        {
          "data": {
            "text/plain": [
              "0"
            ]
          },
          "execution_count": 4,
          "metadata": {},
          "output_type": "execute_result"
        }
      ],
      "source": [
        "eventTime = 5\n",
        "k = 2\n",
        "startTime = [0, 1, 2, 3, 4]\n",
        "endTime = [1, 2, 3, 4, 5]\n",
        "Solution().maxFreeTime(eventTime=eventTime, k=k, startTime=startTime, endTime=endTime)"
      ]
    }
  ],
  "metadata": {
    "kernelspec": {
      "display_name": "Python 3",
      "language": "python",
      "name": "python3"
    },
    "language_info": {
      "codemirror_mode": {
        "name": "ipython",
        "version": 3
      },
      "file_extension": ".py",
      "mimetype": "text/x-python",
      "name": "python",
      "nbconvert_exporter": "python",
      "pygments_lexer": "ipython3",
      "version": "3.12.1"
    }
  },
  "nbformat": 4,
  "nbformat_minor": 2
}
