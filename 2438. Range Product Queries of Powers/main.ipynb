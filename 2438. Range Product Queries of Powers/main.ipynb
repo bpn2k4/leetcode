{
  "cells": [
    {
      "cell_type": "code",
      "execution_count": 1,
      "metadata": {},
      "outputs": [],
      "source": [
        "from typing import List\n",
        "\n",
        "\n",
        "class Solution:\n",
        "  def productQueries(self, n: int, queries: List[List[int]]) -> List[int]:\n",
        "\n",
        "    mod = 10**9 + 7\n",
        "    bins, rep = [], 1\n",
        "    while n > 0:\n",
        "      if n % 2 == 1:\n",
        "        bins.append(rep)\n",
        "      n //= 2\n",
        "      rep *= 2\n",
        "\n",
        "    ans = []\n",
        "    for left, right in queries:\n",
        "      cur = 1\n",
        "      for i in range(left, right + 1):\n",
        "        cur = cur * bins[i] % mod\n",
        "      ans.append(cur)\n",
        "      \n",
        "    return ans"
      ]
    },
    {
      "cell_type": "code",
      "execution_count": 2,
      "metadata": {},
      "outputs": [
        {
          "data": {
            "text/plain": [
              "[2, 4, 64]"
            ]
          },
          "execution_count": 2,
          "metadata": {},
          "output_type": "execute_result"
        }
      ],
      "source": [
        "n = 15\n",
        "queries = [[0, 1], [2, 2], [0, 3]]\n",
        "Solution().productQueries(n=n, queries=queries)"
      ]
    },
    {
      "cell_type": "code",
      "execution_count": 3,
      "metadata": {},
      "outputs": [
        {
          "data": {
            "text/plain": [
              "[2]"
            ]
          },
          "execution_count": 3,
          "metadata": {},
          "output_type": "execute_result"
        }
      ],
      "source": [
        "n = 2\n",
        "queries = [[0, 0]]\n",
        "Solution().productQueries(n=n, queries=queries)"
      ]
    }
  ],
  "metadata": {
    "kernelspec": {
      "display_name": "Python 3",
      "language": "python",
      "name": "python3"
    },
    "language_info": {
      "codemirror_mode": {
        "name": "ipython",
        "version": 3
      },
      "file_extension": ".py",
      "mimetype": "text/x-python",
      "name": "python",
      "nbconvert_exporter": "python",
      "pygments_lexer": "ipython3",
      "version": "3.12.8"
    }
  },
  "nbformat": 4,
  "nbformat_minor": 2
}
