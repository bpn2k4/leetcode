{
  "cells": [
    {
      "cell_type": "code",
      "execution_count": 1,
      "metadata": {},
      "outputs": [],
      "source": [
        "class Solution:\n",
        "  def countGoodStrings(self, low: int, high: int, zero: int, one: int) -> int:\n",
        "\n",
        "    MOD = 10**9 + 7\n",
        "    dp = [0] * (high + 1)\n",
        "    dp[0] = 1\n",
        "\n",
        "    for i in range(1, high + 1):\n",
        "      if i >= zero:\n",
        "        dp[i] = (dp[i] + dp[i - zero]) % MOD\n",
        "      if i >= one:\n",
        "        dp[i] = (dp[i] + dp[i - one]) % MOD\n",
        "\n",
        "    result = 0\n",
        "    for i in range(low, high + 1):\n",
        "      result = (result + dp[i]) % MOD\n",
        "\n",
        "    return result"
      ]
    },
    {
      "cell_type": "code",
      "execution_count": 2,
      "metadata": {},
      "outputs": [
        {
          "data": {
            "text/plain": [
              "8"
            ]
          },
          "execution_count": 2,
          "metadata": {},
          "output_type": "execute_result"
        }
      ],
      "source": [
        "low = 3\n",
        "high = 3\n",
        "zero = 1\n",
        "one = 1\n",
        "Solution().countGoodStrings(low=low, high=high, zero=zero, one=one)"
      ]
    },
    {
      "cell_type": "code",
      "execution_count": 3,
      "metadata": {},
      "outputs": [
        {
          "data": {
            "text/plain": [
              "5"
            ]
          },
          "execution_count": 3,
          "metadata": {},
          "output_type": "execute_result"
        }
      ],
      "source": [
        "low = 2\n",
        "high = 3\n",
        "zero = 1\n",
        "one = 2\n",
        "Solution().countGoodStrings(low=low, high=high, zero=zero, one=one)"
      ]
    }
  ],
  "metadata": {
    "kernelspec": {
      "display_name": "base",
      "language": "python",
      "name": "python3"
    },
    "language_info": {
      "codemirror_mode": {
        "name": "ipython",
        "version": 3
      },
      "file_extension": ".py",
      "mimetype": "text/x-python",
      "name": "python",
      "nbconvert_exporter": "python",
      "pygments_lexer": "ipython3",
      "version": "3.11.7"
    }
  },
  "nbformat": 4,
  "nbformat_minor": 2
}
