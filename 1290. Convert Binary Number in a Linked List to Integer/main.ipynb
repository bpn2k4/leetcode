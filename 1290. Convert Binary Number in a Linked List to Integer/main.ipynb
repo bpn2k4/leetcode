{
 "cells": [
  {
   "cell_type": "code",
   "execution_count": 1,
   "metadata": {},
   "outputs": [],
   "source": [
    "from typing import Optional\n",
    "\n",
    "\n",
    "class ListNode:\n",
    "  def __init__(self, val=0, next=None):\n",
    "    self.val = val\n",
    "    self.next: Optional[ListNode] = next\n",
    "\n",
    "\n",
    "class Solution:\n",
    "  def getDecimalValue(self, head: Optional[ListNode]) -> int:\n",
    "\n",
    "    length = 0\n",
    "    p = head\n",
    "    while p:\n",
    "      length += 1\n",
    "      p = p.next\n",
    "\n",
    "    value = 0\n",
    "    p = head\n",
    "    while p:\n",
    "      value += p.val * (1 << (length - 1))\n",
    "      length -= 1\n",
    "      p = p.next\n",
    "\n",
    "    return value"
   ]
  },
  {
   "cell_type": "code",
   "execution_count": 2,
   "metadata": {},
   "outputs": [
    {
     "data": {
      "text/plain": [
       "5"
      ]
     },
     "execution_count": 2,
     "metadata": {},
     "output_type": "execute_result"
    }
   ],
   "source": [
    "head = ListNode(1, ListNode(0, ListNode(1)))\n",
    "Solution().getDecimalValue(head=head)"
   ]
  },
  {
   "cell_type": "code",
   "execution_count": 3,
   "metadata": {},
   "outputs": [
    {
     "data": {
      "text/plain": [
       "0"
      ]
     },
     "execution_count": 3,
     "metadata": {},
     "output_type": "execute_result"
    }
   ],
   "source": [
    "head = ListNode(0)\n",
    "Solution().getDecimalValue(head=head)"
   ]
  }
 ],
 "metadata": {
  "kernelspec": {
   "display_name": "Python 3",
   "language": "python",
   "name": "python3"
  },
  "language_info": {
   "codemirror_mode": {
    "name": "ipython",
    "version": 3
   },
   "file_extension": ".py",
   "mimetype": "text/x-python",
   "name": "python",
   "nbconvert_exporter": "python",
   "pygments_lexer": "ipython3",
   "version": "3.12.8"
  }
 },
 "nbformat": 4,
 "nbformat_minor": 2
}
