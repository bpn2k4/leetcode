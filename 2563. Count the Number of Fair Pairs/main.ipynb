{
 "cells": [
  {
   "cell_type": "code",
   "execution_count": 1,
   "metadata": {},
   "outputs": [],
   "source": [
    "from typing import List\n",
    "\n",
    "\n",
    "class Solution:\n",
    "  def countFairPairs(self, nums: List[int], lower: int, upper: int) -> int:\n",
    "\n",
    "    number_of_fair_pairs = 0\n",
    "    nums.sort()\n",
    "    n = len(nums) - 1\n",
    "\n",
    "    def binary_search_lower(target: int, start: int) -> int:\n",
    "\n",
    "      left, right = start, n\n",
    "      while left <= right:\n",
    "        mid = left + (right - left) // 2\n",
    "        if nums[mid] < target:\n",
    "          left = mid + 1\n",
    "        else:\n",
    "          right = mid - 1\n",
    "      return left\n",
    "\n",
    "    def binary_search_upper(target: int, start: int) -> int:\n",
    "\n",
    "      left, right = start, n\n",
    "      while left <= right:\n",
    "        mid = left + (right - left) // 2\n",
    "        if nums[mid] <= target:\n",
    "          left = mid + 1\n",
    "        else:\n",
    "          right = mid - 1\n",
    "\n",
    "      return left\n",
    "\n",
    "    for index, num in enumerate(nums):\n",
    "      left = binary_search_lower(lower - num, index + 1)\n",
    "      right = binary_search_upper(upper - num, index + 1)\n",
    "      number_of_fair_pairs += right - left\n",
    "\n",
    "    return number_of_fair_pairs"
   ]
  },
  {
   "cell_type": "code",
   "execution_count": 2,
   "metadata": {},
   "outputs": [
    {
     "data": {
      "text/plain": [
       "6"
      ]
     },
     "execution_count": 2,
     "metadata": {},
     "output_type": "execute_result"
    }
   ],
   "source": [
    "nums = [0, 1, 7, 3, 4, 5]\n",
    "lower = 3\n",
    "upper = 6\n",
    "Solution().countFairPairs(nums=nums, lower=lower, upper=upper)"
   ]
  },
  {
   "cell_type": "code",
   "execution_count": 3,
   "metadata": {},
   "outputs": [
    {
     "data": {
      "text/plain": [
       "1"
      ]
     },
     "execution_count": 3,
     "metadata": {},
     "output_type": "execute_result"
    }
   ],
   "source": [
    "nums = [1, 7, 9, 2, 5]\n",
    "lower = 11\n",
    "upper = 11\n",
    "Solution().countFairPairs(nums=nums, lower=lower, upper=upper)"
   ]
  }
 ],
 "metadata": {
  "kernelspec": {
   "display_name": "base",
   "language": "python",
   "name": "python3"
  },
  "language_info": {
   "codemirror_mode": {
    "name": "ipython",
    "version": 3
   },
   "file_extension": ".py",
   "mimetype": "text/x-python",
   "name": "python",
   "nbconvert_exporter": "python",
   "pygments_lexer": "ipython3",
   "version": "3.11.7"
  }
 },
 "nbformat": 4,
 "nbformat_minor": 2
}
