{
  "cells": [
    {
      "cell_type": "code",
      "execution_count": 1,
      "metadata": {},
      "outputs": [],
      "source": [
        "from typing import List\n",
        "\n",
        "\n",
        "class Solution:\n",
        "  def minimumScore(self, nums: List[int], edges: List[List[int]]) -> int:\n",
        "\n",
        "    n = len(nums)\n",
        "    tree = {u: [] for u in range(n)}\n",
        "\n",
        "    for u, v in edges:\n",
        "      tree[u].append(v)\n",
        "      tree[v].append(u)\n",
        "\n",
        "    parent = [-1] * n\n",
        "    xor_subtree = [0] * n\n",
        "    in_time = [0] * n\n",
        "    out_time = [0] * n\n",
        "    time = [0]\n",
        "\n",
        "    def dfs(u, p):\n",
        "      parent[u] = p\n",
        "      xor_val = nums[u]\n",
        "      in_time[u] = time[0]\n",
        "      time[0] += 1\n",
        "      for v in tree[u]:\n",
        "        if v == p:\n",
        "          continue\n",
        "        xor_val ^= dfs(v, u)\n",
        "      xor_subtree[u] = xor_val\n",
        "      out_time[u] = time[0]\n",
        "      time[0] += 1\n",
        "      return xor_val\n",
        "\n",
        "    total_xor = dfs(0, -1)\n",
        "\n",
        "    def is_ancestor(u, v):\n",
        "      return in_time[u] <= in_time[v] and out_time[v] <= out_time[u]\n",
        "\n",
        "    min_score = float('inf')\n",
        "\n",
        "    for i in range(1, n):\n",
        "      for j in range(i + 1, n):\n",
        "        u, v = i, parent[i]\n",
        "        a, b = i, j\n",
        "\n",
        "        if is_ancestor(a, b):\n",
        "          xor1 = xor_subtree[b]\n",
        "          xor2 = xor_subtree[a] ^ xor_subtree[b]\n",
        "          xor3 = total_xor ^ xor_subtree[a]\n",
        "        elif is_ancestor(b, a):\n",
        "          xor1 = xor_subtree[a]\n",
        "          xor2 = xor_subtree[b] ^ xor_subtree[a]\n",
        "          xor3 = total_xor ^ xor_subtree[b]\n",
        "        else:\n",
        "          xor1 = xor_subtree[a]\n",
        "          xor2 = xor_subtree[b]\n",
        "          xor3 = total_xor ^ xor1 ^ xor2\n",
        "\n",
        "        max_xor = max(xor1, xor2, xor3)\n",
        "        min_xor = min(xor1, xor2, xor3)\n",
        "        min_score = min(min_score, max_xor - min_xor)\n",
        "\n",
        "    return min_score"
      ]
    },
    {
      "cell_type": "code",
      "execution_count": 2,
      "metadata": {},
      "outputs": [
        {
          "data": {
            "text/plain": [
              "9"
            ]
          },
          "execution_count": 2,
          "metadata": {},
          "output_type": "execute_result"
        }
      ],
      "source": [
        "nums = [1, 5, 5, 4, 11]\n",
        "edges = [[0, 1], [1, 2], [1, 3], [3, 4]]\n",
        "Solution().minimumScore(nums=nums, edges=edges)"
      ]
    },
    {
      "cell_type": "code",
      "execution_count": 3,
      "metadata": {},
      "outputs": [
        {
          "data": {
            "text/plain": [
              "0"
            ]
          },
          "execution_count": 3,
          "metadata": {},
          "output_type": "execute_result"
        }
      ],
      "source": [
        "nums = [5, 5, 2, 4, 4, 2]\n",
        "edges = [[0, 1], [1, 2], [5, 2], [4, 3], [1, 3]]\n",
        "Solution().minimumScore(nums=nums, edges=edges)"
      ]
    }
  ],
  "metadata": {
    "kernelspec": {
      "display_name": "Python 3",
      "language": "python",
      "name": "python3"
    },
    "language_info": {
      "codemirror_mode": {
        "name": "ipython",
        "version": 3
      },
      "file_extension": ".py",
      "mimetype": "text/x-python",
      "name": "python",
      "nbconvert_exporter": "python",
      "pygments_lexer": "ipython3",
      "version": "3.12.8"
    }
  },
  "nbformat": 4,
  "nbformat_minor": 2
}
