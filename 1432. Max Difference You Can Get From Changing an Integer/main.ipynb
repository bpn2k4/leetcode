{
  "cells": [
    {
      "cell_type": "code",
      "execution_count": 1,
      "metadata": {},
      "outputs": [],
      "source": [
        "class Solution:\n",
        "  def maxDiff(self, num: int) -> int:\n",
        "    \n",
        "    num = str(num)\n",
        "    n = len(num)\n",
        "    i = 0\n",
        "    while i < n - 1 and num[i] == '9':\n",
        "      i += 1\n",
        "    max_num = int(num.replace(num[i], '9'))\n",
        "\n",
        "    if num[0] != '1':\n",
        "      min_num = int(num.replace(num[0], '1'))\n",
        "    else:\n",
        "      if num == '1' * n:\n",
        "        min_num = int(num)\n",
        "      else:\n",
        "        j = 1\n",
        "        while j < n and (num[j] == '1' or num[j] == '0'):\n",
        "          j += 1\n",
        "        \n",
        "        if j == n:\n",
        "          min_num = int(num)\n",
        "        else:\n",
        "          min_num = int(num.replace(num[j], '0'))\n",
        "\n",
        "    return max_num - min_num"
      ]
    },
    {
      "cell_type": "code",
      "execution_count": 2,
      "metadata": {},
      "outputs": [
        {
          "data": {
            "text/plain": [
              "888"
            ]
          },
          "execution_count": 2,
          "metadata": {},
          "output_type": "execute_result"
        }
      ],
      "source": [
        "num = 555\n",
        "Solution().maxDiff(num=num)"
      ]
    },
    {
      "cell_type": "code",
      "execution_count": 3,
      "metadata": {},
      "outputs": [
        {
          "data": {
            "text/plain": [
              "8"
            ]
          },
          "execution_count": 3,
          "metadata": {},
          "output_type": "execute_result"
        }
      ],
      "source": [
        "num = 9\n",
        "Solution().maxDiff(num=num)"
      ]
    }
  ],
  "metadata": {
    "kernelspec": {
      "display_name": "Python 3",
      "language": "python",
      "name": "python3"
    },
    "language_info": {
      "codemirror_mode": {
        "name": "ipython",
        "version": 3
      },
      "file_extension": ".py",
      "mimetype": "text/x-python",
      "name": "python",
      "nbconvert_exporter": "python",
      "pygments_lexer": "ipython3",
      "version": "3.12.8"
    }
  },
  "nbformat": 4,
  "nbformat_minor": 2
}
