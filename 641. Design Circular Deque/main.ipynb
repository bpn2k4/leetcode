{
 "cells": [
  {
   "cell_type": "code",
   "execution_count": 1,
   "metadata": {},
   "outputs": [],
   "source": [
    "class MyCircularDeque:\n",
    "\n",
    "  def __init__(self, k: int):\n",
    "    self.k = k\n",
    "    self.data: list[int] = []\n",
    "\n",
    "  def insertFront(self, value: int) -> bool:\n",
    "    if len(self.data) == self.k:\n",
    "      return False\n",
    "    self.data.insert(0, value)\n",
    "    return True\n",
    "\n",
    "  def insertLast(self, value: int) -> bool:\n",
    "    if len(self.data) == self.k:\n",
    "      return False\n",
    "    self.data.append(value)\n",
    "    return True\n",
    "\n",
    "  def deleteFront(self) -> bool:\n",
    "    if len(self.data) == 0:\n",
    "      return False\n",
    "    self.data.pop(0)\n",
    "    return True\n",
    "\n",
    "  def deleteLast(self) -> bool:\n",
    "    if len(self.data) == 0:\n",
    "      return False\n",
    "    self.data.pop()\n",
    "    return True\n",
    "\n",
    "  def getFront(self) -> int:\n",
    "    if len(self.data) == 0:\n",
    "      return -1\n",
    "    return self.data[0]\n",
    "\n",
    "  def getRear(self) -> int:\n",
    "    if len(self.data) == 0:\n",
    "      return -1\n",
    "    return self.data[-1]\n",
    "\n",
    "  def isEmpty(self) -> bool:\n",
    "    return len(self.data) == 0\n",
    "\n",
    "  def isFull(self) -> bool:\n",
    "    return len(self.data) == self.k"
   ]
  },
  {
   "cell_type": "code",
   "execution_count": 2,
   "metadata": {},
   "outputs": [
    {
     "data": {
      "text/plain": [
       "(True, True, True, False, 2, True, True, True, 4)"
      ]
     },
     "execution_count": 2,
     "metadata": {},
     "output_type": "execute_result"
    }
   ],
   "source": [
    "queue = MyCircularDeque(3)\n",
    "queue.insertLast(1), \\\n",
    "  queue.insertLast(2), \\\n",
    "  queue.insertFront(3), \\\n",
    "  queue.insertFront(4), \\\n",
    "  queue.getRear(), \\\n",
    "  queue.isFull(), \\\n",
    "  queue.deleteLast(), \\\n",
    "  queue.insertFront(4), \\\n",
    "  queue.getFront()\n"
   ]
  }
 ],
 "metadata": {
  "kernelspec": {
   "display_name": "base",
   "language": "python",
   "name": "python3"
  },
  "language_info": {
   "codemirror_mode": {
    "name": "ipython",
    "version": 3
   },
   "file_extension": ".py",
   "mimetype": "text/x-python",
   "name": "python",
   "nbconvert_exporter": "python",
   "pygments_lexer": "ipython3",
   "version": "3.11.7"
  }
 },
 "nbformat": 4,
 "nbformat_minor": 2
}
