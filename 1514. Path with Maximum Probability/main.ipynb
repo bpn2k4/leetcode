{
 "cells": [
  {
   "cell_type": "code",
   "execution_count": 1,
   "metadata": {},
   "outputs": [],
   "source": [
    "from typing import List\n",
    "import math\n",
    "\n",
    "\n",
    "\n",
    "class Solution:\n",
    "  def maxProbability(\n",
    "      self,\n",
    "      n: int,\n",
    "      edges: List[List[int]],\n",
    "      succProb: List[float],\n",
    "      start_node: int,\n",
    "      end_node: int\n",
    "  ) -> float:\n",
    "\n",
    "    graph = {i: [] for i in range(n)}\n",
    "    for [u, v], p in zip(edges, succProb):\n",
    "      graph[u].append((v, p))\n",
    "      graph[v].append((u, p))\n",
    "\n",
    "    max_prob = [0.0] * n\n",
    "    max_prob[start_node] = 1.0\n",
    "\n",
    "    visited = [False] * n\n",
    "\n",
    "    while True:\n",
    "      curr_prob = 0.0\n",
    "      node = -1\n",
    "      for i in range(n):\n",
    "        if not visited[i] and max_prob[i] > curr_prob:\n",
    "          curr_prob = max_prob[i]\n",
    "          node = i\n",
    "\n",
    "      if node == -1 or node == end_node:\n",
    "        break\n",
    "\n",
    "      visited[node] = True\n",
    "\n",
    "      for neighbor, edge_prob in graph[node]:\n",
    "        new_prob = curr_prob * edge_prob\n",
    "        if new_prob > max_prob[neighbor]:\n",
    "          max_prob[neighbor] = new_prob\n",
    "\n",
    "    return max_prob[end_node]"
   ]
  },
  {
   "cell_type": "code",
   "execution_count": 2,
   "metadata": {},
   "outputs": [
    {
     "data": {
      "text/plain": [
       "0.25"
      ]
     },
     "execution_count": 2,
     "metadata": {},
     "output_type": "execute_result"
    }
   ],
   "source": [
    "Solution().maxProbability(\n",
    "    n=3,\n",
    "    edges=[[0, 1], [1, 2], [0, 2]],\n",
    "    succProb=[0.5, 0.5, 0.2],\n",
    "    start_node=0,\n",
    "    end_node=2\n",
    ")"
   ]
  },
  {
   "cell_type": "code",
   "execution_count": 3,
   "metadata": {},
   "outputs": [
    {
     "data": {
      "text/plain": [
       "0.5"
      ]
     },
     "execution_count": 3,
     "metadata": {},
     "output_type": "execute_result"
    }
   ],
   "source": [
    "math.e ** -0.6931471805599453"
   ]
  },
  {
   "cell_type": "code",
   "execution_count": 4,
   "metadata": {},
   "outputs": [
    {
     "data": {
      "text/plain": [
       "0.3"
      ]
     },
     "execution_count": 4,
     "metadata": {},
     "output_type": "execute_result"
    }
   ],
   "source": [
    "Solution().maxProbability(\n",
    "    n=3,\n",
    "    edges=[[0, 1], [1, 2], [0, 2]],\n",
    "    succProb=[0.5, 0.5, 0.3],\n",
    "    start_node=0,\n",
    "    end_node=2\n",
    ")"
   ]
  },
  {
   "cell_type": "code",
   "execution_count": 5,
   "metadata": {},
   "outputs": [
    {
     "data": {
      "text/plain": [
       "0.0"
      ]
     },
     "execution_count": 5,
     "metadata": {},
     "output_type": "execute_result"
    }
   ],
   "source": [
    "Solution().maxProbability(\n",
    "    n=3,\n",
    "    edges=[[0, 1]],\n",
    "    succProb=[0.5],\n",
    "    start_node=0,\n",
    "    end_node=2\n",
    ")"
   ]
  },
  {
   "cell_type": "code",
   "execution_count": 6,
   "metadata": {},
   "outputs": [
    {
     "data": {
      "text/plain": [
       "0.0"
      ]
     },
     "execution_count": 6,
     "metadata": {},
     "output_type": "execute_result"
    }
   ],
   "source": [
    "Solution().maxProbability(\n",
    "    n=10,\n",
    "    edges=[[0,3],[1,7],[1,2],[0,9]],\n",
    "    succProb=[0.31,0.9,0.86,0.36],\n",
    "    start_node=2,\n",
    "    end_node=3\n",
    ")"
   ]
  }
 ],
 "metadata": {
  "kernelspec": {
   "display_name": "base",
   "language": "python",
   "name": "python3"
  },
  "language_info": {
   "codemirror_mode": {
    "name": "ipython",
    "version": 3
   },
   "file_extension": ".py",
   "mimetype": "text/x-python",
   "name": "python",
   "nbconvert_exporter": "python",
   "pygments_lexer": "ipython3",
   "version": "3.11.7"
  }
 },
 "nbformat": 4,
 "nbformat_minor": 2
}
