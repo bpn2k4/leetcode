{
 "cells": [
  {
   "cell_type": "code",
   "execution_count": 16,
   "metadata": {},
   "outputs": [],
   "source": [
    "from typing import List\n",
    "\n",
    "\n",
    "class Solution:\n",
    "  def restoreMatrix(self, rowSum: List[int], colSum: List[int]) -> List[List[int]]:\n",
    "    number_row = len(rowSum)\n",
    "    number_col = len(colSum)\n",
    "    matrix = [[0 for _ in range(number_col)] for _ in range(number_row)]\n",
    "    for i in range(number_row):\n",
    "      for j in range(number_col):\n",
    "        min_sum = min(rowSum[i], colSum[j])\n",
    "        matrix[i][j] = min_sum\n",
    "        rowSum[i] -= min_sum\n",
    "        colSum[j] -= min_sum\n",
    "    return matrix\n",
    "    "
   ]
  },
  {
   "cell_type": "code",
   "execution_count": 17,
   "metadata": {},
   "outputs": [
    {
     "name": "stdout",
     "output_type": "stream",
     "text": [
      "[3, 0]\n",
      "[1, 7]\n"
     ]
    }
   ],
   "source": [
    "for i in Solution().restoreMatrix(rowSum=[3, 8], colSum=[4, 7]):\n",
    "  print(i)"
   ]
  },
  {
   "cell_type": "code",
   "execution_count": 18,
   "metadata": {},
   "outputs": [
    {
     "name": "stdout",
     "output_type": "stream",
     "text": [
      "[5, 0, 0]\n",
      "[3, 4, 0]\n",
      "[0, 2, 8]\n"
     ]
    }
   ],
   "source": [
    "for i in Solution().restoreMatrix(rowSum=[5, 7, 10], colSum=[8, 6, 8]):\n",
    "  print(i)"
   ]
  }
 ],
 "metadata": {
  "kernelspec": {
   "display_name": "base",
   "language": "python",
   "name": "python3"
  },
  "language_info": {
   "codemirror_mode": {
    "name": "ipython",
    "version": 3
   },
   "file_extension": ".py",
   "mimetype": "text/x-python",
   "name": "python",
   "nbconvert_exporter": "python",
   "pygments_lexer": "ipython3",
   "version": "3.11.7"
  }
 },
 "nbformat": 4,
 "nbformat_minor": 2
}
