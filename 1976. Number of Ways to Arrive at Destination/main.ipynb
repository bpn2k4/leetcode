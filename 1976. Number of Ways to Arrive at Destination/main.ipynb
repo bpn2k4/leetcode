{
  "cells": [
    {
      "cell_type": "code",
      "execution_count": null,
      "metadata": {},
      "outputs": [],
      "source": [
        "from typing import List\n",
        "import heapq\n",
        "\n",
        "\n",
        "class Solution:\n",
        "  def countPaths(self, n: int, roads: List[List[int]]) -> int:\n",
        "    \n",
        "    MODULE = 1000000007\n",
        "    graph = [[] for _ in range(n)]\n",
        "    for u, v, travel_time in roads:\n",
        "      graph[u].append((v, travel_time))\n",
        "      graph[v].append((u, travel_time))\n",
        "\n",
        "    min_heap = [(0, 0)]\n",
        "    min_time = [float(\"inf\")] * n\n",
        "    path_count = [0] * n\n",
        "\n",
        "    min_time[0] = 0\n",
        "    path_count[0] = 1\n",
        "\n",
        "    while min_heap:\n",
        "      current_time, current_node = heapq.heappop(min_heap)\n",
        "\n",
        "      if current_time > min_time[current_node]:\n",
        "        continue\n",
        "\n",
        "      for neighbor, road_time in graph[current_node]:\n",
        "        new_time = current_time + road_time\n",
        "\n",
        "        if new_time < min_time[neighbor]:\n",
        "          min_time[neighbor] = new_time\n",
        "          path_count[neighbor] = path_count[current_node]\n",
        "          heapq.heappush(min_heap, (new_time, neighbor))\n",
        "\n",
        "        elif new_time == min_time[neighbor]:\n",
        "          path_count[neighbor] = (path_count[neighbor] + path_count[current_node]) % MODULE\n",
        "\n",
        "    return path_count[n - 1]"
      ]
    },
    {
      "cell_type": "code",
      "execution_count": 2,
      "metadata": {},
      "outputs": [
        {
          "data": {
            "text/plain": [
              "4"
            ]
          },
          "execution_count": 2,
          "metadata": {},
          "output_type": "execute_result"
        }
      ],
      "source": [
        "n = 7\n",
        "roads = [[0, 6, 7], [0, 1, 2], [1, 2, 3], [1, 3, 3], [6, 3, 3], [3, 5, 1], [6, 5, 1], [2, 5, 1], [0, 4, 5], [4, 6, 2]]\n",
        "Solution().countPaths(n=n, roads=roads)"
      ]
    },
    {
      "cell_type": "code",
      "execution_count": 3,
      "metadata": {},
      "outputs": [
        {
          "data": {
            "text/plain": [
              "1"
            ]
          },
          "execution_count": 3,
          "metadata": {},
          "output_type": "execute_result"
        }
      ],
      "source": [
        "n = 2\n",
        "roads = [[1, 0, 10]]\n",
        "Solution().countPaths(n=n, roads=roads)"
      ]
    }
  ],
  "metadata": {
    "kernelspec": {
      "display_name": "Python 3",
      "language": "python",
      "name": "python3"
    },
    "language_info": {
      "codemirror_mode": {
        "name": "ipython",
        "version": 3
      },
      "file_extension": ".py",
      "mimetype": "text/x-python",
      "name": "python",
      "nbconvert_exporter": "python",
      "pygments_lexer": "ipython3",
      "version": "3.12.1"
    }
  },
  "nbformat": 4,
  "nbformat_minor": 2
}
