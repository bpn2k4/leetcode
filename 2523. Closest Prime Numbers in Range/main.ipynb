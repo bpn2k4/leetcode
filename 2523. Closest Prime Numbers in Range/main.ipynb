{
  "cells": [
    {
      "cell_type": "code",
      "execution_count": null,
      "metadata": {},
      "outputs": [],
      "source": [
        "from typing import List\n",
        "\n",
        "\n",
        "class Solution:\n",
        "  def closestPrimes(self, left: int, right: int) -> List[int]:\n",
        "    \n",
        "    num2is_prime = [True] * (right + 1)\n",
        "    num2is_prime[0] = num2is_prime[1] = False\n",
        "    for i in range(2, int(right ** 0.5) + 1):\n",
        "      if num2is_prime[i]:\n",
        "        for multiple in range(i * i, right + 1, i):\n",
        "          num2is_prime[multiple] = False\n",
        "    \n",
        "    primes = [num for num in range(left, right + 1) if num2is_prime[num]]\n",
        "    \n",
        "    if len(primes) < 2:\n",
        "      return [-1, -1]\n",
        "    \n",
        "    minimum_distance = 100000\n",
        "    output = [-1, -1]\n",
        "    for i in range(len(primes) - 1):\n",
        "      distance = primes[i + 1] - primes[i]\n",
        "      if distance < minimum_distance:\n",
        "        minimum_distance = distance\n",
        "        output = [primes[i], primes[i + 1]]\n",
        "    \n",
        "    return output"
      ]
    },
    {
      "cell_type": "code",
      "execution_count": 2,
      "metadata": {},
      "outputs": [
        {
          "data": {
            "text/plain": [
              "[11, 13]"
            ]
          },
          "execution_count": 2,
          "metadata": {},
          "output_type": "execute_result"
        }
      ],
      "source": [
        "left = 10\n",
        "right = 19\n",
        "Solution().closestPrimes(left=left, right=right)"
      ]
    },
    {
      "cell_type": "code",
      "execution_count": 3,
      "metadata": {},
      "outputs": [
        {
          "data": {
            "text/plain": [
              "[-1, -1]"
            ]
          },
          "execution_count": 3,
          "metadata": {},
          "output_type": "execute_result"
        }
      ],
      "source": [
        "left = 4\n",
        "right = 6\n",
        "Solution().closestPrimes(left=left, right=right)"
      ]
    }
  ],
  "metadata": {
    "kernelspec": {
      "display_name": "Python 3",
      "language": "python",
      "name": "python3"
    },
    "language_info": {
      "codemirror_mode": {
        "name": "ipython",
        "version": 3
      },
      "file_extension": ".py",
      "mimetype": "text/x-python",
      "name": "python",
      "nbconvert_exporter": "python",
      "pygments_lexer": "ipython3",
      "version": "3.12.1"
    }
  },
  "nbformat": 4,
  "nbformat_minor": 2
}
