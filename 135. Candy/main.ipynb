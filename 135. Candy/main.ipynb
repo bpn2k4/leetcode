{
  "cells": [
    {
      "cell_type": "code",
      "execution_count": 1,
      "metadata": {},
      "outputs": [],
      "source": [
        "from typing import List\n",
        "\n",
        "\n",
        "class Solution:\n",
        "  def candy(self, ratings: List[int]) -> int:\n",
        "    \n",
        "    n = len(ratings)\n",
        "    candies = [1] * n\n",
        "    for i in range(1, n):\n",
        "      if ratings[i] > ratings[i - 1]:\n",
        "        candies[i] = candies[i - 1] + 1\n",
        "    answer = candies[-1]\n",
        "    for i in range(n - 2, -1, -1):\n",
        "      if ratings[i] > ratings[i + 1]:\n",
        "        candies[i] = max(candies[i], candies[i + 1] + 1)\n",
        "      answer += candies[i]\n",
        "      \n",
        "    return answer"
      ]
    },
    {
      "cell_type": "code",
      "execution_count": 2,
      "metadata": {},
      "outputs": [
        {
          "data": {
            "text/plain": [
              "5"
            ]
          },
          "execution_count": 2,
          "metadata": {},
          "output_type": "execute_result"
        }
      ],
      "source": [
        "ratings = [1, 0, 2]\n",
        "Solution().candy(ratings=ratings)"
      ]
    },
    {
      "cell_type": "code",
      "execution_count": 3,
      "metadata": {},
      "outputs": [
        {
          "data": {
            "text/plain": [
              "4"
            ]
          },
          "execution_count": 3,
          "metadata": {},
          "output_type": "execute_result"
        }
      ],
      "source": [
        "ratings = [1, 2, 2]\n",
        "Solution().candy(ratings=ratings)"
      ]
    }
  ],
  "metadata": {
    "kernelspec": {
      "display_name": "Python 3",
      "language": "python",
      "name": "python3"
    },
    "language_info": {
      "codemirror_mode": {
        "name": "ipython",
        "version": 3
      },
      "file_extension": ".py",
      "mimetype": "text/x-python",
      "name": "python",
      "nbconvert_exporter": "python",
      "pygments_lexer": "ipython3",
      "version": "3.12.8"
    }
  },
  "nbformat": 4,
  "nbformat_minor": 2
}
