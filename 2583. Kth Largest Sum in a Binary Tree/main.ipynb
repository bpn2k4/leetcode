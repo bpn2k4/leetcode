{
 "cells": [
  {
   "cell_type": "code",
   "execution_count": 1,
   "metadata": {},
   "outputs": [],
   "source": [
    "from typing import Optional\n",
    "\n",
    "\n",
    "class TreeNode:\n",
    "  def __init__(self, val=0, left=None, right=None):\n",
    "    self.val: int = val\n",
    "    self.left: TreeNode = left\n",
    "    self.right: TreeNode = right\n",
    "\n",
    "\n",
    "class Solution:\n",
    "  def kthLargestLevelSum(self, root: Optional[TreeNode], k: int) -> int:\n",
    "\n",
    "    mark = {}\n",
    "\n",
    "    def order(node: TreeNode, level: int):\n",
    "\n",
    "      if not node:\n",
    "        return\n",
    "      \n",
    "      mark[level] = mark.get(level, 0) + node.val\n",
    "      order(node.left, level + 1)\n",
    "      order(node.right, level + 1)\n",
    "\n",
    "    order(root, 1)\n",
    "    \n",
    "    level_sums = sorted(mark.values(), reverse=True)\n",
    "\n",
    "    if k - 1 < len(level_sums):\n",
    "      return level_sums[k - 1]\n",
    "  \n",
    "    return -1"
   ]
  },
  {
   "cell_type": "code",
   "execution_count": 2,
   "metadata": {},
   "outputs": [
    {
     "data": {
      "text/plain": [
       "13"
      ]
     },
     "execution_count": 2,
     "metadata": {},
     "output_type": "execute_result"
    }
   ],
   "source": [
    "root = TreeNode(5)\n",
    "root.left = TreeNode(8)\n",
    "root.right = TreeNode(9)\n",
    "root.left.left = TreeNode(2)\n",
    "root.left.right = TreeNode(1)\n",
    "root.left.left.left = TreeNode(4)\n",
    "root.left.left.right = TreeNode(6)\n",
    "root.right.left = TreeNode(3)\n",
    "root.right.right = TreeNode(7)\n",
    "k = 2\n",
    "Solution().kthLargestLevelSum(root, k)"
   ]
  },
  {
   "cell_type": "code",
   "execution_count": 3,
   "metadata": {},
   "outputs": [
    {
     "data": {
      "text/plain": [
       "3"
      ]
     },
     "execution_count": 3,
     "metadata": {},
     "output_type": "execute_result"
    }
   ],
   "source": [
    "root = TreeNode(1)\n",
    "root.left = TreeNode(2)\n",
    "root.left.left = TreeNode(3)\n",
    "k = 1\n",
    "Solution().kthLargestLevelSum(root, k)"
   ]
  }
 ],
 "metadata": {
  "kernelspec": {
   "display_name": "base",
   "language": "python",
   "name": "python3"
  },
  "language_info": {
   "codemirror_mode": {
    "name": "ipython",
    "version": 3
   },
   "file_extension": ".py",
   "mimetype": "text/x-python",
   "name": "python",
   "nbconvert_exporter": "python",
   "pygments_lexer": "ipython3",
   "version": "3.11.7"
  }
 },
 "nbformat": 4,
 "nbformat_minor": 2
}
