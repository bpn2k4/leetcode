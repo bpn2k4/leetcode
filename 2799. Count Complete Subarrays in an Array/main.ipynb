{
  "cells": [
    {
      "cell_type": "code",
      "execution_count": 1,
      "metadata": {},
      "outputs": [],
      "source": [
        "from typing import List\n",
        "\n",
        "\n",
        "class Solution:\n",
        "  def countCompleteSubarrays(self, nums: List[int]) -> int:\n",
        "    \n",
        "    n = len(nums)\n",
        "    k = len(set(nums))\n",
        "    count = 0\n",
        "    for i in range(n):\n",
        "      mark = {}\n",
        "      for j in range(i, n):\n",
        "        mark[nums[j]] = 1\n",
        "        if len(mark) == k:\n",
        "          count += (n - j)\n",
        "          break\n",
        "      \n",
        "    return count"
      ]
    },
    {
      "cell_type": "code",
      "execution_count": 2,
      "metadata": {},
      "outputs": [
        {
          "data": {
            "text/plain": [
              "4"
            ]
          },
          "execution_count": 2,
          "metadata": {},
          "output_type": "execute_result"
        }
      ],
      "source": [
        "nums = [1, 3, 1, 2, 2]\n",
        "Solution().countCompleteSubarrays(nums=nums)"
      ]
    },
    {
      "cell_type": "code",
      "execution_count": 3,
      "metadata": {},
      "outputs": [
        {
          "data": {
            "text/plain": [
              "10"
            ]
          },
          "execution_count": 3,
          "metadata": {},
          "output_type": "execute_result"
        }
      ],
      "source": [
        "nums = [5, 5, 5, 5]\n",
        "Solution().countCompleteSubarrays(nums=nums)"
      ]
    }
  ],
  "metadata": {
    "kernelspec": {
      "display_name": "Python 3",
      "language": "python",
      "name": "python3"
    },
    "language_info": {
      "codemirror_mode": {
        "name": "ipython",
        "version": 3
      },
      "file_extension": ".py",
      "mimetype": "text/x-python",
      "name": "python",
      "nbconvert_exporter": "python",
      "pygments_lexer": "ipython3",
      "version": "3.12.8"
    }
  },
  "nbformat": 4,
  "nbformat_minor": 2
}
