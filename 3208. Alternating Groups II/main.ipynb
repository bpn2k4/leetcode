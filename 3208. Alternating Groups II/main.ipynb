{
  "cells": [
    {
      "cell_type": "code",
      "execution_count": 1,
      "metadata": {},
      "outputs": [],
      "source": [
        "from typing import List\n",
        "\n",
        "\n",
        "class Solution:\n",
        "  def numberOfAlternatingGroups(self, colors: List[int], k: int) -> int:\n",
        "\n",
        "    n = len(colors)\n",
        "    colors += colors[:k - 1]\n",
        "    number_of_alternating_groups = 0\n",
        "\n",
        "    sliding = 0\n",
        "    for i in range(1, k):\n",
        "      if colors[i] == colors[i - 1]:\n",
        "        sliding += 1\n",
        "\n",
        "    if sliding == 0:\n",
        "      number_of_alternating_groups += 1\n",
        "\n",
        "    for i in range(1, n):\n",
        "      if colors[i - 1] == colors[i]:\n",
        "        sliding -= 1\n",
        "      if colors[i + k - 1] == colors[i + k - 2]:\n",
        "        sliding += 1\n",
        "        \n",
        "      if sliding == 0:\n",
        "        number_of_alternating_groups += 1\n",
        "\n",
        "    return number_of_alternating_groups"
      ]
    },
    {
      "cell_type": "code",
      "execution_count": 2,
      "metadata": {},
      "outputs": [
        {
          "data": {
            "text/plain": [
              "3"
            ]
          },
          "execution_count": 2,
          "metadata": {},
          "output_type": "execute_result"
        }
      ],
      "source": [
        "colors = [0, 1, 0, 1, 0]\n",
        "k = 3\n",
        "Solution().numberOfAlternatingGroups(colors=colors, k=k)"
      ]
    },
    {
      "cell_type": "code",
      "execution_count": 3,
      "metadata": {},
      "outputs": [
        {
          "data": {
            "text/plain": [
              "2"
            ]
          },
          "execution_count": 3,
          "metadata": {},
          "output_type": "execute_result"
        }
      ],
      "source": [
        "colors = [0, 1, 0, 0, 1, 0, 1]\n",
        "k = 6\n",
        "Solution().numberOfAlternatingGroups(colors=colors, k=k)"
      ]
    },
    {
      "cell_type": "code",
      "execution_count": 4,
      "metadata": {},
      "outputs": [
        {
          "data": {
            "text/plain": [
              "0"
            ]
          },
          "execution_count": 4,
          "metadata": {},
          "output_type": "execute_result"
        }
      ],
      "source": [
        "colors = [1, 1, 0, 1]\n",
        "k = 4\n",
        "Solution().numberOfAlternatingGroups(colors=colors, k=k)"
      ]
    }
  ],
  "metadata": {
    "kernelspec": {
      "display_name": "Python 3",
      "language": "python",
      "name": "python3"
    },
    "language_info": {
      "codemirror_mode": {
        "name": "ipython",
        "version": 3
      },
      "file_extension": ".py",
      "mimetype": "text/x-python",
      "name": "python",
      "nbconvert_exporter": "python",
      "pygments_lexer": "ipython3",
      "version": "3.12.1"
    }
  },
  "nbformat": 4,
  "nbformat_minor": 2
}
