{
  "cells": [
    {
      "cell_type": "code",
      "execution_count": 1,
      "metadata": {},
      "outputs": [],
      "source": [
        "class Solution:\n",
        "  def shortestCommonSupersequence(self, str1: str, str2: str) -> str:\n",
        "\n",
        "    m = len(str1)\n",
        "    n = len(str2)\n",
        "    dp = [[0 for _ in range(n + 1)] for _ in range(m + 1)]\n",
        "\n",
        "    for i in range(1, m + 1):\n",
        "      for j in range(1, n + 1):\n",
        "        if str1[i - 1] == str2[j - 1]:\n",
        "          dp[i][j] = dp[i - 1][j - 1] + 1\n",
        "        else:\n",
        "          dp[i][j] = max(dp[i - 1][j], dp[i][j - 1])\n",
        "\n",
        "    i, j = m, n\n",
        "    result = []\n",
        "\n",
        "    while i > 0 and j > 0:\n",
        "      if str1[i - 1] == str2[j - 1]:\n",
        "        result.append(str1[i - 1])\n",
        "        i -= 1\n",
        "        j -= 1\n",
        "      elif dp[i - 1][j] > dp[i][j - 1]:\n",
        "        result.append(str1[i - 1])\n",
        "        i -= 1\n",
        "      else:\n",
        "        result.append(str2[j - 1])\n",
        "        j -= 1\n",
        "\n",
        "    while i > 0:\n",
        "      result.append(str1[i - 1])\n",
        "      i -= 1\n",
        "    while j > 0:\n",
        "      result.append(str2[j - 1])\n",
        "      j -= 1\n",
        "\n",
        "    return ''.join(result[::-1])"
      ]
    },
    {
      "cell_type": "code",
      "execution_count": 2,
      "metadata": {},
      "outputs": [
        {
          "data": {
            "text/plain": [
              "'cabac'"
            ]
          },
          "execution_count": 2,
          "metadata": {},
          "output_type": "execute_result"
        }
      ],
      "source": [
        "str1 = \"abac\"\n",
        "str2 = \"cab\"\n",
        "Solution().shortestCommonSupersequence(str1=str1, str2=str2)"
      ]
    },
    {
      "cell_type": "code",
      "execution_count": 3,
      "metadata": {},
      "outputs": [
        {
          "data": {
            "text/plain": [
              "'aaaaaaaa'"
            ]
          },
          "execution_count": 3,
          "metadata": {},
          "output_type": "execute_result"
        }
      ],
      "source": [
        "str1 = \"aaaaaaaa\"\n",
        "str2 = \"aaaaaaaa\"\n",
        "Solution().shortestCommonSupersequence(str1=str1, str2=str2)"
      ]
    }
  ],
  "metadata": {
    "kernelspec": {
      "display_name": "Python 3",
      "language": "python",
      "name": "python3"
    },
    "language_info": {
      "codemirror_mode": {
        "name": "ipython",
        "version": 3
      },
      "file_extension": ".py",
      "mimetype": "text/x-python",
      "name": "python",
      "nbconvert_exporter": "python",
      "pygments_lexer": "ipython3",
      "version": "3.12.1"
    }
  },
  "nbformat": 4,
  "nbformat_minor": 2
}
