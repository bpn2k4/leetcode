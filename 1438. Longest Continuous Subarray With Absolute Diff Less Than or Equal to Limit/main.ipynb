{
 "cells": [
  {
   "cell_type": "code",
   "execution_count": 3,
   "metadata": {},
   "outputs": [],
   "source": [
    "from typing import List\n",
    "\n",
    "\n",
    "class Solution:\n",
    "  def longestSubarray(self, nums: List[int], limit: int) -> int:\n",
    "    max_deque = []\n",
    "    min_deque = []\n",
    "    left = 0\n",
    "    max_length = 0\n",
    "\n",
    "    for right in range(len(nums)):\n",
    "      while max_deque and nums[max_deque[-1]] <= nums[right]:\n",
    "        max_deque.pop()\n",
    "      max_deque.append(right)\n",
    "        \n",
    "      while min_deque and nums[min_deque[-1]] >= nums[right]:\n",
    "        min_deque.pop()\n",
    "      min_deque.append(right)\n",
    "      while nums[max_deque[0]] - nums[min_deque[0]] > limit:\n",
    "        left += 1\n",
    "        if max_deque[0] < left:\n",
    "          max_deque.pop(0)\n",
    "        if min_deque[0] < left:\n",
    "          min_deque.pop(0)\n",
    "      max_length = max(max_length, right - left + 1)\n",
    "    \n",
    "    return max_length"
   ]
  },
  {
   "cell_type": "code",
   "execution_count": 4,
   "metadata": {},
   "outputs": [
    {
     "data": {
      "text/plain": [
       "2"
      ]
     },
     "execution_count": 4,
     "metadata": {},
     "output_type": "execute_result"
    }
   ],
   "source": [
    "Solution().longestSubarray(nums = [8,2,4,7], limit = 4)"
   ]
  },
  {
   "cell_type": "code",
   "execution_count": 5,
   "metadata": {},
   "outputs": [
    {
     "data": {
      "text/plain": [
       "4"
      ]
     },
     "execution_count": 5,
     "metadata": {},
     "output_type": "execute_result"
    }
   ],
   "source": [
    "Solution().longestSubarray(nums = [10,1,2,4,7,2], limit = 5)"
   ]
  },
  {
   "cell_type": "code",
   "execution_count": 6,
   "metadata": {},
   "outputs": [
    {
     "data": {
      "text/plain": [
       "3"
      ]
     },
     "execution_count": 6,
     "metadata": {},
     "output_type": "execute_result"
    }
   ],
   "source": [
    "Solution().longestSubarray(nums = [4,2,2,2,4,4,2,2], limit = 0)"
   ]
  }
 ],
 "metadata": {
  "kernelspec": {
   "display_name": "base",
   "language": "python",
   "name": "python3"
  },
  "language_info": {
   "codemirror_mode": {
    "name": "ipython",
    "version": 3
   },
   "file_extension": ".py",
   "mimetype": "text/x-python",
   "name": "python",
   "nbconvert_exporter": "python",
   "pygments_lexer": "ipython3",
   "version": "3.11.7"
  }
 },
 "nbformat": 4,
 "nbformat_minor": 2
}
