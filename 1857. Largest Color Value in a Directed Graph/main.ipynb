{
  "cells": [
    {
      "cell_type": "code",
      "execution_count": 1,
      "metadata": {},
      "outputs": [],
      "source": [
        "from typing import List\n",
        "from collections import deque\n",
        "\n",
        "\n",
        "class Solution:\n",
        "\n",
        "  def largestPathValue(self, colors: str, edges: List[List[int]]) -> int:\n",
        "    \n",
        "    n = len(colors)\n",
        "    adj = [[] for _ in range(n)]\n",
        "    in_degree = [0] * n\n",
        "\n",
        "    for u, v in edges:\n",
        "      adj[u].append(v)\n",
        "      in_degree[v] += 1\n",
        "\n",
        "    dp = [[0] * 26 for _ in range(n)]\n",
        "    queue = deque()\n",
        "\n",
        "    for i in range(n):\n",
        "      if in_degree[i] == 0:\n",
        "        queue.append(i)\n",
        "      dp[i][ord(colors[i]) - ord('a')] = 1\n",
        "\n",
        "    visited = 0\n",
        "    max_color = 0\n",
        "\n",
        "    while queue:\n",
        "      node = queue.popleft()\n",
        "      visited += 1\n",
        "\n",
        "      for neighbor in adj[node]:\n",
        "        for c in range(26):\n",
        "          if ord(colors[neighbor]) - ord('a') == c:\n",
        "            inc = 1\n",
        "          else:\n",
        "            inc = 0\n",
        "          dp[neighbor][c] = max(dp[neighbor][c], dp[node][c] + inc)\n",
        "\n",
        "        in_degree[neighbor] -= 1\n",
        "        if in_degree[neighbor] == 0:\n",
        "          queue.append(neighbor)\n",
        "\n",
        "      max_color = max(max_color, max(dp[node]))\n",
        "\n",
        "    if visited == n:\n",
        "      return max_color\n",
        "    \n",
        "    return -1"
      ]
    },
    {
      "cell_type": "code",
      "execution_count": 2,
      "metadata": {},
      "outputs": [
        {
          "data": {
            "text/plain": [
              "3"
            ]
          },
          "execution_count": 2,
          "metadata": {},
          "output_type": "execute_result"
        }
      ],
      "source": [
        "colors = \"abaca\"\n",
        "edges = [[0, 1], [0, 2], [2, 3], [3, 4]]\n",
        "Solution().largestPathValue(colors=colors, edges=edges)"
      ]
    },
    {
      "cell_type": "code",
      "execution_count": 3,
      "metadata": {},
      "outputs": [
        {
          "data": {
            "text/plain": [
              "-1"
            ]
          },
          "execution_count": 3,
          "metadata": {},
          "output_type": "execute_result"
        }
      ],
      "source": [
        "colors = \"a\"\n",
        "edges = [[0, 0]]\n",
        "Solution().largestPathValue(colors=colors, edges=edges)"
      ]
    }
  ],
  "metadata": {
    "kernelspec": {
      "display_name": "Python 3",
      "language": "python",
      "name": "python3"
    },
    "language_info": {
      "codemirror_mode": {
        "name": "ipython",
        "version": 3
      },
      "file_extension": ".py",
      "mimetype": "text/x-python",
      "name": "python",
      "nbconvert_exporter": "python",
      "pygments_lexer": "ipython3",
      "version": "3.12.8"
    }
  },
  "nbformat": 4,
  "nbformat_minor": 2
}
