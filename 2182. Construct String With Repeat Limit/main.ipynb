{
  "cells": [
    {
      "cell_type": "code",
      "execution_count": 1,
      "metadata": {},
      "outputs": [],
      "source": [
        "import heapq\n",
        "\n",
        "class Solution:\n",
        "  def repeatLimitedString(self, s: str, repeatLimit: int) -> str:\n",
        "    \n",
        "    char2count = {}\n",
        "    for char in s:\n",
        "      if char not in char2count:\n",
        "        char2count[char] = 1\n",
        "      else:\n",
        "        char2count[char] += 1\n",
        "\n",
        "    sorted_pairs = []\n",
        "    for char, count in char2count.items():\n",
        "      heapq.heappush(sorted_pairs, (-ord(char), char, count))\n",
        "    \n",
        "    longest_string = ''\n",
        "    while sorted_pairs:\n",
        "      _, char, count = heapq.heappop(sorted_pairs)\n",
        "\n",
        "      if count <= repeatLimit:\n",
        "        longest_string += char * count\n",
        "        continue\n",
        "\n",
        "      longest_string += char * repeatLimit\n",
        "\n",
        "      if not sorted_pairs:\n",
        "        break\n",
        "\n",
        "      __, next_char, next_count = heapq.heappop(sorted_pairs)\n",
        "      longest_string += next_char\n",
        "      next_count -= 1\n",
        "      if next_count > 0:\n",
        "        heapq.heappush(sorted_pairs, (__, next_char, next_count))\n",
        "      heapq.heappush(sorted_pairs, (_, char, count - repeatLimit))\n",
        "\n",
        "    return longest_string"
      ]
    },
    {
      "cell_type": "code",
      "execution_count": 2,
      "metadata": {},
      "outputs": [
        {
          "data": {
            "text/plain": [
              "'zzcccac'"
            ]
          },
          "execution_count": 2,
          "metadata": {},
          "output_type": "execute_result"
        }
      ],
      "source": [
        "s = \"cczazcc\"\n",
        "repeatLimit = 3\n",
        "Solution().repeatLimitedString(s=s, repeatLimit=repeatLimit)"
      ]
    },
    {
      "cell_type": "code",
      "execution_count": 3,
      "metadata": {},
      "outputs": [
        {
          "data": {
            "text/plain": [
              "'bbabaa'"
            ]
          },
          "execution_count": 3,
          "metadata": {},
          "output_type": "execute_result"
        }
      ],
      "source": [
        "s = \"aababab\"\n",
        "repeatLimit = 2\n",
        "Solution().repeatLimitedString(s=s, repeatLimit=repeatLimit)"
      ]
    }
  ],
  "metadata": {
    "kernelspec": {
      "display_name": "base",
      "language": "python",
      "name": "python3"
    },
    "language_info": {
      "codemirror_mode": {
        "name": "ipython",
        "version": 3
      },
      "file_extension": ".py",
      "mimetype": "text/x-python",
      "name": "python",
      "nbconvert_exporter": "python",
      "pygments_lexer": "ipython3",
      "version": "3.11.7"
    }
  },
  "nbformat": 4,
  "nbformat_minor": 2
}
