{
  "cells": [
    {
      "cell_type": "code",
      "execution_count": 1,
      "metadata": {},
      "outputs": [],
      "source": [
        "from typing import List\n",
        "\n",
        "\n",
        "class Solution:\n",
        "  def gridGame(self, grid: List[List[int]]) -> int:\n",
        "\n",
        "    n = len(grid[0])\n",
        "    top_prefix = [0] * n\n",
        "    bottom_prefix = [0] * n\n",
        "\n",
        "    top_prefix[0] = grid[0][0]\n",
        "    bottom_prefix[0] = grid[1][0]\n",
        "\n",
        "    for i in range(1, n):\n",
        "      top_prefix[i] = top_prefix[i - 1] + grid[0][i]\n",
        "      bottom_prefix[i] = bottom_prefix[i - 1] + grid[1][i]\n",
        "\n",
        "    result = float('inf')\n",
        "\n",
        "    for i in range(n):\n",
        "      top_remaining = top_prefix[-1] - top_prefix[i]\n",
        "      bottom_remaining = bottom_prefix[i - 1] if i > 0 else 0\n",
        "\n",
        "      second_robot_points = max(top_remaining, bottom_remaining)\n",
        "      result = min(result, second_robot_points)\n",
        "\n",
        "    return result"
      ]
    },
    {
      "cell_type": "code",
      "execution_count": 2,
      "metadata": {},
      "outputs": [
        {
          "data": {
            "text/plain": [
              "4"
            ]
          },
          "execution_count": 2,
          "metadata": {},
          "output_type": "execute_result"
        }
      ],
      "source": [
        "grid = [[2, 5, 4], [1, 5, 1]]\n",
        "Solution().gridGame(grid=grid)"
      ]
    },
    {
      "cell_type": "code",
      "execution_count": 3,
      "metadata": {},
      "outputs": [
        {
          "data": {
            "text/plain": [
              "4"
            ]
          },
          "execution_count": 3,
          "metadata": {},
          "output_type": "execute_result"
        }
      ],
      "source": [
        "grid = [[3, 3, 1], [8, 5, 2]]\n",
        "Solution().gridGame(grid=grid)"
      ]
    },
    {
      "cell_type": "code",
      "execution_count": 4,
      "metadata": {},
      "outputs": [
        {
          "data": {
            "text/plain": [
              "7"
            ]
          },
          "execution_count": 4,
          "metadata": {},
          "output_type": "execute_result"
        }
      ],
      "source": [
        "grid = [[1, 3, 1, 15], [1, 3, 3, 1]]\n",
        "Solution().gridGame(grid=grid)"
      ]
    }
  ],
  "metadata": {
    "kernelspec": {
      "display_name": "base",
      "language": "python",
      "name": "python3"
    },
    "language_info": {
      "codemirror_mode": {
        "name": "ipython",
        "version": 3
      },
      "file_extension": ".py",
      "mimetype": "text/x-python",
      "name": "python",
      "nbconvert_exporter": "python",
      "pygments_lexer": "ipython3",
      "version": "3.11.7"
    }
  },
  "nbformat": 4,
  "nbformat_minor": 2
}
