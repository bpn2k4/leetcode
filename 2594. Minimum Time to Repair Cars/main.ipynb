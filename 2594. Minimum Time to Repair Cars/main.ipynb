{
  "cells": [
    {
      "cell_type": "code",
      "execution_count": 1,
      "metadata": {},
      "outputs": [],
      "source": [
        "from typing import List\n",
        "import math\n",
        "\n",
        "class Solution:\n",
        "  def repairCars(self, ranks: List[int], cars: int) -> int:\n",
        "      \n",
        "    left, right = 1, min(ranks) * cars * cars\n",
        "    while left < right:\n",
        "      mid = (left + right) // 2\n",
        "      total_cars = 0\n",
        "      for rank in ranks:\n",
        "        total_cars += int(math.sqrt(mid // rank))\n",
        "\n",
        "      if total_cars >= cars:\n",
        "        right = mid\n",
        "      else:\n",
        "        left = mid + 1\n",
        "\n",
        "    return left"
      ]
    },
    {
      "cell_type": "code",
      "execution_count": 2,
      "metadata": {},
      "outputs": [
        {
          "data": {
            "text/plain": [
              "16"
            ]
          },
          "execution_count": 2,
          "metadata": {},
          "output_type": "execute_result"
        }
      ],
      "source": [
        "ranks = [4, 2, 3, 1]\n",
        "cars = 10\n",
        "Solution().repairCars(ranks=ranks, cars=cars)"
      ]
    },
    {
      "cell_type": "code",
      "execution_count": 3,
      "metadata": {},
      "outputs": [
        {
          "data": {
            "text/plain": [
              "16"
            ]
          },
          "execution_count": 3,
          "metadata": {},
          "output_type": "execute_result"
        }
      ],
      "source": [
        "ranks = [5, 1, 8]\n",
        "cars = 6\n",
        "Solution().repairCars(ranks=ranks, cars=cars)"
      ]
    }
  ],
  "metadata": {
    "kernelspec": {
      "display_name": "Python 3",
      "language": "python",
      "name": "python3"
    },
    "language_info": {
      "codemirror_mode": {
        "name": "ipython",
        "version": 3
      },
      "file_extension": ".py",
      "mimetype": "text/x-python",
      "name": "python",
      "nbconvert_exporter": "python",
      "pygments_lexer": "ipython3",
      "version": "3.12.1"
    }
  },
  "nbformat": 4,
  "nbformat_minor": 2
}
