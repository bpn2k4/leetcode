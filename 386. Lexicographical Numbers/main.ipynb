{
  "cells": [
    {
      "cell_type": "code",
      "execution_count": 1,
      "metadata": {},
      "outputs": [],
      "source": [
        "from typing import List\n",
        "\n",
        "\n",
        "class Solution:\n",
        "  def lexicalOrder(self, n: int) -> List[int]:\n",
        "\n",
        "    if n < 10:\n",
        "      return list(range(1, n + 1))\n",
        "    \n",
        "    def dfs(i: int) -> List[int]:\n",
        "      \n",
        "      arr = [i]\n",
        "      for j in range(10):\n",
        "        num = i * 10 + j\n",
        "        if num <= n:\n",
        "          arr.extend(dfs(num))\n",
        "        else:\n",
        "          break\n",
        "\n",
        "      return arr\n",
        "    \n",
        "    output = []\n",
        "    for i in range(1, 10):\n",
        "      output.extend(dfs(i))\n",
        "\n",
        "    return output\n",
        "  \n",
        "\n",
        "  def lexicalOrder(self, n: int) -> List[int]:\n",
        "\n",
        "    if n < 10:\n",
        "      return list(range(1, n + 1))\n",
        "    \n",
        "    def dfs(i: int) -> List[int]:\n",
        "      \n",
        "      arr = [i]\n",
        "      for j in range(10):\n",
        "        num = i * 10 + j\n",
        "        if num <= n:\n",
        "          arr = arr + dfs(num)\n",
        "        else:\n",
        "          break\n",
        "\n",
        "      return arr\n",
        "    \n",
        "    output = []\n",
        "    for i in range(1, 10):\n",
        "      output += dfs(i)\n",
        "\n",
        "    return output\n",
        "  \n",
        "  \n",
        "  def lexicalOrder(self, n: int) -> List[int]:\n",
        "\n",
        "    output = []\n",
        "    num = 1\n",
        "    for _ in range(n):\n",
        "      output.append(num)\n",
        "      tmp = num * 10\n",
        "      if tmp <= n:\n",
        "        num = tmp\n",
        "      else:\n",
        "        while num + 1 > n or num % 10 == 9:\n",
        "          num = num // 10\n",
        "        num += 1\n",
        "\n",
        "    return output\n",
        "  \n"
      ]
    },
    {
      "cell_type": "code",
      "execution_count": 2,
      "metadata": {},
      "outputs": [
        {
          "data": {
            "text/plain": [
              "[1, 10, 11, 12, 13, 2, 3, 4, 5, 6, 7, 8, 9]"
            ]
          },
          "execution_count": 2,
          "metadata": {},
          "output_type": "execute_result"
        }
      ],
      "source": [
        "n = 13\n",
        "Solution().lexicalOrder(n=n)"
      ]
    },
    {
      "cell_type": "code",
      "execution_count": 3,
      "metadata": {},
      "outputs": [
        {
          "data": {
            "text/plain": [
              "[1, 2]"
            ]
          },
          "execution_count": 3,
          "metadata": {},
          "output_type": "execute_result"
        }
      ],
      "source": [
        "n = 2\n",
        "Solution().lexicalOrder(n=n)"
      ]
    }
  ],
  "metadata": {
    "kernelspec": {
      "display_name": "base",
      "language": "python",
      "name": "python3"
    },
    "language_info": {
      "codemirror_mode": {
        "name": "ipython",
        "version": 3
      },
      "file_extension": ".py",
      "mimetype": "text/x-python",
      "name": "python",
      "nbconvert_exporter": "python",
      "pygments_lexer": "ipython3",
      "version": "3.11.7"
    }
  },
  "nbformat": 4,
  "nbformat_minor": 2
}
