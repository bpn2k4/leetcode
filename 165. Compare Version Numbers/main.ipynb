{
  "cells": [
    {
      "cell_type": "code",
      "execution_count": 1,
      "metadata": {},
      "outputs": [],
      "source": [
        "class Solution:\n",
        "  def compareVersion(self, version1: str, version2: str) -> int:\n",
        "\n",
        "    V1 = version1.split('.')\n",
        "    V2 = version2.split('.')\n",
        "    n1, n2 = len(V1), len(V2)\n",
        "    for x1, x2 in zip(V1, V2):\n",
        "      if int(x1) < int(x2):\n",
        "        return -1\n",
        "      if int(x1) > int(x2):\n",
        "        return 1\n",
        "    n3 = min(n1, n2)\n",
        "    if n1 < n2:\n",
        "      return -1 if any(int(V2[i]) > 0 for i in range(n3, n2)) else 0\n",
        "    elif n1 > n2:\n",
        "      return 1 if any(int(V1[i]) > 0 for i in range(n3, n1)) else 0\n",
        "    return 0"
      ]
    },
    {
      "cell_type": "code",
      "execution_count": 2,
      "metadata": {},
      "outputs": [
        {
          "data": {
            "text/plain": [
              "-1"
            ]
          },
          "execution_count": 2,
          "metadata": {},
          "output_type": "execute_result"
        }
      ],
      "source": [
        "version1 = \"1.2\"\n",
        "version2 = \"1.10\"\n",
        "Solution().compareVersion(version1=version1, version2=version2)"
      ]
    },
    {
      "cell_type": "code",
      "execution_count": 3,
      "metadata": {},
      "outputs": [
        {
          "data": {
            "text/plain": [
              "0"
            ]
          },
          "execution_count": 3,
          "metadata": {},
          "output_type": "execute_result"
        }
      ],
      "source": [
        "version1 = \"1.01\"\n",
        "version2 = \"1.001\"\n",
        "Solution().compareVersion(version1=version1, version2=version2)"
      ]
    },
    {
      "cell_type": "code",
      "execution_count": 4,
      "metadata": {},
      "outputs": [
        {
          "data": {
            "text/plain": [
              "0"
            ]
          },
          "execution_count": 4,
          "metadata": {},
          "output_type": "execute_result"
        }
      ],
      "source": [
        "version1 = \"1.0\"\n",
        "version2 = \"1.0.0.0\"\n",
        "Solution().compareVersion(version1=version1, version2=version2)"
      ]
    }
  ],
  "metadata": {
    "kernelspec": {
      "display_name": "Python 3",
      "language": "python",
      "name": "python3"
    },
    "language_info": {
      "codemirror_mode": {
        "name": "ipython",
        "version": 3
      },
      "file_extension": ".py",
      "mimetype": "text/x-python",
      "name": "python",
      "nbconvert_exporter": "python",
      "pygments_lexer": "ipython3",
      "version": "3.12.8"
    }
  },
  "nbformat": 4,
  "nbformat_minor": 2
}
