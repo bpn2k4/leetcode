{
  "cells": [
    {
      "cell_type": "code",
      "execution_count": 1,
      "metadata": {},
      "outputs": [],
      "source": [
        "class Solution:\n",
        "  def distributeCandies(self, n: int, limit: int) -> int:\n",
        "\n",
        "    def combination(n):\n",
        "      if n < 2:\n",
        "        return 0\n",
        "      return (n * (n - 1)) // 2\n",
        "\n",
        "    return combination(n + 2) \\\n",
        "        - 3 * combination(n - limit + 1) \\\n",
        "        + 3 * combination(n - (limit + 1) * 2 + 2) \\\n",
        "        - combination(n - 3 * (limit + 1) + 2)"
      ]
    },
    {
      "cell_type": "code",
      "execution_count": 2,
      "metadata": {},
      "outputs": [
        {
          "data": {
            "text/plain": [
              "3"
            ]
          },
          "execution_count": 2,
          "metadata": {},
          "output_type": "execute_result"
        }
      ],
      "source": [
        "n = 5\n",
        "limit = 2\n",
        "Solution().distributeCandies(n=n, limit=limit)"
      ]
    },
    {
      "cell_type": "code",
      "execution_count": 3,
      "metadata": {},
      "outputs": [
        {
          "data": {
            "text/plain": [
              "10"
            ]
          },
          "execution_count": 3,
          "metadata": {},
          "output_type": "execute_result"
        }
      ],
      "source": [
        "n = 3\n",
        "limit = 3\n",
        "Solution().distributeCandies(n=n, limit=limit)"
      ]
    }
  ],
  "metadata": {
    "kernelspec": {
      "display_name": "Python 3",
      "language": "python",
      "name": "python3"
    },
    "language_info": {
      "codemirror_mode": {
        "name": "ipython",
        "version": 3
      },
      "file_extension": ".py",
      "mimetype": "text/x-python",
      "name": "python",
      "nbconvert_exporter": "python",
      "pygments_lexer": "ipython3",
      "version": "3.12.8"
    }
  },
  "nbformat": 4,
  "nbformat_minor": 2
}
