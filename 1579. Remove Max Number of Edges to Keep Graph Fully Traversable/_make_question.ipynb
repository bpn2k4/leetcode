{
 "cells": [
  {
   "cell_type": "code",
   "execution_count": 23,
   "metadata": {},
   "outputs": [],
   "source": [
    "# pip install beautifulsoup4"
   ]
  },
  {
   "cell_type": "code",
   "execution_count": 17,
   "metadata": {},
   "outputs": [],
   "source": [
    "from bs4 import BeautifulSoup\n",
    "import uuid\n",
    "import requests\n",
    "import os\n",
    "\n",
    "with open('_input.txt', 'r', encoding='utf') as f:\n",
    "  data = f.read()\n",
    "\n",
    "html = BeautifulSoup(data, 'lxml')\n",
    "html = html.find('div', class_='flexlayout__tab')\n",
    "\n",
    "problem_name = html.find('div').find('div').find('div').find('div').find('div').find(\"a\").get_text()\n",
    "problem_name = problem_name.split('.')[1:]\n",
    "problem_name = \".\".join(problem_name).strip()\n",
    "problem = html.find('div', class_='elfjS')\n",
    "images = problem.find_all('img')\n",
    "img = []\n",
    "if os.path.exists(\"assets\"):\n",
    "  files = os.listdir(\"assets\")\n",
    "  for file in files:\n",
    "    os.remove(os.path.join(\"assets\", file))\n",
    "  os.removedirs(\"assets\")\n",
    "os.makedirs(\"assets\", exist_ok=True)\n",
    "for image in images:\n",
    "  src = image.get('src')\n",
    "  file_extension = src.split(\".\")[-1]\n",
    "  file_name = uuid.uuid4().__str__().replace(\"-\", \"\")\n",
    "  response = requests.get(src)\n",
    "  if response.status_code == 200:\n",
    "    with open(f\"assets/{file_name}.{file_extension}\", \"wb\") as f:\n",
    "      f.write(response.content)\n",
    "  else:\n",
    "    response = requests.get(src)\n",
    "    if response.status_code == 200:\n",
    "      with open(f\"{file_name}.{file_extension}\", \"wb\") as f:\n",
    "        f.write(response.content)\n",
    "  img.append({\n",
    "    \"source\": src,\n",
    "    \"target\": f\"assets/{file_name}.{file_extension}\"\n",
    "  })\n",
    "\n",
    "template = f\"\"\"\n",
    "<h3>{problem_name}</h3>\n",
    "{problem}\n",
    "\"\"\"\n",
    "\n",
    "template = template \\\n",
    "  .replace(\" class=\\\"elfjS\\\" data-track-load=\\\"description_content\\\"\", \"\") \\\n",
    "  .replace(\" class=\\\"example\\\"\", \"\")\n",
    "\n",
    "for image in img:\n",
    "  template = template.replace(image['source'], image['target'])\n",
    "\n",
    "f = open(\"_question.md\", \"w\", encoding='utf-8')\n",
    "f.write(template)\n",
    "f.close()\n",
    "f = open(\"README.md\", \"w\", encoding='utf-8')\n",
    "f.write(template)\n",
    "f.close()"
   ]
  }
 ],
 "metadata": {
  "kernelspec": {
   "display_name": "base",
   "language": "python",
   "name": "python3"
  },
  "language_info": {
   "codemirror_mode": {
    "name": "ipython",
    "version": 3
   },
   "file_extension": ".py",
   "mimetype": "text/x-python",
   "name": "python",
   "nbconvert_exporter": "python",
   "pygments_lexer": "ipython3",
   "version": "3.11.7"
  }
 },
 "nbformat": 4,
 "nbformat_minor": 2
}
