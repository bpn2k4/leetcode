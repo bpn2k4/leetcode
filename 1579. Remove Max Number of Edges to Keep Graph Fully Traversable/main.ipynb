{
 "cells": [
  {
   "cell_type": "code",
   "execution_count": 5,
   "metadata": {},
   "outputs": [],
   "source": [
    "from typing import List\n",
    "\n",
    "\n",
    "\n",
    "class Solution:\n",
    "  def maxNumEdgesToRemove(self, n: int, edges: List[List[int]]) -> int:\n",
    "    \n",
    "    class UnionFind:\n",
    "      def __init__(self, size):\n",
    "        self.parent = list(range(size))\n",
    "        self.rank = [1] * size\n",
    "        self.components = size\n",
    "      \n",
    "      def find(self, u):\n",
    "        if self.parent[u] != u:\n",
    "          self.parent[u] = self.find(self.parent[u])\n",
    "        return self.parent[u]\n",
    "      \n",
    "      def union(self, u, v):\n",
    "        root_u = self.find(u)\n",
    "        root_v = self.find(v)\n",
    "        if root_u != root_v:\n",
    "          if self.rank[root_u] > self.rank[root_v]:\n",
    "            self.parent[root_v] = root_u\n",
    "          elif self.rank[root_u] < self.rank[root_v]:\n",
    "            self.parent[root_u] = root_v\n",
    "          else:\n",
    "            self.parent[root_v] = root_u\n",
    "            self.rank[root_u] += 1\n",
    "          self.components -= 1\n",
    "          return True\n",
    "        return False\n",
    "\n",
    "\n",
    "    edges.sort(reverse=True, key=lambda x: x[0])\n",
    "    \n",
    "    uf_alice = UnionFind(n + 1)\n",
    "    uf_bob = UnionFind(n + 1)\n",
    "    \n",
    "    removable_edges = 0\n",
    "    \n",
    "    for t, u, v in edges:\n",
    "      if t == 3:\n",
    "        if not (uf_alice.union(u, v) and uf_bob.union(u, v)):\n",
    "          removable_edges += 1\n",
    "      elif t == 1:\n",
    "        if not uf_alice.union(u, v):\n",
    "          removable_edges += 1\n",
    "      elif t == 2:\n",
    "        if not uf_bob.union(u, v):\n",
    "          removable_edges += 1\n",
    "    \n",
    "    if uf_alice.components > 2 or uf_bob.components > 2:\n",
    "      return -1\n",
    "    \n",
    "    return removable_edges"
   ]
  },
  {
   "cell_type": "code",
   "execution_count": 6,
   "metadata": {},
   "outputs": [
    {
     "data": {
      "text/plain": [
       "2"
      ]
     },
     "execution_count": 6,
     "metadata": {},
     "output_type": "execute_result"
    }
   ],
   "source": [
    "Solution().maxNumEdgesToRemove(n = 4, edges = [[3,1,2],[3,2,3],[1,1,3],[1,2,4],[1,1,2],[2,3,4]])"
   ]
  },
  {
   "cell_type": "code",
   "execution_count": 7,
   "metadata": {},
   "outputs": [
    {
     "data": {
      "text/plain": [
       "0"
      ]
     },
     "execution_count": 7,
     "metadata": {},
     "output_type": "execute_result"
    }
   ],
   "source": [
    "Solution().maxNumEdgesToRemove(n = 4, edges = [[3,1,2],[3,2,3],[1,1,4],[2,1,4]])"
   ]
  },
  {
   "cell_type": "code",
   "execution_count": 8,
   "metadata": {},
   "outputs": [
    {
     "data": {
      "text/plain": [
       "-1"
      ]
     },
     "execution_count": 8,
     "metadata": {},
     "output_type": "execute_result"
    }
   ],
   "source": [
    "Solution().maxNumEdgesToRemove(n = 4, edges = [[3,2,3],[1,1,2],[2,3,4]])"
   ]
  }
 ],
 "metadata": {
  "kernelspec": {
   "display_name": "base",
   "language": "python",
   "name": "python3"
  },
  "language_info": {
   "codemirror_mode": {
    "name": "ipython",
    "version": 3
   },
   "file_extension": ".py",
   "mimetype": "text/x-python",
   "name": "python",
   "nbconvert_exporter": "python",
   "pygments_lexer": "ipython3",
   "version": "3.11.7"
  }
 },
 "nbformat": 4,
 "nbformat_minor": 2
}
