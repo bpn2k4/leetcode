{
  "cells": [
    {
      "cell_type": "code",
      "execution_count": 1,
      "metadata": {},
      "outputs": [],
      "source": [
        "class Solution:\n",
        "  def countPalindromicSubsequence(self, s: str) -> int:\n",
        "    \n",
        "    n = len(s)\n",
        "    char2position = {char: [-1, -1, set()] for char in s}\n",
        "    for index, char in enumerate(s):\n",
        "      if char2position[char][0] == -1:\n",
        "        char2position[char][0] = index\n",
        "      char2position[char][1] = index\n",
        "\n",
        "    for index in range(n):\n",
        "      current_char = s[index]\n",
        "      for char in char2position:\n",
        "        if char2position[char][0] < index < char2position[char][1]:\n",
        "          char2position[char][2].add(current_char)\n",
        "\n",
        "    count = 0\n",
        "    for char in char2position:\n",
        "      count += len(char2position[char][2])\n",
        "\n",
        "    return count\n",
        "  \n",
        "  def countPalindromicSubsequence(self, s: str) -> int:\n",
        "    \n",
        "    char2left_right = {char: [-1, -1] for char in s}\n",
        "    for index, char in enumerate(s):\n",
        "      if char2left_right[char][0] == -1:\n",
        "        char2left_right[char][0] = index\n",
        "      char2left_right[char][1] = index\n",
        "\n",
        "    count = 0\n",
        "    for char in char2left_right:\n",
        "      left, right = char2left_right[char]\n",
        "      if right - left <= 1:\n",
        "        continue\n",
        "      count += len(set(s[left + 1: right]))\n",
        "\n",
        "    return count"
      ]
    },
    {
      "cell_type": "code",
      "execution_count": 2,
      "metadata": {},
      "outputs": [
        {
          "data": {
            "text/plain": [
              "3"
            ]
          },
          "execution_count": 2,
          "metadata": {},
          "output_type": "execute_result"
        }
      ],
      "source": [
        "s = \"aabca\"\n",
        "Solution().countPalindromicSubsequence(s=s)"
      ]
    },
    {
      "cell_type": "code",
      "execution_count": 3,
      "metadata": {},
      "outputs": [
        {
          "data": {
            "text/plain": [
              "0"
            ]
          },
          "execution_count": 3,
          "metadata": {},
          "output_type": "execute_result"
        }
      ],
      "source": [
        "s = \"adc\"\n",
        "Solution().countPalindromicSubsequence(s=s)"
      ]
    },
    {
      "cell_type": "code",
      "execution_count": 4,
      "metadata": {},
      "outputs": [
        {
          "data": {
            "text/plain": [
              "4"
            ]
          },
          "execution_count": 4,
          "metadata": {},
          "output_type": "execute_result"
        }
      ],
      "source": [
        "s = \"bbcbaba\"\n",
        "Solution().countPalindromicSubsequence(s=s)"
      ]
    }
  ],
  "metadata": {
    "kernelspec": {
      "display_name": "base",
      "language": "python",
      "name": "python3"
    },
    "language_info": {
      "codemirror_mode": {
        "name": "ipython",
        "version": 3
      },
      "file_extension": ".py",
      "mimetype": "text/x-python",
      "name": "python",
      "nbconvert_exporter": "python",
      "pygments_lexer": "ipython3",
      "version": "3.11.7"
    }
  },
  "nbformat": 4,
  "nbformat_minor": 2
}
