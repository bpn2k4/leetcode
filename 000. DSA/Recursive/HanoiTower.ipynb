{
 "cells": [
  {
   "cell_type": "markdown",
   "metadata": {},
   "source": [
    "The Tower of Hanoi problem <br>\n",
    "There are n disks with different sizes and 3 pegs A, B, C <br>\n",
    "Initially, the n disks are on peg A with the smallest disk on top and the largest disk at the bottom <br>\n",
    "Find a way to move these n disks from peg A to peg B, using peg C as an intermediate according to the principle <br>\n",
    "Only one disk at a time can be moved from one peg to another <br>\n",
    "It is not allowed for a larger disk to be placed on top of a smaller one <br>"
   ]
  },
  {
   "cell_type": "code",
   "execution_count": 4,
   "metadata": {},
   "outputs": [
    {
     "name": "stdout",
     "output_type": "stream",
     "text": [
      "Move 1 disk from A -> B\n",
      "Move 1 disk from A -> C\n",
      "Move 1 disk from B -> C\n",
      "Move 1 disk from A -> B\n",
      "Move 1 disk from C -> A\n",
      "Move 1 disk from C -> B\n",
      "Move 1 disk from A -> B\n"
     ]
    }
   ],
   "source": [
    "def HanoiTower(n: int, A: str, B: str, C: str):\n",
    "  if n == 1:\n",
    "    print(f\"Move 1 disk from {A} -> {B}\")\n",
    "  else:\n",
    "    HanoiTower(n-1, A, C, B)\n",
    "    HanoiTower( 1 , A, B, C)\n",
    "    HanoiTower(n-1, C, B, A)\n",
    "HanoiTower(3, \"A\", \"B\", \"C\")"
   ]
  }
 ],
 "metadata": {
  "kernelspec": {
   "display_name": "base",
   "language": "python",
   "name": "python3"
  },
  "language_info": {
   "codemirror_mode": {
    "name": "ipython",
    "version": 3
   },
   "file_extension": ".py",
   "mimetype": "text/x-python",
   "name": "python",
   "nbconvert_exporter": "python",
   "pygments_lexer": "ipython3",
   "version": "3.11.7"
  }
 },
 "nbformat": 4,
 "nbformat_minor": 2
}
