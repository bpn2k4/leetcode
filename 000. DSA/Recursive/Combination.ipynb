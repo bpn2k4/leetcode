{
 "cells": [
  {
   "cell_type": "code",
   "execution_count": 1,
   "metadata": {},
   "outputs": [],
   "source": [
    "def C(k: int, n: int):\n",
    "  if k == 0 or k == n:\n",
    "    return 1\n",
    "  return C(k-1, n-1) + C(k, n-1)"
   ]
  },
  {
   "cell_type": "code",
   "execution_count": 2,
   "metadata": {},
   "outputs": [
    {
     "name": "stdout",
     "output_type": "stream",
     "text": [
      "10\n",
      "28\n",
      "252\n"
     ]
    }
   ],
   "source": [
    "print(C(3, 5))\n",
    "print(C(2, 8))\n",
    "print(C(5, 10))"
   ]
  },
  {
   "cell_type": "code",
   "execution_count": 3,
   "metadata": {},
   "outputs": [
    {
     "name": "stdout",
     "output_type": "stream",
     "text": [
      "10\n",
      "28\n",
      "252\n"
     ]
    }
   ],
   "source": [
    "def C(k: int, n: int):\n",
    "  return 1 if k == 0 or k ==n else C(k-1, n-1) + C(k, n-1)\n",
    "print(C(3, 5))\n",
    "print(C(2, 8))\n",
    "print(C(5, 10))"
   ]
  },
  {
   "cell_type": "code",
   "execution_count": 4,
   "metadata": {},
   "outputs": [
    {
     "name": "stderr",
     "output_type": "stream",
     "text": [
      "..........\n"
     ]
    },
    {
     "name": "stderr",
     "output_type": "stream",
     "text": [
      "----------------------------------------------------------------------\n",
      "Ran 10 tests in 0.007s\n",
      "\n",
      "OK\n"
     ]
    },
    {
     "data": {
      "text/plain": [
       "<unittest.main.TestProgram at 0x1f9ba9ef350>"
      ]
     },
     "execution_count": 4,
     "metadata": {},
     "output_type": "execute_result"
    }
   ],
   "source": [
    "import unittest\n",
    "\n",
    "class TestCFunction(unittest.TestCase):\n",
    "    \n",
    "    def test_base_case_k_0(self):\n",
    "        self.assertEqual(C(0, 5), 1)\n",
    "\n",
    "    def test_base_case_k_n(self):\n",
    "        self.assertEqual(C(5, 5), 1)\n",
    "\n",
    "    def test_general_case_1(self):\n",
    "        self.assertEqual(C(1, 5), 5)\n",
    "\n",
    "    def test_general_case_2(self):\n",
    "        self.assertEqual(C(2, 5), 10)\n",
    "\n",
    "    def test_general_case_3(self):\n",
    "        self.assertEqual(C(3, 5), 10)\n",
    "\n",
    "    def test_general_case_4(self):\n",
    "        self.assertEqual(C(2, 6), 15)\n",
    "\n",
    "    def test_general_case_5(self):\n",
    "        self.assertEqual(C(3, 6), 20)\n",
    "\n",
    "    def test_general_case_6(self):\n",
    "        self.assertEqual(C(4, 6), 15)\n",
    "\n",
    "    def test_general_case_7(self):\n",
    "        self.assertEqual(C(1, 10), 10)\n",
    "\n",
    "    def test_general_case_8(self):\n",
    "        self.assertEqual(C(2, 10), 45)\n",
    "\n",
    "unittest.main(argv=[''], exit=False)"
   ]
  }
 ],
 "metadata": {
  "kernelspec": {
   "display_name": "base",
   "language": "python",
   "name": "python3"
  },
  "language_info": {
   "codemirror_mode": {
    "name": "ipython",
    "version": 3
   },
   "file_extension": ".py",
   "mimetype": "text/x-python",
   "name": "python",
   "nbconvert_exporter": "python",
   "pygments_lexer": "ipython3",
   "version": "3.11.7"
  }
 },
 "nbformat": 4,
 "nbformat_minor": 2
}
