{
 "cells": [
  {
   "cell_type": "code",
   "execution_count": 4,
   "metadata": {},
   "outputs": [
    {
     "data": {
      "text/plain": [
       "8871412534840453463008"
      ]
     },
     "execution_count": 4,
     "metadata": {},
     "output_type": "execute_result"
    }
   ],
   "source": [
    "def C(k: int, n: int):\n",
    "  q = [[-1 for _ in range(n+1)] for _ in range(k+1)]\n",
    "\n",
    "  def _C(k: int, n: int):\n",
    "    for i in range(k+1):\n",
    "      for j in range(n+1):\n",
    "        if i <= j:\n",
    "          if i == 0 or i == j:\n",
    "            q[i][j]= 1\n",
    "          else:\n",
    "            if q[i][j] < 0:\n",
    "              q[i][j] = _C(i-1, j-1) + _C(i, j-1)\n",
    "    return q[k][n]\n",
    "  return _C(k, n)\n",
    "C(30, 80)"
   ]
  },
  {
   "cell_type": "code",
   "execution_count": 6,
   "metadata": {},
   "outputs": [
    {
     "data": {
      "text/plain": [
       "8871412534840453463008"
      ]
     },
     "execution_count": 6,
     "metadata": {},
     "output_type": "execute_result"
    }
   ],
   "source": [
    "def C(k: int, n: int):\n",
    "  q = [[-1 for _ in range(n+1)] for _ in range(k+1)]\n",
    "  for i in range(k+1):\n",
    "    for j in range(n+1):\n",
    "      if i <= j:\n",
    "        if i == 0 or i == j:\n",
    "          q[i][j]= 1\n",
    "        else:\n",
    "          q[i][j] = q[i-1][j-1] + q[i][j-1]\n",
    "  return q[k][n]\n",
    "C(30, 80)"
   ]
  },
  {
   "cell_type": "code",
   "execution_count": 2,
   "metadata": {},
   "outputs": [
    {
     "name": "stdout",
     "output_type": "stream",
     "text": [
      "[1]\n",
      "[-1]\n",
      "[-1]\n"
     ]
    },
    {
     "data": {
      "text/plain": [
       "-1"
      ]
     },
     "execution_count": 2,
     "metadata": {},
     "output_type": "execute_result"
    }
   ],
   "source": [
    "C(2, 0)"
   ]
  },
  {
   "cell_type": "code",
   "execution_count": 3,
   "metadata": {},
   "outputs": [
    {
     "name": "stderr",
     "output_type": "stream",
     "text": [
      "........"
     ]
    },
    {
     "name": "stderr",
     "output_type": "stream",
     "text": [
      "..\n",
      "----------------------------------------------------------------------\n",
      "Ran 10 tests in 0.007s\n",
      "\n",
      "OK\n"
     ]
    },
    {
     "name": "stdout",
     "output_type": "stream",
     "text": [
      "[1, 1, 1, 1, 1, 1]\n",
      "[1, 1, 1, 1, 1, 1]\n",
      "[-1, 1, 2, 3, 4, 5]\n",
      "[-1, -1, 1, 3, 6, 10]\n",
      "[-1, -1, -1, 1, 4, 10]\n",
      "[-1, -1, -1, -1, 1, 5]\n",
      "[-1, -1, -1, -1, -1, 1]\n",
      "[1, 1, 1, 1, 1, 1]\n",
      "[-1, 1, 2, 3, 4, 5]\n",
      "[1, 1, 1, 1, 1, 1]\n",
      "[-1, 1, 2, 3, 4, 5]\n",
      "[-1, -1, 1, 3, 6, 10]\n",
      "[1, 1, 1, 1, 1, 1]\n",
      "[-1, 1, 2, 3, 4, 5]\n",
      "[-1, -1, 1, 3, 6, 10]\n",
      "[-1, -1, -1, 1, 4, 10]\n",
      "[1, 1, 1, 1, 1, 1, 1]\n",
      "[-1, 1, 2, 3, 4, 5, 6]\n",
      "[-1, -1, 1, 3, 6, 10, 15]\n",
      "[1, 1, 1, 1, 1, 1, 1]\n",
      "[-1, 1, 2, 3, 4, 5, 6]\n",
      "[-1, -1, 1, 3, 6, 10, 15]\n",
      "[-1, -1, -1, 1, 4, 10, 20]\n",
      "[1, 1, 1, 1, 1, 1, 1]\n",
      "[-1, 1, 2, 3, 4, 5, 6]\n",
      "[-1, -1, 1, 3, 6, 10, 15]\n",
      "[-1, -1, -1, 1, 4, 10, 20]\n",
      "[-1, -1, -1, -1, 1, 5, 15]\n",
      "[1, 1, 1, 1, 1, 1, 1, 1, 1, 1, 1]\n",
      "[-1, 1, 2, 3, 4, 5, 6, 7, 8, 9, 10]\n",
      "[1, 1, 1, 1, 1, 1, 1, 1, 1, 1, 1]\n",
      "[-1, 1, 2, 3, 4, 5, 6, 7, 8, 9, 10]\n",
      "[-1, -1, 1, 3, 6, 10, 15, 21, 28, 36, 45]\n"
     ]
    },
    {
     "data": {
      "text/plain": [
       "<unittest.main.TestProgram at 0x1fc4b3b3d10>"
      ]
     },
     "execution_count": 3,
     "metadata": {},
     "output_type": "execute_result"
    }
   ],
   "source": [
    "import unittest\n",
    "\n",
    "class TestCFunction(unittest.TestCase):\n",
    "    \n",
    "    def test_base_case_k_0(self):\n",
    "        self.assertEqual(C(0, 5), 1)\n",
    "\n",
    "    def test_base_case_k_n(self):\n",
    "        self.assertEqual(C(5, 5), 1)\n",
    "\n",
    "    def test_general_case_1(self):\n",
    "        self.assertEqual(C(1, 5), 5)\n",
    "\n",
    "    def test_general_case_2(self):\n",
    "        self.assertEqual(C(2, 5), 10)\n",
    "\n",
    "    def test_general_case_3(self):\n",
    "        self.assertEqual(C(3, 5), 10)\n",
    "\n",
    "    def test_general_case_4(self):\n",
    "        self.assertEqual(C(2, 6), 15)\n",
    "\n",
    "    def test_general_case_5(self):\n",
    "        self.assertEqual(C(3, 6), 20)\n",
    "\n",
    "    def test_general_case_6(self):\n",
    "        self.assertEqual(C(4, 6), 15)\n",
    "\n",
    "    def test_general_case_7(self):\n",
    "        self.assertEqual(C(1, 10), 10)\n",
    "\n",
    "    def test_general_case_8(self):\n",
    "        self.assertEqual(C(2, 10), 45)\n",
    "\n",
    "unittest.main(argv=[''], exit=False)"
   ]
  }
 ],
 "metadata": {
  "kernelspec": {
   "display_name": "base",
   "language": "python",
   "name": "python3"
  },
  "language_info": {
   "codemirror_mode": {
    "name": "ipython",
    "version": 3
   },
   "file_extension": ".py",
   "mimetype": "text/x-python",
   "name": "python",
   "nbconvert_exporter": "python",
   "pygments_lexer": "ipython3",
   "version": "3.11.7"
  }
 },
 "nbformat": 4,
 "nbformat_minor": 2
}
