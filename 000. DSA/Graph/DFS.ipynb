{
 "cells": [
  {
   "cell_type": "code",
   "execution_count": 1,
   "metadata": {},
   "outputs": [],
   "source": [
    "from typing import List\n",
    "\n",
    "\n",
    "def dfs(nums_of_vertexes: int, edges: List[List[int]]) -> List[int]:\n",
    "\n",
    "  graph = {i: [] for i in range(nums_of_vertexes)}\n",
    "  for [i, j] in edges:\n",
    "    graph[i].append(j)\n",
    "    graph[j].append(i)\n",
    "  for i in range(nums_of_vertexes):\n",
    "    graph[i].sort()\n",
    "\n",
    "  visited = [False] * nums_of_vertexes\n",
    "  result = []\n",
    "\n",
    "  def _dfs(vertex: int) -> None:\n",
    "    visited[vertex] = True\n",
    "    result.append(vertex)\n",
    "    for neighbor in graph[vertex]:\n",
    "      if not visited[neighbor]:\n",
    "        _dfs(neighbor)\n",
    "\n",
    "  _dfs(0)\n",
    "\n",
    "  return result"
   ]
  },
  {
   "cell_type": "code",
   "execution_count": 2,
   "metadata": {},
   "outputs": [
    {
     "data": {
      "text/plain": [
       "[0, 1, 2, 3, 17, 10, 6, 5, 4, 7, 11, 8, 9, 13, 16, 12, 15, 14]"
      ]
     },
     "execution_count": 2,
     "metadata": {},
     "output_type": "execute_result"
    }
   ],
   "source": [
    "edges = [\n",
    "    [0, 1], [0, 2], [0, 4], [0, 7],\n",
    "    [0, 14], [1, 2], [1, 5], [2, 3],\n",
    "    [2, 6], [3, 17], [4, 5], [4, 7],\n",
    "    [5, 6], [5, 8], [5, 9], [6, 9],\n",
    "    [6, 10], [7, 11], [7, 14], [8, 9],\n",
    "    [8, 11], [8, 12], [9, 10], [9, 13],\n",
    "    [10, 13], [10, 17], [11, 12], [11, 15],\n",
    "    [12, 16], [13, 16], [14, 15], [15, 15],\n",
    "    [15, 17], [16, 17]\n",
    "]\n",
    "dfs(18, edges)"
   ]
  },
  {
   "cell_type": "code",
   "execution_count": 3,
   "metadata": {},
   "outputs": [
    {
     "data": {
      "text/plain": [
       "[0, 1, 5, 2, 3, 6, 9, 8, 7, 4, 11, 12, 15, 14, 16, 13, 10, 17]"
      ]
     },
     "execution_count": 3,
     "metadata": {},
     "output_type": "execute_result"
    }
   ],
   "source": [
    "edges = [\n",
    "    [0, 1], [0, 2], [0, 14], [1, 5],\n",
    "    [2, 3], [2, 5], [2, 6], [3, 6],\n",
    "    [3, 17], [4, 5], [4, 7], [5, 9],\n",
    "    [6, 9], [6, 10], [7, 8], [8, 9],\n",
    "    [8, 11], [9, 10], [10, 13], [10, 17],\n",
    "    [11, 12], [11, 14], [12, 15], [12, 16],\n",
    "    [13, 16], [13, 17], [14, 15], [15, 16],\n",
    "    [16, 17]\n",
    "]\n",
    "dfs(18, edges)"
   ]
  },
  {
   "cell_type": "code",
   "execution_count": 4,
   "metadata": {},
   "outputs": [
    {
     "data": {
      "text/plain": [
       "[0, 2, 1, 5, 3, 6, 9, 12, 11, 7, 4, 8, 14, 15, 17, 13, 10, 16]"
      ]
     },
     "execution_count": 4,
     "metadata": {},
     "output_type": "execute_result"
    }
   ],
   "source": [
    "edges = [\n",
    "    [0, 2], [0, 7], [0, 14], [1, 2],\n",
    "    [1, 5], [2, 3], [3, 6], [4, 7],\n",
    "    [6, 9], [6, 10], [7, 8], [7, 11],\n",
    "    [8, 11], [9, 12], [9, 13], [10, 13],\n",
    "    [11, 12], [11, 14], [11, 15], [12, 15],\n",
    "    [13, 16], [13, 17], [15, 17]\n",
    "]\n",
    "dfs(18, edges)"
   ]
  }
 ],
 "metadata": {
  "kernelspec": {
   "display_name": "base",
   "language": "python",
   "name": "python3"
  },
  "language_info": {
   "codemirror_mode": {
    "name": "ipython",
    "version": 3
   },
   "file_extension": ".py",
   "mimetype": "text/x-python",
   "name": "python",
   "nbconvert_exporter": "python",
   "pygments_lexer": "ipython3",
   "version": "3.11.7"
  }
 },
 "nbformat": 4,
 "nbformat_minor": 2
}
