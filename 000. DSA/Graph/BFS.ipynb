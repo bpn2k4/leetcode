{
 "cells": [
  {
   "cell_type": "code",
   "execution_count": 9,
   "metadata": {},
   "outputs": [],
   "source": [
    "from typing import List\n",
    "\n",
    "\n",
    "def bfs(nums_of_vertexes: int, edges: List[List[int]]) -> List[int]:\n",
    "\n",
    "  graph = {i: [] for i in range(nums_of_vertexes)}\n",
    "  for [i, j] in edges:\n",
    "    graph[i].append(j)\n",
    "    graph[j].append(i)\n",
    "  for i in range(nums_of_vertexes):\n",
    "    graph[i].sort()\n",
    "\n",
    "  visited = [False] * nums_of_vertexes\n",
    "  result = []\n",
    "  stack = [0]\n",
    "  while stack:\n",
    "    vertex = stack.pop(0)\n",
    "    if visited[vertex] == False:\n",
    "      visited[vertex] = True\n",
    "      result.append(vertex)\n",
    "      for neighbor in graph[vertex]:\n",
    "        if not visited[neighbor]:\n",
    "          stack.append(neighbor)\n",
    "\n",
    "  return result"
   ]
  },
  {
   "cell_type": "code",
   "execution_count": 10,
   "metadata": {},
   "outputs": [
    {
     "data": {
      "text/plain": [
       "[0, 1, 2, 4, 7, 14, 5, 3, 6, 11, 15, 8, 9, 17, 10, 12, 13, 16]"
      ]
     },
     "execution_count": 10,
     "metadata": {},
     "output_type": "execute_result"
    }
   ],
   "source": [
    "edges = [\n",
    "    [0, 1], [0, 2], [0, 4], [0, 7],\n",
    "    [0, 14], [1, 2], [1, 5], [2, 3],\n",
    "    [2, 6], [3, 17], [4, 5], [4, 7],\n",
    "    [5, 6], [5, 8], [5, 9], [6, 9],\n",
    "    [6, 10], [7, 11], [7, 14], [8, 9],\n",
    "    [8, 11], [8, 12], [9, 10], [9, 13],\n",
    "    [10, 13], [10, 17], [11, 12], [11, 15],\n",
    "    [12, 16], [13, 16], [14, 15], [15, 15],\n",
    "    [15, 17], [16, 17]\n",
    "]\n",
    "bfs(18, edges)"
   ]
  },
  {
   "cell_type": "code",
   "execution_count": 11,
   "metadata": {},
   "outputs": [
    {
     "data": {
      "text/plain": [
       "[0, 1, 2, 14, 5, 3, 6, 11, 15, 4, 9, 17, 10, 8, 12, 16, 7, 13]"
      ]
     },
     "execution_count": 11,
     "metadata": {},
     "output_type": "execute_result"
    }
   ],
   "source": [
    "edges = [\n",
    "    [0, 1], [0, 2], [0, 14], [1, 5],\n",
    "    [2, 3], [2, 5], [2, 6], [3, 6],\n",
    "    [3, 17], [4, 5], [4, 7], [5, 9],\n",
    "    [6, 9], [6, 10], [7, 8], [8, 9],\n",
    "    [8, 11], [9, 10], [10, 13], [10, 17],\n",
    "    [11, 12], [11, 14], [12, 15], [12, 16],\n",
    "    [13, 16], [13, 17], [14, 15], [15, 16],\n",
    "    [16, 17]\n",
    "]\n",
    "bfs(18, edges)"
   ]
  },
  {
   "cell_type": "code",
   "execution_count": 12,
   "metadata": {},
   "outputs": [
    {
     "data": {
      "text/plain": [
       "[0, 2, 7, 14, 1, 3, 4, 8, 11, 5, 6, 12, 15, 9, 10, 17, 13, 16]"
      ]
     },
     "execution_count": 12,
     "metadata": {},
     "output_type": "execute_result"
    }
   ],
   "source": [
    "edges = [\n",
    "    [0, 2], [0, 7], [0, 14], [1, 2],\n",
    "    [1, 5], [2, 3], [3, 6], [4, 7],\n",
    "    [6, 9], [6, 10], [7, 8], [7, 11],\n",
    "    [8, 11], [9, 12], [9, 13], [10, 13],\n",
    "    [11, 12], [11, 14], [11, 15], [12, 15],\n",
    "    [13, 16], [13, 17], [15, 17]\n",
    "]\n",
    "bfs(18, edges)"
   ]
  }
 ],
 "metadata": {
  "kernelspec": {
   "display_name": "base",
   "language": "python",
   "name": "python3"
  },
  "language_info": {
   "codemirror_mode": {
    "name": "ipython",
    "version": 3
   },
   "file_extension": ".py",
   "mimetype": "text/x-python",
   "name": "python",
   "nbconvert_exporter": "python",
   "pygments_lexer": "ipython3",
   "version": "3.11.7"
  }
 },
 "nbformat": 4,
 "nbformat_minor": 2
}
