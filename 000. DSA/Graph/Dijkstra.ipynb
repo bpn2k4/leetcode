{
 "cells": [
  {
   "cell_type": "markdown",
   "metadata": {},
   "source": [
    "<p align=\"center\">\n",
    "  <img width=\"40%\" src=\"assets/dijkstra-1.png\" />\n",
    "</p>"
   ]
  },
  {
   "cell_type": "code",
   "execution_count": 1,
   "metadata": {},
   "outputs": [],
   "source": [
    "import heapq"
   ]
  },
  {
   "cell_type": "code",
   "execution_count": 2,
   "metadata": {},
   "outputs": [],
   "source": [
    "graph = {\n",
    "  1: [(2, 7), (3, 12)],\n",
    "  2: [(3, 2), (4, 9)],\n",
    "  3: [(5, 10)],\n",
    "  4: [(6, 1)],\n",
    "  5: [(4, 4), (6, 5)],\n",
    "  6: []\n",
    "}\n",
    "n = 6"
   ]
  },
  {
   "cell_type": "code",
   "execution_count": 3,
   "metadata": {},
   "outputs": [
    {
     "name": "stdout",
     "output_type": "stream",
     "text": [
      "Smallest length from 1 to node 2 is 7 with path: 1 -> 2\n",
      "Smallest length from 1 to node 3 is 9 with path: 1 -> 2 -> 3\n",
      "Smallest length from 1 to node 4 is 16 with path: 1 -> 2 -> 4\n",
      "Smallest length from 1 to node 5 is 19 with path: 1 -> 2 -> 3 -> 5\n",
      "Smallest length from 1 to node 6 is 17 with path: 1 -> 2 -> 4 -> 6\n"
     ]
    }
   ],
   "source": [
    "distances = {i: 100000 for i in range(1, n + 1)}\n",
    "distances[1] = 0\n",
    "visited = [False] * (n + 1)\n",
    "parent = [-1] * (n + 1)\n",
    "queue = [(0, 1)]\n",
    "\n",
    "while queue:\n",
    "  distance, node = heapq.heappop(queue)\n",
    "\n",
    "  if visited[node]:\n",
    "    continue\n",
    "\n",
    "  visited[node] = True\n",
    "\n",
    "  for neighbor, weight in graph[node]:\n",
    "    new_distance = distance + weight\n",
    "\n",
    "    if new_distance < distances[neighbor]:\n",
    "      distances[neighbor] = new_distance\n",
    "      parent[neighbor] = node\n",
    "      heapq.heappush(queue, (new_distance, neighbor))\n",
    "\n",
    "for i in range(2, n + 1):\n",
    "  path = []\n",
    "  node = i\n",
    "  while parent[node] != -1:\n",
    "    path.append(node)\n",
    "    node = parent[node]\n",
    "  path.append(1)\n",
    "  path = [str(i) for i in path[::-1]]\n",
    "  print(f\"Smallest length from 1 to node {i} is {distances[i]} with path: {' -> '.join(path)}\")\n"
   ]
  }
 ],
 "metadata": {
  "kernelspec": {
   "display_name": "base",
   "language": "python",
   "name": "python3"
  },
  "language_info": {
   "codemirror_mode": {
    "name": "ipython",
    "version": 3
   },
   "file_extension": ".py",
   "mimetype": "text/x-python",
   "name": "python",
   "nbconvert_exporter": "python",
   "pygments_lexer": "ipython3",
   "version": "3.11.7"
  }
 },
 "nbformat": 4,
 "nbformat_minor": 2
}
