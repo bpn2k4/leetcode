{
  "cells": [
    {
      "cell_type": "code",
      "execution_count": 1,
      "metadata": {},
      "outputs": [],
      "source": [
        "from typing import List\n",
        "\n",
        "\n",
        "class Solution:\n",
        "  def maximumUniqueSubarray(self, nums: List[int]) -> int:\n",
        "    \n",
        "    mark = {}\n",
        "    max_sum = 0\n",
        "    left = 0\n",
        "    current_sum = 0\n",
        "    for right in range(len(nums)):\n",
        "      while nums[right] in mark:\n",
        "        if nums[left] in mark:\n",
        "          del mark[nums[left]]\n",
        "        current_sum -= nums[left]\n",
        "        left += 1\n",
        "      \n",
        "      current_sum += nums[right]\n",
        "      mark[nums[right]] = 1\n",
        "      max_sum = max(max_sum, current_sum)\n",
        "    \n",
        "    return max_sum"
      ]
    },
    {
      "cell_type": "code",
      "execution_count": 2,
      "metadata": {},
      "outputs": [
        {
          "data": {
            "text/plain": [
              "17"
            ]
          },
          "execution_count": 2,
          "metadata": {},
          "output_type": "execute_result"
        }
      ],
      "source": [
        "nums = [4, 2, 4, 5, 6]\n",
        "Solution().maximumUniqueSubarray(nums=nums)"
      ]
    },
    {
      "cell_type": "code",
      "execution_count": 3,
      "metadata": {},
      "outputs": [
        {
          "data": {
            "text/plain": [
              "8"
            ]
          },
          "execution_count": 3,
          "metadata": {},
          "output_type": "execute_result"
        }
      ],
      "source": [
        "nums = [5, 2, 1, 2, 5, 2, 1, 2, 5]\n",
        "Solution().maximumUniqueSubarray(nums=nums)"
      ]
    }
  ],
  "metadata": {
    "kernelspec": {
      "display_name": "Python 3",
      "language": "python",
      "name": "python3"
    },
    "language_info": {
      "codemirror_mode": {
        "name": "ipython",
        "version": 3
      },
      "file_extension": ".py",
      "mimetype": "text/x-python",
      "name": "python",
      "nbconvert_exporter": "python",
      "pygments_lexer": "ipython3",
      "version": "3.12.8"
    }
  },
  "nbformat": 4,
  "nbformat_minor": 2
}
