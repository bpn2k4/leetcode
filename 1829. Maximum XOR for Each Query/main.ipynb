{
 "cells": [
  {
   "cell_type": "code",
   "execution_count": 1,
   "metadata": {},
   "outputs": [],
   "source": [
    "from typing import List\n",
    "\n",
    "\n",
    "class Solution:\n",
    "  def getMaximumXor(self, nums: List[int], maximumBit: int) -> List[int]:\n",
    "    \n",
    "    n = len(nums)\n",
    "    target = 2 ** maximumBit - 1\n",
    "    for i in range(1, n):\n",
    "      nums[i] = nums[i - 1] ^ nums[i]\n",
    "\n",
    "    answers = []\n",
    "    for i in range(n):\n",
    "      xor = nums[-(i + 1)]\n",
    "      k = target ^ xor\n",
    "      answers.append(k)\n",
    "\n",
    "    return answers"
   ]
  },
  {
   "cell_type": "code",
   "execution_count": 2,
   "metadata": {},
   "outputs": [
    {
     "data": {
      "text/plain": [
       "[0, 3, 2, 3]"
      ]
     },
     "execution_count": 2,
     "metadata": {},
     "output_type": "execute_result"
    }
   ],
   "source": [
    "nums = [0, 1, 1, 3]\n",
    "maximumBit = 2\n",
    "Solution().getMaximumXor(nums=nums, maximumBit=maximumBit)"
   ]
  },
  {
   "cell_type": "code",
   "execution_count": 3,
   "metadata": {},
   "outputs": [
    {
     "data": {
      "text/plain": [
       "[5, 2, 6, 5]"
      ]
     },
     "execution_count": 3,
     "metadata": {},
     "output_type": "execute_result"
    }
   ],
   "source": [
    "nums = [2, 3, 4, 7]\n",
    "maximumBit = 3\n",
    "Solution().getMaximumXor(nums=nums, maximumBit=maximumBit)"
   ]
  },
  {
   "cell_type": "code",
   "execution_count": 4,
   "metadata": {},
   "outputs": [
    {
     "data": {
      "text/plain": [
       "[4, 3, 6, 4, 6, 7]"
      ]
     },
     "execution_count": 4,
     "metadata": {},
     "output_type": "execute_result"
    }
   ],
   "source": [
    "nums = [0, 1, 2, 2, 5, 7]\n",
    "maximumBit = 3\n",
    "Solution().getMaximumXor(nums=nums, maximumBit=maximumBit)"
   ]
  }
 ],
 "metadata": {
  "kernelspec": {
   "display_name": "base",
   "language": "python",
   "name": "python3"
  },
  "language_info": {
   "codemirror_mode": {
    "name": "ipython",
    "version": 3
   },
   "file_extension": ".py",
   "mimetype": "text/x-python",
   "name": "python",
   "nbconvert_exporter": "python",
   "pygments_lexer": "ipython3",
   "version": "3.11.7"
  }
 },
 "nbformat": 4,
 "nbformat_minor": 2
}
