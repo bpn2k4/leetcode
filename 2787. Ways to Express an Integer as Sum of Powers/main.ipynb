{
  "cells": [
    {
      "cell_type": "code",
      "execution_count": 1,
      "metadata": {},
      "outputs": [],
      "source": [
        "class Solution:\n",
        "  def numberOfWays(self, n: int, x: int) -> int:\n",
        "    \n",
        "    MOD = 10**9 + 7\n",
        "    dp = [0] * (n + 1)\n",
        "    dp[0] = 1\n",
        "\n",
        "    for i in range(1, n + 1):\n",
        "      val = i**x\n",
        "      if val > n:\n",
        "        break\n",
        "      for j in range(n, val - 1, -1):\n",
        "        dp[j] = (dp[j] + dp[j - val]) % MOD\n",
        "\n",
        "    return dp[n]"
      ]
    },
    {
      "cell_type": "code",
      "execution_count": 2,
      "metadata": {},
      "outputs": [
        {
          "data": {
            "text/plain": [
              "1"
            ]
          },
          "execution_count": 2,
          "metadata": {},
          "output_type": "execute_result"
        }
      ],
      "source": [
        "n = 10\n",
        "x = 2\n",
        "Solution().numberOfWays(n=n, x=x)"
      ]
    },
    {
      "cell_type": "code",
      "execution_count": 3,
      "metadata": {},
      "outputs": [
        {
          "data": {
            "text/plain": [
              "2"
            ]
          },
          "execution_count": 3,
          "metadata": {},
          "output_type": "execute_result"
        }
      ],
      "source": [
        "n = 4\n",
        "x = 1\n",
        "Solution().numberOfWays(n=n, x=x)"
      ]
    }
  ],
  "metadata": {
    "kernelspec": {
      "display_name": "Python 3",
      "language": "python",
      "name": "python3"
    },
    "language_info": {
      "codemirror_mode": {
        "name": "ipython",
        "version": 3
      },
      "file_extension": ".py",
      "mimetype": "text/x-python",
      "name": "python",
      "nbconvert_exporter": "python",
      "pygments_lexer": "ipython3",
      "version": "3.12.8"
    }
  },
  "nbformat": 4,
  "nbformat_minor": 2
}
