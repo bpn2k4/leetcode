{
  "cells": [
    {
      "cell_type": "code",
      "execution_count": 1,
      "metadata": {},
      "outputs": [],
      "source": [
        "from typing import List\n",
        "\n",
        "\n",
        "class Solution:\n",
        "  def mostPoints(self, questions: List[List[int]]) -> int:\n",
        "\n",
        "    n = len(questions)\n",
        "    dp = [0] * (n + 1)\n",
        "    for i in range(n - 1, -1, -1):\n",
        "      points, brainpower = questions[i]\n",
        "      next_index = i + brainpower + 1\n",
        "\n",
        "      dp[i] = max(points + (dp[next_index] if next_index < n else 0), dp[i + 1])\n",
        "\n",
        "    return dp[0]"
      ]
    },
    {
      "cell_type": "code",
      "execution_count": 2,
      "metadata": {},
      "outputs": [
        {
          "data": {
            "text/plain": [
              "5"
            ]
          },
          "execution_count": 2,
          "metadata": {},
          "output_type": "execute_result"
        }
      ],
      "source": [
        "questions = [[3, 2], [4, 3], [4, 4], [2, 5]]\n",
        "Solution().mostPoints(questions=questions)"
      ]
    },
    {
      "cell_type": "code",
      "execution_count": 3,
      "metadata": {},
      "outputs": [
        {
          "data": {
            "text/plain": [
              "7"
            ]
          },
          "execution_count": 3,
          "metadata": {},
          "output_type": "execute_result"
        }
      ],
      "source": [
        "questions = [[1, 1], [2, 2], [3, 3], [4, 4], [5, 5]]\n",
        "Solution().mostPoints(questions=questions)"
      ]
    }
  ],
  "metadata": {
    "kernelspec": {
      "display_name": "Python 3",
      "language": "python",
      "name": "python3"
    },
    "language_info": {
      "codemirror_mode": {
        "name": "ipython",
        "version": 3
      },
      "file_extension": ".py",
      "mimetype": "text/x-python",
      "name": "python",
      "nbconvert_exporter": "python",
      "pygments_lexer": "ipython3",
      "version": "3.12.1"
    }
  },
  "nbformat": 4,
  "nbformat_minor": 2
}
