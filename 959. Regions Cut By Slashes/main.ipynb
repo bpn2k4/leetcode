{
 "cells": [
  {
   "cell_type": "code",
   "execution_count": 1,
   "metadata": {},
   "outputs": [],
   "source": [
    "from typing import List\n",
    "\n",
    "\n",
    "class Solution:\n",
    "  def regionsBySlashes(self, grid: List[str]) -> int:\n",
    "    n = len(grid)\n",
    "    expanded_grid = [[0] * (n * 3) for _ in range(n * 3)]\n",
    "\n",
    "    for i in range(n):\n",
    "      for j in range(n):\n",
    "        if grid[i][j] == '/':\n",
    "          expanded_grid[i * 3][j * 3 + 2] = 1\n",
    "          expanded_grid[i * 3 + 1][j * 3 + 1] = 1\n",
    "          expanded_grid[i * 3 + 2][j * 3] = 1\n",
    "        elif grid[i][j] == '\\\\':\n",
    "          expanded_grid[i * 3][j * 3] = 1\n",
    "          expanded_grid[i * 3 + 1][j * 3 + 1] = 1\n",
    "          expanded_grid[i * 3 + 2][j * 3 + 2] = 1\n",
    "\n",
    "    def dfs(x, y):\n",
    "      if x < 0 or y < 0 or x >= len(expanded_grid) or y >= len(expanded_grid) or expanded_grid[x][y] != 0:\n",
    "        return\n",
    "      expanded_grid[x][y] = 1\n",
    "      dfs(x + 1, y)\n",
    "      dfs(x - 1, y)\n",
    "      dfs(x, y + 1)\n",
    "      dfs(x, y - 1)\n",
    "\n",
    "    regions = 0\n",
    "    for i in range(n * 3):\n",
    "      for j in range(n * 3):\n",
    "        if expanded_grid[i][j] == 0:\n",
    "          dfs(i, j)\n",
    "          regions += 1\n",
    "\n",
    "    return regions"
   ]
  },
  {
   "cell_type": "code",
   "execution_count": 2,
   "metadata": {},
   "outputs": [
    {
     "data": {
      "text/plain": [
       "2"
      ]
     },
     "execution_count": 2,
     "metadata": {},
     "output_type": "execute_result"
    }
   ],
   "source": [
    "Solution().regionsBySlashes(grid=[\" /\", \"/ \"])"
   ]
  },
  {
   "cell_type": "code",
   "execution_count": 3,
   "metadata": {},
   "outputs": [
    {
     "data": {
      "text/plain": [
       "1"
      ]
     },
     "execution_count": 3,
     "metadata": {},
     "output_type": "execute_result"
    }
   ],
   "source": [
    "Solution().regionsBySlashes(grid = [\" /\",\"  \"])"
   ]
  },
  {
   "cell_type": "code",
   "execution_count": 4,
   "metadata": {},
   "outputs": [
    {
     "data": {
      "text/plain": [
       "5"
      ]
     },
     "execution_count": 4,
     "metadata": {},
     "output_type": "execute_result"
    }
   ],
   "source": [
    "Solution().regionsBySlashes(grid=[\"/\\\\\", \"\\\\/\"])"
   ]
  }
 ],
 "metadata": {
  "kernelspec": {
   "display_name": "base",
   "language": "python",
   "name": "python3"
  },
  "language_info": {
   "codemirror_mode": {
    "name": "ipython",
    "version": 3
   },
   "file_extension": ".py",
   "mimetype": "text/x-python",
   "name": "python",
   "nbconvert_exporter": "python",
   "pygments_lexer": "ipython3",
   "version": "3.11.7"
  }
 },
 "nbformat": 4,
 "nbformat_minor": 2
}
