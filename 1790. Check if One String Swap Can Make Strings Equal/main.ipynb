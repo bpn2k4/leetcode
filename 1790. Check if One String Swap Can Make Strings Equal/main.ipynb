{
  "cells": [
    {
      "cell_type": "code",
      "execution_count": 1,
      "metadata": {},
      "outputs": [],
      "source": [
        "class Solution:\n",
        "  def areAlmostEqual(self, s1: str, s2: str) -> bool:\n",
        "    \n",
        "    distance = 0\n",
        "    mark = {}\n",
        "    for char1, char2 in zip(s1, s2):\n",
        "      if char1 != char2:\n",
        "        distance += 1\n",
        "      mark[char1] = mark.get(char1, 0) + 1\n",
        "      mark[char2] = mark.get(char2, 0) - 1\n",
        "    \n",
        "    for char in mark:\n",
        "      if mark[char] != 0:\n",
        "        return False\n",
        "      \n",
        "    return distance <= 2"
      ]
    },
    {
      "cell_type": "code",
      "execution_count": 2,
      "metadata": {},
      "outputs": [
        {
          "data": {
            "text/plain": [
              "True"
            ]
          },
          "execution_count": 2,
          "metadata": {},
          "output_type": "execute_result"
        }
      ],
      "source": [
        "s1 = \"bank\"\n",
        "s2 = \"kanb\"\n",
        "Solution().areAlmostEqual(s1=s1, s2=s2)"
      ]
    },
    {
      "cell_type": "code",
      "execution_count": 3,
      "metadata": {},
      "outputs": [
        {
          "data": {
            "text/plain": [
              "False"
            ]
          },
          "execution_count": 3,
          "metadata": {},
          "output_type": "execute_result"
        }
      ],
      "source": [
        "s1 = \"attack\"\n",
        "s2 = \"defend\"\n",
        "Solution().areAlmostEqual(s1=s1, s2=s2)"
      ]
    },
    {
      "cell_type": "code",
      "execution_count": 4,
      "metadata": {},
      "outputs": [
        {
          "data": {
            "text/plain": [
              "True"
            ]
          },
          "execution_count": 4,
          "metadata": {},
          "output_type": "execute_result"
        }
      ],
      "source": [
        "s1 = \"kelb\"\n",
        "s2 = \"kelb\"\n",
        "Solution().areAlmostEqual(s1=s1, s2=s2)"
      ]
    }
  ],
  "metadata": {
    "kernelspec": {
      "display_name": "Python 3",
      "language": "python",
      "name": "python3"
    },
    "language_info": {
      "codemirror_mode": {
        "name": "ipython",
        "version": 3
      },
      "file_extension": ".py",
      "mimetype": "text/x-python",
      "name": "python",
      "nbconvert_exporter": "python",
      "pygments_lexer": "ipython3",
      "version": "3.12.1"
    }
  },
  "nbformat": 4,
  "nbformat_minor": 2
}
