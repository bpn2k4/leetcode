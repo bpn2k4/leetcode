{
  "cells": [
    {
      "cell_type": "code",
      "execution_count": 1,
      "metadata": {},
      "outputs": [],
      "source": [
        "from typing import List\n",
        "\n",
        "class Solution:\n",
        "  def summaryRanges(self, nums: List[int]) -> List[str]:\n",
        "\n",
        "    if not nums:\n",
        "      return []\n",
        "    \n",
        "    n = len(nums)\n",
        "    ranges = []\n",
        "    start = current_num = nums[0]\n",
        "    for i in range(1, n):\n",
        "      if nums[i] != nums[i - 1] + 1:\n",
        "        if start != current_num:\n",
        "          ranges.append(f\"{start}->{current_num}\")\n",
        "        else:\n",
        "          ranges.append(str(current_num))\n",
        "        start = current_num = nums[i]\n",
        "      else:\n",
        "        current_num = nums[i]\n",
        "    if start != current_num:\n",
        "      ranges.append(f\"{start}->{current_num}\")\n",
        "    else:\n",
        "      ranges.append(str(current_num))\n",
        "\n",
        "    return ranges"
      ]
    },
    {
      "cell_type": "code",
      "execution_count": 2,
      "metadata": {},
      "outputs": [
        {
          "data": {
            "text/plain": [
              "['0->2', '4->5', '7']"
            ]
          },
          "execution_count": 2,
          "metadata": {},
          "output_type": "execute_result"
        }
      ],
      "source": [
        "nums = [0, 1, 2, 4, 5, 7]\n",
        "Solution().summaryRanges(nums=nums)"
      ]
    },
    {
      "cell_type": "code",
      "execution_count": 3,
      "metadata": {},
      "outputs": [
        {
          "data": {
            "text/plain": [
              "['0', '2->4', '6', '8->9']"
            ]
          },
          "execution_count": 3,
          "metadata": {},
          "output_type": "execute_result"
        }
      ],
      "source": [
        "nums = [0, 2, 3, 4, 6, 8, 9]\n",
        "Solution().summaryRanges(nums=nums)"
      ]
    }
  ],
  "metadata": {
    "kernelspec": {
      "display_name": "Python 3",
      "language": "python",
      "name": "python3"
    },
    "language_info": {
      "codemirror_mode": {
        "name": "ipython",
        "version": 3
      },
      "file_extension": ".py",
      "mimetype": "text/x-python",
      "name": "python",
      "nbconvert_exporter": "python",
      "pygments_lexer": "ipython3",
      "version": "3.12.1"
    }
  },
  "nbformat": 4,
  "nbformat_minor": 2
}
