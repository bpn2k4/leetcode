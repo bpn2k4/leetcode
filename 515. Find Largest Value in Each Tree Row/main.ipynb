{
 "cells": [
  {
   "cell_type": "code",
   "execution_count": 1,
   "metadata": {},
   "outputs": [],
   "source": [
    "from typing import List, Optional\n",
    "\n",
    "\n",
    "class TreeNode:\n",
    "  def __init__(self, val=0, left=None, right=None):\n",
    "    self.val = val\n",
    "    self.left: Optional[TreeNode] = left\n",
    "    self.right: Optional[TreeNode] = right\n",
    "\n",
    "\n",
    "class Solution:\n",
    "  def largestValues(self, root: Optional[TreeNode]) -> List[int]:\n",
    "\n",
    "    if not root:\n",
    "      return []\n",
    "    \n",
    "    level2largest_value = {}\n",
    "    max_level = [0]\n",
    "\n",
    "    def order(node: TreeNode, level: int):\n",
    "\n",
    "      if node is None:\n",
    "        return\n",
    "\n",
    "      max_level[0] = max(max_level[0], level)\n",
    "\n",
    "      if level not in level2largest_value:\n",
    "        level2largest_value[level] = node.val\n",
    "      else:\n",
    "        level2largest_value[level] = max(level2largest_value[level], node.val)\n",
    "\n",
    "      order(node.left, level + 1)\n",
    "      order(node.right, level + 1)\n",
    "    \n",
    "    order(root, 0)\n",
    "\n",
    "    output = [level2largest_value[level] for level in range(max_level[0] + 1)]\n",
    "    \n",
    "    return output"
   ]
  },
  {
   "cell_type": "code",
   "execution_count": 2,
   "metadata": {},
   "outputs": [
    {
     "data": {
      "text/plain": [
       "[1, 3, 9]"
      ]
     },
     "execution_count": 2,
     "metadata": {},
     "output_type": "execute_result"
    }
   ],
   "source": [
    "root = TreeNode(1)\n",
    "root.left = TreeNode(3)\n",
    "root.right = TreeNode(2)\n",
    "root.left.left = TreeNode(5)\n",
    "root.left.right = TreeNode(3)\n",
    "root.right.right = TreeNode(9)\n",
    "Solution().largestValues(root=root)"
   ]
  },
  {
   "cell_type": "code",
   "execution_count": 3,
   "metadata": {},
   "outputs": [
    {
     "data": {
      "text/plain": [
       "[1, 3]"
      ]
     },
     "execution_count": 3,
     "metadata": {},
     "output_type": "execute_result"
    }
   ],
   "source": [
    "root = TreeNode(1)\n",
    "root.left = TreeNode(2)\n",
    "root.right = TreeNode(3)\n",
    "Solution().largestValues(root=root)"
   ]
  }
 ],
 "metadata": {
  "kernelspec": {
   "display_name": "base",
   "language": "python",
   "name": "python3"
  },
  "language_info": {
   "codemirror_mode": {
    "name": "ipython",
    "version": 3
   },
   "file_extension": ".py",
   "mimetype": "text/x-python",
   "name": "python",
   "nbconvert_exporter": "python",
   "pygments_lexer": "ipython3",
   "version": "3.11.7"
  }
 },
 "nbformat": 4,
 "nbformat_minor": 2
}
