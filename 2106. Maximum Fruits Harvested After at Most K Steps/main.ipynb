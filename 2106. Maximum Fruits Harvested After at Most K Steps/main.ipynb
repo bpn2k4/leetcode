{
  "cells": [
    {
      "cell_type": "code",
      "execution_count": 1,
      "metadata": {},
      "outputs": [],
      "source": [
        "from typing import List\n",
        "import bisect\n",
        "\n",
        "\n",
        "class Solution:\n",
        "  def maxTotalFruits(self, fruits: List[List[int]], startPos: int, k: int) -> int:\n",
        "\n",
        "    n = len(fruits)\n",
        "    sum_ = [0] * (n + 1)\n",
        "    indices = [0] * n\n",
        "\n",
        "    for i in range(n):\n",
        "      sum_[i + 1] = sum_[i] + fruits[i][1]\n",
        "      indices[i] = fruits[i][0]\n",
        "\n",
        "    ans = 0\n",
        "    for x in range(k // 2 + 1):\n",
        "      y = k - 2 * x\n",
        "      left = startPos - x\n",
        "      right = startPos + y\n",
        "      start = bisect.bisect_left(indices, left)\n",
        "      end = bisect.bisect_right(indices, right)\n",
        "      ans = max(ans, sum_[end] - sum_[start])\n",
        "\n",
        "      y = k - 2 * x\n",
        "      left = startPos - y\n",
        "      right = startPos + x\n",
        "      start = bisect.bisect_left(indices, left)\n",
        "      end = bisect.bisect_right(indices, right)\n",
        "      ans = max(ans, sum_[end] - sum_[start])\n",
        "\n",
        "    return ans"
      ]
    },
    {
      "cell_type": "code",
      "execution_count": 2,
      "metadata": {},
      "outputs": [
        {
          "data": {
            "text/plain": [
              "9"
            ]
          },
          "execution_count": 2,
          "metadata": {},
          "output_type": "execute_result"
        }
      ],
      "source": [
        "fruits = [[2, 8], [6, 3], [8, 6]]\n",
        "startPos = 5\n",
        "k = 4\n",
        "Solution().maxTotalFruits(fruits=fruits, startPos=startPos, k=k)"
      ]
    },
    {
      "cell_type": "code",
      "execution_count": 3,
      "metadata": {},
      "outputs": [
        {
          "data": {
            "text/plain": [
              "14"
            ]
          },
          "execution_count": 3,
          "metadata": {},
          "output_type": "execute_result"
        }
      ],
      "source": [
        "fruits = [[0, 9], [4, 1], [5, 7], [6, 2], [7, 4], [10, 9]]\n",
        "startPos = 5\n",
        "k = 4\n",
        "Solution().maxTotalFruits(fruits=fruits, startPos=startPos, k=k)"
      ]
    },
    {
      "cell_type": "code",
      "execution_count": 4,
      "metadata": {},
      "outputs": [
        {
          "data": {
            "text/plain": [
              "0"
            ]
          },
          "execution_count": 4,
          "metadata": {},
          "output_type": "execute_result"
        }
      ],
      "source": [
        "fruits = [[0, 3], [6, 4], [8, 5]]\n",
        "startPos = 3\n",
        "k = 2\n",
        "Solution().maxTotalFruits(fruits=fruits, startPos=startPos, k=k)"
      ]
    }
  ],
  "metadata": {
    "kernelspec": {
      "display_name": "Python 3",
      "language": "python",
      "name": "python3"
    },
    "language_info": {
      "codemirror_mode": {
        "name": "ipython",
        "version": 3
      },
      "file_extension": ".py",
      "mimetype": "text/x-python",
      "name": "python",
      "nbconvert_exporter": "python",
      "pygments_lexer": "ipython3",
      "version": "3.12.1"
    }
  },
  "nbformat": 4,
  "nbformat_minor": 2
}
