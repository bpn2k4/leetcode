{
  "cells": [
    {
      "cell_type": "code",
      "execution_count": 1,
      "metadata": {},
      "outputs": [],
      "source": [
        "from typing import List\n",
        "\n",
        "\n",
        "class Solution:\n",
        "  def numberOfArrays(self, differences: List[int], lower: int, upper: int) -> int:\n",
        "\n",
        "    x = y = cur = 0\n",
        "    for d in differences:\n",
        "      cur += d\n",
        "      x = min(x, cur)\n",
        "      y = max(y, cur)\n",
        "\n",
        "      if y - x > upper - lower:\n",
        "        return 0\n",
        "      \n",
        "    return (upper - lower) - (y - x) + 1"
      ]
    },
    {
      "cell_type": "code",
      "execution_count": 2,
      "metadata": {},
      "outputs": [
        {
          "data": {
            "text/plain": [
              "2"
            ]
          },
          "execution_count": 2,
          "metadata": {},
          "output_type": "execute_result"
        }
      ],
      "source": [
        "differences = [1, -3, 4]\n",
        "lower = 1\n",
        "upper = 6\n",
        "Solution().numberOfArrays(differences=differences, lower=lower, upper=upper)"
      ]
    },
    {
      "cell_type": "code",
      "execution_count": 3,
      "metadata": {},
      "outputs": [
        {
          "data": {
            "text/plain": [
              "4"
            ]
          },
          "execution_count": 3,
          "metadata": {},
          "output_type": "execute_result"
        }
      ],
      "source": [
        "differences = [3, -4, 5, 1, -2]\n",
        "lower = -4\n",
        "upper = 5\n",
        "Solution().numberOfArrays(differences=differences, lower=lower, upper=upper)"
      ]
    },
    {
      "cell_type": "code",
      "execution_count": 4,
      "metadata": {},
      "outputs": [
        {
          "data": {
            "text/plain": [
              "0"
            ]
          },
          "execution_count": 4,
          "metadata": {},
          "output_type": "execute_result"
        }
      ],
      "source": [
        "differences = [4, -7, 2]\n",
        "lower = 3\n",
        "upper = 6\n",
        "Solution().numberOfArrays(differences=differences, lower=lower, upper=upper)"
      ]
    }
  ],
  "metadata": {
    "kernelspec": {
      "display_name": "Python 3",
      "language": "python",
      "name": "python3"
    },
    "language_info": {
      "codemirror_mode": {
        "name": "ipython",
        "version": 3
      },
      "file_extension": ".py",
      "mimetype": "text/x-python",
      "name": "python",
      "nbconvert_exporter": "python",
      "pygments_lexer": "ipython3",
      "version": "3.12.8"
    }
  },
  "nbformat": 4,
  "nbformat_minor": 2
}
