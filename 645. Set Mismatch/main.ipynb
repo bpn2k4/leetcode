{
  "cells": [
    {
      "cell_type": "code",
      "execution_count": 1,
      "metadata": {},
      "outputs": [],
      "source": [
        "from typing import List\n",
        "\n",
        "\n",
        "class Solution:\n",
        "  def findErrorNums(self, nums: List[int]) -> List[int]:\n",
        "    \n",
        "    n = len(nums)\n",
        "    mark = [0] * (n + 1)\n",
        "    duplicated_num = -1\n",
        "    for num in nums:\n",
        "      if mark[num] == 1:\n",
        "        duplicated_num = num\n",
        "      else:\n",
        "        mark[num] = 1\n",
        "\n",
        "    for i in range(1, n + 1):\n",
        "      if mark[i] == 0:\n",
        "        missing_num = i\n",
        "        break\n",
        "\n",
        "    return [duplicated_num, missing_num]"
      ]
    },
    {
      "cell_type": "code",
      "execution_count": 2,
      "metadata": {},
      "outputs": [
        {
          "data": {
            "text/plain": [
              "[2, 3]"
            ]
          },
          "execution_count": 2,
          "metadata": {},
          "output_type": "execute_result"
        }
      ],
      "source": [
        "nums = [1, 2, 2, 4]\n",
        "Solution().findErrorNums(nums=nums)"
      ]
    },
    {
      "cell_type": "code",
      "execution_count": 3,
      "metadata": {},
      "outputs": [
        {
          "data": {
            "text/plain": [
              "[1, 2]"
            ]
          },
          "execution_count": 3,
          "metadata": {},
          "output_type": "execute_result"
        }
      ],
      "source": [
        "nums = [1, 1]\n",
        "Solution().findErrorNums(nums=nums)"
      ]
    }
  ],
  "metadata": {
    "kernelspec": {
      "display_name": "Python 3",
      "language": "python",
      "name": "python3"
    },
    "language_info": {
      "codemirror_mode": {
        "name": "ipython",
        "version": 3
      },
      "file_extension": ".py",
      "mimetype": "text/x-python",
      "name": "python",
      "nbconvert_exporter": "python",
      "pygments_lexer": "ipython3",
      "version": "3.12.8"
    }
  },
  "nbformat": 4,
  "nbformat_minor": 2
}
