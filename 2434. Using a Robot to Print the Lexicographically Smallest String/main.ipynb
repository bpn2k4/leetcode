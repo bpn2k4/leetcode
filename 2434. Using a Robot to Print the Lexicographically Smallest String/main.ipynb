{
  "cells": [
    {
      "cell_type": "code",
      "execution_count": 1,
      "metadata": {},
      "outputs": [],
      "source": [
        "from collections import Counter\n",
        "\n",
        "\n",
        "class Solution:\n",
        "  def robotWithString(self, s: str) -> str:\n",
        "    \n",
        "    char2count = Counter(s)\n",
        "    stack = []\n",
        "    result = []\n",
        "    char = 'a'\n",
        "    for c in s:\n",
        "      stack.append(c)\n",
        "      char2count[c] -= 1\n",
        "      while char != 'z' and char2count[char] == 0:\n",
        "        char = chr(ord(char) + 1)\n",
        "      while stack and stack[-1] <= char:\n",
        "        result.append(stack.pop())\n",
        "\n",
        "    return ''.join(result)"
      ]
    },
    {
      "cell_type": "code",
      "execution_count": 2,
      "metadata": {},
      "outputs": [
        {
          "data": {
            "text/plain": [
              "'azz'"
            ]
          },
          "execution_count": 2,
          "metadata": {},
          "output_type": "execute_result"
        }
      ],
      "source": [
        "s = \"zza\"\n",
        "Solution().robotWithString(s=s)"
      ]
    },
    {
      "cell_type": "code",
      "execution_count": 3,
      "metadata": {},
      "outputs": [
        {
          "data": {
            "text/plain": [
              "'abc'"
            ]
          },
          "execution_count": 3,
          "metadata": {},
          "output_type": "execute_result"
        }
      ],
      "source": [
        "s = \"bac\"\n",
        "Solution().robotWithString(s=s)"
      ]
    },
    {
      "cell_type": "code",
      "execution_count": 4,
      "metadata": {},
      "outputs": [
        {
          "data": {
            "text/plain": [
              "'addb'"
            ]
          },
          "execution_count": 4,
          "metadata": {},
          "output_type": "execute_result"
        }
      ],
      "source": [
        "s = \"bdda\"\n",
        "Solution().robotWithString(s=s)"
      ]
    }
  ],
  "metadata": {
    "kernelspec": {
      "display_name": "Python 3",
      "language": "python",
      "name": "python3"
    },
    "language_info": {
      "codemirror_mode": {
        "name": "ipython",
        "version": 3
      },
      "file_extension": ".py",
      "mimetype": "text/x-python",
      "name": "python",
      "nbconvert_exporter": "python",
      "pygments_lexer": "ipython3",
      "version": "3.12.8"
    }
  },
  "nbformat": 4,
  "nbformat_minor": 2
}
