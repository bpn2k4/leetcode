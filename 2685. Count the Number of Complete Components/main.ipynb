{
  "cells": [
    {
      "cell_type": "code",
      "execution_count": 1,
      "metadata": {},
      "outputs": [],
      "source": [
        "from typing import List\n",
        "\n",
        "\n",
        "class Solution:\n",
        "  def countCompleteComponents(self, n: int, edges: List[List[int]]) -> int:\n",
        "    \n",
        "    graph = {i:[] for i in range(n)}\n",
        "    for u, v in edges:\n",
        "      graph[u].append(v)\n",
        "      graph[v].append(u)\n",
        "\n",
        "    visted = [False] * n\n",
        "    count = 0\n",
        "    components = []\n",
        "\n",
        "    def dfs(node: int):\n",
        "      components.append(node)\n",
        "      visted[node] = True\n",
        "      for neighbor in graph[node]:\n",
        "        if not visted[neighbor]:\n",
        "          dfs(neighbor)\n",
        "\n",
        "    for i in range(n):\n",
        "      if not visted[i]:\n",
        "        components.clear()\n",
        "        dfs(i)\n",
        "        is_connected = True\n",
        "        for node in components:\n",
        "          if len(graph[node]) != len(components) - 1:\n",
        "            is_connected = False\n",
        "            break\n",
        "        count += is_connected\n",
        "\n",
        "    return count"
      ]
    },
    {
      "cell_type": "code",
      "execution_count": 2,
      "metadata": {},
      "outputs": [
        {
          "data": {
            "text/plain": [
              "3"
            ]
          },
          "execution_count": 2,
          "metadata": {},
          "output_type": "execute_result"
        }
      ],
      "source": [
        "n = 6\n",
        "edges = [[0, 1], [0, 2], [1, 2], [3, 4]]\n",
        "Solution().countCompleteComponents(n=n, edges=edges)"
      ]
    },
    {
      "cell_type": "code",
      "execution_count": 3,
      "metadata": {},
      "outputs": [
        {
          "data": {
            "text/plain": [
              "1"
            ]
          },
          "execution_count": 3,
          "metadata": {},
          "output_type": "execute_result"
        }
      ],
      "source": [
        "n = 6\n",
        "edges = [[0, 1], [0, 2], [1, 2], [3, 4], [3, 5]]\n",
        "Solution().countCompleteComponents(n=n, edges=edges)"
      ]
    }
  ],
  "metadata": {
    "kernelspec": {
      "display_name": "Python 3",
      "language": "python",
      "name": "python3"
    },
    "language_info": {
      "codemirror_mode": {
        "name": "ipython",
        "version": 3
      },
      "file_extension": ".py",
      "mimetype": "text/x-python",
      "name": "python",
      "nbconvert_exporter": "python",
      "pygments_lexer": "ipython3",
      "version": "3.12.1"
    }
  },
  "nbformat": 4,
  "nbformat_minor": 2
}
