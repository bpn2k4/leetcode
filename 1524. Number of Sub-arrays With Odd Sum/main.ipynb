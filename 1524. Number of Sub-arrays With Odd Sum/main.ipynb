{
  "cells": [
    {
      "cell_type": "code",
      "execution_count": 1,
      "metadata": {},
      "outputs": [],
      "source": [
        "from typing import List\n",
        "  \n",
        "class Solution:\n",
        "  def numOfSubarrays(self, arr: List[int]) -> int:\n",
        "    \n",
        "    MOD = 10**9 + 7\n",
        "    number_of_subarrays = 0\n",
        "    number_of_odd_sum = 0\n",
        "    number_of_even_sum = 1\n",
        "    prefix_sum = 0\n",
        "    for num in arr:\n",
        "      prefix_sum += num\n",
        "      if prefix_sum % 2 == 0:\n",
        "        number_of_subarrays += number_of_odd_sum\n",
        "        number_of_even_sum += 1\n",
        "      else:\n",
        "        number_of_subarrays += number_of_even_sum\n",
        "        number_of_odd_sum += 1\n",
        "      number_of_subarrays = number_of_subarrays % MOD\n",
        "\n",
        "    return number_of_subarrays"
      ]
    },
    {
      "cell_type": "code",
      "execution_count": 2,
      "metadata": {},
      "outputs": [
        {
          "data": {
            "text/plain": [
              "4"
            ]
          },
          "execution_count": 2,
          "metadata": {},
          "output_type": "execute_result"
        }
      ],
      "source": [
        "arr = [1, 3, 5]\n",
        "Solution().numOfSubarrays(arr=arr)"
      ]
    },
    {
      "cell_type": "code",
      "execution_count": 3,
      "metadata": {},
      "outputs": [
        {
          "data": {
            "text/plain": [
              "0"
            ]
          },
          "execution_count": 3,
          "metadata": {},
          "output_type": "execute_result"
        }
      ],
      "source": [
        "arr = [2, 4, 6]\n",
        "Solution().numOfSubarrays(arr=arr)"
      ]
    },
    {
      "cell_type": "code",
      "execution_count": 4,
      "metadata": {},
      "outputs": [
        {
          "data": {
            "text/plain": [
              "16"
            ]
          },
          "execution_count": 4,
          "metadata": {},
          "output_type": "execute_result"
        }
      ],
      "source": [
        "arr = [1, 2, 3, 4, 5, 6, 7]\n",
        "Solution().numOfSubarrays(arr=arr)"
      ]
    }
  ],
  "metadata": {
    "kernelspec": {
      "display_name": "Python 3",
      "language": "python",
      "name": "python3"
    },
    "language_info": {
      "codemirror_mode": {
        "name": "ipython",
        "version": 3
      },
      "file_extension": ".py",
      "mimetype": "text/x-python",
      "name": "python",
      "nbconvert_exporter": "python",
      "pygments_lexer": "ipython3",
      "version": "3.12.1"
    }
  },
  "nbformat": 4,
  "nbformat_minor": 2
}
