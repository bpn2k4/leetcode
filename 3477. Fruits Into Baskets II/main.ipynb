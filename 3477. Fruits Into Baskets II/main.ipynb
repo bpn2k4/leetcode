{
  "cells": [
    {
      "cell_type": "code",
      "execution_count": 1,
      "metadata": {},
      "outputs": [],
      "source": [
        "from typing import List\n",
        "\n",
        "\n",
        "class Solution:\n",
        "  def numOfUnplacedFruits(self, fruits: List[int], baskets: List[int]) -> int:\n",
        "    \n",
        "    count = 0\n",
        "    for fruit in fruits:\n",
        "      for i in range(len(baskets)):\n",
        "        if baskets[i] >= fruit:\n",
        "          baskets[i] = 0\n",
        "          break\n",
        "      else:\n",
        "        count += 1\n",
        "    \n",
        "    return count"
      ]
    },
    {
      "cell_type": "code",
      "execution_count": 2,
      "metadata": {},
      "outputs": [
        {
          "data": {
            "text/plain": [
              "1"
            ]
          },
          "execution_count": 2,
          "metadata": {},
          "output_type": "execute_result"
        }
      ],
      "source": [
        "fruits = [4, 2, 5]\n",
        "baskets = [3, 5, 4]\n",
        "Solution().numOfUnplacedFruits(fruits=fruits, baskets=baskets)"
      ]
    },
    {
      "cell_type": "code",
      "execution_count": 3,
      "metadata": {},
      "outputs": [
        {
          "data": {
            "text/plain": [
              "0"
            ]
          },
          "execution_count": 3,
          "metadata": {},
          "output_type": "execute_result"
        }
      ],
      "source": [
        "fruits = [3, 6, 1]\n",
        "baskets = [6, 4, 7]\n",
        "Solution().numOfUnplacedFruits(fruits=fruits, baskets=baskets)"
      ]
    }
  ],
  "metadata": {
    "kernelspec": {
      "display_name": "Python 3",
      "language": "python",
      "name": "python3"
    },
    "language_info": {
      "codemirror_mode": {
        "name": "ipython",
        "version": 3
      },
      "file_extension": ".py",
      "mimetype": "text/x-python",
      "name": "python",
      "nbconvert_exporter": "python",
      "pygments_lexer": "ipython3",
      "version": "3.12.8"
    }
  },
  "nbformat": 4,
  "nbformat_minor": 2
}
