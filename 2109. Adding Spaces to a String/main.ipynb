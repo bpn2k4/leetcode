{
 "cells": [
  {
   "cell_type": "code",
   "execution_count": 1,
   "metadata": {},
   "outputs": [],
   "source": [
    "from typing import List\n",
    "\n",
    "\n",
    "class Solution:\n",
    "  def addSpaces(self, s: str, spaces: List[int]) -> str:\n",
    "    \n",
    "    new_string = \"\"\n",
    "    index_space = 0\n",
    "    spaces_length = len(spaces)\n",
    "    for index, char in enumerate(s):\n",
    "      if index_space < spaces_length and index == spaces[index_space]:\n",
    "        new_string += \" \"\n",
    "        index_space += 1\n",
    "      new_string += char\n",
    "\n",
    "    return new_string"
   ]
  },
  {
   "cell_type": "code",
   "execution_count": 2,
   "metadata": {},
   "outputs": [
    {
     "data": {
      "text/plain": [
       "'Leetcode Helps Me Learn'"
      ]
     },
     "execution_count": 2,
     "metadata": {},
     "output_type": "execute_result"
    }
   ],
   "source": [
    "s = \"LeetcodeHelpsMeLearn\"\n",
    "spaces = [8, 13, 15]\n",
    "Solution().addSpaces(s=s, spaces=spaces)"
   ]
  },
  {
   "cell_type": "code",
   "execution_count": 3,
   "metadata": {},
   "outputs": [
    {
     "data": {
      "text/plain": [
       "'i code in py thon'"
      ]
     },
     "execution_count": 3,
     "metadata": {},
     "output_type": "execute_result"
    }
   ],
   "source": [
    "s = \"icodeinpython\"\n",
    "spaces = [1, 5, 7, 9]\n",
    "Solution().addSpaces(s=s, spaces=spaces)"
   ]
  },
  {
   "cell_type": "code",
   "execution_count": 4,
   "metadata": {},
   "outputs": [
    {
     "data": {
      "text/plain": [
       "' s p a c i n g'"
      ]
     },
     "execution_count": 4,
     "metadata": {},
     "output_type": "execute_result"
    }
   ],
   "source": [
    "s = \"spacing\"\n",
    "spaces = [0, 1, 2, 3, 4, 5, 6]\n",
    "Solution().addSpaces(s=s, spaces=spaces)"
   ]
  }
 ],
 "metadata": {
  "kernelspec": {
   "display_name": "base",
   "language": "python",
   "name": "python3"
  },
  "language_info": {
   "codemirror_mode": {
    "name": "ipython",
    "version": 3
   },
   "file_extension": ".py",
   "mimetype": "text/x-python",
   "name": "python",
   "nbconvert_exporter": "python",
   "pygments_lexer": "ipython3",
   "version": "3.11.7"
  }
 },
 "nbformat": 4,
 "nbformat_minor": 2
}
