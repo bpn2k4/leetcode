{
 "cells": [
  {
   "cell_type": "code",
   "execution_count": 1,
   "metadata": {},
   "outputs": [],
   "source": [
    "from typing import List\n",
    "\n",
    "\n",
    "class Solution:\n",
    "  def numMagicSquaresInside(self, grid: List[List[int]]) -> int:\n",
    "    \n",
    "    def isMagicSquaresInside(i: int, j: int) -> bool:\n",
    "      mark = {}\n",
    "      for _i in [i-1, i, i+1]:\n",
    "        for _j in [j-1, j, j+1]:\n",
    "          if grid[_i][_j] == 0 or grid[_i][_j] > 9:\n",
    "            return False\n",
    "          if grid[_i][_j] not in mark:\n",
    "            mark[grid[_i][_j]] = 1\n",
    "          else:\n",
    "            mark[grid[_i][_j]] += 1\n",
    "      if len(mark)!= 9:\n",
    "        return False\n",
    "      if grid[i-1][j-1] + grid[i][j] + grid[i+1][j+1] != 15:\n",
    "        return False\n",
    "      if grid[i-1][j+1] + grid[i][j] + grid[i+1][j-1] != 15:\n",
    "        return False\n",
    "      if grid[i-1][j-1] + grid[i-1][j] + grid[i-1][j+1] != 15:\n",
    "        return False\n",
    "      if grid[i][j-1] + grid[i][j] + grid[i][j+1] != 15:\n",
    "        return False\n",
    "      if grid[i+1][j-1] + grid[i+1][j] + grid[i+1][j+1] != 15:\n",
    "        return False\n",
    "      if grid[i-1][j-1] + grid[i][j-1] + grid[i+1][j-1] != 15:\n",
    "        return False\n",
    "      if grid[i-1][j] + grid[i][j] + grid[i+1][j] != 15:\n",
    "        return False\n",
    "      if grid[i-1][j+1] + grid[i][j+1] + grid[i+1][j+1] != 15:\n",
    "        return False\n",
    "      return True\n",
    "\n",
    "    num_rows = len(grid)\n",
    "    num_cols = len(grid[0])\n",
    "    number_of_magic_squares = 0\n",
    "    if num_cols < 3 or num_rows < 3:\n",
    "      return 0\n",
    "    for i in range(1, num_rows - 1):\n",
    "      for j in range(1, num_cols - 1):\n",
    "        if isMagicSquaresInside(i, j):\n",
    "          number_of_magic_squares += 1\n",
    "    \n",
    "    return number_of_magic_squares"
   ]
  },
  {
   "cell_type": "code",
   "execution_count": 2,
   "metadata": {},
   "outputs": [
    {
     "data": {
      "text/plain": [
       "1"
      ]
     },
     "execution_count": 2,
     "metadata": {},
     "output_type": "execute_result"
    }
   ],
   "source": [
    "Solution().numMagicSquaresInside(\n",
    "    grid=[\n",
    "        [4, 3, 8, 4],\n",
    "        [9, 5, 1, 9],\n",
    "        [2, 7, 6, 2]\n",
    "    ]\n",
    ")"
   ]
  },
  {
   "cell_type": "code",
   "execution_count": 3,
   "metadata": {},
   "outputs": [
    {
     "data": {
      "text/plain": [
       "0"
      ]
     },
     "execution_count": 3,
     "metadata": {},
     "output_type": "execute_result"
    }
   ],
   "source": [
    "Solution().numMagicSquaresInside(grid=[[8]])"
   ]
  },
  {
   "cell_type": "code",
   "execution_count": 4,
   "metadata": {},
   "outputs": [
    {
     "data": {
      "text/plain": [
       "0"
      ]
     },
     "execution_count": 4,
     "metadata": {},
     "output_type": "execute_result"
    }
   ],
   "source": [
    "Solution().numMagicSquaresInside(\n",
    "    grid=[\n",
    "        [5, 5, 5],\n",
    "        [5, 5, 5],\n",
    "        [5, 5, 5]\n",
    "    ]\n",
    ")"
   ]
  }
 ],
 "metadata": {
  "kernelspec": {
   "display_name": "base",
   "language": "python",
   "name": "python3"
  },
  "language_info": {
   "codemirror_mode": {
    "name": "ipython",
    "version": 3
   },
   "file_extension": ".py",
   "mimetype": "text/x-python",
   "name": "python",
   "nbconvert_exporter": "python",
   "pygments_lexer": "ipython3",
   "version": "3.11.7"
  }
 },
 "nbformat": 4,
 "nbformat_minor": 2
}
