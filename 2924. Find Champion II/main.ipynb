{
 "cells": [
  {
   "cell_type": "code",
   "execution_count": null,
   "metadata": {},
   "outputs": [],
   "source": [
    "from typing import List\n",
    "\n",
    "\n",
    "class Solution:\n",
    "  def findChampion(self, n: int, edges: List[List[int]]) -> int:\n",
    "    \n",
    "    node2neighbors = {i: [] for i in range(n)}\n",
    "    for u, v in edges:\n",
    "      node2neighbors[u].append(v)\n",
    "    \n",
    "    def dfs(node: int, visited: List[bool], count: List[int]):\n",
    "\n",
    "      count[0] += 1\n",
    "      visited[node] = True\n",
    "\n",
    "      for neighbor in node2neighbors[node]:\n",
    "        if not visited[neighbor]:\n",
    "          dfs(neighbor, visited, count)\n",
    "\n",
    "    for node in range(n):\n",
    "      visited = [False] * n\n",
    "      count = [0]\n",
    "      dfs(node, visited, count)\n",
    "      if count[0] == n:\n",
    "        return node\n",
    "      \n",
    "    return -1\n",
    "  \n",
    "  def findChampion(self, n: int, edges: List[List[int]]) -> int:\n",
    "\n",
    "    mark = [True] * n\n",
    "    for _, v in edges:\n",
    "      mark[v] = False\n",
    "\n",
    "    if sum(mark) != 1:\n",
    "      return -1\n",
    "\n",
    "    for i in range(n):\n",
    "      if mark[i]:\n",
    "        return i"
   ]
  },
  {
   "cell_type": "code",
   "execution_count": 2,
   "metadata": {},
   "outputs": [
    {
     "data": {
      "text/plain": [
       "0"
      ]
     },
     "execution_count": 2,
     "metadata": {},
     "output_type": "execute_result"
    }
   ],
   "source": [
    "n = 3\n",
    "edges = [[0, 1], [1, 2]]\n",
    "Solution().findChampion(n=n, edges=edges)"
   ]
  },
  {
   "cell_type": "code",
   "execution_count": 3,
   "metadata": {},
   "outputs": [
    {
     "data": {
      "text/plain": [
       "-1"
      ]
     },
     "execution_count": 3,
     "metadata": {},
     "output_type": "execute_result"
    }
   ],
   "source": [
    "n = 4\n",
    "edges = [[0, 2], [1, 3], [1, 2]]\n",
    "Solution().findChampion(n=n, edges=edges)"
   ]
  }
 ],
 "metadata": {
  "kernelspec": {
   "display_name": "base",
   "language": "python",
   "name": "python3"
  },
  "language_info": {
   "codemirror_mode": {
    "name": "ipython",
    "version": 3
   },
   "file_extension": ".py",
   "mimetype": "text/x-python",
   "name": "python",
   "nbconvert_exporter": "python",
   "pygments_lexer": "ipython3",
   "version": "3.11.7"
  }
 },
 "nbformat": 4,
 "nbformat_minor": 2
}
