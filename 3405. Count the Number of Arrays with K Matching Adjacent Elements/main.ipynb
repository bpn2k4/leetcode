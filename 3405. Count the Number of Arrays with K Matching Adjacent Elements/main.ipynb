{
  "cells": [
    {
      "cell_type": "code",
      "execution_count": 1,
      "metadata": {},
      "outputs": [],
      "source": [
        "MOD = 10**9 + 7\n",
        "MAXN = 10**5\n",
        "\n",
        "fact = [1] * (MAXN + 1)\n",
        "inv_fact = [1] * (MAXN + 1)\n",
        "\n",
        "for i in range(1, MAXN + 1):\n",
        "  fact[i] = fact[i - 1] * i % MOD\n",
        "\n",
        "inv_fact[MAXN] = pow(fact[MAXN], MOD - 2, MOD)\n",
        "for i in range(MAXN - 1, 0, -1):\n",
        "  inv_fact[i] = inv_fact[i + 1] * (i + 1) % MOD\n",
        "\n",
        "\n",
        "def comb(n, k):\n",
        "  if k < 0 or k > n:\n",
        "    return 0\n",
        "  return fact[n] * inv_fact[k] % MOD * inv_fact[n - k] % MOD\n",
        "\n",
        "\n",
        "class Solution:\n",
        "  def countGoodArrays(self, n: int, m: int, k: int) -> int:\n",
        "    c = comb(n - 1, k)\n",
        "    p = pow(m - 1, n - k - 1, MOD)\n",
        "    return m * c % MOD * p % MOD"
      ]
    },
    {
      "cell_type": "code",
      "execution_count": 2,
      "metadata": {},
      "outputs": [
        {
          "data": {
            "text/plain": [
              "4"
            ]
          },
          "execution_count": 2,
          "metadata": {},
          "output_type": "execute_result"
        }
      ],
      "source": [
        "n = 3\n",
        "m = 2\n",
        "k = 1\n",
        "Solution().countGoodArrays(n=n, m=m, k=k)"
      ]
    },
    {
      "cell_type": "code",
      "execution_count": 3,
      "metadata": {},
      "outputs": [
        {
          "data": {
            "text/plain": [
              "6"
            ]
          },
          "execution_count": 3,
          "metadata": {},
          "output_type": "execute_result"
        }
      ],
      "source": [
        "n = 4\n",
        "m = 2\n",
        "k = 2\n",
        "Solution().countGoodArrays(n=n, m=m, k=k)"
      ]
    },
    {
      "cell_type": "code",
      "execution_count": 4,
      "metadata": {},
      "outputs": [
        {
          "data": {
            "text/plain": [
              "2"
            ]
          },
          "execution_count": 4,
          "metadata": {},
          "output_type": "execute_result"
        }
      ],
      "source": [
        "n = 5\n",
        "m = 2\n",
        "k = 0\n",
        "Solution().countGoodArrays(n=n, m=m, k=k)"
      ]
    }
  ],
  "metadata": {
    "kernelspec": {
      "display_name": "Python 3",
      "language": "python",
      "name": "python3"
    },
    "language_info": {
      "codemirror_mode": {
        "name": "ipython",
        "version": 3
      },
      "file_extension": ".py",
      "mimetype": "text/x-python",
      "name": "python",
      "nbconvert_exporter": "python",
      "pygments_lexer": "ipython3",
      "version": "3.12.8"
    }
  },
  "nbformat": 4,
  "nbformat_minor": 2
}
