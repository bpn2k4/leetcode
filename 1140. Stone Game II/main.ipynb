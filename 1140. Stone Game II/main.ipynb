{
 "cells": [
  {
   "cell_type": "code",
   "execution_count": 1,
   "metadata": {},
   "outputs": [],
   "source": [
    "from typing import List\n",
    "\n",
    "\n",
    "class Solution:\n",
    "\n",
    "  def stoneGameII(self, piles: List[int]) -> int:\n",
    "    n = len(piles)\n",
    "    suffix_sum = [0] * n\n",
    "    suffix_sum[-1] = piles[-1]\n",
    "    for i in range(n - 2, -1, -1):\n",
    "      suffix_sum[i] = suffix_sum[i + 1] + piles[i]\n",
    "\n",
    "    dp = [[0] * (n + 1) for _ in range(n)]\n",
    "\n",
    "    for i in range(n - 1, -1, -1):\n",
    "      for M in range(1, n + 1):\n",
    "        max_stones = 0\n",
    "        for X in range(1, min(2 * M, n - i) + 1):\n",
    "          max_stones = max(\n",
    "              max_stones, suffix_sum[i] - (dp[i + X][max(M, X)] if i + X < n else 0))\n",
    "        dp[i][M] = max_stones\n",
    "\n",
    "    return dp[0][1]"
   ]
  },
  {
   "cell_type": "code",
   "execution_count": 2,
   "metadata": {},
   "outputs": [
    {
     "data": {
      "text/plain": [
       "10"
      ]
     },
     "execution_count": 2,
     "metadata": {},
     "output_type": "execute_result"
    }
   ],
   "source": [
    "Solution().stoneGameII(piles=[2, 7, 9, 4, 4])"
   ]
  },
  {
   "cell_type": "code",
   "execution_count": 3,
   "metadata": {},
   "outputs": [
    {
     "data": {
      "text/plain": [
       "104"
      ]
     },
     "execution_count": 3,
     "metadata": {},
     "output_type": "execute_result"
    }
   ],
   "source": [
    "Solution().stoneGameII(piles=[1, 2, 3, 4, 5, 100])"
   ]
  }
 ],
 "metadata": {
  "kernelspec": {
   "display_name": "base",
   "language": "python",
   "name": "python3"
  },
  "language_info": {
   "codemirror_mode": {
    "name": "ipython",
    "version": 3
   },
   "file_extension": ".py",
   "mimetype": "text/x-python",
   "name": "python",
   "nbconvert_exporter": "python",
   "pygments_lexer": "ipython3",
   "version": "3.11.7"
  }
 },
 "nbformat": 4,
 "nbformat_minor": 2
}
