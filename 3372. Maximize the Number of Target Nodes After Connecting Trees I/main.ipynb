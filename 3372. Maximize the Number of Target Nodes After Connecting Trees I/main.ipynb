{
  "cells": [
    {
      "cell_type": "code",
      "execution_count": 1,
      "metadata": {},
      "outputs": [],
      "source": [
        "from typing import List\n",
        "\n",
        "\n",
        "class Solution:\n",
        "  def maxTargetNodes(self, edges1: List[List[int]], edges2: List[List[int]], k: int) -> List[int]:\n",
        "\n",
        "    def dfs(node: int, parent: int, node2neighbors: dict[int, list[int]], k: int) -> int:\n",
        "      if k < 0:\n",
        "        return 0\n",
        "      \n",
        "      distance = 1\n",
        "      for neighbor in node2neighbors[node]:\n",
        "        if neighbor == parent:\n",
        "          continue\n",
        "        distance += dfs(neighbor, node, node2neighbors, k - 1)\n",
        "\n",
        "      return distance\n",
        "\n",
        "    n, m = len(edges1), len(edges2)\n",
        "    node2neighbors = {i: [] for i in range(n + 1)}\n",
        "    for u, v in edges1:\n",
        "      node2neighbors[u].append(v)\n",
        "      node2neighbors[v].append(u)\n",
        "\n",
        "    d1 = [0] * (n + 1)\n",
        "    for i in range(n + 1):\n",
        "      d1[i] = dfs(i, -1, node2neighbors, k)\n",
        "\n",
        "    node2neighbors = {i: [] for i in range(m + 1)}\n",
        "    for u, v in edges2:\n",
        "      node2neighbors[u].append(v)\n",
        "      node2neighbors[v].append(u)\n",
        "\n",
        "    d2 = [0] * (m + 1)\n",
        "    for i in range(m + 1):\n",
        "      d2[i] = dfs(i, -1, node2neighbors, k - 1)\n",
        "\n",
        "    max_d2 = max(d2)\n",
        "\n",
        "    return [d1[i] + max_d2 for i in range(n + 1)]"
      ]
    },
    {
      "cell_type": "code",
      "execution_count": 2,
      "metadata": {},
      "outputs": [
        {
          "data": {
            "text/plain": [
              "[9, 7, 9, 8, 8]"
            ]
          },
          "execution_count": 2,
          "metadata": {},
          "output_type": "execute_result"
        }
      ],
      "source": [
        "edges1 = [[0, 1], [0, 2], [2, 3], [2, 4]]\n",
        "edges2 = [[0, 1], [0, 2], [0, 3], [2, 7], [1, 4], [4, 5], [4, 6]]\n",
        "k = 2\n",
        "Solution().maxTargetNodes(edges1=edges1, edges2=edges2, k=k)"
      ]
    },
    {
      "cell_type": "code",
      "execution_count": 3,
      "metadata": {},
      "outputs": [
        {
          "data": {
            "text/plain": [
              "[6, 3, 3, 3, 3]"
            ]
          },
          "execution_count": 3,
          "metadata": {},
          "output_type": "execute_result"
        }
      ],
      "source": [
        "edges1 = [[0, 1], [0, 2], [0, 3], [0, 4]]\n",
        "edges2 = [[0, 1], [1, 2], [2, 3]]\n",
        "k = 1\n",
        "Solution().maxTargetNodes(edges1=edges1, edges2=edges2, k=k)"
      ]
    }
  ],
  "metadata": {
    "kernelspec": {
      "display_name": "Python 3",
      "language": "python",
      "name": "python3"
    },
    "language_info": {
      "codemirror_mode": {
        "name": "ipython",
        "version": 3
      },
      "file_extension": ".py",
      "mimetype": "text/x-python",
      "name": "python",
      "nbconvert_exporter": "python",
      "pygments_lexer": "ipython3",
      "version": "3.12.8"
    }
  },
  "nbformat": 4,
  "nbformat_minor": 2
}
