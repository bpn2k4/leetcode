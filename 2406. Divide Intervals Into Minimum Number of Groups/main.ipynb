{
  "cells": [
    {
      "cell_type": "code",
      "execution_count": 1,
      "metadata": {},
      "outputs": [],
      "source": [
        "from typing import List\n",
        "\n",
        "\n",
        "class Solution:\n",
        "  def minGroups(self, intervals: List[List[int]]) -> int:\n",
        "\n",
        "    events = []\n",
        "    for left, right in intervals:\n",
        "      events.append((left, 1))\n",
        "      events.append((right + 1, -1))\n",
        "\n",
        "    events.sort()\n",
        "\n",
        "    max_groups = 0\n",
        "    current_groups = 0\n",
        "\n",
        "    for _, event in events:\n",
        "      current_groups += event\n",
        "      max_groups = max(max_groups, current_groups)\n",
        "\n",
        "    return max_groups"
      ]
    },
    {
      "cell_type": "code",
      "execution_count": 2,
      "metadata": {},
      "outputs": [
        {
          "data": {
            "text/plain": [
              "3"
            ]
          },
          "execution_count": 2,
          "metadata": {},
          "output_type": "execute_result"
        }
      ],
      "source": [
        "intervals = [[5, 10], [6, 8], [1, 5], [2, 3], [1, 10]]\n",
        "Solution().minGroups(intervals=intervals)"
      ]
    },
    {
      "cell_type": "code",
      "execution_count": 3,
      "metadata": {},
      "outputs": [
        {
          "data": {
            "text/plain": [
              "1"
            ]
          },
          "execution_count": 3,
          "metadata": {},
          "output_type": "execute_result"
        }
      ],
      "source": [
        "intervals = [[1, 3], [5, 6], [8, 10], [11, 13]]\n",
        "Solution().minGroups(intervals=intervals)"
      ]
    }
  ],
  "metadata": {
    "kernelspec": {
      "display_name": "base",
      "language": "python",
      "name": "python3"
    },
    "language_info": {
      "codemirror_mode": {
        "name": "ipython",
        "version": 3
      },
      "file_extension": ".py",
      "mimetype": "text/x-python",
      "name": "python",
      "nbconvert_exporter": "python",
      "pygments_lexer": "ipython3",
      "version": "3.11.7"
    }
  },
  "nbformat": 4,
  "nbformat_minor": 2
}
