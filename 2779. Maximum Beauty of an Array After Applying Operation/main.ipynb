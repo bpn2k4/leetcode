{
 "cells": [
  {
   "cell_type": "code",
   "execution_count": 1,
   "metadata": {},
   "outputs": [],
   "source": [
    "from typing import List\n",
    "\n",
    "\n",
    "class Solution:\n",
    "  def maximumBeauty(self, nums: List[int], k: int) -> int:\n",
    "    \n",
    "    events = []\n",
    "    for num in nums:\n",
    "      is_add = True\n",
    "      events.append((num - k, is_add))\n",
    "      is_remove = False\n",
    "      events.append((num + k + 1, is_remove))\n",
    "\n",
    "    events.sort()\n",
    "    max_beauty = 0\n",
    "    beauty = 0\n",
    "    for _, is_add in events:\n",
    "      if is_add:\n",
    "        beauty += 1\n",
    "      else:\n",
    "        beauty -= 1\n",
    "      max_beauty = max(max_beauty, beauty)\n",
    "\n",
    "    return max_beauty"
   ]
  },
  {
   "cell_type": "code",
   "execution_count": 2,
   "metadata": {},
   "outputs": [
    {
     "data": {
      "text/plain": [
       "3"
      ]
     },
     "execution_count": 2,
     "metadata": {},
     "output_type": "execute_result"
    }
   ],
   "source": [
    "nums = [4, 6, 1, 2]\n",
    "k = 2\n",
    "Solution().maximumBeauty(nums=nums, k=k)"
   ]
  },
  {
   "cell_type": "code",
   "execution_count": 3,
   "metadata": {},
   "outputs": [
    {
     "data": {
      "text/plain": [
       "4"
      ]
     },
     "execution_count": 3,
     "metadata": {},
     "output_type": "execute_result"
    }
   ],
   "source": [
    "nums = [1, 1, 1, 1]\n",
    "k = 10\n",
    "Solution().maximumBeauty(nums=nums, k=k)"
   ]
  }
 ],
 "metadata": {
  "kernelspec": {
   "display_name": "base",
   "language": "python",
   "name": "python3"
  },
  "language_info": {
   "codemirror_mode": {
    "name": "ipython",
    "version": 3
   },
   "file_extension": ".py",
   "mimetype": "text/x-python",
   "name": "python",
   "nbconvert_exporter": "python",
   "pygments_lexer": "ipython3",
   "version": "3.11.7"
  }
 },
 "nbformat": 4,
 "nbformat_minor": 2
}
