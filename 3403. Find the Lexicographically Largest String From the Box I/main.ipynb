{
  "cells": [
    {
      "cell_type": "code",
      "execution_count": 1,
      "metadata": {},
      "outputs": [],
      "source": [
        "class Solution:\n",
        "  def answerString(self, word: str, numFriends: int) -> str:\n",
        "    \n",
        "    if numFriends == 1:\n",
        "      return word\n",
        "    \n",
        "    n = len(word)\n",
        "    m = n - numFriends + 1\n",
        "    i = 0\n",
        "    j = 1\n",
        "    while j < n:\n",
        "      k = 0\n",
        "      while j + k < n and word[i + k] == word[j + k]:\n",
        "        k += 1\n",
        "      if j + k < n and word[i + k] <= word[j + k]:\n",
        "        i, j = j, max(j + 1, i + k + 1)\n",
        "      else:\n",
        "        j += k + 1\n",
        "\n",
        "    s = word[i:]\n",
        "    if len(s) <= m:\n",
        "      return s\n",
        "\n",
        "    return s[:m] "
      ]
    },
    {
      "cell_type": "code",
      "execution_count": 2,
      "metadata": {},
      "outputs": [
        {
          "data": {
            "text/plain": [
              "'dbc'"
            ]
          },
          "execution_count": 2,
          "metadata": {},
          "output_type": "execute_result"
        }
      ],
      "source": [
        "word = \"dbca\"\n",
        "numFriends = 2\n",
        "Solution().answerString(word=word, numFriends=numFriends)"
      ]
    },
    {
      "cell_type": "code",
      "execution_count": 3,
      "metadata": {},
      "outputs": [
        {
          "data": {
            "text/plain": [
              "'g'"
            ]
          },
          "execution_count": 3,
          "metadata": {},
          "output_type": "execute_result"
        }
      ],
      "source": [
        "word = \"gggg\"\n",
        "numFriends = 4\n",
        "Solution().answerString(word=word, numFriends=numFriends)"
      ]
    }
  ],
  "metadata": {
    "kernelspec": {
      "display_name": "Python 3",
      "language": "python",
      "name": "python3"
    },
    "language_info": {
      "codemirror_mode": {
        "name": "ipython",
        "version": 3
      },
      "file_extension": ".py",
      "mimetype": "text/x-python",
      "name": "python",
      "nbconvert_exporter": "python",
      "pygments_lexer": "ipython3",
      "version": "3.12.8"
    }
  },
  "nbformat": 4,
  "nbformat_minor": 2
}
