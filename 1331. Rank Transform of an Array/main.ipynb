{
  "cells": [
    {
      "cell_type": "code",
      "execution_count": 1,
      "metadata": {},
      "outputs": [],
      "source": [
        "from typing import List\n",
        "\n",
        "\n",
        "class Solution:\n",
        "  def arrayRankTransform(self, arr: List[int]) -> List[int]:\n",
        "    \n",
        "    sorted_arr = sorted(arr)\n",
        "    mark_rank = {}\n",
        "    for num in sorted_arr:\n",
        "      if num not in mark_rank:\n",
        "        mark_rank[num] = len(mark_rank) + 1\n",
        "        \n",
        "    return [mark_rank[num] for num in arr]"
      ]
    },
    {
      "cell_type": "code",
      "execution_count": 2,
      "metadata": {},
      "outputs": [
        {
          "data": {
            "text/plain": [
              "[4, 1, 2, 3]"
            ]
          },
          "execution_count": 2,
          "metadata": {},
          "output_type": "execute_result"
        }
      ],
      "source": [
        "arr = [40, 10, 20, 30]\n",
        "Solution().arrayRankTransform(arr=arr)"
      ]
    },
    {
      "cell_type": "code",
      "execution_count": 3,
      "metadata": {},
      "outputs": [
        {
          "data": {
            "text/plain": [
              "[1, 1, 1]"
            ]
          },
          "execution_count": 3,
          "metadata": {},
          "output_type": "execute_result"
        }
      ],
      "source": [
        "arr = [100, 100, 100]\n",
        "Solution().arrayRankTransform(arr=arr)"
      ]
    },
    {
      "cell_type": "code",
      "execution_count": 4,
      "metadata": {},
      "outputs": [
        {
          "data": {
            "text/plain": [
              "[5, 3, 4, 2, 8, 6, 7, 1, 3]"
            ]
          },
          "execution_count": 4,
          "metadata": {},
          "output_type": "execute_result"
        }
      ],
      "source": [
        "arr = [37, 12, 28, 9, 100, 56, 80, 5, 12]\n",
        "Solution().arrayRankTransform(arr=arr)"
      ]
    }
  ],
  "metadata": {
    "kernelspec": {
      "display_name": "base",
      "language": "python",
      "name": "python3"
    },
    "language_info": {
      "codemirror_mode": {
        "name": "ipython",
        "version": 3
      },
      "file_extension": ".py",
      "mimetype": "text/x-python",
      "name": "python",
      "nbconvert_exporter": "python",
      "pygments_lexer": "ipython3",
      "version": "3.11.7"
    }
  },
  "nbformat": 4,
  "nbformat_minor": 2
}
