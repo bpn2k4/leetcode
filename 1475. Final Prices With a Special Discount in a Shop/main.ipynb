{
  "cells": [
    {
      "cell_type": "code",
      "execution_count": 1,
      "metadata": {},
      "outputs": [],
      "source": [
        "from typing import List\n",
        "\n",
        "\n",
        "class Solution:\n",
        "  def finalPrices(self, prices: List[int]) -> List[int]:\n",
        "    \n",
        "    n = len(prices)\n",
        "    answer = []\n",
        "    for i in range(n - 1):\n",
        "      price = prices[i]\n",
        "      j = i + 1\n",
        "      while j < n and prices[j] > price:\n",
        "        j += 1\n",
        "      \n",
        "      if j < n:\n",
        "        answer.append(price - prices[j])\n",
        "      else:\n",
        "        answer.append(price)\n",
        "\n",
        "    answer.append(prices[-1])\n",
        "\n",
        "    return answer"
      ]
    },
    {
      "cell_type": "code",
      "execution_count": 2,
      "metadata": {},
      "outputs": [
        {
          "data": {
            "text/plain": [
              "[4, 2, 4, 2, 3]"
            ]
          },
          "execution_count": 2,
          "metadata": {},
          "output_type": "execute_result"
        }
      ],
      "source": [
        "prices = [8, 4, 6, 2, 3]\n",
        "Solution().finalPrices(prices=prices)"
      ]
    },
    {
      "cell_type": "code",
      "execution_count": 3,
      "metadata": {},
      "outputs": [
        {
          "data": {
            "text/plain": [
              "[1, 2, 3, 4, 5]"
            ]
          },
          "execution_count": 3,
          "metadata": {},
          "output_type": "execute_result"
        }
      ],
      "source": [
        "prices = [1, 2, 3, 4, 5]\n",
        "Solution().finalPrices(prices=prices)"
      ]
    },
    {
      "cell_type": "code",
      "execution_count": 4,
      "metadata": {},
      "outputs": [
        {
          "data": {
            "text/plain": [
              "[9, 0, 1, 6]"
            ]
          },
          "execution_count": 4,
          "metadata": {},
          "output_type": "execute_result"
        }
      ],
      "source": [
        "prices = [10, 1, 1, 6]\n",
        "Solution().finalPrices(prices=prices)"
      ]
    }
  ],
  "metadata": {
    "kernelspec": {
      "display_name": "base",
      "language": "python",
      "name": "python3"
    },
    "language_info": {
      "codemirror_mode": {
        "name": "ipython",
        "version": 3
      },
      "file_extension": ".py",
      "mimetype": "text/x-python",
      "name": "python",
      "nbconvert_exporter": "python",
      "pygments_lexer": "ipython3",
      "version": "3.11.7"
    }
  },
  "nbformat": 4,
  "nbformat_minor": 2
}
