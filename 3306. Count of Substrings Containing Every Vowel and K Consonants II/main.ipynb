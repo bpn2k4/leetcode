{
  "cells": [
    {
      "cell_type": "code",
      "execution_count": 1,
      "metadata": {},
      "outputs": [],
      "source": [
        "class Solution:\n",
        "  def countOfSubstrings(self, word: str, k: int) -> int:\n",
        "\n",
        "    vowels = {\"a\", \"e\", \"i\", \"o\", \"u\"}\n",
        "    count = 0\n",
        "    left = right = 0\n",
        "    vowel_freq = {}\n",
        "    consonant_count = 0\n",
        "    next_consonant = [0] * len(word)\n",
        "    next_consonant_index = len(word)\n",
        "\n",
        "    for i in range(len(word) - 1, -1, -1):\n",
        "      next_consonant[i] = next_consonant_index\n",
        "      if not word[i] in vowels:\n",
        "        next_consonant_index = i\n",
        "\n",
        "    while right < len(word):\n",
        "      char = word[right]\n",
        "\n",
        "      if char in vowels:\n",
        "        vowel_freq[char] = vowel_freq.get(char, 0) + 1\n",
        "      else:\n",
        "        consonant_count += 1\n",
        "\n",
        "      while consonant_count > k:\n",
        "        left_char = word[left]\n",
        "        if left_char in vowels:\n",
        "          vowel_freq[left_char] -= 1\n",
        "          if vowel_freq[left_char] == 0:\n",
        "            del vowel_freq[left_char]\n",
        "        else:\n",
        "          consonant_count -= 1\n",
        "        left += 1\n",
        "\n",
        "      while left < len(word) and len(vowel_freq) == 5 and consonant_count == k:\n",
        "        count += next_consonant[right] - right\n",
        "        left_char = word[left]\n",
        "        if left_char in vowels:\n",
        "          vowel_freq[left_char] -= 1\n",
        "          if vowel_freq[left_char] == 0:\n",
        "            del vowel_freq[left_char]\n",
        "        else:\n",
        "          consonant_count -= 1\n",
        "        left += 1\n",
        "\n",
        "      right += 1\n",
        "\n",
        "    return count"
      ]
    },
    {
      "cell_type": "code",
      "execution_count": 2,
      "metadata": {},
      "outputs": [
        {
          "data": {
            "text/plain": [
              "0"
            ]
          },
          "execution_count": 2,
          "metadata": {},
          "output_type": "execute_result"
        }
      ],
      "source": [
        "word = \"aeioqq\"\n",
        "k = 1\n",
        "Solution().countOfSubstrings(word=word, k=k)"
      ]
    },
    {
      "cell_type": "code",
      "execution_count": 3,
      "metadata": {},
      "outputs": [
        {
          "data": {
            "text/plain": [
              "1"
            ]
          },
          "execution_count": 3,
          "metadata": {},
          "output_type": "execute_result"
        }
      ],
      "source": [
        "word = \"aeiou\"\n",
        "k = 0\n",
        "Solution().countOfSubstrings(word=word, k=k)"
      ]
    },
    {
      "cell_type": "code",
      "execution_count": 4,
      "metadata": {},
      "outputs": [
        {
          "data": {
            "text/plain": [
              "3"
            ]
          },
          "execution_count": 4,
          "metadata": {},
          "output_type": "execute_result"
        }
      ],
      "source": [
        "word = \"ieaouqqieaouqq\"\n",
        "k = 1\n",
        "Solution().countOfSubstrings(word=word, k=k)"
      ]
    },
    {
      "cell_type": "code",
      "execution_count": 5,
      "metadata": {},
      "outputs": [
        {
          "data": {
            "text/plain": [
              "3"
            ]
          },
          "execution_count": 5,
          "metadata": {},
          "output_type": "execute_result"
        }
      ],
      "source": [
        "word = \"iqeaouqi\"\n",
        "k = 2\n",
        "Solution().countOfSubstrings(word=word, k=k)"
      ]
    }
  ],
  "metadata": {
    "kernelspec": {
      "display_name": "Python 3",
      "language": "python",
      "name": "python3"
    },
    "language_info": {
      "codemirror_mode": {
        "name": "ipython",
        "version": 3
      },
      "file_extension": ".py",
      "mimetype": "text/x-python",
      "name": "python",
      "nbconvert_exporter": "python",
      "pygments_lexer": "ipython3",
      "version": "3.12.1"
    }
  },
  "nbformat": 4,
  "nbformat_minor": 2
}
