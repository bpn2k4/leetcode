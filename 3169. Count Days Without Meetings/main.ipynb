{
  "cells": [
    {
      "cell_type": "code",
      "execution_count": 1,
      "metadata": {},
      "outputs": [],
      "source": [
        "from typing import List\n",
        "\n",
        "\n",
        "class Solution:\n",
        "  def countDays(self, days: int, meetings: List[List[int]]) -> int:\n",
        "\n",
        "    events = []\n",
        "\n",
        "    for start, end in meetings:\n",
        "      events.append((start, 1))\n",
        "      events.append((end + 1, -1))\n",
        "\n",
        "    events.sort()\n",
        "    events.append((days + 1, 0))\n",
        "\n",
        "    count = 0\n",
        "    active_meetings = 0\n",
        "    last_time = 1\n",
        "\n",
        "    for time, signal in events:\n",
        "      if active_meetings == 0:\n",
        "        count += time - last_time\n",
        "      active_meetings += signal\n",
        "      last_time = time\n",
        "\n",
        "    return count"
      ]
    },
    {
      "cell_type": "code",
      "execution_count": 2,
      "metadata": {},
      "outputs": [
        {
          "data": {
            "text/plain": [
              "2"
            ]
          },
          "execution_count": 2,
          "metadata": {},
          "output_type": "execute_result"
        }
      ],
      "source": [
        "days = 10\n",
        "meetings = [[5, 7], [1, 3], [9, 10]]\n",
        "Solution().countDays(days=days, meetings=meetings)"
      ]
    },
    {
      "cell_type": "code",
      "execution_count": 3,
      "metadata": {},
      "outputs": [
        {
          "data": {
            "text/plain": [
              "1"
            ]
          },
          "execution_count": 3,
          "metadata": {},
          "output_type": "execute_result"
        }
      ],
      "source": [
        "days = 5\n",
        "meetings = [[2, 4], [1, 3]]\n",
        "Solution().countDays(days=days, meetings=meetings)"
      ]
    },
    {
      "cell_type": "code",
      "execution_count": 4,
      "metadata": {},
      "outputs": [
        {
          "data": {
            "text/plain": [
              "0"
            ]
          },
          "execution_count": 4,
          "metadata": {},
          "output_type": "execute_result"
        }
      ],
      "source": [
        "days = 6\n",
        "meetings = [[1, 6]]\n",
        "Solution().countDays(days=days, meetings=meetings)"
      ]
    }
  ],
  "metadata": {
    "kernelspec": {
      "display_name": "Python 3",
      "language": "python",
      "name": "python3"
    },
    "language_info": {
      "codemirror_mode": {
        "name": "ipython",
        "version": 3
      },
      "file_extension": ".py",
      "mimetype": "text/x-python",
      "name": "python",
      "nbconvert_exporter": "python",
      "pygments_lexer": "ipython3",
      "version": "3.12.1"
    }
  },
  "nbformat": 4,
  "nbformat_minor": 2
}
