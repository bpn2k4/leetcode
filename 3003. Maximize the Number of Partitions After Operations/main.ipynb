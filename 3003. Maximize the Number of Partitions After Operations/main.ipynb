{
  "cells": [
    {
      "cell_type": "code",
      "execution_count": 1,
      "metadata": {},
      "outputs": [],
      "source": [
        "class Solution:\n",
        "  def maxPartitionsAfterOperations(self, s: str, k: int) -> int:\n",
        "\n",
        "    n = len(s)\n",
        "    left = [[0] * 3 for _ in range(n)]\n",
        "    right = [[0] * 3 for _ in range(n)]\n",
        "    num, mask, count = 0, 0, 0\n",
        "    for i in range(n - 1):\n",
        "      binary = 1 << (ord(s[i]) - ord(\"a\"))\n",
        "      if not (mask & binary):\n",
        "        count += 1\n",
        "        if count <= k:\n",
        "          mask |= binary\n",
        "        else:\n",
        "          num += 1\n",
        "          mask = binary\n",
        "          count = 1\n",
        "      left[i + 1][0] = num\n",
        "      left[i + 1][1] = mask\n",
        "      left[i + 1][2] = count\n",
        "\n",
        "    num, mask, count = 0, 0, 0\n",
        "    for i in range(n - 1, 0, -1):\n",
        "      binary = 1 << (ord(s[i]) - ord(\"a\"))\n",
        "      if not (mask & binary):\n",
        "        count += 1\n",
        "        if count <= k:\n",
        "          mask |= binary\n",
        "        else:\n",
        "          num += 1\n",
        "          mask = binary\n",
        "          count = 1\n",
        "      right[i - 1][0] = num\n",
        "      right[i - 1][1] = mask\n",
        "      right[i - 1][2] = count\n",
        "\n",
        "    max_val = 0\n",
        "    for i in range(n):\n",
        "      seg = left[i][0] + right[i][0] + 2\n",
        "      tot_mask = left[i][1] | right[i][1]\n",
        "      tot_count = bin(tot_mask).count(\"1\")\n",
        "      if left[i][2] == k and right[i][2] == k and tot_count < 26:\n",
        "        seg += 1\n",
        "      elif min(tot_count + 1, 26) <= k:\n",
        "        seg -= 1\n",
        "      max_val = max(max_val, seg)\n",
        "\n",
        "    return max_val"
      ]
    },
    {
      "cell_type": "code",
      "execution_count": 2,
      "metadata": {},
      "outputs": [
        {
          "data": {
            "text/plain": [
              "3"
            ]
          },
          "execution_count": 2,
          "metadata": {},
          "output_type": "execute_result"
        }
      ],
      "source": [
        "s = \"accca\"\n",
        "k = 2\n",
        "Solution().maxPartitionsAfterOperations(s=s, k=k)"
      ]
    },
    {
      "cell_type": "code",
      "execution_count": 3,
      "metadata": {},
      "outputs": [
        {
          "data": {
            "text/plain": [
              "1"
            ]
          },
          "execution_count": 3,
          "metadata": {},
          "output_type": "execute_result"
        }
      ],
      "source": [
        "s = \"aabaab\"\n",
        "k = 3\n",
        "Solution().maxPartitionsAfterOperations(s=s, k=k)"
      ]
    },
    {
      "cell_type": "code",
      "execution_count": 4,
      "metadata": {},
      "outputs": [
        {
          "data": {
            "text/plain": [
              "4"
            ]
          },
          "execution_count": 4,
          "metadata": {},
          "output_type": "execute_result"
        }
      ],
      "source": [
        "s = \"xxyz\"\n",
        "k = 1\n",
        "Solution().maxPartitionsAfterOperations(s=s, k=k)"
      ]
    }
  ],
  "metadata": {
    "kernelspec": {
      "display_name": "Python 3",
      "language": "python",
      "name": "python3"
    },
    "language_info": {
      "codemirror_mode": {
        "name": "ipython",
        "version": 3
      },
      "file_extension": ".py",
      "mimetype": "text/x-python",
      "name": "python",
      "nbconvert_exporter": "python",
      "pygments_lexer": "ipython3",
      "version": "3.12.8"
    }
  },
  "nbformat": 4,
  "nbformat_minor": 2
}
