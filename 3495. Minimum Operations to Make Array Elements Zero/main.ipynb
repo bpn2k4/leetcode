{
  "cells": [
    {
      "cell_type": "code",
      "execution_count": null,
      "metadata": {},
      "outputs": [],
      "source": [
        "from typing import List\n",
        "\n",
        "\n",
        "class Solution:\n",
        "  def minOperations(self, queries: List[List[int]]) -> int:\n",
        "\n",
        "    def get( num: int) -> int:\n",
        "      i = 1\n",
        "      base = 1\n",
        "      cnt = 0\n",
        "      while base <= num:\n",
        "        cnt += ((i + 1) // 2) * (min(base * 2 - 1, num) - base + 1)\n",
        "        i += 1\n",
        "        base *= 2\n",
        "      return cnt\n",
        "    \n",
        "    count = 0\n",
        "    for q in queries:\n",
        "      operations = (get(q[1]) - get(q[0] - 1) + 1) // 2\n",
        "      count += operations\n",
        "      \n",
        "    return count"
      ]
    },
    {
      "cell_type": "code",
      "execution_count": 2,
      "metadata": {},
      "outputs": [
        {
          "data": {
            "text/plain": [
              "3"
            ]
          },
          "execution_count": 2,
          "metadata": {},
          "output_type": "execute_result"
        }
      ],
      "source": [
        "queries = [[1, 2], [2, 4]]\n",
        "Solution().minOperations(queries=queries)"
      ]
    },
    {
      "cell_type": "code",
      "execution_count": 3,
      "metadata": {},
      "outputs": [
        {
          "data": {
            "text/plain": [
              "4"
            ]
          },
          "execution_count": 3,
          "metadata": {},
          "output_type": "execute_result"
        }
      ],
      "source": [
        "queries = [[2, 6]]\n",
        "Solution().minOperations(queries=queries)"
      ]
    }
  ],
  "metadata": {
    "kernelspec": {
      "display_name": "Python 3",
      "language": "python",
      "name": "python3"
    },
    "language_info": {
      "codemirror_mode": {
        "name": "ipython",
        "version": 3
      },
      "file_extension": ".py",
      "mimetype": "text/x-python",
      "name": "python",
      "nbconvert_exporter": "python",
      "pygments_lexer": "ipython3",
      "version": "3.12.1"
    }
  },
  "nbformat": 4,
  "nbformat_minor": 2
}
