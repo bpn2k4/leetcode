{
 "cells": [
  {
   "cell_type": "code",
   "execution_count": null,
   "metadata": {},
   "outputs": [],
   "source": [
    "class Solution:\n",
    "  def takeCharacters(self, s: str, k: int) -> int:\n",
    "\n",
    "    char2count = {'a': 0, 'b': 0, 'c': 0}\n",
    "    for char in s:\n",
    "      char2count[char] += 1\n",
    "\n",
    "    if char2count['a'] < k or char2count['b'] < k or char2count['c'] < k:\n",
    "      return -1\n",
    "    \n",
    "    left = right = 0\n",
    "    n = len(s)\n",
    "    for right in range(n):\n",
    "      char2count[s[right]] -= 1\n",
    "\n",
    "      if char2count['a'] < k or char2count['b'] < k or char2count['c'] < k:\n",
    "        char2count[s[left]] += 1\n",
    "        left += 1\n",
    "\n",
    "    return n - (right - left + 1)"
   ]
  },
  {
   "cell_type": "code",
   "execution_count": null,
   "metadata": {},
   "outputs": [
    {
     "data": {
      "text/plain": [
       "8"
      ]
     },
     "execution_count": 2,
     "metadata": {},
     "output_type": "execute_result"
    }
   ],
   "source": [
    "s = \"aabaaaacaabc\"\n",
    "k = 2\n",
    "Solution().takeCharacters(s=s, k=k)"
   ]
  },
  {
   "cell_type": "code",
   "execution_count": null,
   "metadata": {},
   "outputs": [
    {
     "data": {
      "text/plain": [
       "-1"
      ]
     },
     "execution_count": 3,
     "metadata": {},
     "output_type": "execute_result"
    }
   ],
   "source": [
    "s = \"a\"\n",
    "k = 1\n",
    "Solution().takeCharacters(s=s, k=k)"
   ]
  }
 ],
 "metadata": {
  "kernelspec": {
   "display_name": "base",
   "language": "python",
   "name": "python3"
  },
  "language_info": {
   "codemirror_mode": {
    "name": "ipython",
    "version": 3
   },
   "file_extension": ".py",
   "mimetype": "text/x-python",
   "name": "python",
   "nbconvert_exporter": "python",
   "pygments_lexer": "ipython3",
   "version": "3.11.7"
  }
 },
 "nbformat": 4,
 "nbformat_minor": 2
}
