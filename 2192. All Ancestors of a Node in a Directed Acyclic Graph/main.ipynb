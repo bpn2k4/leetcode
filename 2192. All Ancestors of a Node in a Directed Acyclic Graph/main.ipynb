{
 "cells": [
  {
   "cell_type": "code",
   "execution_count": 23,
   "metadata": {},
   "outputs": [],
   "source": [
    "from typing import List\n",
    "\n",
    "\n",
    "class Solution:\n",
    "  def getAncestors(self, n: int, edges: List[List[int]]) -> List[List[int]]:\n",
    "    graph = [[] for _ in range(n)]\n",
    "    for u, v in edges:\n",
    "      graph[v].append(u)\n",
    "      \n",
    "    def dfs(node, visited):\n",
    "      for ancestor in graph[node]:\n",
    "        if ancestor not in visited:\n",
    "          visited.add(ancestor)\n",
    "          dfs(ancestor, visited)\n",
    "          \n",
    "    result = []\n",
    "    for i in range(n):\n",
    "      visited = set()\n",
    "      dfs(i, visited)\n",
    "      result.append(sorted(list(visited)))\n",
    "    \n",
    "    return result"
   ]
  },
  {
   "cell_type": "code",
   "execution_count": 24,
   "metadata": {},
   "outputs": [
    {
     "data": {
      "text/plain": [
       "[[], [], [], [0, 1], [0, 2], [0, 1, 3], [0, 1, 2, 3, 4], [0, 1, 2, 3]]"
      ]
     },
     "execution_count": 24,
     "metadata": {},
     "output_type": "execute_result"
    }
   ],
   "source": [
    "Solution().getAncestors(\n",
    "  \tn=8, \n",
    "  \tedges=[[0, 3], [0, 4], [1, 3], [2, 4], [2, 7], [3, 5], [3, 6], [3, 7], [4, 6]]\n",
    ")"
   ]
  },
  {
   "cell_type": "code",
   "execution_count": 25,
   "metadata": {},
   "outputs": [
    {
     "data": {
      "text/plain": [
       "[[], [0], [0, 1], [0, 1, 2], [0, 1, 2, 3]]"
      ]
     },
     "execution_count": 25,
     "metadata": {},
     "output_type": "execute_result"
    }
   ],
   "source": [
    "Solution().getAncestors(\n",
    "  \tn=5, \n",
    "  \tedges=[[0, 1], [0, 2], [0, 3], [0, 4], [1, 2], [1, 3], [1, 4], [2, 3], [2, 4], [3, 4]]\n",
    ")"
   ]
  }
 ],
 "metadata": {
  "kernelspec": {
   "display_name": "base",
   "language": "python",
   "name": "python3"
  },
  "language_info": {
   "codemirror_mode": {
    "name": "ipython",
    "version": 3
   },
   "file_extension": ".py",
   "mimetype": "text/x-python",
   "name": "python",
   "nbconvert_exporter": "python",
   "pygments_lexer": "ipython3",
   "version": "3.11.7"
  }
 },
 "nbformat": 4,
 "nbformat_minor": 2
}
