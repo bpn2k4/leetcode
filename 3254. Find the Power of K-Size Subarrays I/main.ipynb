{
 "cells": [
  {
   "cell_type": "code",
   "execution_count": 1,
   "metadata": {},
   "outputs": [],
   "source": [
    "from typing import List\n",
    "\n",
    "\n",
    "class Solution:\n",
    "  def resultsArray(self, nums: List[int], k: int) -> List[int]:\n",
    "\n",
    "    if k == 1:\n",
    "      return nums\n",
    "    \n",
    "    results = []\n",
    "    n = len(nums)\n",
    "    is_consecutive = [0] * n\n",
    "    for i in range(1, n):\n",
    "      if nums[i] - nums[i - 1] == 1:\n",
    "        is_consecutive[i] = 1\n",
    "\n",
    "    sliding = 0\n",
    "    for i in range(1, k):\n",
    "      sliding += is_consecutive[i]\n",
    "\n",
    "    if sliding == k - 1:\n",
    "      results.append(nums[k - 1])\n",
    "    else:\n",
    "      results.append(-1)\n",
    "\n",
    "    for i in range(k, n):\n",
    "      sliding = sliding - is_consecutive[i - k + 1] + is_consecutive[i]\n",
    "      if sliding == k - 1:\n",
    "        results.append(nums[i])\n",
    "      else:\n",
    "        results.append(-1)\n",
    "\n",
    "    return results"
   ]
  },
  {
   "cell_type": "code",
   "execution_count": 2,
   "metadata": {},
   "outputs": [
    {
     "data": {
      "text/plain": [
       "[3, 4, -1, -1, -1]"
      ]
     },
     "execution_count": 2,
     "metadata": {},
     "output_type": "execute_result"
    }
   ],
   "source": [
    "nums = [1, 2, 3, 4, 3, 2, 5]\n",
    "k = 3\n",
    "Solution().resultsArray(nums=nums, k=k)"
   ]
  },
  {
   "cell_type": "code",
   "execution_count": 3,
   "metadata": {},
   "outputs": [
    {
     "data": {
      "text/plain": [
       "[-1, -1]"
      ]
     },
     "execution_count": 3,
     "metadata": {},
     "output_type": "execute_result"
    }
   ],
   "source": [
    "nums = [2, 2, 2, 2, 2]\n",
    "k = 4\n",
    "Solution().resultsArray(nums=nums, k=k)"
   ]
  },
  {
   "cell_type": "code",
   "execution_count": 4,
   "metadata": {},
   "outputs": [
    {
     "data": {
      "text/plain": [
       "[-1, 3, -1, 3, -1]"
      ]
     },
     "execution_count": 4,
     "metadata": {},
     "output_type": "execute_result"
    }
   ],
   "source": [
    "nums = [3, 2, 3, 2, 3, 2]\n",
    "k = 2\n",
    "Solution().resultsArray(nums=nums, k=k)"
   ]
  }
 ],
 "metadata": {
  "kernelspec": {
   "display_name": "base",
   "language": "python",
   "name": "python3"
  },
  "language_info": {
   "codemirror_mode": {
    "name": "ipython",
    "version": 3
   },
   "file_extension": ".py",
   "mimetype": "text/x-python",
   "name": "python",
   "nbconvert_exporter": "python",
   "pygments_lexer": "ipython3",
   "version": "3.11.7"
  }
 },
 "nbformat": 4,
 "nbformat_minor": 2
}
