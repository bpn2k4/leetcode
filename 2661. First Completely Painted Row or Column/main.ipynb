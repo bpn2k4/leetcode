{
  "cells": [
    {
      "cell_type": "code",
      "execution_count": 1,
      "metadata": {},
      "outputs": [],
      "source": [
        "from typing import List\n",
        "\n",
        "\n",
        "class Solution:\n",
        "  def firstCompleteIndex(self, arr: List[int], mat: List[List[int]]) -> int:\n",
        "    \n",
        "    m, n = len(mat), len(mat[0])\n",
        "    \n",
        "    num2position = {}\n",
        "    for r in range(m):\n",
        "      for c in range(n):\n",
        "        num2position[mat[r][c]] = (r, c)\n",
        "    \n",
        "    columns = [0] * n\n",
        "    rows = [0] * m\n",
        "    for index, num in enumerate(arr):\n",
        "      r, c = num2position[num]\n",
        "      rows[r] += 1\n",
        "      columns[c] += 1\n",
        "      if rows[r] == n:\n",
        "        return index\n",
        "      if columns[c] == m:\n",
        "        return index\n",
        "      \n",
        "    raise Exception()"
      ]
    },
    {
      "cell_type": "code",
      "execution_count": 2,
      "metadata": {},
      "outputs": [
        {
          "data": {
            "text/plain": [
              "2"
            ]
          },
          "execution_count": 2,
          "metadata": {},
          "output_type": "execute_result"
        }
      ],
      "source": [
        "arr = [1, 3, 4, 2]\n",
        "mat = [[1, 4], [2, 3]]\n",
        "Solution().firstCompleteIndex(arr=arr, mat=mat)"
      ]
    },
    {
      "cell_type": "code",
      "execution_count": 3,
      "metadata": {},
      "outputs": [
        {
          "data": {
            "text/plain": [
              "3"
            ]
          },
          "execution_count": 3,
          "metadata": {},
          "output_type": "execute_result"
        }
      ],
      "source": [
        "arr = [2, 8, 7, 4, 1, 3, 5, 6, 9]\n",
        "mat = [[3, 2, 5], [1, 4, 6], [8, 7, 9]]\n",
        "Solution().firstCompleteIndex(arr=arr, mat=mat)"
      ]
    }
  ],
  "metadata": {
    "kernelspec": {
      "display_name": "base",
      "language": "python",
      "name": "python3"
    },
    "language_info": {
      "codemirror_mode": {
        "name": "ipython",
        "version": 3
      },
      "file_extension": ".py",
      "mimetype": "text/x-python",
      "name": "python",
      "nbconvert_exporter": "python",
      "pygments_lexer": "ipython3",
      "version": "3.11.7"
    }
  },
  "nbformat": 4,
  "nbformat_minor": 2
}
