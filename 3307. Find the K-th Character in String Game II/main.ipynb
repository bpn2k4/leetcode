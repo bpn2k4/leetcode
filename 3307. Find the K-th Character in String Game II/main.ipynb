{
  "cells": [
    {
      "cell_type": "code",
      "execution_count": 1,
      "metadata": {},
      "outputs": [],
      "source": [
        "from typing import List\n",
        "\n",
        "\n",
        "class Solution:\n",
        "  def kthCharacter(self, k: int, operations: List[int]) -> str:\n",
        "\n",
        "    ans = 0\n",
        "    while k != 1:\n",
        "      t = k.bit_length() - 1\n",
        "      if (1 << t) == k:\n",
        "        t -= 1\n",
        "      k -= 1 << t\n",
        "      if operations[t]:\n",
        "        ans += 1\n",
        "        \n",
        "    return chr(ord(\"a\") + (ans % 26))"
      ]
    },
    {
      "cell_type": "code",
      "execution_count": 2,
      "metadata": {},
      "outputs": [
        {
          "data": {
            "text/plain": [
              "'a'"
            ]
          },
          "execution_count": 2,
          "metadata": {},
          "output_type": "execute_result"
        }
      ],
      "source": [
        "k = 5\n",
        "operations = [0, 0, 0]\n",
        "Solution().kthCharacter(k=k, operations=operations)"
      ]
    },
    {
      "cell_type": "code",
      "execution_count": 3,
      "metadata": {},
      "outputs": [
        {
          "data": {
            "text/plain": [
              "'b'"
            ]
          },
          "execution_count": 3,
          "metadata": {},
          "output_type": "execute_result"
        }
      ],
      "source": [
        "k = 10\n",
        "operations = [0, 1, 0, 1]\n",
        "Solution().kthCharacter(k=k, operations=operations)"
      ]
    }
  ],
  "metadata": {
    "kernelspec": {
      "display_name": "Python 3",
      "language": "python",
      "name": "python3"
    },
    "language_info": {
      "codemirror_mode": {
        "name": "ipython",
        "version": 3
      },
      "file_extension": ".py",
      "mimetype": "text/x-python",
      "name": "python",
      "nbconvert_exporter": "python",
      "pygments_lexer": "ipython3",
      "version": "3.12.8"
    }
  },
  "nbformat": 4,
  "nbformat_minor": 2
}
