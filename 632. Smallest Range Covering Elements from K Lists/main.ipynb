{
  "cells": [
    {
      "cell_type": "code",
      "execution_count": 1,
      "metadata": {},
      "outputs": [],
      "source": [
        "from typing import List\n",
        "import heapq\n",
        "\n",
        "\n",
        "class Solution:\n",
        "  def smallestRange(self, nums: List[List[int]]) -> List[int]:\n",
        "\n",
        "    min_heap = []\n",
        "    max_val = -1000000\n",
        "\n",
        "    for i in range(len(nums)):\n",
        "      heapq.heappush(min_heap, (nums[i][0], i, 0))\n",
        "      max_val = max(max_val, nums[i][0])\n",
        "\n",
        "    best_range = [-1000000, 1000000]\n",
        "\n",
        "    while min_heap:\n",
        "      min_val, list_idx, ele_idx = heapq.heappop(min_heap)\n",
        "\n",
        "      if max_val - min_val < best_range[1] - best_range[0]:\n",
        "        best_range = [min_val, max_val]\n",
        "\n",
        "      if ele_idx + 1 == len(nums[list_idx]):\n",
        "        break\n",
        "\n",
        "      next_val = nums[list_idx][ele_idx + 1]\n",
        "      heapq.heappush(min_heap, (next_val, list_idx, ele_idx + 1))\n",
        "      max_val = max(max_val, next_val)\n",
        "\n",
        "    return best_range"
      ]
    },
    {
      "cell_type": "code",
      "execution_count": 2,
      "metadata": {},
      "outputs": [
        {
          "data": {
            "text/plain": [
              "[20, 24]"
            ]
          },
          "execution_count": 2,
          "metadata": {},
          "output_type": "execute_result"
        }
      ],
      "source": [
        "nums = [[4, 10, 15, 24, 26], [0, 9, 12, 20], [5, 18, 22, 30]]\n",
        "Solution().smallestRange(nums=nums)"
      ]
    },
    {
      "cell_type": "code",
      "execution_count": 3,
      "metadata": {},
      "outputs": [
        {
          "data": {
            "text/plain": [
              "[1, 1]"
            ]
          },
          "execution_count": 3,
          "metadata": {},
          "output_type": "execute_result"
        }
      ],
      "source": [
        "nums = [[1, 2, 3], [1, 2, 3], [1, 2, 3]]\n",
        "Solution().smallestRange(nums=nums)"
      ]
    }
  ],
  "metadata": {
    "kernelspec": {
      "display_name": "base",
      "language": "python",
      "name": "python3"
    },
    "language_info": {
      "codemirror_mode": {
        "name": "ipython",
        "version": 3
      },
      "file_extension": ".py",
      "mimetype": "text/x-python",
      "name": "python",
      "nbconvert_exporter": "python",
      "pygments_lexer": "ipython3",
      "version": "3.11.7"
    }
  },
  "nbformat": 4,
  "nbformat_minor": 2
}
