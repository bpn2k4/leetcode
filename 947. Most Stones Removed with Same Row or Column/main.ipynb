{
 "cells": [
  {
   "cell_type": "code",
   "execution_count": 1,
   "metadata": {},
   "outputs": [],
   "source": [
    "from typing import List\n",
    "\n",
    "\n",
    "class Solution:\n",
    "  def removeStones(self, stones: List[List[int]]) -> int:\n",
    "\n",
    "    graph = {(x, y): [] for x, y in stones}\n",
    "    for x, y in graph:\n",
    "      for x1, y1 in stones:\n",
    "        if x1 == x and y1 == y:\n",
    "          continue\n",
    "        if x1 == x or y1 == y:\n",
    "          graph[(x, y)].append((x1, y1))\n",
    "\n",
    "    number = [0]\n",
    "    visited = {}\n",
    "\n",
    "    def dfs(x, y):\n",
    "      \n",
    "      visited[(x, y)] = 1\n",
    "      number[0] += 1\n",
    "      for nx, ny in graph[(x, y)]:\n",
    "        if (nx, ny) not in visited:\n",
    "          dfs(nx, ny)\n",
    "\n",
    "    count = 0\n",
    "\n",
    "    for x, y in stones:\n",
    "      if (x, y) not in visited:\n",
    "        number = [0]\n",
    "        dfs(x, y)\n",
    "        count += number[0] - 1\n",
    "\n",
    "    return count\n"
   ]
  },
  {
   "cell_type": "code",
   "execution_count": 2,
   "metadata": {},
   "outputs": [
    {
     "data": {
      "text/plain": [
       "5"
      ]
     },
     "execution_count": 2,
     "metadata": {},
     "output_type": "execute_result"
    }
   ],
   "source": [
    "Solution().removeStones(stones=[[0, 0], [0, 1], [1, 0], [1, 2], [2, 1], [2, 2]])"
   ]
  },
  {
   "cell_type": "code",
   "execution_count": 3,
   "metadata": {},
   "outputs": [
    {
     "data": {
      "text/plain": [
       "3"
      ]
     },
     "execution_count": 3,
     "metadata": {},
     "output_type": "execute_result"
    }
   ],
   "source": [
    "Solution().removeStones(stones=[[0, 0], [0, 2], [1, 1], [2, 0], [2, 2]])"
   ]
  },
  {
   "cell_type": "code",
   "execution_count": 4,
   "metadata": {},
   "outputs": [
    {
     "data": {
      "text/plain": [
       "0"
      ]
     },
     "execution_count": 4,
     "metadata": {},
     "output_type": "execute_result"
    }
   ],
   "source": [
    "Solution().removeStones(stones=[[0,0]])"
   ]
  }
 ],
 "metadata": {
  "kernelspec": {
   "display_name": "base",
   "language": "python",
   "name": "python3"
  },
  "language_info": {
   "codemirror_mode": {
    "name": "ipython",
    "version": 3
   },
   "file_extension": ".py",
   "mimetype": "text/x-python",
   "name": "python",
   "nbconvert_exporter": "python",
   "pygments_lexer": "ipython3",
   "version": "3.11.7"
  }
 },
 "nbformat": 4,
 "nbformat_minor": 2
}
