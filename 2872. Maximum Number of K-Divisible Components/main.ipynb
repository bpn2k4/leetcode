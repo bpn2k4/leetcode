{
  "cells": [
    {
      "cell_type": "code",
      "execution_count": 1,
      "metadata": {},
      "outputs": [],
      "source": [
        "from typing import List\n",
        "\n",
        "\n",
        "class Solution:\n",
        "  def maxKDivisibleComponents(self, n: int, edges: List[List[int]], values: List[int], k: int) -> int:\n",
        "\n",
        "    number_of_components = [1]\n",
        "    graph = {i: [] for i in range(n)}\n",
        "    for u, v in edges:\n",
        "      graph[u].append(v)\n",
        "      graph[v].append(u)\n",
        "\n",
        "    def dfs(node, parent):\n",
        "      subtree_sum = values[node]\n",
        "\n",
        "      for neighbor in graph[node]:\n",
        "        if neighbor != parent:\n",
        "          child_sum = dfs(neighbor, node)\n",
        "          if child_sum % k == 0:\n",
        "            number_of_components[0] += 1\n",
        "          else:\n",
        "            subtree_sum += child_sum\n",
        "\n",
        "      return subtree_sum\n",
        "\n",
        "    dfs(0, -1)\n",
        "\n",
        "    return number_of_components[0]"
      ]
    },
    {
      "cell_type": "code",
      "execution_count": 2,
      "metadata": {},
      "outputs": [
        {
          "data": {
            "text/plain": [
              "2"
            ]
          },
          "execution_count": 2,
          "metadata": {},
          "output_type": "execute_result"
        }
      ],
      "source": [
        "n = 5\n",
        "edges = [[0, 2], [1, 2], [1, 3], [2, 4]]\n",
        "values = [1, 8, 1, 4, 4]\n",
        "k = 6\n",
        "Solution().maxKDivisibleComponents(n=n, edges=edges, values=values, k=k)"
      ]
    },
    {
      "cell_type": "code",
      "execution_count": 3,
      "metadata": {},
      "outputs": [
        {
          "data": {
            "text/plain": [
              "3"
            ]
          },
          "execution_count": 3,
          "metadata": {},
          "output_type": "execute_result"
        }
      ],
      "source": [
        "n = 7\n",
        "edges = [[0, 1], [0, 2], [1, 3], [1, 4], [2, 5], [2, 6]]\n",
        "values = [3, 0, 6, 1, 5, 2, 1]\n",
        "k = 3\n",
        "Solution().maxKDivisibleComponents(n=n, edges=edges, values=values, k=k)"
      ]
    }
  ],
  "metadata": {
    "kernelspec": {
      "display_name": "base",
      "language": "python",
      "name": "python3"
    },
    "language_info": {
      "codemirror_mode": {
        "name": "ipython",
        "version": 3
      },
      "file_extension": ".py",
      "mimetype": "text/x-python",
      "name": "python",
      "nbconvert_exporter": "python",
      "pygments_lexer": "ipython3",
      "version": "3.11.7"
    }
  },
  "nbformat": 4,
  "nbformat_minor": 2
}
