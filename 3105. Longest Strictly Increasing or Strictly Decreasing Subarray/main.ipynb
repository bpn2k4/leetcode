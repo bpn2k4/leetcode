{
  "cells": [
    {
      "cell_type": "code",
      "execution_count": 1,
      "metadata": {},
      "outputs": [],
      "source": [
        "from typing import List\n",
        "\n",
        "\n",
        "class Solution:\n",
        "  def longestMonotonicSubarray(self, nums: List[int]) -> int:\n",
        "    \n",
        "    n = len(nums)\n",
        "    longest_subarray = 1\n",
        "    increasing = 1\n",
        "    decreasing = 1\n",
        "    for i in range(1, n):\n",
        "      if nums[i] > nums[i - 1]:\n",
        "        increasing += 1\n",
        "      else:\n",
        "        increasing = 1\n",
        "      if nums[i] < nums[i - 1]:\n",
        "        decreasing += 1\n",
        "      else:\n",
        "        decreasing = 1\n",
        "      longest_subarray = max(longest_subarray, increasing, decreasing)\n",
        "\n",
        "    return longest_subarray"
      ]
    },
    {
      "cell_type": "code",
      "execution_count": 2,
      "metadata": {},
      "outputs": [
        {
          "data": {
            "text/plain": [
              "2"
            ]
          },
          "execution_count": 2,
          "metadata": {},
          "output_type": "execute_result"
        }
      ],
      "source": [
        "nums = [1, 4, 3, 3, 2]\n",
        "Solution().longestMonotonicSubarray(nums=nums)"
      ]
    },
    {
      "cell_type": "code",
      "execution_count": 3,
      "metadata": {},
      "outputs": [
        {
          "data": {
            "text/plain": [
              "1"
            ]
          },
          "execution_count": 3,
          "metadata": {},
          "output_type": "execute_result"
        }
      ],
      "source": [
        "nums = [3, 3, 3, 3]\n",
        "Solution().longestMonotonicSubarray(nums=nums)"
      ]
    },
    {
      "cell_type": "code",
      "execution_count": 4,
      "metadata": {},
      "outputs": [
        {
          "data": {
            "text/plain": [
              "3"
            ]
          },
          "execution_count": 4,
          "metadata": {},
          "output_type": "execute_result"
        }
      ],
      "source": [
        "nums = [3, 2, 1]\n",
        "Solution().longestMonotonicSubarray(nums=nums)"
      ]
    }
  ],
  "metadata": {
    "kernelspec": {
      "display_name": "Python 3",
      "language": "python",
      "name": "python3"
    },
    "language_info": {
      "codemirror_mode": {
        "name": "ipython",
        "version": 3
      },
      "file_extension": ".py",
      "mimetype": "text/x-python",
      "name": "python",
      "nbconvert_exporter": "python",
      "pygments_lexer": "ipython3",
      "version": "3.12.8"
    }
  },
  "nbformat": 4,
  "nbformat_minor": 2
}
