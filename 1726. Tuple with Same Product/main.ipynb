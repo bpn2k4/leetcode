{
  "cells": [
    {
      "cell_type": "code",
      "execution_count": 1,
      "metadata": {},
      "outputs": [],
      "source": [
        "from typing import List\n",
        "\n",
        "\n",
        "class Solution:\n",
        "  def tupleSameProduct(self, nums: List[int]) -> int:\n",
        "    \n",
        "    n = len(nums)\n",
        "    mark = {}\n",
        "    for i in range(n):\n",
        "      for j in range(i + 1, n):\n",
        "        product = nums[i] * nums[j]\n",
        "        mark[product] = mark.get(product, 0) + 1\n",
        "\n",
        "    total = 0\n",
        "    for count in mark.values():\n",
        "      if count == 1:\n",
        "        continue\n",
        "\n",
        "      total +=  count * (count - 1) * 4\n",
        "    \n",
        "    return total\n"
      ]
    },
    {
      "cell_type": "code",
      "execution_count": 2,
      "metadata": {},
      "outputs": [
        {
          "data": {
            "text/plain": [
              "8"
            ]
          },
          "execution_count": 2,
          "metadata": {},
          "output_type": "execute_result"
        }
      ],
      "source": [
        "nums = [2, 3, 4, 6]\n",
        "Solution().tupleSameProduct(nums=nums)"
      ]
    },
    {
      "cell_type": "code",
      "execution_count": 3,
      "metadata": {},
      "outputs": [
        {
          "data": {
            "text/plain": [
              "16"
            ]
          },
          "execution_count": 3,
          "metadata": {},
          "output_type": "execute_result"
        }
      ],
      "source": [
        "nums = [1, 2, 4, 5, 10]\n",
        "Solution().tupleSameProduct(nums=nums)"
      ]
    }
  ],
  "metadata": {
    "kernelspec": {
      "display_name": "Python 3",
      "language": "python",
      "name": "python3"
    },
    "language_info": {
      "codemirror_mode": {
        "name": "ipython",
        "version": 3
      },
      "file_extension": ".py",
      "mimetype": "text/x-python",
      "name": "python",
      "nbconvert_exporter": "python",
      "pygments_lexer": "ipython3",
      "version": "3.12.1"
    }
  },
  "nbformat": 4,
  "nbformat_minor": 2
}
