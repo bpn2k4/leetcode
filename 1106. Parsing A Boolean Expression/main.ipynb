{
  "cells": [
    {
      "cell_type": "code",
      "execution_count": 1,
      "metadata": {},
      "outputs": [],
      "source": [
        "class Solution:\n",
        "  def parseBoolExpr(self, expression: str) -> bool:\n",
        "    \n",
        "    def eval_sub(expr):\n",
        "      if expr == 't':\n",
        "        return True\n",
        "      elif expr == 'f':\n",
        "        return False\n",
        "      elif expr[0] == '!': \n",
        "        return not eval_sub(expr[2:-1])\n",
        "      elif expr[0] == '&':\n",
        "        sub_expressions = split_expr(expr[2:-1])\n",
        "        return all(eval_sub(sub) for sub in sub_expressions)\n",
        "      elif expr[0] == '|':\n",
        "        sub_expressions = split_expr(expr[2:-1])\n",
        "        return any(eval_sub(sub) for sub in sub_expressions)\n",
        "\n",
        "    def split_expr(expr):\n",
        "      sub_exprs = []\n",
        "      balance = 0\n",
        "      current = []\n",
        "      for char in expr:\n",
        "        if char == ',' and balance == 0:\n",
        "          sub_exprs.append(''.join(current))\n",
        "          current = []\n",
        "        else:\n",
        "          current.append(char)\n",
        "          if char == '(':\n",
        "            balance += 1\n",
        "          elif char == ')':\n",
        "            balance -= 1\n",
        "      sub_exprs.append(''.join(current))\n",
        "      return sub_exprs\n",
        "\n",
        "    return eval_sub(expression)"
      ]
    },
    {
      "cell_type": "code",
      "execution_count": 2,
      "metadata": {},
      "outputs": [
        {
          "data": {
            "text/plain": [
              "False"
            ]
          },
          "execution_count": 2,
          "metadata": {},
          "output_type": "execute_result"
        }
      ],
      "source": [
        "expression = \"&(|(f))\"\n",
        "Solution().parseBoolExpr(expression=expression)"
      ]
    },
    {
      "cell_type": "code",
      "execution_count": 3,
      "metadata": {},
      "outputs": [
        {
          "data": {
            "text/plain": [
              "False"
            ]
          },
          "execution_count": 3,
          "metadata": {},
          "output_type": "execute_result"
        }
      ],
      "source": [
        "expression = \"|(f, f, f, t)\"\n",
        "Solution().parseBoolExpr(expression=expression)"
      ]
    },
    {
      "cell_type": "code",
      "execution_count": 4,
      "metadata": {},
      "outputs": [
        {
          "data": {
            "text/plain": [
              "True"
            ]
          },
          "execution_count": 4,
          "metadata": {},
          "output_type": "execute_result"
        }
      ],
      "source": [
        "expression = \"!(&(f, t))\"\n",
        "Solution().parseBoolExpr(expression=expression)"
      ]
    }
  ],
  "metadata": {
    "kernelspec": {
      "display_name": "base",
      "language": "python",
      "name": "python3"
    },
    "language_info": {
      "codemirror_mode": {
        "name": "ipython",
        "version": 3
      },
      "file_extension": ".py",
      "mimetype": "text/x-python",
      "name": "python",
      "nbconvert_exporter": "python",
      "pygments_lexer": "ipython3",
      "version": "3.11.7"
    }
  },
  "nbformat": 4,
  "nbformat_minor": 2
}
