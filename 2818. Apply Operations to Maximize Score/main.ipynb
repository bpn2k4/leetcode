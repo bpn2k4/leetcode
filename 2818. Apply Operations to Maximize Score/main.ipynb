{
  "cells": [
    {
      "cell_type": "code",
      "execution_count": 1,
      "metadata": {},
      "outputs": [],
      "source": [
        "from typing import List\n",
        "from collections import deque\n",
        "\n",
        "\n",
        "class Solution:\n",
        "  def maximumScore(self, nums: List[int], k: int) -> int:\n",
        "\n",
        "    def get_primes(limit: int) -> List[int]:\n",
        "      is_prime = [True] * (limit + 1)\n",
        "      primes = []\n",
        "\n",
        "      for num in range(2, limit + 1):\n",
        "        if is_prime[num]:\n",
        "          primes.append(num)\n",
        "          for multiple in range(num * num, limit + 1, num):\n",
        "            is_prime[multiple] = False\n",
        "\n",
        "      return primes\n",
        "\n",
        "    def compute_prime_scores(nums: List[int], max_element: int) -> List[int]:\n",
        "      primes = get_primes(max_element)\n",
        "      prime_scores = [0] * len(nums)\n",
        "\n",
        "      for i, num in enumerate(nums):\n",
        "        for prime in primes:\n",
        "          if prime * prime > num:\n",
        "            break\n",
        "          if num % prime == 0:\n",
        "            prime_scores[i] += 1\n",
        "            while num % prime == 0:\n",
        "              num //= prime\n",
        "        if num > 1:\n",
        "          prime_scores[i] += 1\n",
        "\n",
        "      return prime_scores\n",
        "\n",
        "    def find_dominant_indices(prime_scores: List[int], n: int):\n",
        "      next_dominant = [n] * n\n",
        "      prev_dominant = [-1] * n\n",
        "      stack = deque()\n",
        "\n",
        "      for i in range(n):\n",
        "        while stack and prime_scores[stack[-1]] < prime_scores[i]:\n",
        "          next_dominant[stack.pop()] = i\n",
        "        if stack:\n",
        "          prev_dominant[i] = stack[-1]\n",
        "        stack.append(i)\n",
        "\n",
        "      return next_dominant, prev_dominant\n",
        "\n",
        "    MOD = 10**9 + 7\n",
        "\n",
        "    n = len(nums)\n",
        "    max_element = max(nums)\n",
        "    prime_scores = compute_prime_scores(nums, max_element)\n",
        "    next_dominant, prev_dominant = find_dominant_indices(prime_scores, n)\n",
        "    num_of_subarrays = [(next_dominant[i] - i) * (i - prev_dominant[i]) for i in range(n)]\n",
        "    sorted_array = sorted(enumerate(nums), key=lambda x: -x[1])\n",
        "\n",
        "    score = 1\n",
        "    processing_index = 0\n",
        "    while k > 0:\n",
        "      index, num = sorted_array[processing_index]\n",
        "      processing_index += 1\n",
        "\n",
        "      operations = min(k, num_of_subarrays[index])\n",
        "      score = (score * pow(num, operations, MOD)) % MOD\n",
        "      k -= operations\n",
        "\n",
        "    return score"
      ]
    },
    {
      "cell_type": "code",
      "execution_count": 2,
      "metadata": {},
      "outputs": [
        {
          "data": {
            "text/plain": [
              "81"
            ]
          },
          "execution_count": 2,
          "metadata": {},
          "output_type": "execute_result"
        }
      ],
      "source": [
        "nums = [8, 3, 9, 3, 8]\n",
        "k = 2\n",
        "Solution().maximumScore(nums=nums, k=k)"
      ]
    },
    {
      "cell_type": "code",
      "execution_count": 3,
      "metadata": {},
      "outputs": [
        {
          "data": {
            "text/plain": [
              "4788"
            ]
          },
          "execution_count": 3,
          "metadata": {},
          "output_type": "execute_result"
        }
      ],
      "source": [
        "nums = [19, 12, 14, 6, 10, 18]\n",
        "k = 3\n",
        "Solution().maximumScore(nums=nums, k=k)"
      ]
    }
  ],
  "metadata": {
    "kernelspec": {
      "display_name": "Python 3",
      "language": "python",
      "name": "python3"
    },
    "language_info": {
      "codemirror_mode": {
        "name": "ipython",
        "version": 3
      },
      "file_extension": ".py",
      "mimetype": "text/x-python",
      "name": "python",
      "nbconvert_exporter": "python",
      "pygments_lexer": "ipython3",
      "version": "3.12.1"
    }
  },
  "nbformat": 4,
  "nbformat_minor": 2
}
