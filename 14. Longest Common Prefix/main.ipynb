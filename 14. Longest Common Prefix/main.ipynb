{
  "cells": [
    {
      "cell_type": "code",
      "execution_count": 1,
      "metadata": {},
      "outputs": [],
      "source": [
        "from typing import List\n",
        "\n",
        "\n",
        "class Solution:\n",
        "  def longestCommonPrefix(self, strs: List[str]) -> str:\n",
        "\n",
        "    n = len(strs)\n",
        "\n",
        "    def is_valid(i: int) -> bool:\n",
        "      for j in range(1, n):\n",
        "        if i >= len(strs[j]) or strs[j][i] != strs[0][i]:\n",
        "          return False\n",
        "        \n",
        "      return True\n",
        "    \n",
        "    for i in range(len(strs[0])):\n",
        "      if not is_valid(i):\n",
        "        return strs[0][:i]\n",
        "\n",
        "    return strs[0]"
      ]
    },
    {
      "cell_type": "code",
      "execution_count": 2,
      "metadata": {},
      "outputs": [
        {
          "data": {
            "text/plain": [
              "'fl'"
            ]
          },
          "execution_count": 2,
          "metadata": {},
          "output_type": "execute_result"
        }
      ],
      "source": [
        "strs = [\"flower\", \"flow\", \"flight\"]\n",
        "Solution().longestCommonPrefix(strs=strs)"
      ]
    },
    {
      "cell_type": "code",
      "execution_count": 3,
      "metadata": {},
      "outputs": [
        {
          "data": {
            "text/plain": [
              "''"
            ]
          },
          "execution_count": 3,
          "metadata": {},
          "output_type": "execute_result"
        }
      ],
      "source": [
        "strs = [\"dog\", \"racecar\", \"car\"]\n",
        "Solution().longestCommonPrefix(strs=strs)"
      ]
    }
  ],
  "metadata": {
    "kernelspec": {
      "display_name": "base",
      "language": "python",
      "name": "python3"
    },
    "language_info": {
      "codemirror_mode": {
        "name": "ipython",
        "version": 3
      },
      "file_extension": ".py",
      "mimetype": "text/x-python",
      "name": "python",
      "nbconvert_exporter": "python",
      "pygments_lexer": "ipython3",
      "version": "3.11.7"
    }
  },
  "nbformat": 4,
  "nbformat_minor": 2
}
