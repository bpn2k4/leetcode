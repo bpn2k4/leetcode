{
 "cells": [
  {
   "cell_type": "code",
   "execution_count": 1,
   "metadata": {},
   "outputs": [],
   "source": [
    "class Solution:\n",
    "  def fractionAddition(self, expression: str) -> str:\n",
    "\n",
    "    def gcd(a: int, b: int) -> int:\n",
    "      while b:\n",
    "        a, b = b, a % b\n",
    "      return a\n",
    "\n",
    "    POSITIVE_SIGNAL = 1\n",
    "    NEGATIVE_SIGNAL = -1\n",
    "    signal = POSITIVE_SIGNAL\n",
    "    current_string = ''\n",
    "    elements = []\n",
    "    for char in expression:\n",
    "      if char == '-':\n",
    "        if current_string != '':\n",
    "          numerator, denominator = current_string.split('/')\n",
    "          elements.append((signal, int(numerator), int(denominator)))\n",
    "          current_string = ''\n",
    "        signal = NEGATIVE_SIGNAL\n",
    "        continue\n",
    "      elif char == '+':\n",
    "        if current_string != '':\n",
    "          numerator, denominator = current_string.split('/')\n",
    "          elements.append((signal, int(numerator), int(denominator)))\n",
    "          current_string = ''\n",
    "          current_string = ''\n",
    "        signal = POSITIVE_SIGNAL\n",
    "        continue\n",
    "      else:\n",
    "        current_string += char\n",
    "    numerator, denominator = current_string.split('/')\n",
    "    elements.append((signal, int(numerator), int(denominator)))\n",
    "    result = elements[0]\n",
    "    for signal, numerator, denominator in elements[1:]:\n",
    "      result_signal, result_numerator, result_denominator = result\n",
    "      common_denominator = result_denominator * denominator // gcd(result_denominator, denominator)\n",
    "      result_numerator = result_signal * result_numerator * (common_denominator // result_denominator) + signal * numerator * (common_denominator // denominator)\n",
    "      if result_numerator == 0:\n",
    "        result = (POSITIVE_SIGNAL, 0, 1)\n",
    "      else:\n",
    "        if result_numerator > 0:\n",
    "          result_signal = POSITIVE_SIGNAL\n",
    "          result = (result_signal, result_numerator, common_denominator)\n",
    "        else:\n",
    "          result_signal = NEGATIVE_SIGNAL\n",
    "          result = (result_signal, -result_numerator, common_denominator)\n",
    "\n",
    "    result_signal, result_numerator, result_denominator = result\n",
    "    common = gcd(result_numerator, result_denominator)\n",
    "    result_numerator = result_numerator // common\n",
    "    result_denominator = result_denominator // common\n",
    "    if result_signal > 0:\n",
    "      return f\"{result_numerator}/{result_denominator}\"\n",
    "    return f\"-{result_numerator}/{result_denominator}\""
   ]
  },
  {
   "cell_type": "code",
   "execution_count": 2,
   "metadata": {},
   "outputs": [
    {
     "data": {
      "text/plain": [
       "'0/1'"
      ]
     },
     "execution_count": 2,
     "metadata": {},
     "output_type": "execute_result"
    }
   ],
   "source": [
    "Solution().fractionAddition(expression=\"-1/2+1/2\")"
   ]
  },
  {
   "cell_type": "code",
   "execution_count": 3,
   "metadata": {},
   "outputs": [
    {
     "data": {
      "text/plain": [
       "'1/3'"
      ]
     },
     "execution_count": 3,
     "metadata": {},
     "output_type": "execute_result"
    }
   ],
   "source": [
    "Solution().fractionAddition(expression=\"-1/2+1/2+1/3\")"
   ]
  },
  {
   "cell_type": "code",
   "execution_count": 4,
   "metadata": {},
   "outputs": [
    {
     "data": {
      "text/plain": [
       "'-1/6'"
      ]
     },
     "execution_count": 4,
     "metadata": {},
     "output_type": "execute_result"
    }
   ],
   "source": [
    "Solution().fractionAddition(expression=\"1/3-1/2\")"
   ]
  },
  {
   "cell_type": "code",
   "execution_count": 5,
   "metadata": {},
   "outputs": [
    {
     "data": {
      "text/plain": [
       "'-55/84'"
      ]
     },
     "execution_count": 5,
     "metadata": {},
     "output_type": "execute_result"
    }
   ],
   "source": [
    "Solution().fractionAddition(expression=\"-4/7-3/4+2/3\")"
   ]
  }
 ],
 "metadata": {
  "kernelspec": {
   "display_name": "base",
   "language": "python",
   "name": "python3"
  },
  "language_info": {
   "codemirror_mode": {
    "name": "ipython",
    "version": 3
   },
   "file_extension": ".py",
   "mimetype": "text/x-python",
   "name": "python",
   "nbconvert_exporter": "python",
   "pygments_lexer": "ipython3",
   "version": "3.11.7"
  }
 },
 "nbformat": 4,
 "nbformat_minor": 2
}
