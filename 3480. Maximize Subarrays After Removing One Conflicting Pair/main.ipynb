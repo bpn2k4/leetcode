{
  "cells": [
    {
      "cell_type": "code",
      "execution_count": 1,
      "metadata": {},
      "outputs": [],
      "source": [
        "from typing import List\n",
        "\n",
        "\n",
        "class Solution:\n",
        "  def maxSubarrays(self, n: int, conflictingPairs: List[List[int]]) -> int:\n",
        "\n",
        "    bMin1 = [2**31 - 1] * (n + 1)\n",
        "    bMin2 = [2**31 - 1] * (n + 1)\n",
        "    for pair in conflictingPairs:\n",
        "      a = min(pair[0], pair[1])\n",
        "      b = max(pair[0], pair[1])\n",
        "      if bMin1[a] > b:\n",
        "        bMin2[a] = bMin1[a]\n",
        "        bMin1[a] = b\n",
        "      elif bMin2[a] > b:\n",
        "        bMin2[a] = b\n",
        "    res = 0\n",
        "    ib1 = n\n",
        "    b2 = 0x3FFFFFFF\n",
        "    delCount = [0] * (n + 1)\n",
        "    for i in range(n, 0, -1):\n",
        "      if bMin1[ib1] > bMin1[i]:\n",
        "        b2 = min(b2, bMin1[ib1])\n",
        "        ib1 = i\n",
        "      else:\n",
        "        b2 = min(b2, bMin1[i])\n",
        "      res += min(bMin1[ib1], n + 1) - i\n",
        "      delCount[ib1] += min(min(b2, bMin2[ib1]), n + 1) - min(bMin1[ib1], n + 1)\n",
        "\n",
        "    return res + max(delCount)"
      ]
    },
    {
      "cell_type": "code",
      "execution_count": 2,
      "metadata": {},
      "outputs": [
        {
          "data": {
            "text/plain": [
              "9"
            ]
          },
          "execution_count": 2,
          "metadata": {},
          "output_type": "execute_result"
        }
      ],
      "source": [
        "n = 4\n",
        "conflictingPairs = [[2, 3], [1, 4]]\n",
        "Solution().maxSubarrays(n=n, conflictingPairs=conflictingPairs)"
      ]
    },
    {
      "cell_type": "code",
      "execution_count": 3,
      "metadata": {},
      "outputs": [
        {
          "data": {
            "text/plain": [
              "12"
            ]
          },
          "execution_count": 3,
          "metadata": {},
          "output_type": "execute_result"
        }
      ],
      "source": [
        "n = 5\n",
        "conflictingPairs = [[1, 2], [2, 5], [3, 5]]\n",
        "Solution().maxSubarrays(n=n, conflictingPairs=conflictingPairs)"
      ]
    }
  ],
  "metadata": {
    "kernelspec": {
      "display_name": "Python 3",
      "language": "python",
      "name": "python3"
    },
    "language_info": {
      "codemirror_mode": {
        "name": "ipython",
        "version": 3
      },
      "file_extension": ".py",
      "mimetype": "text/x-python",
      "name": "python",
      "nbconvert_exporter": "python",
      "pygments_lexer": "ipython3",
      "version": "3.12.8"
    }
  },
  "nbformat": 4,
  "nbformat_minor": 2
}
