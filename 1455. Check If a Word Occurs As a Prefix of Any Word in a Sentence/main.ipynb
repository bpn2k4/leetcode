{
 "cells": [
  {
   "cell_type": "code",
   "execution_count": 1,
   "metadata": {},
   "outputs": [],
   "source": [
    "class Solution:\n",
    "  def isPrefixOfWord(self, sentence: str, searchWord: str) -> int:\n",
    "    \n",
    "    n = len(sentence)\n",
    "    word_index = 1\n",
    "    i = 0\n",
    "    while i < n:\n",
    "      if sentence[i] == \" \":\n",
    "        word_index += 1\n",
    "\n",
    "      if sentence[i] == searchWord[0]:\n",
    "        if i == 0 or sentence[i - 1] == \" \":\n",
    "          j = 1\n",
    "          while j < len(searchWord) and i + j < n and sentence[i + j] == searchWord[j]:\n",
    "            if sentence[i + j] == \" \":\n",
    "              word_index += 1\n",
    "              break\n",
    "            j += 1\n",
    "\n",
    "          if j == len(searchWord):\n",
    "            return word_index\n",
    "          \n",
    "          else:\n",
    "            i += j - 1\n",
    "\n",
    "      i += 1\n",
    "\n",
    "    return -1"
   ]
  },
  {
   "cell_type": "code",
   "execution_count": 2,
   "metadata": {},
   "outputs": [
    {
     "data": {
      "text/plain": [
       "4"
      ]
     },
     "execution_count": 2,
     "metadata": {},
     "output_type": "execute_result"
    }
   ],
   "source": [
    "sentence = \"i love eating burger\"\n",
    "searchWord = \"burg\"\n",
    "Solution().isPrefixOfWord(sentence=sentence, searchWord=searchWord)"
   ]
  },
  {
   "cell_type": "code",
   "execution_count": 3,
   "metadata": {},
   "outputs": [
    {
     "data": {
      "text/plain": [
       "2"
      ]
     },
     "execution_count": 3,
     "metadata": {},
     "output_type": "execute_result"
    }
   ],
   "source": [
    "sentence = \"this problem is an easy problem\"\n",
    "searchWord = \"pro\"\n",
    "Solution().isPrefixOfWord(sentence=sentence, searchWord=searchWord)"
   ]
  },
  {
   "cell_type": "code",
   "execution_count": 4,
   "metadata": {},
   "outputs": [
    {
     "data": {
      "text/plain": [
       "-1"
      ]
     },
     "execution_count": 4,
     "metadata": {},
     "output_type": "execute_result"
    }
   ],
   "source": [
    "sentence = \"i am tired\"\n",
    "searchWord = \"you\"\n",
    "Solution().isPrefixOfWord(sentence=sentence, searchWord=searchWord)"
   ]
  },
  {
   "cell_type": "code",
   "execution_count": 5,
   "metadata": {},
   "outputs": [
    {
     "data": {
      "text/plain": [
       "4"
      ]
     },
     "execution_count": 5,
     "metadata": {},
     "output_type": "execute_result"
    }
   ],
   "source": [
    "sentence = \"b bu bur burg burger\"\n",
    "searchWord = \"burg\"\n",
    "Solution().isPrefixOfWord(sentence=sentence, searchWord=searchWord)"
   ]
  }
 ],
 "metadata": {
  "kernelspec": {
   "display_name": "base",
   "language": "python",
   "name": "python3"
  },
  "language_info": {
   "codemirror_mode": {
    "name": "ipython",
    "version": 3
   },
   "file_extension": ".py",
   "mimetype": "text/x-python",
   "name": "python",
   "nbconvert_exporter": "python",
   "pygments_lexer": "ipython3",
   "version": "3.11.7"
  }
 },
 "nbformat": 4,
 "nbformat_minor": 2
}
