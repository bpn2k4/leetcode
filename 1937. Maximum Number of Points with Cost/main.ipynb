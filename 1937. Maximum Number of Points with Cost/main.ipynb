{
 "cells": [
  {
   "cell_type": "code",
   "execution_count": 1,
   "metadata": {},
   "outputs": [],
   "source": [
    "from typing import List\n",
    "\n",
    "\n",
    "class Solution:\n",
    "\n",
    "  def maxPoints(self, points: List[List[int]]) -> int:\n",
    "\n",
    "    m, n = len(points), len(points[0])\n",
    "    dp = points[0]\n",
    "\n",
    "    for r in range(1, m):\n",
    "      left = [0] * n\n",
    "      right = [0] * n\n",
    "\n",
    "      left[0] = dp[0]\n",
    "      for c in range(1, n):\n",
    "        left[c] = max(left[c - 1] - 1, dp[c])\n",
    "\n",
    "      right[n - 1] = dp[n - 1]\n",
    "      for c in range(n - 2, -1, -1):\n",
    "        right[c] = max(right[c + 1] - 1, dp[c])\n",
    "\n",
    "      for c in range(n):\n",
    "        dp[c] = points[r][c] + max(left[c], right[c])\n",
    "\n",
    "    return max(dp)"
   ]
  },
  {
   "cell_type": "code",
   "execution_count": 2,
   "metadata": {},
   "outputs": [
    {
     "data": {
      "text/plain": [
       "9"
      ]
     },
     "execution_count": 2,
     "metadata": {},
     "output_type": "execute_result"
    }
   ],
   "source": [
    "Solution().maxPoints(points = [[1,2,3],[1,5,1],[3,1,1]])"
   ]
  },
  {
   "cell_type": "code",
   "execution_count": 3,
   "metadata": {},
   "outputs": [
    {
     "data": {
      "text/plain": [
       "11"
      ]
     },
     "execution_count": 3,
     "metadata": {},
     "output_type": "execute_result"
    }
   ],
   "source": [
    "Solution().maxPoints(points = [[1,5],[2,3],[4,2]])"
   ]
  }
 ],
 "metadata": {
  "kernelspec": {
   "display_name": "base",
   "language": "python",
   "name": "python3"
  },
  "language_info": {
   "codemirror_mode": {
    "name": "ipython",
    "version": 3
   },
   "file_extension": ".py",
   "mimetype": "text/x-python",
   "name": "python",
   "nbconvert_exporter": "python",
   "pygments_lexer": "ipython3",
   "version": "3.11.7"
  }
 },
 "nbformat": 4,
 "nbformat_minor": 2
}
