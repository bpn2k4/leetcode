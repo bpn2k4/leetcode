{
  "cells": [
    {
      "cell_type": "code",
      "execution_count": 1,
      "metadata": {},
      "outputs": [],
      "source": [
        "from typing import List\n",
        "import heapq\n",
        "\n",
        "\n",
        "class TaskManager:\n",
        "  def __init__(self, tasks: List[List[int]]):\n",
        "    self.heap = []\n",
        "    self.task2priority: dict[int, int] = {}\n",
        "    self.task2user: dict[int, int] = {}\n",
        "    for userId, taskId, priority in tasks:\n",
        "      self.add(userId, taskId, priority)\n",
        "\n",
        "  def add(self, userId: int, taskId: int, priority: int) -> None:\n",
        "    heapq.heappush(self.heap, (-priority, -taskId))\n",
        "    self.task2priority[taskId] = priority\n",
        "    self.task2user[taskId] = userId\n",
        "\n",
        "  def edit(self, taskId: int, newPriority: int) -> None:\n",
        "    heapq.heappush(self.heap, (-newPriority, -taskId))\n",
        "    self.task2priority[taskId] = newPriority\n",
        "\n",
        "  def rmv(self, taskId: int) -> None:\n",
        "    self.task2priority[taskId] = None\n",
        "\n",
        "  def execTop(self) -> int:\n",
        "    while self.heap:\n",
        "      _priority, _taskId = heapq.heappop(self.heap)\n",
        "      priority, taskId = -_priority, -_taskId\n",
        "      if self.task2priority.get(taskId, -2) == priority:\n",
        "        self.task2priority[taskId] = -1\n",
        "        return self.task2user[taskId]\n",
        "\n",
        "    return -1"
      ]
    }
  ],
  "metadata": {
    "kernelspec": {
      "display_name": "Python 3",
      "language": "python",
      "name": "python3"
    },
    "language_info": {
      "codemirror_mode": {
        "name": "ipython",
        "version": 3
      },
      "file_extension": ".py",
      "mimetype": "text/x-python",
      "name": "python",
      "nbconvert_exporter": "python",
      "pygments_lexer": "ipython3",
      "version": "3.12.8"
    }
  },
  "nbformat": 4,
  "nbformat_minor": 2
}
