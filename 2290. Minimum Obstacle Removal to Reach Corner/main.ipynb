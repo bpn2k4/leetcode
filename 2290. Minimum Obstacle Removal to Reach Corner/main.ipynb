{
 "cells": [
  {
   "cell_type": "code",
   "execution_count": null,
   "metadata": {},
   "outputs": [],
   "source": [
    "from typing import List\n",
    "import heapq\n",
    "from collections import deque\n",
    "\n",
    "\n",
    "class Solution:\n",
    "  def minimumObstacles(self, grid: List[List[int]]) -> int:\n",
    "\n",
    "    m, n = len(grid), len(grid[0])\n",
    "    directions = [(1, 0), (-1, 0), (0, 1), (0, -1)]\n",
    "\n",
    "    distances = [[100001 for _ in range(n)] for _ in range(m)]\n",
    "    visited = [[False] * n for _ in range(m)]\n",
    "    queue = [(0, 0, 0)]\n",
    "    distances[0][0] = 0\n",
    "\n",
    "    while queue:\n",
    "      d, x, y = heapq.heappop(queue)\n",
    "\n",
    "      if x == m - 1 and y == n - 1:\n",
    "        return d\n",
    "\n",
    "      if visited[x][y]:\n",
    "        continue\n",
    "\n",
    "      visited[x][y] = True\n",
    "      for dx, dy in directions:\n",
    "        nx, ny = x + dx, y + dy\n",
    "        if 0 <= nx < m and 0 <= ny < n:\n",
    "          distance = d + grid[nx][ny]\n",
    "          distances[nx][ny] = distance\n",
    "          heapq.heappush(queue, (distance, nx, ny))\n",
    "\n",
    "    return -1\n",
    "  \n",
    "  def minimumObstacles(self, grid: List[List[int]]) -> int:\n",
    "\n",
    "    m, n = len(grid), len(grid[0])\n",
    "    directions = [(1, 0), (-1, 0), (0, 1), (0, -1)]\n",
    "\n",
    "    visited = [[False] * n for _ in range(m)]\n",
    "    queue = deque()\n",
    "    queue.append((0, 0, 0))\n",
    "\n",
    "    while queue:\n",
    "      distance, x, y = queue.popleft()\n",
    "\n",
    "      if x == m - 1 and y == n - 1:\n",
    "        return distance\n",
    "\n",
    "      visited[x][y] = True\n",
    "\n",
    "      for dx, dy in directions:\n",
    "        nx, ny = x + dx, y + dy\n",
    "        if 0 <= nx < m and 0 <= ny < n and not visited[nx][ny]:\n",
    "          if grid[nx][ny] == 1:\n",
    "            queue.append((distance + 1, nx, ny))\n",
    "          else:\n",
    "            queue.appendleft((distance, nx, ny))\n",
    "\n",
    "    return -1\n",
    "\n",
    "  def minimumObstacles(self, grid: List[List[int]]) -> int:\n",
    "\n",
    "    m, n = len(grid), len(grid[0])\n",
    "    directions = [(1, 0), (-1, 0), (0, 1), (0, -1)]\n",
    "\n",
    "    distances = [[100001] * n for _ in range(m)]\n",
    "    distances[0][0] = 0\n",
    "    queue = deque()\n",
    "    queue.append((0, 0))\n",
    "\n",
    "    while queue:\n",
    "      x, y = queue.popleft()\n",
    "\n",
    "      for dx, dy in directions:\n",
    "        nx, ny = x + dx, y + dy\n",
    "        if 0 <= nx < m and 0 <= ny < n:\n",
    "          distance = distances[x][y] + grid[nx][ny]\n",
    "          if distance < distances[nx][ny]:\n",
    "            distances[nx][ny] = distance\n",
    "            if grid[nx][ny] == 0:\n",
    "              queue.appendleft((nx, ny))\n",
    "            else:\n",
    "              queue.append((nx, ny))\n",
    "\n",
    "    return distances[m - 1][n - 1]"
   ]
  },
  {
   "cell_type": "code",
   "execution_count": 2,
   "metadata": {},
   "outputs": [
    {
     "data": {
      "text/plain": [
       "2"
      ]
     },
     "execution_count": 2,
     "metadata": {},
     "output_type": "execute_result"
    }
   ],
   "source": [
    "grid = [[0, 1, 1], [1, 1, 0], [1, 1, 0]]\n",
    "Solution().minimumObstacles(grid=grid)"
   ]
  },
  {
   "cell_type": "code",
   "execution_count": 3,
   "metadata": {},
   "outputs": [
    {
     "data": {
      "text/plain": [
       "0"
      ]
     },
     "execution_count": 3,
     "metadata": {},
     "output_type": "execute_result"
    }
   ],
   "source": [
    "grid = [[0, 1, 0, 0, 0], [0, 1, 0, 1, 0], [0, 0, 0, 1, 0]]\n",
    "Solution().minimumObstacles(grid=grid)"
   ]
  }
 ],
 "metadata": {
  "kernelspec": {
   "display_name": "base",
   "language": "python",
   "name": "python3"
  },
  "language_info": {
   "codemirror_mode": {
    "name": "ipython",
    "version": 3
   },
   "file_extension": ".py",
   "mimetype": "text/x-python",
   "name": "python",
   "nbconvert_exporter": "python",
   "pygments_lexer": "ipython3",
   "version": "3.11.7"
  }
 },
 "nbformat": 4,
 "nbformat_minor": 2
}
