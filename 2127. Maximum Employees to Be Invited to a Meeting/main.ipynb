{
  "cells": [
    {
      "cell_type": "code",
      "execution_count": 1,
      "metadata": {},
      "outputs": [],
      "source": [
        "from typing import List\n",
        "from collections import deque\n",
        "\n",
        "\n",
        "class Solution:\n",
        "  def maximumInvitations(self, favorite: List[int]) -> int:\n",
        "\n",
        "    n = len(favorite)\n",
        "    reversed_graph = {person: [] for person in range(n)}\n",
        "\n",
        "    for person in range(n):\n",
        "      reversed_graph[favorite[person]].append(person)\n",
        "\n",
        "    def bfs(start_node, visited_nodes):\n",
        "      queue = deque([(start_node, 0)])\n",
        "      max_distance = 0\n",
        "      while queue:\n",
        "        current_node, current_distance = queue.popleft()\n",
        "        for neighbor in reversed_graph[current_node]:\n",
        "          if neighbor in visited_nodes:\n",
        "            continue\n",
        "          visited_nodes.add(neighbor)\n",
        "          queue.append((neighbor, current_distance + 1))\n",
        "          max_distance = max(max_distance, current_distance + 1)\n",
        "      return max_distance\n",
        "\n",
        "    longest_cycle = 0\n",
        "    two_cycle_invitations = 0\n",
        "    visited = [False] * n\n",
        "\n",
        "    for person in range(n):\n",
        "      if not visited[person]:\n",
        "        visited_persons = {}\n",
        "        current = person\n",
        "        distance = 0\n",
        "        while True:\n",
        "          if visited[current]:\n",
        "            break\n",
        "          visited[current] = True\n",
        "          visited_persons[current] = distance\n",
        "          distance += 1\n",
        "          next_person = favorite[current]\n",
        "\n",
        "          if next_person in visited_persons:\n",
        "            cycle_length = distance - visited_persons[next_person]\n",
        "            longest_cycle = max(longest_cycle, cycle_length)\n",
        "            if cycle_length == 2:\n",
        "              visited_nodes = {current, next_person}\n",
        "              two_cycle_invitations += 2 + bfs(next_person, visited_nodes) + bfs(current, visited_nodes)\n",
        "            break\n",
        "\n",
        "          current = next_person\n",
        "\n",
        "    return max(longest_cycle, two_cycle_invitations)"
      ]
    },
    {
      "cell_type": "code",
      "execution_count": 2,
      "metadata": {},
      "outputs": [
        {
          "data": {
            "text/plain": [
              "3"
            ]
          },
          "execution_count": 2,
          "metadata": {},
          "output_type": "execute_result"
        }
      ],
      "source": [
        "favorite = [2, 2, 1, 2]\n",
        "Solution().maximumInvitations(favorite=favorite)"
      ]
    },
    {
      "cell_type": "code",
      "execution_count": 3,
      "metadata": {},
      "outputs": [
        {
          "data": {
            "text/plain": [
              "3"
            ]
          },
          "execution_count": 3,
          "metadata": {},
          "output_type": "execute_result"
        }
      ],
      "source": [
        "favorite = [1, 2, 0]\n",
        "Solution().maximumInvitations(favorite=favorite)"
      ]
    },
    {
      "cell_type": "code",
      "execution_count": 4,
      "metadata": {},
      "outputs": [
        {
          "data": {
            "text/plain": [
              "4"
            ]
          },
          "execution_count": 4,
          "metadata": {},
          "output_type": "execute_result"
        }
      ],
      "source": [
        "favorite = [3, 0, 1, 4, 1]\n",
        "Solution().maximumInvitations(favorite=favorite)"
      ]
    }
  ],
  "metadata": {
    "kernelspec": {
      "display_name": "base",
      "language": "python",
      "name": "python3"
    },
    "language_info": {
      "codemirror_mode": {
        "name": "ipython",
        "version": 3
      },
      "file_extension": ".py",
      "mimetype": "text/x-python",
      "name": "python",
      "nbconvert_exporter": "python",
      "pygments_lexer": "ipython3",
      "version": "3.11.7"
    }
  },
  "nbformat": 4,
  "nbformat_minor": 2
}
