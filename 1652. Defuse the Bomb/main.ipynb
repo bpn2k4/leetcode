{
 "cells": [
  {
   "cell_type": "code",
   "execution_count": null,
   "metadata": {},
   "outputs": [],
   "source": [
    "from typing import List\n",
    "\n",
    "\n",
    "class Solution:\n",
    "  def decrypt(self, code: List[int], k: int) -> List[int]:\n",
    "    \n",
    "    n = len(code)\n",
    "    if k == 0:\n",
    "      return [0] * n\n",
    "    \n",
    "    output = []\n",
    "    \n",
    "    if k > 0:\n",
    "      sliding = 0\n",
    "      for i in range(1, k + 1):\n",
    "        sliding += code[i % n]\n",
    "      output.append(sliding)\n",
    "      for i in range(1, n):\n",
    "        sliding = sliding - code[i % n]\n",
    "        sliding = sliding + code[(i + k) % n]\n",
    "        output.append(sliding)\n",
    "        \n",
    "    if k < 0:\n",
    "      k = -k\n",
    "      sliding = 0\n",
    "      for i in range(1, k + 1):\n",
    "        sliding += code[(-i) % n]\n",
    "      output.append(sliding)\n",
    "      for i in range(1, n):\n",
    "        sliding = sliding - code[(i - k - 1) % n]\n",
    "        sliding = sliding + code[(i - 1) % n]\n",
    "        output.append(sliding)\n",
    "    \n",
    "    return output"
   ]
  },
  {
   "cell_type": "code",
   "execution_count": 2,
   "metadata": {},
   "outputs": [
    {
     "data": {
      "text/plain": [
       "[12, 10, 16, 13]"
      ]
     },
     "execution_count": 2,
     "metadata": {},
     "output_type": "execute_result"
    }
   ],
   "source": [
    "code = [5, 7, 1, 4]\n",
    "k = 3\n",
    "Solution().decrypt(code=code, k=k)"
   ]
  },
  {
   "cell_type": "code",
   "execution_count": 3,
   "metadata": {},
   "outputs": [
    {
     "data": {
      "text/plain": [
       "[0, 0, 0, 0]"
      ]
     },
     "execution_count": 3,
     "metadata": {},
     "output_type": "execute_result"
    }
   ],
   "source": [
    "code = [1, 2, 3, 4]\n",
    "k = 0\n",
    "Solution().decrypt(code=code, k=k)"
   ]
  },
  {
   "cell_type": "code",
   "execution_count": 4,
   "metadata": {},
   "outputs": [
    {
     "data": {
      "text/plain": [
       "[12, 5, 6, 13]"
      ]
     },
     "execution_count": 4,
     "metadata": {},
     "output_type": "execute_result"
    }
   ],
   "source": [
    "code = [2, 4, 9, 3]\n",
    "k = -2\n",
    "Solution().decrypt(code=code, k=k)"
   ]
  }
 ],
 "metadata": {
  "kernelspec": {
   "display_name": "base",
   "language": "python",
   "name": "python3"
  },
  "language_info": {
   "codemirror_mode": {
    "name": "ipython",
    "version": 3
   },
   "file_extension": ".py",
   "mimetype": "text/x-python",
   "name": "python",
   "nbconvert_exporter": "python",
   "pygments_lexer": "ipython3",
   "version": "3.11.7"
  }
 },
 "nbformat": 4,
 "nbformat_minor": 2
}
