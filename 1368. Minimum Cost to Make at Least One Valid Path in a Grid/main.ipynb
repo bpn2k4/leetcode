{
  "cells": [
    {
      "cell_type": "code",
      "execution_count": 1,
      "metadata": {},
      "outputs": [],
      "source": [
        "from collections import deque\n",
        "from typing import List\n",
        "\n",
        "\n",
        "class Solution:\n",
        "  def minCost(self, grid: List[List[int]]) -> int:\n",
        "\n",
        "    m, n = len(grid), len(grid[0])\n",
        "    directions = [(1, 0, 1), (2, 0, -1), (3, 1, 0), (4, -1, 0)]\n",
        "\n",
        "    def in_bounds(x, y):\n",
        "      return 0 <= x < m and 0 <= y < n\n",
        "\n",
        "    queue = deque([(0, 0, 0)])\n",
        "    visited = [[False] * n for _ in range(m)]\n",
        "\n",
        "    while queue:\n",
        "      x, y, cost = queue.popleft()\n",
        "\n",
        "      if visited[x][y]:\n",
        "        continue\n",
        "      visited[x][y] = True\n",
        "\n",
        "      if (x, y) == (m - 1, n - 1):\n",
        "        return cost\n",
        "\n",
        "      for direction, dx, dy in directions:\n",
        "        nx, ny = x + dx, y + dy\n",
        "        if in_bounds(nx, ny) and not visited[nx][ny]:\n",
        "          if direction == grid[x][y]:\n",
        "            queue.appendleft((nx, ny, cost))\n",
        "          else:\n",
        "            queue.append((nx, ny, cost + 1))"
      ]
    },
    {
      "cell_type": "code",
      "execution_count": 2,
      "metadata": {},
      "outputs": [
        {
          "data": {
            "text/plain": [
              "3"
            ]
          },
          "execution_count": 2,
          "metadata": {},
          "output_type": "execute_result"
        }
      ],
      "source": [
        "grid = [[1, 1, 1, 1], [2, 2, 2, 2], [1, 1, 1, 1], [2, 2, 2, 2]]\n",
        "Solution().minCost(grid=grid)"
      ]
    },
    {
      "cell_type": "code",
      "execution_count": 3,
      "metadata": {},
      "outputs": [
        {
          "data": {
            "text/plain": [
              "0"
            ]
          },
          "execution_count": 3,
          "metadata": {},
          "output_type": "execute_result"
        }
      ],
      "source": [
        "grid = [[1, 1, 3], [3, 2, 2], [1, 1, 4]]\n",
        "Solution().minCost(grid=grid)"
      ]
    },
    {
      "cell_type": "code",
      "execution_count": 4,
      "metadata": {},
      "outputs": [
        {
          "data": {
            "text/plain": [
              "1"
            ]
          },
          "execution_count": 4,
          "metadata": {},
          "output_type": "execute_result"
        }
      ],
      "source": [
        "grid = [[1, 2], [4, 3]]\n",
        "Solution().minCost(grid=grid)"
      ]
    }
  ],
  "metadata": {
    "kernelspec": {
      "display_name": "base",
      "language": "python",
      "name": "python3"
    },
    "language_info": {
      "codemirror_mode": {
        "name": "ipython",
        "version": 3
      },
      "file_extension": ".py",
      "mimetype": "text/x-python",
      "name": "python",
      "nbconvert_exporter": "python",
      "pygments_lexer": "ipython3",
      "version": "3.11.7"
    }
  },
  "nbformat": 4,
  "nbformat_minor": 2
}
