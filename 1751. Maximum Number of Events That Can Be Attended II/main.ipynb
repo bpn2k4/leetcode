{
  "cells": [
    {
      "cell_type": "code",
      "execution_count": 1,
      "metadata": {},
      "outputs": [],
      "source": [
        "from typing import List\n",
        "import bisect\n",
        "\n",
        "\n",
        "class Solution:\n",
        "  def maxValue(self, events: List[List[int]], k: int) -> int:\n",
        "\n",
        "    n = len(events)\n",
        "    dp = [[0] * (n + 1) for _ in range(k + 1)]\n",
        "    events.sort()\n",
        "    starts = [event[0] for event in events]\n",
        "\n",
        "    for cur_index in range(n - 1, -1, -1):\n",
        "      next_index = bisect.bisect_right(starts, events[cur_index][1])\n",
        "      for count in range(1, k + 1):\n",
        "        dp[count][cur_index] = max(dp[count][cur_index + 1], events[cur_index][2] + dp[count - 1][next_index])\n",
        "\n",
        "    return dp[k][0]"
      ]
    },
    {
      "cell_type": "code",
      "execution_count": 2,
      "metadata": {},
      "outputs": [
        {
          "data": {
            "text/plain": [
              "7"
            ]
          },
          "execution_count": 2,
          "metadata": {},
          "output_type": "execute_result"
        }
      ],
      "source": [
        "events = [[1, 2, 4], [3, 4, 3], [2, 3, 1]]\n",
        "k = 2\n",
        "Solution().maxValue(events=events, k=k)"
      ]
    },
    {
      "cell_type": "code",
      "execution_count": 3,
      "metadata": {},
      "outputs": [
        {
          "data": {
            "text/plain": [
              "10"
            ]
          },
          "execution_count": 3,
          "metadata": {},
          "output_type": "execute_result"
        }
      ],
      "source": [
        "events = [[1, 2, 4], [3, 4, 3], [2, 3, 10]]\n",
        "k = 2\n",
        "Solution().maxValue(events=events, k=k)"
      ]
    },
    {
      "cell_type": "code",
      "execution_count": 4,
      "metadata": {},
      "outputs": [
        {
          "data": {
            "text/plain": [
              "9"
            ]
          },
          "execution_count": 4,
          "metadata": {},
          "output_type": "execute_result"
        }
      ],
      "source": [
        "events = [[1, 1, 1], [2, 2, 2], [3, 3, 3], [4, 4, 4]]\n",
        "k = 3\n",
        "Solution().maxValue(events=events, k=k)"
      ]
    }
  ],
  "metadata": {
    "kernelspec": {
      "display_name": "Python 3",
      "language": "python",
      "name": "python3"
    },
    "language_info": {
      "codemirror_mode": {
        "name": "ipython",
        "version": 3
      },
      "file_extension": ".py",
      "mimetype": "text/x-python",
      "name": "python",
      "nbconvert_exporter": "python",
      "pygments_lexer": "ipython3",
      "version": "3.12.8"
    }
  },
  "nbformat": 4,
  "nbformat_minor": 2
}
