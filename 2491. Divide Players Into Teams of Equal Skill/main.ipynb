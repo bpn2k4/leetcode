{
  "cells": [
    {
      "cell_type": "code",
      "execution_count": 1,
      "metadata": {},
      "outputs": [],
      "source": [
        "from typing import List\n",
        "\n",
        "\n",
        "class Solution:\n",
        "  def dividePlayers(self, skill: List[int]) -> int:\n",
        "    \n",
        "    sum_of_skill = sum(skill)\n",
        "    number_of_skill = len(skill)\n",
        "    number_of_pair = number_of_skill // 2\n",
        "\n",
        "    if sum_of_skill % number_of_pair != 0:\n",
        "      return -1\n",
        "    \n",
        "    sum_of_pair = sum_of_skill // number_of_pair\n",
        "    mark = {}\n",
        "    output = 0\n",
        "\n",
        "    for num in skill:\n",
        "      difference = sum_of_pair - num\n",
        "      if mark.get(difference, 0) > 0:\n",
        "        mark[difference] -= 1\n",
        "        output += difference * num\n",
        "      else:\n",
        "        mark[num] = mark.get(num, 0) + 1\n",
        "    \n",
        "    for num in mark:\n",
        "      if mark[num] != 0:\n",
        "        return -1\n",
        "    \n",
        "    return output"
      ]
    },
    {
      "cell_type": "code",
      "execution_count": 2,
      "metadata": {},
      "outputs": [
        {
          "data": {
            "text/plain": [
              "22"
            ]
          },
          "execution_count": 2,
          "metadata": {},
          "output_type": "execute_result"
        }
      ],
      "source": [
        "skill = [3, 2, 5, 1, 3, 4]\n",
        "Solution().dividePlayers(skill=skill)"
      ]
    },
    {
      "cell_type": "code",
      "execution_count": 3,
      "metadata": {},
      "outputs": [
        {
          "data": {
            "text/plain": [
              "12"
            ]
          },
          "execution_count": 3,
          "metadata": {},
          "output_type": "execute_result"
        }
      ],
      "source": [
        "skill = [3, 4]\n",
        "Solution().dividePlayers(skill=skill)"
      ]
    },
    {
      "cell_type": "code",
      "execution_count": 4,
      "metadata": {},
      "outputs": [
        {
          "data": {
            "text/plain": [
              "-1"
            ]
          },
          "execution_count": 4,
          "metadata": {},
          "output_type": "execute_result"
        }
      ],
      "source": [
        "skill = [1, 1, 2, 3]\n",
        "Solution().dividePlayers(skill=skill)"
      ]
    }
  ],
  "metadata": {
    "kernelspec": {
      "display_name": "base",
      "language": "python",
      "name": "python3"
    },
    "language_info": {
      "codemirror_mode": {
        "name": "ipython",
        "version": 3
      },
      "file_extension": ".py",
      "mimetype": "text/x-python",
      "name": "python",
      "nbconvert_exporter": "python",
      "pygments_lexer": "ipython3",
      "version": "3.11.7"
    }
  },
  "nbformat": 4,
  "nbformat_minor": 2
}
