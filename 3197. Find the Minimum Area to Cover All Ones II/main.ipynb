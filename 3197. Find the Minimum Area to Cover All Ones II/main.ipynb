{
  "cells": [
    {
      "cell_type": "code",
      "execution_count": 1,
      "metadata": {},
      "outputs": [],
      "source": [
        "from typing import List\n",
        "\n",
        "\n",
        "class Solution:\n",
        "  def minimumSum(self, grid: List[List[int]]) -> int:\n",
        "\n",
        "    res = float(\"inf\")\n",
        "    for _ in range(4):\n",
        "      m, n = len(grid), len(grid[0])\n",
        "      for i in range(1, m):\n",
        "        mnGrid = self.area(grid[:i])\n",
        "        for j in range(1, n):\n",
        "          left = [row[:j] for row in grid[i:]]\n",
        "          right = [row[j:] for row in grid[i:]]\n",
        "          grid2 = self.area(left)\n",
        "          grid3 = self.area(right)\n",
        "          res = min(res, mnGrid + grid2 + grid3)\n",
        "        for k in range(i + 1, m):\n",
        "          best2 = grid[i:k]\n",
        "          best3 = grid[k:]\n",
        "          grid2 = self.area(best2)\n",
        "          grid3 = self.area(best3)\n",
        "          res = min(res, grid2 + grid3 + mnGrid)\n",
        "      grid = self.rotate(grid)\n",
        "\n",
        "    return res\n",
        "\n",
        "  def area(self, grid: List[List[int]]) -> int:\n",
        "\n",
        "    if not grid or not grid[0]:\n",
        "      return 0\n",
        "    m, n = len(grid), len(grid[0])\n",
        "    left, top, right, bottom = float(\"inf\"), float(\"inf\"), -1, -1\n",
        "    for i in range(m):\n",
        "      for j in range(n):\n",
        "        if grid[i][j] == 1:\n",
        "          left = min(left, j)\n",
        "          right = max(right, j)\n",
        "          top = min(top, i)\n",
        "          bottom = max(bottom, i)\n",
        "\n",
        "    if right == -1:\n",
        "      return 0\n",
        "    \n",
        "    return (right - left + 1) * (bottom - top + 1)\n",
        "\n",
        "  def rotate(self, grid: List[List[int]]) -> List[List[int]]:\n",
        "    \n",
        "    m, n = len(grid), len(grid[0])\n",
        "    return [[grid[i][j] for i in range(m - 1, -1, -1)] for j in range(n)]"
      ]
    },
    {
      "cell_type": "code",
      "execution_count": 2,
      "metadata": {},
      "outputs": [
        {
          "data": {
            "text/plain": [
              "5"
            ]
          },
          "execution_count": 2,
          "metadata": {},
          "output_type": "execute_result"
        }
      ],
      "source": [
        "grid = [[1, 0, 1], [1, 1, 1]]\n",
        "Solution().minimumSum(grid=grid)"
      ]
    },
    {
      "cell_type": "code",
      "execution_count": 3,
      "metadata": {},
      "outputs": [
        {
          "data": {
            "text/plain": [
              "5"
            ]
          },
          "execution_count": 3,
          "metadata": {},
          "output_type": "execute_result"
        }
      ],
      "source": [
        "grid = [[1, 0, 1, 0], [0, 1, 0, 1]]\n",
        "Solution().minimumSum(grid=grid)"
      ]
    }
  ],
  "metadata": {
    "kernelspec": {
      "display_name": "Python 3",
      "language": "python",
      "name": "python3"
    },
    "language_info": {
      "codemirror_mode": {
        "name": "ipython",
        "version": 3
      },
      "file_extension": ".py",
      "mimetype": "text/x-python",
      "name": "python",
      "nbconvert_exporter": "python",
      "pygments_lexer": "ipython3",
      "version": "3.12.1"
    }
  },
  "nbformat": 4,
  "nbformat_minor": 2
}
