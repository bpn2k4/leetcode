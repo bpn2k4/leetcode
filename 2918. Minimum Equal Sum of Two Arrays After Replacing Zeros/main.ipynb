{
  "cells": [
    {
      "cell_type": "code",
      "execution_count": 1,
      "metadata": {},
      "outputs": [],
      "source": [
        "from typing import List\n",
        "\n",
        "\n",
        "class Solution:\n",
        "  def minSum(self, nums1: List[int], nums2: List[int]) -> int:\n",
        "\n",
        "    sum1, count1 = 0, 0\n",
        "    sum2, count2 = 0, 0\n",
        "    for num in nums1:\n",
        "      sum1 += num\n",
        "      count1 += num == 0\n",
        "    for num in nums2:\n",
        "      sum2 += num\n",
        "      count2 += num == 0\n",
        "    if (count1 == 0 and sum2 + count2 > sum1) or (count2 == 0 and sum1 + count1 > sum2):\n",
        "      return -1\n",
        "    \n",
        "    return max(sum1 + count1, sum2 + count2)"
      ]
    },
    {
      "cell_type": "code",
      "execution_count": 2,
      "metadata": {},
      "outputs": [
        {
          "data": {
            "text/plain": [
              "12"
            ]
          },
          "execution_count": 2,
          "metadata": {},
          "output_type": "execute_result"
        }
      ],
      "source": [
        "nums1 = [3, 2, 0, 1, 0]\n",
        "nums2 = [6, 5, 0]\n",
        "Solution().minSum(nums1=nums1, nums2=nums2)"
      ]
    },
    {
      "cell_type": "code",
      "execution_count": 3,
      "metadata": {},
      "outputs": [
        {
          "data": {
            "text/plain": [
              "-1"
            ]
          },
          "execution_count": 3,
          "metadata": {},
          "output_type": "execute_result"
        }
      ],
      "source": [
        "nums1 = [2, 0, 2, 0]\n",
        "nums2 = [1, 4]\n",
        "Solution().minSum(nums1=nums1, nums2=nums2)"
      ]
    }
  ],
  "metadata": {
    "kernelspec": {
      "display_name": "Python 3",
      "language": "python",
      "name": "python3"
    },
    "language_info": {
      "codemirror_mode": {
        "name": "ipython",
        "version": 3
      },
      "file_extension": ".py",
      "mimetype": "text/x-python",
      "name": "python",
      "nbconvert_exporter": "python",
      "pygments_lexer": "ipython3",
      "version": "3.12.1"
    }
  },
  "nbformat": 4,
  "nbformat_minor": 2
}
