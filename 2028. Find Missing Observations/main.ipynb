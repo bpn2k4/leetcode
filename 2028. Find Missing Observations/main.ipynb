{
 "cells": [
  {
   "cell_type": "code",
   "execution_count": 1,
   "metadata": {},
   "outputs": [],
   "source": [
    "from typing import List\n",
    "\n",
    "\n",
    "class Solution:\n",
    "  def missingRolls(self, rolls: List[int], mean: int, n: int) -> List[int]:\n",
    "\n",
    "    nums_of_roll = len(rolls)\n",
    "    current_total_point = sum(rolls)\n",
    "\n",
    "    required_point = mean * (nums_of_roll + n)\n",
    "\n",
    "    if current_total_point + 6 * n < required_point:\n",
    "      return []\n",
    "    \n",
    "    needed_point = required_point - current_total_point\n",
    "\n",
    "    if needed_point < n:\n",
    "      return []\n",
    "    \n",
    "    average = needed_point // n\n",
    "    increase = needed_point - average * n\n",
    "    output = [average + 1] * increase + [average] * (n - increase)\n",
    "\n",
    "    return output"
   ]
  },
  {
   "cell_type": "code",
   "execution_count": 2,
   "metadata": {},
   "outputs": [
    {
     "data": {
      "text/plain": [
       "[6, 6]"
      ]
     },
     "execution_count": 2,
     "metadata": {},
     "output_type": "execute_result"
    }
   ],
   "source": [
    "Solution().missingRolls(rolls=[3, 2, 4, 3], mean=4, n=2)"
   ]
  },
  {
   "cell_type": "code",
   "execution_count": 3,
   "metadata": {},
   "outputs": [
    {
     "data": {
      "text/plain": [
       "[3, 2, 2, 2]"
      ]
     },
     "execution_count": 3,
     "metadata": {},
     "output_type": "execute_result"
    }
   ],
   "source": [
    "Solution().missingRolls(rolls=[1, 5, 6], mean=3, n=4)"
   ]
  },
  {
   "cell_type": "code",
   "execution_count": 4,
   "metadata": {},
   "outputs": [
    {
     "data": {
      "text/plain": [
       "[]"
      ]
     },
     "execution_count": 4,
     "metadata": {},
     "output_type": "execute_result"
    }
   ],
   "source": [
    "Solution().missingRolls(rolls=[1, 2, 3, 4], mean=6, n=4)"
   ]
  }
 ],
 "metadata": {
  "kernelspec": {
   "display_name": "base",
   "language": "python",
   "name": "python3"
  },
  "language_info": {
   "codemirror_mode": {
    "name": "ipython",
    "version": 3
   },
   "file_extension": ".py",
   "mimetype": "text/x-python",
   "name": "python",
   "nbconvert_exporter": "python",
   "pygments_lexer": "ipython3",
   "version": "3.11.7"
  }
 },
 "nbformat": 4,
 "nbformat_minor": 2
}
