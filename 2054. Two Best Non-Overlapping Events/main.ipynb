{
 "cells": [
  {
   "cell_type": "code",
   "execution_count": 1,
   "metadata": {},
   "outputs": [],
   "source": [
    "from typing import List\n",
    "\n",
    "\n",
    "class Solution:\n",
    "  def maxTwoEvents(self, events: List[List[int]]) -> int:\n",
    "    \n",
    "    split_events = []\n",
    "    for start, end, value in events:\n",
    "      is_start = True\n",
    "      split_events.append((start, is_start, value))\n",
    "      is_start = False\n",
    "      split_events.append((end + 1, is_start, value))\n",
    "    \n",
    "    split_events.sort()\n",
    "    max_sum = 0\n",
    "    current_sum = 0\n",
    "\n",
    "    for _, is_start, value in split_events:\n",
    "      if is_start:\n",
    "        max_sum = max(max_sum, current_sum + value)\n",
    "      else:\n",
    "        current_sum = max(current_sum, value)\n",
    "\n",
    "    return max_sum"
   ]
  },
  {
   "cell_type": "code",
   "execution_count": 2,
   "metadata": {},
   "outputs": [
    {
     "data": {
      "text/plain": [
       "4"
      ]
     },
     "execution_count": 2,
     "metadata": {},
     "output_type": "execute_result"
    }
   ],
   "source": [
    "events = [[1, 3, 2], [4, 5, 2], [2, 4, 3]]\n",
    "Solution().maxTwoEvents(events=events)"
   ]
  },
  {
   "cell_type": "code",
   "execution_count": 3,
   "metadata": {},
   "outputs": [
    {
     "data": {
      "text/plain": [
       "5"
      ]
     },
     "execution_count": 3,
     "metadata": {},
     "output_type": "execute_result"
    }
   ],
   "source": [
    "events = [[1, 3, 2], [4, 5, 2], [1, 5, 5]]\n",
    "Solution().maxTwoEvents(events=events)"
   ]
  },
  {
   "cell_type": "code",
   "execution_count": 4,
   "metadata": {},
   "outputs": [
    {
     "data": {
      "text/plain": [
       "8"
      ]
     },
     "execution_count": 4,
     "metadata": {},
     "output_type": "execute_result"
    }
   ],
   "source": [
    "events = [[1, 5, 3], [1, 5, 1], [6, 6, 5]]\n",
    "Solution().maxTwoEvents(events=events)"
   ]
  }
 ],
 "metadata": {
  "kernelspec": {
   "display_name": "base",
   "language": "python",
   "name": "python3"
  },
  "language_info": {
   "codemirror_mode": {
    "name": "ipython",
    "version": 3
   },
   "file_extension": ".py",
   "mimetype": "text/x-python",
   "name": "python",
   "nbconvert_exporter": "python",
   "pygments_lexer": "ipython3",
   "version": "3.11.7"
  }
 },
 "nbformat": 4,
 "nbformat_minor": 2
}
