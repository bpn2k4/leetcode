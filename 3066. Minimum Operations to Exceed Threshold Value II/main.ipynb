{
  "cells": [
    {
      "cell_type": "code",
      "execution_count": 1,
      "metadata": {},
      "outputs": [],
      "source": [
        "from typing import List\n",
        "import heapq\n",
        "\n",
        "class Solution:\n",
        "  def minOperations(self, nums: List[int], k: int) -> int:\n",
        "    \n",
        "    number_of_operations = 0\n",
        "    heapq.heapify(nums)\n",
        "\n",
        "    while nums[0] < k:\n",
        "      number_of_operations += 1\n",
        "      x = heapq.heappop(nums)\n",
        "      y = heapq.heappop(nums)\n",
        "      value = min(x, y) * 2 + max(x, y)\n",
        "      heapq.heappush(nums, value)\n",
        "\n",
        "    return number_of_operations"
      ]
    },
    {
      "cell_type": "code",
      "execution_count": 2,
      "metadata": {},
      "outputs": [
        {
          "data": {
            "text/plain": [
              "2"
            ]
          },
          "execution_count": 2,
          "metadata": {},
          "output_type": "execute_result"
        }
      ],
      "source": [
        "nums = [2, 11, 10, 1, 3]\n",
        "k = 10\n",
        "Solution().minOperations(nums=nums, k=k)"
      ]
    },
    {
      "cell_type": "code",
      "execution_count": 3,
      "metadata": {},
      "outputs": [
        {
          "data": {
            "text/plain": [
              "4"
            ]
          },
          "execution_count": 3,
          "metadata": {},
          "output_type": "execute_result"
        }
      ],
      "source": [
        "nums = [1, 1, 2, 4, 9]\n",
        "k = 20\n",
        "Solution().minOperations(nums=nums, k=k)"
      ]
    }
  ],
  "metadata": {
    "kernelspec": {
      "display_name": "Python 3",
      "language": "python",
      "name": "python3"
    },
    "language_info": {
      "codemirror_mode": {
        "name": "ipython",
        "version": 3
      },
      "file_extension": ".py",
      "mimetype": "text/x-python",
      "name": "python",
      "nbconvert_exporter": "python",
      "pygments_lexer": "ipython3",
      "version": "3.12.1"
    }
  },
  "nbformat": 4,
  "nbformat_minor": 2
}
