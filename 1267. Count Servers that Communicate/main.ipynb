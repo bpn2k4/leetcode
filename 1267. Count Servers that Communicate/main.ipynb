{
  "cells": [
    {
      "cell_type": "code",
      "execution_count": 1,
      "metadata": {},
      "outputs": [],
      "source": [
        "from typing import List\n",
        "\n",
        "\n",
        "class Solution:\n",
        "  def countServers(self, grid: List[List[int]]) -> int:\n",
        "    \n",
        "    m, n = len(grid), len(grid[0])\n",
        "    total_servers = 0\n",
        "    for i in range(m):\n",
        "      index = 0\n",
        "      count = 0\n",
        "      for j in range(n):\n",
        "        if grid[i][j] == 1:\n",
        "          count += 1\n",
        "          index = j\n",
        "      if count > 1:\n",
        "        total_servers += count\n",
        "      elif count == 1:\n",
        "        count = 0\n",
        "        for k in range(m):\n",
        "          count += grid[k][index]\n",
        "        if count > 1:\n",
        "          total_servers += 1\n",
        "    \n",
        "    return total_servers"
      ]
    },
    {
      "cell_type": "code",
      "execution_count": 2,
      "metadata": {},
      "outputs": [
        {
          "data": {
            "text/plain": [
              "0"
            ]
          },
          "execution_count": 2,
          "metadata": {},
          "output_type": "execute_result"
        }
      ],
      "source": [
        "grid = [[1, 0], [0, 1]]\n",
        "Solution().countServers(grid=grid)"
      ]
    },
    {
      "cell_type": "code",
      "execution_count": 3,
      "metadata": {},
      "outputs": [
        {
          "data": {
            "text/plain": [
              "3"
            ]
          },
          "execution_count": 3,
          "metadata": {},
          "output_type": "execute_result"
        }
      ],
      "source": [
        "grid = [[1, 0], [1, 1]]\n",
        "Solution().countServers(grid=grid)"
      ]
    },
    {
      "cell_type": "code",
      "execution_count": 4,
      "metadata": {},
      "outputs": [
        {
          "data": {
            "text/plain": [
              "4"
            ]
          },
          "execution_count": 4,
          "metadata": {},
          "output_type": "execute_result"
        }
      ],
      "source": [
        "grid = [[1, 1, 0, 0], [0, 0, 1, 0], [0, 0, 1, 0], [0, 0, 0, 1]]\n",
        "Solution().countServers(grid=grid)"
      ]
    }
  ],
  "metadata": {
    "kernelspec": {
      "display_name": "base",
      "language": "python",
      "name": "python3"
    },
    "language_info": {
      "codemirror_mode": {
        "name": "ipython",
        "version": 3
      },
      "file_extension": ".py",
      "mimetype": "text/x-python",
      "name": "python",
      "nbconvert_exporter": "python",
      "pygments_lexer": "ipython3",
      "version": "3.11.7"
    }
  },
  "nbformat": 4,
  "nbformat_minor": 2
}
