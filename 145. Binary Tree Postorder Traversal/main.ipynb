{
 "cells": [
  {
   "cell_type": "code",
   "execution_count": 9,
   "metadata": {},
   "outputs": [],
   "source": [
    "from typing import List, Optional\n",
    "\n",
    "\n",
    "class TreeNode:\n",
    "  def __init__(self, val=0, left=None, right=None):\n",
    "    self.val: int = val\n",
    "    self.left: TreeNode = left\n",
    "    self.right: TreeNode = right\n",
    "\n",
    "\n",
    "class Solution:\n",
    "  def postorderTraversal(self, root: Optional[TreeNode]) -> List[int]:\n",
    "    if not root:\n",
    "      return []\n",
    "    return self.postorderTraversal(root.left) + self.postorderTraversal(root.right) + [root.val]\n",
    "\n",
    "  def postorderTraversal(self, root: Optional[TreeNode]) -> List[int]:\n",
    "    if not root:\n",
    "      return []\n",
    "\n",
    "    stack, output = [], []\n",
    "    while root or stack:\n",
    "      while root:\n",
    "        stack.append(root)\n",
    "        output.append(root.val)\n",
    "        root = root.right\n",
    "\n",
    "      root = stack.pop()\n",
    "      root = root.left\n",
    "\n",
    "    return output[::-1]"
   ]
  },
  {
   "cell_type": "code",
   "execution_count": 10,
   "metadata": {},
   "outputs": [
    {
     "data": {
      "text/plain": [
       "[3, 2, 1]"
      ]
     },
     "execution_count": 10,
     "metadata": {},
     "output_type": "execute_result"
    }
   ],
   "source": [
    "root = TreeNode(1)\n",
    "root.right = TreeNode(2)\n",
    "root.right.left = TreeNode(3)\n",
    "Solution().postorderTraversal(root)"
   ]
  },
  {
   "cell_type": "code",
   "execution_count": 11,
   "metadata": {},
   "outputs": [
    {
     "data": {
      "text/plain": [
       "[]"
      ]
     },
     "execution_count": 11,
     "metadata": {},
     "output_type": "execute_result"
    }
   ],
   "source": [
    "root = None\n",
    "Solution().postorderTraversal(root)"
   ]
  },
  {
   "cell_type": "code",
   "execution_count": 12,
   "metadata": {},
   "outputs": [
    {
     "data": {
      "text/plain": [
       "[1]"
      ]
     },
     "execution_count": 12,
     "metadata": {},
     "output_type": "execute_result"
    }
   ],
   "source": [
    "root = TreeNode(1)\n",
    "Solution().postorderTraversal(root)"
   ]
  }
 ],
 "metadata": {
  "kernelspec": {
   "display_name": "base",
   "language": "python",
   "name": "python3"
  },
  "language_info": {
   "codemirror_mode": {
    "name": "ipython",
    "version": 3
   },
   "file_extension": ".py",
   "mimetype": "text/x-python",
   "name": "python",
   "nbconvert_exporter": "python",
   "pygments_lexer": "ipython3",
   "version": "3.11.7"
  }
 },
 "nbformat": 4,
 "nbformat_minor": 2
}
