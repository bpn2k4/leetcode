{
 "cells": [
  {
   "cell_type": "code",
   "execution_count": 1,
   "metadata": {},
   "outputs": [],
   "source": [
    "from typing import List\n",
    "\n",
    "\n",
    "class Solution:\n",
    "  def maxMatrixSum(self, matrix: List[List[int]]) -> int:\n",
    "    \n",
    "    n = len(matrix)\n",
    "    negative = 0\n",
    "    min_value = 100001\n",
    "    total = 0\n",
    "    for r in range(n):\n",
    "      for c in range(n):\n",
    "        if matrix[r][c] < 0:\n",
    "          negative += 1\n",
    "          total -= matrix[r][c]\n",
    "          min_value = min(min_value, -matrix[r][c])\n",
    "        else:\n",
    "          total += matrix[r][c]\n",
    "          min_value = min(min_value, matrix[r][c])\n",
    "    \n",
    "    if negative % 2 == 0:\n",
    "      return total\n",
    "\n",
    "    return total - 2 * min_value"
   ]
  },
  {
   "cell_type": "code",
   "execution_count": 2,
   "metadata": {},
   "outputs": [
    {
     "data": {
      "text/plain": [
       "4"
      ]
     },
     "execution_count": 2,
     "metadata": {},
     "output_type": "execute_result"
    }
   ],
   "source": [
    "matrix = [[1, -1], [-1, 1]]\n",
    "Solution().maxMatrixSum(matrix=matrix)"
   ]
  },
  {
   "cell_type": "code",
   "execution_count": 3,
   "metadata": {},
   "outputs": [
    {
     "data": {
      "text/plain": [
       "16"
      ]
     },
     "execution_count": 3,
     "metadata": {},
     "output_type": "execute_result"
    }
   ],
   "source": [
    "matrix = [[1, 2, 3], [-1, -2, -3], [1, 2, 3]]\n",
    "Solution().maxMatrixSum(matrix=matrix)"
   ]
  }
 ],
 "metadata": {
  "kernelspec": {
   "display_name": "base",
   "language": "python",
   "name": "python3"
  },
  "language_info": {
   "codemirror_mode": {
    "name": "ipython",
    "version": 3
   },
   "file_extension": ".py",
   "mimetype": "text/x-python",
   "name": "python",
   "nbconvert_exporter": "python",
   "pygments_lexer": "ipython3",
   "version": "3.11.7"
  }
 },
 "nbformat": 4,
 "nbformat_minor": 2
}
