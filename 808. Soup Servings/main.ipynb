{
  "cells": [
    {
      "cell_type": "code",
      "execution_count": 1,
      "metadata": {},
      "outputs": [],
      "source": [
        "import math\n",
        "\n",
        "\n",
        "class Solution:\n",
        "  def soupServings(self, n: int) -> float:\n",
        "    \n",
        "    m = math.ceil(n / 25)\n",
        "    dp = {}\n",
        "\n",
        "    def calculate_dp(i, j):\n",
        "      return (dp[max(0, i - 4)][j] + dp[max(0, i - 3)][j - 1] +\n",
        "              dp[max(0, i - 2)][max(0, j - 2)]\n",
        "              + dp[i - 1][max(0, j - 3)]) / 4\n",
        "\n",
        "    dp[0] = {0: 0.5}\n",
        "    for k in range(1, m + 1):\n",
        "      dp[0][k] = 1\n",
        "      dp[k] = {0: 0}\n",
        "      for j in range(1, k + 1):\n",
        "        dp[j][k] = calculate_dp(j, k)\n",
        "        dp[k][j] = calculate_dp(k, j)\n",
        "      if dp[k][k] > 1 - 1e-5:\n",
        "        return 1\n",
        "      \n",
        "    return dp[m][m]"
      ]
    },
    {
      "cell_type": "code",
      "execution_count": 2,
      "metadata": {},
      "outputs": [
        {
          "data": {
            "text/plain": [
              "0.625"
            ]
          },
          "execution_count": 2,
          "metadata": {},
          "output_type": "execute_result"
        }
      ],
      "source": [
        "n = 50\n",
        "Solution().soupServings(n=n)"
      ]
    },
    {
      "cell_type": "code",
      "execution_count": 3,
      "metadata": {},
      "outputs": [
        {
          "data": {
            "text/plain": [
              "0.71875"
            ]
          },
          "execution_count": 3,
          "metadata": {},
          "output_type": "execute_result"
        }
      ],
      "source": [
        "n = 100\n",
        "Solution().soupServings(n=n)"
      ]
    }
  ],
  "metadata": {
    "kernelspec": {
      "display_name": "Python 3",
      "language": "python",
      "name": "python3"
    },
    "language_info": {
      "codemirror_mode": {
        "name": "ipython",
        "version": 3
      },
      "file_extension": ".py",
      "mimetype": "text/x-python",
      "name": "python",
      "nbconvert_exporter": "python",
      "pygments_lexer": "ipython3",
      "version": "3.12.8"
    }
  },
  "nbformat": 4,
  "nbformat_minor": 2
}
