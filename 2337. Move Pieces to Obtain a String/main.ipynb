{
 "cells": [
  {
   "cell_type": "code",
   "execution_count": 1,
   "metadata": {},
   "outputs": [],
   "source": [
    "class Solution:\n",
    "  def canChange(self, start: str, target: str) -> bool:\n",
    "    \n",
    "    n = len(start)\n",
    "    total_L_in_start = 0\n",
    "    total_R_in_start = 0\n",
    "    total_L_in_target = 0\n",
    "    total_R_in_target = 0\n",
    "    for i in range(n):\n",
    "      if start[i] == \"L\":\n",
    "        total_L_in_start += 1\n",
    "      if start[i] == \"R\":\n",
    "        total_R_in_start += 1\n",
    "      if target[i] == \"L\":\n",
    "        total_L_in_target += 1\n",
    "      if target[i] == \"R\":\n",
    "        total_R_in_target += 1\n",
    "        \n",
    "    if total_L_in_start != total_L_in_target or total_R_in_start != total_R_in_target:\n",
    "      return False\n",
    "  \n",
    "    i, j = 0, 0\n",
    "    while i < n and j < n:\n",
    "      while i < n and start[i] == \"_\":\n",
    "        i += 1\n",
    "      while j < n and target[j] == \"_\":\n",
    "        j += 1\n",
    "\n",
    "      if i < n and j < n:\n",
    "        if start[i] != target[j]:\n",
    "          return False\n",
    "        \n",
    "        if start[i] == \"L\" and i < j:\n",
    "          return False\n",
    "        \n",
    "        if start[i] == \"R\" and i > j:\n",
    "          return False\n",
    "      \n",
    "      i += 1\n",
    "      j += 1\n",
    "\n",
    "    return True"
   ]
  },
  {
   "cell_type": "code",
   "execution_count": 2,
   "metadata": {},
   "outputs": [
    {
     "data": {
      "text/plain": [
       "True"
      ]
     },
     "execution_count": 2,
     "metadata": {},
     "output_type": "execute_result"
    }
   ],
   "source": [
    "start = \"_L__R__R_\"\n",
    "target = \"L______RR\"\n",
    "Solution().canChange(start=start, target=target)"
   ]
  },
  {
   "cell_type": "code",
   "execution_count": 3,
   "metadata": {},
   "outputs": [
    {
     "data": {
      "text/plain": [
       "False"
      ]
     },
     "execution_count": 3,
     "metadata": {},
     "output_type": "execute_result"
    }
   ],
   "source": [
    "start = \"R_L_\"\n",
    "target = \"__LR\"\n",
    "Solution().canChange(start=start, target=target)"
   ]
  },
  {
   "cell_type": "code",
   "execution_count": 4,
   "metadata": {},
   "outputs": [
    {
     "data": {
      "text/plain": [
       "False"
      ]
     },
     "execution_count": 4,
     "metadata": {},
     "output_type": "execute_result"
    }
   ],
   "source": [
    "start = \"_R\"\n",
    "target = \"R_\"\n",
    "Solution().canChange(start=start, target=target)"
   ]
  },
  {
   "cell_type": "code",
   "execution_count": 5,
   "metadata": {},
   "outputs": [
    {
     "data": {
      "text/plain": [
       "False"
      ]
     },
     "execution_count": 5,
     "metadata": {},
     "output_type": "execute_result"
    }
   ],
   "source": [
    "start = \"_L__R__R_L\"\n",
    "target = \"L______RR_\"\n",
    "Solution().canChange(start=start, target=target)"
   ]
  },
  {
   "cell_type": "code",
   "execution_count": 6,
   "metadata": {},
   "outputs": [
    {
     "data": {
      "text/plain": [
       "False"
      ]
     },
     "execution_count": 6,
     "metadata": {},
     "output_type": "execute_result"
    }
   ],
   "source": [
    "start = \"_L\"\n",
    "target = \"LL\"\n",
    "Solution().canChange(start=start, target=target)"
   ]
  }
 ],
 "metadata": {
  "kernelspec": {
   "display_name": "base",
   "language": "python",
   "name": "python3"
  },
  "language_info": {
   "codemirror_mode": {
    "name": "ipython",
    "version": 3
   },
   "file_extension": ".py",
   "mimetype": "text/x-python",
   "name": "python",
   "nbconvert_exporter": "python",
   "pygments_lexer": "ipython3",
   "version": "3.11.7"
  }
 },
 "nbformat": 4,
 "nbformat_minor": 2
}
