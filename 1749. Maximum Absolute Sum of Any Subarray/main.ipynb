{
  "cells": [
    {
      "cell_type": "code",
      "execution_count": null,
      "metadata": {},
      "outputs": [],
      "source": [
        "from typing import List\n",
        "\n",
        "\n",
        "class Solution:\n",
        "  def maxAbsoluteSum(self, nums: List[int]) -> int:\n",
        "    \n",
        "    max_sum = 0\n",
        "    min_sum = 0\n",
        "    current_max_sum = 0\n",
        "    current_min_sum = 0\n",
        "    for num in nums:\n",
        "      current_max_sum = max(current_max_sum + num, num)\n",
        "      max_sum = max(max_sum, current_max_sum)\n",
        "      current_min_sum = min(current_min_sum + num, num)\n",
        "      min_sum = min(min_sum, current_min_sum)\n",
        "\n",
        "    max_absolute_sum = max(max_sum, abs(min_sum))\n",
        "\n",
        "    return max_absolute_sum"
      ]
    },
    {
      "cell_type": "code",
      "execution_count": 2,
      "metadata": {},
      "outputs": [
        {
          "data": {
            "text/plain": [
              "5"
            ]
          },
          "execution_count": 2,
          "metadata": {},
          "output_type": "execute_result"
        }
      ],
      "source": [
        "nums = [1, -3, 2, 3, -4]\n",
        "Solution().maxAbsoluteSum(nums=nums)"
      ]
    },
    {
      "cell_type": "code",
      "execution_count": 3,
      "metadata": {},
      "outputs": [
        {
          "data": {
            "text/plain": [
              "8"
            ]
          },
          "execution_count": 3,
          "metadata": {},
          "output_type": "execute_result"
        }
      ],
      "source": [
        "nums = [2, -5, 1, -4, 3, -2]\n",
        "Solution().maxAbsoluteSum(nums=nums)"
      ]
    }
  ],
  "metadata": {
    "kernelspec": {
      "display_name": "Python 3",
      "language": "python",
      "name": "python3"
    },
    "language_info": {
      "codemirror_mode": {
        "name": "ipython",
        "version": 3
      },
      "file_extension": ".py",
      "mimetype": "text/x-python",
      "name": "python",
      "nbconvert_exporter": "python",
      "pygments_lexer": "ipython3",
      "version": "3.12.1"
    }
  },
  "nbformat": 4,
  "nbformat_minor": 2
}
