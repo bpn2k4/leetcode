{
 "cells": [
  {
   "cell_type": "code",
   "execution_count": 33,
   "metadata": {},
   "outputs": [],
   "source": [
    "class TreeNode:\n",
    "  def __init__(self, val=0, left=None, right=None):\n",
    "    self.val = val\n",
    "    self.left = left\n",
    "    self.right = right"
   ]
  },
  {
   "cell_type": "code",
   "execution_count": 34,
   "metadata": {},
   "outputs": [],
   "source": [
    "def print_tree(root: TreeNode):\n",
    "  if not root:\n",
    "    print([])\n",
    "  result = []\n",
    "  q = [root]\n",
    "  while q:\n",
    "    node = q.pop(0)\n",
    "    if node:\n",
    "      result.append(node.val)\n",
    "      q.append(node.left)\n",
    "      q.append(node.right)\n",
    "    else:\n",
    "      result.append(None)\n",
    "  while result and result[-1] is None:\n",
    "    result.pop()\n",
    "  print(result)"
   ]
  },
  {
   "cell_type": "code",
   "execution_count": 35,
   "metadata": {},
   "outputs": [],
   "source": [
    "\n",
    "class Solution:\n",
    "  def bstToGst(self, root: TreeNode) -> TreeNode:\n",
    "    def reverse_in_order_traversal(node: TreeNode, acc_sum: int):\n",
    "      if not node:\n",
    "        return acc_sum\n",
    "        \n",
    "      acc_sum = reverse_in_order_traversal(node.right, acc_sum)\n",
    "      acc_sum += node.val\n",
    "      node.val = acc_sum\n",
    "      acc_sum = reverse_in_order_traversal(node.left, acc_sum)\n",
    "        \n",
    "      return acc_sum\n",
    "\n",
    "    reverse_in_order_traversal(root, 0)\n",
    "    return root\n",
    "    "
   ]
  },
  {
   "cell_type": "code",
   "execution_count": 36,
   "metadata": {},
   "outputs": [
    {
     "name": "stdout",
     "output_type": "stream",
     "text": [
      "[4, 1, 6, 0, 2, 5, 7, None, None, None, 3, None, None, None, 8]\n",
      "[30, 36, 21, 36, 35, 26, 15, None, None, None, 33, None, None, None, 8]\n"
     ]
    }
   ],
   "source": [
    "root = TreeNode(4)\n",
    "root.left = TreeNode(1)\n",
    "root.right = TreeNode(6)\n",
    "\n",
    "root.left.left = TreeNode(0)\n",
    "root.left.right = TreeNode(2)\n",
    "root.left.right.right = TreeNode(3)\n",
    "\n",
    "root.right.left = TreeNode(5)\n",
    "root.right.right = TreeNode(7)\n",
    "root.right.right.right = TreeNode(8)\n",
    "print_tree(root)\n",
    "print_tree(Solution().bstToGst(root))"
   ]
  },
  {
   "cell_type": "code",
   "execution_count": 37,
   "metadata": {},
   "outputs": [
    {
     "name": "stdout",
     "output_type": "stream",
     "text": [
      "[4, 1, 6, 0, 2, 5, 7, None, None, None, 3, None, None, None, 8]\n",
      "[30, 36, 21, 36, 35, 26, 15, None, None, None, 33, None, None, None, 8]\n"
     ]
    }
   ],
   "source": [
    "root = TreeNode(4)\n",
    "root.left = TreeNode(1)\n",
    "root.left.left = TreeNode(0)\n",
    "root.left.right = TreeNode(2)\n",
    "root.left.right.right = TreeNode(3)\n",
    "root.right = TreeNode(6)\n",
    "root.right.left = TreeNode(5)\n",
    "root.right.right = TreeNode(7)\n",
    "root.right.right.right = TreeNode(8)\n",
    "print_tree(root)\n",
    "print_tree(Solution().bstToGst(root))"
   ]
  },
  {
   "cell_type": "code",
   "execution_count": 38,
   "metadata": {},
   "outputs": [
    {
     "name": "stdout",
     "output_type": "stream",
     "text": [
      "[0, None, 1]\n",
      "[1, None, 1]\n"
     ]
    }
   ],
   "source": [
    "root = TreeNode(0)\n",
    "root.right = TreeNode(1)\n",
    "print_tree(root)\n",
    "print_tree(Solution().bstToGst(root))"
   ]
  }
 ],
 "metadata": {
  "kernelspec": {
   "display_name": "base",
   "language": "python",
   "name": "python3"
  },
  "language_info": {
   "codemirror_mode": {
    "name": "ipython",
    "version": 3
   },
   "file_extension": ".py",
   "mimetype": "text/x-python",
   "name": "python",
   "nbconvert_exporter": "python",
   "pygments_lexer": "ipython3",
   "version": "3.11.7"
  }
 },
 "nbformat": 4,
 "nbformat_minor": 2
}
