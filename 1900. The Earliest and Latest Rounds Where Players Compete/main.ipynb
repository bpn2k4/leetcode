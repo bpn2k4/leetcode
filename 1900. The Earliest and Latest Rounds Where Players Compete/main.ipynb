{
  "cells": [
    {
      "cell_type": "code",
      "execution_count": 1,
      "metadata": {},
      "outputs": [],
      "source": [
        "from typing import List\n",
        "\n",
        "\n",
        "class Solution:\n",
        "  def earliestAndLatest(self, n: int, firstPlayer: int, secondPlayer: int) -> List[int]:\n",
        "\n",
        "    r_min= [6]\n",
        "    r_max = [1]\n",
        "    dp = [[[False for _ in range(30)] for _ in range(30)] for _ in range(6)]\n",
        "\n",
        "    def dfs(round: int, l: int, r: int, total: int):\n",
        "      if dp[round][l][r]:\n",
        "        return\n",
        "      \n",
        "      dp[round][l][r] = True\n",
        "\n",
        "      if l > r:\n",
        "        return dfs(round, r, l, total)\n",
        "\n",
        "      if l == r:\n",
        "        r_min[0] = min(r_min[0], round)\n",
        "        r_max[0] = max(r_max[0], round)\n",
        "        return\n",
        "\n",
        "      half = (total + 1) // 2\n",
        "      k = min(l, half)\n",
        "\n",
        "      for i in range(1, k + 1):\n",
        "        for j in range(min(half, r) - i, l - i, -1):\n",
        "          if l + r - (i + j) <= total // 2:\n",
        "            dfs(round + 1, i, j, half)\n",
        "\n",
        "    dfs(1, firstPlayer, n + 1 - secondPlayer, n)\n",
        "\n",
        "    return [r_min[0], r_max[0]]"
      ]
    },
    {
      "cell_type": "code",
      "execution_count": 2,
      "metadata": {},
      "outputs": [
        {
          "data": {
            "text/plain": [
              "[3, 4]"
            ]
          },
          "execution_count": 2,
          "metadata": {},
          "output_type": "execute_result"
        }
      ],
      "source": [
        "n = 11\n",
        "firstPlayer = 2\n",
        "secondPlayer = 4\n",
        "Solution().earliestAndLatest(n=n, firstPlayer=firstPlayer, secondPlayer=secondPlayer)"
      ]
    },
    {
      "cell_type": "code",
      "execution_count": 3,
      "metadata": {},
      "outputs": [
        {
          "data": {
            "text/plain": [
              "[1, 1]"
            ]
          },
          "execution_count": 3,
          "metadata": {},
          "output_type": "execute_result"
        }
      ],
      "source": [
        "n = 5\n",
        "firstPlayer = 1\n",
        "secondPlayer = 5\n",
        "Solution().earliestAndLatest(n=n, firstPlayer=firstPlayer, secondPlayer=secondPlayer)"
      ]
    }
  ],
  "metadata": {
    "kernelspec": {
      "display_name": "Python 3",
      "language": "python",
      "name": "python3"
    },
    "language_info": {
      "codemirror_mode": {
        "name": "ipython",
        "version": 3
      },
      "file_extension": ".py",
      "mimetype": "text/x-python",
      "name": "python",
      "nbconvert_exporter": "python",
      "pygments_lexer": "ipython3",
      "version": "3.12.8"
    }
  },
  "nbformat": 4,
  "nbformat_minor": 2
}
