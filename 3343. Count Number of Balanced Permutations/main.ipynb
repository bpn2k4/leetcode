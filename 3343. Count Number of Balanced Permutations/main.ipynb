{
  "cells": [
    {
      "cell_type": "code",
      "execution_count": 1,
      "metadata": {},
      "outputs": [],
      "source": [
        "import math\n",
        "from functools import cache\n",
        "\n",
        "\n",
        "class Solution:\n",
        "  def countBalancedPermutations(self, num: str) -> int:\n",
        "    \n",
        "    MOD = 10**9 + 7\n",
        "    n = len(num)\n",
        "    num2count = {}\n",
        "    total = 0\n",
        "    for char in num:\n",
        "      number = int(char)\n",
        "      total += number\n",
        "      num2count[number] = num2count.get(number, 0) + 1\n",
        "\n",
        "    if total % 2 == 1:\n",
        "      return 0\n",
        "    \n",
        "    @cache\n",
        "    def dfs(i, odd, even, balance):\n",
        "      if odd == 0 and even == 0 and balance == 0:\n",
        "        return 1\n",
        "      \n",
        "      if i < 0 or odd < 0 or even < 0 or balance < 0:\n",
        "        return 0\n",
        "      \n",
        "      count = num2count.get(i, 0)\n",
        "      c = 0\n",
        "      for j in range(count + 1):\n",
        "        c += math.comb(odd, j) * math.comb(even, count - j) * dfs(i - 1, odd - j, even - count + j, balance - i * j)\n",
        "\n",
        "      return c % MOD\n",
        "    \n",
        "    \n",
        "    return dfs(9, n - n // 2, n // 2, total // 2)"
      ]
    },
    {
      "cell_type": "code",
      "execution_count": 2,
      "metadata": {},
      "outputs": [
        {
          "data": {
            "text/plain": [
              "2"
            ]
          },
          "execution_count": 2,
          "metadata": {},
          "output_type": "execute_result"
        }
      ],
      "source": [
        "num = \"123\"\n",
        "Solution().countBalancedPermutations(num=num)"
      ]
    },
    {
      "cell_type": "code",
      "execution_count": 3,
      "metadata": {},
      "outputs": [
        {
          "data": {
            "text/plain": [
              "1"
            ]
          },
          "execution_count": 3,
          "metadata": {},
          "output_type": "execute_result"
        }
      ],
      "source": [
        "num = \"112\"\n",
        "Solution().countBalancedPermutations(num=num)"
      ]
    },
    {
      "cell_type": "code",
      "execution_count": 4,
      "metadata": {},
      "outputs": [
        {
          "data": {
            "text/plain": [
              "0"
            ]
          },
          "execution_count": 4,
          "metadata": {},
          "output_type": "execute_result"
        }
      ],
      "source": [
        "num = \"12345\"\n",
        "Solution().countBalancedPermutations(num=num)"
      ]
    }
  ],
  "metadata": {
    "kernelspec": {
      "display_name": "Python 3",
      "language": "python",
      "name": "python3"
    },
    "language_info": {
      "codemirror_mode": {
        "name": "ipython",
        "version": 3
      },
      "file_extension": ".py",
      "mimetype": "text/x-python",
      "name": "python",
      "nbconvert_exporter": "python",
      "pygments_lexer": "ipython3",
      "version": "3.12.8"
    }
  },
  "nbformat": 4,
  "nbformat_minor": 2
}
