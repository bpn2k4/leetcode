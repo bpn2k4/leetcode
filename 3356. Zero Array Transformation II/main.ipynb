{
  "cells": [
    {
      "cell_type": "code",
      "execution_count": null,
      "metadata": {},
      "outputs": [],
      "source": [
        "from typing import List\n",
        "\n",
        "\n",
        "class Solution:\n",
        "  def minZeroArray(self, nums: List[int], queries: List[List[int]]) -> int:\n",
        "    n = len(nums)\n",
        "\n",
        "    def is_valid(num_queries):\n",
        "      delta = [0] * (n + 1)\n",
        "\n",
        "      for i in range(num_queries):\n",
        "        left, right, value = queries[i]\n",
        "        delta[left] -= value\n",
        "        if right + 1 < n:\n",
        "          delta[right + 1] += value\n",
        "\n",
        "      updated_nums = nums.copy()\n",
        "      cumulative_sum = 0\n",
        "      for i in range(n):\n",
        "        cumulative_sum += delta[i]\n",
        "        updated_nums[i] += cumulative_sum\n",
        "        if updated_nums[i] > 0:\n",
        "          return False\n",
        "\n",
        "      return True\n",
        "\n",
        "    left = 0\n",
        "    right = len(queries)\n",
        "    result = -1\n",
        "\n",
        "    while left <= right:\n",
        "      mid = (left + right) // 2\n",
        "      if is_valid(mid):\n",
        "        result = mid\n",
        "        right = mid - 1\n",
        "      else:\n",
        "        left = mid + 1\n",
        "\n",
        "    return result"
      ]
    },
    {
      "cell_type": "code",
      "execution_count": 2,
      "metadata": {},
      "outputs": [
        {
          "data": {
            "text/plain": [
              "2"
            ]
          },
          "execution_count": 2,
          "metadata": {},
          "output_type": "execute_result"
        }
      ],
      "source": [
        "nums = [2, 0, 2]\n",
        "queries = [[0, 2, 1], [0, 2, 1], [1, 1, 3]]\n",
        "Solution().minZeroArray(nums=nums, queries=queries)"
      ]
    },
    {
      "cell_type": "code",
      "execution_count": 3,
      "metadata": {},
      "outputs": [
        {
          "data": {
            "text/plain": [
              "-1"
            ]
          },
          "execution_count": 3,
          "metadata": {},
          "output_type": "execute_result"
        }
      ],
      "source": [
        "nums = [4, 3, 2, 1]\n",
        "queries = [[1, 3, 2], [0, 2, 1]]\n",
        "Solution().minZeroArray(nums=nums, queries=queries)"
      ]
    }
  ],
  "metadata": {
    "kernelspec": {
      "display_name": "Python 3",
      "language": "python",
      "name": "python3"
    },
    "language_info": {
      "codemirror_mode": {
        "name": "ipython",
        "version": 3
      },
      "file_extension": ".py",
      "mimetype": "text/x-python",
      "name": "python",
      "nbconvert_exporter": "python",
      "pygments_lexer": "ipython3",
      "version": "3.12.1"
    }
  },
  "nbformat": 4,
  "nbformat_minor": 2
}
