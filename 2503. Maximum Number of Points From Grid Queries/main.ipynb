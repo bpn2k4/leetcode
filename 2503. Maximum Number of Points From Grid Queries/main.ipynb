{
  "cells": [
    {
      "cell_type": "code",
      "execution_count": 1,
      "metadata": {},
      "outputs": [],
      "source": [
        "from typing import List\n",
        "import heapq\n",
        "\n",
        "\n",
        "class Solution:\n",
        "  def maxPoints(self, grid: List[List[int]], queries: List[int]) -> List[int]:\n",
        "\n",
        "    m, n = len(grid), len(grid[0])\n",
        "    queries_sorted = sorted(enumerate(queries), key=lambda x: x[1])\n",
        "    answer = [0] * len(queries)\n",
        "\n",
        "    visited = [[False] * n for _ in range(m)]\n",
        "    min_heap = [(grid[0][0], 0, 0)]\n",
        "    visited[0][0] = True\n",
        "    total_points = 0\n",
        "\n",
        "    directions = [(-1, 0), (1, 0), (0, -1), (0, 1)]\n",
        "\n",
        "    for index, q in queries_sorted:\n",
        "      while min_heap and min_heap[0][0] < q:\n",
        "        _, x, y = heapq.heappop(min_heap)\n",
        "        total_points += 1\n",
        "\n",
        "        for dx, dy in directions:\n",
        "          nx, ny = x + dx, y + dy\n",
        "          if 0 <= nx < m and 0 <= ny < n and not visited[nx][ny]:\n",
        "            heapq.heappush(min_heap, (grid[nx][ny], nx, ny))\n",
        "            visited[nx][ny] = True\n",
        "\n",
        "      answer[index] = total_points\n",
        "\n",
        "    return answer"
      ]
    },
    {
      "cell_type": "code",
      "execution_count": 2,
      "metadata": {},
      "outputs": [
        {
          "data": {
            "text/plain": [
              "[5, 8, 1]"
            ]
          },
          "execution_count": 2,
          "metadata": {},
          "output_type": "execute_result"
        }
      ],
      "source": [
        "grid = [[1, 2, 3], [2, 5, 7], [3, 5, 1]]\n",
        "queries = [5, 6, 2]\n",
        "Solution().maxPoints(grid=grid, queries=queries)"
      ]
    },
    {
      "cell_type": "code",
      "execution_count": 3,
      "metadata": {},
      "outputs": [
        {
          "data": {
            "text/plain": [
              "[0]"
            ]
          },
          "execution_count": 3,
          "metadata": {},
          "output_type": "execute_result"
        }
      ],
      "source": [
        "grid = [[5, 2, 1], [1, 1, 2]]\n",
        "queries = [3]\n",
        "Solution().maxPoints(grid=grid, queries=queries)"
      ]
    }
  ],
  "metadata": {
    "kernelspec": {
      "display_name": "Python 3",
      "language": "python",
      "name": "python3"
    },
    "language_info": {
      "codemirror_mode": {
        "name": "ipython",
        "version": 3
      },
      "file_extension": ".py",
      "mimetype": "text/x-python",
      "name": "python",
      "nbconvert_exporter": "python",
      "pygments_lexer": "ipython3",
      "version": "3.12.1"
    }
  },
  "nbformat": 4,
  "nbformat_minor": 2
}
