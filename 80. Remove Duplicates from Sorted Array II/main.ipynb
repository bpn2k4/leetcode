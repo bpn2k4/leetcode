{
 "cells": [
  {
   "cell_type": "code",
   "execution_count": 1,
   "metadata": {},
   "outputs": [],
   "source": [
    "from typing import List\n",
    "\n",
    "\n",
    "class Solution:\n",
    "  def removeDuplicates(self, nums: List[int]) -> int:\n",
    "    \n",
    "    mark = [0] * 20001\n",
    "    k = 0\n",
    "    for num in nums:\n",
    "      if mark[num + 10000] < 2:\n",
    "        mark[num + 10000] += 1\n",
    "        nums[k] = num\n",
    "        k += 1\n",
    "      \n",
    "    return k\n",
    "  \n",
    "  def removeDuplicates(self, nums: List[int]) -> int:\n",
    "\n",
    "    pointer = 1\n",
    "    for i in range(1, len(nums)):\n",
    "      if i > 1:\n",
    "        if nums[i] == nums[pointer - 1] and nums[i] == nums[pointer - 2]:\n",
    "          continue\n",
    "      nums[pointer] = nums[i]\n",
    "      pointer += 1\n",
    "\n",
    "    return pointer"
   ]
  },
  {
   "cell_type": "code",
   "execution_count": 2,
   "metadata": {},
   "outputs": [
    {
     "data": {
      "text/plain": [
       "(5, [1, 1, 2, 2, 3, 3])"
      ]
     },
     "execution_count": 2,
     "metadata": {},
     "output_type": "execute_result"
    }
   ],
   "source": [
    "nums = [1, 1, 1, 2, 2, 3]\n",
    "Solution().removeDuplicates(nums=nums), nums"
   ]
  },
  {
   "cell_type": "code",
   "execution_count": 3,
   "metadata": {},
   "outputs": [
    {
     "data": {
      "text/plain": [
       "(7, [0, 0, 1, 1, 2, 3, 3, 3, 3])"
      ]
     },
     "execution_count": 3,
     "metadata": {},
     "output_type": "execute_result"
    }
   ],
   "source": [
    "nums = [0, 0, 1, 1, 1, 1, 2, 3, 3]\n",
    "Solution().removeDuplicates(nums=nums), nums"
   ]
  }
 ],
 "metadata": {
  "kernelspec": {
   "display_name": "base",
   "language": "python",
   "name": "python3"
  },
  "language_info": {
   "codemirror_mode": {
    "name": "ipython",
    "version": 3
   },
   "file_extension": ".py",
   "mimetype": "text/x-python",
   "name": "python",
   "nbconvert_exporter": "python",
   "pygments_lexer": "ipython3",
   "version": "3.11.7"
  }
 },
 "nbformat": 4,
 "nbformat_minor": 2
}
