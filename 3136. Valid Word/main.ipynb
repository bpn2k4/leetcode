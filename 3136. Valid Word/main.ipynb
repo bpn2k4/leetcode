{
  "cells": [
    {
      "cell_type": "code",
      "execution_count": 1,
      "metadata": {},
      "outputs": [],
      "source": [
        "class Solution:\n",
        "  def isValid(self, word: str) -> bool:\n",
        "    \n",
        "    vowels = {'a': 1, 'e': 1, 'i': 1, 'o': 1, 'u': 1}\n",
        "    is_alpha_num = True\n",
        "    has_vowel = False\n",
        "    has_consonant = False\n",
        "    for char in word:\n",
        "      if char.lower() in vowels:\n",
        "        has_vowel = True\n",
        "        continue\n",
        "\n",
        "      if char.isalpha():\n",
        "        has_consonant = True\n",
        "        continue\n",
        "\n",
        "      if char.isdigit():\n",
        "        continue\n",
        "\n",
        "      is_alpha_num = False\n",
        "      break\n",
        "\n",
        "    return len(word) >= 3 and is_alpha_num and has_vowel and has_consonant"
      ]
    },
    {
      "cell_type": "code",
      "execution_count": 2,
      "metadata": {},
      "outputs": [
        {
          "data": {
            "text/plain": [
              "True"
            ]
          },
          "execution_count": 2,
          "metadata": {},
          "output_type": "execute_result"
        }
      ],
      "source": [
        "word = \"234Adas\"\n",
        "Solution().isValid(word=word)"
      ]
    },
    {
      "cell_type": "code",
      "execution_count": 3,
      "metadata": {},
      "outputs": [
        {
          "data": {
            "text/plain": [
              "False"
            ]
          },
          "execution_count": 3,
          "metadata": {},
          "output_type": "execute_result"
        }
      ],
      "source": [
        "word = \"b3\"\n",
        "Solution().isValid(word=word)"
      ]
    },
    {
      "cell_type": "code",
      "execution_count": 4,
      "metadata": {},
      "outputs": [
        {
          "data": {
            "text/plain": [
              "False"
            ]
          },
          "execution_count": 4,
          "metadata": {},
          "output_type": "execute_result"
        }
      ],
      "source": [
        "word = \"a3$e\"\n",
        "Solution().isValid(word=word)"
      ]
    }
  ],
  "metadata": {
    "kernelspec": {
      "display_name": "Python 3",
      "language": "python",
      "name": "python3"
    },
    "language_info": {
      "codemirror_mode": {
        "name": "ipython",
        "version": 3
      },
      "file_extension": ".py",
      "mimetype": "text/x-python",
      "name": "python",
      "nbconvert_exporter": "python",
      "pygments_lexer": "ipython3",
      "version": "3.12.8"
    }
  },
  "nbformat": 4,
  "nbformat_minor": 2
}
