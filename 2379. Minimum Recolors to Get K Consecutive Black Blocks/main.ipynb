{
  "cells": [
    {
      "cell_type": "code",
      "execution_count": 1,
      "metadata": {},
      "outputs": [],
      "source": [
        "class Solution:\n",
        "  def minimumRecolors(self, blocks: str, k: int) -> int:\n",
        "    \n",
        "    BLACK = 'B'\n",
        "    n = len(blocks)\n",
        "    sliding = 0\n",
        "    for i in range(k):\n",
        "      if blocks[i] == BLACK:\n",
        "        sliding += 1\n",
        "    \n",
        "    maximum_black = sliding\n",
        "    for i in range(k, n):\n",
        "      if blocks[i] == BLACK:\n",
        "        sliding += 1\n",
        "      if blocks[i - k] == BLACK:\n",
        "        sliding -= 1\n",
        "      maximum_black = max(maximum_black, sliding)\n",
        "    \n",
        "    return k - maximum_black"
      ]
    },
    {
      "cell_type": "code",
      "execution_count": 2,
      "metadata": {},
      "outputs": [
        {
          "data": {
            "text/plain": [
              "3"
            ]
          },
          "execution_count": 2,
          "metadata": {},
          "output_type": "execute_result"
        }
      ],
      "source": [
        "blocks = \"WBBWWBBWBW\"\n",
        "k = 7\n",
        "Solution().minimumRecolors(blocks=blocks, k=k)"
      ]
    },
    {
      "cell_type": "code",
      "execution_count": 3,
      "metadata": {},
      "outputs": [
        {
          "data": {
            "text/plain": [
              "0"
            ]
          },
          "execution_count": 3,
          "metadata": {},
          "output_type": "execute_result"
        }
      ],
      "source": [
        "blocks = \"WBWBBBW\"\n",
        "k = 2\n",
        "Solution().minimumRecolors(blocks=blocks, k=k)"
      ]
    }
  ],
  "metadata": {
    "kernelspec": {
      "display_name": "Python 3",
      "language": "python",
      "name": "python3"
    },
    "language_info": {
      "codemirror_mode": {
        "name": "ipython",
        "version": 3
      },
      "file_extension": ".py",
      "mimetype": "text/x-python",
      "name": "python",
      "nbconvert_exporter": "python",
      "pygments_lexer": "ipython3",
      "version": "3.12.1"
    }
  },
  "nbformat": 4,
  "nbformat_minor": 2
}
