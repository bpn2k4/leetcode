{
  "cells": [
    {
      "cell_type": "code",
      "execution_count": 1,
      "metadata": {},
      "outputs": [],
      "source": [
        "from typing import List\n",
        "from collections import deque\n",
        "\n",
        "\n",
        "class Solution:\n",
        "  def snakesAndLadders(self, board: List[List[int]]) -> int:\n",
        "\n",
        "    n = len(board)\n",
        "\n",
        "    def get_position(s):\n",
        "      quot, rem = divmod(s - 1, n)\n",
        "      row = n - 1 - quot\n",
        "      col = rem if quot % 2 == 0 else n - 1 - rem\n",
        "      return row, col\n",
        "\n",
        "    visited = set()\n",
        "    queue = deque()\n",
        "    queue.append((1, 0))\n",
        "\n",
        "    while queue:\n",
        "      curr, moves = queue.popleft()\n",
        "      for i in range(1, 7):\n",
        "        next_square = curr + i\n",
        "        if next_square > n * n:\n",
        "          continue\n",
        "        row, col = get_position(next_square)\n",
        "        if board[row][col] != -1:\n",
        "          next_square = board[row][col]\n",
        "        if next_square == n * n:\n",
        "          return moves + 1\n",
        "        if next_square not in visited:\n",
        "          visited.add(next_square)\n",
        "          queue.append((next_square, moves + 1))\n",
        "\n",
        "    return -1"
      ]
    },
    {
      "cell_type": "code",
      "execution_count": 2,
      "metadata": {},
      "outputs": [
        {
          "data": {
            "text/plain": [
              "4"
            ]
          },
          "execution_count": 2,
          "metadata": {},
          "output_type": "execute_result"
        }
      ],
      "source": [
        "board = [\n",
        "    [-1, -1, -1, -1, -1, -1],\n",
        "    [-1, -1, -1, -1, -1, -1],\n",
        "    [-1, -1, -1, -1, -1, -1],\n",
        "    [-1, 35, -1, -1, 13, -1],\n",
        "    [-1, -1, -1, -1, -1, -1],\n",
        "    [-1, 15, -1, -1, -1, -1]\n",
        "]\n",
        "Solution().snakesAndLadders(board=board)"
      ]
    },
    {
      "cell_type": "code",
      "execution_count": 3,
      "metadata": {},
      "outputs": [
        {
          "data": {
            "text/plain": [
              "1"
            ]
          },
          "execution_count": 3,
          "metadata": {},
          "output_type": "execute_result"
        }
      ],
      "source": [
        "board = [[-1, -1], [-1, 3]]\n",
        "Solution().snakesAndLadders(board=board)"
      ]
    }
  ],
  "metadata": {
    "kernelspec": {
      "display_name": "Python 3",
      "language": "python",
      "name": "python3"
    },
    "language_info": {
      "codemirror_mode": {
        "name": "ipython",
        "version": 3
      },
      "file_extension": ".py",
      "mimetype": "text/x-python",
      "name": "python",
      "nbconvert_exporter": "python",
      "pygments_lexer": "ipython3",
      "version": "3.12.8"
    }
  },
  "nbformat": 4,
  "nbformat_minor": 2
}
