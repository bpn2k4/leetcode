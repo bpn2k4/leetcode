{
 "cells": [
  {
   "cell_type": "code",
   "execution_count": 1,
   "metadata": {},
   "outputs": [],
   "source": [
    "from typing import List\n",
    "\n",
    "\n",
    "class Solution:\n",
    "  def removeDuplicates(self, nums: List[int]) -> int:\n",
    "\n",
    "    mark = [0] * 201\n",
    "    k = 0\n",
    "    for num in nums:\n",
    "      if mark[num + 100] == 0:\n",
    "        mark[num + 100] = 1\n",
    "        nums[k] = num\n",
    "        k += 1\n",
    "\n",
    "    return k\n",
    "  \n",
    "  def removeDuplicates(self, nums: List[int]) -> int:\n",
    "    \n",
    "    pointer = 1\n",
    "    for i in range(1, len(nums)):\n",
    "      if nums[i] != nums[i - 1]:\n",
    "        nums[pointer] = nums[i]\n",
    "        pointer += 1\n",
    "\n",
    "    return pointer"
   ]
  },
  {
   "cell_type": "code",
   "execution_count": 2,
   "metadata": {},
   "outputs": [
    {
     "data": {
      "text/plain": [
       "(2, [1, 2, 2])"
      ]
     },
     "execution_count": 2,
     "metadata": {},
     "output_type": "execute_result"
    }
   ],
   "source": [
    "nums=[1, 1, 2]\n",
    "Solution().removeDuplicates(nums=nums), nums"
   ]
  },
  {
   "cell_type": "code",
   "execution_count": 3,
   "metadata": {},
   "outputs": [
    {
     "data": {
      "text/plain": [
       "(5, [0, 1, 2, 3, 4, 2, 2, 3, 3, 4])"
      ]
     },
     "execution_count": 3,
     "metadata": {},
     "output_type": "execute_result"
    }
   ],
   "source": [
    "nums=[0, 0, 1, 1, 1, 2, 2, 3, 3, 4]\n",
    "Solution().removeDuplicates(nums=nums), nums"
   ]
  }
 ],
 "metadata": {
  "kernelspec": {
   "display_name": "base",
   "language": "python",
   "name": "python3"
  },
  "language_info": {
   "codemirror_mode": {
    "name": "ipython",
    "version": 3
   },
   "file_extension": ".py",
   "mimetype": "text/x-python",
   "name": "python",
   "nbconvert_exporter": "python",
   "pygments_lexer": "ipython3",
   "version": "3.11.7"
  }
 },
 "nbformat": 4,
 "nbformat_minor": 2
}
