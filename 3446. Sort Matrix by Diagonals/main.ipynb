{
  "cells": [
    {
      "cell_type": "code",
      "execution_count": 1,
      "metadata": {},
      "outputs": [],
      "source": [
        "from typing import List\n",
        "\n",
        "\n",
        "class Solution:\n",
        "  def sortMatrix(self, grid: List[List[int]]) -> List[List[int]]:\n",
        "\n",
        "    n = len(grid)\n",
        "    for i in range(n):\n",
        "      tmp = [grid[i + j][j] for j in range(n - i)]\n",
        "      tmp.sort(reverse=True)\n",
        "      for j in range(n - i):\n",
        "        grid[i + j][j] = tmp[j]\n",
        "\n",
        "    for j in range(1, n):\n",
        "      tmp = [grid[i][j + i] for i in range(n - j)]\n",
        "      tmp.sort()\n",
        "      for i in range(n - j):\n",
        "        grid[i][j + i] = tmp[i]\n",
        "\n",
        "    return grid"
      ]
    },
    {
      "cell_type": "code",
      "execution_count": 2,
      "metadata": {},
      "outputs": [
        {
          "data": {
            "text/plain": [
              "[[8, 2, 3], [9, 6, 7], [4, 5, 1]]"
            ]
          },
          "execution_count": 2,
          "metadata": {},
          "output_type": "execute_result"
        }
      ],
      "source": [
        "grid = [[1, 7, 3], [9, 8, 2], [4, 5, 6]]\n",
        "Solution().sortMatrix(grid=grid)"
      ]
    },
    {
      "cell_type": "code",
      "execution_count": 3,
      "metadata": {},
      "outputs": [
        {
          "data": {
            "text/plain": [
              "[[2, 1], [1, 0]]"
            ]
          },
          "execution_count": 3,
          "metadata": {},
          "output_type": "execute_result"
        }
      ],
      "source": [
        "grid = [[0, 1], [1, 2]]\n",
        "Solution().sortMatrix(grid=grid)"
      ]
    },
    {
      "cell_type": "code",
      "execution_count": 4,
      "metadata": {},
      "outputs": [
        {
          "data": {
            "text/plain": [
              "[[1]]"
            ]
          },
          "execution_count": 4,
          "metadata": {},
          "output_type": "execute_result"
        }
      ],
      "source": [
        "grid = [[1]]\n",
        "Solution().sortMatrix(grid=grid)"
      ]
    }
  ],
  "metadata": {
    "kernelspec": {
      "display_name": "Python 3",
      "language": "python",
      "name": "python3"
    },
    "language_info": {
      "codemirror_mode": {
        "name": "ipython",
        "version": 3
      },
      "file_extension": ".py",
      "mimetype": "text/x-python",
      "name": "python",
      "nbconvert_exporter": "python",
      "pygments_lexer": "ipython3",
      "version": "3.12.8"
    }
  },
  "nbformat": 4,
  "nbformat_minor": 2
}
