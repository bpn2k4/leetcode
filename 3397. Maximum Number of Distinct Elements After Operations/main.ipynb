{
  "cells": [
    {
      "cell_type": "code",
      "execution_count": 1,
      "metadata": {},
      "outputs": [],
      "source": [
        "from typing import List\n",
        "\n",
        "\n",
        "class Solution:\n",
        "  def maxDistinctElements(self, nums: List[int], k: int) -> int:\n",
        "    \n",
        "    count = 0\n",
        "    nums.sort()\n",
        "    prev = -1\n",
        "    for num in nums:\n",
        "      number = min(max(num - k, prev + 1), num + k)\n",
        "      if number > prev:\n",
        "        count += 1\n",
        "        prev = number\n",
        "    \n",
        "    return count"
      ]
    },
    {
      "cell_type": "code",
      "execution_count": 2,
      "metadata": {},
      "outputs": [
        {
          "data": {
            "text/plain": [
              "6"
            ]
          },
          "execution_count": 2,
          "metadata": {},
          "output_type": "execute_result"
        }
      ],
      "source": [
        "nums = [1, 2, 2, 3, 3, 4]\n",
        "k = 2\n",
        "Solution().maxDistinctElements(nums=nums, k=k)"
      ]
    },
    {
      "cell_type": "code",
      "execution_count": 3,
      "metadata": {},
      "outputs": [
        {
          "data": {
            "text/plain": [
              "3"
            ]
          },
          "execution_count": 3,
          "metadata": {},
          "output_type": "execute_result"
        }
      ],
      "source": [
        "nums = [4, 4, 4, 4]\n",
        "k = 1\n",
        "Solution().maxDistinctElements(nums=nums, k=k)"
      ]
    }
  ],
  "metadata": {
    "kernelspec": {
      "display_name": "Python 3",
      "language": "python",
      "name": "python3"
    },
    "language_info": {
      "codemirror_mode": {
        "name": "ipython",
        "version": 3
      },
      "file_extension": ".py",
      "mimetype": "text/x-python",
      "name": "python",
      "nbconvert_exporter": "python",
      "pygments_lexer": "ipython3",
      "version": "3.12.8"
    }
  },
  "nbformat": 4,
  "nbformat_minor": 2
}
