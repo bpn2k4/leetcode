{
 "cells": [
  {
   "cell_type": "code",
   "execution_count": 28,
   "metadata": {},
   "outputs": [],
   "source": [
    "from typing import List\n",
    "\n",
    "\n",
    "class KthLargest:\n",
    "\n",
    "  def __init__(self, k: int, nums: List[int]):\n",
    "    self.k = k\n",
    "    self.arr = nums\n",
    "    self.arr.sort(reverse=True)\n",
    "\n",
    "  def add(self, val: int) -> int:\n",
    "    nums_of_elements = len(self.arr)\n",
    "    index = 0\n",
    "    while True:\n",
    "      if index == nums_of_elements:\n",
    "        break\n",
    "      if self.arr[index] < val:\n",
    "        break\n",
    "      index += 1\n",
    "    self.arr.insert(index, val)\n",
    "    return self.arr[self.k-1]\n",
    "  \n",
    "  def add(self, val: int) -> int:\n",
    "    left = 0\n",
    "    right = len(self.arr)\n",
    "    while left < right:\n",
    "      mid = (left + right) // 2\n",
    "      if self.arr[mid] > val:\n",
    "        left = mid + 1\n",
    "      else:\n",
    "        right = mid\n",
    "    self.arr.insert(right, val)\n",
    "    return self.arr[self.k-1]\n",
    "        \n",
    "  "
   ]
  },
  {
   "cell_type": "code",
   "execution_count": 29,
   "metadata": {},
   "outputs": [
    {
     "data": {
      "text/plain": [
       "(4, 5, 5, 8, 8)"
      ]
     },
     "execution_count": 29,
     "metadata": {},
     "output_type": "execute_result"
    }
   ],
   "source": [
    "kthLargest = KthLargest(3, [4, 5, 8, 2])\n",
    "kthLargest.add(3), kthLargest.add(5), kthLargest.add(10), kthLargest.add(9), kthLargest.add(4)"
   ]
  }
 ],
 "metadata": {
  "kernelspec": {
   "display_name": "base",
   "language": "python",
   "name": "python3"
  },
  "language_info": {
   "codemirror_mode": {
    "name": "ipython",
    "version": 3
   },
   "file_extension": ".py",
   "mimetype": "text/x-python",
   "name": "python",
   "nbconvert_exporter": "python",
   "pygments_lexer": "ipython3",
   "version": "3.11.7"
  }
 },
 "nbformat": 4,
 "nbformat_minor": 2
}
