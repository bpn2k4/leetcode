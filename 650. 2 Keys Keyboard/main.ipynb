{
 "cells": [
  {
   "cell_type": "code",
   "execution_count": 1,
   "metadata": {},
   "outputs": [],
   "source": [
    "class Solution:\n",
    "  def minSteps(self, n: int) -> int:\n",
    "    operations = 0\n",
    "    factor = 2\n",
    "\n",
    "    while n > 1:\n",
    "      while n % factor == 0:\n",
    "        operations += factor\n",
    "        n //= factor\n",
    "      factor += 1\n",
    "\n",
    "    return operations\n",
    "\n",
    "  def minSteps(self, n: int) -> int:\n",
    "    dp = [0] * (n + 1)\n",
    "\n",
    "    for i in range(2, n + 1):\n",
    "      dp[i] = i\n",
    "      for j in range(1, i//2 + 1):\n",
    "        if i % j == 0:\n",
    "          dp[i] = min(dp[i], dp[j] + (i // j))\n",
    "\n",
    "    return dp[n]"
   ]
  },
  {
   "cell_type": "code",
   "execution_count": 2,
   "metadata": {},
   "outputs": [
    {
     "data": {
      "text/plain": [
       "3"
      ]
     },
     "execution_count": 2,
     "metadata": {},
     "output_type": "execute_result"
    }
   ],
   "source": [
    "Solution().minSteps(n=3)"
   ]
  },
  {
   "cell_type": "code",
   "execution_count": 3,
   "metadata": {},
   "outputs": [
    {
     "data": {
      "text/plain": [
       "0"
      ]
     },
     "execution_count": 3,
     "metadata": {},
     "output_type": "execute_result"
    }
   ],
   "source": [
    "Solution().minSteps(n=1)"
   ]
  }
 ],
 "metadata": {
  "kernelspec": {
   "display_name": "base",
   "language": "python",
   "name": "python3"
  },
  "language_info": {
   "codemirror_mode": {
    "name": "ipython",
    "version": 3
   },
   "file_extension": ".py",
   "mimetype": "text/x-python",
   "name": "python",
   "nbconvert_exporter": "python",
   "pygments_lexer": "ipython3",
   "version": "3.11.7"
  }
 },
 "nbformat": 4,
 "nbformat_minor": 2
}
