{
  "cells": [
    {
      "cell_type": "code",
      "execution_count": 1,
      "metadata": {},
      "outputs": [],
      "source": [
        "class Solution:\n",
        "  def longestDiverseString(self, a: int, b: int, c: int) -> str:\n",
        "\n",
        "    longest_string = ''\n",
        "    counts = [['a', a], ['b', b], ['c', c]]\n",
        "\n",
        "    while True:\n",
        "      counts.sort(key=lambda x: -x[1])\n",
        "      added = False\n",
        "\n",
        "      for i in range(3):\n",
        "        char, count = counts[i]\n",
        "        if len(longest_string) >= 2 and longest_string[-1] == longest_string[-2] == char:\n",
        "          continue\n",
        "        if count > 0:\n",
        "          longest_string += char\n",
        "          counts[i][1] -= 1\n",
        "          added = True\n",
        "          break\n",
        "\n",
        "      if not added:\n",
        "        break\n",
        "\n",
        "    return longest_string"
      ]
    },
    {
      "cell_type": "code",
      "execution_count": 2,
      "metadata": {},
      "outputs": [
        {
          "data": {
            "text/plain": [
              "'ccaccbcc'"
            ]
          },
          "execution_count": 2,
          "metadata": {},
          "output_type": "execute_result"
        }
      ],
      "source": [
        "a = 1\n",
        "b = 1\n",
        "c = 7\n",
        "Solution().longestDiverseString(a=a, b=b, c=c)"
      ]
    },
    {
      "cell_type": "code",
      "execution_count": 3,
      "metadata": {},
      "outputs": [
        {
          "data": {
            "text/plain": [
              "'aabaa'"
            ]
          },
          "execution_count": 3,
          "metadata": {},
          "output_type": "execute_result"
        }
      ],
      "source": [
        "a = 7\n",
        "b = 1\n",
        "c = 0\n",
        "Solution().longestDiverseString(a=a, b=b, c=c)"
      ]
    }
  ],
  "metadata": {
    "kernelspec": {
      "display_name": "base",
      "language": "python",
      "name": "python3"
    },
    "language_info": {
      "codemirror_mode": {
        "name": "ipython",
        "version": 3
      },
      "file_extension": ".py",
      "mimetype": "text/x-python",
      "name": "python",
      "nbconvert_exporter": "python",
      "pygments_lexer": "ipython3",
      "version": "3.11.7"
    }
  },
  "nbformat": 4,
  "nbformat_minor": 2
}
