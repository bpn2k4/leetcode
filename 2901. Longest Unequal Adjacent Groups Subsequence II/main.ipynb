{
  "cells": [
    {
      "cell_type": "code",
      "execution_count": 1,
      "metadata": {},
      "outputs": [],
      "source": [
        "from typing import List\n",
        "\n",
        "\n",
        "class Solution:\n",
        "  def getWordsInLongestSubsequence(self, words: List[str], groups: List[int]) -> List[str]:\n",
        "\n",
        "    def hamming(s1: str, s2: str) -> bool:\n",
        "      if len(s1) != len(s2):\n",
        "        return False\n",
        "\n",
        "      diff = 0\n",
        "      for i, j in zip(s1, s2):\n",
        "        if i != j:\n",
        "          diff += 1\n",
        "          if diff > 1:\n",
        "            return False\n",
        "      \n",
        "      return diff == 1\n",
        "    \n",
        "    n = len(words)\n",
        "    dp = [1] * n\n",
        "    next = [-1] * n\n",
        "    max_length = 0\n",
        "    start = -1\n",
        "    for i in range(n - 1, -1, -1):\n",
        "      for j in range(i + 1, n):\n",
        "        if groups[i] != groups[j] and hamming(words[i], words[j]):\n",
        "          if dp[i] < dp[j] + 1:\n",
        "            dp[i] = dp[j] + 1\n",
        "            next[i] = j\n",
        "            \n",
        "      if dp[i] > max_length:\n",
        "        max_length = dp[i]\n",
        "        start = i\n",
        "\n",
        "    res = []\n",
        "    while start != -1:\n",
        "      res.append(words[start])\n",
        "      start = next[start]\n",
        "\n",
        "    return res"
      ]
    },
    {
      "cell_type": "code",
      "execution_count": 2,
      "metadata": {},
      "outputs": [
        {
          "data": {
            "text/plain": [
              "['bab', 'dab']"
            ]
          },
          "execution_count": 2,
          "metadata": {},
          "output_type": "execute_result"
        }
      ],
      "source": [
        "words = [\"bab\", \"dab\", \"cab\"]\n",
        "groups = [1, 2, 2]\n",
        "Solution().getWordsInLongestSubsequence(words=words, groups=groups)"
      ]
    },
    {
      "cell_type": "code",
      "execution_count": 3,
      "metadata": {},
      "outputs": [
        {
          "data": {
            "text/plain": [
              "['a', 'b', 'c', 'd']"
            ]
          },
          "execution_count": 3,
          "metadata": {},
          "output_type": "execute_result"
        }
      ],
      "source": [
        "words = [\"a\", \"b\", \"c\", \"d\"]\n",
        "groups = [1, 2, 3, 4]\n",
        "Solution().getWordsInLongestSubsequence(words=words, groups=groups)"
      ]
    }
  ],
  "metadata": {
    "kernelspec": {
      "display_name": "Python 3",
      "language": "python",
      "name": "python3"
    },
    "language_info": {
      "codemirror_mode": {
        "name": "ipython",
        "version": 3
      },
      "file_extension": ".py",
      "mimetype": "text/x-python",
      "name": "python",
      "nbconvert_exporter": "python",
      "pygments_lexer": "ipython3",
      "version": "3.12.8"
    }
  },
  "nbformat": 4,
  "nbformat_minor": 2
}
