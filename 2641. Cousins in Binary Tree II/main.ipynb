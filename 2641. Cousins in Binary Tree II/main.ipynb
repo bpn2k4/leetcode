{
 "cells": [
  {
   "cell_type": "code",
   "execution_count": 1,
   "metadata": {},
   "outputs": [],
   "source": [
    "from typing import Optional\n",
    "\n",
    "\n",
    "class TreeNode:\n",
    "  def __init__(self, val=0, left=None, right=None):\n",
    "    self.val: int = val\n",
    "    self.left: TreeNode = left\n",
    "    self.right: TreeNode = right\n",
    "\n",
    "\n",
    "class Solution:\n",
    "  def replaceValueInTree(self, root: Optional[TreeNode]) -> Optional[TreeNode]:\n",
    "    \n",
    "    mark = {}\n",
    "\n",
    "    def first_order(node: TreeNode, level: int):\n",
    "\n",
    "      if not node:\n",
    "        return\n",
    "\n",
    "      mark[level] = mark.get(level, 0) + node.val\n",
    "\n",
    "      first_order(node.left, level + 1)\n",
    "      first_order(node.right, level + 1)\n",
    "\n",
    "\n",
    "    def second_order(node: TreeNode, sibling: int, level: int):\n",
    "\n",
    "      if not node:\n",
    "        return\n",
    "\n",
    "      if node.right:\n",
    "        right_sibling = node.right.val\n",
    "      else:\n",
    "        right_sibling = 0\n",
    "      \n",
    "      if node.left:\n",
    "        left_sibling = node.left.val\n",
    "      else:\n",
    "        left_sibling = 0\n",
    "      second_order(node.left, right_sibling, level + 1)\n",
    "      second_order(node.right, left_sibling, level + 1)\n",
    "\n",
    "      val = mark[level] - node.val - sibling\n",
    "      node.val = val\n",
    "\n",
    "\n",
    "    first_order(root, 0)\n",
    "    second_order(root, 0, 0)\n",
    "    \n",
    "    return root\n"
   ]
  },
  {
   "cell_type": "code",
   "execution_count": 2,
   "metadata": {},
   "outputs": [],
   "source": [
    "def print_tree(root: TreeNode):\n",
    "\n",
    "  result = []\n",
    "\n",
    "  q = [root]\n",
    "  while q:\n",
    "    node = q.pop(0)\n",
    "    if node:\n",
    "      result.append(node.val)\n",
    "      q.append(node.left)\n",
    "      q.append(node.right)\n",
    "    else:\n",
    "      result.append(None)\n",
    "\n",
    "  while result and result[-1] is None:\n",
    "    result.pop()\n",
    "\n",
    "  print(result)\n"
   ]
  },
  {
   "cell_type": "code",
   "execution_count": 3,
   "metadata": {},
   "outputs": [
    {
     "name": "stdout",
     "output_type": "stream",
     "text": [
      "[5, 4, 9, 1, 10, None, 7]\n",
      "[0, 0, 0, 7, 7, None, 11]\n"
     ]
    }
   ],
   "source": [
    "root = TreeNode(5)\n",
    "root.left = TreeNode(4)\n",
    "root.right = TreeNode(9)\n",
    "root.left.left = TreeNode(1)\n",
    "root.left.right = TreeNode(10)\n",
    "root.right.right = TreeNode(7)\n",
    "print_tree(root)\n",
    "print_tree(Solution().replaceValueInTree(root))"
   ]
  },
  {
   "cell_type": "code",
   "execution_count": 4,
   "metadata": {},
   "outputs": [
    {
     "name": "stdout",
     "output_type": "stream",
     "text": [
      "[3, 1, 2]\n",
      "[0, 0, 0]\n"
     ]
    }
   ],
   "source": [
    "root = TreeNode(3)\n",
    "root.left = TreeNode(1)\n",
    "root.right = TreeNode(2)\n",
    "print_tree(root)\n",
    "print_tree(Solution().replaceValueInTree(root))"
   ]
  }
 ],
 "metadata": {
  "kernelspec": {
   "display_name": "base",
   "language": "python",
   "name": "python3"
  },
  "language_info": {
   "codemirror_mode": {
    "name": "ipython",
    "version": 3
   },
   "file_extension": ".py",
   "mimetype": "text/x-python",
   "name": "python",
   "nbconvert_exporter": "python",
   "pygments_lexer": "ipython3",
   "version": "3.11.7"
  }
 },
 "nbformat": 4,
 "nbformat_minor": 2
}
