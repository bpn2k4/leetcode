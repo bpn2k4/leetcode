{
  "cells": [
    {
      "cell_type": "code",
      "execution_count": 4,
      "metadata": {},
      "outputs": [],
      "source": [
        "from typing import List\n",
        "\n",
        "\n",
        "class Solution:\n",
        "  def successfulPairs(self, spells: List[int], potions: List[int], success: int) -> List[int]:\n",
        "    \n",
        "    potions.sort()\n",
        "    res = []\n",
        "    for spell in spells:\n",
        "      l, r = 0, len(potions) - 1\n",
        "      while l <= r:\n",
        "        mid = (l + r) // 2\n",
        "        if potions[mid] * spell >= success:\n",
        "          r = mid - 1\n",
        "        else:\n",
        "          l = mid + 1\n",
        "      res.append(len(potions) - l)\n",
        "\n",
        "    return res"
      ]
    },
    {
      "cell_type": "code",
      "execution_count": 5,
      "metadata": {},
      "outputs": [
        {
          "data": {
            "text/plain": [
              "[4, 0, 3]"
            ]
          },
          "execution_count": 5,
          "metadata": {},
          "output_type": "execute_result"
        }
      ],
      "source": [
        "spells = [5, 1, 3]\n",
        "potions = [1, 2, 3, 4, 5]\n",
        "success = 7\n",
        "Solution().successfulPairs(spells=spells, potions=potions, success=success)"
      ]
    },
    {
      "cell_type": "code",
      "execution_count": 6,
      "metadata": {},
      "outputs": [
        {
          "data": {
            "text/plain": [
              "[2, 0, 2]"
            ]
          },
          "execution_count": 6,
          "metadata": {},
          "output_type": "execute_result"
        }
      ],
      "source": [
        "spells = [3, 1, 2]\n",
        "potions = [8, 5, 8]\n",
        "success = 16\n",
        "Solution().successfulPairs(spells=spells, potions=potions, success=success)"
      ]
    }
  ],
  "metadata": {
    "kernelspec": {
      "display_name": "Python 3",
      "language": "python",
      "name": "python3"
    },
    "language_info": {
      "codemirror_mode": {
        "name": "ipython",
        "version": 3
      },
      "file_extension": ".py",
      "mimetype": "text/x-python",
      "name": "python",
      "nbconvert_exporter": "python",
      "pygments_lexer": "ipython3",
      "version": "3.12.8"
    }
  },
  "nbformat": 4,
  "nbformat_minor": 2
}
