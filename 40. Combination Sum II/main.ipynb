{
 "cells": [
  {
   "cell_type": "code",
   "execution_count": 1,
   "metadata": {},
   "outputs": [],
   "source": [
    "from typing import List\n",
    "\n",
    "\n",
    "class Solution:\n",
    "\n",
    "  def combinationSum2(self, candidates: List[int], target: int) -> List[List[int]]:\n",
    "\n",
    "    candidates.sort()\n",
    "    results = []\n",
    "\n",
    "    def backtrack(combination, start, target):\n",
    "      if target == 0:\n",
    "        results.append(list(combination))\n",
    "        return\n",
    "      if target < 0:\n",
    "        return\n",
    "\n",
    "      for i in range(start, len(candidates)):\n",
    "        if i > start and candidates[i] == candidates[i - 1]:\n",
    "          continue\n",
    "        combination.append(candidates[i])\n",
    "        backtrack(combination, i + 1, target - candidates[i])\n",
    "        combination.pop()\n",
    "\n",
    "    backtrack([], 0, target)\n",
    "    return results"
   ]
  },
  {
   "cell_type": "code",
   "execution_count": 2,
   "metadata": {},
   "outputs": [
    {
     "data": {
      "text/plain": [
       "[[1, 1, 6], [1, 2, 5], [1, 7], [2, 6]]"
      ]
     },
     "execution_count": 2,
     "metadata": {},
     "output_type": "execute_result"
    }
   ],
   "source": [
    "Solution().combinationSum2(candidates=[10, 1, 2, 7, 6, 1, 5], target=8)"
   ]
  },
  {
   "cell_type": "code",
   "execution_count": 3,
   "metadata": {},
   "outputs": [
    {
     "data": {
      "text/plain": [
       "[[1, 2, 2], [5]]"
      ]
     },
     "execution_count": 3,
     "metadata": {},
     "output_type": "execute_result"
    }
   ],
   "source": [
    "Solution().combinationSum2(candidates=[2, 5, 2, 1, 2], target=5)"
   ]
  }
 ],
 "metadata": {
  "kernelspec": {
   "display_name": "base",
   "language": "python",
   "name": "python3"
  },
  "language_info": {
   "codemirror_mode": {
    "name": "ipython",
    "version": 3
   },
   "file_extension": ".py",
   "mimetype": "text/x-python",
   "name": "python",
   "nbconvert_exporter": "python",
   "pygments_lexer": "ipython3",
   "version": "3.11.7"
  }
 },
 "nbformat": 4,
 "nbformat_minor": 2
}
