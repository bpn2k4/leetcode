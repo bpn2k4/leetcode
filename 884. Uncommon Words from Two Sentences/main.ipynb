{
  "cells": [
    {
      "cell_type": "code",
      "execution_count": 1,
      "metadata": {},
      "outputs": [],
      "source": [
        "from typing import List\n",
        "\n",
        "\n",
        "class Solution:\n",
        "  def uncommonFromSentences(self, s1: str, s2: str) -> List[str]:\n",
        "    \n",
        "    s1 = s1.split()\n",
        "    s2 = s2.split()\n",
        "    s1 = s1 + s2\n",
        "    mark = {}\n",
        "    for word in s1:\n",
        "      mark[word] = mark.get(word, 0) + 1\n",
        "\n",
        "    return [word for word in mark if mark[word] == 1]"
      ]
    },
    {
      "cell_type": "code",
      "execution_count": 2,
      "metadata": {},
      "outputs": [
        {
          "data": {
            "text/plain": [
              "['sweet', 'sour']"
            ]
          },
          "execution_count": 2,
          "metadata": {},
          "output_type": "execute_result"
        }
      ],
      "source": [
        "s1 = \"this apple is sweet\"\n",
        "s2 = \"this apple is sour\"\n",
        "Solution().uncommonFromSentences(s1=s1, s2=s2)"
      ]
    },
    {
      "cell_type": "code",
      "execution_count": 3,
      "metadata": {},
      "outputs": [
        {
          "data": {
            "text/plain": [
              "['banana']"
            ]
          },
          "execution_count": 3,
          "metadata": {},
          "output_type": "execute_result"
        }
      ],
      "source": [
        "s1 = \"apple apple\"\n",
        "s2 = \"banana\"\n",
        "Solution().uncommonFromSentences(s1=s1, s2=s2)"
      ]
    }
  ],
  "metadata": {
    "kernelspec": {
      "display_name": "base",
      "language": "python",
      "name": "python3"
    },
    "language_info": {
      "codemirror_mode": {
        "name": "ipython",
        "version": 3
      },
      "file_extension": ".py",
      "mimetype": "text/x-python",
      "name": "python",
      "nbconvert_exporter": "python",
      "pygments_lexer": "ipython3",
      "version": "3.11.7"
    }
  },
  "nbformat": 4,
  "nbformat_minor": 2
}
