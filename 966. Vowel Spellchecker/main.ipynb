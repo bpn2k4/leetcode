{
  "cells": [
    {
      "cell_type": "code",
      "execution_count": 1,
      "metadata": {},
      "outputs": [],
      "source": [
        "from typing import List\n",
        "\n",
        "\n",
        "class Solution:\n",
        "  def spellchecker(self, wordlist: List[str], queries: List[str]) -> List[str]:\n",
        "\n",
        "    vowels = set(\"aeiou\")\n",
        "    exact_words = set(wordlist)\n",
        "    \n",
        "    case_insensitive = {}\n",
        "    for word in wordlist:\n",
        "      lower = word.lower()\n",
        "      if lower not in case_insensitive:\n",
        "        case_insensitive[lower] = word\n",
        "\n",
        "    def devowel(word: str) -> str:\n",
        "      return ''.join('*' if c in vowels else c for c in word.lower())\n",
        "\n",
        "    vowel_insensitive = {}\n",
        "    for word in wordlist:\n",
        "      key = devowel(word)\n",
        "      if key not in vowel_insensitive:\n",
        "        vowel_insensitive[key] = word\n",
        "\n",
        "    result = []\n",
        "    for query in queries:\n",
        "      if query in exact_words:\n",
        "        result.append(query)\n",
        "      elif query.lower() in case_insensitive:\n",
        "        result.append(case_insensitive[query.lower()])\n",
        "      elif devowel(query) in vowel_insensitive:\n",
        "        result.append(vowel_insensitive[devowel(query)])\n",
        "      else:\n",
        "        result.append(\"\")\n",
        "\n",
        "    return result"
      ]
    },
    {
      "cell_type": "code",
      "execution_count": 2,
      "metadata": {},
      "outputs": [
        {
          "data": {
            "text/plain": [
              "['kite', 'KiTe', 'KiTe', 'Hare', 'hare', '', '', 'KiTe', '', 'KiTe']"
            ]
          },
          "execution_count": 2,
          "metadata": {},
          "output_type": "execute_result"
        }
      ],
      "source": [
        "wordlist = [\"KiTe\", \"kite\", \"hare\", \"Hare\"]\n",
        "queries = [\"kite\", \"Kite\", \"KiTe\", \"Hare\", \"HARE\", \"Hear\", \"hear\", \"keti\", \"keet\", \"keto\"]\n",
        "Solution().spellchecker(wordlist=wordlist, queries=queries)"
      ]
    },
    {
      "cell_type": "code",
      "execution_count": 3,
      "metadata": {},
      "outputs": [
        {
          "data": {
            "text/plain": [
              "['yellow']"
            ]
          },
          "execution_count": 3,
          "metadata": {},
          "output_type": "execute_result"
        }
      ],
      "source": [
        "wordlist = [\"yellow\"]\n",
        "queries = [\"YellOw\"]\n",
        "Solution().spellchecker(wordlist=wordlist, queries=queries)"
      ]
    }
  ],
  "metadata": {
    "kernelspec": {
      "display_name": "Python 3",
      "language": "python",
      "name": "python3"
    },
    "language_info": {
      "codemirror_mode": {
        "name": "ipython",
        "version": 3
      },
      "file_extension": ".py",
      "mimetype": "text/x-python",
      "name": "python",
      "nbconvert_exporter": "python",
      "pygments_lexer": "ipython3",
      "version": "3.12.1"
    }
  },
  "nbformat": 4,
  "nbformat_minor": 2
}
