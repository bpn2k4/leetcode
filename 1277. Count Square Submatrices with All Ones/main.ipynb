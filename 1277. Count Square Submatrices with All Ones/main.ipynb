{
  "cells": [
    {
      "cell_type": "code",
      "execution_count": 1,
      "metadata": {},
      "outputs": [],
      "source": [
        "from typing import List\n",
        "\n",
        "\n",
        "class Solution:\n",
        "  def countSquares(self, matrix: List[List[int]]) -> int:\n",
        "\n",
        "    m = len(matrix)\n",
        "    n = len(matrix[0])\n",
        "\n",
        "    dp = [[0] * n for _ in range(m)]\n",
        "    total_squares = 0\n",
        "\n",
        "    for i in range(m):\n",
        "      for j in range(n):\n",
        "        if matrix[i][j] == 1:\n",
        "          if i == 0 or j == 0:\n",
        "            dp[i][j] = 1\n",
        "          else:\n",
        "            dp[i][j] = min(dp[i-1][j], dp[i][j-1], dp[i-1][j-1]) + 1\n",
        "          total_squares += dp[i][j]\n",
        "\n",
        "    return total_squares"
      ]
    },
    {
      "cell_type": "code",
      "execution_count": 2,
      "metadata": {},
      "outputs": [
        {
          "data": {
            "text/plain": [
              "15"
            ]
          },
          "execution_count": 2,
          "metadata": {},
          "output_type": "execute_result"
        }
      ],
      "source": [
        "matrix = [\n",
        "    [0, 1, 1, 1],\n",
        "    [1, 1, 1, 1],\n",
        "    [0, 1, 1, 1]\n",
        "]\n",
        "Solution().countSquares(matrix=matrix)"
      ]
    },
    {
      "cell_type": "code",
      "execution_count": 3,
      "metadata": {},
      "outputs": [
        {
          "data": {
            "text/plain": [
              "7"
            ]
          },
          "execution_count": 3,
          "metadata": {},
          "output_type": "execute_result"
        }
      ],
      "source": [
        "matrix = [\n",
        "    [1, 0, 1],\n",
        "    [1, 1, 0],\n",
        "    [1, 1, 0]\n",
        "]\n",
        "Solution().countSquares(matrix=matrix)"
      ]
    }
  ],
  "metadata": {
    "kernelspec": {
      "display_name": "base",
      "language": "python",
      "name": "python3"
    },
    "language_info": {
      "codemirror_mode": {
        "name": "ipython",
        "version": 3
      },
      "file_extension": ".py",
      "mimetype": "text/x-python",
      "name": "python",
      "nbconvert_exporter": "python",
      "pygments_lexer": "ipython3",
      "version": "3.11.7"
    }
  },
  "nbformat": 4,
  "nbformat_minor": 2
}
