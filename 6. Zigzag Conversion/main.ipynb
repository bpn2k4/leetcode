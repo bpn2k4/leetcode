{
 "cells": [
  {
   "cell_type": "code",
   "execution_count": 201,
   "metadata": {},
   "outputs": [],
   "source": [
    "class Solution:\n",
    "  def convert(self, s: str, numRows: int) -> str:\n",
    "    if numRows == 1:\n",
    "      return s\n",
    "    matrix = []\n",
    "    row = [\"\"] * numRows\n",
    "    circle = numRows + numRows - 2\n",
    "    for index, char in enumerate(s):\n",
    "      position = index % circle\n",
    "      if position < numRows:\n",
    "        row[position] = char\n",
    "        if position == numRows - 1:\n",
    "          matrix.append([*row])\n",
    "          row = [\"\"] * numRows\n",
    "        continue\n",
    "      row = [\"\"] * numRows\n",
    "      row[position - numRows + 1] = char\n",
    "      matrix.append([*row][::-1])\n",
    "      row = [\"\"] * numRows\n",
    "    matrix.append([*row])\n",
    "    n = len(matrix)\n",
    "    result = \"\"\n",
    "    for i in range(numRows):\n",
    "      for j in range(n):\n",
    "        result += matrix[j][i]\n",
    "    return result\n",
    "  \n",
    "  def convert(self, s: str, numRows: int) -> str:\n",
    "    if numRows == 1:\n",
    "      return s\n",
    "    matrix = [\"\"] * numRows\n",
    "    circle = numRows + numRows - 2\n",
    "    for index, char in enumerate(s):\n",
    "      position = index % circle\n",
    "      if position < numRows:\n",
    "        matrix[position] += char\n",
    "      else:\n",
    "        matrix[-(position - numRows + 2)] += char\n",
    "    return ''.join(matrix)"
   ]
  },
  {
   "cell_type": "code",
   "execution_count": 202,
   "metadata": {},
   "outputs": [
    {
     "data": {
      "text/plain": [
       "'PAHNAPLSIIGYIR'"
      ]
     },
     "execution_count": 202,
     "metadata": {},
     "output_type": "execute_result"
    }
   ],
   "source": [
    "Solution().convert(s=\"PAYPALISHIRING\", numRows=3)"
   ]
  },
  {
   "cell_type": "code",
   "execution_count": 203,
   "metadata": {},
   "outputs": [
    {
     "data": {
      "text/plain": [
       "'PINALSIGYAHRPI'"
      ]
     },
     "execution_count": 203,
     "metadata": {},
     "output_type": "execute_result"
    }
   ],
   "source": [
    "Solution().convert(s=\"PAYPALISHIRING\", numRows=4)"
   ]
  },
  {
   "cell_type": "code",
   "execution_count": 204,
   "metadata": {},
   "outputs": [
    {
     "data": {
      "text/plain": [
       "'A'"
      ]
     },
     "execution_count": 204,
     "metadata": {},
     "output_type": "execute_result"
    }
   ],
   "source": [
    "Solution().convert(s=\"A\", numRows=1)"
   ]
  },
  {
   "cell_type": "code",
   "execution_count": 205,
   "metadata": {},
   "outputs": [
    {
     "data": {
      "text/plain": [
       "'ACB'"
      ]
     },
     "execution_count": 205,
     "metadata": {},
     "output_type": "execute_result"
    }
   ],
   "source": [
    "Solution().convert(s=\"ABC\", numRows=2)"
   ]
  }
 ],
 "metadata": {
  "kernelspec": {
   "display_name": "base",
   "language": "python",
   "name": "python3"
  },
  "language_info": {
   "codemirror_mode": {
    "name": "ipython",
    "version": 3
   },
   "file_extension": ".py",
   "mimetype": "text/x-python",
   "name": "python",
   "nbconvert_exporter": "python",
   "pygments_lexer": "ipython3",
   "version": "3.11.7"
  }
 },
 "nbformat": 4,
 "nbformat_minor": 2
}
