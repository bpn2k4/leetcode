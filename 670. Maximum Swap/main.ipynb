{
  "cells": [
    {
      "cell_type": "code",
      "execution_count": 1,
      "metadata": {},
      "outputs": [],
      "source": [
        "class Solution:\n",
        "  def maximumSwap(self, num: int) -> int:\n",
        "    \n",
        "    string = list(str(num))\n",
        "    sorted_string = sorted(string, reverse=True)\n",
        "    swap_index = -1\n",
        "    for i in range(len(string)):\n",
        "      if string[i] != sorted_string[i]:\n",
        "        swap_index = i\n",
        "        break\n",
        "    \n",
        "    if swap_index == -1:\n",
        "      return num\n",
        "    \n",
        "    for i in range(len(string) - 1, swap_index, -1):\n",
        "      if string[i] == sorted_string[swap_index]:\n",
        "        string[i], string[swap_index] = string[swap_index], string[i]\n",
        "        break\n",
        "\n",
        "    return int(''.join(string))"
      ]
    },
    {
      "cell_type": "code",
      "execution_count": 2,
      "metadata": {},
      "outputs": [
        {
          "data": {
            "text/plain": [
              "9913"
            ]
          },
          "execution_count": 2,
          "metadata": {},
          "output_type": "execute_result"
        }
      ],
      "source": [
        "num = 1993\n",
        "Solution().maximumSwap(num=num)"
      ]
    },
    {
      "cell_type": "code",
      "execution_count": 3,
      "metadata": {},
      "outputs": [
        {
          "data": {
            "text/plain": [
              "7236"
            ]
          },
          "execution_count": 3,
          "metadata": {},
          "output_type": "execute_result"
        }
      ],
      "source": [
        "num = 2736\n",
        "Solution().maximumSwap(num=num)"
      ]
    },
    {
      "cell_type": "code",
      "execution_count": 4,
      "metadata": {},
      "outputs": [
        {
          "data": {
            "text/plain": [
              "9973"
            ]
          },
          "execution_count": 4,
          "metadata": {},
          "output_type": "execute_result"
        }
      ],
      "source": [
        "num = 9973\n",
        "Solution().maximumSwap(num=num)"
      ]
    },
    {
      "cell_type": "code",
      "execution_count": 5,
      "metadata": {},
      "outputs": [
        {
          "data": {
            "text/plain": [
              "98863"
            ]
          },
          "execution_count": 5,
          "metadata": {},
          "output_type": "execute_result"
        }
      ],
      "source": [
        "num = 98368\n",
        "Solution().maximumSwap(num=num)"
      ]
    }
  ],
  "metadata": {
    "kernelspec": {
      "display_name": "base",
      "language": "python",
      "name": "python3"
    },
    "language_info": {
      "codemirror_mode": {
        "name": "ipython",
        "version": 3
      },
      "file_extension": ".py",
      "mimetype": "text/x-python",
      "name": "python",
      "nbconvert_exporter": "python",
      "pygments_lexer": "ipython3",
      "version": "3.11.7"
    }
  },
  "nbformat": 4,
  "nbformat_minor": 2
}
