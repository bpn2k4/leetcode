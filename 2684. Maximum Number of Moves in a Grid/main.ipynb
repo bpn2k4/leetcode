{
  "cells": [
    {
      "cell_type": "code",
      "execution_count": 1,
      "metadata": {},
      "outputs": [],
      "source": [
        "from typing import List\n",
        "\n",
        "class Solution:\n",
        "  def maxMoves(self, grid: List[List[int]]) -> int:\n",
        "    \n",
        "    m = len(grid)\n",
        "    n = len(grid[0])\n",
        "    dp = [[0 for _ in range(n)] for _ in range(m)]\n",
        "    max_moves = 0\n",
        "    for j in range(n):\n",
        "      for i in range(m):\n",
        "        x1, y1 = i + 1, j - 1\n",
        "        x2, y2 = i, j - 1\n",
        "        x3, y3 = i - 1, j - 1\n",
        "\n",
        "        if x1 < m and y1 >= 0 and grid[x1][y1] < grid[i][j]:\n",
        "          dp[i][j] = max(dp[i][j], dp[x1][y1] + 1)\n",
        "        if x2 < m and y2 >= 0 and grid[x2][y2] < grid[i][j]:\n",
        "          dp[i][j] = max(dp[i][j], dp[x2][y2] + 1)\n",
        "        if x3 >= 0 and y3 >= 0 and grid[x3][y3] < grid[i][j]:\n",
        "          dp[i][j] = max(dp[i][j], dp[x3][y3] + 1)\n",
        "        \n",
        "        max_moves = max(max_moves, dp[i][j])\n",
        "        \n",
        "      if max_moves != j:\n",
        "        return max_moves\n",
        "      \n",
        "    return max_moves\n",
        "        "
      ]
    },
    {
      "cell_type": "code",
      "execution_count": 2,
      "metadata": {},
      "outputs": [
        {
          "data": {
            "text/plain": [
              "3"
            ]
          },
          "execution_count": 2,
          "metadata": {},
          "output_type": "execute_result"
        }
      ],
      "source": [
        "grid = [[2, 4, 3, 5], [5, 4, 9, 3], [3, 4, 2, 11], [10, 9, 13, 15]]\n",
        "Solution().maxMoves(grid=grid)"
      ]
    },
    {
      "cell_type": "code",
      "execution_count": 3,
      "metadata": {},
      "outputs": [
        {
          "data": {
            "text/plain": [
              "0"
            ]
          },
          "execution_count": 3,
          "metadata": {},
          "output_type": "execute_result"
        }
      ],
      "source": [
        "grid = [[3, 2, 4], [2, 1, 9], [1, 1, 7]]\n",
        "Solution().maxMoves(grid=grid)"
      ]
    },
    {
      "cell_type": "code",
      "execution_count": 4,
      "metadata": {},
      "outputs": [
        {
          "data": {
            "text/plain": [
              "3"
            ]
          },
          "execution_count": 4,
          "metadata": {},
          "output_type": "execute_result"
        }
      ],
      "source": [
        "grid = [[187,167,209,251,152,236,263,128,135],[267,249,251,285,73,204,70,207,74],[189,159,235,66,84,89,153,111,189],[120,81,210,7,2,231,92,128,218],[193,131,244,293,284,175,226,205,245]]\n",
        "Solution().maxMoves(grid=grid)"
      ]
    }
  ],
  "metadata": {
    "kernelspec": {
      "display_name": "base",
      "language": "python",
      "name": "python3"
    },
    "language_info": {
      "codemirror_mode": {
        "name": "ipython",
        "version": 3
      },
      "file_extension": ".py",
      "mimetype": "text/x-python",
      "name": "python",
      "nbconvert_exporter": "python",
      "pygments_lexer": "ipython3",
      "version": "3.11.7"
    }
  },
  "nbformat": 4,
  "nbformat_minor": 2
}
