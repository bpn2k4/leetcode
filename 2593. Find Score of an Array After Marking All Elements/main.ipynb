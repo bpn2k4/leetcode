{
  "cells": [
    {
      "cell_type": "code",
      "execution_count": 1,
      "metadata": {},
      "outputs": [],
      "source": [
        "from typing import List\n",
        "import heapq\n",
        "\n",
        "\n",
        "class Solution:\n",
        "  def findScore(self, nums: List[int]) -> int:\n",
        "    \n",
        "    score = 0\n",
        "    arr = []\n",
        "    mark_index = {}\n",
        "    for index, num in enumerate(nums):\n",
        "      heapq.heappush(arr, (num, index))\n",
        "\n",
        "    while arr:\n",
        "      num, index = heapq.heappop(arr)\n",
        "\n",
        "      if index in mark_index:\n",
        "        continue\n",
        "      \n",
        "      score += num\n",
        "      mark_index[index] = 1\n",
        "      if index - 1 >= 0:\n",
        "        mark_index[index - 1] = 1\n",
        "      if index + 1 < len(nums):\n",
        "        mark_index[index + 1] = 1\n",
        "\n",
        "    return score"
      ]
    },
    {
      "cell_type": "code",
      "execution_count": 2,
      "metadata": {},
      "outputs": [
        {
          "data": {
            "text/plain": [
              "7"
            ]
          },
          "execution_count": 2,
          "metadata": {},
          "output_type": "execute_result"
        }
      ],
      "source": [
        "nums = [2, 1, 3, 4, 5, 2]\n",
        "Solution().findScore(nums=nums)"
      ]
    },
    {
      "cell_type": "code",
      "execution_count": 3,
      "metadata": {},
      "outputs": [
        {
          "data": {
            "text/plain": [
              "5"
            ]
          },
          "execution_count": 3,
          "metadata": {},
          "output_type": "execute_result"
        }
      ],
      "source": [
        "nums = [2, 3, 5, 1, 3, 2]\n",
        "Solution().findScore(nums=nums)"
      ]
    }
  ],
  "metadata": {
    "kernelspec": {
      "display_name": "base",
      "language": "python",
      "name": "python3"
    },
    "language_info": {
      "codemirror_mode": {
        "name": "ipython",
        "version": 3
      },
      "file_extension": ".py",
      "mimetype": "text/x-python",
      "name": "python",
      "nbconvert_exporter": "python",
      "pygments_lexer": "ipython3",
      "version": "3.11.7"
    }
  },
  "nbformat": 4,
  "nbformat_minor": 2
}
