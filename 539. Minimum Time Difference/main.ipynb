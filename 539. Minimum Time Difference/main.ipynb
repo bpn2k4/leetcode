{
 "cells": [
  {
   "cell_type": "code",
   "execution_count": 1,
   "metadata": {},
   "outputs": [],
   "source": [
    "from typing import List\n",
    "\n",
    "\n",
    "class Solution:\n",
    "  def findMinDifference(self, timePoints: List[str]) -> int:\n",
    "\n",
    "    times = []\n",
    "\n",
    "    for time in timePoints:\n",
    "      hour = int(time[:2])\n",
    "      minute = int(time[3:])\n",
    "      time = hour * 60 + minute\n",
    "      times.append(time)\n",
    "\n",
    "    times.sort()\n",
    "\n",
    "    output = times[-1] - times[0]\n",
    "    for i in range(1, len(times)):\n",
    "      output = min(output, times[i] - times[i - 1])\n",
    "\n",
    "    day = 24 * 60\n",
    "    output = min(output, day + times[0] - times[-1])\n",
    "\n",
    "    return output"
   ]
  },
  {
   "cell_type": "code",
   "execution_count": 2,
   "metadata": {},
   "outputs": [
    {
     "data": {
      "text/plain": [
       "1"
      ]
     },
     "execution_count": 2,
     "metadata": {},
     "output_type": "execute_result"
    }
   ],
   "source": [
    "Solution().findMinDifference(timePoints=[\"23:59\", \"00:00\"])"
   ]
  },
  {
   "cell_type": "code",
   "execution_count": 3,
   "metadata": {},
   "outputs": [
    {
     "data": {
      "text/plain": [
       "0"
      ]
     },
     "execution_count": 3,
     "metadata": {},
     "output_type": "execute_result"
    }
   ],
   "source": [
    "Solution().findMinDifference(timePoints=[\"00:00\", \"23:59\", \"00:00\"])"
   ]
  }
 ],
 "metadata": {
  "kernelspec": {
   "display_name": "base",
   "language": "python",
   "name": "python3"
  },
  "language_info": {
   "codemirror_mode": {
    "name": "ipython",
    "version": 3
   },
   "file_extension": ".py",
   "mimetype": "text/x-python",
   "name": "python",
   "nbconvert_exporter": "python",
   "pygments_lexer": "ipython3",
   "version": "3.11.7"
  }
 },
 "nbformat": 4,
 "nbformat_minor": 2
}
