{
  "cells": [
    {
      "cell_type": "code",
      "execution_count": 1,
      "metadata": {},
      "outputs": [],
      "source": [
        "from typing import List\n",
        "\n",
        "\n",
        "class Solution:\n",
        "  def numSubmat(self, mat: List[List[int]]) -> int:\n",
        "    \n",
        "    m, n = len(mat), len(mat[0])\n",
        "    row = [[0 for _ in range(n)] for _ in range(m)]\n",
        "    count = 0\n",
        "    for i in range(m):\n",
        "      for j in range(n):\n",
        "        if j == 0:\n",
        "          row[i][j] = mat[i][j]\n",
        "        else:\n",
        "          if mat[i][j] == 0:\n",
        "            row[i][j] = 0\n",
        "          else:\n",
        "            row[i][j] = row[i][j - 1] + 1\n",
        "        cur = row[i][j]\n",
        "        for k in range(i, -1, -1):\n",
        "          cur = min(cur, row[k][j])\n",
        "          if cur == 0:\n",
        "            break\n",
        "          count += cur\n",
        "\n",
        "    return count"
      ]
    },
    {
      "cell_type": "code",
      "execution_count": 2,
      "metadata": {},
      "outputs": [
        {
          "data": {
            "text/plain": [
              "13"
            ]
          },
          "execution_count": 2,
          "metadata": {},
          "output_type": "execute_result"
        }
      ],
      "source": [
        "mat = [[1, 0, 1], [1, 1, 0], [1, 1, 0]]\n",
        "Solution().numSubmat(mat=mat)"
      ]
    },
    {
      "cell_type": "code",
      "execution_count": 3,
      "metadata": {},
      "outputs": [
        {
          "data": {
            "text/plain": [
              "24"
            ]
          },
          "execution_count": 3,
          "metadata": {},
          "output_type": "execute_result"
        }
      ],
      "source": [
        "mat = [[0, 1, 1, 0], [0, 1, 1, 1], [1, 1, 1, 0]]\n",
        "Solution().numSubmat(mat=mat)"
      ]
    }
  ],
  "metadata": {
    "kernelspec": {
      "display_name": "Python 3",
      "language": "python",
      "name": "python3"
    },
    "language_info": {
      "codemirror_mode": {
        "name": "ipython",
        "version": 3
      },
      "file_extension": ".py",
      "mimetype": "text/x-python",
      "name": "python",
      "nbconvert_exporter": "python",
      "pygments_lexer": "ipython3",
      "version": "3.12.8"
    }
  },
  "nbformat": 4,
  "nbformat_minor": 2
}
