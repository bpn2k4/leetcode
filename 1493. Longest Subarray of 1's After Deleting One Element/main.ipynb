{
  "cells": [
    {
      "cell_type": "code",
      "execution_count": 1,
      "metadata": {},
      "outputs": [],
      "source": [
        "from typing import List\n",
        "\n",
        "\n",
        "class Solution:\n",
        "  def longestSubarray(self, nums: List[int]) -> int:\n",
        "    \n",
        "    n = len(nums)\n",
        "    arr = []\n",
        "    left = -1\n",
        "    nums.append(0)\n",
        "    for right in range(len(nums)):\n",
        "      if nums[right] == 1:\n",
        "        if left == -1:\n",
        "          left = right\n",
        "          continue\n",
        "      else:\n",
        "        if nums[right - 1] == 1:\n",
        "          arr.append((left, right))\n",
        "          left = -1\n",
        "\n",
        "    if not arr:\n",
        "      return 0\n",
        "    \n",
        "    if len(arr) == 1:\n",
        "      length = arr[0][1] - arr[0][0]\n",
        "      if length == n:\n",
        "        return n - 1\n",
        "      else:\n",
        "        return length\n",
        "      \n",
        "    max_length = 0\n",
        "    for i in range(len(arr) - 1):\n",
        "      length = arr[i][1] - arr[i][0]\n",
        "      if arr[i + 1][0] == arr[i][1] + 1:\n",
        "        length += (arr[i + 1][1] - arr[i + 1][0])\n",
        "      max_length = max(max_length, length)\n",
        "\n",
        "    max_length = max(max_length, arr[-1][1] - arr[-1][0])\n",
        "\n",
        "    return max_length"
      ]
    },
    {
      "cell_type": "code",
      "execution_count": 2,
      "metadata": {},
      "outputs": [
        {
          "data": {
            "text/plain": [
              "1"
            ]
          },
          "execution_count": 2,
          "metadata": {},
          "output_type": "execute_result"
        }
      ],
      "source": [
        "nums = [1,0,0,0,0]\n",
        "Solution().longestSubarray(nums=nums)"
      ]
    },
    {
      "cell_type": "code",
      "execution_count": 3,
      "metadata": {},
      "outputs": [
        {
          "data": {
            "text/plain": [
              "3"
            ]
          },
          "execution_count": 3,
          "metadata": {},
          "output_type": "execute_result"
        }
      ],
      "source": [
        "nums = [1, 1, 0, 1]\n",
        "Solution().longestSubarray(nums=nums)"
      ]
    },
    {
      "cell_type": "code",
      "execution_count": 4,
      "metadata": {},
      "outputs": [
        {
          "data": {
            "text/plain": [
              "5"
            ]
          },
          "execution_count": 4,
          "metadata": {},
          "output_type": "execute_result"
        }
      ],
      "source": [
        "nums = [0, 1, 1, 1, 0, 1, 1, 0, 1]\n",
        "Solution().longestSubarray(nums=nums)"
      ]
    },
    {
      "cell_type": "code",
      "execution_count": 5,
      "metadata": {},
      "outputs": [
        {
          "data": {
            "text/plain": [
              "2"
            ]
          },
          "execution_count": 5,
          "metadata": {},
          "output_type": "execute_result"
        }
      ],
      "source": [
        "nums = [1, 1, 1]\n",
        "Solution().longestSubarray(nums=nums)"
      ]
    }
  ],
  "metadata": {
    "kernelspec": {
      "display_name": "Python 3",
      "language": "python",
      "name": "python3"
    },
    "language_info": {
      "codemirror_mode": {
        "name": "ipython",
        "version": 3
      },
      "file_extension": ".py",
      "mimetype": "text/x-python",
      "name": "python",
      "nbconvert_exporter": "python",
      "pygments_lexer": "ipython3",
      "version": "3.12.8"
    }
  },
  "nbformat": 4,
  "nbformat_minor": 2
}
