{
  "cells": [
    {
      "cell_type": "code",
      "execution_count": 1,
      "metadata": {},
      "outputs": [],
      "source": [
        "from typing import List\n",
        "\n",
        "\n",
        "class Solution:\n",
        "  def minSubarray(self, nums: List[int], p: int) -> int:\n",
        "    \n",
        "    sum_of_arr = sum(nums)\n",
        "    remainder = sum_of_arr % p\n",
        "\n",
        "    if remainder == 0:\n",
        "      return 0\n",
        "    \n",
        "    output = len(nums)\n",
        "    mark_prefix_sum = {0: -1}\n",
        "    current_sum = 0\n",
        "\n",
        "    for index, num in enumerate(nums):\n",
        "      current_sum = (current_sum + num) % p\n",
        "      target = (current_sum - remainder) % p\n",
        "      if target in mark_prefix_sum:\n",
        "        output = min(output, index - mark_prefix_sum[target])\n",
        "      mark_prefix_sum[current_sum] = index\n",
        "\n",
        "    if output == len(nums):\n",
        "      return -1\n",
        "    \n",
        "    return output"
      ]
    },
    {
      "cell_type": "code",
      "execution_count": 2,
      "metadata": {},
      "outputs": [
        {
          "data": {
            "text/plain": [
              "1"
            ]
          },
          "execution_count": 2,
          "metadata": {},
          "output_type": "execute_result"
        }
      ],
      "source": [
        "nums = [3, 1, 4, 2]\n",
        "p = 6\n",
        "Solution().minSubarray(nums=nums, p=p)"
      ]
    },
    {
      "cell_type": "code",
      "execution_count": 3,
      "metadata": {},
      "outputs": [
        {
          "data": {
            "text/plain": [
              "2"
            ]
          },
          "execution_count": 3,
          "metadata": {},
          "output_type": "execute_result"
        }
      ],
      "source": [
        "nums = [6, 3, 5, 2]\n",
        "p = 9\n",
        "Solution().minSubarray(nums=nums, p=p)"
      ]
    },
    {
      "cell_type": "code",
      "execution_count": 4,
      "metadata": {},
      "outputs": [
        {
          "data": {
            "text/plain": [
              "0"
            ]
          },
          "execution_count": 4,
          "metadata": {},
          "output_type": "execute_result"
        }
      ],
      "source": [
        "nums = [1, 2, 3]\n",
        "p = 3\n",
        "Solution().minSubarray(nums=nums, p=p)"
      ]
    }
  ],
  "metadata": {
    "kernelspec": {
      "display_name": "base",
      "language": "python",
      "name": "python3"
    },
    "language_info": {
      "codemirror_mode": {
        "name": "ipython",
        "version": 3
      },
      "file_extension": ".py",
      "mimetype": "text/x-python",
      "name": "python",
      "nbconvert_exporter": "python",
      "pygments_lexer": "ipython3",
      "version": "3.11.7"
    }
  },
  "nbformat": 4,
  "nbformat_minor": 2
}
