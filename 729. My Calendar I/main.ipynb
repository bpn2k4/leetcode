{
 "cells": [
  {
   "cell_type": "code",
   "execution_count": 1,
   "metadata": {},
   "outputs": [],
   "source": [
    "class MyCalendar:\n",
    "\n",
    "  def __init__(self):\n",
    "\n",
    "    self.books = []\n",
    "\n",
    "  def book(self, start: int, end: int) -> bool:\n",
    "\n",
    "    if not self.books:\n",
    "      self.books.append((start, end))\n",
    "      return True\n",
    "    \n",
    "    for book in self.books:\n",
    "      begin, finish = book\n",
    "      if end <= begin or start >= finish:\n",
    "        continue\n",
    "      return False\n",
    "\n",
    "    self.books.append((start, end))\n",
    "    return True"
   ]
  },
  {
   "cell_type": "code",
   "execution_count": 2,
   "metadata": {},
   "outputs": [],
   "source": [
    "class MyCalendar:\n",
    "\n",
    "  def __init__(self):\n",
    "\n",
    "    self.begins = []\n",
    "    self.finishes = []\n",
    "\n",
    "  def book(self, start: int, end: int) -> bool:\n",
    "\n",
    "    if not self.begins:\n",
    "      self.begins.append((start, (start, end)))\n",
    "      self.finishes.append((end, (start, end)))\n",
    "      return True\n",
    "    \n",
    "    upper_index = self.binary_search_upper(self.finishes, start)\n",
    "    lower_index = self.binary_search_lower(self.begins, end)\n",
    "\n",
    "    if upper_index < lower_index:\n",
    "      return False\n",
    "\n",
    "    self.begins.insert(lower_index, (start, (start, end)))\n",
    "    self.finishes.insert(lower_index, (end, (start, end)))\n",
    "    return True\n",
    "  \n",
    "  def binary_search_lower(self, books, target):\n",
    "\n",
    "    left, right = 0, len(books) - 1\n",
    "\n",
    "    while left <= right:\n",
    "      mid = (left + right) // 2\n",
    "      if books[mid][0] < target:\n",
    "        left = mid + 1\n",
    "      else:\n",
    "        right = mid - 1\n",
    "\n",
    "    return left\n",
    "  \n",
    "  def binary_search_upper(self, books, target):\n",
    "\n",
    "    left, right = 0, len(books) - 1\n",
    "\n",
    "    while left <= right:\n",
    "      mid = (left + right) // 2\n",
    "      if books[mid][0] > target:\n",
    "        right = mid - 1\n",
    "      else:\n",
    "        left = mid + 1\n",
    "\n",
    "    return left"
   ]
  },
  {
   "cell_type": "code",
   "execution_count": 3,
   "metadata": {},
   "outputs": [
    {
     "data": {
      "text/plain": [
       "(True, False, True)"
      ]
     },
     "execution_count": 3,
     "metadata": {},
     "output_type": "execute_result"
    }
   ],
   "source": [
    "calender = MyCalendar()\n",
    "calender.book(10, 20), calender.book(15, 25), calender.book(20, 30)"
   ]
  }
 ],
 "metadata": {
  "kernelspec": {
   "display_name": "base",
   "language": "python",
   "name": "python3"
  },
  "language_info": {
   "codemirror_mode": {
    "name": "ipython",
    "version": 3
   },
   "file_extension": ".py",
   "mimetype": "text/x-python",
   "name": "python",
   "nbconvert_exporter": "python",
   "pygments_lexer": "ipython3",
   "version": "3.11.7"
  }
 },
 "nbformat": 4,
 "nbformat_minor": 2
}
