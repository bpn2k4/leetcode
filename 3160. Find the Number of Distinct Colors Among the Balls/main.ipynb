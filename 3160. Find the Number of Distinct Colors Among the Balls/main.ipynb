{
  "cells": [
    {
      "cell_type": "code",
      "execution_count": 1,
      "metadata": {},
      "outputs": [],
      "source": [
        "from typing import List\n",
        "\n",
        "\n",
        "class Solution:\n",
        "  def queryResults(self, limit: int, queries: List[List[int]]) -> List[int]:\n",
        "\n",
        "    output = []\n",
        "    color2index = {}\n",
        "    index2color = {}\n",
        "    for index, color in queries:\n",
        "      if index in index2color:\n",
        "        old_color = index2color[index]\n",
        "        color2index[old_color] -= 1\n",
        "\n",
        "        if color2index[old_color] == 0:\n",
        "          del color2index[old_color]\n",
        "        \n",
        "      index2color[index] = color\n",
        "      color2index[color] = color2index.get(color, 0) + 1\n",
        "      output.append(len(color2index))\n",
        "\n",
        "    return output"
      ]
    },
    {
      "cell_type": "code",
      "execution_count": 2,
      "metadata": {},
      "outputs": [
        {
          "data": {
            "text/plain": [
              "[1, 2, 2, 3]"
            ]
          },
          "execution_count": 2,
          "metadata": {},
          "output_type": "execute_result"
        }
      ],
      "source": [
        "limit = 4\n",
        "queries = [[1, 4], [2, 5], [1, 3], [3, 4]]\n",
        "Solution().queryResults(limit=limit, queries=queries)"
      ]
    },
    {
      "cell_type": "code",
      "execution_count": 3,
      "metadata": {},
      "outputs": [
        {
          "data": {
            "text/plain": [
              "[1, 2, 2, 3, 4]"
            ]
          },
          "execution_count": 3,
          "metadata": {},
          "output_type": "execute_result"
        }
      ],
      "source": [
        "limit = 4\n",
        "queries = [[0, 1], [1, 2], [2, 2], [3, 4], [4, 5]]\n",
        "Solution().queryResults(limit=limit, queries=queries)"
      ]
    },
    {
      "cell_type": "code",
      "execution_count": 4,
      "metadata": {},
      "outputs": [
        {
          "data": {
            "text/plain": [
              "[1, 1, 1, 1, 2]"
            ]
          },
          "execution_count": 4,
          "metadata": {},
          "output_type": "execute_result"
        }
      ],
      "source": [
        "limit = 4\n",
        "queries = [[0, 1], [0, 4], [0, 4], [0, 1], [1, 2]]\n",
        "Solution().queryResults(limit=limit, queries=queries)"
      ]
    },
    {
      "cell_type": "code",
      "execution_count": 5,
      "metadata": {},
      "outputs": [
        {
          "data": {
            "text/plain": [
              "[1, 2, 1, 2, 1]"
            ]
          },
          "execution_count": 5,
          "metadata": {},
          "output_type": "execute_result"
        }
      ],
      "source": [
        "limit = 1\n",
        "queries = [[0, 1], [1, 4], [1, 1], [1, 4], [1, 1]]\n",
        "Solution().queryResults(limit=limit, queries=queries)"
      ]
    }
  ],
  "metadata": {
    "kernelspec": {
      "display_name": "Python 3",
      "language": "python",
      "name": "python3"
    },
    "language_info": {
      "codemirror_mode": {
        "name": "ipython",
        "version": 3
      },
      "file_extension": ".py",
      "mimetype": "text/x-python",
      "name": "python",
      "nbconvert_exporter": "python",
      "pygments_lexer": "ipython3",
      "version": "3.12.1"
    }
  },
  "nbformat": 4,
  "nbformat_minor": 2
}
