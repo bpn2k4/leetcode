{
  "cells": [
    {
      "cell_type": "code",
      "execution_count": 1,
      "metadata": {},
      "outputs": [],
      "source": [
        "from typing import List\n",
        "\n",
        "\n",
        "class Solution:\n",
        "  def findKDistantIndices(self, nums: List[int], key: int, k: int) -> List[int]:\n",
        "    \n",
        "    n = len(nums)\n",
        "    output= []\n",
        "    for i in range(n):\n",
        "      if nums[i] == key:\n",
        "        output.extend(range(i - k, i + k + 1))\n",
        "    \n",
        "    output = list(set(output))\n",
        "    output = [i for i in output if 0 <= i < n]\n",
        "\n",
        "    return output"
      ]
    },
    {
      "cell_type": "code",
      "execution_count": 2,
      "metadata": {},
      "outputs": [
        {
          "data": {
            "text/plain": [
              "[1, 2, 3, 4, 5, 6]"
            ]
          },
          "execution_count": 2,
          "metadata": {},
          "output_type": "execute_result"
        }
      ],
      "source": [
        "nums = [3, 4, 9, 1, 3, 9, 5]\n",
        "key = 9\n",
        "k = 1\n",
        "Solution().findKDistantIndices(nums=nums, key=key, k=k)"
      ]
    },
    {
      "cell_type": "code",
      "execution_count": 3,
      "metadata": {},
      "outputs": [
        {
          "data": {
            "text/plain": [
              "[0, 1, 2, 3, 4]"
            ]
          },
          "execution_count": 3,
          "metadata": {},
          "output_type": "execute_result"
        }
      ],
      "source": [
        "nums = [2, 2, 2, 2, 2]\n",
        "key = 2\n",
        "k = 2\n",
        "Solution().findKDistantIndices(nums=nums, key=key, k=k)"
      ]
    }
  ],
  "metadata": {
    "kernelspec": {
      "display_name": "Python 3",
      "language": "python",
      "name": "python3"
    },
    "language_info": {
      "codemirror_mode": {
        "name": "ipython",
        "version": 3
      },
      "file_extension": ".py",
      "mimetype": "text/x-python",
      "name": "python",
      "nbconvert_exporter": "python",
      "pygments_lexer": "ipython3",
      "version": "3.12.1"
    }
  },
  "nbformat": 4,
  "nbformat_minor": 2
}
