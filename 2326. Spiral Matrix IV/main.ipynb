{
 "cells": [
  {
   "cell_type": "code",
   "execution_count": 1,
   "metadata": {},
   "outputs": [],
   "source": [
    "from typing import List, Optional\n",
    "\n",
    "\n",
    "class ListNode:\n",
    "  def __init__(self, val=0, next=None):\n",
    "    self.val = val\n",
    "    self.next: Optional[ListNode] = next\n",
    "\n",
    "\n",
    "class Solution:\n",
    "  def spiralMatrix(self, m: int, n: int, head: Optional[ListNode]) -> List[List[int]]:\n",
    "    \n",
    "    matrix = [[-1 for _ in range(n) ] for _ in range(m)]\n",
    "    directions = [(0, 1), (1, 0), (0, -1), (-1, 0)]\n",
    "    i = j = 0\n",
    "    direction = 0\n",
    "    while head:\n",
    "      matrix[i][j] = head.val\n",
    "      head = head.next\n",
    "      n_i = i + directions[direction][0]\n",
    "      n_j = j + directions[direction][1]\n",
    "      if 0 <= n_i < m and 0 <= n_j < n and matrix[n_i][n_j] == -1:\n",
    "        i = n_i\n",
    "        j = n_j\n",
    "      else:\n",
    "        direction = (direction + 1) % 4\n",
    "        i += directions[direction][0]\n",
    "        j += directions[direction][1]\n",
    "\n",
    "    return matrix"
   ]
  },
  {
   "cell_type": "code",
   "execution_count": 2,
   "metadata": {},
   "outputs": [
    {
     "name": "stdout",
     "output_type": "stream",
     "text": [
      "[3, 0, 2, 6, 8]\n",
      "[5, 0, -1, -1, 1]\n",
      "[5, 2, 4, 9, 7]\n"
     ]
    }
   ],
   "source": [
    "head = ListNode(3)\n",
    "head.next = ListNode(0)\n",
    "head.next.next = ListNode(2)\n",
    "head.next.next.next = ListNode(6)\n",
    "head.next.next.next.next = ListNode(8)\n",
    "head.next.next.next.next.next = ListNode(1)\n",
    "head.next.next.next.next.next.next = ListNode(7)\n",
    "head.next.next.next.next.next.next.next = ListNode(9)\n",
    "head.next.next.next.next.next.next.next.next = ListNode(4)\n",
    "head.next.next.next.next.next.next.next.next.next = ListNode(2)\n",
    "head.next.next.next.next.next.next.next.next.next.next = ListNode(5)\n",
    "head.next.next.next.next.next.next.next.next.next.next.next = ListNode(5)\n",
    "head.next.next.next.next.next.next.next.next.next.next.next.next = ListNode(0)\n",
    "for i in Solution().spiralMatrix(m=3, n=5, head=head):\n",
    "  print(i)"
   ]
  },
  {
   "cell_type": "code",
   "execution_count": 3,
   "metadata": {},
   "outputs": [
    {
     "name": "stdout",
     "output_type": "stream",
     "text": [
      "[0, 1, 2, -1]\n"
     ]
    }
   ],
   "source": [
    "head = ListNode(0)\n",
    "head.next = ListNode(1)\n",
    "head.next.next = ListNode(2)\n",
    "for i in Solution().spiralMatrix(m=1, n=4, head=head):\n",
    "  print(i)"
   ]
  }
 ],
 "metadata": {
  "kernelspec": {
   "display_name": "base",
   "language": "python",
   "name": "python3"
  },
  "language_info": {
   "codemirror_mode": {
    "name": "ipython",
    "version": 3
   },
   "file_extension": ".py",
   "mimetype": "text/x-python",
   "name": "python",
   "nbconvert_exporter": "python",
   "pygments_lexer": "ipython3",
   "version": "3.11.7"
  }
 },
 "nbformat": 4,
 "nbformat_minor": 2
}
