{
  "cells": [
    {
      "cell_type": "code",
      "execution_count": 1,
      "metadata": {},
      "outputs": [],
      "source": [
        "class Solution:\n",
        "  def minimizeXor(self, num1: int, num2: int) -> int:\n",
        "\n",
        "    count_bits_num2 = bin(num2).count('1')\n",
        "    x = 0\n",
        "    for i in range(31, -1, -1):  \n",
        "      if count_bits_num2 == 0:\n",
        "        break  \n",
        "      \n",
        "      if (num1 & (1 << i)) != 0:\n",
        "        x |= (1 << i)  \n",
        "        count_bits_num2 -= 1\n",
        "    \n",
        "    for i in range(32):\n",
        "      if count_bits_num2 == 0:\n",
        "        break  \n",
        "      \n",
        "      if (x & (1 << i)) == 0:\n",
        "        x |= (1 << i)  \n",
        "        count_bits_num2 -= 1\n",
        "\n",
        "    return x"
      ]
    },
    {
      "cell_type": "code",
      "execution_count": 2,
      "metadata": {},
      "outputs": [
        {
          "data": {
            "text/plain": [
              "3"
            ]
          },
          "execution_count": 2,
          "metadata": {},
          "output_type": "execute_result"
        }
      ],
      "source": [
        "num1 = 3\n",
        "num2 = 5\n",
        "Solution().minimizeXor(num1=num1, num2=num2)"
      ]
    },
    {
      "cell_type": "code",
      "execution_count": 3,
      "metadata": {},
      "outputs": [
        {
          "data": {
            "text/plain": [
              "3"
            ]
          },
          "execution_count": 3,
          "metadata": {},
          "output_type": "execute_result"
        }
      ],
      "source": [
        "num1 = 1\n",
        "num2 = 12\n",
        "Solution().minimizeXor(num1=num1, num2=num2)"
      ]
    }
  ],
  "metadata": {
    "kernelspec": {
      "display_name": "base",
      "language": "python",
      "name": "python3"
    },
    "language_info": {
      "codemirror_mode": {
        "name": "ipython",
        "version": 3
      },
      "file_extension": ".py",
      "mimetype": "text/x-python",
      "name": "python",
      "nbconvert_exporter": "python",
      "pygments_lexer": "ipython3",
      "version": "3.11.7"
    }
  },
  "nbformat": 4,
  "nbformat_minor": 2
}
