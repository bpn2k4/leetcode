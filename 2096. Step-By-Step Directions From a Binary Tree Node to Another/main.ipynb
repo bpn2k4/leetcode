{
 "cells": [
  {
   "cell_type": "code",
   "execution_count": 1,
   "metadata": {},
   "outputs": [],
   "source": [
    "from typing import Optional\n",
    "\n",
    "\n",
    "class TreeNode:\n",
    "  def __init__(self, val=0, left=None, right=None):\n",
    "    self.val: int = val\n",
    "    self.left: TreeNode = left\n",
    "    self.right: TreeNode = right\n",
    "\n",
    "\n",
    "class Solution:\n",
    "\n",
    "  def getDirections(self, root: Optional[TreeNode], startValue: int, destValue: int) -> str:\n",
    "    \n",
    "    def find_path(root: TreeNode | None, value: int, path: list[str]):\n",
    "      if not root:\n",
    "          return False\n",
    "      if root.val == value:\n",
    "          return True\n",
    "      path.append('L')\n",
    "      if find_path(root.left, value, path):\n",
    "          return True\n",
    "      path.pop()\n",
    "      path.append('R')\n",
    "      if find_path(root.right, value, path):\n",
    "          return True\n",
    "      path.pop()\n",
    "      return False\n",
    "    \n",
    "    start_path, dest_path = [], []\n",
    "    find_path(root, startValue, start_path)\n",
    "    find_path(root, destValue, dest_path)\n",
    "    \n",
    "    i = 0\n",
    "    while i < len(start_path) and i < len(dest_path) and start_path[i] == dest_path[i]:\n",
    "        i += 1\n",
    "        \n",
    "    up_moves = 'U' * (len(start_path) - i)\n",
    "    down_moves = ''.join(dest_path[i:])\n",
    "    \n",
    "    return up_moves + down_moves"
   ]
  },
  {
   "cell_type": "code",
   "execution_count": 2,
   "metadata": {},
   "outputs": [
    {
     "data": {
      "text/plain": [
       "'UURL'"
      ]
     },
     "execution_count": 2,
     "metadata": {},
     "output_type": "execute_result"
    }
   ],
   "source": [
    "root = TreeNode(5)\n",
    "root.left = TreeNode(1)\n",
    "root.left.left = TreeNode(3)\n",
    "root.right = TreeNode(2)\n",
    "root.right.left = TreeNode(6)\n",
    "root.right.right = TreeNode(4)\n",
    "Solution().getDirections(root, 3, 6)"
   ]
  },
  {
   "cell_type": "code",
   "execution_count": 3,
   "metadata": {},
   "outputs": [
    {
     "data": {
      "text/plain": [
       "'L'"
      ]
     },
     "execution_count": 3,
     "metadata": {},
     "output_type": "execute_result"
    }
   ],
   "source": [
    "root = TreeNode(2)\n",
    "root.left = TreeNode(1)\n",
    "Solution().getDirections(root, 2, 1)"
   ]
  }
 ],
 "metadata": {
  "kernelspec": {
   "display_name": "base",
   "language": "python",
   "name": "python3"
  },
  "language_info": {
   "codemirror_mode": {
    "name": "ipython",
    "version": 3
   },
   "file_extension": ".py",
   "mimetype": "text/x-python",
   "name": "python",
   "nbconvert_exporter": "python",
   "pygments_lexer": "ipython3",
   "version": "3.11.7"
  }
 },
 "nbformat": 4,
 "nbformat_minor": 2
}
