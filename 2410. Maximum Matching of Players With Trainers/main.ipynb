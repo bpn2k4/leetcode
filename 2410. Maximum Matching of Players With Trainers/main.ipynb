{
  "cells": [
    {
      "cell_type": "code",
      "execution_count": 1,
      "metadata": {},
      "outputs": [],
      "source": [
        "from typing import List\n",
        "\n",
        "\n",
        "class Solution:\n",
        "  def matchPlayersAndTrainers(self, players: List[int], trainers: List[int]) -> int:\n",
        "    \n",
        "    players.sort()\n",
        "    trainers.sort()\n",
        "    n, m = len(players), len(trainers)\n",
        "    i, j = 0, 0\n",
        "    count = 0\n",
        "    while i < n and j < m:\n",
        "      if players[i] <= trainers[j]:\n",
        "        count += 1\n",
        "        i += 1\n",
        "      j += 1\n",
        "\n",
        "    return count"
      ]
    },
    {
      "cell_type": "code",
      "execution_count": 2,
      "metadata": {},
      "outputs": [
        {
          "data": {
            "text/plain": [
              "2"
            ]
          },
          "execution_count": 2,
          "metadata": {},
          "output_type": "execute_result"
        }
      ],
      "source": [
        "players = [4, 7, 9]\n",
        "trainers = [8, 2, 5, 8]\n",
        "Solution().matchPlayersAndTrainers(players=players, trainers=trainers)"
      ]
    },
    {
      "cell_type": "code",
      "execution_count": 3,
      "metadata": {},
      "outputs": [
        {
          "data": {
            "text/plain": [
              "1"
            ]
          },
          "execution_count": 3,
          "metadata": {},
          "output_type": "execute_result"
        }
      ],
      "source": [
        "players = [1, 1, 1]\n",
        "trainers = [10]\n",
        "Solution().matchPlayersAndTrainers(players=players, trainers=trainers)"
      ]
    }
  ],
  "metadata": {
    "kernelspec": {
      "display_name": "Python 3",
      "language": "python",
      "name": "python3"
    },
    "language_info": {
      "codemirror_mode": {
        "name": "ipython",
        "version": 3
      },
      "file_extension": ".py",
      "mimetype": "text/x-python",
      "name": "python",
      "nbconvert_exporter": "python",
      "pygments_lexer": "ipython3",
      "version": "3.12.8"
    }
  },
  "nbformat": 4,
  "nbformat_minor": 2
}
