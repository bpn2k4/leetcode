{
  "cells": [
    {
      "cell_type": "code",
      "execution_count": 1,
      "metadata": {},
      "outputs": [],
      "source": [
        "from typing import List\n",
        "\n",
        "\n",
        "class Solution:\n",
        "  def findDiagonalOrder(self, mat: List[List[int]]) -> List[int]:\n",
        "\n",
        "    if not mat or not mat[0]:\n",
        "      return []\n",
        "\n",
        "    n, m = len(mat), len(mat[0])\n",
        "    result, intermediate = [], []\n",
        "    for d in range(n + m - 1):\n",
        "      intermediate.clear()\n",
        "      r, c = 0 if d < m else d - m + 1, d if d < m else m - 1\n",
        "      while r < n and c > -1:\n",
        "        intermediate.append(mat[r][c])\n",
        "        r += 1\n",
        "        c -= 1\n",
        "      if d % 2 == 0:\n",
        "        result.extend(intermediate[::-1])\n",
        "      else:\n",
        "        result.extend(intermediate)\n",
        "\n",
        "    return result"
      ]
    },
    {
      "cell_type": "code",
      "execution_count": 2,
      "metadata": {},
      "outputs": [
        {
          "data": {
            "text/plain": [
              "[1, 2, 4, 7, 5, 3, 6, 8, 9]"
            ]
          },
          "execution_count": 2,
          "metadata": {},
          "output_type": "execute_result"
        }
      ],
      "source": [
        "mat = [[1, 2, 3], [4, 5, 6], [7, 8, 9]]\n",
        "Solution().findDiagonalOrder(mat=mat)"
      ]
    },
    {
      "cell_type": "code",
      "execution_count": 3,
      "metadata": {},
      "outputs": [
        {
          "data": {
            "text/plain": [
              "[1, 2, 3, 4]"
            ]
          },
          "execution_count": 3,
          "metadata": {},
          "output_type": "execute_result"
        }
      ],
      "source": [
        "mat = [[1, 2], [3, 4]]\n",
        "Solution().findDiagonalOrder(mat=mat)"
      ]
    }
  ],
  "metadata": {
    "kernelspec": {
      "display_name": "Python 3",
      "language": "python",
      "name": "python3"
    },
    "language_info": {
      "codemirror_mode": {
        "name": "ipython",
        "version": 3
      },
      "file_extension": ".py",
      "mimetype": "text/x-python",
      "name": "python",
      "nbconvert_exporter": "python",
      "pygments_lexer": "ipython3",
      "version": "3.12.8"
    }
  },
  "nbformat": 4,
  "nbformat_minor": 2
}
