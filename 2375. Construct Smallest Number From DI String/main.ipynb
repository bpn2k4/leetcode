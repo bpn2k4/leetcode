{
  "cells": [
    {
      "cell_type": "code",
      "execution_count": 1,
      "metadata": {},
      "outputs": [],
      "source": [
        "class Solution:\n",
        "  def smallestNumber(self, pattern: str) -> str:\n",
        "    \n",
        "    n = len(pattern)\n",
        "    answer = ['9' * (n + 1)]\n",
        "    digit2count = {str(i): 1 for i in range(1, 10)}\n",
        "\n",
        "    def backtrack(num):\n",
        "      if len(num) == n + 1:\n",
        "        if num < answer[0]:\n",
        "          answer[0] = num\n",
        "        \n",
        "        return\n",
        "      \n",
        "      for digit in digit2count:\n",
        "        if pattern[len(num) - 1] == 'I':\n",
        "          if digit > num[-1] and digit2count[digit] > 0:\n",
        "            digit2count[digit] -= 1\n",
        "            backtrack(num + digit)\n",
        "            digit2count[digit] += 1\n",
        "        else:\n",
        "          if digit < num[-1] and digit2count[digit] > 0:\n",
        "            digit2count[digit] -= 1\n",
        "            backtrack(num + digit)\n",
        "            digit2count[digit] += 1\n",
        "    \n",
        "    for char in digit2count:\n",
        "      digit2count[char] -= 1\n",
        "      backtrack(char)\n",
        "      digit2count[char] += 1\n",
        "\n",
        "    return answer[0]\n",
        "  \n",
        "  def smallestNumber(self, pattern: str) -> str:\n",
        "    \n",
        "    n = len(pattern)\n",
        "    result = []\n",
        "    stack = []\n",
        "    for i in range(n + 1):\n",
        "      stack.append(str(i + 1))\n",
        "      if i == n or pattern[i] == 'I':\n",
        "        while stack:\n",
        "          result.append(stack.pop())\n",
        "\n",
        "    return ''.join(result)"
      ]
    },
    {
      "cell_type": "code",
      "execution_count": 2,
      "metadata": {},
      "outputs": [
        {
          "data": {
            "text/plain": [
              "'123549876'"
            ]
          },
          "execution_count": 2,
          "metadata": {},
          "output_type": "execute_result"
        }
      ],
      "source": [
        "pattern = \"IIIDIDDD\"\n",
        "Solution().smallestNumber(pattern=pattern)"
      ]
    },
    {
      "cell_type": "code",
      "execution_count": 3,
      "metadata": {},
      "outputs": [
        {
          "data": {
            "text/plain": [
              "'4321'"
            ]
          },
          "execution_count": 3,
          "metadata": {},
          "output_type": "execute_result"
        }
      ],
      "source": [
        "pattern = \"DDD\"\n",
        "Solution().smallestNumber(pattern=pattern)"
      ]
    }
  ],
  "metadata": {
    "kernelspec": {
      "display_name": "Python 3",
      "language": "python",
      "name": "python3"
    },
    "language_info": {
      "codemirror_mode": {
        "name": "ipython",
        "version": 3
      },
      "file_extension": ".py",
      "mimetype": "text/x-python",
      "name": "python",
      "nbconvert_exporter": "python",
      "pygments_lexer": "ipython3",
      "version": "3.12.1"
    }
  },
  "nbformat": 4,
  "nbformat_minor": 2
}
