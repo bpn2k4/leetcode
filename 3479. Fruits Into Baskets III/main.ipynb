{
  "cells": [
    {
      "cell_type": "code",
      "execution_count": 1,
      "metadata": {},
      "outputs": [],
      "source": [
        "from typing import List\n",
        "import math\n",
        "\n",
        "\n",
        "class Solution:\n",
        "  def numOfUnplacedFruits(self, fruits: List[int], baskets: List[int]) -> int:\n",
        "\n",
        "    n = len(baskets)\n",
        "    m = int(math.sqrt(n))\n",
        "    section = (n + m - 1) // m\n",
        "    count = 0\n",
        "    maxV = [0] * section\n",
        "\n",
        "    for i in range(n):\n",
        "      maxV[i // m] = max(maxV[i // m], baskets[i])\n",
        "\n",
        "    for fruit in fruits:\n",
        "      unset = 1\n",
        "      for sec in range(section):\n",
        "        if maxV[sec] < fruit:\n",
        "          continue\n",
        "        choose = 0\n",
        "        maxV[sec] = 0\n",
        "        for i in range(m):\n",
        "          pos = sec * m + i\n",
        "          if pos < n and baskets[pos] >= fruit and not choose:\n",
        "            baskets[pos] = 0\n",
        "            choose = 1\n",
        "          if pos < n:\n",
        "            maxV[sec] = max(maxV[sec], baskets[pos])\n",
        "        unset = 0\n",
        "        break\n",
        "      count += unset\n",
        "      \n",
        "    return count"
      ]
    },
    {
      "cell_type": "code",
      "execution_count": 2,
      "metadata": {},
      "outputs": [
        {
          "data": {
            "text/plain": [
              "1"
            ]
          },
          "execution_count": 2,
          "metadata": {},
          "output_type": "execute_result"
        }
      ],
      "source": [
        "fruits = [4, 2, 5]\n",
        "baskets = [3, 5, 4]\n",
        "Solution().numOfUnplacedFruits(fruits=fruits, baskets=baskets)"
      ]
    },
    {
      "cell_type": "code",
      "execution_count": 3,
      "metadata": {},
      "outputs": [
        {
          "data": {
            "text/plain": [
              "0"
            ]
          },
          "execution_count": 3,
          "metadata": {},
          "output_type": "execute_result"
        }
      ],
      "source": [
        "fruits = [3, 6, 1]\n",
        "baskets = [6, 4, 7]\n",
        "Solution().numOfUnplacedFruits(fruits=fruits, baskets=baskets)"
      ]
    }
  ],
  "metadata": {
    "kernelspec": {
      "display_name": "Python 3",
      "language": "python",
      "name": "python3"
    },
    "language_info": {
      "codemirror_mode": {
        "name": "ipython",
        "version": 3
      },
      "file_extension": ".py",
      "mimetype": "text/x-python",
      "name": "python",
      "nbconvert_exporter": "python",
      "pygments_lexer": "ipython3",
      "version": "3.12.8"
    }
  },
  "nbformat": 4,
  "nbformat_minor": 2
}
