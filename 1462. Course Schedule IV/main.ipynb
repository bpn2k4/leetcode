{
  "cells": [
    {
      "cell_type": "code",
      "execution_count": 1,
      "metadata": {},
      "outputs": [],
      "source": [
        "from typing import List\n",
        "\n",
        "\n",
        "class Solution:\n",
        "  def checkIfPrerequisite(self, numCourses: int, prerequisites: List[List[int]], queries: List[List[int]]) -> List[bool]:\n",
        "    \n",
        "    distances = [[1000 for _ in range(numCourses)] for _ in range(numCourses)]\n",
        "    for u, v in prerequisites:\n",
        "      distances[u][v] = 1\n",
        "    for k in range(numCourses):\n",
        "      for i in range(numCourses):\n",
        "        for j in range(numCourses):\n",
        "          distances[i][j] = min(distances[i][j], distances[i][k] + distances[k][j])\n",
        "\n",
        "    output = []\n",
        "    for start, end in queries:\n",
        "      output.append(distances[start][end] < 1000)\n",
        "\n",
        "    return output\n",
        "  \n",
        "  def checkIfPrerequisite(self, numCourses: int, prerequisites: List[List[int]], queries: List[List[int]]) -> List[bool]:\n",
        "\n",
        "    node2neighbors = {i: [] for i in range(numCourses)}\n",
        "    can_reach = [[False for _ in range(numCourses)] for _ in range(numCourses)]\n",
        "    for u, v in prerequisites:\n",
        "      node2neighbors[u].append(v)\n",
        "\n",
        "    def dfs(start_node: int, node: int, visited: list[bool]) -> bool:\n",
        "\n",
        "      can_reach[start_node][node] = True\n",
        "      visited[node] = True\n",
        "\n",
        "      for neighbor in node2neighbors[node]:\n",
        "        if not visited[neighbor]:\n",
        "          dfs(start_node, neighbor, visited)\n",
        "\n",
        "    for start_node in range(numCourses):\n",
        "      visited = [False] * numCourses\n",
        "      dfs(start_node, start_node, visited)\n",
        "\n",
        "    output = []\n",
        "    for start, end in queries:\n",
        "      output.append(can_reach[start][end])\n",
        "\n",
        "    return output\n"
      ]
    },
    {
      "cell_type": "code",
      "execution_count": 2,
      "metadata": {},
      "outputs": [
        {
          "data": {
            "text/plain": [
              "[False, True]"
            ]
          },
          "execution_count": 2,
          "metadata": {},
          "output_type": "execute_result"
        }
      ],
      "source": [
        "numCourses = 2\n",
        "prerequisites = [[1, 0]]\n",
        "queries = [[0, 1], [1, 0]]\n",
        "Solution().checkIfPrerequisite(numCourses=numCourses, prerequisites=prerequisites, queries=queries)"
      ]
    },
    {
      "cell_type": "code",
      "execution_count": 3,
      "metadata": {},
      "outputs": [
        {
          "data": {
            "text/plain": [
              "[False, False]"
            ]
          },
          "execution_count": 3,
          "metadata": {},
          "output_type": "execute_result"
        }
      ],
      "source": [
        "numCourses = 2\n",
        "prerequisites = []\n",
        "queries = [[1, 0], [0, 1]]\n",
        "Solution().checkIfPrerequisite(numCourses=numCourses, prerequisites=prerequisites, queries=queries)"
      ]
    },
    {
      "cell_type": "code",
      "execution_count": 4,
      "metadata": {},
      "outputs": [
        {
          "data": {
            "text/plain": [
              "[True, True]"
            ]
          },
          "execution_count": 4,
          "metadata": {},
          "output_type": "execute_result"
        }
      ],
      "source": [
        "numCourses = 3\n",
        "prerequisites = [[1, 2], [1, 0], [2, 0]]\n",
        "queries = [[1, 0], [1, 2]]\n",
        "Solution().checkIfPrerequisite(numCourses=numCourses, prerequisites=prerequisites, queries=queries)"
      ]
    }
  ],
  "metadata": {
    "kernelspec": {
      "display_name": "base",
      "language": "python",
      "name": "python3"
    },
    "language_info": {
      "codemirror_mode": {
        "name": "ipython",
        "version": 3
      },
      "file_extension": ".py",
      "mimetype": "text/x-python",
      "name": "python",
      "nbconvert_exporter": "python",
      "pygments_lexer": "ipython3",
      "version": "3.11.7"
    }
  },
  "nbformat": 4,
  "nbformat_minor": 2
}
