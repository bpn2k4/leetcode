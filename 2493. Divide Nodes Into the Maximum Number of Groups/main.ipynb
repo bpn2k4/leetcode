{
  "cells": [
    {
      "cell_type": "code",
      "execution_count": 1,
      "metadata": {},
      "outputs": [],
      "source": [
        "from typing import List\n",
        "from collections import deque\n",
        "\n",
        "\n",
        "class Solution:\n",
        "  def magnificentSets(self, n: int, edges: List[List[int]]) -> int:\n",
        "\n",
        "    node2neighbors = [[] for _ in range(n)]\n",
        "    for u, v in edges:\n",
        "      node2neighbors[u - 1].append(v - 1)\n",
        "      node2neighbors[v - 1].append(u - 1)\n",
        "      \n",
        "    node2color = [-1] * n\n",
        "    components = []\n",
        "    for i in range(n):\n",
        "      if node2color[i] == -1:\n",
        "        components.append([])\n",
        "        if not self.dfs(i, 0, node2neighbors, node2color, components[-1]):\n",
        "          return -1\n",
        "        \n",
        "    maxGroups = 0\n",
        "    for component in components:\n",
        "      maxGroups += self.bfsMaxDepth(component, node2neighbors)\n",
        "\n",
        "    return maxGroups\n",
        "\n",
        "  def dfs(self, node, color, node2neighbors, node2color, component):\n",
        "\n",
        "    node2color[node] = color\n",
        "    component.append(node)\n",
        "    for neighbor in node2neighbors[node]:\n",
        "      if node2color[neighbor] == color:\n",
        "        return False\n",
        "      \n",
        "      if node2color[neighbor] == -1 and not self.dfs(neighbor, 1 - color, node2neighbors, node2color, component):\n",
        "        return False\n",
        "      \n",
        "    return True\n",
        "\n",
        "  def bfsMaxDepth(self, component, node2neighbors):\n",
        "\n",
        "    maxDepth = 0\n",
        "    for start in component:\n",
        "      depth = [-1] * len(node2neighbors)\n",
        "      queue = deque([start])\n",
        "      depth[start] = 0\n",
        "      while queue:\n",
        "        node = queue.popleft()\n",
        "        for neighbor in node2neighbors[node]:\n",
        "          if depth[neighbor] == -1:\n",
        "            depth[neighbor] = depth[node] + 1\n",
        "            queue.append(neighbor)\n",
        "      maxDepth = max(maxDepth, max(depth))\n",
        "\n",
        "    return maxDepth + 1"
      ]
    },
    {
      "cell_type": "code",
      "execution_count": 2,
      "metadata": {},
      "outputs": [
        {
          "data": {
            "text/plain": [
              "4"
            ]
          },
          "execution_count": 2,
          "metadata": {},
          "output_type": "execute_result"
        }
      ],
      "source": [
        "n = 6\n",
        "edges = [[1, 2], [1, 4], [1, 5], [2, 6], [2, 3], [4, 6]]\n",
        "Solution().magnificentSets(n=n, edges=edges)"
      ]
    },
    {
      "cell_type": "code",
      "execution_count": 3,
      "metadata": {},
      "outputs": [
        {
          "data": {
            "text/plain": [
              "-1"
            ]
          },
          "execution_count": 3,
          "metadata": {},
          "output_type": "execute_result"
        }
      ],
      "source": [
        "n = 3\n",
        "edges = [[1, 2], [2, 3], [3, 1]]\n",
        "Solution().magnificentSets(n=n, edges=edges)"
      ]
    }
  ],
  "metadata": {
    "kernelspec": {
      "display_name": "Python 3",
      "language": "python",
      "name": "python3"
    },
    "language_info": {
      "codemirror_mode": {
        "name": "ipython",
        "version": 3
      },
      "file_extension": ".py",
      "mimetype": "text/x-python",
      "name": "python",
      "nbconvert_exporter": "python",
      "pygments_lexer": "ipython3",
      "version": "3.12.8"
    }
  },
  "nbformat": 4,
  "nbformat_minor": 2
}
