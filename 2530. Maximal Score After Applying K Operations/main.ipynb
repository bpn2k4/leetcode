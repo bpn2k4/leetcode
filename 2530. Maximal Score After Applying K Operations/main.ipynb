{
  "cells": [
    {
      "cell_type": "code",
      "execution_count": 1,
      "metadata": {},
      "outputs": [],
      "source": [
        "from typing import List\n",
        "import heapq\n",
        "import math\n",
        "\n",
        "\n",
        "class Solution:\n",
        "  def maxKelements(self, nums: List[int], k: int) -> int:\n",
        "    \n",
        "    score = 0\n",
        "    heap = []\n",
        "    for num in nums:\n",
        "      heapq.heappush(heap, -num)\n",
        "\n",
        "    for _ in range(k):\n",
        "      num = -heapq.heappop(heap)\n",
        "      score += num\n",
        "      heapq.heappush(heap, - (math.ceil(num / 3)))\n",
        "\n",
        "    return score"
      ]
    },
    {
      "cell_type": "code",
      "execution_count": 2,
      "metadata": {},
      "outputs": [
        {
          "data": {
            "text/plain": [
              "50"
            ]
          },
          "execution_count": 2,
          "metadata": {},
          "output_type": "execute_result"
        }
      ],
      "source": [
        "nums = [10, 10, 10, 10, 10]\n",
        "k = 5\n",
        "Solution().maxKelements(nums=nums, k=k)"
      ]
    },
    {
      "cell_type": "code",
      "execution_count": 3,
      "metadata": {},
      "outputs": [
        {
          "data": {
            "text/plain": [
              "17"
            ]
          },
          "execution_count": 3,
          "metadata": {},
          "output_type": "execute_result"
        }
      ],
      "source": [
        "nums = [1, 10, 3, 3, 3]\n",
        "k = 3\n",
        "Solution().maxKelements(nums=nums, k=k)"
      ]
    }
  ],
  "metadata": {
    "kernelspec": {
      "display_name": "base",
      "language": "python",
      "name": "python3"
    },
    "language_info": {
      "codemirror_mode": {
        "name": "ipython",
        "version": 3
      },
      "file_extension": ".py",
      "mimetype": "text/x-python",
      "name": "python",
      "nbconvert_exporter": "python",
      "pygments_lexer": "ipython3",
      "version": "3.11.7"
    }
  },
  "nbformat": 4,
  "nbformat_minor": 2
}
