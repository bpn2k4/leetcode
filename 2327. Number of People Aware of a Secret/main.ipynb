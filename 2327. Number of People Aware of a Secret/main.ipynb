{
  "cells": [
    {
      "cell_type": "code",
      "execution_count": 1,
      "metadata": {},
      "outputs": [],
      "source": [
        "from collections import deque\n",
        "\n",
        "\n",
        "class Solution:\n",
        "  def peopleAwareOfSecret(self, n: int, delay: int, forget: int) -> int:\n",
        "\n",
        "    know, share = deque([(1, 1)]), deque([])\n",
        "    know_cnt, share_cnt = 1, 0\n",
        "    for i in range(2, n + 1):\n",
        "      if know and know[0][0] == i - delay:\n",
        "        know_cnt -= know[0][1]\n",
        "        share_cnt += know[0][1]\n",
        "        share.append(know[0])\n",
        "        know.popleft()\n",
        "      if share and share[0][0] == i - forget:\n",
        "        share_cnt -= share[0][1]\n",
        "        share.popleft()\n",
        "      if share:\n",
        "        know_cnt += share_cnt\n",
        "        know.append((i, share_cnt))\n",
        "        \n",
        "    return (know_cnt + share_cnt) % 1000000007"
      ]
    },
    {
      "cell_type": "code",
      "execution_count": 2,
      "metadata": {},
      "outputs": [
        {
          "data": {
            "text/plain": [
              "5"
            ]
          },
          "execution_count": 2,
          "metadata": {},
          "output_type": "execute_result"
        }
      ],
      "source": [
        "n = 6\n",
        "delay = 2\n",
        "forget = 4\n",
        "Solution().peopleAwareOfSecret(n=n, delay=delay, forget=forget)"
      ]
    },
    {
      "cell_type": "code",
      "execution_count": 3,
      "metadata": {},
      "outputs": [
        {
          "data": {
            "text/plain": [
              "6"
            ]
          },
          "execution_count": 3,
          "metadata": {},
          "output_type": "execute_result"
        }
      ],
      "source": [
        "n = 4\n",
        "delay = 1\n",
        "forget = 3\n",
        "Solution().peopleAwareOfSecret(n=n, delay=delay, forget=forget)"
      ]
    }
  ],
  "metadata": {
    "kernelspec": {
      "display_name": "Python 3",
      "language": "python",
      "name": "python3"
    },
    "language_info": {
      "codemirror_mode": {
        "name": "ipython",
        "version": 3
      },
      "file_extension": ".py",
      "mimetype": "text/x-python",
      "name": "python",
      "nbconvert_exporter": "python",
      "pygments_lexer": "ipython3",
      "version": "3.12.8"
    }
  },
  "nbformat": 4,
  "nbformat_minor": 2
}
