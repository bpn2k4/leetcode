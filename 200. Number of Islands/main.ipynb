{
 "cells": [
  {
   "cell_type": "code",
   "execution_count": 1,
   "metadata": {},
   "outputs": [],
   "source": [
    "from typing import List\n",
    "\n",
    "\n",
    "class Solution:\n",
    "  def numIslands(self, grid: List[List[str]]) -> int:\n",
    "\n",
    "    m = len(grid)\n",
    "    n = len(grid[0])\n",
    "\n",
    "    def bfs(r, c):\n",
    "\n",
    "      queue = [(r, c)]\n",
    "      while queue:\n",
    "        r, c = queue.pop(0)\n",
    "        grid[r][c] = '0'\n",
    "\n",
    "        x1, y1 = r, c - 1\n",
    "        x2, y2 = r, c + 1\n",
    "        x3, y3 = r - 1, c\n",
    "        x4, y4 = r + 1, c\n",
    "\n",
    "        if y1 >= 0 and grid[x1][y1] == '1':\n",
    "          queue.append((x1, y1))\n",
    "        if y2 < n and grid[x2][y2] == '1':\n",
    "          queue.append((x2, y2))\n",
    "        if x3 >= 0 and grid[x3][y3] == '1':\n",
    "          queue.append((x3, y3))\n",
    "        if x4 < m and grid[x4][y4] == '1':\n",
    "          queue.append((x4, y4))\n",
    "\n",
    "    count = 0\n",
    "    for i in range(m):\n",
    "      for j in range(n):\n",
    "        if grid[i][j] == '1':\n",
    "          bfs(i, j)\n",
    "          count += 1\n",
    "\n",
    "    return count\n",
    "\n",
    "  def numIslands(self, grid: List[List[str]]) -> int:\n",
    "\n",
    "    m = len(grid)\n",
    "    n = len(grid[0])\n",
    "\n",
    "    def dfs(r, c):\n",
    "      \n",
    "      grid[r][c] = '0'\n",
    "      x1, y1 = r, c - 1\n",
    "      x2, y2 = r, c + 1\n",
    "      x3, y3 = r - 1, c\n",
    "      x4, y4 = r + 1, c\n",
    "\n",
    "      if y1 >= 0 and grid[x1][y1] == '1':\n",
    "        dfs(x1, y1)\n",
    "      if y2 < n and grid[x2][y2] == '1':\n",
    "        dfs(x2, y2)\n",
    "      if x3 >= 0 and grid[x3][y3] == '1':\n",
    "        dfs(x3, y3)\n",
    "      if x4 < m and grid[x4][y4] == '1':\n",
    "        dfs(x4, y4)\n",
    "\n",
    "\n",
    "    count = 0\n",
    "    for i in range(m):\n",
    "      for j in range(n):\n",
    "        if grid[i][j] == '1':\n",
    "          dfs(i, j)\n",
    "          count += 1\n",
    "\n",
    "    return count"
   ]
  },
  {
   "cell_type": "code",
   "execution_count": 2,
   "metadata": {},
   "outputs": [
    {
     "data": {
      "text/plain": [
       "1"
      ]
     },
     "execution_count": 2,
     "metadata": {},
     "output_type": "execute_result"
    }
   ],
   "source": [
    "Solution().numIslands(\n",
    "    grid=[\n",
    "        [\"1\", \"1\", \"1\", \"1\", \"0\"],\n",
    "        [\"1\", \"1\", \"0\", \"1\", \"0\"],\n",
    "        [\"1\", \"1\", \"0\", \"0\", \"0\"],\n",
    "        [\"0\", \"0\", \"0\", \"0\", \"0\"]\n",
    "    ]\n",
    ")"
   ]
  },
  {
   "cell_type": "code",
   "execution_count": 3,
   "metadata": {},
   "outputs": [
    {
     "data": {
      "text/plain": [
       "3"
      ]
     },
     "execution_count": 3,
     "metadata": {},
     "output_type": "execute_result"
    }
   ],
   "source": [
    "Solution().numIslands(\n",
    "    grid=[\n",
    "        [\"1\", \"1\", \"0\", \"0\", \"0\"],\n",
    "        [\"1\", \"1\", \"0\", \"0\", \"0\"],\n",
    "        [\"0\", \"0\", \"1\", \"0\", \"0\"],\n",
    "        [\"0\", \"0\", \"0\", \"1\", \"1\"]\n",
    "    ]\n",
    ")"
   ]
  }
 ],
 "metadata": {
  "kernelspec": {
   "display_name": "base",
   "language": "python",
   "name": "python3"
  },
  "language_info": {
   "codemirror_mode": {
    "name": "ipython",
    "version": 3
   },
   "file_extension": ".py",
   "mimetype": "text/x-python",
   "name": "python",
   "nbconvert_exporter": "python",
   "pygments_lexer": "ipython3",
   "version": "3.11.7"
  }
 },
 "nbformat": 4,
 "nbformat_minor": 2
}
