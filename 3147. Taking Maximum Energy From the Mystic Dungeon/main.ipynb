{
  "cells": [
    {
      "cell_type": "code",
      "execution_count": null,
      "metadata": {},
      "outputs": [],
      "source": [
        "from typing import List\n",
        "\n",
        "\n",
        "class Solution:\n",
        "  def maximumEnergy(self, energy: List[int], k: int) -> int:\n",
        "\n",
        "    n = len(energy)\n",
        "    ans = -999999999999\n",
        "    for i in range(n - k, n):\n",
        "      total = 0\n",
        "      j = i\n",
        "      while j >= 0:\n",
        "        total += energy[j]\n",
        "        ans = max(ans, total)\n",
        "        j -= k\n",
        "\n",
        "    return ans"
      ]
    },
    {
      "cell_type": "code",
      "execution_count": null,
      "metadata": {},
      "outputs": [],
      "source": [
        "energy = [5, 2, -10, -5, 1]\n",
        "k = 3\n",
        "Solution().maximumEnergy(energy=energy, k=k)"
      ]
    },
    {
      "cell_type": "code",
      "execution_count": null,
      "metadata": {},
      "outputs": [],
      "source": [
        "energy = [-2, -3, -1]\n",
        "k = 2\n",
        "Solution().maximumEnergy(energy=energy, k=k)"
      ]
    }
  ],
  "metadata": {
    "kernelspec": {
      "display_name": "Python 3",
      "language": "python",
      "name": "python3"
    },
    "language_info": {
      "codemirror_mode": {
        "name": "ipython",
        "version": 3
      },
      "file_extension": ".py",
      "mimetype": "text/x-python",
      "name": "python",
      "nbconvert_exporter": "python",
      "pygments_lexer": "ipython3",
      "version": "3.12.8"
    }
  },
  "nbformat": 4,
  "nbformat_minor": 2
}
